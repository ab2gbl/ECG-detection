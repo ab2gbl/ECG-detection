{
 "cells": [
  {
   "cell_type": "code",
   "execution_count": 1,
   "id": "c65e0b75",
   "metadata": {
    "execution": {
     "iopub.execute_input": "2025-06-14T16:29:36.120178Z",
     "iopub.status.busy": "2025-06-14T16:29:36.119871Z",
     "iopub.status.idle": "2025-06-14T16:29:43.844948Z",
     "shell.execute_reply": "2025-06-14T16:29:43.843798Z"
    },
    "papermill": {
     "duration": 7.737819,
     "end_time": "2025-06-14T16:29:43.846942",
     "exception": false,
     "start_time": "2025-06-14T16:29:36.109123",
     "status": "completed"
    },
    "tags": []
   },
   "outputs": [
    {
     "name": "stdout",
     "output_type": "stream",
     "text": [
      "Requirement already satisfied: pip in /usr/local/lib/python3.11/dist-packages (24.1.2)\r\n",
      "Collecting pip\r\n",
      "  Downloading pip-25.1.1-py3-none-any.whl.metadata (3.6 kB)\r\n",
      "Downloading pip-25.1.1-py3-none-any.whl (1.8 MB)\r\n",
      "\u001b[2K   \u001b[90m━━━━━━━━━━━━━━━━━━━━━━━━━━━━━━━━━━━━━━━━\u001b[0m \u001b[32m1.8/1.8 MB\u001b[0m \u001b[31m19.9 MB/s\u001b[0m eta \u001b[36m0:00:00\u001b[0m\r\n",
      "\u001b[?25hInstalling collected packages: pip\r\n",
      "  Attempting uninstall: pip\r\n",
      "    Found existing installation: pip 24.1.2\r\n",
      "    Uninstalling pip-24.1.2:\r\n",
      "      Successfully uninstalled pip-24.1.2\r\n",
      "Successfully installed pip-25.1.1\r\n"
     ]
    }
   ],
   "source": [
    "!pip install --upgrade pip"
   ]
  },
  {
   "cell_type": "code",
   "execution_count": 2,
   "id": "0342e171",
   "metadata": {
    "execution": {
     "iopub.execute_input": "2025-06-14T16:29:43.867796Z",
     "iopub.status.busy": "2025-06-14T16:29:43.867464Z",
     "iopub.status.idle": "2025-06-14T16:29:50.925311Z",
     "shell.execute_reply": "2025-06-14T16:29:50.924208Z"
    },
    "papermill": {
     "duration": 7.06938,
     "end_time": "2025-06-14T16:29:50.927509",
     "exception": false,
     "start_time": "2025-06-14T16:29:43.858129",
     "status": "completed"
    },
    "tags": []
   },
   "outputs": [
    {
     "name": "stdout",
     "output_type": "stream",
     "text": [
      "Collecting scikit-learn==1.6.1\r\n",
      "  Downloading scikit_learn-1.6.1-cp311-cp311-manylinux_2_17_x86_64.manylinux2014_x86_64.whl.metadata (18 kB)\r\n",
      "Requirement already satisfied: numpy>=1.19.5 in /usr/local/lib/python3.11/dist-packages (from scikit-learn==1.6.1) (1.26.4)\r\n",
      "Requirement already satisfied: scipy>=1.6.0 in /usr/local/lib/python3.11/dist-packages (from scikit-learn==1.6.1) (1.15.2)\r\n",
      "Requirement already satisfied: joblib>=1.2.0 in /usr/local/lib/python3.11/dist-packages (from scikit-learn==1.6.1) (1.4.2)\r\n",
      "Requirement already satisfied: threadpoolctl>=3.1.0 in /usr/local/lib/python3.11/dist-packages (from scikit-learn==1.6.1) (3.6.0)\r\n",
      "Requirement already satisfied: mkl_fft in /usr/local/lib/python3.11/dist-packages (from numpy>=1.19.5->scikit-learn==1.6.1) (1.3.8)\r\n",
      "Requirement already satisfied: mkl_random in /usr/local/lib/python3.11/dist-packages (from numpy>=1.19.5->scikit-learn==1.6.1) (1.2.4)\r\n",
      "Requirement already satisfied: mkl_umath in /usr/local/lib/python3.11/dist-packages (from numpy>=1.19.5->scikit-learn==1.6.1) (0.1.1)\r\n",
      "Requirement already satisfied: mkl in /usr/local/lib/python3.11/dist-packages (from numpy>=1.19.5->scikit-learn==1.6.1) (2025.1.0)\r\n",
      "Requirement already satisfied: tbb4py in /usr/local/lib/python3.11/dist-packages (from numpy>=1.19.5->scikit-learn==1.6.1) (2022.1.0)\r\n",
      "Requirement already satisfied: mkl-service in /usr/local/lib/python3.11/dist-packages (from numpy>=1.19.5->scikit-learn==1.6.1) (2.4.1)\r\n",
      "Requirement already satisfied: intel-openmp<2026,>=2024 in /usr/local/lib/python3.11/dist-packages (from mkl->numpy>=1.19.5->scikit-learn==1.6.1) (2024.2.0)\r\n",
      "Requirement already satisfied: tbb==2022.* in /usr/local/lib/python3.11/dist-packages (from mkl->numpy>=1.19.5->scikit-learn==1.6.1) (2022.1.0)\r\n",
      "Requirement already satisfied: intel-cmplr-lib-ur==2024.2.0 in /usr/local/lib/python3.11/dist-packages (from intel-openmp<2026,>=2024->mkl->numpy>=1.19.5->scikit-learn==1.6.1) (2024.2.0)\r\n",
      "Requirement already satisfied: tcmlib==1.* in /usr/local/lib/python3.11/dist-packages (from tbb==2022.*->mkl->numpy>=1.19.5->scikit-learn==1.6.1) (1.2.0)\r\n",
      "Requirement already satisfied: intel-cmplr-lib-rt in /usr/local/lib/python3.11/dist-packages (from mkl_umath->numpy>=1.19.5->scikit-learn==1.6.1) (2024.2.0)\r\n",
      "Downloading scikit_learn-1.6.1-cp311-cp311-manylinux_2_17_x86_64.manylinux2014_x86_64.whl (13.5 MB)\r\n",
      "\u001b[2K   \u001b[90m━━━━━━━━━━━━━━━━━━━━━━━━━━━━━━━━━━━━━━━━\u001b[0m \u001b[32m13.5/13.5 MB\u001b[0m \u001b[31m82.0 MB/s\u001b[0m eta \u001b[36m0:00:00\u001b[0m\r\n",
      "\u001b[?25hInstalling collected packages: scikit-learn\r\n",
      "  Attempting uninstall: scikit-learn\r\n",
      "    Found existing installation: scikit-learn 1.2.2\r\n",
      "    Uninstalling scikit-learn-1.2.2:\r\n",
      "      Successfully uninstalled scikit-learn-1.2.2\r\n",
      "\u001b[31mERROR: pip's dependency resolver does not currently take into account all the packages that are installed. This behaviour is the source of the following dependency conflicts.\r\n",
      "category-encoders 2.7.0 requires scikit-learn<1.6.0,>=1.0.0, but you have scikit-learn 1.6.1 which is incompatible.\r\n",
      "bigframes 1.36.0 requires rich<14,>=12.4.4, but you have rich 14.0.0 which is incompatible.\u001b[0m\u001b[31m\r\n",
      "\u001b[0mSuccessfully installed scikit-learn-1.6.1\r\n"
     ]
    }
   ],
   "source": [
    "!pip install scikit-learn==1.6.1"
   ]
  },
  {
   "cell_type": "code",
   "execution_count": 3,
   "id": "556216f5",
   "metadata": {
    "execution": {
     "iopub.execute_input": "2025-06-14T16:29:50.947086Z",
     "iopub.status.busy": "2025-06-14T16:29:50.946780Z",
     "iopub.status.idle": "2025-06-14T16:30:03.710703Z",
     "shell.execute_reply": "2025-06-14T16:30:03.709209Z"
    },
    "papermill": {
     "duration": 12.775986,
     "end_time": "2025-06-14T16:30:03.712564",
     "exception": false,
     "start_time": "2025-06-14T16:29:50.936578",
     "status": "completed"
    },
    "tags": []
   },
   "outputs": [
    {
     "name": "stdout",
     "output_type": "stream",
     "text": [
      "Collecting xgboost==2.1.4\r\n",
      "  Downloading xgboost-2.1.4-py3-none-manylinux_2_28_x86_64.whl.metadata (2.1 kB)\r\n",
      "Requirement already satisfied: numpy in /usr/local/lib/python3.11/dist-packages (from xgboost==2.1.4) (1.26.4)\r\n",
      "Requirement already satisfied: nvidia-nccl-cu12 in /usr/local/lib/python3.11/dist-packages (from xgboost==2.1.4) (2.21.5)\r\n",
      "Requirement already satisfied: scipy in /usr/local/lib/python3.11/dist-packages (from xgboost==2.1.4) (1.15.2)\r\n",
      "Requirement already satisfied: mkl_fft in /usr/local/lib/python3.11/dist-packages (from numpy->xgboost==2.1.4) (1.3.8)\r\n",
      "Requirement already satisfied: mkl_random in /usr/local/lib/python3.11/dist-packages (from numpy->xgboost==2.1.4) (1.2.4)\r\n",
      "Requirement already satisfied: mkl_umath in /usr/local/lib/python3.11/dist-packages (from numpy->xgboost==2.1.4) (0.1.1)\r\n",
      "Requirement already satisfied: mkl in /usr/local/lib/python3.11/dist-packages (from numpy->xgboost==2.1.4) (2025.1.0)\r\n",
      "Requirement already satisfied: tbb4py in /usr/local/lib/python3.11/dist-packages (from numpy->xgboost==2.1.4) (2022.1.0)\r\n",
      "Requirement already satisfied: mkl-service in /usr/local/lib/python3.11/dist-packages (from numpy->xgboost==2.1.4) (2.4.1)\r\n",
      "Requirement already satisfied: intel-openmp<2026,>=2024 in /usr/local/lib/python3.11/dist-packages (from mkl->numpy->xgboost==2.1.4) (2024.2.0)\r\n",
      "Requirement already satisfied: tbb==2022.* in /usr/local/lib/python3.11/dist-packages (from mkl->numpy->xgboost==2.1.4) (2022.1.0)\r\n",
      "Requirement already satisfied: intel-cmplr-lib-ur==2024.2.0 in /usr/local/lib/python3.11/dist-packages (from intel-openmp<2026,>=2024->mkl->numpy->xgboost==2.1.4) (2024.2.0)\r\n",
      "Requirement already satisfied: tcmlib==1.* in /usr/local/lib/python3.11/dist-packages (from tbb==2022.*->mkl->numpy->xgboost==2.1.4) (1.2.0)\r\n",
      "Requirement already satisfied: intel-cmplr-lib-rt in /usr/local/lib/python3.11/dist-packages (from mkl_umath->numpy->xgboost==2.1.4) (2024.2.0)\r\n",
      "Downloading xgboost-2.1.4-py3-none-manylinux_2_28_x86_64.whl (223.6 MB)\r\n",
      "\u001b[2K   \u001b[90m━━━━━━━━━━━━━━━━━━━━━━━━━━━━━━━━━━━━━━━━\u001b[0m \u001b[32m223.6/223.6 MB\u001b[0m \u001b[31m93.5 MB/s\u001b[0m eta \u001b[36m0:00:00\u001b[0m\r\n",
      "\u001b[?25hInstalling collected packages: xgboost\r\n",
      "  Attempting uninstall: xgboost\r\n",
      "    Found existing installation: xgboost 2.0.3\r\n",
      "    Uninstalling xgboost-2.0.3:\r\n",
      "      Successfully uninstalled xgboost-2.0.3\r\n",
      "Successfully installed xgboost-2.1.4\r\n"
     ]
    }
   ],
   "source": [
    "!pip install xgboost==2.1.4"
   ]
  },
  {
   "cell_type": "code",
   "execution_count": 4,
   "id": "184c8c3d",
   "metadata": {
    "execution": {
     "iopub.execute_input": "2025-06-14T16:30:03.733451Z",
     "iopub.status.busy": "2025-06-14T16:30:03.733130Z",
     "iopub.status.idle": "2025-06-14T16:30:07.587219Z",
     "shell.execute_reply": "2025-06-14T16:30:07.586099Z"
    },
    "papermill": {
     "duration": 3.866639,
     "end_time": "2025-06-14T16:30:07.588960",
     "exception": false,
     "start_time": "2025-06-14T16:30:03.722321",
     "status": "completed"
    },
    "tags": []
   },
   "outputs": [
    {
     "name": "stdout",
     "output_type": "stream",
     "text": [
      "1.6.1\n",
      "2.1.4\n"
     ]
    }
   ],
   "source": [
    "import sklearn \n",
    "import xgboost\n",
    "print(sklearn.__version__)\n",
    "print(xgboost.__version__)\n"
   ]
  },
  {
   "cell_type": "code",
   "execution_count": 5,
   "id": "f5043ea0",
   "metadata": {
    "execution": {
     "iopub.execute_input": "2025-06-14T16:30:07.609853Z",
     "iopub.status.busy": "2025-06-14T16:30:07.609359Z",
     "iopub.status.idle": "2025-06-14T16:30:10.549151Z",
     "shell.execute_reply": "2025-06-14T16:30:10.548259Z"
    },
    "papermill": {
     "duration": 2.951998,
     "end_time": "2025-06-14T16:30:10.550793",
     "exception": false,
     "start_time": "2025-06-14T16:30:07.598795",
     "status": "completed"
    },
    "tags": []
   },
   "outputs": [
    {
     "data": {
      "text/plain": [
       "record_name             training/georgia/g8/E07496\n",
       "Duree_QRS_ms_mean                            168.8\n",
       "Duree_QRS_ms_std                         17.364075\n",
       "Duree_QRS_ms_min                             148.0\n",
       "Duree_QRS_ms_max                             196.0\n",
       "                                   ...            \n",
       "std_Intervalle_RR_ms                     70.826862\n",
       "Age                                           55.0\n",
       "Sex                                         Female\n",
       "Dx                                   ['426783006']\n",
       "Class                                            0\n",
       "Name: 0, Length: 100, dtype: object"
      ]
     },
     "execution_count": 5,
     "metadata": {},
     "output_type": "execute_result"
    }
   ],
   "source": [
    "import pandas as pd\n",
    "from tqdm import tqdm  # optional: for progress bar\n",
    "\n",
    "origin_comp_df = pd.read_csv(\"/kaggle/input/merge-comp-2021-new/ecg-comp-2021-signals-features.csv\")\n",
    "\n",
    "origin_comp_df.iloc[0]"
   ]
  },
  {
   "cell_type": "code",
   "execution_count": 6,
   "id": "998c9fd3",
   "metadata": {
    "execution": {
     "iopub.execute_input": "2025-06-14T16:30:10.572386Z",
     "iopub.status.busy": "2025-06-14T16:30:10.572067Z",
     "iopub.status.idle": "2025-06-14T16:30:10.579749Z",
     "shell.execute_reply": "2025-06-14T16:30:10.578868Z"
    },
    "papermill": {
     "duration": 0.020034,
     "end_time": "2025-06-14T16:30:10.581544",
     "exception": false,
     "start_time": "2025-06-14T16:30:10.561510",
     "status": "completed"
    },
    "tags": []
   },
   "outputs": [
    {
     "data": {
      "text/plain": [
       "Index(['record_name', 'Duree_QRS_ms_mean', 'Duree_QRS_ms_std',\n",
       "       'Duree_QRS_ms_min', 'Duree_QRS_ms_max', 'Duree_P_ms_mean',\n",
       "       'Duree_P_ms_std', 'Duree_P_ms_min', 'Duree_P_ms_max', 'Duree_T_ms_mean',\n",
       "       'Duree_T_ms_std', 'Duree_T_ms_min', 'Duree_T_ms_max',\n",
       "       'Intervalle_QT_ms_mean', 'Intervalle_QT_ms_std', 'Intervalle_QT_ms_min',\n",
       "       'Intervalle_QT_ms_max', 'Intervalle_PR_ms_mean', 'Intervalle_PR_ms_std',\n",
       "       'Intervalle_PR_ms_min', 'Intervalle_PR_ms_max', 'Intervalle_ST_ms_mean',\n",
       "       'Intervalle_ST_ms_std', 'Intervalle_ST_ms_min', 'Intervalle_ST_ms_max',\n",
       "       'Amplitude_P_mean', 'Amplitude_P_std', 'Amplitude_P_min',\n",
       "       'Amplitude_P_max', 'Amplitude_Q_mean', 'Amplitude_Q_std',\n",
       "       'Amplitude_Q_min', 'Amplitude_Q_max', 'Amplitude_R_mean',\n",
       "       'Amplitude_R_std', 'Amplitude_R_min', 'Amplitude_R_max',\n",
       "       'Amplitude_S_mean', 'Amplitude_S_std', 'Amplitude_S_min',\n",
       "       'Amplitude_S_max', 'Amplitude_T_mean', 'Amplitude_T_std',\n",
       "       'Amplitude_T_min', 'Amplitude_T_max', 'T/R_ratio_mean', 'T/R_ratio_std',\n",
       "       'T/R_ratio_min', 'T/R_ratio_max', 'P/R_ratio_mean', 'P/R_ratio_std',\n",
       "       'P/R_ratio_min', 'P/R_ratio_max', 'QRS_area_mean', 'QRS_area_std',\n",
       "       'QRS_area_min', 'QRS_area_max', 'Slope_QR_mean', 'Slope_QR_std',\n",
       "       'Slope_QR_min', 'Slope_QR_max', 'Slope_RS_mean', 'Slope_RS_std',\n",
       "       'Slope_RS_min', 'Slope_RS_max', 'Heart_rate_bpm_mean',\n",
       "       'Heart_rate_bpm_std', 'Heart_rate_bpm_min', 'Heart_rate_bpm_max',\n",
       "       'Local_RMSSD_mean', 'Local_RMSSD_std', 'Local_RMSSD_min',\n",
       "       'Local_RMSSD_max', 'T_inversion_mean', 'T_inversion_sum',\n",
       "       'Premature_beat_sum', 'Bigeminy_sum', 'Trigeminy_sum', 'count_N',\n",
       "       'count_L', 'count_R', 'count_/', 'count_V', 'count_else', 'ratio_N',\n",
       "       'ratio_L', 'ratio_R', 'ratio_/', 'ratio_V', 'ratio_else',\n",
       "       'percent_T_inversion', 'QRS_prolonged_ratio', 'QT_prolonged_ratio',\n",
       "       'PVC_ratio', 'num_beats', 'std_Intervalle_RR_ms', 'Age', 'Sex', 'Dx',\n",
       "       'Class'],\n",
       "      dtype='object')"
      ]
     },
     "execution_count": 6,
     "metadata": {},
     "output_type": "execute_result"
    }
   ],
   "source": [
    "origin_comp_df.columns"
   ]
  },
  {
   "cell_type": "code",
   "execution_count": 7,
   "id": "5eb6eab8",
   "metadata": {
    "execution": {
     "iopub.execute_input": "2025-06-14T16:30:10.611604Z",
     "iopub.status.busy": "2025-06-14T16:30:10.611175Z",
     "iopub.status.idle": "2025-06-14T16:30:10.626164Z",
     "shell.execute_reply": "2025-06-14T16:30:10.625294Z"
    },
    "papermill": {
     "duration": 0.0278,
     "end_time": "2025-06-14T16:30:10.627842",
     "exception": false,
     "start_time": "2025-06-14T16:30:10.600042",
     "status": "completed"
    },
    "tags": []
   },
   "outputs": [
    {
     "data": {
      "text/plain": [
       "Class\n",
       "2    40705\n",
       "0    28967\n",
       "1    18559\n",
       "Name: count, dtype: int64"
      ]
     },
     "execution_count": 7,
     "metadata": {},
     "output_type": "execute_result"
    }
   ],
   "source": [
    "origin_comp_df[\"Class\"].value_counts()"
   ]
  },
  {
   "cell_type": "markdown",
   "id": "677cfe65",
   "metadata": {
    "papermill": {
     "duration": 0.009755,
     "end_time": "2025-06-14T16:30:10.647763",
     "exception": false,
     "start_time": "2025-06-14T16:30:10.638008",
     "status": "completed"
    },
    "tags": []
   },
   "source": [
    "# MIT-BIH norm"
   ]
  },
  {
   "cell_type": "code",
   "execution_count": 8,
   "id": "e17653f9",
   "metadata": {
    "execution": {
     "iopub.execute_input": "2025-06-14T16:30:10.669260Z",
     "iopub.status.busy": "2025-06-14T16:30:10.668848Z",
     "iopub.status.idle": "2025-06-14T16:30:11.282701Z",
     "shell.execute_reply": "2025-06-14T16:30:11.281650Z"
    },
    "papermill": {
     "duration": 0.626803,
     "end_time": "2025-06-14T16:30:11.284577",
     "exception": false,
     "start_time": "2025-06-14T16:30:10.657774",
     "status": "completed"
    },
    "tags": []
   },
   "outputs": [],
   "source": [
    "origin_mitbih_df = pd.read_csv(\"/kaggle/input/merge-norm-mitbih-new/norm-mit-signals-features.csv\") "
   ]
  },
  {
   "cell_type": "code",
   "execution_count": 9,
   "id": "bfb44c7d",
   "metadata": {
    "execution": {
     "iopub.execute_input": "2025-06-14T16:30:11.307756Z",
     "iopub.status.busy": "2025-06-14T16:30:11.307471Z",
     "iopub.status.idle": "2025-06-14T16:30:11.314958Z",
     "shell.execute_reply": "2025-06-14T16:30:11.314042Z"
    },
    "papermill": {
     "duration": 0.021558,
     "end_time": "2025-06-14T16:30:11.316299",
     "exception": false,
     "start_time": "2025-06-14T16:30:11.294741",
     "status": "completed"
    },
    "tags": []
   },
   "outputs": [
    {
     "data": {
      "text/plain": [
       "Class\n",
       "0    20233\n",
       "Name: count, dtype: int64"
      ]
     },
     "execution_count": 9,
     "metadata": {},
     "output_type": "execute_result"
    }
   ],
   "source": [
    "origin_mitbih_df[\"Class\"].value_counts()\n"
   ]
  },
  {
   "cell_type": "markdown",
   "id": "98929949",
   "metadata": {
    "papermill": {
     "duration": 0.009587,
     "end_time": "2025-06-14T16:30:11.336205",
     "exception": false,
     "start_time": "2025-06-14T16:30:11.326618",
     "status": "completed"
    },
    "tags": []
   },
   "source": [
    "# ecg arr"
   ]
  },
  {
   "cell_type": "code",
   "execution_count": 10,
   "id": "87ab3869",
   "metadata": {
    "execution": {
     "iopub.execute_input": "2025-06-14T16:30:11.356815Z",
     "iopub.status.busy": "2025-06-14T16:30:11.356520Z",
     "iopub.status.idle": "2025-06-14T16:30:12.674443Z",
     "shell.execute_reply": "2025-06-14T16:30:12.673517Z"
    },
    "papermill": {
     "duration": 1.330193,
     "end_time": "2025-06-14T16:30:12.676031",
     "exception": false,
     "start_time": "2025-06-14T16:30:11.345838",
     "status": "completed"
    },
    "tags": []
   },
   "outputs": [
    {
     "data": {
      "text/plain": [
       "Class\n",
       "2    20461\n",
       "1    16553\n",
       "0     8125\n",
       "Name: count, dtype: int64"
      ]
     },
     "execution_count": 10,
     "metadata": {},
     "output_type": "execute_result"
    }
   ],
   "source": [
    "origin_ecgarr_df = pd.read_csv(\"/kaggle/input/ecg-arr-features/ecg-arr-signals-features.csv\") \n",
    "\n",
    "origin_ecgarr_df[\"Class\"].value_counts()\n"
   ]
  },
  {
   "cell_type": "markdown",
   "id": "82b8f47b",
   "metadata": {
    "papermill": {
     "duration": 0.009731,
     "end_time": "2025-06-14T16:30:12.696093",
     "exception": false,
     "start_time": "2025-06-14T16:30:12.686362",
     "status": "completed"
    },
    "tags": []
   },
   "source": [
    "# challenge 2017\n"
   ]
  },
  {
   "cell_type": "code",
   "execution_count": 11,
   "id": "7f429959",
   "metadata": {
    "execution": {
     "iopub.execute_input": "2025-06-14T16:30:12.717324Z",
     "iopub.status.busy": "2025-06-14T16:30:12.717034Z",
     "iopub.status.idle": "2025-06-14T16:30:13.006919Z",
     "shell.execute_reply": "2025-06-14T16:30:13.005880Z"
    },
    "papermill": {
     "duration": 0.30296,
     "end_time": "2025-06-14T16:30:13.008855",
     "exception": false,
     "start_time": "2025-06-14T16:30:12.705895",
     "status": "completed"
    },
    "tags": []
   },
   "outputs": [
    {
     "data": {
      "text/plain": [
       "8527"
      ]
     },
     "execution_count": 11,
     "metadata": {},
     "output_type": "execute_result"
    }
   ],
   "source": [
    "origin_ch2017_df = pd.read_csv(\"/kaggle/input/merge-challenge-2017-new/challenge-2017-signals-features.csv\") \n",
    "len(origin_ch2017_df)\n"
   ]
  },
  {
   "cell_type": "code",
   "execution_count": 12,
   "id": "8bc8f9d3",
   "metadata": {
    "execution": {
     "iopub.execute_input": "2025-06-14T16:30:13.031988Z",
     "iopub.status.busy": "2025-06-14T16:30:13.031596Z",
     "iopub.status.idle": "2025-06-14T16:30:13.049767Z",
     "shell.execute_reply": "2025-06-14T16:30:13.048682Z"
    },
    "papermill": {
     "duration": 0.032137,
     "end_time": "2025-06-14T16:30:13.051805",
     "exception": false,
     "start_time": "2025-06-14T16:30:13.019668",
     "status": "completed"
    },
    "tags": []
   },
   "outputs": [],
   "source": [
    "origin_ch2017_df['Class'] = origin_ch2017_df['type'].apply(lambda x: 0 if x == 'N' else 2)\n",
    "origin_ch2017_df = origin_ch2017_df.drop(columns=['type'])"
   ]
  },
  {
   "cell_type": "code",
   "execution_count": 13,
   "id": "02ee0cf6",
   "metadata": {
    "execution": {
     "iopub.execute_input": "2025-06-14T16:30:13.075090Z",
     "iopub.status.busy": "2025-06-14T16:30:13.074688Z",
     "iopub.status.idle": "2025-06-14T16:30:13.083181Z",
     "shell.execute_reply": "2025-06-14T16:30:13.082171Z"
    },
    "papermill": {
     "duration": 0.02203,
     "end_time": "2025-06-14T16:30:13.084706",
     "exception": false,
     "start_time": "2025-06-14T16:30:13.062676",
     "status": "completed"
    },
    "tags": []
   },
   "outputs": [
    {
     "data": {
      "text/plain": [
       "Class\n",
       "0    5075\n",
       "2    3452\n",
       "Name: count, dtype: int64"
      ]
     },
     "execution_count": 13,
     "metadata": {},
     "output_type": "execute_result"
    }
   ],
   "source": [
    "origin_ch2017_df[\"Class\"].value_counts()"
   ]
  },
  {
   "cell_type": "markdown",
   "id": "2cabd574",
   "metadata": {
    "papermill": {
     "duration": 0.009988,
     "end_time": "2025-06-14T16:30:13.105514",
     "exception": false,
     "start_time": "2025-06-14T16:30:13.095526",
     "status": "completed"
    },
    "tags": []
   },
   "source": [
    "# full data"
   ]
  },
  {
   "cell_type": "code",
   "execution_count": 14,
   "id": "c0cd195e",
   "metadata": {
    "execution": {
     "iopub.execute_input": "2025-06-14T16:30:13.204588Z",
     "iopub.status.busy": "2025-06-14T16:30:13.204164Z",
     "iopub.status.idle": "2025-06-14T16:30:13.260146Z",
     "shell.execute_reply": "2025-06-14T16:30:13.259047Z"
    },
    "papermill": {
     "duration": 0.146453,
     "end_time": "2025-06-14T16:30:13.262280",
     "exception": false,
     "start_time": "2025-06-14T16:30:13.115827",
     "status": "completed"
    },
    "tags": []
   },
   "outputs": [],
   "source": [
    "arr3 = [origin_comp_df,origin_mitbih_df]\n",
    "#arr3 = [origin_comp_df]\n",
    "\n",
    "sign_df = pd.concat(arr3, ignore_index=True)"
   ]
  },
  {
   "cell_type": "code",
   "execution_count": 15,
   "id": "e49b9398",
   "metadata": {
    "execution": {
     "iopub.execute_input": "2025-06-14T16:30:13.284758Z",
     "iopub.status.busy": "2025-06-14T16:30:13.284289Z",
     "iopub.status.idle": "2025-06-14T16:30:13.385066Z",
     "shell.execute_reply": "2025-06-14T16:30:13.383943Z"
    },
    "papermill": {
     "duration": 0.11431,
     "end_time": "2025-06-14T16:30:13.386959",
     "exception": false,
     "start_time": "2025-06-14T16:30:13.272649",
     "status": "completed"
    },
    "tags": []
   },
   "outputs": [],
   "source": [
    "arr4 = [origin_comp_df,origin_mitbih_df,origin_ecgarr_df,origin_ch2017_df]\n",
    "#arr4 = [origin_comp_df,origin_mitbih_df,origin_ch2017_df]\n",
    "\n",
    "#arr3 = [origin_comp_df]\n",
    "\n",
    "sign_df2 = pd.concat(arr4, ignore_index=True)"
   ]
  },
  {
   "cell_type": "code",
   "execution_count": 16,
   "id": "a726e6d1",
   "metadata": {
    "execution": {
     "iopub.execute_input": "2025-06-14T16:30:13.410507Z",
     "iopub.status.busy": "2025-06-14T16:30:13.410045Z",
     "iopub.status.idle": "2025-06-14T16:30:13.592667Z",
     "shell.execute_reply": "2025-06-14T16:30:13.591451Z"
    },
    "papermill": {
     "duration": 0.197128,
     "end_time": "2025-06-14T16:30:13.594994",
     "exception": false,
     "start_time": "2025-06-14T16:30:13.397866",
     "status": "completed"
    },
    "tags": []
   },
   "outputs": [
    {
     "name": "stderr",
     "output_type": "stream",
     "text": [
      "/usr/local/lib/python3.11/dist-packages/pandas/io/formats/format.py:1458: RuntimeWarning: invalid value encountered in greater\n",
      "  has_large_values = (abs_vals > 1e6).any()\n",
      "/usr/local/lib/python3.11/dist-packages/pandas/io/formats/format.py:1459: RuntimeWarning: invalid value encountered in less\n",
      "  has_small_values = ((abs_vals < 10 ** (-self.digits)) & (abs_vals > 0)).any()\n",
      "/usr/local/lib/python3.11/dist-packages/pandas/io/formats/format.py:1459: RuntimeWarning: invalid value encountered in greater\n",
      "  has_small_values = ((abs_vals < 10 ** (-self.digits)) & (abs_vals > 0)).any()\n",
      "/usr/local/lib/python3.11/dist-packages/pandas/io/formats/format.py:1458: RuntimeWarning: invalid value encountered in greater\n",
      "  has_large_values = (abs_vals > 1e6).any()\n",
      "/usr/local/lib/python3.11/dist-packages/pandas/io/formats/format.py:1459: RuntimeWarning: invalid value encountered in less\n",
      "  has_small_values = ((abs_vals < 10 ** (-self.digits)) & (abs_vals > 0)).any()\n",
      "/usr/local/lib/python3.11/dist-packages/pandas/io/formats/format.py:1459: RuntimeWarning: invalid value encountered in greater\n",
      "  has_small_values = ((abs_vals < 10 ** (-self.digits)) & (abs_vals > 0)).any()\n"
     ]
    },
    {
     "data": {
      "text/html": [
       "<div>\n",
       "<style scoped>\n",
       "    .dataframe tbody tr th:only-of-type {\n",
       "        vertical-align: middle;\n",
       "    }\n",
       "\n",
       "    .dataframe tbody tr th {\n",
       "        vertical-align: top;\n",
       "    }\n",
       "\n",
       "    .dataframe thead th {\n",
       "        text-align: right;\n",
       "    }\n",
       "</style>\n",
       "<table border=\"1\" class=\"dataframe\">\n",
       "  <thead>\n",
       "    <tr style=\"text-align: right;\">\n",
       "      <th></th>\n",
       "      <th>record_name</th>\n",
       "      <th>Duree_QRS_ms_mean</th>\n",
       "      <th>Duree_QRS_ms_std</th>\n",
       "      <th>Duree_QRS_ms_min</th>\n",
       "      <th>Duree_QRS_ms_max</th>\n",
       "      <th>Duree_P_ms_mean</th>\n",
       "      <th>Duree_P_ms_std</th>\n",
       "      <th>Duree_P_ms_min</th>\n",
       "      <th>Duree_P_ms_max</th>\n",
       "      <th>Duree_T_ms_mean</th>\n",
       "      <th>...</th>\n",
       "      <th>percent_T_inversion</th>\n",
       "      <th>QRS_prolonged_ratio</th>\n",
       "      <th>QT_prolonged_ratio</th>\n",
       "      <th>PVC_ratio</th>\n",
       "      <th>num_beats</th>\n",
       "      <th>std_Intervalle_RR_ms</th>\n",
       "      <th>Age</th>\n",
       "      <th>Sex</th>\n",
       "      <th>Dx</th>\n",
       "      <th>Class</th>\n",
       "    </tr>\n",
       "  </thead>\n",
       "  <tbody>\n",
       "    <tr>\n",
       "      <th>1148</th>\n",
       "      <td>training/georgia/g9/E08644</td>\n",
       "      <td>208.0</td>\n",
       "      <td>67.882251</td>\n",
       "      <td>160.0</td>\n",
       "      <td>256.0</td>\n",
       "      <td>340.0</td>\n",
       "      <td>316.783838</td>\n",
       "      <td>116.0</td>\n",
       "      <td>564.0</td>\n",
       "      <td>168.0</td>\n",
       "      <td>...</td>\n",
       "      <td>0.0</td>\n",
       "      <td>1.0</td>\n",
       "      <td>1.0</td>\n",
       "      <td>0.0</td>\n",
       "      <td>2</td>\n",
       "      <td>NaN</td>\n",
       "      <td>41.0</td>\n",
       "      <td>Male</td>\n",
       "      <td>['270492004', '426177001']</td>\n",
       "      <td>1</td>\n",
       "    </tr>\n",
       "    <tr>\n",
       "      <th>1251</th>\n",
       "      <td>training/georgia/g9/E08747</td>\n",
       "      <td>216.0</td>\n",
       "      <td>22.627417</td>\n",
       "      <td>200.0</td>\n",
       "      <td>232.0</td>\n",
       "      <td>86.0</td>\n",
       "      <td>121.622366</td>\n",
       "      <td>0.0</td>\n",
       "      <td>172.0</td>\n",
       "      <td>22.0</td>\n",
       "      <td>...</td>\n",
       "      <td>-0.5</td>\n",
       "      <td>1.0</td>\n",
       "      <td>0.0</td>\n",
       "      <td>0.5</td>\n",
       "      <td>2</td>\n",
       "      <td>NaN</td>\n",
       "      <td>65.0</td>\n",
       "      <td>Female</td>\n",
       "      <td>['713426002', '47665007', '164934002', '164890...</td>\n",
       "      <td>2</td>\n",
       "    </tr>\n",
       "    <tr>\n",
       "      <th>1293</th>\n",
       "      <td>training/georgia/g9/E08789</td>\n",
       "      <td>216.0</td>\n",
       "      <td>22.627417</td>\n",
       "      <td>200.0</td>\n",
       "      <td>232.0</td>\n",
       "      <td>86.0</td>\n",
       "      <td>121.622366</td>\n",
       "      <td>0.0</td>\n",
       "      <td>172.0</td>\n",
       "      <td>22.0</td>\n",
       "      <td>...</td>\n",
       "      <td>-0.5</td>\n",
       "      <td>1.0</td>\n",
       "      <td>0.0</td>\n",
       "      <td>0.5</td>\n",
       "      <td>2</td>\n",
       "      <td>NaN</td>\n",
       "      <td>65.0</td>\n",
       "      <td>Female</td>\n",
       "      <td>['713426002', '47665007', '164934002', '164890...</td>\n",
       "      <td>2</td>\n",
       "    </tr>\n",
       "    <tr>\n",
       "      <th>1565</th>\n",
       "      <td>training/ningbo/g1/JS10708</td>\n",
       "      <td>508.0</td>\n",
       "      <td>NaN</td>\n",
       "      <td>508.0</td>\n",
       "      <td>508.0</td>\n",
       "      <td>816.0</td>\n",
       "      <td>NaN</td>\n",
       "      <td>816.0</td>\n",
       "      <td>816.0</td>\n",
       "      <td>480.0</td>\n",
       "      <td>...</td>\n",
       "      <td>1.0</td>\n",
       "      <td>1.0</td>\n",
       "      <td>1.0</td>\n",
       "      <td>1.0</td>\n",
       "      <td>1</td>\n",
       "      <td>NaN</td>\n",
       "      <td>89.0</td>\n",
       "      <td>Male</td>\n",
       "      <td>['111975006', '39732003', '164890007']</td>\n",
       "      <td>2</td>\n",
       "    </tr>\n",
       "    <tr>\n",
       "      <th>4977</th>\n",
       "      <td>training/ningbo/g12/JS22121</td>\n",
       "      <td>242.0</td>\n",
       "      <td>65.053824</td>\n",
       "      <td>196.0</td>\n",
       "      <td>288.0</td>\n",
       "      <td>124.0</td>\n",
       "      <td>39.597980</td>\n",
       "      <td>96.0</td>\n",
       "      <td>152.0</td>\n",
       "      <td>122.0</td>\n",
       "      <td>...</td>\n",
       "      <td>1.0</td>\n",
       "      <td>1.0</td>\n",
       "      <td>0.5</td>\n",
       "      <td>0.0</td>\n",
       "      <td>2</td>\n",
       "      <td>NaN</td>\n",
       "      <td>82.0</td>\n",
       "      <td>Male</td>\n",
       "      <td>['427084000', '75532003', '698252002', '164934...</td>\n",
       "      <td>2</td>\n",
       "    </tr>\n",
       "    <tr>\n",
       "      <th>...</th>\n",
       "      <td>...</td>\n",
       "      <td>...</td>\n",
       "      <td>...</td>\n",
       "      <td>...</td>\n",
       "      <td>...</td>\n",
       "      <td>...</td>\n",
       "      <td>...</td>\n",
       "      <td>...</td>\n",
       "      <td>...</td>\n",
       "      <td>...</td>\n",
       "      <td>...</td>\n",
       "      <td>...</td>\n",
       "      <td>...</td>\n",
       "      <td>...</td>\n",
       "      <td>...</td>\n",
       "      <td>...</td>\n",
       "      <td>...</td>\n",
       "      <td>...</td>\n",
       "      <td>...</td>\n",
       "      <td>...</td>\n",
       "      <td>...</td>\n",
       "    </tr>\n",
       "    <tr>\n",
       "      <th>157845</th>\n",
       "      <td>A04/A04244</td>\n",
       "      <td>296.0</td>\n",
       "      <td>NaN</td>\n",
       "      <td>296.0</td>\n",
       "      <td>296.0</td>\n",
       "      <td>720.0</td>\n",
       "      <td>NaN</td>\n",
       "      <td>720.0</td>\n",
       "      <td>720.0</td>\n",
       "      <td>356.0</td>\n",
       "      <td>...</td>\n",
       "      <td>1.0</td>\n",
       "      <td>1.0</td>\n",
       "      <td>1.0</td>\n",
       "      <td>1.0</td>\n",
       "      <td>1</td>\n",
       "      <td>NaN</td>\n",
       "      <td>NaN</td>\n",
       "      <td>NaN</td>\n",
       "      <td>NaN</td>\n",
       "      <td>2</td>\n",
       "    </tr>\n",
       "    <tr>\n",
       "      <th>159704</th>\n",
       "      <td>A06/A06103</td>\n",
       "      <td>256.0</td>\n",
       "      <td>22.627417</td>\n",
       "      <td>240.0</td>\n",
       "      <td>272.0</td>\n",
       "      <td>104.0</td>\n",
       "      <td>147.078210</td>\n",
       "      <td>0.0</td>\n",
       "      <td>208.0</td>\n",
       "      <td>314.0</td>\n",
       "      <td>...</td>\n",
       "      <td>0.5</td>\n",
       "      <td>1.0</td>\n",
       "      <td>1.0</td>\n",
       "      <td>0.0</td>\n",
       "      <td>2</td>\n",
       "      <td>NaN</td>\n",
       "      <td>NaN</td>\n",
       "      <td>NaN</td>\n",
       "      <td>NaN</td>\n",
       "      <td>2</td>\n",
       "    </tr>\n",
       "    <tr>\n",
       "      <th>160699</th>\n",
       "      <td>A07/A07098</td>\n",
       "      <td>330.0</td>\n",
       "      <td>274.357431</td>\n",
       "      <td>136.0</td>\n",
       "      <td>524.0</td>\n",
       "      <td>0.0</td>\n",
       "      <td>0.000000</td>\n",
       "      <td>0.0</td>\n",
       "      <td>0.0</td>\n",
       "      <td>180.0</td>\n",
       "      <td>...</td>\n",
       "      <td>0.5</td>\n",
       "      <td>1.0</td>\n",
       "      <td>0.5</td>\n",
       "      <td>0.5</td>\n",
       "      <td>2</td>\n",
       "      <td>NaN</td>\n",
       "      <td>NaN</td>\n",
       "      <td>NaN</td>\n",
       "      <td>NaN</td>\n",
       "      <td>0</td>\n",
       "    </tr>\n",
       "    <tr>\n",
       "      <th>161129</th>\n",
       "      <td>A07/A07528</td>\n",
       "      <td>170.0</td>\n",
       "      <td>19.798990</td>\n",
       "      <td>156.0</td>\n",
       "      <td>184.0</td>\n",
       "      <td>40.0</td>\n",
       "      <td>56.568542</td>\n",
       "      <td>0.0</td>\n",
       "      <td>80.0</td>\n",
       "      <td>54.0</td>\n",
       "      <td>...</td>\n",
       "      <td>0.0</td>\n",
       "      <td>1.0</td>\n",
       "      <td>0.5</td>\n",
       "      <td>0.0</td>\n",
       "      <td>2</td>\n",
       "      <td>NaN</td>\n",
       "      <td>NaN</td>\n",
       "      <td>NaN</td>\n",
       "      <td>NaN</td>\n",
       "      <td>0</td>\n",
       "    </tr>\n",
       "    <tr>\n",
       "      <th>162003</th>\n",
       "      <td>A08/A08402</td>\n",
       "      <td>378.0</td>\n",
       "      <td>183.847763</td>\n",
       "      <td>248.0</td>\n",
       "      <td>508.0</td>\n",
       "      <td>132.0</td>\n",
       "      <td>90.509668</td>\n",
       "      <td>68.0</td>\n",
       "      <td>196.0</td>\n",
       "      <td>224.0</td>\n",
       "      <td>...</td>\n",
       "      <td>0.5</td>\n",
       "      <td>1.0</td>\n",
       "      <td>1.0</td>\n",
       "      <td>0.0</td>\n",
       "      <td>2</td>\n",
       "      <td>NaN</td>\n",
       "      <td>NaN</td>\n",
       "      <td>NaN</td>\n",
       "      <td>NaN</td>\n",
       "      <td>2</td>\n",
       "    </tr>\n",
       "  </tbody>\n",
       "</table>\n",
       "<p>163 rows × 100 columns</p>\n",
       "</div>"
      ],
      "text/plain": [
       "                        record_name  Duree_QRS_ms_mean  Duree_QRS_ms_std  \\\n",
       "1148     training/georgia/g9/E08644              208.0         67.882251   \n",
       "1251     training/georgia/g9/E08747              216.0         22.627417   \n",
       "1293     training/georgia/g9/E08789              216.0         22.627417   \n",
       "1565     training/ningbo/g1/JS10708              508.0               NaN   \n",
       "4977    training/ningbo/g12/JS22121              242.0         65.053824   \n",
       "...                             ...                ...               ...   \n",
       "157845                   A04/A04244              296.0               NaN   \n",
       "159704                   A06/A06103              256.0         22.627417   \n",
       "160699                   A07/A07098              330.0        274.357431   \n",
       "161129                   A07/A07528              170.0         19.798990   \n",
       "162003                   A08/A08402              378.0        183.847763   \n",
       "\n",
       "        Duree_QRS_ms_min  Duree_QRS_ms_max  Duree_P_ms_mean  Duree_P_ms_std  \\\n",
       "1148               160.0             256.0            340.0      316.783838   \n",
       "1251               200.0             232.0             86.0      121.622366   \n",
       "1293               200.0             232.0             86.0      121.622366   \n",
       "1565               508.0             508.0            816.0             NaN   \n",
       "4977               196.0             288.0            124.0       39.597980   \n",
       "...                  ...               ...              ...             ...   \n",
       "157845             296.0             296.0            720.0             NaN   \n",
       "159704             240.0             272.0            104.0      147.078210   \n",
       "160699             136.0             524.0              0.0        0.000000   \n",
       "161129             156.0             184.0             40.0       56.568542   \n",
       "162003             248.0             508.0            132.0       90.509668   \n",
       "\n",
       "        Duree_P_ms_min  Duree_P_ms_max  Duree_T_ms_mean  ...  \\\n",
       "1148             116.0           564.0            168.0  ...   \n",
       "1251               0.0           172.0             22.0  ...   \n",
       "1293               0.0           172.0             22.0  ...   \n",
       "1565             816.0           816.0            480.0  ...   \n",
       "4977              96.0           152.0            122.0  ...   \n",
       "...                ...             ...              ...  ...   \n",
       "157845           720.0           720.0            356.0  ...   \n",
       "159704             0.0           208.0            314.0  ...   \n",
       "160699             0.0             0.0            180.0  ...   \n",
       "161129             0.0            80.0             54.0  ...   \n",
       "162003            68.0           196.0            224.0  ...   \n",
       "\n",
       "        percent_T_inversion  QRS_prolonged_ratio  QT_prolonged_ratio  \\\n",
       "1148                    0.0                  1.0                 1.0   \n",
       "1251                   -0.5                  1.0                 0.0   \n",
       "1293                   -0.5                  1.0                 0.0   \n",
       "1565                    1.0                  1.0                 1.0   \n",
       "4977                    1.0                  1.0                 0.5   \n",
       "...                     ...                  ...                 ...   \n",
       "157845                  1.0                  1.0                 1.0   \n",
       "159704                  0.5                  1.0                 1.0   \n",
       "160699                  0.5                  1.0                 0.5   \n",
       "161129                  0.0                  1.0                 0.5   \n",
       "162003                  0.5                  1.0                 1.0   \n",
       "\n",
       "        PVC_ratio  num_beats  std_Intervalle_RR_ms   Age     Sex  \\\n",
       "1148          0.0          2                   NaN  41.0    Male   \n",
       "1251          0.5          2                   NaN  65.0  Female   \n",
       "1293          0.5          2                   NaN  65.0  Female   \n",
       "1565          1.0          1                   NaN  89.0    Male   \n",
       "4977          0.0          2                   NaN  82.0    Male   \n",
       "...           ...        ...                   ...   ...     ...   \n",
       "157845        1.0          1                   NaN   NaN     NaN   \n",
       "159704        0.0          2                   NaN   NaN     NaN   \n",
       "160699        0.5          2                   NaN   NaN     NaN   \n",
       "161129        0.0          2                   NaN   NaN     NaN   \n",
       "162003        0.0          2                   NaN   NaN     NaN   \n",
       "\n",
       "                                                       Dx  Class  \n",
       "1148                           ['270492004', '426177001']      1  \n",
       "1251    ['713426002', '47665007', '164934002', '164890...      2  \n",
       "1293    ['713426002', '47665007', '164934002', '164890...      2  \n",
       "1565               ['111975006', '39732003', '164890007']      2  \n",
       "4977    ['427084000', '75532003', '698252002', '164934...      2  \n",
       "...                                                   ...    ...  \n",
       "157845                                                NaN      2  \n",
       "159704                                                NaN      2  \n",
       "160699                                                NaN      0  \n",
       "161129                                                NaN      0  \n",
       "162003                                                NaN      2  \n",
       "\n",
       "[163 rows x 100 columns]"
      ]
     },
     "execution_count": 16,
     "metadata": {},
     "output_type": "execute_result"
    }
   ],
   "source": [
    "# check null except age and sex\n",
    "mask = sign_df2.drop(columns=[\"Age\", \"Sex\",\"Dx\"]).isnull().any(axis=1)\n",
    "df_with_nulls = sign_df2[mask]\n",
    "df_with_nulls"
   ]
  },
  {
   "cell_type": "code",
   "execution_count": 17,
   "id": "74d07e67",
   "metadata": {
    "execution": {
     "iopub.execute_input": "2025-06-14T16:30:13.618663Z",
     "iopub.status.busy": "2025-06-14T16:30:13.618256Z",
     "iopub.status.idle": "2025-06-14T16:30:13.623888Z",
     "shell.execute_reply": "2025-06-14T16:30:13.622898Z"
    },
    "papermill": {
     "duration": 0.019319,
     "end_time": "2025-06-14T16:30:13.625529",
     "exception": false,
     "start_time": "2025-06-14T16:30:13.606210",
     "status": "completed"
    },
    "tags": []
   },
   "outputs": [],
   "source": [
    "import pandas as pd\n",
    "\n",
    "pd.set_option('display.max_rows', None)  # show all rows\n",
    "pd.set_option('display.max_columns', None)  # show all columns\n",
    "pd.set_option('display.width', None)\n",
    "pd.set_option('display.max_colwidth', None)\n"
   ]
  },
  {
   "cell_type": "code",
   "execution_count": 18,
   "id": "a532bc58",
   "metadata": {
    "execution": {
     "iopub.execute_input": "2025-06-14T16:30:13.650275Z",
     "iopub.status.busy": "2025-06-14T16:30:13.649919Z",
     "iopub.status.idle": "2025-06-14T16:30:13.658303Z",
     "shell.execute_reply": "2025-06-14T16:30:13.656991Z"
    },
    "papermill": {
     "duration": 0.023193,
     "end_time": "2025-06-14T16:30:13.660203",
     "exception": false,
     "start_time": "2025-06-14T16:30:13.637010",
     "status": "completed"
    },
    "tags": []
   },
   "outputs": [
    {
     "name": "stdout",
     "output_type": "stream",
     "text": [
      "163\n",
      "record_name              A08/A08402\n",
      "Duree_QRS_ms_mean             378.0\n",
      "Duree_QRS_ms_std         183.847763\n",
      "Duree_QRS_ms_min              248.0\n",
      "Duree_QRS_ms_max              508.0\n",
      "Duree_P_ms_mean               132.0\n",
      "Duree_P_ms_std            90.509668\n",
      "Duree_P_ms_min                 68.0\n",
      "Duree_P_ms_max                196.0\n",
      "Duree_T_ms_mean               224.0\n",
      "Duree_T_ms_std           203.646753\n",
      "Duree_T_ms_min                 80.0\n",
      "Duree_T_ms_max                368.0\n",
      "Intervalle_QT_ms_mean         700.0\n",
      "Intervalle_QT_ms_std     243.244733\n",
      "Intervalle_QT_ms_min          528.0\n",
      "Intervalle_QT_ms_max          872.0\n",
      "Intervalle_PR_ms_mean         158.0\n",
      "Intervalle_PR_ms_std      53.740115\n",
      "Intervalle_PR_ms_min          120.0\n",
      "Intervalle_PR_ms_max          196.0\n",
      "Intervalle_ST_ms_mean         106.0\n",
      "Intervalle_ST_ms_std     144.249783\n",
      "Intervalle_ST_ms_min            4.0\n",
      "Intervalle_ST_ms_max          208.0\n",
      "Amplitude_P_mean           2.062677\n",
      "Amplitude_P_std            0.296049\n",
      "Amplitude_P_min            1.853339\n",
      "Amplitude_P_max            2.272015\n",
      "Amplitude_Q_mean          -0.340928\n",
      "Amplitude_Q_std            2.103931\n",
      "Amplitude_Q_min           -1.828631\n",
      "Amplitude_Q_max            1.146776\n",
      "Amplitude_R_mean           1.089133\n",
      "Amplitude_R_std            0.276784\n",
      "Amplitude_R_min            0.893417\n",
      "Amplitude_R_max            1.284849\n",
      "Amplitude_S_mean          -2.583625\n",
      "Amplitude_S_std            0.755892\n",
      "Amplitude_S_min           -3.118121\n",
      "Amplitude_S_max           -2.049129\n",
      "Amplitude_T_mean          -0.332089\n",
      "Amplitude_T_std            0.715362\n",
      "Amplitude_T_min           -0.837926\n",
      "Amplitude_T_max            0.173748\n",
      "T/R_ratio_mean             0.270612\n",
      "T/R_ratio_std              0.117029\n",
      "T/R_ratio_min              0.187859\n",
      "T/R_ratio_max              0.353364\n",
      "P/R_ratio_mean             0.702289\n",
      "P/R_ratio_std              0.152611\n",
      "P/R_ratio_min              0.594377\n",
      "P/R_ratio_max              0.810201\n",
      "QRS_area_mean              0.497769\n",
      "QRS_area_std               0.023216\n",
      "QRS_area_min               0.481353\n",
      "QRS_area_max               0.514185\n",
      "Slope_QR_mean             27.324147\n",
      "Slope_QR_std              35.387768\n",
      "Slope_QR_min               2.301216\n",
      "Slope_QR_max              52.347077\n",
      "Slope_RS_mean            -71.670113\n",
      "Slope_RS_std              40.159967\n",
      "Slope_RS_min            -100.067498\n",
      "Slope_RS_max             -43.272728\n",
      "Heart_rate_bpm_mean       66.666667\n",
      "Heart_rate_bpm_std              NaN\n",
      "Heart_rate_bpm_min        66.666667\n",
      "Heart_rate_bpm_max        66.666667\n",
      "Local_RMSSD_mean                0.0\n",
      "Local_RMSSD_std                 0.0\n",
      "Local_RMSSD_min                 0.0\n",
      "Local_RMSSD_max                 0.0\n",
      "T_inversion_mean                0.5\n",
      "T_inversion_sum                 1.0\n",
      "Premature_beat_sum              0.0\n",
      "Bigeminy_sum                    0.0\n",
      "Trigeminy_sum                   0.0\n",
      "count_N                           2\n",
      "count_L                           0\n",
      "count_R                           0\n",
      "count_/                           0\n",
      "count_V                           0\n",
      "count_else                        0\n",
      "ratio_N                         1.0\n",
      "ratio_L                         0.0\n",
      "ratio_R                         0.0\n",
      "ratio_/                         0.0\n",
      "ratio_V                         0.0\n",
      "ratio_else                      0.0\n",
      "percent_T_inversion             0.5\n",
      "QRS_prolonged_ratio             1.0\n",
      "QT_prolonged_ratio              1.0\n",
      "PVC_ratio                       0.0\n",
      "num_beats                         2\n",
      "std_Intervalle_RR_ms            NaN\n",
      "Age                             NaN\n",
      "Sex                             NaN\n",
      "Dx                              NaN\n",
      "Class                             2\n",
      "Name: 162003, dtype: object\n"
     ]
    }
   ],
   "source": [
    "print(df_with_nulls['record_name'].count())\n",
    "\n",
    "print(df_with_nulls.loc[162003])"
   ]
  },
  {
   "cell_type": "code",
   "execution_count": 19,
   "id": "0de75165",
   "metadata": {
    "execution": {
     "iopub.execute_input": "2025-06-14T16:30:13.684703Z",
     "iopub.status.busy": "2025-06-14T16:30:13.683820Z",
     "iopub.status.idle": "2025-06-14T16:30:13.692601Z",
     "shell.execute_reply": "2025-06-14T16:30:13.691684Z"
    },
    "papermill": {
     "duration": 0.022394,
     "end_time": "2025-06-14T16:30:13.694127",
     "exception": false,
     "start_time": "2025-06-14T16:30:13.671733",
     "status": "completed"
    },
    "tags": []
   },
   "outputs": [
    {
     "data": {
      "text/plain": [
       "Class\n",
       "2    64618\n",
       "0    62400\n",
       "1    35112\n",
       "Name: count, dtype: int64"
      ]
     },
     "execution_count": 19,
     "metadata": {},
     "output_type": "execute_result"
    }
   ],
   "source": [
    "sign_df2[\"Class\"].value_counts()"
   ]
  },
  {
   "cell_type": "markdown",
   "id": "f578e492",
   "metadata": {
    "papermill": {
     "duration": 0.010909,
     "end_time": "2025-06-14T16:30:13.716855",
     "exception": false,
     "start_time": "2025-06-14T16:30:13.705946",
     "status": "completed"
    },
    "tags": []
   },
   "source": [
    "# training"
   ]
  },
  {
   "cell_type": "code",
   "execution_count": 20,
   "id": "22397e9c",
   "metadata": {
    "execution": {
     "iopub.execute_input": "2025-06-14T16:30:13.741284Z",
     "iopub.status.busy": "2025-06-14T16:30:13.740951Z",
     "iopub.status.idle": "2025-06-14T16:30:13.750432Z",
     "shell.execute_reply": "2025-06-14T16:30:13.749374Z"
    },
    "papermill": {
     "duration": 0.023792,
     "end_time": "2025-06-14T16:30:13.752031",
     "exception": false,
     "start_time": "2025-06-14T16:30:13.728239",
     "status": "completed"
    },
    "tags": []
   },
   "outputs": [
    {
     "data": {
      "text/plain": [
       "Class\n",
       "2    64618\n",
       "0    62400\n",
       "1    35112\n",
       "Name: count, dtype: int64"
      ]
     },
     "execution_count": 20,
     "metadata": {},
     "output_type": "execute_result"
    }
   ],
   "source": [
    "\n",
    "df_full = sign_df2\n",
    "df_full[\"Class\"].value_counts()\n"
   ]
  },
  {
   "cell_type": "code",
   "execution_count": 21,
   "id": "f5a85d2a",
   "metadata": {
    "execution": {
     "iopub.execute_input": "2025-06-14T16:30:13.776275Z",
     "iopub.status.busy": "2025-06-14T16:30:13.775919Z",
     "iopub.status.idle": "2025-06-14T16:30:13.879514Z",
     "shell.execute_reply": "2025-06-14T16:30:13.878502Z"
    },
    "papermill": {
     "duration": 0.117808,
     "end_time": "2025-06-14T16:30:13.881208",
     "exception": false,
     "start_time": "2025-06-14T16:30:13.763400",
     "status": "completed"
    },
    "tags": []
   },
   "outputs": [],
   "source": [
    "\n",
    "mask = df_full.drop(columns=[\"Age\", \"Sex\",\"Dx\"]).isnull().any(axis=1)\n",
    "df_with_nulls = df_full[mask]"
   ]
  },
  {
   "cell_type": "code",
   "execution_count": 22,
   "id": "5a1e857f",
   "metadata": {
    "execution": {
     "iopub.execute_input": "2025-06-14T16:30:13.904700Z",
     "iopub.status.busy": "2025-06-14T16:30:13.904309Z",
     "iopub.status.idle": "2025-06-14T16:30:14.158319Z",
     "shell.execute_reply": "2025-06-14T16:30:14.157433Z"
    },
    "papermill": {
     "duration": 0.267711,
     "end_time": "2025-06-14T16:30:14.159939",
     "exception": false,
     "start_time": "2025-06-14T16:30:13.892228",
     "status": "completed"
    },
    "tags": []
   },
   "outputs": [
    {
     "data": {
      "text/plain": [
       "Class\n",
       "2    64558\n",
       "0    62299\n",
       "1    35110\n",
       "Name: count, dtype: int64"
      ]
     },
     "execution_count": 22,
     "metadata": {},
     "output_type": "execute_result"
    }
   ],
   "source": [
    "# Drop those rows from the original dataframe\n",
    "df_full = df_full[~mask].reset_index(drop=True)\n",
    "\n",
    "df_full[\"Class\"].value_counts()"
   ]
  },
  {
   "cell_type": "code",
   "execution_count": 23,
   "id": "a9a7d16f",
   "metadata": {
    "execution": {
     "iopub.execute_input": "2025-06-14T16:30:14.184253Z",
     "iopub.status.busy": "2025-06-14T16:30:14.183972Z",
     "iopub.status.idle": "2025-06-14T16:30:14.193816Z",
     "shell.execute_reply": "2025-06-14T16:30:14.193041Z"
    },
    "papermill": {
     "duration": 0.023896,
     "end_time": "2025-06-14T16:30:14.195289",
     "exception": false,
     "start_time": "2025-06-14T16:30:14.171393",
     "status": "completed"
    },
    "tags": []
   },
   "outputs": [
    {
     "data": {
      "text/plain": [
       "Class\n",
       "1    99668\n",
       "0    62299\n",
       "Name: count, dtype: int64"
      ]
     },
     "execution_count": 23,
     "metadata": {},
     "output_type": "execute_result"
    }
   ],
   "source": [
    "df_full['Class'] = df_full['Class'].replace(2, 1)\n",
    "df_balanced = df_full\n",
    "\n",
    "df_full[\"Class\"].value_counts()"
   ]
  },
  {
   "cell_type": "code",
   "execution_count": 24,
   "id": "f22320f4",
   "metadata": {
    "execution": {
     "iopub.execute_input": "2025-06-14T16:30:14.219516Z",
     "iopub.status.busy": "2025-06-14T16:30:14.219197Z",
     "iopub.status.idle": "2025-06-14T16:30:14.225407Z",
     "shell.execute_reply": "2025-06-14T16:30:14.224641Z"
    },
    "papermill": {
     "duration": 0.019608,
     "end_time": "2025-06-14T16:30:14.226648",
     "exception": false,
     "start_time": "2025-06-14T16:30:14.207040",
     "status": "completed"
    },
    "tags": []
   },
   "outputs": [
    {
     "data": {
      "text/plain": [
       "\"\\ndf = df_full\\n# Separate the two classes\\ndf_major = df[df['Class'] == 1]\\ndf_minor = df[df['Class'] == 0]\\n\\n# Downsample the majority class\\ndf_major_downsampled = resample(df_major,\\n                                replace=False,     # without replacement\\n                                n_samples=len(df_minor),\\n                                random_state=42)   # reproducibility\\n\\n# Combine balanced dataset\\ndf_balanced = pd.concat([df_major_downsampled, df_minor])\\ndf_balanced = df_balanced.sample(frac=1, random_state=42).reset_index(drop=True)\\n\\n# balancing\\n\""
      ]
     },
     "execution_count": 24,
     "metadata": {},
     "output_type": "execute_result"
    }
   ],
   "source": [
    "from sklearn.utils import resample\n",
    "'''\n",
    "df = df_full\n",
    "# Separate the two classes\n",
    "df_major = df[df['Class'] == 1]\n",
    "df_minor = df[df['Class'] == 0]\n",
    "\n",
    "# Downsample the majority class\n",
    "df_major_downsampled = resample(df_major,\n",
    "                                replace=False,     # without replacement\n",
    "                                n_samples=len(df_minor),\n",
    "                                random_state=42)   # reproducibility\n",
    "\n",
    "# Combine balanced dataset\n",
    "df_balanced = pd.concat([df_major_downsampled, df_minor])\n",
    "df_balanced = df_balanced.sample(frac=1, random_state=42).reset_index(drop=True)\n",
    "\n",
    "# balancing\n",
    "'''"
   ]
  },
  {
   "cell_type": "code",
   "execution_count": 25,
   "id": "a3835801",
   "metadata": {
    "execution": {
     "iopub.execute_input": "2025-06-14T16:30:14.251379Z",
     "iopub.status.busy": "2025-06-14T16:30:14.250567Z",
     "iopub.status.idle": "2025-06-14T16:30:14.620192Z",
     "shell.execute_reply": "2025-06-14T16:30:14.618991Z"
    },
    "papermill": {
     "duration": 0.383694,
     "end_time": "2025-06-14T16:30:14.621827",
     "exception": false,
     "start_time": "2025-06-14T16:30:14.238133",
     "status": "completed"
    },
    "tags": []
   },
   "outputs": [
    {
     "name": "stdout",
     "output_type": "stream",
     "text": [
      "Class\n",
      "1    99668\n",
      "0    62299\n",
      "Name: count, dtype: int64\n",
      "Index(['Duree_QRS_ms_mean', 'Duree_QRS_ms_std', 'Duree_QRS_ms_min',\n",
      "       'Duree_QRS_ms_max', 'Duree_P_ms_mean', 'Duree_P_ms_std',\n",
      "       'Duree_P_ms_min', 'Duree_P_ms_max', 'Duree_T_ms_mean', 'Duree_T_ms_std',\n",
      "       'Duree_T_ms_min', 'Duree_T_ms_max', 'Intervalle_QT_ms_mean',\n",
      "       'Intervalle_QT_ms_std', 'Intervalle_QT_ms_min', 'Intervalle_QT_ms_max',\n",
      "       'Intervalle_PR_ms_mean', 'Intervalle_PR_ms_std', 'Intervalle_PR_ms_min',\n",
      "       'Intervalle_PR_ms_max', 'Intervalle_ST_ms_mean', 'Intervalle_ST_ms_std',\n",
      "       'Intervalle_ST_ms_min', 'Intervalle_ST_ms_max', 'Amplitude_P_mean',\n",
      "       'Amplitude_P_std', 'Amplitude_P_min', 'Amplitude_P_max',\n",
      "       'Amplitude_Q_mean', 'Amplitude_Q_std', 'Amplitude_Q_min',\n",
      "       'Amplitude_Q_max', 'Amplitude_R_mean', 'Amplitude_R_std',\n",
      "       'Amplitude_R_min', 'Amplitude_R_max', 'Amplitude_S_mean',\n",
      "       'Amplitude_S_std', 'Amplitude_S_min', 'Amplitude_S_max',\n",
      "       'Amplitude_T_mean', 'Amplitude_T_std', 'Amplitude_T_min',\n",
      "       'Amplitude_T_max', 'T/R_ratio_mean', 'T/R_ratio_std', 'T/R_ratio_min',\n",
      "       'T/R_ratio_max', 'P/R_ratio_mean', 'P/R_ratio_std', 'P/R_ratio_min',\n",
      "       'P/R_ratio_max', 'QRS_area_mean', 'QRS_area_std', 'QRS_area_min',\n",
      "       'QRS_area_max', 'Slope_QR_mean', 'Slope_QR_std', 'Slope_QR_min',\n",
      "       'Slope_QR_max', 'Slope_RS_mean', 'Slope_RS_std', 'Slope_RS_min',\n",
      "       'Slope_RS_max', 'Heart_rate_bpm_mean', 'Heart_rate_bpm_std',\n",
      "       'Heart_rate_bpm_min', 'Heart_rate_bpm_max', 'Local_RMSSD_mean',\n",
      "       'Local_RMSSD_std', 'Local_RMSSD_min', 'Local_RMSSD_max',\n",
      "       'T_inversion_mean', 'T_inversion_sum', 'Premature_beat_sum',\n",
      "       'Bigeminy_sum', 'Trigeminy_sum', 'count_N', 'count_L', 'count_R',\n",
      "       'count_/', 'count_V', 'count_else', 'ratio_N', 'ratio_L', 'ratio_R',\n",
      "       'ratio_/', 'ratio_V', 'ratio_else', 'percent_T_inversion',\n",
      "       'QRS_prolonged_ratio', 'QT_prolonged_ratio', 'PVC_ratio', 'num_beats',\n",
      "       'std_Intervalle_RR_ms'],\n",
      "      dtype='object')\n"
     ]
    }
   ],
   "source": [
    "import pandas as pd\n",
    "from sklearn.model_selection import train_test_split\n",
    "from sklearn.ensemble import RandomForestClassifier\n",
    "from sklearn.metrics import classification_report, accuracy_score , confusion_matrix\n",
    "\n",
    "# Assuming df_full already has the 'is_normal' column for classification\n",
    "# Define X and y\n",
    "X = df_balanced.drop(columns=['record_name','Sex','Age',\"Dx\",'Class'])  # Features: exclude 'is_normal' column\n",
    "\n",
    "y = df_balanced['Class']  # Target: 'is_normal'\n",
    "print(y.value_counts())\n",
    "print(X.columns)\n",
    "# Split the data into training and testing sets (80% training, 20% testing)\n",
    "X_train, X_test, y_train, y_test = train_test_split(X, y, test_size=0.2, random_state=42)\n",
    "\n"
   ]
  },
  {
   "cell_type": "code",
   "execution_count": 26,
   "id": "ff9b9268",
   "metadata": {
    "execution": {
     "iopub.execute_input": "2025-06-14T16:30:14.646020Z",
     "iopub.status.busy": "2025-06-14T16:30:14.645535Z",
     "iopub.status.idle": "2025-06-14T16:33:22.223708Z",
     "shell.execute_reply": "2025-06-14T16:33:22.222755Z"
    },
    "papermill": {
     "duration": 187.603539,
     "end_time": "2025-06-14T16:33:22.236862",
     "exception": false,
     "start_time": "2025-06-14T16:30:14.633323",
     "status": "completed"
    },
    "tags": []
   },
   "outputs": [
    {
     "name": "stdout",
     "output_type": "stream",
     "text": [
      "Accuracy: 0.9169\n",
      "Classification Report:\n",
      "              precision    recall  f1-score   support\n",
      "\n",
      "           0       0.91      0.86      0.89     12305\n",
      "           1       0.92      0.95      0.93     20089\n",
      "\n",
      "    accuracy                           0.92     32394\n",
      "   macro avg       0.92      0.91      0.91     32394\n",
      "weighted avg       0.92      0.92      0.92     32394\n",
      "\n",
      "[[10640  1665]\n",
      " [ 1028 19061]]\n"
     ]
    }
   ],
   "source": [
    "\n",
    "# Initialize a RandomForestClassifier\n",
    "rf_clf =  RandomForestClassifier(n_estimators=100, class_weight='balanced', random_state=42)\n",
    "\n",
    "# Train the model\n",
    "rf_clf.fit(X_train, y_train)\n",
    "\n",
    "# Make predictions on the test set\n",
    "y_pred = rf_clf.predict(X_test)\n",
    "\n",
    "# Evaluate the model\n",
    "print(f\"Accuracy: {accuracy_score(y_test, y_pred):.4f}\")\n",
    "print(\"Classification Report:\")\n",
    "print(classification_report(y_test, y_pred))\n",
    "print(confusion_matrix(y_test, y_pred))\n"
   ]
  },
  {
   "cell_type": "code",
   "execution_count": 27,
   "id": "a5e556ae",
   "metadata": {
    "execution": {
     "iopub.execute_input": "2025-06-14T16:33:22.260804Z",
     "iopub.status.busy": "2025-06-14T16:33:22.260503Z",
     "iopub.status.idle": "2025-06-14T16:33:22.553093Z",
     "shell.execute_reply": "2025-06-14T16:33:22.552262Z"
    },
    "papermill": {
     "duration": 0.306679,
     "end_time": "2025-06-14T16:33:22.554835",
     "exception": false,
     "start_time": "2025-06-14T16:33:22.248156",
     "status": "completed"
    },
    "tags": []
   },
   "outputs": [
    {
     "data": {
      "image/png": "[encoded data removed]",
      "text/plain": [
       "<Figure size 640x480 with 1 Axes>"
      ]
     },
     "metadata": {},
     "output_type": "display_data"
    }
   ],
   "source": [
    "import matplotlib.pyplot as plt\n",
    "from sklearn.metrics import precision_recall_curve\n",
    "\n",
    "precision, recall, thresholds = precision_recall_curve(y_test, y_pred)\n",
    "\n",
    "plt.plot(thresholds, precision[:-1], label=\"Precision\")\n",
    "plt.plot(thresholds, recall[:-1], label=\"Recall\")\n",
    "plt.xlabel(\"Threshold\")\n",
    "plt.legend()\n",
    "plt.title(\"Precision-Recall vs Threshold\")\n",
    "plt.grid()\n",
    "plt.show()\n"
   ]
  },
  {
   "cell_type": "code",
   "execution_count": 28,
   "id": "9b625d58",
   "metadata": {
    "execution": {
     "iopub.execute_input": "2025-06-14T16:33:22.580182Z",
     "iopub.status.busy": "2025-06-14T16:33:22.579874Z",
     "iopub.status.idle": "2025-06-14T16:33:23.054810Z",
     "shell.execute_reply": "2025-06-14T16:33:23.053860Z"
    },
    "papermill": {
     "duration": 0.490352,
     "end_time": "2025-06-14T16:33:23.057326",
     "exception": false,
     "start_time": "2025-06-14T16:33:22.566974",
     "status": "completed"
    },
    "tags": []
   },
   "outputs": [
    {
     "data": {
      "image/png": "[encoded data removed]",
      "text/plain": [
       "<Figure size 640x480 with 1 Axes>"
      ]
     },
     "metadata": {},
     "output_type": "display_data"
    }
   ],
   "source": [
    "import pandas as pd\n",
    "import matplotlib.pyplot as plt\n",
    "\n",
    "importances = rf_clf.feature_importances_\n",
    "feature_names = X_train.columns\n",
    "feat_imp = pd.Series(importances, index=feature_names).sort_values(ascending=False)\n",
    "\n",
    "# Top 20 features\n",
    "feat_imp.head(30).plot(kind='barh', title='Top 20 Feature Importances')\n",
    "plt.gca().invert_yaxis()\n",
    "plt.tight_layout()\n",
    "plt.show()\n"
   ]
  },
  {
   "cell_type": "code",
   "execution_count": 29,
   "id": "fb0ebe6e",
   "metadata": {
    "execution": {
     "iopub.execute_input": "2025-06-14T16:33:23.086221Z",
     "iopub.status.busy": "2025-06-14T16:33:23.085920Z",
     "iopub.status.idle": "2025-06-14T16:33:23.282749Z",
     "shell.execute_reply": "2025-06-14T16:33:23.281848Z"
    },
    "papermill": {
     "duration": 0.212639,
     "end_time": "2025-06-14T16:33:23.284255",
     "exception": false,
     "start_time": "2025-06-14T16:33:23.071616",
     "status": "completed"
    },
    "tags": []
   },
   "outputs": [
    {
     "data": {
      "image/png": "[encoded data removed]",
      "text/plain": [
       "<Figure size 640x480 with 1 Axes>"
      ]
     },
     "metadata": {},
     "output_type": "display_data"
    }
   ],
   "source": [
    "from sklearn.metrics import roc_auc_score, roc_curve\n",
    "\n",
    "roc_auc = roc_auc_score(y_test, y_pred)\n",
    "fpr, tpr, _ = roc_curve(y_test, y_pred)\n",
    "\n",
    "plt.plot(fpr, tpr, label=f'ROC Curve (AUC = {roc_auc:.2f})')\n",
    "plt.plot([0, 1], [0, 1], 'k--')  # Diagonal line\n",
    "plt.xlabel('False Positive Rate')\n",
    "plt.ylabel('True Positive Rate')\n",
    "plt.title('Receiver Operating Characteristic')\n",
    "plt.legend()\n",
    "plt.grid()\n",
    "plt.show()\n"
   ]
  },
  {
   "cell_type": "code",
   "execution_count": 30,
   "id": "926eed8b",
   "metadata": {
    "execution": {
     "iopub.execute_input": "2025-06-14T16:33:23.316373Z",
     "iopub.status.busy": "2025-06-14T16:33:23.316018Z",
     "iopub.status.idle": "2025-06-14T16:33:23.519237Z",
     "shell.execute_reply": "2025-06-14T16:33:23.518149Z"
    },
    "papermill": {
     "duration": 0.22124,
     "end_time": "2025-06-14T16:33:23.520925",
     "exception": false,
     "start_time": "2025-06-14T16:33:23.299685",
     "status": "completed"
    },
    "tags": []
   },
   "outputs": [
    {
     "name": "stdout",
     "output_type": "stream",
     "text": [
      "Model saved successfully!\n"
     ]
    }
   ],
   "source": [
    "import joblib\n",
    "\n",
    "# Save model\n",
    "joblib.dump(rf_clf, 'normal_vs_abnormal_model.pkl')\n",
    "print(\"Model saved successfully!\")"
   ]
  },
  {
   "cell_type": "code",
   "execution_count": 31,
   "id": "858be968",
   "metadata": {
    "execution": {
     "iopub.execute_input": "2025-06-14T16:33:23.551441Z",
     "iopub.status.busy": "2025-06-14T16:33:23.551090Z",
     "iopub.status.idle": "2025-06-14T16:33:24.417086Z",
     "shell.execute_reply": "2025-06-14T16:33:24.416133Z"
    },
    "papermill": {
     "duration": 0.883094,
     "end_time": "2025-06-14T16:33:24.418702",
     "exception": false,
     "start_time": "2025-06-14T16:33:23.535608",
     "status": "completed"
    },
    "tags": []
   },
   "outputs": [
    {
     "data": {
      "image/png": "[encoded data removed]",
      "text/plain": [
       "<Figure size 600x500 with 2 Axes>"
      ]
     },
     "metadata": {},
     "output_type": "display_data"
    }
   ],
   "source": [
    "import pandas as pd\n",
    "import json\n",
    "from sklearn.metrics import classification_report\n",
    "\n",
    "# Save predictions\n",
    "pred_df = pd.DataFrame({'y_true': y_test, 'y_pred': y_pred})\n",
    "pred_df.to_csv('normal_vs_abnormal_predictions.csv', index=False)\n",
    "\n",
    "# Save metrics\n",
    "report = classification_report(y_test, y_pred, output_dict=True)\n",
    "with open(\"normal_vs_abnormal_classification_report.json\", \"w\") as f:\n",
    "    json.dump(report, f)\n",
    "import matplotlib.pyplot as plt\n",
    "import seaborn as sns\n",
    "from sklearn.metrics import confusion_matrix\n",
    "\n",
    "conf_matrix = confusion_matrix(y_test, y_pred)\n",
    "\n",
    "plt.figure(figsize=(6, 5))\n",
    "sns.heatmap(conf_matrix, annot=True, fmt=\"d\", cmap=\"Blues\")\n",
    "plt.title(\"Confusion Matrix\")\n",
    "plt.xlabel(\"Predicted\")\n",
    "plt.ylabel(\"Actual\")\n",
    "plt.tight_layout()\n",
    "plt.savefig(\"normal_vs_abnormal_confusion_matrix.png\")"
   ]
  },
  {
   "cell_type": "markdown",
   "id": "b208e21c",
   "metadata": {
    "papermill": {
     "duration": 0.014827,
     "end_time": "2025-06-14T16:33:24.448581",
     "exception": false,
     "start_time": "2025-06-14T16:33:24.433754",
     "status": "completed"
    },
    "tags": []
   },
   "source": [
    "# SB"
   ]
  },
  {
   "cell_type": "code",
   "execution_count": 32,
   "id": "ac928365",
   "metadata": {
    "execution": {
     "iopub.execute_input": "2025-06-14T16:33:24.480260Z",
     "iopub.status.busy": "2025-06-14T16:33:24.479742Z",
     "iopub.status.idle": "2025-06-14T16:33:24.772378Z",
     "shell.execute_reply": "2025-06-14T16:33:24.771382Z"
    },
    "papermill": {
     "duration": 0.310238,
     "end_time": "2025-06-14T16:33:24.773788",
     "exception": false,
     "start_time": "2025-06-14T16:33:24.463550",
     "status": "completed"
    },
    "tags": []
   },
   "outputs": [
    {
     "name": "stdout",
     "output_type": "stream",
     "text": [
      "Class\n",
      "1    60916\n",
      "0    35104\n",
      "Name: count, dtype: int64\n"
     ]
    }
   ],
   "source": [
    "df = sign_df2\n",
    "df = df.dropna()\n",
    "df = df[df['Class'] != 0].reset_index(drop=True)\n",
    "df['Class'] = df['Class'].replace(1, 0)\n",
    "df['Class'] = df['Class'].replace(2, 1)\n",
    "\n",
    "\n",
    "print(df['Class'].value_counts())\n",
    "df_balanced = df"
   ]
  },
  {
   "cell_type": "code",
   "execution_count": 33,
   "id": "4da1a4f8",
   "metadata": {
    "execution": {
     "iopub.execute_input": "2025-06-14T16:33:24.805531Z",
     "iopub.status.busy": "2025-06-14T16:33:24.804881Z",
     "iopub.status.idle": "2025-06-14T16:33:24.897003Z",
     "shell.execute_reply": "2025-06-14T16:33:24.895963Z"
    },
    "papermill": {
     "duration": 0.109712,
     "end_time": "2025-06-14T16:33:24.898633",
     "exception": false,
     "start_time": "2025-06-14T16:33:24.788921",
     "status": "completed"
    },
    "tags": []
   },
   "outputs": [
    {
     "name": "stdout",
     "output_type": "stream",
     "text": [
      "Class\n",
      "1    60916\n",
      "0    35104\n",
      "Name: count, dtype: int64\n"
     ]
    }
   ],
   "source": [
    "import pandas as pd\n",
    "from sklearn.model_selection import train_test_split\n",
    "from sklearn.ensemble import RandomForestClassifier\n",
    "from sklearn.metrics import classification_report, accuracy_score\n",
    "\n",
    "# Assuming df_full already has the 'is_normal' column for classification\n",
    "# Define X and y\n",
    "X = df_balanced.drop(columns=['record_name','Sex','Age',\"Dx\",'Class'])  # Features: exclude 'is_normal' column\n",
    "y = df_balanced['Class']  # Target: 'is_normal'\n",
    "print(y.value_counts())\n",
    "# Split the data into training and testing sets (80% training, 20% testing)\n",
    "X_train, X_test, y_train, y_test = train_test_split(X, y, test_size=0.2, random_state=42)\n",
    "\n"
   ]
  },
  {
   "cell_type": "code",
   "execution_count": 34,
   "id": "3bc0423d",
   "metadata": {
    "execution": {
     "iopub.execute_input": "2025-06-14T16:33:24.930196Z",
     "iopub.status.busy": "2025-06-14T16:33:24.929889Z",
     "iopub.status.idle": "2025-06-14T16:34:50.044172Z",
     "shell.execute_reply": "2025-06-14T16:34:50.043175Z"
    },
    "papermill": {
     "duration": 85.14738,
     "end_time": "2025-06-14T16:34:50.061054",
     "exception": false,
     "start_time": "2025-06-14T16:33:24.913674",
     "status": "completed"
    },
    "tags": []
   },
   "outputs": [
    {
     "name": "stdout",
     "output_type": "stream",
     "text": [
      "Accuracy: 0.9880\n",
      "Classification Report:\n",
      "              precision    recall  f1-score   support\n",
      "\n",
      "           0       0.98      0.99      0.98      7020\n",
      "           1       0.99      0.99      0.99     12184\n",
      "\n",
      "    accuracy                           0.99     19204\n",
      "   macro avg       0.99      0.99      0.99     19204\n",
      "weighted avg       0.99      0.99      0.99     19204\n",
      "\n",
      "[[ 6955    65]\n",
      " [  165 12019]]\n"
     ]
    }
   ],
   "source": [
    "\n",
    "# Initialize a RandomForestClassifier\n",
    "rf_clf = RandomForestClassifier(n_estimators=100, random_state=42)\n",
    "\n",
    "# Train the model\n",
    "rf_clf.fit(X_train, y_train)\n",
    "\n",
    "# Make predictions on the test set\n",
    "y_pred = rf_clf.predict(X_test)\n",
    "\n",
    "# Evaluate the model\n",
    "print(f\"Accuracy: {accuracy_score(y_test, y_pred):.4f}\")\n",
    "print(\"Classification Report:\")\n",
    "print(classification_report(y_test, y_pred))\n",
    "print(confusion_matrix(y_test, y_pred))"
   ]
  },
  {
   "cell_type": "code",
   "execution_count": 35,
   "id": "33db8ee4",
   "metadata": {
    "execution": {
     "iopub.execute_input": "2025-06-14T16:34:50.092911Z",
     "iopub.status.busy": "2025-06-14T16:34:50.092154Z",
     "iopub.status.idle": "2025-06-14T16:34:50.160439Z",
     "shell.execute_reply": "2025-06-14T16:34:50.159272Z"
    },
    "papermill": {
     "duration": 0.085891,
     "end_time": "2025-06-14T16:34:50.162157",
     "exception": false,
     "start_time": "2025-06-14T16:34:50.076266",
     "status": "completed"
    },
    "tags": []
   },
   "outputs": [
    {
     "name": "stdout",
     "output_type": "stream",
     "text": [
      "Model saved successfully!\n"
     ]
    }
   ],
   "source": [
    "import joblib\n",
    "\n",
    "# Save model\n",
    "joblib.dump(rf_clf, 'sb_vs_else_model.pkl')\n",
    "print(\"Model saved successfully!\")"
   ]
  },
  {
   "cell_type": "code",
   "execution_count": 36,
   "id": "ea747293",
   "metadata": {
    "execution": {
     "iopub.execute_input": "2025-06-14T16:34:50.194208Z",
     "iopub.status.busy": "2025-06-14T16:34:50.193913Z",
     "iopub.status.idle": "2025-06-14T16:34:50.512904Z",
     "shell.execute_reply": "2025-06-14T16:34:50.511770Z"
    },
    "papermill": {
     "duration": 0.336906,
     "end_time": "2025-06-14T16:34:50.514532",
     "exception": false,
     "start_time": "2025-06-14T16:34:50.177626",
     "status": "completed"
    },
    "tags": []
   },
   "outputs": [
    {
     "data": {
      "image/png": "[encoded data removed]",
      "text/plain": [
       "<Figure size 600x500 with 2 Axes>"
      ]
     },
     "metadata": {},
     "output_type": "display_data"
    }
   ],
   "source": [
    "import pandas as pd\n",
    "import json\n",
    "from sklearn.metrics import classification_report\n",
    "\n",
    "# Save predictions\n",
    "pred_df = pd.DataFrame({'y_true': y_test, 'y_pred': y_pred})\n",
    "pred_df.to_csv('sb_vs_else_predictions.csv', index=False)\n",
    "\n",
    "# Save metrics\n",
    "report = classification_report(y_test, y_pred, output_dict=True)\n",
    "with open(\"sb_vs_else_classification_report.json\", \"w\") as f:\n",
    "    json.dump(report, f)\n",
    "import matplotlib.pyplot as plt\n",
    "import seaborn as sns\n",
    "from sklearn.metrics import confusion_matrix\n",
    "\n",
    "conf_matrix = confusion_matrix(y_test, y_pred)\n",
    "\n",
    "plt.figure(figsize=(6, 5))\n",
    "sns.heatmap(conf_matrix, annot=True, fmt=\"d\", cmap=\"Blues\")\n",
    "plt.title(\"Confusion Matrix\")\n",
    "plt.xlabel(\"Predicted\")\n",
    "plt.ylabel(\"Actual\")\n",
    "plt.tight_layout()\n",
    "plt.savefig(\"sb_vs_else_confusion_matrix.png\")"
   ]
  },
  {
   "cell_type": "markdown",
   "id": "d2643e37",
   "metadata": {
    "papermill": {
     "duration": 0.015656,
     "end_time": "2025-06-14T16:34:50.545898",
     "exception": false,
     "start_time": "2025-06-14T16:34:50.530242",
     "status": "completed"
    },
    "tags": []
   },
   "source": [
    "# 3 classes"
   ]
  },
  {
   "cell_type": "code",
   "execution_count": 37,
   "id": "4af11c7a",
   "metadata": {
    "execution": {
     "iopub.execute_input": "2025-06-14T16:34:50.579509Z",
     "iopub.status.busy": "2025-06-14T16:34:50.579141Z",
     "iopub.status.idle": "2025-06-14T16:34:50.832215Z",
     "shell.execute_reply": "2025-06-14T16:34:50.831119Z"
    },
    "papermill": {
     "duration": 0.271686,
     "end_time": "2025-06-14T16:34:50.833814",
     "exception": false,
     "start_time": "2025-06-14T16:34:50.562128",
     "status": "completed"
    },
    "tags": []
   },
   "outputs": [
    {
     "name": "stdout",
     "output_type": "stream",
     "text": [
      "Class\n",
      "2    60916\n",
      "0    37004\n",
      "1    35104\n",
      "Name: count, dtype: int64\n"
     ]
    }
   ],
   "source": [
    "\n",
    "import pandas as pd\n",
    "from sklearn.model_selection import train_test_split\n",
    "from sklearn.ensemble import RandomForestClassifier\n",
    "from sklearn.metrics import classification_report, accuracy_score\n",
    "\n",
    "df = sign_df2\n",
    "df = df.dropna()\n",
    "df_balanced = df\n",
    "# Assuming df_full already has the 'is_normal' column for classification\n",
    "# Define X and y\n",
    "X = df_balanced.drop(columns=['record_name','Sex','Age',\"Dx\",'Class'])  \n",
    "y = df_balanced['Class']  # Target: 'is_normal'\n",
    "print(y.value_counts())\n",
    "# Split the data into training and testing sets (80% training, 20% testing)\n",
    "X_train, X_test, y_train, y_test = train_test_split(X, y, test_size=0.2, random_state=42)\n",
    "y_train = y_train.astype(int)\n",
    "y_test = y_test.astype(int)\n",
    "\n"
   ]
  },
  {
   "cell_type": "code",
   "execution_count": 38,
   "id": "b8c84772",
   "metadata": {
    "execution": {
     "iopub.execute_input": "2025-06-14T16:34:50.867457Z",
     "iopub.status.busy": "2025-06-14T16:34:50.867094Z",
     "iopub.status.idle": "2025-06-14T16:37:15.172436Z",
     "shell.execute_reply": "2025-06-14T16:37:15.171234Z"
    },
    "papermill": {
     "duration": 144.338962,
     "end_time": "2025-06-14T16:37:15.188959",
     "exception": false,
     "start_time": "2025-06-14T16:34:50.849997",
     "status": "completed"
    },
    "tags": []
   },
   "outputs": [
    {
     "name": "stdout",
     "output_type": "stream",
     "text": [
      "Accuracy: 0.9085\n",
      "Classification Report:\n",
      "              precision    recall  f1-score   support\n",
      "\n",
      "           0       0.88      0.81      0.84      7488\n",
      "           1       0.90      0.99      0.94      6915\n",
      "           2       0.93      0.92      0.93     12202\n",
      "\n",
      "    accuracy                           0.91     26605\n",
      "   macro avg       0.90      0.91      0.90     26605\n",
      "weighted avg       0.91      0.91      0.91     26605\n",
      "\n"
     ]
    }
   ],
   "source": [
    "\n",
    "# Initialize a RandomForestClassifier\n",
    "rf_clf = RandomForestClassifier(n_estimators=100, random_state=42)\n",
    "\n",
    "# Train the model\n",
    "rf_clf.fit(X_train, y_train)\n",
    "\n",
    "# Make predictions on the test set\n",
    "y_pred = rf_clf.predict(X_test)\n",
    "\n",
    "# Evaluate the model\n",
    "print(f\"Accuracy: {accuracy_score(y_test, y_pred):.4f}\")\n",
    "print(\"Classification Report:\")\n",
    "print(classification_report(y_test, y_pred))"
   ]
  },
  {
   "cell_type": "markdown",
   "id": "2a92ba51",
   "metadata": {
    "papermill": {
     "duration": 0.015594,
     "end_time": "2025-06-14T16:37:15.220269",
     "exception": false,
     "start_time": "2025-06-14T16:37:15.204675",
     "status": "completed"
    },
    "tags": []
   },
   "source": [
    "# MLP"
   ]
  },
  {
   "cell_type": "code",
   "execution_count": 39,
   "id": "4331f4ad",
   "metadata": {
    "execution": {
     "iopub.execute_input": "2025-06-14T16:37:15.252780Z",
     "iopub.status.busy": "2025-06-14T16:37:15.252457Z",
     "iopub.status.idle": "2025-06-14T16:37:15.330562Z",
     "shell.execute_reply": "2025-06-14T16:37:15.329422Z"
    },
    "papermill": {
     "duration": 0.097018,
     "end_time": "2025-06-14T16:37:15.332936",
     "exception": false,
     "start_time": "2025-06-14T16:37:15.235918",
     "status": "completed"
    },
    "tags": []
   },
   "outputs": [],
   "source": [
    "\n",
    "df_full = sign_df\n",
    "df_full[\"Class\"].value_counts()\n",
    "\n",
    "mask = df_full.drop(columns=[\"Age\", \"Sex\"]).isnull().any(axis=1)\n",
    "df_with_nulls = df_full[mask]"
   ]
  },
  {
   "cell_type": "code",
   "execution_count": 40,
   "id": "a909db5c",
   "metadata": {
    "execution": {
     "iopub.execute_input": "2025-06-14T16:37:15.386564Z",
     "iopub.status.busy": "2025-06-14T16:37:15.385657Z",
     "iopub.status.idle": "2025-06-14T16:37:15.548505Z",
     "shell.execute_reply": "2025-06-14T16:37:15.547632Z"
    },
    "papermill": {
     "duration": 0.194457,
     "end_time": "2025-06-14T16:37:15.549935",
     "exception": false,
     "start_time": "2025-06-14T16:37:15.355478",
     "status": "completed"
    },
    "tags": []
   },
   "outputs": [
    {
     "data": {
      "text/plain": [
       "Class\n",
       "0    49102\n",
       "2    40673\n",
       "1    18557\n",
       "Name: count, dtype: int64"
      ]
     },
     "execution_count": 40,
     "metadata": {},
     "output_type": "execute_result"
    }
   ],
   "source": [
    "# Drop those rows from the original dataframe\n",
    "df_full = df_full[~mask].reset_index(drop=True)\n",
    "\n",
    "df_full[\"Class\"].value_counts()"
   ]
  },
  {
   "cell_type": "code",
   "execution_count": 41,
   "id": "d127f6d7",
   "metadata": {
    "execution": {
     "iopub.execute_input": "2025-06-14T16:37:15.585483Z",
     "iopub.status.busy": "2025-06-14T16:37:15.585095Z",
     "iopub.status.idle": "2025-06-14T16:37:15.594612Z",
     "shell.execute_reply": "2025-06-14T16:37:15.593659Z"
    },
    "papermill": {
     "duration": 0.02813,
     "end_time": "2025-06-14T16:37:15.596093",
     "exception": false,
     "start_time": "2025-06-14T16:37:15.567963",
     "status": "completed"
    },
    "tags": []
   },
   "outputs": [
    {
     "data": {
      "text/plain": [
       "Class\n",
       "1    59230\n",
       "0    49102\n",
       "Name: count, dtype: int64"
      ]
     },
     "execution_count": 41,
     "metadata": {},
     "output_type": "execute_result"
    }
   ],
   "source": [
    "df_full['Class'] = df_full['Class'].replace(2, 1)\n",
    "df_balanced = df_full\n",
    "\n",
    "df_full[\"Class\"].value_counts()"
   ]
  },
  {
   "cell_type": "code",
   "execution_count": 42,
   "id": "49b8924a",
   "metadata": {
    "execution": {
     "iopub.execute_input": "2025-06-14T16:37:15.630198Z",
     "iopub.status.busy": "2025-06-14T16:37:15.629917Z",
     "iopub.status.idle": "2025-06-14T16:49:31.515119Z",
     "shell.execute_reply": "2025-06-14T16:49:31.513975Z"
    },
    "papermill": {
     "duration": 735.922097,
     "end_time": "2025-06-14T16:49:31.534699",
     "exception": false,
     "start_time": "2025-06-14T16:37:15.612602",
     "status": "completed"
    },
    "tags": []
   },
   "outputs": [
    {
     "name": "stderr",
     "output_type": "stream",
     "text": [
      "/usr/local/lib/python3.11/dist-packages/sklearn/neural_network/_multilayer_perceptron.py:691: ConvergenceWarning: Stochastic Optimizer: Maximum iterations (200) reached and the optimization hasn't converged yet.\n",
      "  warnings.warn(\n"
     ]
    },
    {
     "data": {
      "text/html": [
       "<style>#sk-container-id-1 {\n",
       "  /* Definition of color scheme common for light and dark mode */\n",
       "  --sklearn-color-text: #000;\n",
       "  --sklearn-color-text-muted: #666;\n",
       "  --sklearn-color-line: gray;\n",
       "  /* Definition of color scheme for unfitted estimators */\n",
       "  --sklearn-color-unfitted-level-0: #fff5e6;\n",
       "  --sklearn-color-unfitted-level-1: #f6e4d2;\n",
       "  --sklearn-color-unfitted-level-2: #ffe0b3;\n",
       "  --sklearn-color-unfitted-level-3: chocolate;\n",
       "  /* Definition of color scheme for fitted estimators */\n",
       "  --sklearn-color-fitted-level-0: #f0f8ff;\n",
       "  --sklearn-color-fitted-level-1: #d4ebff;\n",
       "  --sklearn-color-fitted-level-2: #b3dbfd;\n",
       "  --sklearn-color-fitted-level-3: cornflowerblue;\n",
       "\n",
       "  /* Specific color for light theme */\n",
       "  --sklearn-color-text-on-default-background: var(--sg-text-color, var(--theme-code-foreground, var(--jp-content-font-color1, black)));\n",
       "  --sklearn-color-background: var(--sg-background-color, var(--theme-background, var(--jp-layout-color0, white)));\n",
       "  --sklearn-color-border-box: var(--sg-text-color, var(--theme-code-foreground, var(--jp-content-font-color1, black)));\n",
       "  --sklearn-color-icon: #696969;\n",
       "\n",
       "  @media (prefers-color-scheme: dark) {\n",
       "    /* Redefinition of color scheme for dark theme */\n",
       "    --sklearn-color-text-on-default-background: var(--sg-text-color, var(--theme-code-foreground, var(--jp-content-font-color1, white)));\n",
       "    --sklearn-color-background: var(--sg-background-color, var(--theme-background, var(--jp-layout-color0, #111)));\n",
       "    --sklearn-color-border-box: var(--sg-text-color, var(--theme-code-foreground, var(--jp-content-font-color1, white)));\n",
       "    --sklearn-color-icon: #878787;\n",
       "  }\n",
       "}\n",
       "\n",
       "#sk-container-id-1 {\n",
       "  color: var(--sklearn-color-text);\n",
       "}\n",
       "\n",
       "#sk-container-id-1 pre {\n",
       "  padding: 0;\n",
       "}\n",
       "\n",
       "#sk-container-id-1 input.sk-hidden--visually {\n",
       "  border: 0;\n",
       "  clip: rect(1px 1px 1px 1px);\n",
       "  clip: rect(1px, 1px, 1px, 1px);\n",
       "  height: 1px;\n",
       "  margin: -1px;\n",
       "  overflow: hidden;\n",
       "  padding: 0;\n",
       "  position: absolute;\n",
       "  width: 1px;\n",
       "}\n",
       "\n",
       "#sk-container-id-1 div.sk-dashed-wrapped {\n",
       "  border: 1px dashed var(--sklearn-color-line);\n",
       "  margin: 0 0.4em 0.5em 0.4em;\n",
       "  box-sizing: border-box;\n",
       "  padding-bottom: 0.4em;\n",
       "  background-color: var(--sklearn-color-background);\n",
       "}\n",
       "\n",
       "#sk-container-id-1 div.sk-container {\n",
       "  /* jupyter's `normalize.less` sets `[hidden] { display: none; }`\n",
       "     but bootstrap.min.css set `[hidden] { display: none !important; }`\n",
       "     so we also need the `!important` here to be able to override the\n",
       "     default hidden behavior on the sphinx rendered scikit-learn.org.\n",
       "     See: https://github.com/scikit-learn/scikit-learn/issues/21755 */\n",
       "  display: inline-block !important;\n",
       "  position: relative;\n",
       "}\n",
       "\n",
       "#sk-container-id-1 div.sk-text-repr-fallback {\n",
       "  display: none;\n",
       "}\n",
       "\n",
       "div.sk-parallel-item,\n",
       "div.sk-serial,\n",
       "div.sk-item {\n",
       "  /* draw centered vertical line to link estimators */\n",
       "  background-image: linear-gradient(var(--sklearn-color-text-on-default-background), var(--sklearn-color-text-on-default-background));\n",
       "  background-size: 2px 100%;\n",
       "  background-repeat: no-repeat;\n",
       "  background-position: center center;\n",
       "}\n",
       "\n",
       "/* Parallel-specific style estimator block */\n",
       "\n",
       "#sk-container-id-1 div.sk-parallel-item::after {\n",
       "  content: \"\";\n",
       "  width: 100%;\n",
       "  border-bottom: 2px solid var(--sklearn-color-text-on-default-background);\n",
       "  flex-grow: 1;\n",
       "}\n",
       "\n",
       "#sk-container-id-1 div.sk-parallel {\n",
       "  display: flex;\n",
       "  align-items: stretch;\n",
       "  justify-content: center;\n",
       "  background-color: var(--sklearn-color-background);\n",
       "  position: relative;\n",
       "}\n",
       "\n",
       "#sk-container-id-1 div.sk-parallel-item {\n",
       "  display: flex;\n",
       "  flex-direction: column;\n",
       "}\n",
       "\n",
       "#sk-container-id-1 div.sk-parallel-item:first-child::after {\n",
       "  align-self: flex-end;\n",
       "  width: 50%;\n",
       "}\n",
       "\n",
       "#sk-container-id-1 div.sk-parallel-item:last-child::after {\n",
       "  align-self: flex-start;\n",
       "  width: 50%;\n",
       "}\n",
       "\n",
       "#sk-container-id-1 div.sk-parallel-item:only-child::after {\n",
       "  width: 0;\n",
       "}\n",
       "\n",
       "/* Serial-specific style estimator block */\n",
       "\n",
       "#sk-container-id-1 div.sk-serial {\n",
       "  display: flex;\n",
       "  flex-direction: column;\n",
       "  align-items: center;\n",
       "  background-color: var(--sklearn-color-background);\n",
       "  padding-right: 1em;\n",
       "  padding-left: 1em;\n",
       "}\n",
       "\n",
       "\n",
       "/* Toggleable style: style used for estimator/Pipeline/ColumnTransformer box that is\n",
       "clickable and can be expanded/collapsed.\n",
       "- Pipeline and ColumnTransformer use this feature and define the default style\n",
       "- Estimators will overwrite some part of the style using the `sk-estimator` class\n",
       "*/\n",
       "\n",
       "/* Pipeline and ColumnTransformer style (default) */\n",
       "\n",
       "#sk-container-id-1 div.sk-toggleable {\n",
       "  /* Default theme specific background. It is overwritten whether we have a\n",
       "  specific estimator or a Pipeline/ColumnTransformer */\n",
       "  background-color: var(--sklearn-color-background);\n",
       "}\n",
       "\n",
       "/* Toggleable label */\n",
       "#sk-container-id-1 label.sk-toggleable__label {\n",
       "  cursor: pointer;\n",
       "  display: flex;\n",
       "  width: 100%;\n",
       "  margin-bottom: 0;\n",
       "  padding: 0.5em;\n",
       "  box-sizing: border-box;\n",
       "  text-align: center;\n",
       "  align-items: start;\n",
       "  justify-content: space-between;\n",
       "  gap: 0.5em;\n",
       "}\n",
       "\n",
       "#sk-container-id-1 label.sk-toggleable__label .caption {\n",
       "  font-size: 0.6rem;\n",
       "  font-weight: lighter;\n",
       "  color: var(--sklearn-color-text-muted);\n",
       "}\n",
       "\n",
       "#sk-container-id-1 label.sk-toggleable__label-arrow:before {\n",
       "  /* Arrow on the left of the label */\n",
       "  content: \"▸\";\n",
       "  float: left;\n",
       "  margin-right: 0.25em;\n",
       "  color: var(--sklearn-color-icon);\n",
       "}\n",
       "\n",
       "#sk-container-id-1 label.sk-toggleable__label-arrow:hover:before {\n",
       "  color: var(--sklearn-color-text);\n",
       "}\n",
       "\n",
       "/* Toggleable content - dropdown */\n",
       "\n",
       "#sk-container-id-1 div.sk-toggleable__content {\n",
       "  max-height: 0;\n",
       "  max-width: 0;\n",
       "  overflow: hidden;\n",
       "  text-align: left;\n",
       "  /* unfitted */\n",
       "  background-color: var(--sklearn-color-unfitted-level-0);\n",
       "}\n",
       "\n",
       "#sk-container-id-1 div.sk-toggleable__content.fitted {\n",
       "  /* fitted */\n",
       "  background-color: var(--sklearn-color-fitted-level-0);\n",
       "}\n",
       "\n",
       "#sk-container-id-1 div.sk-toggleable__content pre {\n",
       "  margin: 0.2em;\n",
       "  border-radius: 0.25em;\n",
       "  color: var(--sklearn-color-text);\n",
       "  /* unfitted */\n",
       "  background-color: var(--sklearn-color-unfitted-level-0);\n",
       "}\n",
       "\n",
       "#sk-container-id-1 div.sk-toggleable__content.fitted pre {\n",
       "  /* unfitted */\n",
       "  background-color: var(--sklearn-color-fitted-level-0);\n",
       "}\n",
       "\n",
       "#sk-container-id-1 input.sk-toggleable__control:checked~div.sk-toggleable__content {\n",
       "  /* Expand drop-down */\n",
       "  max-height: 200px;\n",
       "  max-width: 100%;\n",
       "  overflow: auto;\n",
       "}\n",
       "\n",
       "#sk-container-id-1 input.sk-toggleable__control:checked~label.sk-toggleable__label-arrow:before {\n",
       "  content: \"▾\";\n",
       "}\n",
       "\n",
       "/* Pipeline/ColumnTransformer-specific style */\n",
       "\n",
       "#sk-container-id-1 div.sk-label input.sk-toggleable__control:checked~label.sk-toggleable__label {\n",
       "  color: var(--sklearn-color-text);\n",
       "  background-color: var(--sklearn-color-unfitted-level-2);\n",
       "}\n",
       "\n",
       "#sk-container-id-1 div.sk-label.fitted input.sk-toggleable__control:checked~label.sk-toggleable__label {\n",
       "  background-color: var(--sklearn-color-fitted-level-2);\n",
       "}\n",
       "\n",
       "/* Estimator-specific style */\n",
       "\n",
       "/* Colorize estimator box */\n",
       "#sk-container-id-1 div.sk-estimator input.sk-toggleable__control:checked~label.sk-toggleable__label {\n",
       "  /* unfitted */\n",
       "  background-color: var(--sklearn-color-unfitted-level-2);\n",
       "}\n",
       "\n",
       "#sk-container-id-1 div.sk-estimator.fitted input.sk-toggleable__control:checked~label.sk-toggleable__label {\n",
       "  /* fitted */\n",
       "  background-color: var(--sklearn-color-fitted-level-2);\n",
       "}\n",
       "\n",
       "#sk-container-id-1 div.sk-label label.sk-toggleable__label,\n",
       "#sk-container-id-1 div.sk-label label {\n",
       "  /* The background is the default theme color */\n",
       "  color: var(--sklearn-color-text-on-default-background);\n",
       "}\n",
       "\n",
       "/* On hover, darken the color of the background */\n",
       "#sk-container-id-1 div.sk-label:hover label.sk-toggleable__label {\n",
       "  color: var(--sklearn-color-text);\n",
       "  background-color: var(--sklearn-color-unfitted-level-2);\n",
       "}\n",
       "\n",
       "/* Label box, darken color on hover, fitted */\n",
       "#sk-container-id-1 div.sk-label.fitted:hover label.sk-toggleable__label.fitted {\n",
       "  color: var(--sklearn-color-text);\n",
       "  background-color: var(--sklearn-color-fitted-level-2);\n",
       "}\n",
       "\n",
       "/* Estimator label */\n",
       "\n",
       "#sk-container-id-1 div.sk-label label {\n",
       "  font-family: monospace;\n",
       "  font-weight: bold;\n",
       "  display: inline-block;\n",
       "  line-height: 1.2em;\n",
       "}\n",
       "\n",
       "#sk-container-id-1 div.sk-label-container {\n",
       "  text-align: center;\n",
       "}\n",
       "\n",
       "/* Estimator-specific */\n",
       "#sk-container-id-1 div.sk-estimator {\n",
       "  font-family: monospace;\n",
       "  border: 1px dotted var(--sklearn-color-border-box);\n",
       "  border-radius: 0.25em;\n",
       "  box-sizing: border-box;\n",
       "  margin-bottom: 0.5em;\n",
       "  /* unfitted */\n",
       "  background-color: var(--sklearn-color-unfitted-level-0);\n",
       "}\n",
       "\n",
       "#sk-container-id-1 div.sk-estimator.fitted {\n",
       "  /* fitted */\n",
       "  background-color: var(--sklearn-color-fitted-level-0);\n",
       "}\n",
       "\n",
       "/* on hover */\n",
       "#sk-container-id-1 div.sk-estimator:hover {\n",
       "  /* unfitted */\n",
       "  background-color: var(--sklearn-color-unfitted-level-2);\n",
       "}\n",
       "\n",
       "#sk-container-id-1 div.sk-estimator.fitted:hover {\n",
       "  /* fitted */\n",
       "  background-color: var(--sklearn-color-fitted-level-2);\n",
       "}\n",
       "\n",
       "/* Specification for estimator info (e.g. \"i\" and \"?\") */\n",
       "\n",
       "/* Common style for \"i\" and \"?\" */\n",
       "\n",
       ".sk-estimator-doc-link,\n",
       "a:link.sk-estimator-doc-link,\n",
       "a:visited.sk-estimator-doc-link {\n",
       "  float: right;\n",
       "  font-size: smaller;\n",
       "  line-height: 1em;\n",
       "  font-family: monospace;\n",
       "  background-color: var(--sklearn-color-background);\n",
       "  border-radius: 1em;\n",
       "  height: 1em;\n",
       "  width: 1em;\n",
       "  text-decoration: none !important;\n",
       "  margin-left: 0.5em;\n",
       "  text-align: center;\n",
       "  /* unfitted */\n",
       "  border: var(--sklearn-color-unfitted-level-1) 1pt solid;\n",
       "  color: var(--sklearn-color-unfitted-level-1);\n",
       "}\n",
       "\n",
       ".sk-estimator-doc-link.fitted,\n",
       "a:link.sk-estimator-doc-link.fitted,\n",
       "a:visited.sk-estimator-doc-link.fitted {\n",
       "  /* fitted */\n",
       "  border: var(--sklearn-color-fitted-level-1) 1pt solid;\n",
       "  color: var(--sklearn-color-fitted-level-1);\n",
       "}\n",
       "\n",
       "/* On hover */\n",
       "div.sk-estimator:hover .sk-estimator-doc-link:hover,\n",
       ".sk-estimator-doc-link:hover,\n",
       "div.sk-label-container:hover .sk-estimator-doc-link:hover,\n",
       ".sk-estimator-doc-link:hover {\n",
       "  /* unfitted */\n",
       "  background-color: var(--sklearn-color-unfitted-level-3);\n",
       "  color: var(--sklearn-color-background);\n",
       "  text-decoration: none;\n",
       "}\n",
       "\n",
       "div.sk-estimator.fitted:hover .sk-estimator-doc-link.fitted:hover,\n",
       ".sk-estimator-doc-link.fitted:hover,\n",
       "div.sk-label-container:hover .sk-estimator-doc-link.fitted:hover,\n",
       ".sk-estimator-doc-link.fitted:hover {\n",
       "  /* fitted */\n",
       "  background-color: var(--sklearn-color-fitted-level-3);\n",
       "  color: var(--sklearn-color-background);\n",
       "  text-decoration: none;\n",
       "}\n",
       "\n",
       "/* Span, style for the box shown on hovering the info icon */\n",
       ".sk-estimator-doc-link span {\n",
       "  display: none;\n",
       "  z-index: 9999;\n",
       "  position: relative;\n",
       "  font-weight: normal;\n",
       "  right: .2ex;\n",
       "  padding: .5ex;\n",
       "  margin: .5ex;\n",
       "  width: min-content;\n",
       "  min-width: 20ex;\n",
       "  max-width: 50ex;\n",
       "  color: var(--sklearn-color-text);\n",
       "  box-shadow: 2pt 2pt 4pt #999;\n",
       "  /* unfitted */\n",
       "  background: var(--sklearn-color-unfitted-level-0);\n",
       "  border: .5pt solid var(--sklearn-color-unfitted-level-3);\n",
       "}\n",
       "\n",
       ".sk-estimator-doc-link.fitted span {\n",
       "  /* fitted */\n",
       "  background: var(--sklearn-color-fitted-level-0);\n",
       "  border: var(--sklearn-color-fitted-level-3);\n",
       "}\n",
       "\n",
       ".sk-estimator-doc-link:hover span {\n",
       "  display: block;\n",
       "}\n",
       "\n",
       "/* \"?\"-specific style due to the `<a>` HTML tag */\n",
       "\n",
       "#sk-container-id-1 a.estimator_doc_link {\n",
       "  float: right;\n",
       "  font-size: 1rem;\n",
       "  line-height: 1em;\n",
       "  font-family: monospace;\n",
       "  background-color: var(--sklearn-color-background);\n",
       "  border-radius: 1rem;\n",
       "  height: 1rem;\n",
       "  width: 1rem;\n",
       "  text-decoration: none;\n",
       "  /* unfitted */\n",
       "  color: var(--sklearn-color-unfitted-level-1);\n",
       "  border: var(--sklearn-color-unfitted-level-1) 1pt solid;\n",
       "}\n",
       "\n",
       "#sk-container-id-1 a.estimator_doc_link.fitted {\n",
       "  /* fitted */\n",
       "  border: var(--sklearn-color-fitted-level-1) 1pt solid;\n",
       "  color: var(--sklearn-color-fitted-level-1);\n",
       "}\n",
       "\n",
       "/* On hover */\n",
       "#sk-container-id-1 a.estimator_doc_link:hover {\n",
       "  /* unfitted */\n",
       "  background-color: var(--sklearn-color-unfitted-level-3);\n",
       "  color: var(--sklearn-color-background);\n",
       "  text-decoration: none;\n",
       "}\n",
       "\n",
       "#sk-container-id-1 a.estimator_doc_link.fitted:hover {\n",
       "  /* fitted */\n",
       "  background-color: var(--sklearn-color-fitted-level-3);\n",
       "}\n",
       "</style><div id=\"sk-container-id-1\" class=\"sk-top-container\"><div class=\"sk-text-repr-fallback\"><pre>MLPClassifier(hidden_layer_sizes=(128, 64), random_state=42)</pre><b>In a Jupyter environment, please rerun this cell to show the HTML representation or trust the notebook. <br />On GitHub, the HTML representation is unable to render, please try loading this page with nbviewer.org.</b></div><div class=\"sk-container\" hidden><div class=\"sk-item\"><div class=\"sk-estimator fitted sk-toggleable\"><input class=\"sk-toggleable__control sk-hidden--visually\" id=\"sk-estimator-id-1\" type=\"checkbox\" checked><label for=\"sk-estimator-id-1\" class=\"sk-toggleable__label fitted sk-toggleable__label-arrow\"><div><div>MLPClassifier</div></div><div><a class=\"sk-estimator-doc-link fitted\" rel=\"noreferrer\" target=\"_blank\" href=\"https://scikit-learn.org/1.6/modules/generated/sklearn.neural_network.MLPClassifier.html\">?<span>Documentation for MLPClassifier</span></a><span class=\"sk-estimator-doc-link fitted\">i<span>Fitted</span></span></div></label><div class=\"sk-toggleable__content fitted\"><pre>MLPClassifier(hidden_layer_sizes=(128, 64), random_state=42)</pre></div> </div></div></div></div>"
      ],
      "text/plain": [
       "MLPClassifier(hidden_layer_sizes=(128, 64), random_state=42)"
      ]
     },
     "execution_count": 42,
     "metadata": {},
     "output_type": "execute_result"
    }
   ],
   "source": [
    "from sklearn.neural_network import MLPClassifier\n",
    "from sklearn.model_selection import train_test_split\n",
    "from sklearn.metrics import classification_report, confusion_matrix\n",
    "\n",
    "# Assuming you have df_signal_features with features and 'Class' column\n",
    "X = df_balanced.drop(columns=['record_name','Sex','Age',\"Dx\",'Class'])  # Features: exclude 'is_normal' column\n",
    "y = df_full['Class']\n",
    "\n",
    "# Split\n",
    "X_train, X_test, y_train, y_test = train_test_split(X, y, stratify=y, test_size=0.2, random_state=42)\n",
    "\n",
    "# Define MLP\n",
    "mlp = MLPClassifier(hidden_layer_sizes=(128, 64), activation='relu', solver='adam', max_iter=200, random_state=42)\n",
    "\n",
    "# Train\n",
    "mlp.fit(X_train, y_train)\n",
    "\n"
   ]
  },
  {
   "cell_type": "code",
   "execution_count": 43,
   "id": "5a076c42",
   "metadata": {
    "execution": {
     "iopub.execute_input": "2025-06-14T16:49:31.569085Z",
     "iopub.status.busy": "2025-06-14T16:49:31.568811Z",
     "iopub.status.idle": "2025-06-14T16:49:33.075226Z",
     "shell.execute_reply": "2025-06-14T16:49:33.074530Z"
    },
    "papermill": {
     "duration": 1.525415,
     "end_time": "2025-06-14T16:49:33.076863",
     "exception": false,
     "start_time": "2025-06-14T16:49:31.551448",
     "status": "completed"
    },
    "tags": []
   },
   "outputs": [
    {
     "name": "stdout",
     "output_type": "stream",
     "text": [
      "[[ 8474  1347]\n",
      " [ 1421 10425]]\n",
      "              precision    recall  f1-score   support\n",
      "\n",
      "           0       0.86      0.86      0.86      9821\n",
      "           1       0.89      0.88      0.88     11846\n",
      "\n",
      "    accuracy                           0.87     21667\n",
      "   macro avg       0.87      0.87      0.87     21667\n",
      "weighted avg       0.87      0.87      0.87     21667\n",
      "\n"
     ]
    }
   ],
   "source": [
    "\n",
    "# Evaluate\n",
    "y_pred = mlp.predict(X_test)\n",
    "print(confusion_matrix(y_test, y_pred))\n",
    "print(classification_report(y_test, y_pred))"
   ]
  },
  {
   "cell_type": "code",
   "execution_count": 44,
   "id": "9072e5cb",
   "metadata": {
    "execution": {
     "iopub.execute_input": "2025-06-14T16:49:33.112144Z",
     "iopub.status.busy": "2025-06-14T16:49:33.111793Z",
     "iopub.status.idle": "2025-06-14T16:49:33.124198Z",
     "shell.execute_reply": "2025-06-14T16:49:33.122928Z"
    },
    "papermill": {
     "duration": 0.031989,
     "end_time": "2025-06-14T16:49:33.125858",
     "exception": false,
     "start_time": "2025-06-14T16:49:33.093869",
     "status": "completed"
    },
    "tags": []
   },
   "outputs": [
    {
     "name": "stdout",
     "output_type": "stream",
     "text": [
      "Model saved successfully!\n"
     ]
    }
   ],
   "source": [
    "\n",
    "joblib.dump(mlp, 'mlp_normal_vs_abnormal_model.pkl')\n",
    "print(\"Model saved successfully!\")"
   ]
  }
 ],
 "metadata": {
  "kaggle": {
   "accelerator": "none",
   "dataSources": [
    {
     "datasetId": 7662194,
     "sourceId": 12165698,
     "sourceType": "datasetVersion"
    },
    {
     "sourceId": 245250653,
     "sourceType": "kernelVersion"
    },
    {
     "sourceId": 245441412,
     "sourceType": "kernelVersion"
    },
    {
     "sourceId": 245441818,
     "sourceType": "kernelVersion"
    }
   ],
   "dockerImageVersionId": 31012,
   "isGpuEnabled": false,
   "isInternetEnabled": true,
   "language": "python",
   "sourceType": "notebook"
  },
  "kernelspec": {
   "display_name": "Python 3",
   "language": "python",
   "name": "python3"
  },
  "language_info": {
   "codemirror_mode": {
    "name": "ipython",
    "version": 3
   },
   "file_extension": ".py",
   "mimetype": "text/x-python",
   "name": "python",
   "nbconvert_exporter": "python",
   "pygments_lexer": "ipython3",
   "version": "3.11.11"
  },
  "papermill": {
   "default_parameters": {},
   "duration": 1203.688787,
   "end_time": "2025-06-14T16:49:33.965449",
   "environment_variables": {},
   "exception": null,
   "input_path": "__notebook__.ipynb",
   "output_path": "__notebook__.ipynb",
   "parameters": {},
   "start_time": "2025-06-14T16:29:30.276662",
   "version": "2.6.0"
  }
 },
 "nbformat": 4,
 "nbformat_minor": 5
}
