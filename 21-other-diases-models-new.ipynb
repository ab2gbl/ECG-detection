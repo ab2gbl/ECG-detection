{
 "cells": [
  {
   "cell_type": "markdown",
   "id": "717cf910",
   "metadata": {
    "papermill": {
     "duration": 0.012479,
     "end_time": "2025-06-14T16:26:26.838098",
     "exception": false,
     "start_time": "2025-06-14T16:26:26.825619",
     "status": "completed"
    },
    "tags": []
   },
   "source": [
    "# diases\n",
    "> 427084000': sinus tachycardia \n",
    "> '426761007': supraventricular tachycardia\n",
    "> '427393009' sinus arrhythmia"
   ]
  },
  {
   "cell_type": "code",
   "execution_count": 1,
   "id": "19712d9f",
   "metadata": {
    "execution": {
     "iopub.execute_input": "2025-06-14T16:26:26.860766Z",
     "iopub.status.busy": "2025-06-14T16:26:26.860438Z",
     "iopub.status.idle": "2025-06-14T16:26:35.317537Z",
     "shell.execute_reply": "2025-06-14T16:26:35.316235Z"
    },
    "papermill": {
     "duration": 8.470945,
     "end_time": "2025-06-14T16:26:35.319666",
     "exception": false,
     "start_time": "2025-06-14T16:26:26.848721",
     "status": "completed"
    },
    "tags": []
   },
   "outputs": [
    {
     "name": "stdout",
     "output_type": "stream",
     "text": [
      "Requirement already satisfied: pip in /usr/local/lib/python3.11/dist-packages (24.1.2)\r\n",
      "Collecting pip\r\n",
      "  Downloading pip-25.1.1-py3-none-any.whl.metadata (3.6 kB)\r\n",
      "Downloading pip-25.1.1-py3-none-any.whl (1.8 MB)\r\n",
      "\u001b[2K   \u001b[90m━━━━━━━━━━━━━━━━━━━━━━━━━━━━━━━━━━━━━━━━\u001b[0m \u001b[32m1.8/1.8 MB\u001b[0m \u001b[31m34.3 MB/s\u001b[0m eta \u001b[36m0:00:00\u001b[0m\r\n",
      "\u001b[?25hInstalling collected packages: pip\r\n",
      "  Attempting uninstall: pip\r\n",
      "    Found existing installation: pip 24.1.2\r\n",
      "    Uninstalling pip-24.1.2:\r\n",
      "      Successfully uninstalled pip-24.1.2\r\n",
      "Successfully installed pip-25.1.1\r\n"
     ]
    }
   ],
   "source": [
    "!pip install --upgrade pip"
   ]
  },
  {
   "cell_type": "code",
   "execution_count": 2,
   "id": "c1231132",
   "metadata": {
    "execution": {
     "iopub.execute_input": "2025-06-14T16:26:35.343037Z",
     "iopub.status.busy": "2025-06-14T16:26:35.342720Z",
     "iopub.status.idle": "2025-06-14T16:26:42.798024Z",
     "shell.execute_reply": "2025-06-14T16:26:42.796955Z"
    },
    "papermill": {
     "duration": 7.469239,
     "end_time": "2025-06-14T16:26:42.800094",
     "exception": false,
     "start_time": "2025-06-14T16:26:35.330855",
     "status": "completed"
    },
    "tags": []
   },
   "outputs": [
    {
     "name": "stdout",
     "output_type": "stream",
     "text": [
      "Collecting scikit-learn==1.6.1\r\n",
      "  Downloading scikit_learn-1.6.1-cp311-cp311-manylinux_2_17_x86_64.manylinux2014_x86_64.whl.metadata (18 kB)\r\n",
      "Requirement already satisfied: numpy>=1.19.5 in /usr/local/lib/python3.11/dist-packages (from scikit-learn==1.6.1) (1.26.4)\r\n",
      "Requirement already satisfied: scipy>=1.6.0 in /usr/local/lib/python3.11/dist-packages (from scikit-learn==1.6.1) (1.15.2)\r\n",
      "Requirement already satisfied: joblib>=1.2.0 in /usr/local/lib/python3.11/dist-packages (from scikit-learn==1.6.1) (1.5.0)\r\n",
      "Requirement already satisfied: threadpoolctl>=3.1.0 in /usr/local/lib/python3.11/dist-packages (from scikit-learn==1.6.1) (3.6.0)\r\n",
      "Requirement already satisfied: mkl_fft in /usr/local/lib/python3.11/dist-packages (from numpy>=1.19.5->scikit-learn==1.6.1) (1.3.8)\r\n",
      "Requirement already satisfied: mkl_random in /usr/local/lib/python3.11/dist-packages (from numpy>=1.19.5->scikit-learn==1.6.1) (1.2.4)\r\n",
      "Requirement already satisfied: mkl_umath in /usr/local/lib/python3.11/dist-packages (from numpy>=1.19.5->scikit-learn==1.6.1) (0.1.1)\r\n",
      "Requirement already satisfied: mkl in /usr/local/lib/python3.11/dist-packages (from numpy>=1.19.5->scikit-learn==1.6.1) (2025.1.0)\r\n",
      "Requirement already satisfied: tbb4py in /usr/local/lib/python3.11/dist-packages (from numpy>=1.19.5->scikit-learn==1.6.1) (2022.1.0)\r\n",
      "Requirement already satisfied: mkl-service in /usr/local/lib/python3.11/dist-packages (from numpy>=1.19.5->scikit-learn==1.6.1) (2.4.1)\r\n",
      "Requirement already satisfied: intel-openmp<2026,>=2024 in /usr/local/lib/python3.11/dist-packages (from mkl->numpy>=1.19.5->scikit-learn==1.6.1) (2024.2.0)\r\n",
      "Requirement already satisfied: tbb==2022.* in /usr/local/lib/python3.11/dist-packages (from mkl->numpy>=1.19.5->scikit-learn==1.6.1) (2022.1.0)\r\n",
      "Requirement already satisfied: intel-cmplr-lib-ur==2024.2.0 in /usr/local/lib/python3.11/dist-packages (from intel-openmp<2026,>=2024->mkl->numpy>=1.19.5->scikit-learn==1.6.1) (2024.2.0)\r\n",
      "Requirement already satisfied: tcmlib==1.* in /usr/local/lib/python3.11/dist-packages (from tbb==2022.*->mkl->numpy>=1.19.5->scikit-learn==1.6.1) (1.3.0)\r\n",
      "Requirement already satisfied: intel-cmplr-lib-rt in /usr/local/lib/python3.11/dist-packages (from mkl_umath->numpy>=1.19.5->scikit-learn==1.6.1) (2024.2.0)\r\n",
      "Downloading scikit_learn-1.6.1-cp311-cp311-manylinux_2_17_x86_64.manylinux2014_x86_64.whl (13.5 MB)\r\n",
      "\u001b[2K   \u001b[90m━━━━━━━━━━━━━━━━━━━━━━━━━━━━━━━━━━━━━━━━\u001b[0m \u001b[32m13.5/13.5 MB\u001b[0m \u001b[31m96.8 MB/s\u001b[0m eta \u001b[36m0:00:00\u001b[0m\r\n",
      "\u001b[?25hInstalling collected packages: scikit-learn\r\n",
      "  Attempting uninstall: scikit-learn\r\n",
      "    Found existing installation: scikit-learn 1.2.2\r\n",
      "    Uninstalling scikit-learn-1.2.2:\r\n",
      "      Successfully uninstalled scikit-learn-1.2.2\r\n",
      "\u001b[31mERROR: pip's dependency resolver does not currently take into account all the packages that are installed. This behaviour is the source of the following dependency conflicts.\r\n",
      "category-encoders 2.7.0 requires scikit-learn<1.6.0,>=1.0.0, but you have scikit-learn 1.6.1 which is incompatible.\r\n",
      "cesium 0.12.4 requires numpy<3.0,>=2.0, but you have numpy 1.26.4 which is incompatible.\u001b[0m\u001b[31m\r\n",
      "\u001b[0mSuccessfully installed scikit-learn-1.6.1\r\n"
     ]
    }
   ],
   "source": [
    "!pip install scikit-learn==1.6.1"
   ]
  },
  {
   "cell_type": "code",
   "execution_count": 3,
   "id": "a9d8b0c7",
   "metadata": {
    "execution": {
     "iopub.execute_input": "2025-06-14T16:26:42.825019Z",
     "iopub.status.busy": "2025-06-14T16:26:42.824716Z",
     "iopub.status.idle": "2025-06-14T16:26:46.941672Z",
     "shell.execute_reply": "2025-06-14T16:26:46.940248Z"
    },
    "papermill": {
     "duration": 4.130917,
     "end_time": "2025-06-14T16:26:46.943322",
     "exception": false,
     "start_time": "2025-06-14T16:26:42.812405",
     "status": "completed"
    },
    "tags": []
   },
   "outputs": [
    {
     "name": "stdout",
     "output_type": "stream",
     "text": [
      "1.6.1\n"
     ]
    }
   ],
   "source": [
    "import sklearn \n",
    "print(sklearn.__version__)\n"
   ]
  },
  {
   "cell_type": "code",
   "execution_count": 4,
   "id": "679d736e",
   "metadata": {
    "execution": {
     "iopub.execute_input": "2025-06-14T16:26:46.970126Z",
     "iopub.status.busy": "2025-06-14T16:26:46.969042Z",
     "iopub.status.idle": "2025-06-14T16:26:50.184118Z",
     "shell.execute_reply": "2025-06-14T16:26:50.183128Z"
    },
    "papermill": {
     "duration": 3.230102,
     "end_time": "2025-06-14T16:26:50.185945",
     "exception": false,
     "start_time": "2025-06-14T16:26:46.955843",
     "status": "completed"
    },
    "tags": []
   },
   "outputs": [
    {
     "data": {
      "text/plain": [
       "record_name             training/georgia/g8/E07496\n",
       "Duree_QRS_ms_mean                            168.8\n",
       "Duree_QRS_ms_std                         17.364075\n",
       "Duree_QRS_ms_min                             148.0\n",
       "Duree_QRS_ms_max                             196.0\n",
       "                                   ...            \n",
       "std_Intervalle_RR_ms                     70.826862\n",
       "Age                                           55.0\n",
       "Sex                                         Female\n",
       "Dx                                   ['426783006']\n",
       "Class                                            0\n",
       "Name: 0, Length: 100, dtype: object"
      ]
     },
     "execution_count": 4,
     "metadata": {},
     "output_type": "execute_result"
    }
   ],
   "source": [
    "import pandas as pd\n",
    "from tqdm import tqdm  # optional: for progress bar\n",
    "\n",
    "origin_comp_df = pd.read_csv(\"/kaggle/input/merge-comp-2021-new/ecg-comp-2021-signals-features.csv\")\n",
    "\n",
    "origin_comp_df.iloc[0]"
   ]
  },
  {
   "cell_type": "code",
   "execution_count": 5,
   "id": "0964f1cd",
   "metadata": {
    "execution": {
     "iopub.execute_input": "2025-06-14T16:26:50.209949Z",
     "iopub.status.busy": "2025-06-14T16:26:50.209610Z",
     "iopub.status.idle": "2025-06-14T16:26:50.218498Z",
     "shell.execute_reply": "2025-06-14T16:26:50.217586Z"
    },
    "papermill": {
     "duration": 0.022555,
     "end_time": "2025-06-14T16:26:50.220017",
     "exception": false,
     "start_time": "2025-06-14T16:26:50.197462",
     "status": "completed"
    },
    "tags": []
   },
   "outputs": [
    {
     "data": {
      "text/plain": [
       "Index(['record_name', 'Duree_QRS_ms_mean', 'Duree_QRS_ms_std',\n",
       "       'Duree_QRS_ms_min', 'Duree_QRS_ms_max', 'Duree_P_ms_mean',\n",
       "       'Duree_P_ms_std', 'Duree_P_ms_min', 'Duree_P_ms_max', 'Duree_T_ms_mean',\n",
       "       'Duree_T_ms_std', 'Duree_T_ms_min', 'Duree_T_ms_max',\n",
       "       'Intervalle_QT_ms_mean', 'Intervalle_QT_ms_std', 'Intervalle_QT_ms_min',\n",
       "       'Intervalle_QT_ms_max', 'Intervalle_PR_ms_mean', 'Intervalle_PR_ms_std',\n",
       "       'Intervalle_PR_ms_min', 'Intervalle_PR_ms_max', 'Intervalle_ST_ms_mean',\n",
       "       'Intervalle_ST_ms_std', 'Intervalle_ST_ms_min', 'Intervalle_ST_ms_max',\n",
       "       'Amplitude_P_mean', 'Amplitude_P_std', 'Amplitude_P_min',\n",
       "       'Amplitude_P_max', 'Amplitude_Q_mean', 'Amplitude_Q_std',\n",
       "       'Amplitude_Q_min', 'Amplitude_Q_max', 'Amplitude_R_mean',\n",
       "       'Amplitude_R_std', 'Amplitude_R_min', 'Amplitude_R_max',\n",
       "       'Amplitude_S_mean', 'Amplitude_S_std', 'Amplitude_S_min',\n",
       "       'Amplitude_S_max', 'Amplitude_T_mean', 'Amplitude_T_std',\n",
       "       'Amplitude_T_min', 'Amplitude_T_max', 'T/R_ratio_mean', 'T/R_ratio_std',\n",
       "       'T/R_ratio_min', 'T/R_ratio_max', 'P/R_ratio_mean', 'P/R_ratio_std',\n",
       "       'P/R_ratio_min', 'P/R_ratio_max', 'QRS_area_mean', 'QRS_area_std',\n",
       "       'QRS_area_min', 'QRS_area_max', 'Slope_QR_mean', 'Slope_QR_std',\n",
       "       'Slope_QR_min', 'Slope_QR_max', 'Slope_RS_mean', 'Slope_RS_std',\n",
       "       'Slope_RS_min', 'Slope_RS_max', 'Heart_rate_bpm_mean',\n",
       "       'Heart_rate_bpm_std', 'Heart_rate_bpm_min', 'Heart_rate_bpm_max',\n",
       "       'Local_RMSSD_mean', 'Local_RMSSD_std', 'Local_RMSSD_min',\n",
       "       'Local_RMSSD_max', 'T_inversion_mean', 'T_inversion_sum',\n",
       "       'Premature_beat_sum', 'Bigeminy_sum', 'Trigeminy_sum', 'count_N',\n",
       "       'count_L', 'count_R', 'count_/', 'count_V', 'count_else', 'ratio_N',\n",
       "       'ratio_L', 'ratio_R', 'ratio_/', 'ratio_V', 'ratio_else',\n",
       "       'percent_T_inversion', 'QRS_prolonged_ratio', 'QT_prolonged_ratio',\n",
       "       'PVC_ratio', 'num_beats', 'std_Intervalle_RR_ms', 'Age', 'Sex', 'Dx',\n",
       "       'Class'],\n",
       "      dtype='object')"
      ]
     },
     "execution_count": 5,
     "metadata": {},
     "output_type": "execute_result"
    }
   ],
   "source": [
    "origin_comp_df.columns"
   ]
  },
  {
   "cell_type": "code",
   "execution_count": 6,
   "id": "c5ff264d",
   "metadata": {
    "execution": {
     "iopub.execute_input": "2025-06-14T16:26:50.243927Z",
     "iopub.status.busy": "2025-06-14T16:26:50.243632Z",
     "iopub.status.idle": "2025-06-14T16:26:50.256650Z",
     "shell.execute_reply": "2025-06-14T16:26:50.255727Z"
    },
    "papermill": {
     "duration": 0.026606,
     "end_time": "2025-06-14T16:26:50.258122",
     "exception": false,
     "start_time": "2025-06-14T16:26:50.231516",
     "status": "completed"
    },
    "tags": []
   },
   "outputs": [
    {
     "data": {
      "text/plain": [
       "Class\n",
       "2    40705\n",
       "0    28967\n",
       "1    18559\n",
       "Name: count, dtype: int64"
      ]
     },
     "execution_count": 6,
     "metadata": {},
     "output_type": "execute_result"
    }
   ],
   "source": [
    "origin_comp_df[\"Class\"].value_counts()"
   ]
  },
  {
   "cell_type": "markdown",
   "id": "5a9c0a3e",
   "metadata": {
    "papermill": {
     "duration": 0.010856,
     "end_time": "2025-06-14T16:26:50.280586",
     "exception": false,
     "start_time": "2025-06-14T16:26:50.269730",
     "status": "completed"
    },
    "tags": []
   },
   "source": [
    "# MIT-BIH norm"
   ]
  },
  {
   "cell_type": "code",
   "execution_count": 7,
   "id": "cc9b0630",
   "metadata": {
    "execution": {
     "iopub.execute_input": "2025-06-14T16:26:50.304669Z",
     "iopub.status.busy": "2025-06-14T16:26:50.304355Z",
     "iopub.status.idle": "2025-06-14T16:26:50.950004Z",
     "shell.execute_reply": "2025-06-14T16:26:50.949010Z"
    },
    "papermill": {
     "duration": 0.659818,
     "end_time": "2025-06-14T16:26:50.951910",
     "exception": false,
     "start_time": "2025-06-14T16:26:50.292092",
     "status": "completed"
    },
    "tags": []
   },
   "outputs": [],
   "source": [
    "origin_mitbih_df = pd.read_csv(\"/kaggle/input/merge-norm-mitbih-new/norm-mit-signals-features.csv\") "
   ]
  },
  {
   "cell_type": "code",
   "execution_count": 8,
   "id": "15836a89",
   "metadata": {
    "execution": {
     "iopub.execute_input": "2025-06-14T16:26:50.976741Z",
     "iopub.status.busy": "2025-06-14T16:26:50.975887Z",
     "iopub.status.idle": "2025-06-14T16:26:50.983638Z",
     "shell.execute_reply": "2025-06-14T16:26:50.982642Z"
    },
    "papermill": {
     "duration": 0.021605,
     "end_time": "2025-06-14T16:26:50.985197",
     "exception": false,
     "start_time": "2025-06-14T16:26:50.963592",
     "status": "completed"
    },
    "tags": []
   },
   "outputs": [
    {
     "data": {
      "text/plain": [
       "Class\n",
       "0    20233\n",
       "Name: count, dtype: int64"
      ]
     },
     "execution_count": 8,
     "metadata": {},
     "output_type": "execute_result"
    }
   ],
   "source": [
    "origin_mitbih_df[\"Class\"].value_counts()\n"
   ]
  },
  {
   "cell_type": "markdown",
   "id": "93eaddab",
   "metadata": {
    "papermill": {
     "duration": 0.01182,
     "end_time": "2025-06-14T16:26:51.008868",
     "exception": false,
     "start_time": "2025-06-14T16:26:50.997048",
     "status": "completed"
    },
    "tags": []
   },
   "source": [
    "# ecg arr"
   ]
  },
  {
   "cell_type": "code",
   "execution_count": 9,
   "id": "1eb7f292",
   "metadata": {
    "execution": {
     "iopub.execute_input": "2025-06-14T16:26:51.034724Z",
     "iopub.status.busy": "2025-06-14T16:26:51.034338Z",
     "iopub.status.idle": "2025-06-14T16:26:52.478891Z",
     "shell.execute_reply": "2025-06-14T16:26:52.477711Z"
    },
    "papermill": {
     "duration": 1.459624,
     "end_time": "2025-06-14T16:26:52.480683",
     "exception": false,
     "start_time": "2025-06-14T16:26:51.021059",
     "status": "completed"
    },
    "tags": []
   },
   "outputs": [
    {
     "data": {
      "text/plain": [
       "Class\n",
       "2    20461\n",
       "1    16553\n",
       "0     8125\n",
       "Name: count, dtype: int64"
      ]
     },
     "execution_count": 9,
     "metadata": {},
     "output_type": "execute_result"
    }
   ],
   "source": [
    "origin_ecgarr_df = pd.read_csv(\"/kaggle/input/ecg-arr-features/ecg-arr-signals-features.csv\") \n",
    "\n",
    "origin_ecgarr_df[\"Class\"].value_counts()\n"
   ]
  },
  {
   "cell_type": "markdown",
   "id": "5a4da0d6",
   "metadata": {
    "papermill": {
     "duration": 0.011691,
     "end_time": "2025-06-14T16:26:52.504260",
     "exception": false,
     "start_time": "2025-06-14T16:26:52.492569",
     "status": "completed"
    },
    "tags": []
   },
   "source": [
    "# challenge 2017\n"
   ]
  },
  {
   "cell_type": "code",
   "execution_count": 10,
   "id": "cd6036cb",
   "metadata": {
    "execution": {
     "iopub.execute_input": "2025-06-14T16:26:52.532716Z",
     "iopub.status.busy": "2025-06-14T16:26:52.532209Z",
     "iopub.status.idle": "2025-06-14T16:26:52.825105Z",
     "shell.execute_reply": "2025-06-14T16:26:52.824171Z"
    },
    "papermill": {
     "duration": 0.309344,
     "end_time": "2025-06-14T16:26:52.826664",
     "exception": false,
     "start_time": "2025-06-14T16:26:52.517320",
     "status": "completed"
    },
    "tags": []
   },
   "outputs": [
    {
     "data": {
      "text/plain": [
       "8527"
      ]
     },
     "execution_count": 10,
     "metadata": {},
     "output_type": "execute_result"
    }
   ],
   "source": [
    "origin_ch2017_df = pd.read_csv(\"/kaggle/input/merge-challenge-2017-new/challenge-2017-signals-features.csv\") \n",
    "len(origin_ch2017_df)\n"
   ]
  },
  {
   "cell_type": "code",
   "execution_count": 11,
   "id": "ae11ab73",
   "metadata": {
    "execution": {
     "iopub.execute_input": "2025-06-14T16:26:52.852882Z",
     "iopub.status.busy": "2025-06-14T16:26:52.852568Z",
     "iopub.status.idle": "2025-06-14T16:26:52.868261Z",
     "shell.execute_reply": "2025-06-14T16:26:52.867422Z"
    },
    "papermill": {
     "duration": 0.030699,
     "end_time": "2025-06-14T16:26:52.870357",
     "exception": false,
     "start_time": "2025-06-14T16:26:52.839658",
     "status": "completed"
    },
    "tags": []
   },
   "outputs": [],
   "source": [
    "origin_ch2017_df['Class'] = origin_ch2017_df['type'].apply(lambda x: 0 if x == 'N' else 2)\n",
    "origin_ch2017_df = origin_ch2017_df.drop(columns=['type'])"
   ]
  },
  {
   "cell_type": "code",
   "execution_count": 12,
   "id": "405a56a7",
   "metadata": {
    "execution": {
     "iopub.execute_input": "2025-06-14T16:26:52.970223Z",
     "iopub.status.busy": "2025-06-14T16:26:52.969893Z",
     "iopub.status.idle": "2025-06-14T16:26:52.978566Z",
     "shell.execute_reply": "2025-06-14T16:26:52.977598Z"
    },
    "papermill": {
     "duration": 0.023852,
     "end_time": "2025-06-14T16:26:52.980185",
     "exception": false,
     "start_time": "2025-06-14T16:26:52.956333",
     "status": "completed"
    },
    "tags": []
   },
   "outputs": [
    {
     "data": {
      "text/plain": [
       "Class\n",
       "0    5075\n",
       "2    3452\n",
       "Name: count, dtype: int64"
      ]
     },
     "execution_count": 12,
     "metadata": {},
     "output_type": "execute_result"
    }
   ],
   "source": [
    "origin_ch2017_df[\"Class\"].value_counts()"
   ]
  },
  {
   "cell_type": "markdown",
   "id": "d89d722d",
   "metadata": {
    "papermill": {
     "duration": 0.0116,
     "end_time": "2025-06-14T16:26:53.004127",
     "exception": false,
     "start_time": "2025-06-14T16:26:52.992527",
     "status": "completed"
    },
    "tags": []
   },
   "source": [
    "# full data"
   ]
  },
  {
   "cell_type": "code",
   "execution_count": 13,
   "id": "2cd48263",
   "metadata": {
    "execution": {
     "iopub.execute_input": "2025-06-14T16:26:53.030115Z",
     "iopub.status.busy": "2025-06-14T16:26:53.029505Z",
     "iopub.status.idle": "2025-06-14T16:26:53.072332Z",
     "shell.execute_reply": "2025-06-14T16:26:53.071210Z"
    },
    "papermill": {
     "duration": 0.058243,
     "end_time": "2025-06-14T16:26:53.074293",
     "exception": false,
     "start_time": "2025-06-14T16:26:53.016050",
     "status": "completed"
    },
    "tags": []
   },
   "outputs": [],
   "source": [
    "arr3 = [origin_comp_df,origin_mitbih_df]\n",
    "#arr3 = [origin_comp_df]\n",
    "\n",
    "sign_df = pd.concat(arr3, ignore_index=True)"
   ]
  },
  {
   "cell_type": "code",
   "execution_count": 14,
   "id": "e21db8b8",
   "metadata": {
    "execution": {
     "iopub.execute_input": "2025-06-14T16:26:53.101686Z",
     "iopub.status.busy": "2025-06-14T16:26:53.101308Z",
     "iopub.status.idle": "2025-06-14T16:26:53.185011Z",
     "shell.execute_reply": "2025-06-14T16:26:53.181164Z"
    },
    "papermill": {
     "duration": 0.100783,
     "end_time": "2025-06-14T16:26:53.187999",
     "exception": false,
     "start_time": "2025-06-14T16:26:53.087216",
     "status": "completed"
    },
    "tags": []
   },
   "outputs": [],
   "source": [
    "arr4 = [origin_comp_df,origin_mitbih_df,origin_ecgarr_df,origin_ch2017_df]\n",
    "#arr3 = [origin_comp_df]\n",
    "\n",
    "sign_df2 = pd.concat(arr4, ignore_index=True)"
   ]
  },
  {
   "cell_type": "code",
   "execution_count": 15,
   "id": "fd765caf",
   "metadata": {
    "execution": {
     "iopub.execute_input": "2025-06-14T16:26:53.223956Z",
     "iopub.status.busy": "2025-06-14T16:26:53.223600Z",
     "iopub.status.idle": "2025-06-14T16:26:53.408302Z",
     "shell.execute_reply": "2025-06-14T16:26:53.407363Z"
    },
    "papermill": {
     "duration": 0.207325,
     "end_time": "2025-06-14T16:26:53.411381",
     "exception": false,
     "start_time": "2025-06-14T16:26:53.204056",
     "status": "completed"
    },
    "tags": []
   },
   "outputs": [
    {
     "name": "stderr",
     "output_type": "stream",
     "text": [
      "/usr/local/lib/python3.11/dist-packages/pandas/io/formats/format.py:1458: RuntimeWarning: invalid value encountered in greater\n",
      "  has_large_values = (abs_vals > 1e6).any()\n",
      "/usr/local/lib/python3.11/dist-packages/pandas/io/formats/format.py:1459: RuntimeWarning: invalid value encountered in less\n",
      "  has_small_values = ((abs_vals < 10 ** (-self.digits)) & (abs_vals > 0)).any()\n",
      "/usr/local/lib/python3.11/dist-packages/pandas/io/formats/format.py:1459: RuntimeWarning: invalid value encountered in greater\n",
      "  has_small_values = ((abs_vals < 10 ** (-self.digits)) & (abs_vals > 0)).any()\n",
      "/usr/local/lib/python3.11/dist-packages/pandas/io/formats/format.py:1458: RuntimeWarning: invalid value encountered in greater\n",
      "  has_large_values = (abs_vals > 1e6).any()\n",
      "/usr/local/lib/python3.11/dist-packages/pandas/io/formats/format.py:1459: RuntimeWarning: invalid value encountered in less\n",
      "  has_small_values = ((abs_vals < 10 ** (-self.digits)) & (abs_vals > 0)).any()\n",
      "/usr/local/lib/python3.11/dist-packages/pandas/io/formats/format.py:1459: RuntimeWarning: invalid value encountered in greater\n",
      "  has_small_values = ((abs_vals < 10 ** (-self.digits)) & (abs_vals > 0)).any()\n"
     ]
    },
    {
     "data": {
      "text/html": [
       "<div>\n",
       "<style scoped>\n",
       "    .dataframe tbody tr th:only-of-type {\n",
       "        vertical-align: middle;\n",
       "    }\n",
       "\n",
       "    .dataframe tbody tr th {\n",
       "        vertical-align: top;\n",
       "    }\n",
       "\n",
       "    .dataframe thead th {\n",
       "        text-align: right;\n",
       "    }\n",
       "</style>\n",
       "<table border=\"1\" class=\"dataframe\">\n",
       "  <thead>\n",
       "    <tr style=\"text-align: right;\">\n",
       "      <th></th>\n",
       "      <th>record_name</th>\n",
       "      <th>Duree_QRS_ms_mean</th>\n",
       "      <th>Duree_QRS_ms_std</th>\n",
       "      <th>Duree_QRS_ms_min</th>\n",
       "      <th>Duree_QRS_ms_max</th>\n",
       "      <th>Duree_P_ms_mean</th>\n",
       "      <th>Duree_P_ms_std</th>\n",
       "      <th>Duree_P_ms_min</th>\n",
       "      <th>Duree_P_ms_max</th>\n",
       "      <th>Duree_T_ms_mean</th>\n",
       "      <th>...</th>\n",
       "      <th>percent_T_inversion</th>\n",
       "      <th>QRS_prolonged_ratio</th>\n",
       "      <th>QT_prolonged_ratio</th>\n",
       "      <th>PVC_ratio</th>\n",
       "      <th>num_beats</th>\n",
       "      <th>std_Intervalle_RR_ms</th>\n",
       "      <th>Age</th>\n",
       "      <th>Sex</th>\n",
       "      <th>Dx</th>\n",
       "      <th>Class</th>\n",
       "    </tr>\n",
       "  </thead>\n",
       "  <tbody>\n",
       "    <tr>\n",
       "      <th>1148</th>\n",
       "      <td>training/georgia/g9/E08644</td>\n",
       "      <td>208.000000</td>\n",
       "      <td>67.882251</td>\n",
       "      <td>160.0</td>\n",
       "      <td>256.0</td>\n",
       "      <td>340.000000</td>\n",
       "      <td>316.783838</td>\n",
       "      <td>116.0</td>\n",
       "      <td>564.0</td>\n",
       "      <td>168.000000</td>\n",
       "      <td>...</td>\n",
       "      <td>0.000000</td>\n",
       "      <td>1.0</td>\n",
       "      <td>1.000000</td>\n",
       "      <td>0.000000</td>\n",
       "      <td>2</td>\n",
       "      <td>NaN</td>\n",
       "      <td>41.0</td>\n",
       "      <td>Male</td>\n",
       "      <td>['270492004', '426177001']</td>\n",
       "      <td>1</td>\n",
       "    </tr>\n",
       "    <tr>\n",
       "      <th>1251</th>\n",
       "      <td>training/georgia/g9/E08747</td>\n",
       "      <td>216.000000</td>\n",
       "      <td>22.627417</td>\n",
       "      <td>200.0</td>\n",
       "      <td>232.0</td>\n",
       "      <td>86.000000</td>\n",
       "      <td>121.622366</td>\n",
       "      <td>0.0</td>\n",
       "      <td>172.0</td>\n",
       "      <td>22.000000</td>\n",
       "      <td>...</td>\n",
       "      <td>-0.500000</td>\n",
       "      <td>1.0</td>\n",
       "      <td>0.000000</td>\n",
       "      <td>0.500000</td>\n",
       "      <td>2</td>\n",
       "      <td>NaN</td>\n",
       "      <td>65.0</td>\n",
       "      <td>Female</td>\n",
       "      <td>['713426002', '47665007', '164934002', '164890...</td>\n",
       "      <td>2</td>\n",
       "    </tr>\n",
       "    <tr>\n",
       "      <th>1293</th>\n",
       "      <td>training/georgia/g9/E08789</td>\n",
       "      <td>216.000000</td>\n",
       "      <td>22.627417</td>\n",
       "      <td>200.0</td>\n",
       "      <td>232.0</td>\n",
       "      <td>86.000000</td>\n",
       "      <td>121.622366</td>\n",
       "      <td>0.0</td>\n",
       "      <td>172.0</td>\n",
       "      <td>22.000000</td>\n",
       "      <td>...</td>\n",
       "      <td>-0.500000</td>\n",
       "      <td>1.0</td>\n",
       "      <td>0.000000</td>\n",
       "      <td>0.500000</td>\n",
       "      <td>2</td>\n",
       "      <td>NaN</td>\n",
       "      <td>65.0</td>\n",
       "      <td>Female</td>\n",
       "      <td>['713426002', '47665007', '164934002', '164890...</td>\n",
       "      <td>2</td>\n",
       "    </tr>\n",
       "    <tr>\n",
       "      <th>1565</th>\n",
       "      <td>training/ningbo/g1/JS10708</td>\n",
       "      <td>508.000000</td>\n",
       "      <td>NaN</td>\n",
       "      <td>508.0</td>\n",
       "      <td>508.0</td>\n",
       "      <td>816.000000</td>\n",
       "      <td>NaN</td>\n",
       "      <td>816.0</td>\n",
       "      <td>816.0</td>\n",
       "      <td>480.000000</td>\n",
       "      <td>...</td>\n",
       "      <td>1.000000</td>\n",
       "      <td>1.0</td>\n",
       "      <td>1.000000</td>\n",
       "      <td>1.000000</td>\n",
       "      <td>1</td>\n",
       "      <td>NaN</td>\n",
       "      <td>89.0</td>\n",
       "      <td>Male</td>\n",
       "      <td>['111975006', '39732003', '164890007']</td>\n",
       "      <td>2</td>\n",
       "    </tr>\n",
       "    <tr>\n",
       "      <th>4977</th>\n",
       "      <td>training/ningbo/g12/JS22121</td>\n",
       "      <td>242.000000</td>\n",
       "      <td>65.053824</td>\n",
       "      <td>196.0</td>\n",
       "      <td>288.0</td>\n",
       "      <td>124.000000</td>\n",
       "      <td>39.597980</td>\n",
       "      <td>96.0</td>\n",
       "      <td>152.0</td>\n",
       "      <td>122.000000</td>\n",
       "      <td>...</td>\n",
       "      <td>1.000000</td>\n",
       "      <td>1.0</td>\n",
       "      <td>0.500000</td>\n",
       "      <td>0.000000</td>\n",
       "      <td>2</td>\n",
       "      <td>NaN</td>\n",
       "      <td>82.0</td>\n",
       "      <td>Male</td>\n",
       "      <td>['427084000', '75532003', '698252002', '164934...</td>\n",
       "      <td>2</td>\n",
       "    </tr>\n",
       "    <tr>\n",
       "      <th>...</th>\n",
       "      <td>...</td>\n",
       "      <td>...</td>\n",
       "      <td>...</td>\n",
       "      <td>...</td>\n",
       "      <td>...</td>\n",
       "      <td>...</td>\n",
       "      <td>...</td>\n",
       "      <td>...</td>\n",
       "      <td>...</td>\n",
       "      <td>...</td>\n",
       "      <td>...</td>\n",
       "      <td>...</td>\n",
       "      <td>...</td>\n",
       "      <td>...</td>\n",
       "      <td>...</td>\n",
       "      <td>...</td>\n",
       "      <td>...</td>\n",
       "      <td>...</td>\n",
       "      <td>...</td>\n",
       "      <td>...</td>\n",
       "      <td>...</td>\n",
       "    </tr>\n",
       "    <tr>\n",
       "      <th>162125</th>\n",
       "      <td>A08/A08524</td>\n",
       "      <td>183.000000</td>\n",
       "      <td>26.239591</td>\n",
       "      <td>148.0</td>\n",
       "      <td>260.0</td>\n",
       "      <td>90.875000</td>\n",
       "      <td>121.781335</td>\n",
       "      <td>0.0</td>\n",
       "      <td>472.0</td>\n",
       "      <td>174.375000</td>\n",
       "      <td>...</td>\n",
       "      <td>0.500000</td>\n",
       "      <td>1.0</td>\n",
       "      <td>0.468750</td>\n",
       "      <td>0.000000</td>\n",
       "      <td>32</td>\n",
       "      <td>224.230757</td>\n",
       "      <td>NaN</td>\n",
       "      <td>NaN</td>\n",
       "      <td>NaN</td>\n",
       "      <td>0</td>\n",
       "    </tr>\n",
       "    <tr>\n",
       "      <th>162126</th>\n",
       "      <td>A08/A08525</td>\n",
       "      <td>236.666667</td>\n",
       "      <td>28.978265</td>\n",
       "      <td>136.0</td>\n",
       "      <td>296.0</td>\n",
       "      <td>48.476190</td>\n",
       "      <td>62.345707</td>\n",
       "      <td>0.0</td>\n",
       "      <td>224.0</td>\n",
       "      <td>189.047619</td>\n",
       "      <td>...</td>\n",
       "      <td>0.904762</td>\n",
       "      <td>1.0</td>\n",
       "      <td>0.166667</td>\n",
       "      <td>0.119048</td>\n",
       "      <td>42</td>\n",
       "      <td>122.062599</td>\n",
       "      <td>NaN</td>\n",
       "      <td>NaN</td>\n",
       "      <td>NaN</td>\n",
       "      <td>2</td>\n",
       "    </tr>\n",
       "    <tr>\n",
       "      <th>162127</th>\n",
       "      <td>A08/A08526</td>\n",
       "      <td>187.047619</td>\n",
       "      <td>34.801845</td>\n",
       "      <td>140.0</td>\n",
       "      <td>252.0</td>\n",
       "      <td>155.238095</td>\n",
       "      <td>59.298258</td>\n",
       "      <td>80.0</td>\n",
       "      <td>368.0</td>\n",
       "      <td>190.761905</td>\n",
       "      <td>...</td>\n",
       "      <td>0.047619</td>\n",
       "      <td>1.0</td>\n",
       "      <td>0.190476</td>\n",
       "      <td>0.000000</td>\n",
       "      <td>42</td>\n",
       "      <td>63.632635</td>\n",
       "      <td>NaN</td>\n",
       "      <td>NaN</td>\n",
       "      <td>NaN</td>\n",
       "      <td>0</td>\n",
       "    </tr>\n",
       "    <tr>\n",
       "      <th>162128</th>\n",
       "      <td>A08/A08527</td>\n",
       "      <td>242.956522</td>\n",
       "      <td>63.969075</td>\n",
       "      <td>140.0</td>\n",
       "      <td>428.0</td>\n",
       "      <td>118.869565</td>\n",
       "      <td>74.755485</td>\n",
       "      <td>0.0</td>\n",
       "      <td>248.0</td>\n",
       "      <td>127.304348</td>\n",
       "      <td>...</td>\n",
       "      <td>0.260870</td>\n",
       "      <td>1.0</td>\n",
       "      <td>0.217391</td>\n",
       "      <td>0.021739</td>\n",
       "      <td>46</td>\n",
       "      <td>148.204772</td>\n",
       "      <td>NaN</td>\n",
       "      <td>NaN</td>\n",
       "      <td>NaN</td>\n",
       "      <td>0</td>\n",
       "    </tr>\n",
       "    <tr>\n",
       "      <th>162129</th>\n",
       "      <td>A08/A08528</td>\n",
       "      <td>168.645161</td>\n",
       "      <td>28.380214</td>\n",
       "      <td>136.0</td>\n",
       "      <td>248.0</td>\n",
       "      <td>162.838710</td>\n",
       "      <td>68.330128</td>\n",
       "      <td>96.0</td>\n",
       "      <td>304.0</td>\n",
       "      <td>215.741935</td>\n",
       "      <td>...</td>\n",
       "      <td>0.064516</td>\n",
       "      <td>1.0</td>\n",
       "      <td>0.225806</td>\n",
       "      <td>0.000000</td>\n",
       "      <td>31</td>\n",
       "      <td>32.508602</td>\n",
       "      <td>NaN</td>\n",
       "      <td>NaN</td>\n",
       "      <td>NaN</td>\n",
       "      <td>0</td>\n",
       "    </tr>\n",
       "  </tbody>\n",
       "</table>\n",
       "<p>8680 rows × 100 columns</p>\n",
       "</div>"
      ],
      "text/plain": [
       "                        record_name  Duree_QRS_ms_mean  Duree_QRS_ms_std  \\\n",
       "1148     training/georgia/g9/E08644         208.000000         67.882251   \n",
       "1251     training/georgia/g9/E08747         216.000000         22.627417   \n",
       "1293     training/georgia/g9/E08789         216.000000         22.627417   \n",
       "1565     training/ningbo/g1/JS10708         508.000000               NaN   \n",
       "4977    training/ningbo/g12/JS22121         242.000000         65.053824   \n",
       "...                             ...                ...               ...   \n",
       "162125                   A08/A08524         183.000000         26.239591   \n",
       "162126                   A08/A08525         236.666667         28.978265   \n",
       "162127                   A08/A08526         187.047619         34.801845   \n",
       "162128                   A08/A08527         242.956522         63.969075   \n",
       "162129                   A08/A08528         168.645161         28.380214   \n",
       "\n",
       "        Duree_QRS_ms_min  Duree_QRS_ms_max  Duree_P_ms_mean  Duree_P_ms_std  \\\n",
       "1148               160.0             256.0       340.000000      316.783838   \n",
       "1251               200.0             232.0        86.000000      121.622366   \n",
       "1293               200.0             232.0        86.000000      121.622366   \n",
       "1565               508.0             508.0       816.000000             NaN   \n",
       "4977               196.0             288.0       124.000000       39.597980   \n",
       "...                  ...               ...              ...             ...   \n",
       "162125             148.0             260.0        90.875000      121.781335   \n",
       "162126             136.0             296.0        48.476190       62.345707   \n",
       "162127             140.0             252.0       155.238095       59.298258   \n",
       "162128             140.0             428.0       118.869565       74.755485   \n",
       "162129             136.0             248.0       162.838710       68.330128   \n",
       "\n",
       "        Duree_P_ms_min  Duree_P_ms_max  Duree_T_ms_mean  ...  \\\n",
       "1148             116.0           564.0       168.000000  ...   \n",
       "1251               0.0           172.0        22.000000  ...   \n",
       "1293               0.0           172.0        22.000000  ...   \n",
       "1565             816.0           816.0       480.000000  ...   \n",
       "4977              96.0           152.0       122.000000  ...   \n",
       "...                ...             ...              ...  ...   \n",
       "162125             0.0           472.0       174.375000  ...   \n",
       "162126             0.0           224.0       189.047619  ...   \n",
       "162127            80.0           368.0       190.761905  ...   \n",
       "162128             0.0           248.0       127.304348  ...   \n",
       "162129            96.0           304.0       215.741935  ...   \n",
       "\n",
       "        percent_T_inversion  QRS_prolonged_ratio  QT_prolonged_ratio  \\\n",
       "1148               0.000000                  1.0            1.000000   \n",
       "1251              -0.500000                  1.0            0.000000   \n",
       "1293              -0.500000                  1.0            0.000000   \n",
       "1565               1.000000                  1.0            1.000000   \n",
       "4977               1.000000                  1.0            0.500000   \n",
       "...                     ...                  ...                 ...   \n",
       "162125             0.500000                  1.0            0.468750   \n",
       "162126             0.904762                  1.0            0.166667   \n",
       "162127             0.047619                  1.0            0.190476   \n",
       "162128             0.260870                  1.0            0.217391   \n",
       "162129             0.064516                  1.0            0.225806   \n",
       "\n",
       "        PVC_ratio  num_beats  std_Intervalle_RR_ms   Age     Sex  \\\n",
       "1148     0.000000          2                   NaN  41.0    Male   \n",
       "1251     0.500000          2                   NaN  65.0  Female   \n",
       "1293     0.500000          2                   NaN  65.0  Female   \n",
       "1565     1.000000          1                   NaN  89.0    Male   \n",
       "4977     0.000000          2                   NaN  82.0    Male   \n",
       "...           ...        ...                   ...   ...     ...   \n",
       "162125   0.000000         32            224.230757   NaN     NaN   \n",
       "162126   0.119048         42            122.062599   NaN     NaN   \n",
       "162127   0.000000         42             63.632635   NaN     NaN   \n",
       "162128   0.021739         46            148.204772   NaN     NaN   \n",
       "162129   0.000000         31             32.508602   NaN     NaN   \n",
       "\n",
       "                                                       Dx  Class  \n",
       "1148                           ['270492004', '426177001']      1  \n",
       "1251    ['713426002', '47665007', '164934002', '164890...      2  \n",
       "1293    ['713426002', '47665007', '164934002', '164890...      2  \n",
       "1565               ['111975006', '39732003', '164890007']      2  \n",
       "4977    ['427084000', '75532003', '698252002', '164934...      2  \n",
       "...                                                   ...    ...  \n",
       "162125                                                NaN      0  \n",
       "162126                                                NaN      2  \n",
       "162127                                                NaN      0  \n",
       "162128                                                NaN      0  \n",
       "162129                                                NaN      0  \n",
       "\n",
       "[8680 rows x 100 columns]"
      ]
     },
     "execution_count": 15,
     "metadata": {},
     "output_type": "execute_result"
    }
   ],
   "source": [
    "# check null except age and sex\n",
    "mask = sign_df2.drop(columns=[\"Age\", \"Sex\"]).isnull().any(axis=1)\n",
    "df_with_nulls = sign_df2[mask]\n",
    "df_with_nulls"
   ]
  },
  {
   "cell_type": "code",
   "execution_count": 16,
   "id": "56bc5197",
   "metadata": {
    "execution": {
     "iopub.execute_input": "2025-06-14T16:26:53.447967Z",
     "iopub.status.busy": "2025-06-14T16:26:53.447675Z",
     "iopub.status.idle": "2025-06-14T16:26:53.458432Z",
     "shell.execute_reply": "2025-06-14T16:26:53.457069Z"
    },
    "papermill": {
     "duration": 0.030283,
     "end_time": "2025-06-14T16:26:53.460281",
     "exception": false,
     "start_time": "2025-06-14T16:26:53.429998",
     "status": "completed"
    },
    "tags": []
   },
   "outputs": [
    {
     "data": {
      "text/plain": [
       "Class\n",
       "2    64618\n",
       "0    62400\n",
       "1    35112\n",
       "Name: count, dtype: int64"
      ]
     },
     "execution_count": 16,
     "metadata": {},
     "output_type": "execute_result"
    }
   ],
   "source": [
    "sign_df2[\"Class\"].value_counts()"
   ]
  },
  {
   "cell_type": "code",
   "execution_count": 17,
   "id": "6d171e11",
   "metadata": {
    "execution": {
     "iopub.execute_input": "2025-06-14T16:26:53.489971Z",
     "iopub.status.busy": "2025-06-14T16:26:53.489689Z",
     "iopub.status.idle": "2025-06-14T16:26:53.498879Z",
     "shell.execute_reply": "2025-06-14T16:26:53.497731Z"
    },
    "papermill": {
     "duration": 0.026822,
     "end_time": "2025-06-14T16:26:53.501262",
     "exception": false,
     "start_time": "2025-06-14T16:26:53.474440",
     "status": "completed"
    },
    "tags": []
   },
   "outputs": [
    {
     "data": {
      "text/plain": [
       "record_name             training/georgia/g8/E07496\n",
       "Duree_QRS_ms_mean                            168.8\n",
       "Duree_QRS_ms_std                         17.364075\n",
       "Duree_QRS_ms_min                             148.0\n",
       "Duree_QRS_ms_max                             196.0\n",
       "                                   ...            \n",
       "std_Intervalle_RR_ms                     70.826862\n",
       "Age                                           55.0\n",
       "Sex                                         Female\n",
       "Dx                                   ['426783006']\n",
       "Class                                            0\n",
       "Name: 0, Length: 100, dtype: object"
      ]
     },
     "execution_count": 17,
     "metadata": {},
     "output_type": "execute_result"
    }
   ],
   "source": [
    "origin_comp_df.iloc[0]"
   ]
  },
  {
   "cell_type": "markdown",
   "id": "8ec87f78",
   "metadata": {
    "papermill": {
     "duration": 0.021591,
     "end_time": "2025-06-14T16:26:53.541704",
     "exception": false,
     "start_time": "2025-06-14T16:26:53.520113",
     "status": "completed"
    },
    "tags": []
   },
   "source": [
    "# diases 1 : sinus tachycardia"
   ]
  },
  {
   "cell_type": "code",
   "execution_count": 18,
   "id": "86931b25",
   "metadata": {
    "execution": {
     "iopub.execute_input": "2025-06-14T16:26:53.576567Z",
     "iopub.status.busy": "2025-06-14T16:26:53.575072Z",
     "iopub.status.idle": "2025-06-14T16:26:55.474500Z",
     "shell.execute_reply": "2025-06-14T16:26:55.473223Z"
    },
    "papermill": {
     "duration": 1.917519,
     "end_time": "2025-06-14T16:26:55.476073",
     "exception": false,
     "start_time": "2025-06-14T16:26:53.558554",
     "status": "completed"
    },
    "tags": []
   },
   "outputs": [
    {
     "name": "stdout",
     "output_type": "stream",
     "text": [
      "Counter({'426783006': 57325, '426177001': 35477, '164934002': 18759, '427084000': 16906, '164890007': 16432, '55827005': 10802, '55930002': 9241, '39732003': 9175, '164889003': 7034, '59931005': 6866, '427393009': 6340, '164865005': 6263, '428750005': 5868, '429622005': 5313, '164873001': 5052, '270492004': 4674, '284470004': 4351, '59118001': 3700, '164951009': 3389, '164917005': 3138, '164930006': 3076, '713427006': 2874, '10370003': 2660, '251146004': 2642, '445118002': 2566, '164861001': 2559, '698252002': 2539, '427172004': 2368, '111975006': 2300, '47665007': 2130, '713426002': 2103, '164884008': 1943, '164909002': 1520, '426761007': 1502, '61721007': 1306, '67741000119109': 1300, '365413008': 1274, '164867002': 1167, '425623009': 1043, '17338001': 952, '6374002': 907, '428417006': 872, '164931005': 804, '425419005': 670, '713422000': 637, '233917008': 567, '54329005': 530, '89792004': 452, '164947007': 444, '106068003': 430, '251223006': 428, '733534002': 426, '426434006': 325, '251199005': 324, '426627000': 302, '29320008': 284, '164912004': 284, '164937009': 273, '13640000': 239, '63593006': 233, '74390002': 232, '425856008': 231, '251120003': 217, '251205003': 212, '445211001': 211, '27885002': 203, '81898007': 192, '195042002': 190, '446358003': 189, '413844008': 161, '426995002': 159, '251200008': 156, '164896001': 154, '251198002': 152, '251170000': 129, '266249003': 119, '50799005': 118, '75532003': 116, '57054005': 104, '11157007': 104, '253352002': 72, '67751000119106': 72, '5609005': 66, '54016002': 65, '195126007': 62, '446813000': 56, '426648003': 54, '251268003': 52, '233897008': 52, '49578007': 51, '251266004': 45, '251180001': 45, '426664006': 43, '195080001': 41, '53741008': 37, '251187003': 34, '233892002': 32, '251166008': 32, '195060002': 32, '67198005': 27, '61277005': 24, '251164006': 24, '251182009': 23, '65778007': 19, '698247007': 16, '111288001': 15, '253339007': 14, '426183003': 14, '17366009': 14, '251139008': 12, '164895002': 12, '195101003': 11, '164921003': 11, '418818005': 10, '251173003': 9, '84114007': 7, '266257000': 7, '368009': 6, '164942001': 6, '77867006': 5, '204384007': 2, '314208002': 2, '282825002': 2, '74615001': 2, '60423000': 2, '49260003': 2, '413444003': 2, '251168009': 1, '370365005': 1, '704997005': 1, '82226007': 1, '251259000': 1, '426749004': 1})\n"
     ]
    }
   ],
   "source": [
    "from collections import Counter\n",
    "from itertools import chain\n",
    "import ast\n",
    "# Assuming df[\"dx\"] contains lists\n",
    "arr5 = [origin_comp_df,origin_mitbih_df,origin_ecgarr_df]\n",
    "sign_df3 = pd.concat(arr5, ignore_index=True)\n",
    "\n",
    "# If \"Dx\" entries are strings like \"[164934002, 427084000]\"\n",
    "parsed_dx_lists = sign_df3[\"Dx\"].apply(ast.literal_eval)\n",
    "\n",
    "# Flatten and count\n",
    "code_counts = Counter(chain.from_iterable(parsed_dx_lists))\n",
    "\n",
    "# Print how many times 164934002 appears\n",
    "print(code_counts)"
   ]
  },
  {
   "cell_type": "code",
   "execution_count": 19,
   "id": "fdae32ef",
   "metadata": {
    "execution": {
     "iopub.execute_input": "2025-06-14T16:26:55.506123Z",
     "iopub.status.busy": "2025-06-14T16:26:55.505785Z",
     "iopub.status.idle": "2025-06-14T16:26:55.517261Z",
     "shell.execute_reply": "2025-06-14T16:26:55.515512Z"
    },
    "papermill": {
     "duration": 0.029919,
     "end_time": "2025-06-14T16:26:55.519980",
     "exception": false,
     "start_time": "2025-06-14T16:26:55.490061",
     "status": "completed"
    },
    "tags": []
   },
   "outputs": [
    {
     "data": {
      "text/plain": [
       "Class\n",
       "2    61166\n",
       "0    57325\n",
       "1    35112\n",
       "Name: count, dtype: int64"
      ]
     },
     "execution_count": 19,
     "metadata": {},
     "output_type": "execute_result"
    }
   ],
   "source": [
    "sign_df3[\"Class\"].value_counts()\n"
   ]
  },
  {
   "cell_type": "code",
   "execution_count": 20,
   "id": "05ccd557",
   "metadata": {
    "execution": {
     "iopub.execute_input": "2025-06-14T16:26:55.551880Z",
     "iopub.status.busy": "2025-06-14T16:26:55.551073Z",
     "iopub.status.idle": "2025-06-14T16:26:55.612846Z",
     "shell.execute_reply": "2025-06-14T16:26:55.611582Z"
    },
    "papermill": {
     "duration": 0.080081,
     "end_time": "2025-06-14T16:26:55.614611",
     "exception": false,
     "start_time": "2025-06-14T16:26:55.534530",
     "status": "completed"
    },
    "tags": []
   },
   "outputs": [
    {
     "name": "stdout",
     "output_type": "stream",
     "text": [
      "96278\n"
     ]
    }
   ],
   "source": [
    "sign_df3_ab = sign_df3[sign_df3[\"Class\"] != 0]\n",
    "print(len(sign_df3_ab))\n"
   ]
  },
  {
   "cell_type": "code",
   "execution_count": 21,
   "id": "1eca2373",
   "metadata": {
    "execution": {
     "iopub.execute_input": "2025-06-14T16:26:55.642774Z",
     "iopub.status.busy": "2025-06-14T16:26:55.642453Z",
     "iopub.status.idle": "2025-06-14T16:26:55.649473Z",
     "shell.execute_reply": "2025-06-14T16:26:55.648222Z"
    },
    "papermill": {
     "duration": 0.023004,
     "end_time": "2025-06-14T16:26:55.651184",
     "exception": false,
     "start_time": "2025-06-14T16:26:55.628180",
     "status": "completed"
    },
    "tags": []
   },
   "outputs": [
    {
     "name": "stderr",
     "output_type": "stream",
     "text": [
      "/tmp/ipykernel_13/1236508171.py:1: SettingWithCopyWarning: \n",
      "A value is trying to be set on a copy of a slice from a DataFrame.\n",
      "Try using .loc[row_indexer,col_indexer] = value instead\n",
      "\n",
      "See the caveats in the documentation: https://pandas.pydata.org/pandas-docs/stable/user_guide/indexing.html#returning-a-view-versus-a-copy\n",
      "  sign_df3_ab[\"Class\"] = None\n"
     ]
    }
   ],
   "source": [
    "sign_df3_ab[\"Class\"] = None"
   ]
  },
  {
   "cell_type": "code",
   "execution_count": 22,
   "id": "c95b37c1",
   "metadata": {
    "execution": {
     "iopub.execute_input": "2025-06-14T16:26:55.678497Z",
     "iopub.status.busy": "2025-06-14T16:26:55.678196Z",
     "iopub.status.idle": "2025-06-14T16:26:55.685885Z",
     "shell.execute_reply": "2025-06-14T16:26:55.685015Z"
    },
    "papermill": {
     "duration": 0.023136,
     "end_time": "2025-06-14T16:26:55.687636",
     "exception": false,
     "start_time": "2025-06-14T16:26:55.664500",
     "status": "completed"
    },
    "tags": []
   },
   "outputs": [
    {
     "data": {
      "text/plain": [
       "Series([], Name: count, dtype: int64)"
      ]
     },
     "execution_count": 22,
     "metadata": {},
     "output_type": "execute_result"
    }
   ],
   "source": [
    "sign_df3_ab[\"Class\"].value_counts()\n"
   ]
  },
  {
   "cell_type": "code",
   "execution_count": 23,
   "id": "937d0133",
   "metadata": {
    "execution": {
     "iopub.execute_input": "2025-06-14T16:26:55.715818Z",
     "iopub.status.busy": "2025-06-14T16:26:55.715524Z",
     "iopub.status.idle": "2025-06-14T16:26:56.868329Z",
     "shell.execute_reply": "2025-06-14T16:26:56.866349Z"
    },
    "papermill": {
     "duration": 1.16899,
     "end_time": "2025-06-14T16:26:56.870693",
     "exception": false,
     "start_time": "2025-06-14T16:26:55.701703",
     "status": "completed"
    },
    "tags": []
   },
   "outputs": [
    {
     "name": "stderr",
     "output_type": "stream",
     "text": [
      "/tmp/ipykernel_13/362037583.py:1: SettingWithCopyWarning: \n",
      "A value is trying to be set on a copy of a slice from a DataFrame.\n",
      "Try using .loc[row_indexer,col_indexer] = value instead\n",
      "\n",
      "See the caveats in the documentation: https://pandas.pydata.org/pandas-docs/stable/user_guide/indexing.html#returning-a-view-versus-a-copy\n",
      "  sign_df3_ab[\"Dx\"] = sign_df3_ab[\"Dx\"].apply(ast.literal_eval)\n",
      "/tmp/ipykernel_13/362037583.py:11: SettingWithCopyWarning: \n",
      "A value is trying to be set on a copy of a slice from a DataFrame.\n",
      "Try using .loc[row_indexer,col_indexer] = value instead\n",
      "\n",
      "See the caveats in the documentation: https://pandas.pydata.org/pandas-docs/stable/user_guide/indexing.html#returning-a-view-versus-a-copy\n",
      "  sign_df3_ab[\"Class\"] = sign_df3_ab[\"Dx\"].apply(assign_class)\n"
     ]
    }
   ],
   "source": [
    "sign_df3_ab[\"Dx\"] = sign_df3_ab[\"Dx\"].apply(ast.literal_eval)\n",
    "\n",
    "# Define a function to classify based on Dx codes\n",
    "def assign_class(dx_list):\n",
    "    if \"427084000\" in dx_list:\n",
    "        return 0\n",
    "    else:\n",
    "        return 1  # Or some default value\n",
    "\n",
    "# Apply the function to assign the Class column\n",
    "sign_df3_ab[\"Class\"] = sign_df3_ab[\"Dx\"].apply(assign_class)"
   ]
  },
  {
   "cell_type": "code",
   "execution_count": 24,
   "id": "ab2af2e6",
   "metadata": {
    "execution": {
     "iopub.execute_input": "2025-06-14T16:26:56.903943Z",
     "iopub.status.busy": "2025-06-14T16:26:56.903548Z",
     "iopub.status.idle": "2025-06-14T16:26:56.912869Z",
     "shell.execute_reply": "2025-06-14T16:26:56.911619Z"
    },
    "papermill": {
     "duration": 0.027665,
     "end_time": "2025-06-14T16:26:56.914988",
     "exception": false,
     "start_time": "2025-06-14T16:26:56.887323",
     "status": "completed"
    },
    "tags": []
   },
   "outputs": [
    {
     "data": {
      "text/plain": [
       "Class\n",
       "1    79608\n",
       "0    16670\n",
       "Name: count, dtype: int64"
      ]
     },
     "execution_count": 24,
     "metadata": {},
     "output_type": "execute_result"
    }
   ],
   "source": [
    "sign_df3_ab[\"Class\"].value_counts()\n"
   ]
  },
  {
   "cell_type": "markdown",
   "id": "7acd37cf",
   "metadata": {
    "papermill": {
     "duration": 0.012759,
     "end_time": "2025-06-14T16:26:56.941587",
     "exception": false,
     "start_time": "2025-06-14T16:26:56.928828",
     "status": "completed"
    },
    "tags": []
   },
   "source": [
    "## training"
   ]
  },
  {
   "cell_type": "code",
   "execution_count": 25,
   "id": "18825285",
   "metadata": {
    "execution": {
     "iopub.execute_input": "2025-06-14T16:26:56.969504Z",
     "iopub.status.busy": "2025-06-14T16:26:56.969118Z",
     "iopub.status.idle": "2025-06-14T16:26:56.978899Z",
     "shell.execute_reply": "2025-06-14T16:26:56.977900Z"
    },
    "papermill": {
     "duration": 0.025833,
     "end_time": "2025-06-14T16:26:56.980937",
     "exception": false,
     "start_time": "2025-06-14T16:26:56.955104",
     "status": "completed"
    },
    "tags": []
   },
   "outputs": [
    {
     "data": {
      "text/plain": [
       "Class\n",
       "1    79608\n",
       "0    16670\n",
       "Name: count, dtype: int64"
      ]
     },
     "execution_count": 25,
     "metadata": {},
     "output_type": "execute_result"
    }
   ],
   "source": [
    "\n",
    "df_full = sign_df3_ab\n",
    "df_full[\"Class\"].value_counts()\n"
   ]
  },
  {
   "cell_type": "code",
   "execution_count": 26,
   "id": "ec9de5d3",
   "metadata": {
    "execution": {
     "iopub.execute_input": "2025-06-14T16:26:57.009694Z",
     "iopub.status.busy": "2025-06-14T16:26:57.009382Z",
     "iopub.status.idle": "2025-06-14T16:26:57.099263Z",
     "shell.execute_reply": "2025-06-14T16:26:57.098232Z"
    },
    "papermill": {
     "duration": 0.106578,
     "end_time": "2025-06-14T16:26:57.101005",
     "exception": false,
     "start_time": "2025-06-14T16:26:56.994427",
     "status": "completed"
    },
    "tags": []
   },
   "outputs": [],
   "source": [
    "\n",
    "mask = df_full.drop(columns=[\"Age\", \"Sex\"]).isnull().any(axis=1)\n",
    "df_with_nulls = df_full[mask]"
   ]
  },
  {
   "cell_type": "code",
   "execution_count": 27,
   "id": "a7a52d3f",
   "metadata": {
    "execution": {
     "iopub.execute_input": "2025-06-14T16:26:57.128761Z",
     "iopub.status.busy": "2025-06-14T16:26:57.128441Z",
     "iopub.status.idle": "2025-06-14T16:26:57.300660Z",
     "shell.execute_reply": "2025-06-14T16:26:57.299720Z"
    },
    "papermill": {
     "duration": 0.187951,
     "end_time": "2025-06-14T16:26:57.302409",
     "exception": false,
     "start_time": "2025-06-14T16:26:57.114458",
     "status": "completed"
    },
    "tags": []
   },
   "outputs": [
    {
     "data": {
      "text/plain": [
       "Class\n",
       "1    79558\n",
       "0    16665\n",
       "Name: count, dtype: int64"
      ]
     },
     "execution_count": 27,
     "metadata": {},
     "output_type": "execute_result"
    }
   ],
   "source": [
    "\n",
    "# Drop those rows from the original dataframe\n",
    "df_full = df_full[~mask].reset_index(drop=True)\n",
    "\n",
    "df_full[\"Class\"].value_counts()"
   ]
  },
  {
   "cell_type": "code",
   "execution_count": 28,
   "id": "667b0146",
   "metadata": {
    "execution": {
     "iopub.execute_input": "2025-06-14T16:26:57.330904Z",
     "iopub.status.busy": "2025-06-14T16:26:57.330590Z",
     "iopub.status.idle": "2025-06-14T16:26:57.335188Z",
     "shell.execute_reply": "2025-06-14T16:26:57.334195Z"
    },
    "papermill": {
     "duration": 0.020823,
     "end_time": "2025-06-14T16:26:57.337012",
     "exception": false,
     "start_time": "2025-06-14T16:26:57.316189",
     "status": "completed"
    },
    "tags": []
   },
   "outputs": [],
   "source": [
    "\n",
    "df_balanced = df_full"
   ]
  },
  {
   "cell_type": "code",
   "execution_count": 29,
   "id": "31370e53",
   "metadata": {
    "execution": {
     "iopub.execute_input": "2025-06-14T16:26:57.366088Z",
     "iopub.status.busy": "2025-06-14T16:26:57.365185Z",
     "iopub.status.idle": "2025-06-14T16:26:57.516609Z",
     "shell.execute_reply": "2025-06-14T16:26:57.515688Z"
    },
    "papermill": {
     "duration": 0.168357,
     "end_time": "2025-06-14T16:26:57.518665",
     "exception": false,
     "start_time": "2025-06-14T16:26:57.350308",
     "status": "completed"
    },
    "tags": []
   },
   "outputs": [],
   "source": [
    "from sklearn.utils import resample\n",
    "\n",
    "df = df_full\n",
    "# Separate the two classes\n",
    "df_major = df[df['Class'] == 1]\n",
    "df_minor = df[df['Class'] == 0]\n",
    "\n",
    "# Downsample the majority class\n",
    "df_major_downsampled = resample(df_major,\n",
    "                                replace=False,     # without replacement\n",
    "                                n_samples=len(df_minor),\n",
    "                                random_state=42)   # reproducibility\n",
    "\n",
    "# Combine balanced dataset\n",
    "df_balanced = pd.concat([df_major_downsampled, df_minor])\n",
    "df_balanced = df_balanced.sample(frac=1, random_state=42).reset_index(drop=True)\n",
    "\n",
    "# balancing"
   ]
  },
  {
   "cell_type": "code",
   "execution_count": 30,
   "id": "66522928",
   "metadata": {
    "execution": {
     "iopub.execute_input": "2025-06-14T16:26:57.552585Z",
     "iopub.status.busy": "2025-06-14T16:26:57.552202Z",
     "iopub.status.idle": "2025-06-14T16:26:57.746722Z",
     "shell.execute_reply": "2025-06-14T16:26:57.745427Z"
    },
    "papermill": {
     "duration": 0.215216,
     "end_time": "2025-06-14T16:26:57.748593",
     "exception": false,
     "start_time": "2025-06-14T16:26:57.533377",
     "status": "completed"
    },
    "tags": []
   },
   "outputs": [
    {
     "name": "stdout",
     "output_type": "stream",
     "text": [
      "Class\n",
      "1    16665\n",
      "0    16665\n",
      "Name: count, dtype: int64\n",
      "Index(['Duree_QRS_ms_mean', 'Duree_QRS_ms_std', 'Duree_QRS_ms_min',\n",
      "       'Duree_QRS_ms_max', 'Duree_P_ms_mean', 'Duree_P_ms_std',\n",
      "       'Duree_P_ms_min', 'Duree_P_ms_max', 'Duree_T_ms_mean', 'Duree_T_ms_std',\n",
      "       'Duree_T_ms_min', 'Duree_T_ms_max', 'Intervalle_QT_ms_mean',\n",
      "       'Intervalle_QT_ms_std', 'Intervalle_QT_ms_min', 'Intervalle_QT_ms_max',\n",
      "       'Intervalle_PR_ms_mean', 'Intervalle_PR_ms_std', 'Intervalle_PR_ms_min',\n",
      "       'Intervalle_PR_ms_max', 'Intervalle_ST_ms_mean', 'Intervalle_ST_ms_std',\n",
      "       'Intervalle_ST_ms_min', 'Intervalle_ST_ms_max', 'Amplitude_P_mean',\n",
      "       'Amplitude_P_std', 'Amplitude_P_min', 'Amplitude_P_max',\n",
      "       'Amplitude_Q_mean', 'Amplitude_Q_std', 'Amplitude_Q_min',\n",
      "       'Amplitude_Q_max', 'Amplitude_R_mean', 'Amplitude_R_std',\n",
      "       'Amplitude_R_min', 'Amplitude_R_max', 'Amplitude_S_mean',\n",
      "       'Amplitude_S_std', 'Amplitude_S_min', 'Amplitude_S_max',\n",
      "       'Amplitude_T_mean', 'Amplitude_T_std', 'Amplitude_T_min',\n",
      "       'Amplitude_T_max', 'T/R_ratio_mean', 'T/R_ratio_std', 'T/R_ratio_min',\n",
      "       'T/R_ratio_max', 'P/R_ratio_mean', 'P/R_ratio_std', 'P/R_ratio_min',\n",
      "       'P/R_ratio_max', 'QRS_area_mean', 'QRS_area_std', 'QRS_area_min',\n",
      "       'QRS_area_max', 'Slope_QR_mean', 'Slope_QR_std', 'Slope_QR_min',\n",
      "       'Slope_QR_max', 'Slope_RS_mean', 'Slope_RS_std', 'Slope_RS_min',\n",
      "       'Slope_RS_max', 'Heart_rate_bpm_mean', 'Heart_rate_bpm_std',\n",
      "       'Heart_rate_bpm_min', 'Heart_rate_bpm_max', 'Local_RMSSD_mean',\n",
      "       'Local_RMSSD_std', 'Local_RMSSD_min', 'Local_RMSSD_max',\n",
      "       'T_inversion_mean', 'T_inversion_sum', 'Premature_beat_sum',\n",
      "       'Bigeminy_sum', 'Trigeminy_sum', 'count_N', 'count_L', 'count_R',\n",
      "       'count_/', 'count_V', 'count_else', 'ratio_N', 'ratio_L', 'ratio_R',\n",
      "       'ratio_/', 'ratio_V', 'ratio_else', 'percent_T_inversion',\n",
      "       'QRS_prolonged_ratio', 'QT_prolonged_ratio', 'PVC_ratio', 'num_beats',\n",
      "       'std_Intervalle_RR_ms'],\n",
      "      dtype='object')\n"
     ]
    }
   ],
   "source": [
    "import pandas as pd\n",
    "from sklearn.model_selection import train_test_split\n",
    "from sklearn.ensemble import RandomForestClassifier\n",
    "from sklearn.metrics import classification_report, accuracy_score , confusion_matrix\n",
    "\n",
    "# Assuming df_full already has the 'is_normal' column for classification\n",
    "# Define X and y\n",
    "X = df_balanced.drop(columns=['record_name','Sex','Age',\"Dx\",'Class'])  # Features: exclude 'is_normal' column\n",
    "\n",
    "y = df_balanced['Class']  # Target: 'is_normal'\n",
    "print(y.value_counts())\n",
    "print(X.columns)\n",
    "# Split the data into training and testing sets (80% training, 20% testing)\n",
    "X_train, X_test, y_train, y_test = train_test_split(X, y, test_size=0.2, random_state=42)\n",
    "\n"
   ]
  },
  {
   "cell_type": "code",
   "execution_count": 31,
   "id": "66286461",
   "metadata": {
    "execution": {
     "iopub.execute_input": "2025-06-14T16:26:57.780120Z",
     "iopub.status.busy": "2025-06-14T16:26:57.779654Z",
     "iopub.status.idle": "2025-06-14T16:27:25.199549Z",
     "shell.execute_reply": "2025-06-14T16:27:25.198218Z"
    },
    "papermill": {
     "duration": 27.437648,
     "end_time": "2025-06-14T16:27:25.201123",
     "exception": false,
     "start_time": "2025-06-14T16:26:57.763475",
     "status": "completed"
    },
    "tags": []
   },
   "outputs": [
    {
     "name": "stdout",
     "output_type": "stream",
     "text": [
      "Accuracy: 0.9710\n",
      "Classification Report:\n",
      "              precision    recall  f1-score   support\n",
      "\n",
      "           0       0.97      0.98      0.97      3373\n",
      "           1       0.98      0.97      0.97      3293\n",
      "\n",
      "    accuracy                           0.97      6666\n",
      "   macro avg       0.97      0.97      0.97      6666\n",
      "weighted avg       0.97      0.97      0.97      6666\n",
      "\n",
      "[[3293   80]\n",
      " [ 113 3180]]\n"
     ]
    }
   ],
   "source": [
    "\n",
    "# Initialize a RandomForestClassifier\n",
    "rf_clf =  RandomForestClassifier(n_estimators=100, class_weight='balanced', random_state=42)\n",
    "\n",
    "# Train the model\n",
    "rf_clf.fit(X_train, y_train)\n",
    "\n",
    "# Make predictions on the test set\n",
    "y_pred = rf_clf.predict(X_test)\n",
    "\n",
    "# Evaluate the model\n",
    "print(f\"Accuracy: {accuracy_score(y_test, y_pred):.4f}\")\n",
    "print(\"Classification Report:\")\n",
    "print(classification_report(y_test, y_pred))\n",
    "print(confusion_matrix(y_test, y_pred))\n"
   ]
  },
  {
   "cell_type": "code",
   "execution_count": 32,
   "id": "4ce56266",
   "metadata": {
    "execution": {
     "iopub.execute_input": "2025-06-14T16:27:25.231937Z",
     "iopub.status.busy": "2025-06-14T16:27:25.230859Z",
     "iopub.status.idle": "2025-06-14T16:27:25.547636Z",
     "shell.execute_reply": "2025-06-14T16:27:25.546434Z"
    },
    "papermill": {
     "duration": 0.334883,
     "end_time": "2025-06-14T16:27:25.549655",
     "exception": false,
     "start_time": "2025-06-14T16:27:25.214772",
     "status": "completed"
    },
    "tags": []
   },
   "outputs": [
    {
     "data": {
      "image/png": "[encoded data removed]",
      "text/plain": [
       "<Figure size 640x480 with 1 Axes>"
      ]
     },
     "metadata": {},
     "output_type": "display_data"
    }
   ],
   "source": [
    "import matplotlib.pyplot as plt\n",
    "from sklearn.metrics import precision_recall_curve\n",
    "\n",
    "precision, recall, thresholds = precision_recall_curve(y_test, y_pred)\n",
    "\n",
    "plt.plot(thresholds, precision[:-1], label=\"Precision\")\n",
    "plt.plot(thresholds, recall[:-1], label=\"Recall\")\n",
    "plt.xlabel(\"Threshold\")\n",
    "plt.legend()\n",
    "plt.title(\"Precision-Recall vs Threshold\")\n",
    "plt.grid()\n",
    "plt.show()\n"
   ]
  },
  {
   "cell_type": "code",
   "execution_count": 33,
   "id": "1d527982",
   "metadata": {
    "execution": {
     "iopub.execute_input": "2025-06-14T16:27:25.581308Z",
     "iopub.status.busy": "2025-06-14T16:27:25.580962Z",
     "iopub.status.idle": "2025-06-14T16:27:26.079670Z",
     "shell.execute_reply": "2025-06-14T16:27:26.078542Z"
    },
    "papermill": {
     "duration": 0.515688,
     "end_time": "2025-06-14T16:27:26.081453",
     "exception": false,
     "start_time": "2025-06-14T16:27:25.565765",
     "status": "completed"
    },
    "tags": []
   },
   "outputs": [
    {
     "data": {
      "image/png": "[encoded data removed]",
      "text/plain": [
       "<Figure size 640x480 with 1 Axes>"
      ]
     },
     "metadata": {},
     "output_type": "display_data"
    }
   ],
   "source": [
    "import pandas as pd\n",
    "import matplotlib.pyplot as plt\n",
    "\n",
    "importances = rf_clf.feature_importances_\n",
    "feature_names = X_train.columns\n",
    "feat_imp = pd.Series(importances, index=feature_names).sort_values(ascending=False)\n",
    "\n",
    "# Top 20 features\n",
    "feat_imp.head(30).plot(kind='barh', title='Top 20 Feature Importances')\n",
    "plt.gca().invert_yaxis()\n",
    "plt.tight_layout()\n",
    "plt.show()\n"
   ]
  },
  {
   "cell_type": "code",
   "execution_count": 34,
   "id": "25396bec",
   "metadata": {
    "execution": {
     "iopub.execute_input": "2025-06-14T16:27:26.115804Z",
     "iopub.status.busy": "2025-06-14T16:27:26.115490Z",
     "iopub.status.idle": "2025-06-14T16:27:26.336200Z",
     "shell.execute_reply": "2025-06-14T16:27:26.334535Z"
    },
    "papermill": {
     "duration": 0.242089,
     "end_time": "2025-06-14T16:27:26.339481",
     "exception": false,
     "start_time": "2025-06-14T16:27:26.097392",
     "status": "completed"
    },
    "tags": []
   },
   "outputs": [
    {
     "data": {
      "image/png": "[encoded data removed]",
      "text/plain": [
       "<Figure size 640x480 with 1 Axes>"
      ]
     },
     "metadata": {},
     "output_type": "display_data"
    }
   ],
   "source": [
    "from sklearn.metrics import roc_auc_score, roc_curve\n",
    "\n",
    "roc_auc = roc_auc_score(y_test, y_pred)\n",
    "fpr, tpr, _ = roc_curve(y_test, y_pred)\n",
    "\n",
    "plt.plot(fpr, tpr, label=f'ROC Curve (AUC = {roc_auc:.2f})')\n",
    "plt.plot([0, 1], [0, 1], 'k--')  # Diagonal line\n",
    "plt.xlabel('False Positive Rate')\n",
    "plt.ylabel('True Positive Rate')\n",
    "plt.title('Receiver Operating Characteristic')\n",
    "plt.legend()\n",
    "plt.grid()\n",
    "plt.show()\n"
   ]
  },
  {
   "cell_type": "code",
   "execution_count": 35,
   "id": "01fee8f8",
   "metadata": {
    "execution": {
     "iopub.execute_input": "2025-06-14T16:27:26.378343Z",
     "iopub.status.busy": "2025-06-14T16:27:26.377851Z",
     "iopub.status.idle": "2025-06-14T16:27:26.437228Z",
     "shell.execute_reply": "2025-06-14T16:27:26.435338Z"
    },
    "papermill": {
     "duration": 0.083176,
     "end_time": "2025-06-14T16:27:26.439748",
     "exception": false,
     "start_time": "2025-06-14T16:27:26.356572",
     "status": "completed"
    },
    "tags": []
   },
   "outputs": [
    {
     "name": "stdout",
     "output_type": "stream",
     "text": [
      "Model saved successfully!\n"
     ]
    }
   ],
   "source": [
    "import joblib\n",
    "\n",
    "# Save model\n",
    "joblib.dump(rf_clf, 'sinus_tachycardia_vs_else_model.pkl')\n",
    "print(\"Model saved successfully!\")"
   ]
  },
  {
   "cell_type": "code",
   "execution_count": 36,
   "id": "35c86ee6",
   "metadata": {
    "execution": {
     "iopub.execute_input": "2025-06-14T16:27:26.477009Z",
     "iopub.status.busy": "2025-06-14T16:27:26.476705Z",
     "iopub.status.idle": "2025-06-14T16:27:27.474343Z",
     "shell.execute_reply": "2025-06-14T16:27:27.473383Z"
    },
    "papermill": {
     "duration": 1.017491,
     "end_time": "2025-06-14T16:27:27.475936",
     "exception": false,
     "start_time": "2025-06-14T16:27:26.458445",
     "status": "completed"
    },
    "tags": []
   },
   "outputs": [
    {
     "data": {
      "image/png": "[encoded data removed]",
      "text/plain": [
       "<Figure size 600x500 with 2 Axes>"
      ]
     },
     "metadata": {},
     "output_type": "display_data"
    }
   ],
   "source": [
    "\n",
    "\n",
    "import pandas as pd\n",
    "import json\n",
    "from sklearn.metrics import classification_report\n",
    "\n",
    "# Save predictions\n",
    "pred_df = pd.DataFrame({'y_true': y_test, 'y_pred': y_pred})\n",
    "pred_df.to_csv('sinus_tachycardia_predictions.csv', index=False)\n",
    "\n",
    "# Save metrics\n",
    "report = classification_report(y_test, y_pred, output_dict=True)\n",
    "with open(\"sinus_tachycardia_classification_report.json\", \"w\") as f:\n",
    "    json.dump(report, f)\n",
    "import matplotlib.pyplot as plt\n",
    "import seaborn as sns\n",
    "from sklearn.metrics import confusion_matrix\n",
    "\n",
    "conf_matrix = confusion_matrix(y_test, y_pred)\n",
    "\n",
    "plt.figure(figsize=(6, 5))\n",
    "sns.heatmap(conf_matrix, annot=True, fmt=\"d\", cmap=\"Blues\")\n",
    "plt.title(\"Confusion Matrix\")\n",
    "plt.xlabel(\"Predicted\")\n",
    "plt.ylabel(\"Actual\")\n",
    "plt.tight_layout()\n",
    "plt.savefig(\"sinus_tachycardia_confusion_matrix.png\")\n",
    "\n"
   ]
  },
  {
   "cell_type": "markdown",
   "id": "55247fcd",
   "metadata": {
    "papermill": {
     "duration": 0.017504,
     "end_time": "2025-06-14T16:27:27.510835",
     "exception": false,
     "start_time": "2025-06-14T16:27:27.493331",
     "status": "completed"
    },
    "tags": []
   },
   "source": [
    "# diases 2: '426761007': supraventricular tachycardia"
   ]
  },
  {
   "cell_type": "code",
   "execution_count": 37,
   "id": "03d6a2c4",
   "metadata": {
    "execution": {
     "iopub.execute_input": "2025-06-14T16:27:27.548060Z",
     "iopub.status.busy": "2025-06-14T16:27:27.547562Z",
     "iopub.status.idle": "2025-06-14T16:27:29.536425Z",
     "shell.execute_reply": "2025-06-14T16:27:29.533665Z"
    },
    "papermill": {
     "duration": 2.011096,
     "end_time": "2025-06-14T16:27:29.539720",
     "exception": false,
     "start_time": "2025-06-14T16:27:27.528624",
     "status": "completed"
    },
    "tags": []
   },
   "outputs": [
    {
     "name": "stdout",
     "output_type": "stream",
     "text": [
      "Counter({'426783006': 57325, '426177001': 35477, '164934002': 18759, '427084000': 16906, '164890007': 16432, '55827005': 10802, '55930002': 9241, '39732003': 9175, '164889003': 7034, '59931005': 6866, '427393009': 6340, '164865005': 6263, '428750005': 5868, '429622005': 5313, '164873001': 5052, '270492004': 4674, '284470004': 4351, '59118001': 3700, '164951009': 3389, '164917005': 3138, '164930006': 3076, '713427006': 2874, '10370003': 2660, '251146004': 2642, '445118002': 2566, '164861001': 2559, '698252002': 2539, '427172004': 2368, '111975006': 2300, '47665007': 2130, '713426002': 2103, '164884008': 1943, '164909002': 1520, '426761007': 1502, '61721007': 1306, '67741000119109': 1300, '365413008': 1274, '164867002': 1167, '425623009': 1043, '17338001': 952, '6374002': 907, '428417006': 872, '164931005': 804, '425419005': 670, '713422000': 637, '233917008': 567, '54329005': 530, '89792004': 452, '164947007': 444, '106068003': 430, '251223006': 428, '733534002': 426, '426434006': 325, '251199005': 324, '426627000': 302, '29320008': 284, '164912004': 284, '164937009': 273, '13640000': 239, '63593006': 233, '74390002': 232, '425856008': 231, '251120003': 217, '251205003': 212, '445211001': 211, '27885002': 203, '81898007': 192, '195042002': 190, '446358003': 189, '413844008': 161, '426995002': 159, '251200008': 156, '164896001': 154, '251198002': 152, '251170000': 129, '266249003': 119, '50799005': 118, '75532003': 116, '57054005': 104, '11157007': 104, '253352002': 72, '67751000119106': 72, '5609005': 66, '54016002': 65, '195126007': 62, '446813000': 56, '426648003': 54, '251268003': 52, '233897008': 52, '49578007': 51, '251266004': 45, '251180001': 45, '426664006': 43, '195080001': 41, '53741008': 37, '251187003': 34, '233892002': 32, '251166008': 32, '195060002': 32, '67198005': 27, '61277005': 24, '251164006': 24, '251182009': 23, '65778007': 19, '698247007': 16, '111288001': 15, '253339007': 14, '426183003': 14, '17366009': 14, '251139008': 12, '164895002': 12, '195101003': 11, '164921003': 11, '418818005': 10, '251173003': 9, '84114007': 7, '266257000': 7, '368009': 6, '164942001': 6, '77867006': 5, '204384007': 2, '314208002': 2, '282825002': 2, '74615001': 2, '60423000': 2, '49260003': 2, '413444003': 2, '251168009': 1, '370365005': 1, '704997005': 1, '82226007': 1, '251259000': 1, '426749004': 1})\n"
     ]
    }
   ],
   "source": [
    "from collections import Counter\n",
    "from itertools import chain\n",
    "import ast\n",
    "# Assuming df[\"dx\"] contains lists\n",
    "arr5 = [origin_comp_df,origin_mitbih_df,origin_ecgarr_df]\n",
    "sign_df3 = pd.concat(arr5, ignore_index=True)\n",
    "\n",
    "# If \"Dx\" entries are strings like \"[164934002, 427084000]\"\n",
    "parsed_dx_lists = sign_df3[\"Dx\"].apply(ast.literal_eval)\n",
    "\n",
    "# Flatten and count\n",
    "code_counts = Counter(chain.from_iterable(parsed_dx_lists))\n",
    "\n",
    "\n",
    "# Print how many times 164934002 appears\n",
    "print(code_counts)"
   ]
  },
  {
   "cell_type": "code",
   "execution_count": 38,
   "id": "875b852a",
   "metadata": {
    "execution": {
     "iopub.execute_input": "2025-06-14T16:27:29.585067Z",
     "iopub.status.busy": "2025-06-14T16:27:29.584640Z",
     "iopub.status.idle": "2025-06-14T16:27:29.630670Z",
     "shell.execute_reply": "2025-06-14T16:27:29.629449Z"
    },
    "papermill": {
     "duration": 0.069635,
     "end_time": "2025-06-14T16:27:29.632637",
     "exception": false,
     "start_time": "2025-06-14T16:27:29.563002",
     "status": "completed"
    },
    "tags": []
   },
   "outputs": [
    {
     "name": "stdout",
     "output_type": "stream",
     "text": [
      "96278\n"
     ]
    }
   ],
   "source": [
    "sign_df3_ab = sign_df3[sign_df3[\"Class\"] != 0]\n",
    "print(len(sign_df3_ab))\n"
   ]
  },
  {
   "cell_type": "code",
   "execution_count": 39,
   "id": "aa7f9dd8",
   "metadata": {
    "execution": {
     "iopub.execute_input": "2025-06-14T16:27:29.669276Z",
     "iopub.status.busy": "2025-06-14T16:27:29.668917Z",
     "iopub.status.idle": "2025-06-14T16:27:29.675501Z",
     "shell.execute_reply": "2025-06-14T16:27:29.674389Z"
    },
    "papermill": {
     "duration": 0.026476,
     "end_time": "2025-06-14T16:27:29.676906",
     "exception": false,
     "start_time": "2025-06-14T16:27:29.650430",
     "status": "completed"
    },
    "tags": []
   },
   "outputs": [
    {
     "name": "stderr",
     "output_type": "stream",
     "text": [
      "/tmp/ipykernel_13/1236508171.py:1: SettingWithCopyWarning: \n",
      "A value is trying to be set on a copy of a slice from a DataFrame.\n",
      "Try using .loc[row_indexer,col_indexer] = value instead\n",
      "\n",
      "See the caveats in the documentation: https://pandas.pydata.org/pandas-docs/stable/user_guide/indexing.html#returning-a-view-versus-a-copy\n",
      "  sign_df3_ab[\"Class\"] = None\n"
     ]
    }
   ],
   "source": [
    "sign_df3_ab[\"Class\"] = None"
   ]
  },
  {
   "cell_type": "code",
   "execution_count": 40,
   "id": "695154f3",
   "metadata": {
    "execution": {
     "iopub.execute_input": "2025-06-14T16:27:29.713418Z",
     "iopub.status.busy": "2025-06-14T16:27:29.712915Z",
     "iopub.status.idle": "2025-06-14T16:27:30.717867Z",
     "shell.execute_reply": "2025-06-14T16:27:30.716108Z"
    },
    "papermill": {
     "duration": 1.025949,
     "end_time": "2025-06-14T16:27:30.720649",
     "exception": false,
     "start_time": "2025-06-14T16:27:29.694700",
     "status": "completed"
    },
    "tags": []
   },
   "outputs": [
    {
     "name": "stderr",
     "output_type": "stream",
     "text": [
      "/tmp/ipykernel_13/1975294185.py:1: SettingWithCopyWarning: \n",
      "A value is trying to be set on a copy of a slice from a DataFrame.\n",
      "Try using .loc[row_indexer,col_indexer] = value instead\n",
      "\n",
      "See the caveats in the documentation: https://pandas.pydata.org/pandas-docs/stable/user_guide/indexing.html#returning-a-view-versus-a-copy\n",
      "  sign_df3_ab[\"Dx\"] = sign_df3_ab[\"Dx\"].apply(ast.literal_eval)\n",
      "/tmp/ipykernel_13/1975294185.py:11: SettingWithCopyWarning: \n",
      "A value is trying to be set on a copy of a slice from a DataFrame.\n",
      "Try using .loc[row_indexer,col_indexer] = value instead\n",
      "\n",
      "See the caveats in the documentation: https://pandas.pydata.org/pandas-docs/stable/user_guide/indexing.html#returning-a-view-versus-a-copy\n",
      "  sign_df3_ab[\"Class\"] = sign_df3_ab[\"Dx\"].apply(assign_class)\n"
     ]
    }
   ],
   "source": [
    "sign_df3_ab[\"Dx\"] = sign_df3_ab[\"Dx\"].apply(ast.literal_eval)\n",
    "\n",
    "# Define a function to classify based on Dx codes\n",
    "def assign_class(dx_list):\n",
    "    if \"426761007\" in dx_list:\n",
    "        return 0\n",
    "    else:\n",
    "        return 1  # Or some default value\n",
    "\n",
    "# Apply the function to assign the Class column\n",
    "sign_df3_ab[\"Class\"] = sign_df3_ab[\"Dx\"].apply(assign_class)"
   ]
  },
  {
   "cell_type": "code",
   "execution_count": 41,
   "id": "be301bbe",
   "metadata": {
    "execution": {
     "iopub.execute_input": "2025-06-14T16:27:30.759621Z",
     "iopub.status.busy": "2025-06-14T16:27:30.759015Z",
     "iopub.status.idle": "2025-06-14T16:27:30.767443Z",
     "shell.execute_reply": "2025-06-14T16:27:30.766479Z"
    },
    "papermill": {
     "duration": 0.029548,
     "end_time": "2025-06-14T16:27:30.768960",
     "exception": false,
     "start_time": "2025-06-14T16:27:30.739412",
     "status": "completed"
    },
    "tags": []
   },
   "outputs": [
    {
     "data": {
      "text/plain": [
       "Class\n",
       "1    94779\n",
       "0     1499\n",
       "Name: count, dtype: int64"
      ]
     },
     "execution_count": 41,
     "metadata": {},
     "output_type": "execute_result"
    }
   ],
   "source": [
    "sign_df3_ab[\"Class\"].value_counts()\n"
   ]
  },
  {
   "cell_type": "code",
   "execution_count": 42,
   "id": "034a6baf",
   "metadata": {
    "execution": {
     "iopub.execute_input": "2025-06-14T16:27:30.805355Z",
     "iopub.status.busy": "2025-06-14T16:27:30.804891Z",
     "iopub.status.idle": "2025-06-14T16:27:30.815746Z",
     "shell.execute_reply": "2025-06-14T16:27:30.814210Z"
    },
    "papermill": {
     "duration": 0.031114,
     "end_time": "2025-06-14T16:27:30.817397",
     "exception": false,
     "start_time": "2025-06-14T16:27:30.786283",
     "status": "completed"
    },
    "tags": []
   },
   "outputs": [
    {
     "data": {
      "text/plain": [
       "Class\n",
       "1    94779\n",
       "0     1499\n",
       "Name: count, dtype: int64"
      ]
     },
     "execution_count": 42,
     "metadata": {},
     "output_type": "execute_result"
    }
   ],
   "source": [
    "\n",
    "df_full = sign_df3_ab\n",
    "df_full[\"Class\"].value_counts()\n"
   ]
  },
  {
   "cell_type": "code",
   "execution_count": 43,
   "id": "2f5daf48",
   "metadata": {
    "execution": {
     "iopub.execute_input": "2025-06-14T16:27:30.855580Z",
     "iopub.status.busy": "2025-06-14T16:27:30.855265Z",
     "iopub.status.idle": "2025-06-14T16:27:31.095553Z",
     "shell.execute_reply": "2025-06-14T16:27:31.094040Z"
    },
    "papermill": {
     "duration": 0.261116,
     "end_time": "2025-06-14T16:27:31.097481",
     "exception": false,
     "start_time": "2025-06-14T16:27:30.836365",
     "status": "completed"
    },
    "tags": []
   },
   "outputs": [],
   "source": [
    "\n",
    "mask = df_full.drop(columns=[\"Age\", \"Sex\"]).isnull().any(axis=1)\n",
    "df_with_nulls = df_full[mask]\n",
    "# Drop those rows from the original dataframe\n",
    "df_full = df_full[~mask].reset_index(drop=True)\n",
    "\n",
    "df_full[\"Class\"].value_counts()\n",
    "df_balanced = df_full"
   ]
  },
  {
   "cell_type": "code",
   "execution_count": 44,
   "id": "b8e3ecae",
   "metadata": {
    "execution": {
     "iopub.execute_input": "2025-06-14T16:27:31.137094Z",
     "iopub.status.busy": "2025-06-14T16:27:31.136792Z",
     "iopub.status.idle": "2025-06-14T16:27:31.209242Z",
     "shell.execute_reply": "2025-06-14T16:27:31.207894Z"
    },
    "papermill": {
     "duration": 0.09564,
     "end_time": "2025-06-14T16:27:31.211068",
     "exception": false,
     "start_time": "2025-06-14T16:27:31.115428",
     "status": "completed"
    },
    "tags": []
   },
   "outputs": [],
   "source": [
    "from sklearn.utils import resample\n",
    "\n",
    "df = df_full\n",
    "# Separate the two classes\n",
    "df_major = df[df['Class'] == 1]\n",
    "df_minor = df[df['Class'] == 0]\n",
    "\n",
    "# Downsample the majority class\n",
    "df_major_downsampled = resample(df_major,\n",
    "                                replace=False,     # without replacement\n",
    "                                n_samples=len(df_minor),\n",
    "                                random_state=42)   # reproducibility\n",
    "\n",
    "# Combine balanced dataset\n",
    "df_balanced = pd.concat([df_major_downsampled, df_minor])\n",
    "df_balanced = df_balanced.sample(frac=1, random_state=42).reset_index(drop=True)\n",
    "\n",
    "# balancing"
   ]
  },
  {
   "cell_type": "code",
   "execution_count": 45,
   "id": "90763438",
   "metadata": {
    "execution": {
     "iopub.execute_input": "2025-06-14T16:27:31.247055Z",
     "iopub.status.busy": "2025-06-14T16:27:31.246741Z",
     "iopub.status.idle": "2025-06-14T16:27:31.255129Z",
     "shell.execute_reply": "2025-06-14T16:27:31.254172Z"
    },
    "papermill": {
     "duration": 0.028272,
     "end_time": "2025-06-14T16:27:31.256663",
     "exception": false,
     "start_time": "2025-06-14T16:27:31.228391",
     "status": "completed"
    },
    "tags": []
   },
   "outputs": [
    {
     "data": {
      "text/plain": [
       "Class\n",
       "1    1493\n",
       "0    1493\n",
       "Name: count, dtype: int64"
      ]
     },
     "execution_count": 45,
     "metadata": {},
     "output_type": "execute_result"
    }
   ],
   "source": [
    "df_balanced[\"Class\"].value_counts()"
   ]
  },
  {
   "cell_type": "code",
   "execution_count": 46,
   "id": "e22c1528",
   "metadata": {
    "execution": {
     "iopub.execute_input": "2025-06-14T16:27:31.293382Z",
     "iopub.status.busy": "2025-06-14T16:27:31.292684Z",
     "iopub.status.idle": "2025-06-14T16:27:31.305572Z",
     "shell.execute_reply": "2025-06-14T16:27:31.304179Z"
    },
    "papermill": {
     "duration": 0.033466,
     "end_time": "2025-06-14T16:27:31.307595",
     "exception": false,
     "start_time": "2025-06-14T16:27:31.274129",
     "status": "completed"
    },
    "tags": []
   },
   "outputs": [
    {
     "name": "stdout",
     "output_type": "stream",
     "text": [
      "Class\n",
      "1    1493\n",
      "0    1493\n",
      "Name: count, dtype: int64\n",
      "Index(['Duree_QRS_ms_mean', 'Duree_QRS_ms_std', 'Duree_QRS_ms_min',\n",
      "       'Duree_QRS_ms_max', 'Duree_P_ms_mean', 'Duree_P_ms_std',\n",
      "       'Duree_P_ms_min', 'Duree_P_ms_max', 'Duree_T_ms_mean', 'Duree_T_ms_std',\n",
      "       'Duree_T_ms_min', 'Duree_T_ms_max', 'Intervalle_QT_ms_mean',\n",
      "       'Intervalle_QT_ms_std', 'Intervalle_QT_ms_min', 'Intervalle_QT_ms_max',\n",
      "       'Intervalle_PR_ms_mean', 'Intervalle_PR_ms_std', 'Intervalle_PR_ms_min',\n",
      "       'Intervalle_PR_ms_max', 'Intervalle_ST_ms_mean', 'Intervalle_ST_ms_std',\n",
      "       'Intervalle_ST_ms_min', 'Intervalle_ST_ms_max', 'Amplitude_P_mean',\n",
      "       'Amplitude_P_std', 'Amplitude_P_min', 'Amplitude_P_max',\n",
      "       'Amplitude_Q_mean', 'Amplitude_Q_std', 'Amplitude_Q_min',\n",
      "       'Amplitude_Q_max', 'Amplitude_R_mean', 'Amplitude_R_std',\n",
      "       'Amplitude_R_min', 'Amplitude_R_max', 'Amplitude_S_mean',\n",
      "       'Amplitude_S_std', 'Amplitude_S_min', 'Amplitude_S_max',\n",
      "       'Amplitude_T_mean', 'Amplitude_T_std', 'Amplitude_T_min',\n",
      "       'Amplitude_T_max', 'T/R_ratio_mean', 'T/R_ratio_std', 'T/R_ratio_min',\n",
      "       'T/R_ratio_max', 'P/R_ratio_mean', 'P/R_ratio_std', 'P/R_ratio_min',\n",
      "       'P/R_ratio_max', 'QRS_area_mean', 'QRS_area_std', 'QRS_area_min',\n",
      "       'QRS_area_max', 'Slope_QR_mean', 'Slope_QR_std', 'Slope_QR_min',\n",
      "       'Slope_QR_max', 'Slope_RS_mean', 'Slope_RS_std', 'Slope_RS_min',\n",
      "       'Slope_RS_max', 'Heart_rate_bpm_mean', 'Heart_rate_bpm_std',\n",
      "       'Heart_rate_bpm_min', 'Heart_rate_bpm_max', 'Local_RMSSD_mean',\n",
      "       'Local_RMSSD_std', 'Local_RMSSD_min', 'Local_RMSSD_max',\n",
      "       'T_inversion_mean', 'T_inversion_sum', 'Premature_beat_sum',\n",
      "       'Bigeminy_sum', 'Trigeminy_sum', 'count_N', 'count_L', 'count_R',\n",
      "       'count_/', 'count_V', 'count_else', 'ratio_N', 'ratio_L', 'ratio_R',\n",
      "       'ratio_/', 'ratio_V', 'ratio_else', 'percent_T_inversion',\n",
      "       'QRS_prolonged_ratio', 'QT_prolonged_ratio', 'PVC_ratio', 'num_beats',\n",
      "       'std_Intervalle_RR_ms'],\n",
      "      dtype='object')\n"
     ]
    }
   ],
   "source": [
    "import pandas as pd\n",
    "from sklearn.model_selection import train_test_split\n",
    "from sklearn.ensemble import RandomForestClassifier\n",
    "from sklearn.metrics import classification_report, accuracy_score , confusion_matrix\n",
    "\n",
    "# Assuming df_full already has the 'is_normal' column for classification\n",
    "# Define X and y\n",
    "X = df_balanced.drop(columns=['record_name','Sex','Age',\"Dx\",'Class'])  # Features: exclude 'is_normal' column\n",
    "\n",
    "y = df_balanced['Class']  # Target: 'is_normal'\n",
    "print(y.value_counts())\n",
    "print(X.columns)\n",
    "# Split the data into training and testing sets (80% training, 20% testing)\n",
    "X_train, X_test, y_train, y_test = train_test_split(X, y, test_size=0.2, random_state=42)\n",
    "\n"
   ]
  },
  {
   "cell_type": "code",
   "execution_count": 47,
   "id": "fb5ddd36",
   "metadata": {
    "execution": {
     "iopub.execute_input": "2025-06-14T16:27:31.345713Z",
     "iopub.status.busy": "2025-06-14T16:27:31.345386Z",
     "iopub.status.idle": "2025-06-14T16:27:32.794852Z",
     "shell.execute_reply": "2025-06-14T16:27:32.793600Z"
    },
    "papermill": {
     "duration": 1.47017,
     "end_time": "2025-06-14T16:27:32.796634",
     "exception": false,
     "start_time": "2025-06-14T16:27:31.326464",
     "status": "completed"
    },
    "tags": []
   },
   "outputs": [
    {
     "name": "stdout",
     "output_type": "stream",
     "text": [
      "Accuracy: 0.9548\n",
      "Classification Report:\n",
      "              precision    recall  f1-score   support\n",
      "\n",
      "           0       0.93      0.98      0.96       295\n",
      "           1       0.98      0.93      0.95       303\n",
      "\n",
      "    accuracy                           0.95       598\n",
      "   macro avg       0.96      0.96      0.95       598\n",
      "weighted avg       0.96      0.95      0.95       598\n",
      "\n",
      "[[289   6]\n",
      " [ 21 282]]\n"
     ]
    }
   ],
   "source": [
    "\n",
    "# Initialize a RandomForestClassifier\n",
    "rf_clf =  RandomForestClassifier(n_estimators=100, class_weight='balanced', random_state=42)\n",
    "\n",
    "# Train the model\n",
    "rf_clf.fit(X_train, y_train)\n",
    "\n",
    "# Make predictions on the test set\n",
    "y_pred = rf_clf.predict(X_test)\n",
    "\n",
    "# Evaluate the model\n",
    "print(f\"Accuracy: {accuracy_score(y_test, y_pred):.4f}\")\n",
    "print(\"Classification Report:\")\n",
    "print(classification_report(y_test, y_pred))\n",
    "print(confusion_matrix(y_test, y_pred))\n"
   ]
  },
  {
   "cell_type": "code",
   "execution_count": 48,
   "id": "04e35ef0",
   "metadata": {
    "execution": {
     "iopub.execute_input": "2025-06-14T16:27:32.834289Z",
     "iopub.status.busy": "2025-06-14T16:27:32.833949Z",
     "iopub.status.idle": "2025-06-14T16:27:33.038369Z",
     "shell.execute_reply": "2025-06-14T16:27:33.037181Z"
    },
    "papermill": {
     "duration": 0.225358,
     "end_time": "2025-06-14T16:27:33.040324",
     "exception": false,
     "start_time": "2025-06-14T16:27:32.814966",
     "status": "completed"
    },
    "tags": []
   },
   "outputs": [
    {
     "data": {
      "image/png": "[encoded data removed]",
      "text/plain": [
       "<Figure size 640x480 with 1 Axes>"
      ]
     },
     "metadata": {},
     "output_type": "display_data"
    }
   ],
   "source": [
    "import matplotlib.pyplot as plt\n",
    "from sklearn.metrics import precision_recall_curve\n",
    "\n",
    "precision, recall, thresholds = precision_recall_curve(y_test, y_pred)\n",
    "\n",
    "plt.plot(thresholds, precision[:-1], label=\"Precision\")\n",
    "plt.plot(thresholds, recall[:-1], label=\"Recall\")\n",
    "plt.xlabel(\"Threshold\")\n",
    "plt.legend()\n",
    "plt.title(\"Precision-Recall vs Threshold\")\n",
    "plt.grid()\n",
    "plt.show()\n"
   ]
  },
  {
   "cell_type": "code",
   "execution_count": 49,
   "id": "f8036c8e",
   "metadata": {
    "execution": {
     "iopub.execute_input": "2025-06-14T16:27:33.078714Z",
     "iopub.status.busy": "2025-06-14T16:27:33.078373Z",
     "iopub.status.idle": "2025-06-14T16:27:33.475755Z",
     "shell.execute_reply": "2025-06-14T16:27:33.474590Z"
    },
    "papermill": {
     "duration": 0.418642,
     "end_time": "2025-06-14T16:27:33.477541",
     "exception": false,
     "start_time": "2025-06-14T16:27:33.058899",
     "status": "completed"
    },
    "tags": []
   },
   "outputs": [
    {
     "data": {
      "image/png": "[encoded data removed]",
      "text/plain": [
       "<Figure size 640x480 with 1 Axes>"
      ]
     },
     "metadata": {},
     "output_type": "display_data"
    }
   ],
   "source": [
    "import pandas as pd\n",
    "import matplotlib.pyplot as plt\n",
    "\n",
    "importances = rf_clf.feature_importances_\n",
    "feature_names = X_train.columns\n",
    "feat_imp = pd.Series(importances, index=feature_names).sort_values(ascending=False)\n",
    "\n",
    "# Top 20 features\n",
    "feat_imp.head(30).plot(kind='barh', title='Top 20 Feature Importances')\n",
    "plt.gca().invert_yaxis()\n",
    "plt.tight_layout()\n",
    "plt.show()\n"
   ]
  },
  {
   "cell_type": "code",
   "execution_count": 50,
   "id": "a51e1468",
   "metadata": {
    "execution": {
     "iopub.execute_input": "2025-06-14T16:27:33.520176Z",
     "iopub.status.busy": "2025-06-14T16:27:33.519833Z",
     "iopub.status.idle": "2025-06-14T16:27:33.560683Z",
     "shell.execute_reply": "2025-06-14T16:27:33.559530Z"
    },
    "papermill": {
     "duration": 0.064479,
     "end_time": "2025-06-14T16:27:33.562502",
     "exception": false,
     "start_time": "2025-06-14T16:27:33.498023",
     "status": "completed"
    },
    "tags": []
   },
   "outputs": [
    {
     "name": "stdout",
     "output_type": "stream",
     "text": [
      "Model saved successfully!\n"
     ]
    }
   ],
   "source": [
    "import joblib\n",
    "\n",
    "# Save model\n",
    "joblib.dump(rf_clf, 'supraventricular_tachycardia_vs_else_model.pkl')\n",
    "print(\"Model saved successfully!\")"
   ]
  },
  {
   "cell_type": "code",
   "execution_count": 51,
   "id": "663ee51a",
   "metadata": {
    "execution": {
     "iopub.execute_input": "2025-06-14T16:27:33.605817Z",
     "iopub.status.busy": "2025-06-14T16:27:33.605443Z",
     "iopub.status.idle": "2025-06-14T16:27:34.085828Z",
     "shell.execute_reply": "2025-06-14T16:27:34.084859Z"
    },
    "papermill": {
     "duration": 0.503233,
     "end_time": "2025-06-14T16:27:34.087432",
     "exception": false,
     "start_time": "2025-06-14T16:27:33.584199",
     "status": "completed"
    },
    "tags": []
   },
   "outputs": [
    {
     "data": {
      "image/png": "[encoded data removed]",
      "text/plain": [
       "<Figure size 600x500 with 2 Axes>"
      ]
     },
     "metadata": {},
     "output_type": "display_data"
    }
   ],
   "source": [
    "import pandas as pd\n",
    "import json\n",
    "from sklearn.metrics import classification_report\n",
    "\n",
    "# Save predictions\n",
    "pred_df = pd.DataFrame({'y_true': y_test, 'y_pred': y_pred})\n",
    "pred_df.to_csv('supraventricular_tachycardia_predictions.csv', index=False)\n",
    "\n",
    "# Save metrics\n",
    "report = classification_report(y_test, y_pred, output_dict=True)\n",
    "with open(\"supraventricular_tachycardia_classification_report.json\", \"w\") as f:\n",
    "    json.dump(report, f)\n",
    "import matplotlib.pyplot as plt\n",
    "import seaborn as sns\n",
    "from sklearn.metrics import confusion_matrix\n",
    "\n",
    "conf_matrix = confusion_matrix(y_test, y_pred)\n",
    "\n",
    "plt.figure(figsize=(6, 5))\n",
    "sns.heatmap(conf_matrix, annot=True, fmt=\"d\", cmap=\"Blues\")\n",
    "plt.title(\"Confusion Matrix\")\n",
    "plt.xlabel(\"Predicted\")\n",
    "plt.ylabel(\"Actual\")\n",
    "plt.tight_layout()\n",
    "plt.savefig(\"supraventricular_tachycardia_confusion_matrix.png\")"
   ]
  },
  {
   "cell_type": "markdown",
   "id": "d5efc1dc",
   "metadata": {
    "papermill": {
     "duration": 0.020598,
     "end_time": "2025-06-14T16:27:34.129689",
     "exception": false,
     "start_time": "2025-06-14T16:27:34.109091",
     "status": "completed"
    },
    "tags": []
   },
   "source": [
    "# diases 3: '427393009' sinus arrhythmia"
   ]
  },
  {
   "cell_type": "code",
   "execution_count": 52,
   "id": "ccd88cbd",
   "metadata": {
    "execution": {
     "iopub.execute_input": "2025-06-14T16:27:34.172893Z",
     "iopub.status.busy": "2025-06-14T16:27:34.172563Z",
     "iopub.status.idle": "2025-06-14T16:27:35.929065Z",
     "shell.execute_reply": "2025-06-14T16:27:35.928001Z"
    },
    "papermill": {
     "duration": 1.780152,
     "end_time": "2025-06-14T16:27:35.930867",
     "exception": false,
     "start_time": "2025-06-14T16:27:34.150715",
     "status": "completed"
    },
    "tags": []
   },
   "outputs": [
    {
     "name": "stdout",
     "output_type": "stream",
     "text": [
      "Counter({'426783006': 57325, '426177001': 35477, '164934002': 18759, '427084000': 16906, '164890007': 16432, '55827005': 10802, '55930002': 9241, '39732003': 9175, '164889003': 7034, '59931005': 6866, '427393009': 6340, '164865005': 6263, '428750005': 5868, '429622005': 5313, '164873001': 5052, '270492004': 4674, '284470004': 4351, '59118001': 3700, '164951009': 3389, '164917005': 3138, '164930006': 3076, '713427006': 2874, '10370003': 2660, '251146004': 2642, '445118002': 2566, '164861001': 2559, '698252002': 2539, '427172004': 2368, '111975006': 2300, '47665007': 2130, '713426002': 2103, '164884008': 1943, '164909002': 1520, '426761007': 1502, '61721007': 1306, '67741000119109': 1300, '365413008': 1274, '164867002': 1167, '425623009': 1043, '17338001': 952, '6374002': 907, '428417006': 872, '164931005': 804, '425419005': 670, '713422000': 637, '233917008': 567, '54329005': 530, '89792004': 452, '164947007': 444, '106068003': 430, '251223006': 428, '733534002': 426, '426434006': 325, '251199005': 324, '426627000': 302, '29320008': 284, '164912004': 284, '164937009': 273, '13640000': 239, '63593006': 233, '74390002': 232, '425856008': 231, '251120003': 217, '251205003': 212, '445211001': 211, '27885002': 203, '81898007': 192, '195042002': 190, '446358003': 189, '413844008': 161, '426995002': 159, '251200008': 156, '164896001': 154, '251198002': 152, '251170000': 129, '266249003': 119, '50799005': 118, '75532003': 116, '57054005': 104, '11157007': 104, '253352002': 72, '67751000119106': 72, '5609005': 66, '54016002': 65, '195126007': 62, '446813000': 56, '426648003': 54, '251268003': 52, '233897008': 52, '49578007': 51, '251266004': 45, '251180001': 45, '426664006': 43, '195080001': 41, '53741008': 37, '251187003': 34, '233892002': 32, '251166008': 32, '195060002': 32, '67198005': 27, '61277005': 24, '251164006': 24, '251182009': 23, '65778007': 19, '698247007': 16, '111288001': 15, '253339007': 14, '426183003': 14, '17366009': 14, '251139008': 12, '164895002': 12, '195101003': 11, '164921003': 11, '418818005': 10, '251173003': 9, '84114007': 7, '266257000': 7, '368009': 6, '164942001': 6, '77867006': 5, '204384007': 2, '314208002': 2, '282825002': 2, '74615001': 2, '60423000': 2, '49260003': 2, '413444003': 2, '251168009': 1, '370365005': 1, '704997005': 1, '82226007': 1, '251259000': 1, '426749004': 1})\n"
     ]
    }
   ],
   "source": [
    "from collections import Counter\n",
    "from itertools import chain\n",
    "import ast\n",
    "# Assuming df[\"dx\"] contains lists\n",
    "arr5 = [origin_comp_df,origin_mitbih_df,origin_ecgarr_df]\n",
    "sign_df3 = pd.concat(arr5, ignore_index=True)\n",
    "\n",
    "# If \"Dx\" entries are strings like \"[164934002, 427084000]\"\n",
    "parsed_dx_lists = sign_df3[\"Dx\"].apply(ast.literal_eval)\n",
    "\n",
    "# Flatten and count\n",
    "code_counts = Counter(chain.from_iterable(parsed_dx_lists))\n",
    "\n",
    "# Print how many times 164934002 appears\n",
    "print(code_counts)"
   ]
  },
  {
   "cell_type": "code",
   "execution_count": 53,
   "id": "2bb30336",
   "metadata": {
    "execution": {
     "iopub.execute_input": "2025-06-14T16:27:35.973084Z",
     "iopub.status.busy": "2025-06-14T16:27:35.972793Z",
     "iopub.status.idle": "2025-06-14T16:27:36.017841Z",
     "shell.execute_reply": "2025-06-14T16:27:36.016634Z"
    },
    "papermill": {
     "duration": 0.06844,
     "end_time": "2025-06-14T16:27:36.019743",
     "exception": false,
     "start_time": "2025-06-14T16:27:35.951303",
     "status": "completed"
    },
    "tags": []
   },
   "outputs": [
    {
     "name": "stderr",
     "output_type": "stream",
     "text": [
      "/tmp/ipykernel_13/2997288717.py:2: SettingWithCopyWarning: \n",
      "A value is trying to be set on a copy of a slice from a DataFrame.\n",
      "Try using .loc[row_indexer,col_indexer] = value instead\n",
      "\n",
      "See the caveats in the documentation: https://pandas.pydata.org/pandas-docs/stable/user_guide/indexing.html#returning-a-view-versus-a-copy\n",
      "  sign_df3_ab[\"Class\"] = None\n"
     ]
    }
   ],
   "source": [
    "sign_df3_ab = sign_df3[sign_df3[\"Class\"] != 0]\n",
    "sign_df3_ab[\"Class\"] = None"
   ]
  },
  {
   "cell_type": "code",
   "execution_count": 54,
   "id": "60a55ee3",
   "metadata": {
    "execution": {
     "iopub.execute_input": "2025-06-14T16:27:36.061773Z",
     "iopub.status.busy": "2025-06-14T16:27:36.061504Z",
     "iopub.status.idle": "2025-06-14T16:27:37.034325Z",
     "shell.execute_reply": "2025-06-14T16:27:37.033202Z"
    },
    "papermill": {
     "duration": 0.995651,
     "end_time": "2025-06-14T16:27:37.036014",
     "exception": false,
     "start_time": "2025-06-14T16:27:36.040363",
     "status": "completed"
    },
    "tags": []
   },
   "outputs": [
    {
     "name": "stderr",
     "output_type": "stream",
     "text": [
      "/tmp/ipykernel_13/2230923197.py:1: SettingWithCopyWarning: \n",
      "A value is trying to be set on a copy of a slice from a DataFrame.\n",
      "Try using .loc[row_indexer,col_indexer] = value instead\n",
      "\n",
      "See the caveats in the documentation: https://pandas.pydata.org/pandas-docs/stable/user_guide/indexing.html#returning-a-view-versus-a-copy\n",
      "  sign_df3_ab[\"Dx\"] = sign_df3_ab[\"Dx\"].apply(ast.literal_eval)\n",
      "/tmp/ipykernel_13/2230923197.py:11: SettingWithCopyWarning: \n",
      "A value is trying to be set on a copy of a slice from a DataFrame.\n",
      "Try using .loc[row_indexer,col_indexer] = value instead\n",
      "\n",
      "See the caveats in the documentation: https://pandas.pydata.org/pandas-docs/stable/user_guide/indexing.html#returning-a-view-versus-a-copy\n",
      "  sign_df3_ab[\"Class\"] = sign_df3_ab[\"Dx\"].apply(assign_class)\n"
     ]
    }
   ],
   "source": [
    "sign_df3_ab[\"Dx\"] = sign_df3_ab[\"Dx\"].apply(ast.literal_eval)\n",
    "\n",
    "# Define a function to classify based on Dx codes\n",
    "def assign_class(dx_list):\n",
    "    if \"427393009\" in dx_list:\n",
    "        return 0\n",
    "    else:\n",
    "        return 1  # Or some default value\n",
    "\n",
    "# Apply the function to assign the Class column\n",
    "sign_df3_ab[\"Class\"] = sign_df3_ab[\"Dx\"].apply(assign_class)"
   ]
  },
  {
   "cell_type": "code",
   "execution_count": 55,
   "id": "e478e632",
   "metadata": {
    "execution": {
     "iopub.execute_input": "2025-06-14T16:27:37.079025Z",
     "iopub.status.busy": "2025-06-14T16:27:37.078681Z",
     "iopub.status.idle": "2025-06-14T16:27:37.087195Z",
     "shell.execute_reply": "2025-06-14T16:27:37.086325Z"
    },
    "papermill": {
     "duration": 0.031881,
     "end_time": "2025-06-14T16:27:37.088809",
     "exception": false,
     "start_time": "2025-06-14T16:27:37.056928",
     "status": "completed"
    },
    "tags": []
   },
   "outputs": [
    {
     "data": {
      "text/plain": [
       "Class\n",
       "1    90782\n",
       "0     5496\n",
       "Name: count, dtype: int64"
      ]
     },
     "execution_count": 55,
     "metadata": {},
     "output_type": "execute_result"
    }
   ],
   "source": [
    "\n",
    "df_full = sign_df3_ab\n",
    "df_full[\"Class\"].value_counts()"
   ]
  },
  {
   "cell_type": "code",
   "execution_count": 56,
   "id": "3e95212a",
   "metadata": {
    "execution": {
     "iopub.execute_input": "2025-06-14T16:27:37.132972Z",
     "iopub.status.busy": "2025-06-14T16:27:37.132441Z",
     "iopub.status.idle": "2025-06-14T16:27:37.340868Z",
     "shell.execute_reply": "2025-06-14T16:27:37.339023Z"
    },
    "papermill": {
     "duration": 0.232587,
     "end_time": "2025-06-14T16:27:37.342922",
     "exception": false,
     "start_time": "2025-06-14T16:27:37.110335",
     "status": "completed"
    },
    "tags": []
   },
   "outputs": [],
   "source": [
    "\n",
    "mask = df_full.drop(columns=[\"Age\", \"Sex\"]).isnull().any(axis=1)\n",
    "df_with_nulls = df_full[mask]\n",
    "# Drop those rows from the original dataframe\n",
    "df_full = df_full[~mask].reset_index(drop=True)\n",
    "\n",
    "df_full[\"Class\"].value_counts()\n",
    "df_balanced = df_full"
   ]
  },
  {
   "cell_type": "code",
   "execution_count": 57,
   "id": "58506c62",
   "metadata": {
    "execution": {
     "iopub.execute_input": "2025-06-14T16:27:37.388594Z",
     "iopub.status.busy": "2025-06-14T16:27:37.388217Z",
     "iopub.status.idle": "2025-06-14T16:27:37.469807Z",
     "shell.execute_reply": "2025-06-14T16:27:37.468717Z"
    },
    "papermill": {
     "duration": 0.107078,
     "end_time": "2025-06-14T16:27:37.471792",
     "exception": false,
     "start_time": "2025-06-14T16:27:37.364714",
     "status": "completed"
    },
    "tags": []
   },
   "outputs": [],
   "source": [
    "from sklearn.utils import resample\n",
    "\n",
    "df = df_full\n",
    "# Separate the two classes\n",
    "df_major = df[df['Class'] == 1]\n",
    "df_minor = df[df['Class'] == 0]\n",
    "\n",
    "# Downsample the majority class\n",
    "df_major_downsampled = resample(df_major,\n",
    "                                replace=False,     # without replacement\n",
    "                                n_samples=len(df_minor),\n",
    "                                random_state=42)   # reproducibility\n",
    "\n",
    "# Combine balanced dataset\n",
    "df_balanced = pd.concat([df_major_downsampled, df_minor])\n",
    "df_balanced = df_balanced.sample(frac=1, random_state=42).reset_index(drop=True)\n",
    "\n",
    "# balancing"
   ]
  },
  {
   "cell_type": "code",
   "execution_count": 58,
   "id": "3bc61c93",
   "metadata": {
    "execution": {
     "iopub.execute_input": "2025-06-14T16:27:37.515485Z",
     "iopub.status.busy": "2025-06-14T16:27:37.515122Z",
     "iopub.status.idle": "2025-06-14T16:27:37.535083Z",
     "shell.execute_reply": "2025-06-14T16:27:37.533312Z"
    },
    "papermill": {
     "duration": 0.045442,
     "end_time": "2025-06-14T16:27:37.537629",
     "exception": false,
     "start_time": "2025-06-14T16:27:37.492187",
     "status": "completed"
    },
    "tags": []
   },
   "outputs": [
    {
     "name": "stdout",
     "output_type": "stream",
     "text": [
      "Class\n",
      "1    5496\n",
      "0    5496\n",
      "Name: count, dtype: int64\n",
      "Index(['Duree_QRS_ms_mean', 'Duree_QRS_ms_std', 'Duree_QRS_ms_min',\n",
      "       'Duree_QRS_ms_max', 'Duree_P_ms_mean', 'Duree_P_ms_std',\n",
      "       'Duree_P_ms_min', 'Duree_P_ms_max', 'Duree_T_ms_mean', 'Duree_T_ms_std',\n",
      "       'Duree_T_ms_min', 'Duree_T_ms_max', 'Intervalle_QT_ms_mean',\n",
      "       'Intervalle_QT_ms_std', 'Intervalle_QT_ms_min', 'Intervalle_QT_ms_max',\n",
      "       'Intervalle_PR_ms_mean', 'Intervalle_PR_ms_std', 'Intervalle_PR_ms_min',\n",
      "       'Intervalle_PR_ms_max', 'Intervalle_ST_ms_mean', 'Intervalle_ST_ms_std',\n",
      "       'Intervalle_ST_ms_min', 'Intervalle_ST_ms_max', 'Amplitude_P_mean',\n",
      "       'Amplitude_P_std', 'Amplitude_P_min', 'Amplitude_P_max',\n",
      "       'Amplitude_Q_mean', 'Amplitude_Q_std', 'Amplitude_Q_min',\n",
      "       'Amplitude_Q_max', 'Amplitude_R_mean', 'Amplitude_R_std',\n",
      "       'Amplitude_R_min', 'Amplitude_R_max', 'Amplitude_S_mean',\n",
      "       'Amplitude_S_std', 'Amplitude_S_min', 'Amplitude_S_max',\n",
      "       'Amplitude_T_mean', 'Amplitude_T_std', 'Amplitude_T_min',\n",
      "       'Amplitude_T_max', 'T/R_ratio_mean', 'T/R_ratio_std', 'T/R_ratio_min',\n",
      "       'T/R_ratio_max', 'P/R_ratio_mean', 'P/R_ratio_std', 'P/R_ratio_min',\n",
      "       'P/R_ratio_max', 'QRS_area_mean', 'QRS_area_std', 'QRS_area_min',\n",
      "       'QRS_area_max', 'Slope_QR_mean', 'Slope_QR_std', 'Slope_QR_min',\n",
      "       'Slope_QR_max', 'Slope_RS_mean', 'Slope_RS_std', 'Slope_RS_min',\n",
      "       'Slope_RS_max', 'Heart_rate_bpm_mean', 'Heart_rate_bpm_std',\n",
      "       'Heart_rate_bpm_min', 'Heart_rate_bpm_max', 'Local_RMSSD_mean',\n",
      "       'Local_RMSSD_std', 'Local_RMSSD_min', 'Local_RMSSD_max',\n",
      "       'T_inversion_mean', 'T_inversion_sum', 'Premature_beat_sum',\n",
      "       'Bigeminy_sum', 'Trigeminy_sum', 'count_N', 'count_L', 'count_R',\n",
      "       'count_/', 'count_V', 'count_else', 'ratio_N', 'ratio_L', 'ratio_R',\n",
      "       'ratio_/', 'ratio_V', 'ratio_else', 'percent_T_inversion',\n",
      "       'QRS_prolonged_ratio', 'QT_prolonged_ratio', 'PVC_ratio', 'num_beats',\n",
      "       'std_Intervalle_RR_ms'],\n",
      "      dtype='object')\n"
     ]
    }
   ],
   "source": [
    "import pandas as pd\n",
    "from sklearn.model_selection import train_test_split\n",
    "from sklearn.ensemble import RandomForestClassifier\n",
    "from sklearn.metrics import classification_report, accuracy_score , confusion_matrix\n",
    "\n",
    "# Assuming df_full already has the 'is_normal' column for classification\n",
    "# Define X and y\n",
    "X = df_balanced.drop(columns=['record_name','Sex','Age',\"Dx\",'Class'])  # Features: exclude 'is_normal' column\n",
    "\n",
    "y = df_balanced['Class']  # Target: 'is_normal'\n",
    "print(y.value_counts())\n",
    "print(X.columns)\n",
    "# Split the data into training and testing sets (80% training, 20% testing)\n",
    "X_train, X_test, y_train, y_test = train_test_split(X, y, test_size=0.2, random_state=42)\n",
    "\n"
   ]
  },
  {
   "cell_type": "code",
   "execution_count": 59,
   "id": "a0b31080",
   "metadata": {
    "execution": {
     "iopub.execute_input": "2025-06-14T16:27:37.584046Z",
     "iopub.status.busy": "2025-06-14T16:27:37.583743Z",
     "iopub.status.idle": "2025-06-14T16:27:45.012779Z",
     "shell.execute_reply": "2025-06-14T16:27:45.011365Z"
    },
    "papermill": {
     "duration": 7.45508,
     "end_time": "2025-06-14T16:27:45.015540",
     "exception": false,
     "start_time": "2025-06-14T16:27:37.560460",
     "status": "completed"
    },
    "tags": []
   },
   "outputs": [
    {
     "name": "stdout",
     "output_type": "stream",
     "text": [
      "Accuracy: 0.9350\n",
      "Classification Report:\n",
      "              precision    recall  f1-score   support\n",
      "\n",
      "           0       0.92      0.95      0.94      1109\n",
      "           1       0.95      0.92      0.93      1090\n",
      "\n",
      "    accuracy                           0.93      2199\n",
      "   macro avg       0.94      0.93      0.93      2199\n",
      "weighted avg       0.94      0.93      0.93      2199\n",
      "\n",
      "[[1055   54]\n",
      " [  89 1001]]\n"
     ]
    }
   ],
   "source": [
    "\n",
    "# Initialize a RandomForestClassifier\n",
    "rf_clf =  RandomForestClassifier(n_estimators=100, class_weight='balanced', random_state=42)\n",
    "\n",
    "# Train the model\n",
    "rf_clf.fit(X_train, y_train)\n",
    "\n",
    "# Make predictions on the test set\n",
    "y_pred = rf_clf.predict(X_test)\n",
    "\n",
    "# Evaluate the model\n",
    "print(f\"Accuracy: {accuracy_score(y_test, y_pred):.4f}\")\n",
    "print(\"Classification Report:\")\n",
    "print(classification_report(y_test, y_pred))\n",
    "print(confusion_matrix(y_test, y_pred))\n"
   ]
  },
  {
   "cell_type": "code",
   "execution_count": 60,
   "id": "e07bfe34",
   "metadata": {
    "execution": {
     "iopub.execute_input": "2025-06-14T16:27:45.067426Z",
     "iopub.status.busy": "2025-06-14T16:27:45.067068Z",
     "iopub.status.idle": "2025-06-14T16:27:45.482881Z",
     "shell.execute_reply": "2025-06-14T16:27:45.481889Z"
    },
    "papermill": {
     "duration": 0.440633,
     "end_time": "2025-06-14T16:27:45.484632",
     "exception": false,
     "start_time": "2025-06-14T16:27:45.043999",
     "status": "completed"
    },
    "tags": []
   },
   "outputs": [
    {
     "data": {
      "image/png": "[encoded data removed]",
      "text/plain": [
       "<Figure size 640x480 with 1 Axes>"
      ]
     },
     "metadata": {},
     "output_type": "display_data"
    }
   ],
   "source": [
    "import pandas as pd\n",
    "import matplotlib.pyplot as plt\n",
    "\n",
    "importances = rf_clf.feature_importances_\n",
    "feature_names = X_train.columns\n",
    "feat_imp = pd.Series(importances, index=feature_names).sort_values(ascending=False)\n",
    "\n",
    "# Top 20 features\n",
    "feat_imp.head(30).plot(kind='barh', title='Top 20 Feature Importances')\n",
    "plt.gca().invert_yaxis()\n",
    "plt.tight_layout()\n",
    "plt.show()\n"
   ]
  },
  {
   "cell_type": "code",
   "execution_count": 61,
   "id": "50e9b9ee",
   "metadata": {
    "execution": {
     "iopub.execute_input": "2025-06-14T16:27:45.531610Z",
     "iopub.status.busy": "2025-06-14T16:27:45.531213Z",
     "iopub.status.idle": "2025-06-14T16:27:45.578634Z",
     "shell.execute_reply": "2025-06-14T16:27:45.577629Z"
    },
    "papermill": {
     "duration": 0.072622,
     "end_time": "2025-06-14T16:27:45.580115",
     "exception": false,
     "start_time": "2025-06-14T16:27:45.507493",
     "status": "completed"
    },
    "tags": []
   },
   "outputs": [
    {
     "name": "stdout",
     "output_type": "stream",
     "text": [
      "Model saved successfully!\n"
     ]
    }
   ],
   "source": [
    "import joblib\n",
    "\n",
    "# Save model\n",
    "joblib.dump(rf_clf, 'sinus arrhythmia_vs_else_model.pkl')\n",
    "print(\"Model saved successfully!\")"
   ]
  },
  {
   "cell_type": "code",
   "execution_count": 62,
   "id": "6b5f05f3",
   "metadata": {
    "execution": {
     "iopub.execute_input": "2025-06-14T16:27:45.628003Z",
     "iopub.status.busy": "2025-06-14T16:27:45.627694Z",
     "iopub.status.idle": "2025-06-14T16:27:45.933963Z",
     "shell.execute_reply": "2025-06-14T16:27:45.932802Z"
    },
    "papermill": {
     "duration": 0.33317,
     "end_time": "2025-06-14T16:27:45.935590",
     "exception": false,
     "start_time": "2025-06-14T16:27:45.602420",
     "status": "completed"
    },
    "tags": []
   },
   "outputs": [
    {
     "data": {
      "image/png": "[encoded data removed]",
      "text/plain": [
       "<Figure size 600x500 with 2 Axes>"
      ]
     },
     "metadata": {},
     "output_type": "display_data"
    }
   ],
   "source": [
    "import pandas as pd\n",
    "import json\n",
    "from sklearn.metrics import classification_report\n",
    "\n",
    "# Save predictions\n",
    "pred_df = pd.DataFrame({'y_true': y_test, 'y_pred': y_pred})\n",
    "pred_df.to_csv('sinus_arrhythmia_predictions.csv', index=False)\n",
    "\n",
    "# Save metrics\n",
    "report = classification_report(y_test, y_pred, output_dict=True)\n",
    "with open(\"sinus_arrhythmia_classification_report.json\", \"w\") as f:\n",
    "    json.dump(report, f)\n",
    "import matplotlib.pyplot as plt\n",
    "import seaborn as sns\n",
    "from sklearn.metrics import confusion_matrix\n",
    "\n",
    "conf_matrix = confusion_matrix(y_test, y_pred)\n",
    "\n",
    "plt.figure(figsize=(6, 5))\n",
    "sns.heatmap(conf_matrix, annot=True, fmt=\"d\", cmap=\"Blues\")\n",
    "plt.title(\"Confusion Matrix\")\n",
    "plt.xlabel(\"Predicted\")\n",
    "plt.ylabel(\"Actual\")\n",
    "plt.tight_layout()\n",
    "plt.savefig(\"sinus_arrhythmia_confusion_matrix.png\")"
   ]
  }
 ],
 "metadata": {
  "kaggle": {
   "accelerator": "none",
   "dataSources": [
    {
     "datasetId": 7662194,
     "sourceId": 12165698,
     "sourceType": "datasetVersion"
    },
    {
     "sourceId": 245250653,
     "sourceType": "kernelVersion"
    },
    {
     "sourceId": 245441412,
     "sourceType": "kernelVersion"
    },
    {
     "sourceId": 245441818,
     "sourceType": "kernelVersion"
    }
   ],
   "dockerImageVersionId": 31040,
   "isGpuEnabled": false,
   "isInternetEnabled": true,
   "language": "python",
   "sourceType": "notebook"
  },
  "kernelspec": {
   "display_name": "Python 3",
   "language": "python",
   "name": "python3"
  },
  "language_info": {
   "codemirror_mode": {
    "name": "ipython",
    "version": 3
   },
   "file_extension": ".py",
   "mimetype": "text/x-python",
   "name": "python",
   "nbconvert_exporter": "python",
   "pygments_lexer": "ipython3",
   "version": "3.11.11"
  },
  "papermill": {
   "default_parameters": {},
   "duration": 85.432054,
   "end_time": "2025-06-14T16:27:46.880744",
   "environment_variables": {},
   "exception": null,
   "input_path": "__notebook__.ipynb",
   "output_path": "__notebook__.ipynb",
   "parameters": {},
   "start_time": "2025-06-14T16:26:21.448690",
   "version": "2.6.0"
  }
 },
 "nbformat": 4,
 "nbformat_minor": 5
}
