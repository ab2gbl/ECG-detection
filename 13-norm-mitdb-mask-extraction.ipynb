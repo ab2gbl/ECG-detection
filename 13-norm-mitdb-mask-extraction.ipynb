{
 "cells": [
  {
   "cell_type": "code",
   "execution_count": 1,
   "id": "c99fdfd2",
   "metadata": {
    "execution": {
     "iopub.execute_input": "2025-05-27T09:11:31.899100Z",
     "iopub.status.busy": "2025-05-27T09:11:31.898866Z",
     "iopub.status.idle": "2025-05-27T09:11:37.503288Z",
     "shell.execute_reply": "2025-05-27T09:11:37.502359Z"
    },
    "papermill": {
     "duration": 5.612547,
     "end_time": "2025-05-27T09:11:37.504963",
     "exception": false,
     "start_time": "2025-05-27T09:11:31.892416",
     "status": "completed"
    },
    "tags": []
   },
   "outputs": [
    {
     "name": "stdout",
     "output_type": "stream",
     "text": [
      "Requirement already satisfied: pip in /usr/local/lib/python3.11/dist-packages (24.1.2)\r\n",
      "Collecting pip\r\n",
      "  Downloading pip-25.1.1-py3-none-any.whl.metadata (3.6 kB)\r\n",
      "Downloading pip-25.1.1-py3-none-any.whl (1.8 MB)\r\n",
      "\u001b[2K   \u001b[90m━━━━━━━━━━━━━━━━━━━━━━━━━━━━━━━━━━━━━━━━\u001b[0m \u001b[32m1.8/1.8 MB\u001b[0m \u001b[31m31.8 MB/s\u001b[0m eta \u001b[36m0:00:00\u001b[0m\r\n",
      "\u001b[?25hInstalling collected packages: pip\r\n",
      "  Attempting uninstall: pip\r\n",
      "    Found existing installation: pip 24.1.2\r\n",
      "    Uninstalling pip-24.1.2:\r\n",
      "      Successfully uninstalled pip-24.1.2\r\n",
      "Successfully installed pip-25.1.1\r\n"
     ]
    }
   ],
   "source": [
    "!pip install --upgrade pip"
   ]
  },
  {
   "cell_type": "code",
   "execution_count": 2,
   "id": "b928d680",
   "metadata": {
    "execution": {
     "iopub.execute_input": "2025-05-27T09:11:37.518138Z",
     "iopub.status.busy": "2025-05-27T09:11:37.517506Z",
     "iopub.status.idle": "2025-05-27T09:11:42.622806Z",
     "shell.execute_reply": "2025-05-27T09:11:42.622075Z"
    },
    "papermill": {
     "duration": 5.113001,
     "end_time": "2025-05-27T09:11:42.624238",
     "exception": false,
     "start_time": "2025-05-27T09:11:37.511237",
     "status": "completed"
    },
    "tags": []
   },
   "outputs": [
    {
     "name": "stdout",
     "output_type": "stream",
     "text": [
      "Collecting scikit-learn==1.6.1\r\n",
      "  Downloading scikit_learn-1.6.1-cp311-cp311-manylinux_2_17_x86_64.manylinux2014_x86_64.whl.metadata (18 kB)\r\n",
      "Requirement already satisfied: numpy>=1.19.5 in /usr/local/lib/python3.11/dist-packages (from scikit-learn==1.6.1) (1.26.4)\r\n",
      "Requirement already satisfied: scipy>=1.6.0 in /usr/local/lib/python3.11/dist-packages (from scikit-learn==1.6.1) (1.15.2)\r\n",
      "Requirement already satisfied: joblib>=1.2.0 in /usr/local/lib/python3.11/dist-packages (from scikit-learn==1.6.1) (1.4.2)\r\n",
      "Requirement already satisfied: threadpoolctl>=3.1.0 in /usr/local/lib/python3.11/dist-packages (from scikit-learn==1.6.1) (3.6.0)\r\n",
      "Requirement already satisfied: mkl_fft in /usr/local/lib/python3.11/dist-packages (from numpy>=1.19.5->scikit-learn==1.6.1) (1.3.8)\r\n",
      "Requirement already satisfied: mkl_random in /usr/local/lib/python3.11/dist-packages (from numpy>=1.19.5->scikit-learn==1.6.1) (1.2.4)\r\n",
      "Requirement already satisfied: mkl_umath in /usr/local/lib/python3.11/dist-packages (from numpy>=1.19.5->scikit-learn==1.6.1) (0.1.1)\r\n",
      "Requirement already satisfied: mkl in /usr/local/lib/python3.11/dist-packages (from numpy>=1.19.5->scikit-learn==1.6.1) (2025.1.0)\r\n",
      "Requirement already satisfied: tbb4py in /usr/local/lib/python3.11/dist-packages (from numpy>=1.19.5->scikit-learn==1.6.1) (2022.1.0)\r\n",
      "Requirement already satisfied: mkl-service in /usr/local/lib/python3.11/dist-packages (from numpy>=1.19.5->scikit-learn==1.6.1) (2.4.1)\r\n",
      "Requirement already satisfied: intel-openmp<2026,>=2024 in /usr/local/lib/python3.11/dist-packages (from mkl->numpy>=1.19.5->scikit-learn==1.6.1) (2024.2.0)\r\n",
      "Requirement already satisfied: tbb==2022.* in /usr/local/lib/python3.11/dist-packages (from mkl->numpy>=1.19.5->scikit-learn==1.6.1) (2022.1.0)\r\n",
      "Requirement already satisfied: intel-cmplr-lib-ur==2024.2.0 in /usr/local/lib/python3.11/dist-packages (from intel-openmp<2026,>=2024->mkl->numpy>=1.19.5->scikit-learn==1.6.1) (2024.2.0)\r\n",
      "Requirement already satisfied: tcmlib==1.* in /usr/local/lib/python3.11/dist-packages (from tbb==2022.*->mkl->numpy>=1.19.5->scikit-learn==1.6.1) (1.2.0)\r\n",
      "Requirement already satisfied: intel-cmplr-lib-rt in /usr/local/lib/python3.11/dist-packages (from mkl_umath->numpy>=1.19.5->scikit-learn==1.6.1) (2024.2.0)\r\n",
      "Downloading scikit_learn-1.6.1-cp311-cp311-manylinux_2_17_x86_64.manylinux2014_x86_64.whl (13.5 MB)\r\n",
      "\u001b[2K   \u001b[90m━━━━━━━━━━━━━━━━━━━━━━━━━━━━━━━━━━━━━━━━\u001b[0m \u001b[32m13.5/13.5 MB\u001b[0m \u001b[31m120.7 MB/s\u001b[0m eta \u001b[36m0:00:00\u001b[0m\r\n",
      "\u001b[?25hInstalling collected packages: scikit-learn\r\n",
      "  Attempting uninstall: scikit-learn\r\n",
      "    Found existing installation: scikit-learn 1.2.2\r\n",
      "    Uninstalling scikit-learn-1.2.2:\r\n",
      "      Successfully uninstalled scikit-learn-1.2.2\r\n",
      "\u001b[31mERROR: pip's dependency resolver does not currently take into account all the packages that are installed. This behaviour is the source of the following dependency conflicts.\r\n",
      "category-encoders 2.7.0 requires scikit-learn<1.6.0,>=1.0.0, but you have scikit-learn 1.6.1 which is incompatible.\r\n",
      "bigframes 1.36.0 requires rich<14,>=12.4.4, but you have rich 14.0.0 which is incompatible.\u001b[0m\u001b[31m\r\n",
      "\u001b[0mSuccessfully installed scikit-learn-1.6.1\r\n"
     ]
    }
   ],
   "source": [
    "!pip install scikit-learn==1.6.1"
   ]
  },
  {
   "cell_type": "code",
   "execution_count": 3,
   "id": "5319c993",
   "metadata": {
    "execution": {
     "iopub.execute_input": "2025-05-27T09:11:42.638587Z",
     "iopub.status.busy": "2025-05-27T09:11:42.638335Z",
     "iopub.status.idle": "2025-05-27T09:11:45.292668Z",
     "shell.execute_reply": "2025-05-27T09:11:45.291884Z"
    },
    "papermill": {
     "duration": 2.662247,
     "end_time": "2025-05-27T09:11:45.293893",
     "exception": false,
     "start_time": "2025-05-27T09:11:42.631646",
     "status": "completed"
    },
    "tags": []
   },
   "outputs": [
    {
     "name": "stdout",
     "output_type": "stream",
     "text": [
      "1.6.1\n"
     ]
    }
   ],
   "source": [
    "import sklearn \n",
    "print(sklearn.__version__)"
   ]
  },
  {
   "cell_type": "code",
   "execution_count": 4,
   "id": "fd3b47c8",
   "metadata": {
    "execution": {
     "iopub.execute_input": "2025-05-27T09:11:45.306282Z",
     "iopub.status.busy": "2025-05-27T09:11:45.305945Z",
     "iopub.status.idle": "2025-05-27T09:11:49.391271Z",
     "shell.execute_reply": "2025-05-27T09:11:49.390141Z"
    },
    "id": "roZgmsPyFKjB",
    "outputId": "7ace9a87-c359-42a4-e43c-bc2a5afe7715",
    "papermill": {
     "duration": 4.092954,
     "end_time": "2025-05-27T09:11:49.392853",
     "exception": false,
     "start_time": "2025-05-27T09:11:45.299899",
     "status": "completed"
    },
    "tags": []
   },
   "outputs": [],
   "source": [
    "!pip install wfdb --quiet\n",
    "#!pip install keras-tuner --quiet\n",
    "#!pip install resnet1d\n",
    "!pip install tqdm --quiet"
   ]
  },
  {
   "cell_type": "code",
   "execution_count": 5,
   "id": "4cebe7f3",
   "metadata": {
    "execution": {
     "iopub.execute_input": "2025-05-27T09:11:49.406101Z",
     "iopub.status.busy": "2025-05-27T09:11:49.405783Z",
     "iopub.status.idle": "2025-05-27T09:11:49.638773Z",
     "shell.execute_reply": "2025-05-27T09:11:49.638032Z"
    },
    "id": "L5ge4LwBPcr6",
    "papermill": {
     "duration": 0.241242,
     "end_time": "2025-05-27T09:11:49.640210",
     "exception": false,
     "start_time": "2025-05-27T09:11:49.398968",
     "status": "completed"
    },
    "tags": []
   },
   "outputs": [],
   "source": [
    "import wfdb\n",
    "from scipy.signal import butter, filtfilt\n",
    "import numpy as np\n",
    "from scipy.signal import resample\n",
    "import os\n",
    "from tqdm import tqdm\n"
   ]
  },
  {
   "cell_type": "markdown",
   "id": "467b6ebf",
   "metadata": {
    "id": "ZTMmDNHCfhhu",
    "papermill": {
     "duration": 0.005532,
     "end_time": "2025-05-27T09:11:49.651939",
     "exception": false,
     "start_time": "2025-05-27T09:11:49.646407",
     "status": "completed"
    },
    "tags": []
   },
   "source": [
    "# Predection"
   ]
  },
  {
   "cell_type": "markdown",
   "id": "10a5f78b",
   "metadata": {
    "id": "jvXrP01oftqo",
    "papermill": {
     "duration": 0.005827,
     "end_time": "2025-05-27T09:11:49.663557",
     "exception": false,
     "start_time": "2025-05-27T09:11:49.657730",
     "status": "completed"
    },
    "tags": []
   },
   "source": [
    "## preprocess Functions\n"
   ]
  },
  {
   "cell_type": "code",
   "execution_count": 6,
   "id": "67515d10",
   "metadata": {
    "execution": {
     "iopub.execute_input": "2025-05-27T09:11:49.676400Z",
     "iopub.status.busy": "2025-05-27T09:11:49.675799Z",
     "iopub.status.idle": "2025-05-27T09:11:49.682306Z",
     "shell.execute_reply": "2025-05-27T09:11:49.681684Z"
    },
    "id": "JNp2geUV6p_G",
    "papermill": {
     "duration": 0.014197,
     "end_time": "2025-05-27T09:11:49.683522",
     "exception": false,
     "start_time": "2025-05-27T09:11:49.669325",
     "status": "completed"
    },
    "tags": []
   },
   "outputs": [],
   "source": [
    "def bandpass_filter(signal, fs=250, lowcut=0.5,  highcut=15.0,  order=4):\n",
    "    nyquist = 0.5 * fs\n",
    "    low = lowcut / nyquist\n",
    "    high = highcut / nyquist\n",
    "    b, a = butter(order, [low, high], btype='band')\n",
    "    return filtfilt(b, a, signal)\n",
    "    \n",
    "def smooth_signal(data, window_size=5):\n",
    "    window = np.ones(window_size) / window_size\n",
    "    smoothed = np.convolve(data, window, mode='same')\n",
    "    return smoothed\n",
    "def normalize_signal(data):\n",
    "    return (data - np.mean(data)) / np.std(data)\n",
    "\n",
    "def resample_signal(signal, original_fs, target_fs):\n",
    "    num_samples = int(len(signal) * target_fs / original_fs)\n",
    "    resampled_signal = resample(signal, num_samples)\n",
    "    return resampled_signal\n",
    "def adjust_annotations(samples, original_fs, target_fs):\n",
    "    scale = target_fs / original_fs\n",
    "    if isinstance(samples, (list, np.ndarray)):\n",
    "        return (np.array(samples) * scale).astype(int)\n",
    "    else:\n",
    "        return int(samples * scale)"
   ]
  },
  {
   "cell_type": "markdown",
   "id": "4a782c8b",
   "metadata": {
    "id": "ZW-HQbGIN86a",
    "papermill": {
     "duration": 0.005649,
     "end_time": "2025-05-27T09:11:49.694948",
     "exception": false,
     "start_time": "2025-05-27T09:11:49.689299",
     "status": "completed"
    },
    "tags": []
   },
   "source": [
    "## Prediction Functions"
   ]
  },
  {
   "cell_type": "code",
   "execution_count": 7,
   "id": "6ebb6514",
   "metadata": {
    "execution": {
     "iopub.execute_input": "2025-05-27T09:11:49.707254Z",
     "iopub.status.busy": "2025-05-27T09:11:49.707060Z",
     "iopub.status.idle": "2025-05-27T09:11:49.713020Z",
     "shell.execute_reply": "2025-05-27T09:11:49.712366Z"
    },
    "id": "Fd5btn-3IGM1",
    "papermill": {
     "duration": 0.013352,
     "end_time": "2025-05-27T09:11:49.714176",
     "exception": false,
     "start_time": "2025-05-27T09:11:49.700824",
     "status": "completed"
    },
    "tags": []
   },
   "outputs": [],
   "source": [
    "def predict_full_ecg(signal, model, fs=250, window_size=240):\n",
    "    model.eval()\n",
    "    signal = signal[:len(signal) - (len(signal) % window_size)]  # crop to multiple of window_size\n",
    "    signal = normalize_signal(smooth_signal(bandpass_filter(signal, fs=fs)))\n",
    "    if fs != 250:\n",
    "        signal = resample_signal(signal, original_fs=fs, target_fs=250)\n",
    "        fs = fs\n",
    "    signal = signal.reshape(1, 1, -1)  # (1, 1, L)\n",
    "\n",
    "    segments = []\n",
    "    predictions = []\n",
    "\n",
    "    for i in range(0, signal.shape[2] - window_size + 1, window_size):\n",
    "        window = signal[:, :, i:i+window_size]\n",
    "        segments.append(window)\n",
    "\n",
    "    with torch.no_grad():\n",
    "        for window in segments:\n",
    "            window = torch.tensor(window, dtype=torch.float32).to(device)\n",
    "            output = model(window)  # (1, C, L)\n",
    "            pred = torch.argmax(output, dim=1).cpu().numpy()[0]  # (L,)\n",
    "            predictions.append(pred)\n",
    "\n",
    "    full_prediction = np.concatenate(predictions)\n",
    "    return full_prediction, segments, predictions\n"
   ]
  },
  {
   "cell_type": "code",
   "execution_count": 8,
   "id": "eb679939",
   "metadata": {
    "execution": {
     "iopub.execute_input": "2025-05-27T09:11:49.726535Z",
     "iopub.status.busy": "2025-05-27T09:11:49.726299Z",
     "iopub.status.idle": "2025-05-27T09:11:49.731674Z",
     "shell.execute_reply": "2025-05-27T09:11:49.730995Z"
    },
    "id": "hqpbvUexIbT1",
    "papermill": {
     "duration": 0.012773,
     "end_time": "2025-05-27T09:11:49.732824",
     "exception": false,
     "start_time": "2025-05-27T09:11:49.720051",
     "status": "completed"
    },
    "tags": []
   },
   "outputs": [],
   "source": [
    "def get_wave_boundaries(predicted_labels):\n",
    "    wave_types = {1: 'P', 2: 'QRS', 3: 'T'}\n",
    "    wave_boundaries = {k: [] for k in wave_types.values()}\n",
    "\n",
    "    current_class = None\n",
    "    start = None\n",
    "\n",
    "    for i, label in enumerate(predicted_labels):\n",
    "        if label in wave_types:\n",
    "            if current_class is None:\n",
    "                current_class = label\n",
    "                start = i\n",
    "            elif label != current_class:\n",
    "                wave_boundaries[wave_types[current_class]].append((start, i-1))\n",
    "                current_class = label\n",
    "                start = i\n",
    "        else:\n",
    "\n",
    "            if current_class is not None:\n",
    "                wave_boundaries[wave_types[current_class]].append((start, i-1))\n",
    "                current_class = None\n",
    "                start = None\n",
    "\n",
    "    # Handle last segment\n",
    "    if current_class is not None:\n",
    "        wave_boundaries[wave_types[current_class]].append((start, len(predicted_labels)-1))\n",
    "\n",
    "    return wave_boundaries"
   ]
  },
  {
   "cell_type": "code",
   "execution_count": 9,
   "id": "40059455",
   "metadata": {
    "execution": {
     "iopub.execute_input": "2025-05-27T09:11:49.744642Z",
     "iopub.status.busy": "2025-05-27T09:11:49.744397Z",
     "iopub.status.idle": "2025-05-27T09:11:49.751122Z",
     "shell.execute_reply": "2025-05-27T09:11:49.750377Z"
    },
    "id": "KBxpb7yjQzg7",
    "papermill": {
     "duration": 0.014328,
     "end_time": "2025-05-27T09:11:49.752587",
     "exception": false,
     "start_time": "2025-05-27T09:11:49.738259",
     "status": "completed"
    },
    "tags": []
   },
   "outputs": [],
   "source": [
    "import matplotlib.pyplot as plt\n",
    "import numpy as np\n",
    "\n",
    "def visualize_boundaries(signal, boundaries, signal_name, model_name, fs=250, zoom=(0, None)):\n",
    "    time = np.arange(len(signal)) / fs  # Convert indices to time (seconds)\n",
    "\n",
    "    plt.figure(figsize=(18, 6))\n",
    "    plt.plot(time, signal, color='black', label='ECG Signal', linewidth=1)\n",
    "\n",
    "    wave_colors = {'P': 'blue', 'QRS': 'red', 'T': 'green'}\n",
    "    added_labels = set()\n",
    "\n",
    "    # Convert zoom limits to sample indices\n",
    "    zoom_start_idx = int(zoom[0] * fs)\n",
    "    zoom_end_idx = int(zoom[1] * fs) if zoom[1] is not None else len(signal)\n",
    "\n",
    "    for wave_type, regions in boundaries.items():\n",
    "        for start, end in regions:\n",
    "            # Only plot if within zoom range\n",
    "            if start >= zoom_start_idx and end <= zoom_end_idx:\n",
    "                label = f'Predicted {wave_type}' if wave_type not in added_labels else None\n",
    "                plt.fill_between(\n",
    "                    time[start:end],\n",
    "                    -1, 1,\n",
    "                    color=wave_colors.get(wave_type, 'gray'),\n",
    "                    alpha=0.3,\n",
    "                    label=label\n",
    "                )\n",
    "                added_labels.add(wave_type)\n",
    "\n",
    "    plt.legend(loc='upper right')\n",
    "    plt.title(f\"signal: {signal_name}, model: {model_name}\", fontsize=16)\n",
    "    plt.xlabel(\"Time (seconds)\")\n",
    "    plt.ylabel(\"Amplitude\")\n",
    "    plt.tight_layout()\n",
    "\n",
    "    # Apply zoom\n",
    "    plt.xlim(zoom[0], zoom[1] if zoom[1] is not None else time[-1])\n",
    "\n",
    "    plt.show()\n",
    "\n"
   ]
  },
  {
   "cell_type": "markdown",
   "id": "9736d848",
   "metadata": {
    "id": "UCgs5n5KgSse",
    "papermill": {
     "duration": 0.006235,
     "end_time": "2025-05-27T09:11:49.768939",
     "exception": false,
     "start_time": "2025-05-27T09:11:49.762704",
     "status": "completed"
    },
    "tags": []
   },
   "source": [
    "## Post-process Functions\n"
   ]
  },
  {
   "cell_type": "code",
   "execution_count": 10,
   "id": "18bd7730",
   "metadata": {
    "execution": {
     "iopub.execute_input": "2025-05-27T09:11:49.781019Z",
     "iopub.status.busy": "2025-05-27T09:11:49.780603Z",
     "iopub.status.idle": "2025-05-27T09:11:49.784936Z",
     "shell.execute_reply": "2025-05-27T09:11:49.784319Z"
    },
    "id": "kmS2kirJ8Jvn",
    "outputId": "741640e0-0117-4dfe-af6f-63ba631b3b53",
    "papermill": {
     "duration": 0.011575,
     "end_time": "2025-05-27T09:11:49.785977",
     "exception": false,
     "start_time": "2025-05-27T09:11:49.774402",
     "status": "completed"
    },
    "tags": []
   },
   "outputs": [],
   "source": [
    "import numpy as np\n",
    "\n",
    "def remove_uncomplete_first_last_wave(predicted):\n",
    "    start = predicted[0]\n",
    "    end = predicted[-1]\n",
    "    if start != 0:\n",
    "      i=0\n",
    "      while i < len(predicted) and predicted[i]==start:\n",
    "        i+=1\n",
    "      predicted[:i]=0\n",
    "    if end != 0:\n",
    "      i=len(predicted)-1\n",
    "      while i > -1 and predicted[i]==end:\n",
    "        i-=1\n",
    "      predicted[i+1:]=0\n",
    "\n",
    "    return predicted"
   ]
  },
  {
   "cell_type": "code",
   "execution_count": 11,
   "id": "54099df8",
   "metadata": {
    "execution": {
     "iopub.execute_input": "2025-05-27T09:11:49.798169Z",
     "iopub.status.busy": "2025-05-27T09:11:49.797915Z",
     "iopub.status.idle": "2025-05-27T09:11:49.803743Z",
     "shell.execute_reply": "2025-05-27T09:11:49.803071Z"
    },
    "id": "7e5D4ca1e68y",
    "outputId": "2235cdc7-183d-42ef-f842-be84ca20ebfe",
    "papermill": {
     "duration": 0.013587,
     "end_time": "2025-05-27T09:11:49.805072",
     "exception": false,
     "start_time": "2025-05-27T09:11:49.791485",
     "status": "completed"
    },
    "tags": []
   },
   "outputs": [],
   "source": [
    "import numpy as np\n",
    "\n",
    "def merge_close_waves(predicted, max_gap=10):\n",
    "  predicted = predicted.copy()\n",
    "  for target_class in [1,2,3]:\n",
    "    indices = np.where(predicted == target_class)[0]\n",
    "\n",
    "    if len(indices) < 2:\n",
    "        return predicted  \n",
    "\n",
    "    for i in range(len(indices) - 1):\n",
    "        current = indices[i]\n",
    "        next_ = indices[i + 1]\n",
    "        if 0 < next_ - current - 1 < max_gap:\n",
    "            predicted[current:next_ + 1] = target_class\n",
    "\n",
    "\n",
    "\n",
    "  return predicted"
   ]
  },
  {
   "cell_type": "code",
   "execution_count": 12,
   "id": "69722fbd",
   "metadata": {
    "execution": {
     "iopub.execute_input": "2025-05-27T09:11:49.816980Z",
     "iopub.status.busy": "2025-05-27T09:11:49.816504Z",
     "iopub.status.idle": "2025-05-27T09:11:49.825869Z",
     "shell.execute_reply": "2025-05-27T09:11:49.825191Z"
    },
    "id": "TGZYAxZz8Ftk",
    "outputId": "af8d22cd-fd2c-4ff7-d957-9affa4a8d681",
    "papermill": {
     "duration": 0.016418,
     "end_time": "2025-05-27T09:11:49.826979",
     "exception": false,
     "start_time": "2025-05-27T09:11:49.810561",
     "status": "completed"
    },
    "tags": []
   },
   "outputs": [],
   "source": [
    "def remove_irrelevant_waves(predicted,start_search=2,end_search=5):\n",
    "    start=0\n",
    "    # Find the first P that has a QRS after it\n",
    "    if 1 in predicted[:start_search*250] :\n",
    "      for i in range(len(predicted)-1):\n",
    "          start = i\n",
    "\n",
    "          if predicted[i] == 1:\n",
    "              start = i\n",
    "              \n",
    "              while i < len(predicted)-1 and predicted[i] == 1:\n",
    "                i += 1\n",
    "              # if it's not 0 or 2 break\n",
    "              if predicted[i] == 3:\n",
    "                continue\n",
    "              # skip background if it exist\n",
    "              if predicted[i] == 0:\n",
    "                while i < len(predicted)-1 and predicted[i] == 0:\n",
    "                  i += 1\n",
    "              # if it's not qrs continue to next p\n",
    "              if predicted[i] != 2:\n",
    "                continue\n",
    "              else:\n",
    "                break\n",
    "      predicted[:start] = 0\n",
    "\n",
    "\n",
    "    # remove after last T\n",
    "    if 3 in predicted[-end_search*250:]:\n",
    "      \n",
    "      end = predicted[-1]\n",
    "      for i in range((len(predicted) - 1), -1, -1):\n",
    "          end = i\n",
    "\n",
    "          if predicted[i] == 3:\n",
    "              end = i\n",
    "              while i > 0 and predicted[i] == 3:\n",
    "                i -= 1\n",
    "              # if it's not 0 or 2 break\n",
    "              if predicted[i] == 1:\n",
    "                continue\n",
    "              # skip background if it exist\n",
    "              if predicted[i] == 0:\n",
    "                while i > 0 and predicted[i] == 0:\n",
    "                  i -= 1\n",
    "              # if it's not qrs continue to next t\n",
    "              if predicted[i] != 2:\n",
    "                continue\n",
    "              else:\n",
    "                break\n",
    "      predicted[end+1:] = 0\n",
    "\n",
    "    return (predicted)"
   ]
  },
  {
   "cell_type": "code",
   "execution_count": 13,
   "id": "84c7c80f",
   "metadata": {
    "execution": {
     "iopub.execute_input": "2025-05-27T09:11:49.838522Z",
     "iopub.status.busy": "2025-05-27T09:11:49.838250Z",
     "iopub.status.idle": "2025-05-27T09:11:49.846327Z",
     "shell.execute_reply": "2025-05-27T09:11:49.845718Z"
    },
    "id": "CSwwTMCAcJ7h",
    "outputId": "9c0e8129-f653-4b9f-8e4c-f1732f45e059",
    "papermill": {
     "duration": 0.015057,
     "end_time": "2025-05-27T09:11:49.847417",
     "exception": false,
     "start_time": "2025-05-27T09:11:49.832360",
     "status": "completed"
    },
    "tags": []
   },
   "outputs": [],
   "source": [
    "def check_repeated_waves(predicted):\n",
    "    cleaned = predicted.copy()\n",
    "    for target_class in [1,2,3]:\n",
    "      segments = []\n",
    "      in_segment = False\n",
    "      start = 0\n",
    "\n",
    "      # Step 1: Collect all segments of the target class\n",
    "      for i, val in enumerate(predicted):\n",
    "          if val == target_class and not in_segment:\n",
    "              in_segment = True\n",
    "              start = i\n",
    "          elif val != target_class and in_segment:\n",
    "              in_segment = False\n",
    "              segments.append((start, i - 1))\n",
    "      if in_segment:\n",
    "          segments.append((start, len(predicted) - 1))\n",
    "\n",
    "      # Step 2: Check for pairs of segments with only background (0) in between\n",
    "      i = 0\n",
    "      while i < len(segments) - 1:\n",
    "          s1, e1 = segments[i]\n",
    "          s2, e2 = segments[i + 1]\n",
    "          between = cleaned[e1 + 1:s2]\n",
    "\n",
    "          if np.all(between == 0):  # Only background between them\n",
    "              len1 = e1 - s1 + 1\n",
    "              len2 = e2 - s2 + 1\n",
    "\n",
    "              # Remove the shorter one\n",
    "              if len1 < len2:\n",
    "                  cleaned[s1:e1 + 1] = 0\n",
    "              else:\n",
    "                  cleaned[s2:e2 + 1] = 0\n",
    "\n",
    "              # Remove the deleted segment from the list\n",
    "              segments.pop(i if len1 < len2 else i + 1)\n",
    "          else:\n",
    "              i += 1\n",
    "\n",
    "\n",
    "    return cleaned"
   ]
  },
  {
   "cell_type": "code",
   "execution_count": 14,
   "id": "0fa61fe0",
   "metadata": {
    "execution": {
     "iopub.execute_input": "2025-05-27T09:11:49.859105Z",
     "iopub.status.busy": "2025-05-27T09:11:49.858888Z",
     "iopub.status.idle": "2025-05-27T09:11:49.874203Z",
     "shell.execute_reply": "2025-05-27T09:11:49.873554Z"
    },
    "id": "2GFazaNobuRe",
    "papermill": {
     "duration": 0.022652,
     "end_time": "2025-05-27T09:11:49.875387",
     "exception": false,
     "start_time": "2025-05-27T09:11:49.852735",
     "status": "completed"
    },
    "tags": []
   },
   "outputs": [],
   "source": [
    "from scipy.signal import find_peaks\n",
    "from tqdm import tqdm\n",
    "def fix_before_P(signal,mask,p_start,p_end,slope_threshold=0.02):\n",
    "  diff_signal = np.diff([signal[p_start],signal[p_start-5]])  # check around the Q point for slope change\n",
    "  j = 0\n",
    "  while True:\n",
    "    while np.abs(diff_signal[-1]) >= slope_threshold and signal[p_start]>signal[p_start-1] and mask[p_start-1]==0:  # Continue until slope becomes small\n",
    "        j+=1\n",
    "        p_start -= 1\n",
    "        mask[p_start] = 1  # mark as part of the QRS\n",
    "        diff_signal = np.diff([signal[p_start],signal[p_start-5]])  # re-evaluate slope\n",
    "    if mask[p_start-1]!=0:\n",
    "      break\n",
    "    if j == 0:\n",
    "\n",
    "        slope_threshold -= 0.001\n",
    "        #print(\"slope_threshold: \",slope_threshold)\n",
    "        if slope_threshold < 0.005:\n",
    "          break\n",
    "    else:\n",
    "        break\n",
    "  #print (\"fixed_before with peak:\",j)\n",
    "  return mask,p_start\n",
    "\n",
    "\n",
    "def fix_P(signal, mask):\n",
    "    p_mask = (mask == 1).astype(int)\n",
    "    qrs_mask = (mask == 2).astype(int)\n",
    "\n",
    "    transitions = np.diff(p_mask, prepend=0)\n",
    "    p_starts = np.where(transitions == 1)[0]\n",
    "\n",
    "    qrs_starts = np.where(np.diff(qrs_mask, prepend=0) == 1)[0]\n",
    "\n",
    "    fixed_p_info = []\n",
    "\n",
    "    for i in tqdm(range(len(p_starts)), desc=\"Processing P\"):\n",
    "\n",
    "        slope_threshold = 0.02  # arbitrary threshold for slope to be considered small\n",
    "        p_start = p_starts[i]\n",
    "\n",
    "        p_next = p_starts[i+1] if i < len(p_starts) - 1 else len(mask)\n",
    "        p_indices = np.where((mask == 1) & (np.arange(len(mask)) >= p_start) & (np.arange(len(mask)) < p_next))[0]\n",
    "\n",
    "        p_end = p_indices[-1] if  len(p_indices)>0 else p_start\n",
    "        #print(\"p_start,p_end: \",p_start,p_end)\n",
    "        # Get indices of current P segment\n",
    "        if len(p_indices) < 3:\n",
    "            continue\n",
    "\n",
    "        p_wave = signal[p_indices]\n",
    "\n",
    "        # Check for peak inside current P segment\n",
    "        peaks, _ = find_peaks(p_wave, prominence=0.01)\n",
    "        has_peak = len(peaks) > 0\n",
    "        peak_index = p_indices[peaks[0]] if has_peak else None\n",
    "\n",
    "        # If no peak, look after end of P segment\n",
    "        post_p_peak_index = None\n",
    "        if has_peak:\n",
    "          #print(\"has peak\")\n",
    "          mask, p_start = fix_before_P(signal, mask,p_start,p_end)\n",
    "          j=0\n",
    "          #print(p_end)\n",
    "          while (p_end + 1 < len(signal)) and signal[p_end] > signal[p_start] and mask[p_end + 1] == 0:\n",
    "            j += 1\n",
    "            p_end += 1\n",
    "            mask[p_end] = 1\n",
    "        if not has_peak:\n",
    "\n",
    "            # Look ahead to the next QRS start\n",
    "            next_qrs_start = qrs_starts[qrs_starts > p_end]\n",
    "            next_qrs_start = next_qrs_start[0] if len(next_qrs_start) > 0 else len(signal)\n",
    "\n",
    "            # Look AFTER the P segment\n",
    "            post_range = np.arange(p_start,min(len(signal) ,p_end + 50,  next_qrs_start ))\n",
    "            post_peaks = []\n",
    "            if len(post_range) > 3:\n",
    "                post_wave = signal[post_range]\n",
    "                peaks, _ = find_peaks(post_wave, prominence=0.01)\n",
    "                # Filter by mask == 0\n",
    "                for p in peaks:\n",
    "                    peak_idx = post_range[p]\n",
    "                    # Check that the region from p_end to peak_idx is all mask == 0\n",
    "                    if np.all(mask[p_end+1:peak_idx + 1] == 0):\n",
    "                        post_peaks.append(peak_idx)\n",
    "\n",
    "\n",
    "            # Look BEFORE the P segment\n",
    "            pre_range = np.arange(max(0, p_start - 50), p_end)  # limit the look-back window to ~400ms\n",
    "            pre_peaks = []\n",
    "            if len(pre_range) > 3:\n",
    "                pre_wave = signal[pre_range]\n",
    "                peaks, _ = find_peaks(pre_wave, prominence=0.01)\n",
    "                # Filter by mask == 0\n",
    "                pre_peaks = [pre_range[p] for p in peaks if mask[pre_range[p]] == 0]\n",
    "                for p in peaks:\n",
    "                    peak_idx = pre_range[p]\n",
    "                    # Check that the region from p_end to peak_idx is all mask == 0\n",
    "                    if np.all(mask[peak_idx + 1:p_start] == 0):\n",
    "                        pre_peaks.append(peak_idx)\n",
    "\n",
    "            # Closest peak\n",
    "            ## Combine both and choose closest properly\n",
    "            closest_peak = None\n",
    "            min_distance = float('inf')\n",
    "\n",
    "            ## Compare post-peaks to p_end\n",
    "            for peak in post_peaks:\n",
    "                dist = abs(peak - p_end)\n",
    "                if dist < min_distance:\n",
    "                    min_distance = dist\n",
    "                    closest_peak = peak\n",
    "\n",
    "            ## Compare pre-peaks to p_start\n",
    "            for peak in pre_peaks:\n",
    "                dist = abs(peak - p_start)\n",
    "                if dist < min_distance:\n",
    "                    min_distance = dist\n",
    "                    closest_peak = peak\n",
    "\n",
    "            post_p_peak_index = closest_peak if closest_peak is not None else None\n",
    "\n",
    "            peak = None\n",
    "            if post_p_peak_index is not None:\n",
    "              if post_p_peak_index < p_start:\n",
    "                peak = \"before\"\n",
    "              else:\n",
    "                peak = \"after\"\n",
    "\n",
    "\n",
    "            #print(peak)\n",
    "            if peak == \"after\":\n",
    "                mask, p_start = fix_before_P(signal, mask,p_start,p_end)\n",
    "                j=0\n",
    "                while (p_end + 1 < len(signal)) and signal[p_end] > signal[p_start] and mask[p_end + 1] == 0:\n",
    "                  j += 1\n",
    "                  p_end += 1\n",
    "                  mask[p_end] = 1\n",
    "            elif peak == \"before\":\n",
    "\n",
    "                mask[post_p_peak_index-2:p_start] = 1\n",
    "                p_start = post_p_peak_index-2\n",
    "                mask, p_start = fix_before_P(signal, mask,p_start,p_end)\n",
    "\n",
    "\n",
    "        fixed_p_info.append({\n",
    "            'start': p_indices[0],\n",
    "            'end': p_indices[-1],\n",
    "            'has_peak': has_peak,\n",
    "            'peak_index': peak_index,\n",
    "            'post_p_peak_index': post_p_peak_index\n",
    "        })\n",
    "        #print (fixed_p_info)\n",
    "\n",
    "    return mask"
   ]
  },
  {
   "cell_type": "code",
   "execution_count": 15,
   "id": "4d8331de",
   "metadata": {
    "execution": {
     "iopub.execute_input": "2025-05-27T09:11:49.893597Z",
     "iopub.status.busy": "2025-05-27T09:11:49.893342Z",
     "iopub.status.idle": "2025-05-27T09:11:49.910472Z",
     "shell.execute_reply": "2025-05-27T09:11:49.909875Z"
    },
    "papermill": {
     "duration": 0.026027,
     "end_time": "2025-05-27T09:11:49.911511",
     "exception": false,
     "start_time": "2025-05-27T09:11:49.885484",
     "status": "completed"
    },
    "tags": []
   },
   "outputs": [],
   "source": [
    "import numpy as np\n",
    "from scipy.signal import find_peaks\n",
    "def fast_fix_QRS(signal, mask, fs=250):\n",
    "    # time = np.arange(len(signal)) / fs\n",
    "    # indices = np.arange(len(mask))  # Precompute indices array\n",
    "\n",
    "    # Precompute slopes for QRS start and end adjustments\n",
    "    # slope_start = np.zeros_like(signal)\n",
    "    # slope_start[3:] = signal[3:] - signal[:-3]  # slope[i] = signal[i] - signal[i-3]\n",
    "    slope_end = np.zeros_like(signal)\n",
    "    slope_end[:-5] = signal[:-5] - signal[5:]    # slope[i] = signal[i] - signal[i+5]\n",
    "\n",
    "    # Identify QRS regions (mask == 2)\n",
    "    qrs_mask = (mask == 2).astype(np.int8)\n",
    "    transitions = np.diff(qrs_mask, prepend=0)\n",
    "    qrs_starts = np.flatnonzero(transitions == 1)\n",
    "    qrs_ends = np.flatnonzero(transitions == -1) - 1\n",
    "    n = len(signal)\n",
    "\n",
    "    if len(qrs_ends) < len(qrs_starts):\n",
    "        qrs_ends = np.append(qrs_ends, n - 1)\n",
    "\n",
    "    for i in tqdm(range(len(qrs_starts)), desc=\"Processing QRS\"):\n",
    "        qrs_start = qrs_starts[i]\n",
    "        # next_qrs_start = qrs_starts[i+1] if i < len(qrs_starts)-1 else len(mask)\n",
    "        # Find QRS end within the current segment\n",
    "        qrs_end = qrs_ends[i]\n",
    "        #before_qrs_end = qrs_ends[i-1] if i > 0 else 0\n",
    "        # Adjust QRS start based on preceding P wave\n",
    "        p_indices = np.where(mask[max(0, qrs_start-200):qrs_start] == 1)[0]\n",
    "        valid_p = []\n",
    "        if len(p_indices) > 0:\n",
    "            # Check from the end backwards\n",
    "            p_end = p_indices[-1]\n",
    "            p_end = p_indices[-1]  # just take the last one\n",
    "            if not np.any(mask[p_end:qrs_start] >= 2):  # no QRS or T in between\n",
    "                p_start = p_end\n",
    "                if p_start > 0 and mask[p_start-1] == 1:\n",
    "                    p_start -= 1\n",
    "                valid_p = np.arange(p_start, p_end + 1)\n",
    "                \n",
    "        if len(valid_p) > 0 and (qrs_start - valid_p[-1]) < 20:\n",
    "            # print(\"vaid p, qrs moved back:\",qrs_start-p_end)\n",
    "            mask[p_end+1:qrs_start] = 2\n",
    "            qrs_start = p_end +1\n",
    "        else:\n",
    "            # Precompute signal range before QRS\n",
    "            # print(\"no vaid p\")\n",
    "            \n",
    "            pre_start = max(0, qrs_start - 100)\n",
    "            pre_wave = signal[pre_start:qrs_start]\n",
    "            \n",
    "            # Find first valid peak before QRS\n",
    "            first_peak_before_qrs = None\n",
    "            if len(pre_wave) > 3:\n",
    "                peaks, _ = find_peaks(pre_wave, prominence=0.01)\n",
    "                for p in peaks:\n",
    "                    if mask[pre_start + p] == 0:\n",
    "                        # print(\"found peak before qrs\")\n",
    "                        first_peak_before_qrs = pre_start + p\n",
    "                        break\n",
    "            # Track first peak (if any)\n",
    "\n",
    "                    \n",
    "            original_qrs_start = qrs_start  # save original position\n",
    "            slope_threshold = 0.02\n",
    "            max_back_steps = 25\n",
    "            back_steps = 0\n",
    "        \n",
    "            while back_steps < max_back_steps and qrs_start >= 3:\n",
    "                       \n",
    "                diff_signal = signal[qrs_start] - signal[qrs_start - 3]\n",
    "                if abs(diff_signal) < slope_threshold:\n",
    "                    \n",
    "                    # Dynamic threshold (only if stuck)\n",
    "                    if back_steps == 0 and slope_threshold>0.005:\n",
    "                        slope_threshold = max(slope_threshold - 0.001, 0.005)\n",
    "                        continue \n",
    "                    break\n",
    "        \n",
    "                if first_peak_before_qrs is not None and qrs_start <= first_peak_before_qrs:\n",
    "                    break\n",
    "        \n",
    "                if mask[qrs_start - 1] != 0:\n",
    "                    break\n",
    "        \n",
    "                # Move QRS start backward\n",
    "                qrs_start -= 1\n",
    "                back_steps += 1\n",
    "        \n",
    "            \n",
    "            mask[qrs_start:original_qrs_start] = 2\n",
    "            # print(\"vaid p, qrs moved back:\",original_qrs_start-qrs_start)\n",
    "            \n",
    "        # Adjust QRS end\n",
    "        # Extend until signal stops descending\n",
    "        original_qrs_end = qrs_end\n",
    "        while qrs_end < len(signal)-1 and mask[qrs_end+1] == 0 and signal[qrs_end] >= signal[qrs_end+1]:\n",
    "            qrs_end += 1\n",
    "        \n",
    "        # Vectorize the mask update to do it all at once\n",
    "        mask[original_qrs_end:qrs_end+1] = 2\n",
    "\n",
    "        # Further adjust based on slope\n",
    "        slope_threshold_end = 0.02\n",
    "        max_forward_steps = 25\n",
    "        forward_steps = 0\n",
    "        # print(\"vaid p, qrs moved back:\",original_qrs_start-qrs_start)\n",
    "        \n",
    "        \n",
    "        while True:\n",
    "            while (qrs_end < len(signal)-5 \n",
    "                   and forward_steps < max_forward_steps \n",
    "                   and abs(slope_end[qrs_end]) >= slope_threshold_end \n",
    "                   and mask[qrs_end+1] == 0):\n",
    "                qrs_end += 1\n",
    "                forward_steps += 1\n",
    "            if abs(slope_end[qrs_end]) < slope_threshold_end and forward_steps == 0 and slope_threshold_end>0.005: \n",
    "                slope_threshold_end = max(slope_threshold_end - 0.001, 0.005)\n",
    "                continue\n",
    "            else :\n",
    "                mask[qrs_end - forward_steps + 1: qrs_end + 1] = 2\n",
    "                break\n",
    "                                \n",
    "            \n",
    "        \n",
    "    return mask"
   ]
  },
  {
   "cell_type": "code",
   "execution_count": 16,
   "id": "59a77fcd",
   "metadata": {
    "execution": {
     "iopub.execute_input": "2025-05-27T09:11:49.923574Z",
     "iopub.status.busy": "2025-05-27T09:11:49.923024Z",
     "iopub.status.idle": "2025-05-27T09:11:49.930163Z",
     "shell.execute_reply": "2025-05-27T09:11:49.929476Z"
    },
    "id": "b8dM91RXhegF",
    "outputId": "251c71b8-b899-4008-b25b-cde66a81fdc2",
    "papermill": {
     "duration": 0.014402,
     "end_time": "2025-05-27T09:11:49.931316",
     "exception": false,
     "start_time": "2025-05-27T09:11:49.916914",
     "status": "completed"
    },
    "tags": []
   },
   "outputs": [
    {
     "name": "stdout",
     "output_type": "stream",
     "text": [
      "[0 0 0 1 1 1 1 1 1 1 1 1 1 1 1 0 0 2 2 0 3 3 3 3 3 3 3 3 3 3 3 0 0 0 1 1 0\n",
      " 0 2 2 0 3 3 0 0 0]\n"
     ]
    }
   ],
   "source": [
    "def post_process_ecg(predicted):\n",
    "\n",
    "    predicted = remove_uncomplete_first_last_wave(predicted)\n",
    "    predicted = merge_close_waves(predicted)\n",
    "    predicted = remove_irrelevant_waves(predicted)\n",
    "    predicted = check_repeated_waves(predicted)\n",
    "\n",
    "    return predicted\n",
    "\n",
    "predicted = np.array([1,1,0, 1, 1, 0,0, 0, 0, 0, 0, 1, 0, 1, 1, 0, 0, 2, 2, 0, 3, 3, 0,0,0,0,0,0,3, 3, 3, 0,0,0,1, 1, 0, 0, 2, 2, 0, 3, 3,0,3,3])\n",
    "predicted = post_process_ecg(predicted)\n",
    "print(predicted)"
   ]
  },
  {
   "cell_type": "markdown",
   "id": "451ca0bd",
   "metadata": {
    "id": "IsKW-178f8s7",
    "papermill": {
     "duration": 0.00583,
     "end_time": "2025-05-27T09:11:49.942563",
     "exception": false,
     "start_time": "2025-05-27T09:11:49.936733",
     "status": "completed"
    },
    "tags": []
   },
   "source": [
    "## Load model"
   ]
  },
  {
   "cell_type": "code",
   "execution_count": 17,
   "id": "351344b3",
   "metadata": {
    "execution": {
     "iopub.execute_input": "2025-05-27T09:11:49.954490Z",
     "iopub.status.busy": "2025-05-27T09:11:49.953920Z",
     "iopub.status.idle": "2025-05-27T09:11:53.822999Z",
     "shell.execute_reply": "2025-05-27T09:11:53.822389Z"
    },
    "id": "a07tScN96T4a",
    "papermill": {
     "duration": 3.876341,
     "end_time": "2025-05-27T09:11:53.824243",
     "exception": false,
     "start_time": "2025-05-27T09:11:49.947902",
     "status": "completed"
    },
    "tags": []
   },
   "outputs": [],
   "source": [
    "import torch\n",
    "import torch.nn as nn\n",
    "import torch.nn.functional as F\n",
    "\n",
    "class ResidualConvBlock1D(nn.Module):\n",
    "    def __init__(self, in_channels, out_channels, dilation=1):\n",
    "        super().__init__()\n",
    "        self.conv1 = nn.Conv1d(in_channels, out_channels, kernel_size=3,\n",
    "                              padding=dilation, dilation=dilation)\n",
    "        self.bn1 = nn.BatchNorm1d(out_channels)\n",
    "        self.conv2 = nn.Conv1d(out_channels, out_channels, kernel_size=3,\n",
    "                               padding=dilation, dilation=dilation)\n",
    "        self.bn2 = nn.BatchNorm1d(out_channels)\n",
    "\n",
    "        self.shortcut = nn.Sequential()\n",
    "        if in_channels != out_channels:\n",
    "            self.shortcut = nn.Sequential(\n",
    "                nn.Conv1d(in_channels, out_channels, kernel_size=1),\n",
    "                nn.BatchNorm1d(out_channels)\n",
    "            )\n",
    "\n",
    "    def forward(self, x):\n",
    "        residual = self.shortcut(x)\n",
    "        x = F.relu(self.bn1(self.conv1(x)))\n",
    "        x = self.bn2(self.conv2(x))\n",
    "        x += residual\n",
    "        return F.relu(x)\n",
    "\n",
    "class AttentionBlock(nn.Module):\n",
    "    def __init__(self, F_g, F_l, F_int):\n",
    "        super().__init__()\n",
    "        self.W_g = nn.Sequential(\n",
    "            nn.Conv1d(F_g, F_int, kernel_size=1),\n",
    "            nn.BatchNorm1d(F_int)\n",
    "        )\n",
    "\n",
    "        self.W_x = nn.Sequential(\n",
    "            nn.Conv1d(F_l, F_int, kernel_size=1),\n",
    "            nn.BatchNorm1d(F_int)\n",
    "        )\n",
    "\n",
    "        self.psi = nn.Sequential(\n",
    "            nn.Conv1d(F_int, 1, kernel_size=1),\n",
    "            nn.BatchNorm1d(1),\n",
    "            nn.Sigmoid()\n",
    "        )\n",
    "\n",
    "        self.relu = nn.ReLU(inplace=True)\n",
    "\n",
    "    def forward(self, g, x):\n",
    "        g1 = self.W_g(g)\n",
    "        x1 = self.W_x(x)\n",
    "        psi = self.relu(g1 + x1)\n",
    "        psi = self.psi(psi)\n",
    "        return x * psi\n",
    "\n",
    "class UNet1D_Enhanced(nn.Module):\n",
    "    def __init__(self, in_channels=1, n_classes=4, base_filters=64):\n",
    "        super().__init__()\n",
    "\n",
    "        # Encoder with residual blocks and multi-scale context\n",
    "        self.enc1 = ResidualConvBlock1D(in_channels, base_filters)\n",
    "        self.pool1 = nn.MaxPool1d(2)\n",
    "\n",
    "        self.enc2 = ResidualConvBlock1D(base_filters, base_filters*2)\n",
    "        self.pool2 = nn.MaxPool1d(2)\n",
    "\n",
    "        self.enc3 = ResidualConvBlock1D(base_filters*2, base_filters*4)\n",
    "        self.pool3 = nn.MaxPool1d(2)\n",
    "\n",
    "        self.enc4 = ResidualConvBlock1D(base_filters*4, base_filters*8)\n",
    "        self.pool4 = nn.MaxPool1d(2)\n",
    "\n",
    "        # Bottleneck with dilated convolution\n",
    "        self.bottleneck = nn.Sequential(\n",
    "            ResidualConvBlock1D(base_filters*8, base_filters*16, dilation=2),\n",
    "            ResidualConvBlock1D(base_filters*16, base_filters*16, dilation=4)\n",
    "        )\n",
    "\n",
    "        # Decoder with attention gates\n",
    "        self.upconv4 = nn.ConvTranspose1d(base_filters*16, base_filters*8, kernel_size=2, stride=2)\n",
    "        self.att4 = AttentionBlock(base_filters*8, base_filters*8, base_filters//2)\n",
    "        self.dec4 = ResidualConvBlock1D(base_filters*16, base_filters*8)\n",
    "\n",
    "        self.upconv3 = nn.ConvTranspose1d(base_filters*8, base_filters*4, kernel_size=2, stride=2)\n",
    "        self.att3 = AttentionBlock(base_filters*4, base_filters*4, base_filters//4)\n",
    "        self.dec3 = ResidualConvBlock1D(base_filters*8, base_filters*4)\n",
    "\n",
    "        self.upconv2 = nn.ConvTranspose1d(base_filters*4, base_filters*2, kernel_size=2, stride=2)\n",
    "        self.att2 = AttentionBlock(base_filters*2, base_filters*2, base_filters//8)\n",
    "        self.dec2 = ResidualConvBlock1D(base_filters*4, base_filters*2)\n",
    "\n",
    "        self.upconv1 = nn.ConvTranspose1d(base_filters*2, base_filters, kernel_size=2, stride=2)\n",
    "        self.att1 = AttentionBlock(base_filters, base_filters, base_filters//16)\n",
    "        self.dec1 = ResidualConvBlock1D(base_filters*2, base_filters)\n",
    "\n",
    "        # Output with multi-scale feature fusion\n",
    "        self.final_conv = nn.Sequential(\n",
    "            nn.Conv1d(base_filters, base_filters//2, kernel_size=3, padding=1),\n",
    "            nn.BatchNorm1d(base_filters//2),\n",
    "            nn.ReLU(),\n",
    "            nn.Conv1d(base_filters//2, n_classes, kernel_size=1)\n",
    "        )\n",
    "\n",
    "        # Boundary refinement\n",
    "        self.boundary_refine = nn.Conv1d(n_classes, n_classes, kernel_size=5, padding=2)\n",
    "\n",
    "    def forward(self, x):\n",
    "        # Encoder\n",
    "        e1 = self.enc1(x)\n",
    "        e2 = self.enc2(self.pool1(e1))\n",
    "        e3 = self.enc3(self.pool2(e2))\n",
    "        e4 = self.enc4(self.pool3(e3))\n",
    "\n",
    "        # Bottleneck\n",
    "        b = self.bottleneck(self.pool4(e4))\n",
    "\n",
    "        # Decoder with attention\n",
    "        d4 = self.upconv4(b)\n",
    "        e4 = self.att4(d4, center_crop(e4, d4.shape[-1]))\n",
    "        d4 = self.dec4(torch.cat([d4, e4], dim=1))\n",
    "\n",
    "        d3 = self.upconv3(d4)\n",
    "        e3 = self.att3(d3, center_crop(e3, d3.shape[-1]))\n",
    "        d3 = self.dec3(torch.cat([d3, e3], dim=1))\n",
    "\n",
    "        d2 = self.upconv2(d3)\n",
    "        e2 = self.att2(d2, center_crop(e2, d2.shape[-1]))\n",
    "        d2 = self.dec2(torch.cat([d2, e2], dim=1))\n",
    "\n",
    "        d1 = self.upconv1(d2)\n",
    "        e1 = self.att1(d1, center_crop(e1, d1.shape[-1]))\n",
    "        d1 = self.dec1(torch.cat([d1, e1], dim=1))\n",
    "\n",
    "        # Output\n",
    "        out = self.final_conv(d1)\n",
    "\n",
    "        # Boundary refinement\n",
    "        out = out + self.boundary_refine(out)  # Residual connection\n",
    "\n",
    "        return out\n",
    "\n",
    "\n",
    "def center_crop(enc_feat, target_size):\n",
    "    _, _, L = enc_feat.size()\n",
    "    diff = L - target_size\n",
    "    if diff == 0:\n",
    "        return enc_feat\n",
    "    elif diff < 0:\n",
    "        raise ValueError(\"Encoder feature shorter than target\")\n",
    "    start = diff // 2\n",
    "    end = start + target_size\n",
    "    return enc_feat[:, :, start:end]"
   ]
  },
  {
   "cell_type": "code",
   "execution_count": 18,
   "id": "5483b2da",
   "metadata": {
    "execution": {
     "iopub.execute_input": "2025-05-27T09:11:53.836843Z",
     "iopub.status.busy": "2025-05-27T09:11:53.836320Z",
     "iopub.status.idle": "2025-05-27T09:11:55.527211Z",
     "shell.execute_reply": "2025-05-27T09:11:55.526579Z"
    },
    "id": "Kjq9YZXZQbLl",
    "outputId": "3d9aecce-4247-4762-cfcb-817d4398b7a7",
    "papermill": {
     "duration": 1.698252,
     "end_time": "2025-05-27T09:11:55.528469",
     "exception": false,
     "start_time": "2025-05-27T09:11:53.830217",
     "status": "completed"
    },
    "tags": []
   },
   "outputs": [
    {
     "name": "stderr",
     "output_type": "stream",
     "text": [
      "/tmp/ipykernel_18/2597394017.py:7: FutureWarning: You are using `torch.load` with `weights_only=False` (the current default value), which uses the default pickle module implicitly. It is possible to construct malicious pickle data which will execute arbitrary code during unpickling (See https://github.com/pytorch/pytorch/blob/main/SECURITY.md#untrusted-models for more details). In a future release, the default value for `weights_only` will be flipped to `True`. This limits the functions that could be executed during unpickling. Arbitrary objects will no longer be allowed to be loaded via this mode unless they are explicitly allowlisted by the user via `torch.serialization.add_safe_globals`. We recommend you start setting `weights_only=True` for any use case where you don't have full control of the loaded file. Please open an issue on GitHub for any issues related to this experimental feature.\n",
      "  model_deep.load_state_dict(torch.load(\"/kaggle/input/unet-model-for-ecg-mask-detection/pytorch/default/1/updated_unet1d_ecg_qrs.pth\", map_location=device))\n"
     ]
    },
    {
     "data": {
      "text/plain": [
       "UNet1D_Enhanced(\n",
       "  (enc1): ResidualConvBlock1D(\n",
       "    (conv1): Conv1d(1, 64, kernel_size=(3,), stride=(1,), padding=(1,))\n",
       "    (bn1): BatchNorm1d(64, eps=1e-05, momentum=0.1, affine=True, track_running_stats=True)\n",
       "    (conv2): Conv1d(64, 64, kernel_size=(3,), stride=(1,), padding=(1,))\n",
       "    (bn2): BatchNorm1d(64, eps=1e-05, momentum=0.1, affine=True, track_running_stats=True)\n",
       "    (shortcut): Sequential(\n",
       "      (0): Conv1d(1, 64, kernel_size=(1,), stride=(1,))\n",
       "      (1): BatchNorm1d(64, eps=1e-05, momentum=0.1, affine=True, track_running_stats=True)\n",
       "    )\n",
       "  )\n",
       "  (pool1): MaxPool1d(kernel_size=2, stride=2, padding=0, dilation=1, ceil_mode=False)\n",
       "  (enc2): ResidualConvBlock1D(\n",
       "    (conv1): Conv1d(64, 128, kernel_size=(3,), stride=(1,), padding=(1,))\n",
       "    (bn1): BatchNorm1d(128, eps=1e-05, momentum=0.1, affine=True, track_running_stats=True)\n",
       "    (conv2): Conv1d(128, 128, kernel_size=(3,), stride=(1,), padding=(1,))\n",
       "    (bn2): BatchNorm1d(128, eps=1e-05, momentum=0.1, affine=True, track_running_stats=True)\n",
       "    (shortcut): Sequential(\n",
       "      (0): Conv1d(64, 128, kernel_size=(1,), stride=(1,))\n",
       "      (1): BatchNorm1d(128, eps=1e-05, momentum=0.1, affine=True, track_running_stats=True)\n",
       "    )\n",
       "  )\n",
       "  (pool2): MaxPool1d(kernel_size=2, stride=2, padding=0, dilation=1, ceil_mode=False)\n",
       "  (enc3): ResidualConvBlock1D(\n",
       "    (conv1): Conv1d(128, 256, kernel_size=(3,), stride=(1,), padding=(1,))\n",
       "    (bn1): BatchNorm1d(256, eps=1e-05, momentum=0.1, affine=True, track_running_stats=True)\n",
       "    (conv2): Conv1d(256, 256, kernel_size=(3,), stride=(1,), padding=(1,))\n",
       "    (bn2): BatchNorm1d(256, eps=1e-05, momentum=0.1, affine=True, track_running_stats=True)\n",
       "    (shortcut): Sequential(\n",
       "      (0): Conv1d(128, 256, kernel_size=(1,), stride=(1,))\n",
       "      (1): BatchNorm1d(256, eps=1e-05, momentum=0.1, affine=True, track_running_stats=True)\n",
       "    )\n",
       "  )\n",
       "  (pool3): MaxPool1d(kernel_size=2, stride=2, padding=0, dilation=1, ceil_mode=False)\n",
       "  (enc4): ResidualConvBlock1D(\n",
       "    (conv1): Conv1d(256, 512, kernel_size=(3,), stride=(1,), padding=(1,))\n",
       "    (bn1): BatchNorm1d(512, eps=1e-05, momentum=0.1, affine=True, track_running_stats=True)\n",
       "    (conv2): Conv1d(512, 512, kernel_size=(3,), stride=(1,), padding=(1,))\n",
       "    (bn2): BatchNorm1d(512, eps=1e-05, momentum=0.1, affine=True, track_running_stats=True)\n",
       "    (shortcut): Sequential(\n",
       "      (0): Conv1d(256, 512, kernel_size=(1,), stride=(1,))\n",
       "      (1): BatchNorm1d(512, eps=1e-05, momentum=0.1, affine=True, track_running_stats=True)\n",
       "    )\n",
       "  )\n",
       "  (pool4): MaxPool1d(kernel_size=2, stride=2, padding=0, dilation=1, ceil_mode=False)\n",
       "  (bottleneck): Sequential(\n",
       "    (0): ResidualConvBlock1D(\n",
       "      (conv1): Conv1d(512, 1024, kernel_size=(3,), stride=(1,), padding=(2,), dilation=(2,))\n",
       "      (bn1): BatchNorm1d(1024, eps=1e-05, momentum=0.1, affine=True, track_running_stats=True)\n",
       "      (conv2): Conv1d(1024, 1024, kernel_size=(3,), stride=(1,), padding=(2,), dilation=(2,))\n",
       "      (bn2): BatchNorm1d(1024, eps=1e-05, momentum=0.1, affine=True, track_running_stats=True)\n",
       "      (shortcut): Sequential(\n",
       "        (0): Conv1d(512, 1024, kernel_size=(1,), stride=(1,))\n",
       "        (1): BatchNorm1d(1024, eps=1e-05, momentum=0.1, affine=True, track_running_stats=True)\n",
       "      )\n",
       "    )\n",
       "    (1): ResidualConvBlock1D(\n",
       "      (conv1): Conv1d(1024, 1024, kernel_size=(3,), stride=(1,), padding=(4,), dilation=(4,))\n",
       "      (bn1): BatchNorm1d(1024, eps=1e-05, momentum=0.1, affine=True, track_running_stats=True)\n",
       "      (conv2): Conv1d(1024, 1024, kernel_size=(3,), stride=(1,), padding=(4,), dilation=(4,))\n",
       "      (bn2): BatchNorm1d(1024, eps=1e-05, momentum=0.1, affine=True, track_running_stats=True)\n",
       "      (shortcut): Sequential()\n",
       "    )\n",
       "  )\n",
       "  (upconv4): ConvTranspose1d(1024, 512, kernel_size=(2,), stride=(2,))\n",
       "  (att4): AttentionBlock(\n",
       "    (W_g): Sequential(\n",
       "      (0): Conv1d(512, 32, kernel_size=(1,), stride=(1,))\n",
       "      (1): BatchNorm1d(32, eps=1e-05, momentum=0.1, affine=True, track_running_stats=True)\n",
       "    )\n",
       "    (W_x): Sequential(\n",
       "      (0): Conv1d(512, 32, kernel_size=(1,), stride=(1,))\n",
       "      (1): BatchNorm1d(32, eps=1e-05, momentum=0.1, affine=True, track_running_stats=True)\n",
       "    )\n",
       "    (psi): Sequential(\n",
       "      (0): Conv1d(32, 1, kernel_size=(1,), stride=(1,))\n",
       "      (1): BatchNorm1d(1, eps=1e-05, momentum=0.1, affine=True, track_running_stats=True)\n",
       "      (2): Sigmoid()\n",
       "    )\n",
       "    (relu): ReLU(inplace=True)\n",
       "  )\n",
       "  (dec4): ResidualConvBlock1D(\n",
       "    (conv1): Conv1d(1024, 512, kernel_size=(3,), stride=(1,), padding=(1,))\n",
       "    (bn1): BatchNorm1d(512, eps=1e-05, momentum=0.1, affine=True, track_running_stats=True)\n",
       "    (conv2): Conv1d(512, 512, kernel_size=(3,), stride=(1,), padding=(1,))\n",
       "    (bn2): BatchNorm1d(512, eps=1e-05, momentum=0.1, affine=True, track_running_stats=True)\n",
       "    (shortcut): Sequential(\n",
       "      (0): Conv1d(1024, 512, kernel_size=(1,), stride=(1,))\n",
       "      (1): BatchNorm1d(512, eps=1e-05, momentum=0.1, affine=True, track_running_stats=True)\n",
       "    )\n",
       "  )\n",
       "  (upconv3): ConvTranspose1d(512, 256, kernel_size=(2,), stride=(2,))\n",
       "  (att3): AttentionBlock(\n",
       "    (W_g): Sequential(\n",
       "      (0): Conv1d(256, 16, kernel_size=(1,), stride=(1,))\n",
       "      (1): BatchNorm1d(16, eps=1e-05, momentum=0.1, affine=True, track_running_stats=True)\n",
       "    )\n",
       "    (W_x): Sequential(\n",
       "      (0): Conv1d(256, 16, kernel_size=(1,), stride=(1,))\n",
       "      (1): BatchNorm1d(16, eps=1e-05, momentum=0.1, affine=True, track_running_stats=True)\n",
       "    )\n",
       "    (psi): Sequential(\n",
       "      (0): Conv1d(16, 1, kernel_size=(1,), stride=(1,))\n",
       "      (1): BatchNorm1d(1, eps=1e-05, momentum=0.1, affine=True, track_running_stats=True)\n",
       "      (2): Sigmoid()\n",
       "    )\n",
       "    (relu): ReLU(inplace=True)\n",
       "  )\n",
       "  (dec3): ResidualConvBlock1D(\n",
       "    (conv1): Conv1d(512, 256, kernel_size=(3,), stride=(1,), padding=(1,))\n",
       "    (bn1): BatchNorm1d(256, eps=1e-05, momentum=0.1, affine=True, track_running_stats=True)\n",
       "    (conv2): Conv1d(256, 256, kernel_size=(3,), stride=(1,), padding=(1,))\n",
       "    (bn2): BatchNorm1d(256, eps=1e-05, momentum=0.1, affine=True, track_running_stats=True)\n",
       "    (shortcut): Sequential(\n",
       "      (0): Conv1d(512, 256, kernel_size=(1,), stride=(1,))\n",
       "      (1): BatchNorm1d(256, eps=1e-05, momentum=0.1, affine=True, track_running_stats=True)\n",
       "    )\n",
       "  )\n",
       "  (upconv2): ConvTranspose1d(256, 128, kernel_size=(2,), stride=(2,))\n",
       "  (att2): AttentionBlock(\n",
       "    (W_g): Sequential(\n",
       "      (0): Conv1d(128, 8, kernel_size=(1,), stride=(1,))\n",
       "      (1): BatchNorm1d(8, eps=1e-05, momentum=0.1, affine=True, track_running_stats=True)\n",
       "    )\n",
       "    (W_x): Sequential(\n",
       "      (0): Conv1d(128, 8, kernel_size=(1,), stride=(1,))\n",
       "      (1): BatchNorm1d(8, eps=1e-05, momentum=0.1, affine=True, track_running_stats=True)\n",
       "    )\n",
       "    (psi): Sequential(\n",
       "      (0): Conv1d(8, 1, kernel_size=(1,), stride=(1,))\n",
       "      (1): BatchNorm1d(1, eps=1e-05, momentum=0.1, affine=True, track_running_stats=True)\n",
       "      (2): Sigmoid()\n",
       "    )\n",
       "    (relu): ReLU(inplace=True)\n",
       "  )\n",
       "  (dec2): ResidualConvBlock1D(\n",
       "    (conv1): Conv1d(256, 128, kernel_size=(3,), stride=(1,), padding=(1,))\n",
       "    (bn1): BatchNorm1d(128, eps=1e-05, momentum=0.1, affine=True, track_running_stats=True)\n",
       "    (conv2): Conv1d(128, 128, kernel_size=(3,), stride=(1,), padding=(1,))\n",
       "    (bn2): BatchNorm1d(128, eps=1e-05, momentum=0.1, affine=True, track_running_stats=True)\n",
       "    (shortcut): Sequential(\n",
       "      (0): Conv1d(256, 128, kernel_size=(1,), stride=(1,))\n",
       "      (1): BatchNorm1d(128, eps=1e-05, momentum=0.1, affine=True, track_running_stats=True)\n",
       "    )\n",
       "  )\n",
       "  (upconv1): ConvTranspose1d(128, 64, kernel_size=(2,), stride=(2,))\n",
       "  (att1): AttentionBlock(\n",
       "    (W_g): Sequential(\n",
       "      (0): Conv1d(64, 4, kernel_size=(1,), stride=(1,))\n",
       "      (1): BatchNorm1d(4, eps=1e-05, momentum=0.1, affine=True, track_running_stats=True)\n",
       "    )\n",
       "    (W_x): Sequential(\n",
       "      (0): Conv1d(64, 4, kernel_size=(1,), stride=(1,))\n",
       "      (1): BatchNorm1d(4, eps=1e-05, momentum=0.1, affine=True, track_running_stats=True)\n",
       "    )\n",
       "    (psi): Sequential(\n",
       "      (0): Conv1d(4, 1, kernel_size=(1,), stride=(1,))\n",
       "      (1): BatchNorm1d(1, eps=1e-05, momentum=0.1, affine=True, track_running_stats=True)\n",
       "      (2): Sigmoid()\n",
       "    )\n",
       "    (relu): ReLU(inplace=True)\n",
       "  )\n",
       "  (dec1): ResidualConvBlock1D(\n",
       "    (conv1): Conv1d(128, 64, kernel_size=(3,), stride=(1,), padding=(1,))\n",
       "    (bn1): BatchNorm1d(64, eps=1e-05, momentum=0.1, affine=True, track_running_stats=True)\n",
       "    (conv2): Conv1d(64, 64, kernel_size=(3,), stride=(1,), padding=(1,))\n",
       "    (bn2): BatchNorm1d(64, eps=1e-05, momentum=0.1, affine=True, track_running_stats=True)\n",
       "    (shortcut): Sequential(\n",
       "      (0): Conv1d(128, 64, kernel_size=(1,), stride=(1,))\n",
       "      (1): BatchNorm1d(64, eps=1e-05, momentum=0.1, affine=True, track_running_stats=True)\n",
       "    )\n",
       "  )\n",
       "  (final_conv): Sequential(\n",
       "    (0): Conv1d(64, 32, kernel_size=(3,), stride=(1,), padding=(1,))\n",
       "    (1): BatchNorm1d(32, eps=1e-05, momentum=0.1, affine=True, track_running_stats=True)\n",
       "    (2): ReLU()\n",
       "    (3): Conv1d(32, 4, kernel_size=(1,), stride=(1,))\n",
       "  )\n",
       "  (boundary_refine): Conv1d(4, 4, kernel_size=(5,), stride=(1,), padding=(2,))\n",
       ")"
      ]
     },
     "execution_count": 18,
     "metadata": {},
     "output_type": "execute_result"
    }
   ],
   "source": [
    "import torch\n",
    "import torch.nn as nn\n",
    "import torch.nn.functional as F\n",
    "device = torch.device(\"cuda\" if torch.cuda.is_available() else \"cpu\")\n",
    "# Initialize model\n",
    "model_deep = UNet1D_Enhanced(n_classes=4).to(device)\n",
    "model_deep.load_state_dict(torch.load(\"/kaggle/input/unet-model-for-ecg-mask-detection/pytorch/default/1/updated_unet1d_ecg_qrs.pth\", map_location=device))\n",
    "model_deep.to(device)\n",
    "model_deep.eval()\n"
   ]
  },
  {
   "cell_type": "markdown",
   "id": "242d5b04",
   "metadata": {
    "id": "uWCRAJaggYfb",
    "papermill": {
     "duration": 0.005595,
     "end_time": "2025-05-27T09:11:55.540280",
     "exception": false,
     "start_time": "2025-05-27T09:11:55.534685",
     "status": "completed"
    },
    "tags": []
   },
   "source": [
    "# detection\n"
   ]
  },
  {
   "cell_type": "markdown",
   "id": "c8071c6a",
   "metadata": {
    "id": "JawfG79LalLL",
    "papermill": {
     "duration": 0.005547,
     "end_time": "2025-05-27T09:11:55.551475",
     "exception": false,
     "start_time": "2025-05-27T09:11:55.545928",
     "status": "completed"
    },
    "tags": []
   },
   "source": [
    "# Features extraction"
   ]
  },
  {
   "cell_type": "markdown",
   "id": "63b88a49",
   "metadata": {
    "id": "zOADzsTz-MDY",
    "papermill": {
     "duration": 0.005572,
     "end_time": "2025-05-27T09:11:55.562763",
     "exception": false,
     "start_time": "2025-05-27T09:11:55.557191",
     "status": "completed"
    },
    "tags": []
   },
   "source": [
    "## extract features functions"
   ]
  },
  {
   "cell_type": "markdown",
   "id": "b5f2f741",
   "metadata": {
    "id": "7l6N9wIkOUkH",
    "papermill": {
     "duration": 0.005541,
     "end_time": "2025-05-27T09:11:55.574086",
     "exception": false,
     "start_time": "2025-05-27T09:11:55.568545",
     "status": "completed"
    },
    "tags": []
   },
   "source": [
    "# making dataset\n"
   ]
  },
  {
   "cell_type": "code",
   "execution_count": 19,
   "id": "5fa153d1",
   "metadata": {
    "execution": {
     "iopub.execute_input": "2025-05-27T09:11:55.587128Z",
     "iopub.status.busy": "2025-05-27T09:11:55.586772Z",
     "iopub.status.idle": "2025-05-27T09:11:55.592940Z",
     "shell.execute_reply": "2025-05-27T09:11:55.592396Z"
    },
    "id": "RxQOkRn132tk",
    "papermill": {
     "duration": 0.014213,
     "end_time": "2025-05-27T09:11:55.593956",
     "exception": false,
     "start_time": "2025-05-27T09:11:55.579743",
     "status": "completed"
    },
    "tags": []
   },
   "outputs": [],
   "source": [
    "def predict_and_save_mask(record_name, path, model, start=None, end=None, target_fs=250, save_path=\"masks/\"):\n",
    "    record = wfdb.rdrecord(path)\n",
    "    signal = record.p_signal[:, 0]  # lead I\n",
    "    fs = record.fs\n",
    "\n",
    "    if end is None:\n",
    "        end = len(signal) / fs\n",
    "    if start is None:\n",
    "        start = 0\n",
    "    signal = signal[int(start*fs):int(end*fs)]\n",
    "\n",
    "    if fs != 250:\n",
    "        signal = resample_signal(signal, original_fs=fs, target_fs=target_fs)\n",
    "        fs = target_fs\n",
    "\n",
    "    # Predict\n",
    "    pred_labels, segments, _ = predict_full_ecg(signal, model, fs=fs)\n",
    "    signal = np.concatenate(segments, axis=2).reshape(-1)\n",
    "\n",
    "    # Post-process mask\n",
    "    pred_labels = remove_uncomplete_first_last_wave(pred_labels)\n",
    "    pred_labels = merge_close_waves(pred_labels)\n",
    "    pred_labels = remove_irrelevant_waves(pred_labels)\n",
    "    pred_labels = check_repeated_waves(pred_labels)\n",
    "    pred_labels = fix_P(signal, pred_labels)\n",
    "    pred_labels = fast_fix_QRS(signal, pred_labels, fs=fs)\n",
    "    pred_labels = merge_close_waves(pred_labels)\n",
    "\n",
    "    # Save mask\n",
    "    os.makedirs(save_path, exist_ok=True)\n",
    "    mask_filename = os.path.join(save_path, f\"{record_name}_mask.csv\")\n",
    "    np.savetxt(mask_filename, pred_labels, delimiter=\",\", fmt=\"%d\")\n",
    "    print(f\"Saved mask to: {mask_filename}\")\n",
    "    return mask_filename\n"
   ]
  },
  {
   "cell_type": "code",
   "execution_count": 20,
   "id": "ead04e54",
   "metadata": {
    "execution": {
     "iopub.execute_input": "2025-05-27T09:11:55.606268Z",
     "iopub.status.busy": "2025-05-27T09:11:55.606062Z",
     "iopub.status.idle": "2025-05-27T09:11:55.612362Z",
     "shell.execute_reply": "2025-05-27T09:11:55.611823Z"
    },
    "id": "Vp0n6IPwN60K",
    "papermill": {
     "duration": 0.013644,
     "end_time": "2025-05-27T09:11:55.613406",
     "exception": false,
     "start_time": "2025-05-27T09:11:55.599762",
     "status": "completed"
    },
    "tags": []
   },
   "outputs": [],
   "source": [
    "import os\n",
    "import wfdb\n",
    "import pandas as pd\n",
    "import contextlib\n",
    "from functools import partial\n",
    "import sys\n",
    "\n",
    "@contextlib.contextmanager\n",
    "def suppress_output():\n",
    "    with open(os.devnull, \"w\") as devnull:\n",
    "        old_stdout = sys.stdout\n",
    "        old_stderr = sys.stderr\n",
    "        sys.stdout = devnull\n",
    "        sys.stderr = devnull\n",
    "        try:\n",
    "            yield\n",
    "        finally:\n",
    "            sys.stdout = old_stdout\n",
    "            sys.stderr = old_stderr\n",
    "\n",
    "# Patch tqdm globally if needed\n",
    "silent_tqdm = partial(tqdm, disable=True)\n",
    "\n",
    "def batch_predict_masks(mitdb_path, mit_records, model, target_fs=250, save_csv=False, output_csv=\"all_features.csv\"):\n",
    "    \n",
    "    all_dfs = []\n",
    "\n",
    "    #for record_name in tqdm(mit_records, total=len(mit_records), desc=\"Processing mit_records\"):\n",
    "    for record_name in mit_records:\n",
    "        full_path = os.path.join(mitdb_path, record_name)\n",
    "        chunk_duration_sec = 1800  # 30 minutes\n",
    "        #record = wfdb.rdrecord(edb_path+'e0129')# Run prediction\n",
    "\n",
    "        record = wfdb.rdrecord(full_path)\n",
    "        signal = record.p_signal[:, 0]  # lead I\n",
    "        fs = record.fs\n",
    "        total_duration_sec = len(record.p_signal[:, 0]) / record.fs\n",
    "\n",
    "        \n",
    "        for start_time in range(0, int(total_duration_sec), chunk_duration_sec):\n",
    "            end_time = min(start_time + chunk_duration_sec, total_duration_sec)\n",
    "            #with suppress_output():\n",
    "            print(\"record:\",record_name,\" from: \",start_time,\"to: \",end_time)\n",
    "            df = predict_and_save_mask(str(record_name)+\"_\"+str(start_time)+\"_\"+str(end_time), full_path, model, start=start_time, end=end_time, target_fs=250)   \n",
    "            \n",
    "\n",
    "    return all_dfs\n",
    "    \n",
    "   "
   ]
  },
  {
   "cell_type": "code",
   "execution_count": 21,
   "id": "17354b5e",
   "metadata": {
    "execution": {
     "iopub.execute_input": "2025-05-27T09:11:55.626018Z",
     "iopub.status.busy": "2025-05-27T09:11:55.625814Z",
     "iopub.status.idle": "2025-05-27T09:11:55.640200Z",
     "shell.execute_reply": "2025-05-27T09:11:55.639452Z"
    },
    "papermill": {
     "duration": 0.021731,
     "end_time": "2025-05-27T09:11:55.641230",
     "exception": false,
     "start_time": "2025-05-27T09:11:55.619499",
     "status": "completed"
    },
    "tags": []
   },
   "outputs": [
    {
     "name": "stdout",
     "output_type": "stream",
     "text": [
      "['16265', '16272', '16273', '16420', '16483', '16539', '16773', '16786', '16795', '17052', '17453', '18177', '18184', '19088', '19090', '19093', '19140', '19830']\n"
     ]
    }
   ],
   "source": [
    "#mit_records = ['123']\n",
    "import os\n",
    "def get_all_records(directory, extension=\".dat\"):\n",
    "    files = [f.replace(extension, \"\") for f in os.listdir(directory) if f.endswith(extension)]\n",
    "    return list(set(files))  # Ensure no duplicates\n",
    "\n",
    "\n",
    "mitdb_path = \"/kaggle/input/mit-bih-normal-dataset/physionet.org/files/nsrdb/1.0.0/\"\n",
    "mit_records = get_all_records(mitdb_path)\n",
    "\n",
    "mit_records.sort()\n",
    "print(mit_records)\n"
   ]
  },
  {
   "cell_type": "code",
   "execution_count": 22,
   "id": "9168f40d",
   "metadata": {
    "execution": {
     "iopub.execute_input": "2025-05-27T09:11:55.653795Z",
     "iopub.status.busy": "2025-05-27T09:11:55.653591Z",
     "iopub.status.idle": "2025-05-27T13:15:10.842657Z",
     "shell.execute_reply": "2025-05-27T13:15:10.841844Z"
    },
    "id": "D-S5WHnjN70v",
    "outputId": "0e67fd46-3a81-4818-c0a6-ecb61462fb76",
    "papermill": {
     "duration": 14595.196913,
     "end_time": "2025-05-27T13:15:10.844031",
     "exception": false,
     "start_time": "2025-05-27T09:11:55.647118",
     "status": "completed"
    },
    "tags": []
   },
   "outputs": [
    {
     "name": "stdout",
     "output_type": "stream",
     "text": [
      "record: 16265  from:  0 to:  1800\n"
     ]
    },
    {
     "name": "stderr",
     "output_type": "stream",
     "text": [
      "Processing P: 100%|██████████| 2699/2699 [00:03<00:00, 712.14it/s]\n",
      "Processing QRS: 100%|██████████| 2755/2755 [00:00<00:00, 4221.36it/s]\n"
     ]
    },
    {
     "name": "stdout",
     "output_type": "stream",
     "text": [
      "Saved mask to: masks/16265_0_1800_mask.csv\n",
      "record: 16265  from:  1800 to:  3600\n"
     ]
    },
    {
     "name": "stderr",
     "output_type": "stream",
     "text": [
      "Processing P: 100%|██████████| 2423/2423 [00:03<00:00, 723.92it/s]\n",
      "Processing QRS: 100%|██████████| 2517/2517 [00:00<00:00, 4521.71it/s]\n"
     ]
    },
    {
     "name": "stdout",
     "output_type": "stream",
     "text": [
      "Saved mask to: masks/16265_1800_3600_mask.csv\n",
      "record: 16265  from:  3600 to:  5400\n"
     ]
    },
    {
     "name": "stderr",
     "output_type": "stream",
     "text": [
      "Processing P: 100%|██████████| 2539/2539 [00:03<00:00, 715.52it/s]\n",
      "Processing QRS: 100%|██████████| 2611/2611 [00:00<00:00, 4644.06it/s]\n"
     ]
    },
    {
     "name": "stdout",
     "output_type": "stream",
     "text": [
      "Saved mask to: masks/16265_3600_5400_mask.csv\n",
      "record: 16265  from:  5400 to:  7200\n"
     ]
    },
    {
     "name": "stderr",
     "output_type": "stream",
     "text": [
      "Processing P: 100%|██████████| 2523/2523 [00:03<00:00, 704.67it/s]\n",
      "Processing QRS: 100%|██████████| 2609/2609 [00:00<00:00, 4422.63it/s]\n"
     ]
    },
    {
     "name": "stdout",
     "output_type": "stream",
     "text": [
      "Saved mask to: masks/16265_5400_7200_mask.csv\n",
      "record: 16265  from:  7200 to:  9000\n"
     ]
    },
    {
     "name": "stderr",
     "output_type": "stream",
     "text": [
      "Processing P: 100%|██████████| 2729/2729 [00:03<00:00, 713.04it/s]\n",
      "Processing QRS: 100%|██████████| 2811/2811 [00:00<00:00, 4208.41it/s]\n"
     ]
    },
    {
     "name": "stdout",
     "output_type": "stream",
     "text": [
      "Saved mask to: masks/16265_7200_9000_mask.csv\n",
      "record: 16265  from:  9000 to:  10800\n"
     ]
    },
    {
     "name": "stderr",
     "output_type": "stream",
     "text": [
      "Processing P: 100%|██████████| 2652/2652 [00:03<00:00, 717.58it/s]\n",
      "Processing QRS: 100%|██████████| 2737/2737 [00:00<00:00, 4488.52it/s]\n"
     ]
    },
    {
     "name": "stdout",
     "output_type": "stream",
     "text": [
      "Saved mask to: masks/16265_9000_10800_mask.csv\n",
      "record: 16265  from:  10800 to:  12600\n"
     ]
    },
    {
     "name": "stderr",
     "output_type": "stream",
     "text": [
      "Processing P: 100%|██████████| 2757/2757 [00:03<00:00, 728.97it/s]\n",
      "Processing QRS: 100%|██████████| 2845/2845 [00:00<00:00, 4577.24it/s]\n"
     ]
    },
    {
     "name": "stdout",
     "output_type": "stream",
     "text": [
      "Saved mask to: masks/16265_10800_12600_mask.csv\n",
      "record: 16265  from:  12600 to:  14400\n"
     ]
    },
    {
     "name": "stderr",
     "output_type": "stream",
     "text": [
      "Processing P: 100%|██████████| 2689/2689 [00:03<00:00, 721.34it/s]\n",
      "Processing QRS: 100%|██████████| 2779/2779 [00:00<00:00, 4438.49it/s]\n"
     ]
    },
    {
     "name": "stdout",
     "output_type": "stream",
     "text": [
      "Saved mask to: masks/16265_12600_14400_mask.csv\n",
      "record: 16265  from:  14400 to:  16200\n"
     ]
    },
    {
     "name": "stderr",
     "output_type": "stream",
     "text": [
      "Processing P: 100%|██████████| 2773/2773 [00:03<00:00, 722.22it/s]\n",
      "Processing QRS: 100%|██████████| 2907/2907 [00:00<00:00, 4428.32it/s]\n"
     ]
    },
    {
     "name": "stdout",
     "output_type": "stream",
     "text": [
      "Saved mask to: masks/16265_14400_16200_mask.csv\n",
      "record: 16265  from:  16200 to:  18000\n"
     ]
    },
    {
     "name": "stderr",
     "output_type": "stream",
     "text": [
      "Processing P: 100%|██████████| 2942/2942 [00:03<00:00, 736.28it/s]\n",
      "Processing QRS: 100%|██████████| 2992/2992 [00:00<00:00, 4386.80it/s]\n"
     ]
    },
    {
     "name": "stdout",
     "output_type": "stream",
     "text": [
      "Saved mask to: masks/16265_16200_18000_mask.csv\n",
      "record: 16265  from:  18000 to:  19800\n"
     ]
    },
    {
     "name": "stderr",
     "output_type": "stream",
     "text": [
      "Processing P: 100%|██████████| 2924/2924 [00:03<00:00, 735.57it/s]\n",
      "Processing QRS: 100%|██████████| 2977/2977 [00:00<00:00, 4537.61it/s]\n"
     ]
    },
    {
     "name": "stdout",
     "output_type": "stream",
     "text": [
      "Saved mask to: masks/16265_18000_19800_mask.csv\n",
      "record: 16265  from:  19800 to:  21600\n"
     ]
    },
    {
     "name": "stderr",
     "output_type": "stream",
     "text": [
      "Processing P: 100%|██████████| 2777/2777 [00:03<00:00, 701.08it/s]\n",
      "Processing QRS: 100%|██████████| 2841/2841 [00:00<00:00, 4577.09it/s]\n"
     ]
    },
    {
     "name": "stdout",
     "output_type": "stream",
     "text": [
      "Saved mask to: masks/16265_19800_21600_mask.csv\n",
      "record: 16265  from:  21600 to:  23400\n"
     ]
    },
    {
     "name": "stderr",
     "output_type": "stream",
     "text": [
      "Processing P: 100%|██████████| 2487/2487 [00:03<00:00, 720.37it/s]\n",
      "Processing QRS: 100%|██████████| 2528/2528 [00:00<00:00, 4444.40it/s]\n"
     ]
    },
    {
     "name": "stdout",
     "output_type": "stream",
     "text": [
      "Saved mask to: masks/16265_21600_23400_mask.csv\n",
      "record: 16265  from:  23400 to:  25200\n"
     ]
    },
    {
     "name": "stderr",
     "output_type": "stream",
     "text": [
      "Processing P: 100%|██████████| 2806/2806 [00:03<00:00, 710.66it/s]\n",
      "Processing QRS: 100%|██████████| 2877/2877 [00:00<00:00, 4528.22it/s]\n"
     ]
    },
    {
     "name": "stdout",
     "output_type": "stream",
     "text": [
      "Saved mask to: masks/16265_23400_25200_mask.csv\n",
      "record: 16265  from:  25200 to:  27000\n"
     ]
    },
    {
     "name": "stderr",
     "output_type": "stream",
     "text": [
      "Processing P: 100%|██████████| 2282/2282 [00:03<00:00, 730.52it/s]\n",
      "Processing QRS: 100%|██████████| 2438/2438 [00:00<00:00, 4773.02it/s]\n"
     ]
    },
    {
     "name": "stdout",
     "output_type": "stream",
     "text": [
      "Saved mask to: masks/16265_25200_27000_mask.csv\n",
      "record: 16265  from:  27000 to:  28800\n"
     ]
    },
    {
     "name": "stderr",
     "output_type": "stream",
     "text": [
      "Processing P: 100%|██████████| 2454/2454 [00:03<00:00, 722.49it/s]\n",
      "Processing QRS: 100%|██████████| 2470/2470 [00:00<00:00, 4425.42it/s]\n"
     ]
    },
    {
     "name": "stdout",
     "output_type": "stream",
     "text": [
      "Saved mask to: masks/16265_27000_28800_mask.csv\n",
      "record: 16265  from:  28800 to:  30600\n"
     ]
    },
    {
     "name": "stderr",
     "output_type": "stream",
     "text": [
      "Processing P: 100%|██████████| 2464/2464 [00:03<00:00, 719.93it/s]\n",
      "Processing QRS: 100%|██████████| 2473/2473 [00:00<00:00, 4379.41it/s]\n"
     ]
    },
    {
     "name": "stdout",
     "output_type": "stream",
     "text": [
      "Saved mask to: masks/16265_28800_30600_mask.csv\n",
      "record: 16265  from:  30600 to:  32400\n"
     ]
    },
    {
     "name": "stderr",
     "output_type": "stream",
     "text": [
      "Processing P: 100%|██████████| 2381/2381 [00:03<00:00, 671.95it/s]\n",
      "Processing QRS: 100%|██████████| 2557/2557 [00:00<00:00, 4432.55it/s]\n"
     ]
    },
    {
     "name": "stdout",
     "output_type": "stream",
     "text": [
      "Saved mask to: masks/16265_30600_32400_mask.csv\n",
      "record: 16265  from:  32400 to:  34200\n"
     ]
    },
    {
     "name": "stderr",
     "output_type": "stream",
     "text": [
      "Processing P: 100%|██████████| 2065/2065 [00:02<00:00, 699.74it/s]\n",
      "Processing QRS: 100%|██████████| 2330/2330 [00:00<00:00, 4576.02it/s]\n"
     ]
    },
    {
     "name": "stdout",
     "output_type": "stream",
     "text": [
      "Saved mask to: masks/16265_32400_34200_mask.csv\n",
      "record: 16265  from:  34200 to:  36000\n"
     ]
    },
    {
     "name": "stderr",
     "output_type": "stream",
     "text": [
      "Processing P: 100%|██████████| 2210/2210 [00:03<00:00, 718.23it/s]\n",
      "Processing QRS: 100%|██████████| 2310/2310 [00:00<00:00, 4460.01it/s]\n"
     ]
    },
    {
     "name": "stdout",
     "output_type": "stream",
     "text": [
      "Saved mask to: masks/16265_34200_36000_mask.csv\n",
      "record: 16265  from:  36000 to:  37800\n"
     ]
    },
    {
     "name": "stderr",
     "output_type": "stream",
     "text": [
      "Processing P: 100%|██████████| 1989/1989 [00:02<00:00, 707.20it/s]\n",
      "Processing QRS: 100%|██████████| 2137/2137 [00:00<00:00, 4668.80it/s]\n"
     ]
    },
    {
     "name": "stdout",
     "output_type": "stream",
     "text": [
      "Saved mask to: masks/16265_36000_37800_mask.csv\n",
      "record: 16265  from:  37800 to:  39600\n"
     ]
    },
    {
     "name": "stderr",
     "output_type": "stream",
     "text": [
      "Processing P: 100%|██████████| 1890/1890 [00:02<00:00, 715.28it/s]\n",
      "Processing QRS: 100%|██████████| 2062/2062 [00:00<00:00, 4648.97it/s]\n"
     ]
    },
    {
     "name": "stdout",
     "output_type": "stream",
     "text": [
      "Saved mask to: masks/16265_37800_39600_mask.csv\n",
      "record: 16265  from:  39600 to:  41400\n"
     ]
    },
    {
     "name": "stderr",
     "output_type": "stream",
     "text": [
      "Processing P: 100%|██████████| 1621/1621 [00:02<00:00, 728.61it/s]\n",
      "Processing QRS: 100%|██████████| 2131/2131 [00:00<00:00, 5433.83it/s]\n"
     ]
    },
    {
     "name": "stdout",
     "output_type": "stream",
     "text": [
      "Saved mask to: masks/16265_39600_41400_mask.csv\n",
      "record: 16265  from:  41400 to:  43200\n"
     ]
    },
    {
     "name": "stderr",
     "output_type": "stream",
     "text": [
      "Processing P: 100%|██████████| 1366/1366 [00:01<00:00, 721.77it/s]\n",
      "Processing QRS: 100%|██████████| 1960/1960 [00:00<00:00, 5601.94it/s]\n"
     ]
    },
    {
     "name": "stdout",
     "output_type": "stream",
     "text": [
      "Saved mask to: masks/16265_41400_43200_mask.csv\n",
      "record: 16265  from:  43200 to:  45000\n"
     ]
    },
    {
     "name": "stderr",
     "output_type": "stream",
     "text": [
      "Processing P: 100%|██████████| 1418/1418 [00:01<00:00, 717.03it/s]\n",
      "Processing QRS: 100%|██████████| 1850/1850 [00:00<00:00, 5071.61it/s]\n"
     ]
    },
    {
     "name": "stdout",
     "output_type": "stream",
     "text": [
      "Saved mask to: masks/16265_43200_45000_mask.csv\n",
      "record: 16265  from:  45000 to:  46800\n"
     ]
    },
    {
     "name": "stderr",
     "output_type": "stream",
     "text": [
      "Processing P: 100%|██████████| 1691/1691 [00:02<00:00, 717.82it/s]\n",
      "Processing QRS: 100%|██████████| 2114/2114 [00:00<00:00, 4996.84it/s]\n"
     ]
    },
    {
     "name": "stdout",
     "output_type": "stream",
     "text": [
      "Saved mask to: masks/16265_45000_46800_mask.csv\n",
      "record: 16265  from:  46800 to:  48600\n"
     ]
    },
    {
     "name": "stderr",
     "output_type": "stream",
     "text": [
      "Processing P: 100%|██████████| 1700/1700 [00:02<00:00, 715.96it/s]\n",
      "Processing QRS: 100%|██████████| 2173/2173 [00:00<00:00, 5713.83it/s]\n"
     ]
    },
    {
     "name": "stdout",
     "output_type": "stream",
     "text": [
      "Saved mask to: masks/16265_46800_48600_mask.csv\n",
      "record: 16265  from:  48600 to:  50400\n"
     ]
    },
    {
     "name": "stderr",
     "output_type": "stream",
     "text": [
      "Processing P: 100%|██████████| 1915/1915 [00:02<00:00, 728.24it/s]\n",
      "Processing QRS: 100%|██████████| 2194/2194 [00:00<00:00, 5184.54it/s]\n"
     ]
    },
    {
     "name": "stdout",
     "output_type": "stream",
     "text": [
      "Saved mask to: masks/16265_48600_50400_mask.csv\n",
      "record: 16265  from:  50400 to:  52200\n"
     ]
    },
    {
     "name": "stderr",
     "output_type": "stream",
     "text": [
      "Processing P: 100%|██████████| 1422/1422 [00:01<00:00, 744.57it/s]\n",
      "Processing QRS: 100%|██████████| 2034/2034 [00:00<00:00, 5424.43it/s]\n"
     ]
    },
    {
     "name": "stdout",
     "output_type": "stream",
     "text": [
      "Saved mask to: masks/16265_50400_52200_mask.csv\n",
      "record: 16265  from:  52200 to:  54000\n"
     ]
    },
    {
     "name": "stderr",
     "output_type": "stream",
     "text": [
      "Processing P: 100%|██████████| 1922/1922 [00:02<00:00, 726.84it/s]\n",
      "Processing QRS: 100%|██████████| 2115/2115 [00:00<00:00, 4883.47it/s]\n"
     ]
    },
    {
     "name": "stdout",
     "output_type": "stream",
     "text": [
      "Saved mask to: masks/16265_52200_54000_mask.csv\n",
      "record: 16265  from:  54000 to:  55800\n"
     ]
    },
    {
     "name": "stderr",
     "output_type": "stream",
     "text": [
      "Processing P: 100%|██████████| 1810/1810 [00:02<00:00, 715.25it/s]\n",
      "Processing QRS: 100%|██████████| 2000/2000 [00:00<00:00, 4695.70it/s]\n"
     ]
    },
    {
     "name": "stdout",
     "output_type": "stream",
     "text": [
      "Saved mask to: masks/16265_54000_55800_mask.csv\n",
      "record: 16265  from:  55800 to:  57600\n"
     ]
    },
    {
     "name": "stderr",
     "output_type": "stream",
     "text": [
      "Processing P: 100%|██████████| 1569/1569 [00:02<00:00, 676.74it/s]\n",
      "Processing QRS: 100%|██████████| 1957/1957 [00:00<00:00, 5428.93it/s]\n"
     ]
    },
    {
     "name": "stdout",
     "output_type": "stream",
     "text": [
      "Saved mask to: masks/16265_55800_57600_mask.csv\n",
      "record: 16265  from:  57600 to:  59400\n"
     ]
    },
    {
     "name": "stderr",
     "output_type": "stream",
     "text": [
      "Processing P: 100%|██████████| 1126/1126 [00:01<00:00, 712.72it/s]\n",
      "Processing QRS: 100%|██████████| 1789/1789 [00:00<00:00, 6178.06it/s]\n"
     ]
    },
    {
     "name": "stdout",
     "output_type": "stream",
     "text": [
      "Saved mask to: masks/16265_57600_59400_mask.csv\n",
      "record: 16265  from:  59400 to:  61200\n"
     ]
    },
    {
     "name": "stderr",
     "output_type": "stream",
     "text": [
      "Processing P: 100%|██████████| 1473/1473 [00:02<00:00, 723.57it/s]\n",
      "Processing QRS: 100%|██████████| 1764/1764 [00:00<00:00, 4951.87it/s]\n"
     ]
    },
    {
     "name": "stdout",
     "output_type": "stream",
     "text": [
      "Saved mask to: masks/16265_59400_61200_mask.csv\n",
      "record: 16265  from:  61200 to:  63000\n"
     ]
    },
    {
     "name": "stderr",
     "output_type": "stream",
     "text": [
      "Processing P: 100%|██████████| 978/978 [00:01<00:00, 678.05it/s]\n",
      "Processing QRS: 100%|██████████| 1794/1794 [00:00<00:00, 7064.99it/s]\n"
     ]
    },
    {
     "name": "stdout",
     "output_type": "stream",
     "text": [
      "Saved mask to: masks/16265_61200_63000_mask.csv\n",
      "record: 16265  from:  63000 to:  64800\n"
     ]
    },
    {
     "name": "stderr",
     "output_type": "stream",
     "text": [
      "Processing P: 100%|██████████| 626/626 [00:00<00:00, 681.44it/s]\n",
      "Processing QRS: 100%|██████████| 1758/1758 [00:00<00:00, 8117.15it/s]\n"
     ]
    },
    {
     "name": "stdout",
     "output_type": "stream",
     "text": [
      "Saved mask to: masks/16265_63000_64800_mask.csv\n",
      "record: 16265  from:  64800 to:  66600\n"
     ]
    },
    {
     "name": "stderr",
     "output_type": "stream",
     "text": [
      "Processing P: 100%|██████████| 936/936 [00:01<00:00, 719.36it/s]\n",
      "Processing QRS: 100%|██████████| 1670/1670 [00:00<00:00, 5850.85it/s]\n"
     ]
    },
    {
     "name": "stdout",
     "output_type": "stream",
     "text": [
      "Saved mask to: masks/16265_64800_66600_mask.csv\n",
      "record: 16265  from:  66600 to:  68400\n"
     ]
    },
    {
     "name": "stderr",
     "output_type": "stream",
     "text": [
      "Processing P: 100%|██████████| 1413/1413 [00:02<00:00, 705.76it/s]\n",
      "Processing QRS: 100%|██████████| 1736/1736 [00:00<00:00, 5119.54it/s]\n"
     ]
    },
    {
     "name": "stdout",
     "output_type": "stream",
     "text": [
      "Saved mask to: masks/16265_66600_68400_mask.csv\n",
      "record: 16265  from:  68400 to:  70200\n"
     ]
    },
    {
     "name": "stderr",
     "output_type": "stream",
     "text": [
      "Processing P: 100%|██████████| 1537/1537 [00:02<00:00, 689.90it/s]\n",
      "Processing QRS: 100%|██████████| 1774/1774 [00:00<00:00, 4881.16it/s]\n"
     ]
    },
    {
     "name": "stdout",
     "output_type": "stream",
     "text": [
      "Saved mask to: masks/16265_68400_70200_mask.csv\n",
      "record: 16265  from:  70200 to:  72000\n"
     ]
    },
    {
     "name": "stderr",
     "output_type": "stream",
     "text": [
      "Processing P: 100%|██████████| 798/798 [00:01<00:00, 670.04it/s]\n",
      "Processing QRS: 100%|██████████| 1854/1854 [00:00<00:00, 7651.92it/s]\n"
     ]
    },
    {
     "name": "stdout",
     "output_type": "stream",
     "text": [
      "Saved mask to: masks/16265_70200_72000_mask.csv\n",
      "record: 16265  from:  72000 to:  73800\n"
     ]
    },
    {
     "name": "stderr",
     "output_type": "stream",
     "text": [
      "Processing P: 100%|██████████| 720/720 [00:01<00:00, 678.47it/s]\n",
      "Processing QRS: 100%|██████████| 1754/1754 [00:00<00:00, 6875.06it/s] \n"
     ]
    },
    {
     "name": "stdout",
     "output_type": "stream",
     "text": [
      "Saved mask to: masks/16265_72000_73800_mask.csv\n",
      "record: 16265  from:  73800 to:  75600\n"
     ]
    },
    {
     "name": "stderr",
     "output_type": "stream",
     "text": [
      "Processing P: 100%|██████████| 999/999 [00:01<00:00, 711.47it/s]\n",
      "Processing QRS: 100%|██████████| 1771/1771 [00:00<00:00, 6428.78it/s]\n"
     ]
    },
    {
     "name": "stdout",
     "output_type": "stream",
     "text": [
      "Saved mask to: masks/16265_73800_75600_mask.csv\n",
      "record: 16265  from:  75600 to:  77400\n"
     ]
    },
    {
     "name": "stderr",
     "output_type": "stream",
     "text": [
      "Processing P: 100%|██████████| 1366/1366 [00:01<00:00, 712.06it/s]\n",
      "Processing QRS: 100%|██████████| 1863/1863 [00:00<00:00, 5156.98it/s]\n"
     ]
    },
    {
     "name": "stdout",
     "output_type": "stream",
     "text": [
      "Saved mask to: masks/16265_75600_77400_mask.csv\n",
      "record: 16265  from:  77400 to:  79200\n"
     ]
    },
    {
     "name": "stderr",
     "output_type": "stream",
     "text": [
      "Processing P: 100%|██████████| 782/782 [00:01<00:00, 703.28it/s]\n",
      "Processing QRS: 100%|██████████| 1812/1812 [00:00<00:00, 8001.91it/s]\n"
     ]
    },
    {
     "name": "stdout",
     "output_type": "stream",
     "text": [
      "Saved mask to: masks/16265_77400_79200_mask.csv\n",
      "record: 16265  from:  79200 to:  81000\n"
     ]
    },
    {
     "name": "stderr",
     "output_type": "stream",
     "text": [
      "Processing P: 100%|██████████| 789/789 [00:01<00:00, 734.02it/s]\n",
      "Processing QRS: 100%|██████████| 926/926 [00:00<00:00, 6814.26it/s]\n"
     ]
    },
    {
     "name": "stdout",
     "output_type": "stream",
     "text": [
      "Saved mask to: masks/16265_79200_81000_mask.csv\n",
      "record: 16265  from:  81000 to:  82800\n"
     ]
    },
    {
     "name": "stderr",
     "output_type": "stream",
     "text": [
      "Processing P: 100%|██████████| 1281/1281 [00:01<00:00, 685.52it/s]\n",
      "Processing QRS: 100%|██████████| 1960/1960 [00:00<00:00, 5632.14it/s]\n"
     ]
    },
    {
     "name": "stdout",
     "output_type": "stream",
     "text": [
      "Saved mask to: masks/16265_81000_82800_mask.csv\n",
      "record: 16265  from:  82800 to:  84600\n"
     ]
    },
    {
     "name": "stderr",
     "output_type": "stream",
     "text": [
      "Processing P: 100%|██████████| 1262/1262 [00:01<00:00, 688.27it/s]\n",
      "Processing QRS: 100%|██████████| 1924/1924 [00:00<00:00, 5394.91it/s]\n"
     ]
    },
    {
     "name": "stdout",
     "output_type": "stream",
     "text": [
      "Saved mask to: masks/16265_82800_84600_mask.csv\n",
      "record: 16265  from:  84600 to:  86400\n"
     ]
    },
    {
     "name": "stderr",
     "output_type": "stream",
     "text": [
      "Processing P: 100%|██████████| 1271/1271 [00:01<00:00, 674.14it/s]\n",
      "Processing QRS: 100%|██████████| 1831/1831 [00:00<00:00, 5514.00it/s]\n"
     ]
    },
    {
     "name": "stdout",
     "output_type": "stream",
     "text": [
      "Saved mask to: masks/16265_84600_86400_mask.csv\n",
      "record: 16265  from:  86400 to:  88200\n"
     ]
    },
    {
     "name": "stderr",
     "output_type": "stream",
     "text": [
      "Processing P: 100%|██████████| 1326/1326 [00:01<00:00, 675.81it/s]\n",
      "Processing QRS: 100%|██████████| 1981/1981 [00:00<00:00, 5672.25it/s]\n"
     ]
    },
    {
     "name": "stdout",
     "output_type": "stream",
     "text": [
      "Saved mask to: masks/16265_86400_88200_mask.csv\n",
      "record: 16265  from:  88200 to:  90000\n"
     ]
    },
    {
     "name": "stderr",
     "output_type": "stream",
     "text": [
      "Processing P: 100%|██████████| 1329/1329 [00:01<00:00, 678.87it/s]\n",
      "Processing QRS: 100%|██████████| 1984/1984 [00:00<00:00, 5514.49it/s]\n"
     ]
    },
    {
     "name": "stdout",
     "output_type": "stream",
     "text": [
      "Saved mask to: masks/16265_88200_90000_mask.csv\n",
      "record: 16265  from:  90000 to:  91648.0\n"
     ]
    },
    {
     "name": "stderr",
     "output_type": "stream",
     "text": [
      "Processing P: 100%|██████████| 512/512 [00:00<00:00, 740.77it/s]\n",
      "Processing QRS: 100%|██████████| 254/254 [00:00<00:00, 7440.76it/s]\n"
     ]
    },
    {
     "name": "stdout",
     "output_type": "stream",
     "text": [
      "Saved mask to: masks/16265_90000_91648.0_mask.csv\n",
      "record: 16272  from:  0 to:  1800\n"
     ]
    },
    {
     "name": "stderr",
     "output_type": "stream",
     "text": [
      "Processing P: 100%|██████████| 1964/1964 [00:02<00:00, 727.25it/s]\n",
      "Processing QRS: 100%|██████████| 1992/1992 [00:00<00:00, 4671.84it/s]\n"
     ]
    },
    {
     "name": "stdout",
     "output_type": "stream",
     "text": [
      "Saved mask to: masks/16272_0_1800_mask.csv\n",
      "record: 16272  from:  1800 to:  3600\n"
     ]
    },
    {
     "name": "stderr",
     "output_type": "stream",
     "text": [
      "Processing P: 100%|██████████| 1694/1694 [00:02<00:00, 724.13it/s]\n",
      "Processing QRS: 100%|██████████| 1694/1694 [00:00<00:00, 4529.14it/s]\n"
     ]
    },
    {
     "name": "stdout",
     "output_type": "stream",
     "text": [
      "Saved mask to: masks/16272_1800_3600_mask.csv\n",
      "record: 16272  from:  3600 to:  5400\n"
     ]
    },
    {
     "name": "stderr",
     "output_type": "stream",
     "text": [
      "Processing P: 100%|██████████| 1807/1807 [00:02<00:00, 722.20it/s]\n",
      "Processing QRS: 100%|██████████| 1806/1806 [00:00<00:00, 4588.54it/s]\n"
     ]
    },
    {
     "name": "stdout",
     "output_type": "stream",
     "text": [
      "Saved mask to: masks/16272_3600_5400_mask.csv\n",
      "record: 16272  from:  5400 to:  7200\n"
     ]
    },
    {
     "name": "stderr",
     "output_type": "stream",
     "text": [
      "Processing P: 100%|██████████| 1900/1900 [00:02<00:00, 719.18it/s]\n",
      "Processing QRS: 100%|██████████| 1901/1901 [00:00<00:00, 4646.63it/s]\n"
     ]
    },
    {
     "name": "stdout",
     "output_type": "stream",
     "text": [
      "Saved mask to: masks/16272_5400_7200_mask.csv\n",
      "record: 16272  from:  7200 to:  9000\n"
     ]
    },
    {
     "name": "stderr",
     "output_type": "stream",
     "text": [
      "Processing P: 100%|██████████| 2013/2013 [00:02<00:00, 724.87it/s]\n",
      "Processing QRS: 100%|██████████| 2006/2006 [00:00<00:00, 4599.34it/s]\n"
     ]
    },
    {
     "name": "stdout",
     "output_type": "stream",
     "text": [
      "Saved mask to: masks/16272_7200_9000_mask.csv\n",
      "record: 16272  from:  9000 to:  10800\n"
     ]
    },
    {
     "name": "stderr",
     "output_type": "stream",
     "text": [
      "Processing P: 100%|██████████| 2009/2009 [00:02<00:00, 715.01it/s]\n",
      "Processing QRS: 100%|██████████| 2013/2013 [00:00<00:00, 4602.43it/s]\n"
     ]
    },
    {
     "name": "stdout",
     "output_type": "stream",
     "text": [
      "Saved mask to: masks/16272_9000_10800_mask.csv\n",
      "record: 16272  from:  10800 to:  12600\n"
     ]
    },
    {
     "name": "stderr",
     "output_type": "stream",
     "text": [
      "Processing P: 100%|██████████| 1884/1884 [00:02<00:00, 725.09it/s]\n",
      "Processing QRS: 100%|██████████| 1888/1888 [00:00<00:00, 4615.68it/s]\n"
     ]
    },
    {
     "name": "stdout",
     "output_type": "stream",
     "text": [
      "Saved mask to: masks/16272_10800_12600_mask.csv\n",
      "record: 16272  from:  12600 to:  14400\n"
     ]
    },
    {
     "name": "stderr",
     "output_type": "stream",
     "text": [
      "Processing P: 100%|██████████| 1870/1870 [00:02<00:00, 724.94it/s]\n",
      "Processing QRS: 100%|██████████| 1868/1868 [00:00<00:00, 4358.44it/s]\n"
     ]
    },
    {
     "name": "stdout",
     "output_type": "stream",
     "text": [
      "Saved mask to: masks/16272_12600_14400_mask.csv\n",
      "record: 16272  from:  14400 to:  16200\n"
     ]
    },
    {
     "name": "stderr",
     "output_type": "stream",
     "text": [
      "Processing P: 100%|██████████| 1854/1854 [00:02<00:00, 726.70it/s]\n",
      "Processing QRS: 100%|██████████| 1853/1853 [00:00<00:00, 4357.40it/s]\n"
     ]
    },
    {
     "name": "stdout",
     "output_type": "stream",
     "text": [
      "Saved mask to: masks/16272_14400_16200_mask.csv\n",
      "record: 16272  from:  16200 to:  18000\n"
     ]
    },
    {
     "name": "stderr",
     "output_type": "stream",
     "text": [
      "Processing P: 100%|██████████| 2027/2027 [00:02<00:00, 706.57it/s]\n",
      "Processing QRS: 100%|██████████| 2114/2114 [00:00<00:00, 4626.48it/s]\n"
     ]
    },
    {
     "name": "stdout",
     "output_type": "stream",
     "text": [
      "Saved mask to: masks/16272_16200_18000_mask.csv\n",
      "record: 16272  from:  18000 to:  19800\n"
     ]
    },
    {
     "name": "stderr",
     "output_type": "stream",
     "text": [
      "Processing P: 100%|██████████| 1576/1576 [00:02<00:00, 698.45it/s]\n",
      "Processing QRS: 100%|██████████| 1864/1864 [00:00<00:00, 5192.87it/s]\n"
     ]
    },
    {
     "name": "stdout",
     "output_type": "stream",
     "text": [
      "Saved mask to: masks/16272_18000_19800_mask.csv\n",
      "record: 16272  from:  19800 to:  21600\n"
     ]
    },
    {
     "name": "stderr",
     "output_type": "stream",
     "text": [
      "Processing P: 100%|██████████| 829/829 [00:01<00:00, 693.96it/s]\n",
      "Processing QRS: 100%|██████████| 1340/1340 [00:00<00:00, 6446.45it/s]\n"
     ]
    },
    {
     "name": "stdout",
     "output_type": "stream",
     "text": [
      "Saved mask to: masks/16272_19800_21600_mask.csv\n",
      "record: 16272  from:  21600 to:  23400\n"
     ]
    },
    {
     "name": "stderr",
     "output_type": "stream",
     "text": [
      "Processing P: 100%|██████████| 1047/1047 [00:01<00:00, 693.61it/s]\n",
      "Processing QRS: 100%|██████████| 1565/1565 [00:00<00:00, 5681.29it/s]\n"
     ]
    },
    {
     "name": "stdout",
     "output_type": "stream",
     "text": [
      "Saved mask to: masks/16272_21600_23400_mask.csv\n",
      "record: 16272  from:  23400 to:  25200\n"
     ]
    },
    {
     "name": "stderr",
     "output_type": "stream",
     "text": [
      "Processing P: 100%|██████████| 1323/1323 [00:01<00:00, 690.58it/s]\n",
      "Processing QRS: 100%|██████████| 1978/1978 [00:00<00:00, 5401.10it/s]\n"
     ]
    },
    {
     "name": "stdout",
     "output_type": "stream",
     "text": [
      "Saved mask to: masks/16272_23400_25200_mask.csv\n",
      "record: 16272  from:  25200 to:  27000\n"
     ]
    },
    {
     "name": "stderr",
     "output_type": "stream",
     "text": [
      "Processing P: 100%|██████████| 2235/2235 [00:03<00:00, 709.61it/s]\n",
      "Processing QRS: 100%|██████████| 2277/2277 [00:00<00:00, 4471.05it/s]\n"
     ]
    },
    {
     "name": "stdout",
     "output_type": "stream",
     "text": [
      "Saved mask to: masks/16272_25200_27000_mask.csv\n",
      "record: 16272  from:  27000 to:  28800\n"
     ]
    },
    {
     "name": "stderr",
     "output_type": "stream",
     "text": [
      "Processing P: 100%|██████████| 1991/1991 [00:02<00:00, 701.84it/s]\n",
      "Processing QRS: 100%|██████████| 2000/2000 [00:00<00:00, 4291.99it/s]\n"
     ]
    },
    {
     "name": "stdout",
     "output_type": "stream",
     "text": [
      "Saved mask to: masks/16272_27000_28800_mask.csv\n",
      "record: 16272  from:  28800 to:  30600\n"
     ]
    },
    {
     "name": "stderr",
     "output_type": "stream",
     "text": [
      "Processing P: 100%|██████████| 2211/2211 [00:03<00:00, 709.35it/s]\n",
      "Processing QRS: 100%|██████████| 2219/2219 [00:00<00:00, 4356.01it/s]\n"
     ]
    },
    {
     "name": "stdout",
     "output_type": "stream",
     "text": [
      "Saved mask to: masks/16272_28800_30600_mask.csv\n",
      "record: 16272  from:  30600 to:  32400\n"
     ]
    },
    {
     "name": "stderr",
     "output_type": "stream",
     "text": [
      "Processing P: 100%|██████████| 2047/2047 [00:02<00:00, 708.40it/s]\n",
      "Processing QRS: 100%|██████████| 2076/2076 [00:00<00:00, 4708.42it/s]\n"
     ]
    },
    {
     "name": "stdout",
     "output_type": "stream",
     "text": [
      "Saved mask to: masks/16272_30600_32400_mask.csv\n",
      "record: 16272  from:  32400 to:  34200\n"
     ]
    },
    {
     "name": "stderr",
     "output_type": "stream",
     "text": [
      "Processing P: 100%|██████████| 1984/1984 [00:02<00:00, 713.56it/s]\n",
      "Processing QRS: 100%|██████████| 1990/1990 [00:00<00:00, 4360.74it/s]\n"
     ]
    },
    {
     "name": "stdout",
     "output_type": "stream",
     "text": [
      "Saved mask to: masks/16272_32400_34200_mask.csv\n",
      "record: 16272  from:  34200 to:  36000\n"
     ]
    },
    {
     "name": "stderr",
     "output_type": "stream",
     "text": [
      "Processing P: 100%|██████████| 1973/1973 [00:02<00:00, 704.97it/s]\n",
      "Processing QRS: 100%|██████████| 1974/1974 [00:00<00:00, 4373.11it/s]\n"
     ]
    },
    {
     "name": "stdout",
     "output_type": "stream",
     "text": [
      "Saved mask to: masks/16272_34200_36000_mask.csv\n",
      "record: 16272  from:  36000 to:  37800\n"
     ]
    },
    {
     "name": "stderr",
     "output_type": "stream",
     "text": [
      "Processing P: 100%|██████████| 2037/2037 [00:02<00:00, 704.16it/s]\n",
      "Processing QRS: 100%|██████████| 2044/2044 [00:00<00:00, 4336.63it/s]\n"
     ]
    },
    {
     "name": "stdout",
     "output_type": "stream",
     "text": [
      "Saved mask to: masks/16272_36000_37800_mask.csv\n",
      "record: 16272  from:  37800 to:  39600\n"
     ]
    },
    {
     "name": "stderr",
     "output_type": "stream",
     "text": [
      "Processing P: 100%|██████████| 1848/1848 [00:02<00:00, 696.91it/s]\n",
      "Processing QRS: 100%|██████████| 1848/1848 [00:00<00:00, 4430.01it/s]\n"
     ]
    },
    {
     "name": "stdout",
     "output_type": "stream",
     "text": [
      "Saved mask to: masks/16272_37800_39600_mask.csv\n",
      "record: 16272  from:  39600 to:  41400\n"
     ]
    },
    {
     "name": "stderr",
     "output_type": "stream",
     "text": [
      "Processing P: 100%|██████████| 1734/1734 [00:02<00:00, 693.84it/s]\n",
      "Processing QRS: 100%|██████████| 1734/1734 [00:00<00:00, 4463.62it/s]\n"
     ]
    },
    {
     "name": "stdout",
     "output_type": "stream",
     "text": [
      "Saved mask to: masks/16272_39600_41400_mask.csv\n",
      "record: 16272  from:  41400 to:  43200\n"
     ]
    },
    {
     "name": "stderr",
     "output_type": "stream",
     "text": [
      "Processing P: 100%|██████████| 1809/1809 [00:02<00:00, 685.71it/s]\n",
      "Processing QRS: 100%|██████████| 1809/1809 [00:00<00:00, 3728.68it/s]\n"
     ]
    },
    {
     "name": "stdout",
     "output_type": "stream",
     "text": [
      "Saved mask to: masks/16272_41400_43200_mask.csv\n",
      "record: 16272  from:  43200 to:  45000\n"
     ]
    },
    {
     "name": "stderr",
     "output_type": "stream",
     "text": [
      "Processing P: 100%|██████████| 1788/1788 [00:02<00:00, 702.04it/s]\n",
      "Processing QRS: 100%|██████████| 1788/1788 [00:00<00:00, 4434.33it/s]\n"
     ]
    },
    {
     "name": "stdout",
     "output_type": "stream",
     "text": [
      "Saved mask to: masks/16272_43200_45000_mask.csv\n",
      "record: 16272  from:  45000 to:  46800\n"
     ]
    },
    {
     "name": "stderr",
     "output_type": "stream",
     "text": [
      "Processing P: 100%|██████████| 1879/1879 [00:02<00:00, 669.46it/s]\n",
      "Processing QRS: 100%|██████████| 1880/1880 [00:00<00:00, 4357.20it/s]\n"
     ]
    },
    {
     "name": "stdout",
     "output_type": "stream",
     "text": [
      "Saved mask to: masks/16272_45000_46800_mask.csv\n",
      "record: 16272  from:  46800 to:  48600\n"
     ]
    },
    {
     "name": "stderr",
     "output_type": "stream",
     "text": [
      "Processing P: 100%|██████████| 1967/1967 [00:02<00:00, 688.82it/s]\n",
      "Processing QRS: 100%|██████████| 1967/1967 [00:00<00:00, 4445.01it/s]\n"
     ]
    },
    {
     "name": "stdout",
     "output_type": "stream",
     "text": [
      "Saved mask to: masks/16272_46800_48600_mask.csv\n",
      "record: 16272  from:  48600 to:  50400\n"
     ]
    },
    {
     "name": "stderr",
     "output_type": "stream",
     "text": [
      "Processing P: 100%|██████████| 1977/1977 [00:02<00:00, 688.80it/s]\n",
      "Processing QRS: 100%|██████████| 1980/1980 [00:00<00:00, 4410.09it/s]\n"
     ]
    },
    {
     "name": "stdout",
     "output_type": "stream",
     "text": [
      "Saved mask to: masks/16272_48600_50400_mask.csv\n",
      "record: 16272  from:  50400 to:  52200\n"
     ]
    },
    {
     "name": "stderr",
     "output_type": "stream",
     "text": [
      "Processing P: 100%|██████████| 1954/1954 [00:02<00:00, 700.47it/s]\n",
      "Processing QRS: 100%|██████████| 1960/1960 [00:00<00:00, 4455.78it/s]\n"
     ]
    },
    {
     "name": "stdout",
     "output_type": "stream",
     "text": [
      "Saved mask to: masks/16272_50400_52200_mask.csv\n",
      "record: 16272  from:  52200 to:  54000\n"
     ]
    },
    {
     "name": "stderr",
     "output_type": "stream",
     "text": [
      "Processing P: 100%|██████████| 1932/1932 [00:02<00:00, 686.67it/s]\n",
      "Processing QRS: 100%|██████████| 1932/1932 [00:00<00:00, 4475.03it/s]\n"
     ]
    },
    {
     "name": "stdout",
     "output_type": "stream",
     "text": [
      "Saved mask to: masks/16272_52200_54000_mask.csv\n",
      "record: 16272  from:  54000 to:  55800\n"
     ]
    },
    {
     "name": "stderr",
     "output_type": "stream",
     "text": [
      "Processing P: 100%|██████████| 1851/1851 [00:02<00:00, 715.33it/s]\n",
      "Processing QRS: 100%|██████████| 1851/1851 [00:00<00:00, 4457.38it/s]\n"
     ]
    },
    {
     "name": "stdout",
     "output_type": "stream",
     "text": [
      "Saved mask to: masks/16272_54000_55800_mask.csv\n",
      "record: 16272  from:  55800 to:  57600\n"
     ]
    },
    {
     "name": "stderr",
     "output_type": "stream",
     "text": [
      "Processing P: 100%|██████████| 1849/1849 [00:02<00:00, 707.10it/s]\n",
      "Processing QRS: 100%|██████████| 1853/1853 [00:00<00:00, 4687.10it/s]\n"
     ]
    },
    {
     "name": "stdout",
     "output_type": "stream",
     "text": [
      "Saved mask to: masks/16272_55800_57600_mask.csv\n",
      "record: 16272  from:  57600 to:  59400\n"
     ]
    },
    {
     "name": "stderr",
     "output_type": "stream",
     "text": [
      "Processing P: 100%|██████████| 1867/1867 [00:02<00:00, 699.24it/s]\n",
      "Processing QRS: 100%|██████████| 1878/1878 [00:00<00:00, 4513.91it/s]\n"
     ]
    },
    {
     "name": "stdout",
     "output_type": "stream",
     "text": [
      "Saved mask to: masks/16272_57600_59400_mask.csv\n",
      "record: 16272  from:  59400 to:  61200\n"
     ]
    },
    {
     "name": "stderr",
     "output_type": "stream",
     "text": [
      "Processing P: 100%|██████████| 1773/1773 [00:02<00:00, 707.95it/s]\n",
      "Processing QRS: 100%|██████████| 1774/1774 [00:00<00:00, 4487.81it/s]\n"
     ]
    },
    {
     "name": "stdout",
     "output_type": "stream",
     "text": [
      "Saved mask to: masks/16272_59400_61200_mask.csv\n",
      "record: 16272  from:  61200 to:  63000\n"
     ]
    },
    {
     "name": "stderr",
     "output_type": "stream",
     "text": [
      "Processing P: 100%|██████████| 1703/1703 [00:02<00:00, 700.15it/s]\n",
      "Processing QRS: 100%|██████████| 1703/1703 [00:00<00:00, 4304.13it/s]\n"
     ]
    },
    {
     "name": "stdout",
     "output_type": "stream",
     "text": [
      "Saved mask to: masks/16272_61200_63000_mask.csv\n",
      "record: 16272  from:  63000 to:  64800\n"
     ]
    },
    {
     "name": "stderr",
     "output_type": "stream",
     "text": [
      "Processing P: 100%|██████████| 1694/1694 [00:02<00:00, 715.85it/s]\n",
      "Processing QRS: 100%|██████████| 1694/1694 [00:00<00:00, 4446.45it/s]\n"
     ]
    },
    {
     "name": "stdout",
     "output_type": "stream",
     "text": [
      "Saved mask to: masks/16272_63000_64800_mask.csv\n",
      "record: 16272  from:  64800 to:  66600\n"
     ]
    },
    {
     "name": "stderr",
     "output_type": "stream",
     "text": [
      "Processing P: 100%|██████████| 1641/1641 [00:02<00:00, 698.47it/s]\n",
      "Processing QRS: 100%|██████████| 1647/1647 [00:00<00:00, 4167.91it/s]\n"
     ]
    },
    {
     "name": "stdout",
     "output_type": "stream",
     "text": [
      "Saved mask to: masks/16272_64800_66600_mask.csv\n",
      "record: 16272  from:  66600 to:  68400\n"
     ]
    },
    {
     "name": "stderr",
     "output_type": "stream",
     "text": [
      "Processing P: 100%|██████████| 1662/1662 [00:02<00:00, 718.94it/s]\n",
      "Processing QRS: 100%|██████████| 1662/1662 [00:00<00:00, 4493.59it/s]\n"
     ]
    },
    {
     "name": "stdout",
     "output_type": "stream",
     "text": [
      "Saved mask to: masks/16272_66600_68400_mask.csv\n",
      "record: 16272  from:  68400 to:  70200\n"
     ]
    },
    {
     "name": "stderr",
     "output_type": "stream",
     "text": [
      "Processing P: 100%|██████████| 1656/1656 [00:02<00:00, 697.17it/s]\n",
      "Processing QRS: 100%|██████████| 1656/1656 [00:00<00:00, 4513.42it/s]\n"
     ]
    },
    {
     "name": "stdout",
     "output_type": "stream",
     "text": [
      "Saved mask to: masks/16272_68400_70200_mask.csv\n",
      "record: 16272  from:  70200 to:  72000\n"
     ]
    },
    {
     "name": "stderr",
     "output_type": "stream",
     "text": [
      "Processing P: 100%|██████████| 1707/1707 [00:02<00:00, 711.72it/s]\n",
      "Processing QRS: 100%|██████████| 1711/1711 [00:00<00:00, 4588.43it/s]\n"
     ]
    },
    {
     "name": "stdout",
     "output_type": "stream",
     "text": [
      "Saved mask to: masks/16272_70200_72000_mask.csv\n",
      "record: 16272  from:  72000 to:  73800\n"
     ]
    },
    {
     "name": "stderr",
     "output_type": "stream",
     "text": [
      "Processing P: 100%|██████████| 2166/2166 [00:02<00:00, 736.91it/s]\n",
      "Processing QRS: 100%|██████████| 2289/2289 [00:00<00:00, 4324.02it/s]\n"
     ]
    },
    {
     "name": "stdout",
     "output_type": "stream",
     "text": [
      "Saved mask to: masks/16272_72000_73800_mask.csv\n",
      "record: 16272  from:  73800 to:  75600\n"
     ]
    },
    {
     "name": "stderr",
     "output_type": "stream",
     "text": [
      "Processing P: 100%|██████████| 2365/2365 [00:03<00:00, 736.45it/s]\n",
      "Processing QRS: 100%|██████████| 2403/2403 [00:00<00:00, 4631.40it/s]\n"
     ]
    },
    {
     "name": "stdout",
     "output_type": "stream",
     "text": [
      "Saved mask to: masks/16272_73800_75600_mask.csv\n",
      "record: 16272  from:  75600 to:  77400\n"
     ]
    },
    {
     "name": "stderr",
     "output_type": "stream",
     "text": [
      "Processing P: 100%|██████████| 2310/2310 [00:03<00:00, 724.03it/s]\n",
      "Processing QRS: 100%|██████████| 2350/2350 [00:00<00:00, 4666.29it/s]\n"
     ]
    },
    {
     "name": "stdout",
     "output_type": "stream",
     "text": [
      "Saved mask to: masks/16272_75600_77400_mask.csv\n",
      "record: 16272  from:  77400 to:  79200\n"
     ]
    },
    {
     "name": "stderr",
     "output_type": "stream",
     "text": [
      "Processing P: 100%|██████████| 2565/2565 [00:03<00:00, 740.17it/s]\n",
      "Processing QRS: 100%|██████████| 2633/2633 [00:00<00:00, 4724.52it/s]\n"
     ]
    },
    {
     "name": "stdout",
     "output_type": "stream",
     "text": [
      "Saved mask to: masks/16272_77400_79200_mask.csv\n",
      "record: 16272  from:  79200 to:  81000\n"
     ]
    },
    {
     "name": "stderr",
     "output_type": "stream",
     "text": [
      "Processing P: 100%|██████████| 2276/2276 [00:03<00:00, 733.89it/s]\n",
      "Processing QRS: 100%|██████████| 2318/2318 [00:00<00:00, 4517.06it/s]\n"
     ]
    },
    {
     "name": "stdout",
     "output_type": "stream",
     "text": [
      "Saved mask to: masks/16272_79200_81000_mask.csv\n",
      "record: 16272  from:  81000 to:  82800\n"
     ]
    },
    {
     "name": "stderr",
     "output_type": "stream",
     "text": [
      "Processing P: 100%|██████████| 2163/2163 [00:02<00:00, 739.63it/s]\n",
      "Processing QRS: 100%|██████████| 2199/2199 [00:00<00:00, 4832.53it/s]\n"
     ]
    },
    {
     "name": "stdout",
     "output_type": "stream",
     "text": [
      "Saved mask to: masks/16272_81000_82800_mask.csv\n",
      "record: 16272  from:  82800 to:  84600\n"
     ]
    },
    {
     "name": "stderr",
     "output_type": "stream",
     "text": [
      "Processing P: 100%|██████████| 1932/1932 [00:02<00:00, 713.49it/s]\n",
      "Processing QRS: 100%|██████████| 1976/1976 [00:00<00:00, 4931.35it/s]\n"
     ]
    },
    {
     "name": "stdout",
     "output_type": "stream",
     "text": [
      "Saved mask to: masks/16272_82800_84600_mask.csv\n",
      "record: 16272  from:  84600 to:  86400\n"
     ]
    },
    {
     "name": "stderr",
     "output_type": "stream",
     "text": [
      "Processing P: 100%|██████████| 1634/1634 [00:02<00:00, 695.30it/s]\n",
      "Processing QRS: 100%|██████████| 2506/2506 [00:00<00:00, 5604.79it/s]\n"
     ]
    },
    {
     "name": "stdout",
     "output_type": "stream",
     "text": [
      "Saved mask to: masks/16272_84600_86400_mask.csv\n",
      "record: 16272  from:  86400 to:  88200\n"
     ]
    },
    {
     "name": "stderr",
     "output_type": "stream",
     "text": [
      "Processing P: 100%|██████████| 1636/1636 [00:02<00:00, 671.24it/s]\n",
      "Processing QRS: 100%|██████████| 2558/2558 [00:00<00:00, 5379.58it/s]\n"
     ]
    },
    {
     "name": "stdout",
     "output_type": "stream",
     "text": [
      "Saved mask to: masks/16272_86400_88200_mask.csv\n",
      "record: 16272  from:  88200 to:  90000\n"
     ]
    },
    {
     "name": "stderr",
     "output_type": "stream",
     "text": [
      "Processing P: 100%|██████████| 574/574 [00:00<00:00, 674.96it/s]\n",
      "Processing QRS: 100%|██████████| 325/325 [00:00<00:00, 7085.64it/s]\n"
     ]
    },
    {
     "name": "stdout",
     "output_type": "stream",
     "text": [
      "Saved mask to: masks/16272_88200_90000_mask.csv\n",
      "record: 16273  from:  0 to:  1800\n"
     ]
    },
    {
     "name": "stderr",
     "output_type": "stream",
     "text": [
      "Processing P: 100%|██████████| 1687/1687 [00:02<00:00, 693.71it/s]\n",
      "Processing QRS: 100%|██████████| 2484/2484 [00:00<00:00, 7083.52it/s]\n"
     ]
    },
    {
     "name": "stdout",
     "output_type": "stream",
     "text": [
      "Saved mask to: masks/16273_0_1800_mask.csv\n",
      "record: 16273  from:  1800 to:  3600\n"
     ]
    },
    {
     "name": "stderr",
     "output_type": "stream",
     "text": [
      "Processing P: 100%|██████████| 1461/1461 [00:02<00:00, 714.50it/s]\n",
      "Processing QRS: 100%|██████████| 2292/2292 [00:00<00:00, 5593.97it/s]\n"
     ]
    },
    {
     "name": "stdout",
     "output_type": "stream",
     "text": [
      "Saved mask to: masks/16273_1800_3600_mask.csv\n",
      "record: 16273  from:  3600 to:  5400\n"
     ]
    },
    {
     "name": "stderr",
     "output_type": "stream",
     "text": [
      "Processing P: 100%|██████████| 1642/1642 [00:02<00:00, 676.93it/s]\n",
      "Processing QRS: 100%|██████████| 2361/2361 [00:00<00:00, 5437.51it/s]\n"
     ]
    },
    {
     "name": "stdout",
     "output_type": "stream",
     "text": [
      "Saved mask to: masks/16273_3600_5400_mask.csv\n",
      "record: 16273  from:  5400 to:  7200\n"
     ]
    },
    {
     "name": "stderr",
     "output_type": "stream",
     "text": [
      "Processing P: 100%|██████████| 1974/1974 [00:02<00:00, 672.15it/s]\n",
      "Processing QRS: 100%|██████████| 2424/2424 [00:00<00:00, 4474.81it/s]\n"
     ]
    },
    {
     "name": "stdout",
     "output_type": "stream",
     "text": [
      "Saved mask to: masks/16273_5400_7200_mask.csv\n",
      "record: 16273  from:  7200 to:  9000\n"
     ]
    },
    {
     "name": "stderr",
     "output_type": "stream",
     "text": [
      "Processing P: 100%|██████████| 2528/2528 [00:03<00:00, 686.76it/s]\n",
      "Processing QRS: 100%|██████████| 2542/2542 [00:00<00:00, 4164.03it/s]\n"
     ]
    },
    {
     "name": "stdout",
     "output_type": "stream",
     "text": [
      "Saved mask to: masks/16273_7200_9000_mask.csv\n",
      "record: 16273  from:  9000 to:  10800\n"
     ]
    },
    {
     "name": "stderr",
     "output_type": "stream",
     "text": [
      "Processing P: 100%|██████████| 2871/2871 [00:04<00:00, 694.87it/s]\n",
      "Processing QRS: 100%|██████████| 2909/2909 [00:00<00:00, 4371.41it/s]\n"
     ]
    },
    {
     "name": "stdout",
     "output_type": "stream",
     "text": [
      "Saved mask to: masks/16273_9000_10800_mask.csv\n",
      "record: 16273  from:  10800 to:  12600\n"
     ]
    },
    {
     "name": "stderr",
     "output_type": "stream",
     "text": [
      "Processing P: 100%|██████████| 2401/2401 [00:03<00:00, 705.08it/s]\n",
      "Processing QRS: 100%|██████████| 2753/2753 [00:00<00:00, 4402.90it/s]\n"
     ]
    },
    {
     "name": "stdout",
     "output_type": "stream",
     "text": [
      "Saved mask to: masks/16273_10800_12600_mask.csv\n",
      "record: 16273  from:  12600 to:  14400\n"
     ]
    },
    {
     "name": "stderr",
     "output_type": "stream",
     "text": [
      "Processing P: 100%|██████████| 1341/1341 [00:01<00:00, 726.07it/s]\n",
      "Processing QRS: 100%|██████████| 2436/2436 [00:00<00:00, 6408.39it/s]\n"
     ]
    },
    {
     "name": "stdout",
     "output_type": "stream",
     "text": [
      "Saved mask to: masks/16273_12600_14400_mask.csv\n",
      "record: 16273  from:  14400 to:  16200\n"
     ]
    },
    {
     "name": "stderr",
     "output_type": "stream",
     "text": [
      "Processing P: 100%|██████████| 2496/2496 [00:03<00:00, 712.53it/s]\n",
      "Processing QRS: 100%|██████████| 2700/2700 [00:00<00:00, 4890.80it/s]\n"
     ]
    },
    {
     "name": "stdout",
     "output_type": "stream",
     "text": [
      "Saved mask to: masks/16273_14400_16200_mask.csv\n",
      "record: 16273  from:  16200 to:  18000\n"
     ]
    },
    {
     "name": "stderr",
     "output_type": "stream",
     "text": [
      "Processing P: 100%|██████████| 1531/1531 [00:02<00:00, 696.48it/s]\n",
      "Processing QRS: 100%|██████████| 2265/2265 [00:00<00:00, 5413.99it/s]\n"
     ]
    },
    {
     "name": "stdout",
     "output_type": "stream",
     "text": [
      "Saved mask to: masks/16273_16200_18000_mask.csv\n",
      "record: 16273  from:  18000 to:  19800\n"
     ]
    },
    {
     "name": "stderr",
     "output_type": "stream",
     "text": [
      "Processing P: 100%|██████████| 1235/1235 [00:01<00:00, 659.37it/s]\n",
      "Processing QRS: 100%|██████████| 2229/2229 [00:00<00:00, 6898.17it/s]\n"
     ]
    },
    {
     "name": "stdout",
     "output_type": "stream",
     "text": [
      "Saved mask to: masks/16273_18000_19800_mask.csv\n",
      "record: 16273  from:  19800 to:  21600\n"
     ]
    },
    {
     "name": "stderr",
     "output_type": "stream",
     "text": [
      "Processing P: 100%|██████████| 1618/1618 [00:02<00:00, 740.06it/s]\n",
      "Processing QRS: 100%|██████████| 2244/2244 [00:00<00:00, 5313.41it/s]\n"
     ]
    },
    {
     "name": "stdout",
     "output_type": "stream",
     "text": [
      "Saved mask to: masks/16273_19800_21600_mask.csv\n",
      "record: 16273  from:  21600 to:  23400\n"
     ]
    },
    {
     "name": "stderr",
     "output_type": "stream",
     "text": [
      "Processing P: 100%|██████████| 1298/1298 [00:01<00:00, 733.46it/s]\n",
      "Processing QRS: 100%|██████████| 2150/2150 [00:00<00:00, 8083.86it/s]\n"
     ]
    },
    {
     "name": "stdout",
     "output_type": "stream",
     "text": [
      "Saved mask to: masks/16273_21600_23400_mask.csv\n",
      "record: 16273  from:  23400 to:  25200\n"
     ]
    },
    {
     "name": "stderr",
     "output_type": "stream",
     "text": [
      "Processing P: 100%|██████████| 1604/1604 [00:02<00:00, 734.97it/s]\n",
      "Processing QRS: 100%|██████████| 2281/2281 [00:00<00:00, 5509.71it/s]\n"
     ]
    },
    {
     "name": "stdout",
     "output_type": "stream",
     "text": [
      "Saved mask to: masks/16273_23400_25200_mask.csv\n",
      "record: 16273  from:  25200 to:  27000\n"
     ]
    },
    {
     "name": "stderr",
     "output_type": "stream",
     "text": [
      "Processing P: 100%|██████████| 928/928 [00:01<00:00, 731.97it/s]\n",
      "Processing QRS: 100%|██████████| 2146/2146 [00:00<00:00, 10479.97it/s]\n"
     ]
    },
    {
     "name": "stdout",
     "output_type": "stream",
     "text": [
      "Saved mask to: masks/16273_25200_27000_mask.csv\n",
      "record: 16273  from:  27000 to:  28800\n"
     ]
    },
    {
     "name": "stderr",
     "output_type": "stream",
     "text": [
      "Processing P: 100%|██████████| 1421/1421 [00:01<00:00, 732.49it/s]\n",
      "Processing QRS: 100%|██████████| 2158/2158 [00:00<00:00, 5369.84it/s]\n"
     ]
    },
    {
     "name": "stdout",
     "output_type": "stream",
     "text": [
      "Saved mask to: masks/16273_27000_28800_mask.csv\n",
      "record: 16273  from:  28800 to:  30600\n"
     ]
    },
    {
     "name": "stderr",
     "output_type": "stream",
     "text": [
      "Processing P: 100%|██████████| 1645/1645 [00:02<00:00, 733.48it/s]\n",
      "Processing QRS: 100%|██████████| 2244/2244 [00:00<00:00, 5859.85it/s]\n"
     ]
    },
    {
     "name": "stdout",
     "output_type": "stream",
     "text": [
      "Saved mask to: masks/16273_28800_30600_mask.csv\n",
      "record: 16273  from:  30600 to:  32400\n"
     ]
    },
    {
     "name": "stderr",
     "output_type": "stream",
     "text": [
      "Processing P: 100%|██████████| 2027/2027 [00:02<00:00, 731.61it/s]\n",
      "Processing QRS: 100%|██████████| 2292/2292 [00:00<00:00, 4874.59it/s]\n"
     ]
    },
    {
     "name": "stdout",
     "output_type": "stream",
     "text": [
      "Saved mask to: masks/16273_30600_32400_mask.csv\n",
      "record: 16273  from:  32400 to:  34200\n"
     ]
    },
    {
     "name": "stderr",
     "output_type": "stream",
     "text": [
      "Processing P: 100%|██████████| 1993/1993 [00:02<00:00, 705.34it/s]\n",
      "Processing QRS: 100%|██████████| 2388/2388 [00:00<00:00, 4834.98it/s]\n"
     ]
    },
    {
     "name": "stdout",
     "output_type": "stream",
     "text": [
      "Saved mask to: masks/16273_32400_34200_mask.csv\n",
      "record: 16273  from:  34200 to:  36000\n"
     ]
    },
    {
     "name": "stderr",
     "output_type": "stream",
     "text": [
      "Processing P: 100%|██████████| 1809/1809 [00:02<00:00, 722.85it/s]\n",
      "Processing QRS: 100%|██████████| 2330/2330 [00:00<00:00, 5789.46it/s]\n"
     ]
    },
    {
     "name": "stdout",
     "output_type": "stream",
     "text": [
      "Saved mask to: masks/16273_34200_36000_mask.csv\n",
      "record: 16273  from:  36000 to:  37800\n"
     ]
    },
    {
     "name": "stderr",
     "output_type": "stream",
     "text": [
      "Processing P: 100%|██████████| 1101/1101 [00:01<00:00, 738.85it/s]\n",
      "Processing QRS: 100%|██████████| 1950/1950 [00:00<00:00, 7084.10it/s] \n"
     ]
    },
    {
     "name": "stdout",
     "output_type": "stream",
     "text": [
      "Saved mask to: masks/16273_36000_37800_mask.csv\n",
      "record: 16273  from:  37800 to:  39600\n"
     ]
    },
    {
     "name": "stderr",
     "output_type": "stream",
     "text": [
      "Processing P: 100%|██████████| 1136/1136 [00:01<00:00, 735.53it/s]\n",
      "Processing QRS: 100%|██████████| 2096/2096 [00:00<00:00, 7090.64it/s]\n"
     ]
    },
    {
     "name": "stdout",
     "output_type": "stream",
     "text": [
      "Saved mask to: masks/16273_37800_39600_mask.csv\n",
      "record: 16273  from:  39600 to:  41400\n"
     ]
    },
    {
     "name": "stderr",
     "output_type": "stream",
     "text": [
      "Processing P: 100%|██████████| 1451/1451 [00:01<00:00, 732.98it/s]\n",
      "Processing QRS: 100%|██████████| 2233/2233 [00:00<00:00, 6237.88it/s]\n"
     ]
    },
    {
     "name": "stdout",
     "output_type": "stream",
     "text": [
      "Saved mask to: masks/16273_39600_41400_mask.csv\n",
      "record: 16273  from:  41400 to:  43200\n"
     ]
    },
    {
     "name": "stderr",
     "output_type": "stream",
     "text": [
      "Processing P: 100%|██████████| 1642/1642 [00:02<00:00, 720.79it/s]\n",
      "Processing QRS: 100%|██████████| 2277/2277 [00:00<00:00, 5609.45it/s]\n"
     ]
    },
    {
     "name": "stdout",
     "output_type": "stream",
     "text": [
      "Saved mask to: masks/16273_41400_43200_mask.csv\n",
      "record: 16273  from:  43200 to:  45000\n"
     ]
    },
    {
     "name": "stderr",
     "output_type": "stream",
     "text": [
      "Processing P: 100%|██████████| 2024/2024 [00:02<00:00, 710.86it/s]\n",
      "Processing QRS: 100%|██████████| 2393/2393 [00:00<00:00, 5575.72it/s]\n"
     ]
    },
    {
     "name": "stdout",
     "output_type": "stream",
     "text": [
      "Saved mask to: masks/16273_43200_45000_mask.csv\n",
      "record: 16273  from:  45000 to:  46800\n"
     ]
    },
    {
     "name": "stderr",
     "output_type": "stream",
     "text": [
      "Processing P: 100%|██████████| 2013/2013 [00:02<00:00, 745.20it/s]\n",
      "Processing QRS: 100%|██████████| 2108/2108 [00:00<00:00, 4706.42it/s]\n"
     ]
    },
    {
     "name": "stdout",
     "output_type": "stream",
     "text": [
      "Saved mask to: masks/16273_45000_46800_mask.csv\n",
      "record: 16273  from:  46800 to:  48600\n"
     ]
    },
    {
     "name": "stderr",
     "output_type": "stream",
     "text": [
      "Processing P: 100%|██████████| 1992/1992 [00:03<00:00, 635.15it/s]\n",
      "Processing QRS: 100%|██████████| 2001/2001 [00:00<00:00, 4366.58it/s]\n"
     ]
    },
    {
     "name": "stdout",
     "output_type": "stream",
     "text": [
      "Saved mask to: masks/16273_46800_48600_mask.csv\n",
      "record: 16273  from:  48600 to:  50400\n"
     ]
    },
    {
     "name": "stderr",
     "output_type": "stream",
     "text": [
      "Processing P: 100%|██████████| 2225/2225 [00:03<00:00, 720.36it/s]\n",
      "Processing QRS: 100%|██████████| 2226/2226 [00:00<00:00, 4383.16it/s]\n"
     ]
    },
    {
     "name": "stdout",
     "output_type": "stream",
     "text": [
      "Saved mask to: masks/16273_48600_50400_mask.csv\n",
      "record: 16273  from:  50400 to:  52200\n"
     ]
    },
    {
     "name": "stderr",
     "output_type": "stream",
     "text": [
      "Processing P: 100%|██████████| 1901/1901 [00:02<00:00, 723.75it/s]\n",
      "Processing QRS: 100%|██████████| 2119/2119 [00:00<00:00, 4916.78it/s]\n"
     ]
    },
    {
     "name": "stdout",
     "output_type": "stream",
     "text": [
      "Saved mask to: masks/16273_50400_52200_mask.csv\n",
      "record: 16273  from:  52200 to:  54000\n"
     ]
    },
    {
     "name": "stderr",
     "output_type": "stream",
     "text": [
      "Processing P: 100%|██████████| 1850/1850 [00:02<00:00, 710.42it/s]\n",
      "Processing QRS: 100%|██████████| 1990/1990 [00:00<00:00, 4475.86it/s]\n"
     ]
    },
    {
     "name": "stdout",
     "output_type": "stream",
     "text": [
      "Saved mask to: masks/16273_52200_54000_mask.csv\n",
      "record: 16273  from:  54000 to:  55800\n"
     ]
    },
    {
     "name": "stderr",
     "output_type": "stream",
     "text": [
      "Processing P: 100%|██████████| 1803/1803 [00:02<00:00, 710.18it/s]\n",
      "Processing QRS: 100%|██████████| 1965/1965 [00:00<00:00, 4623.41it/s]\n"
     ]
    },
    {
     "name": "stdout",
     "output_type": "stream",
     "text": [
      "Saved mask to: masks/16273_54000_55800_mask.csv\n",
      "record: 16273  from:  55800 to:  57600\n"
     ]
    },
    {
     "name": "stderr",
     "output_type": "stream",
     "text": [
      "Processing P: 100%|██████████| 1275/1275 [00:01<00:00, 716.09it/s]\n",
      "Processing QRS: 100%|██████████| 1831/1831 [00:00<00:00, 6521.28it/s]\n"
     ]
    },
    {
     "name": "stdout",
     "output_type": "stream",
     "text": [
      "Saved mask to: masks/16273_55800_57600_mask.csv\n",
      "record: 16273  from:  57600 to:  59400\n"
     ]
    },
    {
     "name": "stderr",
     "output_type": "stream",
     "text": [
      "Processing P: 100%|██████████| 1200/1200 [00:01<00:00, 720.91it/s]\n",
      "Processing QRS: 100%|██████████| 1772/1772 [00:00<00:00, 5462.07it/s]\n"
     ]
    },
    {
     "name": "stdout",
     "output_type": "stream",
     "text": [
      "Saved mask to: masks/16273_57600_59400_mask.csv\n",
      "record: 16273  from:  59400 to:  61200\n"
     ]
    },
    {
     "name": "stderr",
     "output_type": "stream",
     "text": [
      "Processing P: 100%|██████████| 1513/1513 [00:02<00:00, 741.09it/s]\n",
      "Processing QRS: 100%|██████████| 1739/1739 [00:00<00:00, 4967.48it/s]\n"
     ]
    },
    {
     "name": "stdout",
     "output_type": "stream",
     "text": [
      "Saved mask to: masks/16273_59400_61200_mask.csv\n",
      "record: 16273  from:  61200 to:  63000\n"
     ]
    },
    {
     "name": "stderr",
     "output_type": "stream",
     "text": [
      "Processing P: 100%|██████████| 1389/1389 [00:01<00:00, 714.41it/s]\n",
      "Processing QRS: 100%|██████████| 1824/1824 [00:00<00:00, 5283.51it/s]\n"
     ]
    },
    {
     "name": "stdout",
     "output_type": "stream",
     "text": [
      "Saved mask to: masks/16273_61200_63000_mask.csv\n",
      "record: 16273  from:  63000 to:  64800\n"
     ]
    },
    {
     "name": "stderr",
     "output_type": "stream",
     "text": [
      "Processing P: 100%|██████████| 1656/1656 [00:02<00:00, 727.47it/s]\n",
      "Processing QRS: 100%|██████████| 1885/1885 [00:00<00:00, 4710.70it/s]\n"
     ]
    },
    {
     "name": "stdout",
     "output_type": "stream",
     "text": [
      "Saved mask to: masks/16273_63000_64800_mask.csv\n",
      "record: 16273  from:  64800 to:  66600\n"
     ]
    },
    {
     "name": "stderr",
     "output_type": "stream",
     "text": [
      "Processing P: 100%|██████████| 1467/1467 [00:02<00:00, 717.25it/s]\n",
      "Processing QRS: 100%|██████████| 1751/1751 [00:00<00:00, 5158.26it/s]\n"
     ]
    },
    {
     "name": "stdout",
     "output_type": "stream",
     "text": [
      "Saved mask to: masks/16273_64800_66600_mask.csv\n",
      "record: 16273  from:  66600 to:  68400\n"
     ]
    },
    {
     "name": "stderr",
     "output_type": "stream",
     "text": [
      "Processing P: 100%|██████████| 1694/1694 [00:02<00:00, 728.80it/s]\n",
      "Processing QRS: 100%|██████████| 1864/1864 [00:00<00:00, 4659.33it/s]\n"
     ]
    },
    {
     "name": "stdout",
     "output_type": "stream",
     "text": [
      "Saved mask to: masks/16273_66600_68400_mask.csv\n",
      "record: 16273  from:  68400 to:  70200\n"
     ]
    },
    {
     "name": "stderr",
     "output_type": "stream",
     "text": [
      "Processing P: 100%|██████████| 1576/1576 [00:02<00:00, 708.05it/s]\n",
      "Processing QRS: 100%|██████████| 1990/1990 [00:00<00:00, 5566.17it/s]\n"
     ]
    },
    {
     "name": "stdout",
     "output_type": "stream",
     "text": [
      "Saved mask to: masks/16273_68400_70200_mask.csv\n",
      "record: 16273  from:  70200 to:  72000\n"
     ]
    },
    {
     "name": "stderr",
     "output_type": "stream",
     "text": [
      "Processing P: 100%|██████████| 1438/1438 [00:02<00:00, 717.25it/s]\n",
      "Processing QRS: 100%|██████████| 1750/1750 [00:00<00:00, 5512.25it/s]\n"
     ]
    },
    {
     "name": "stdout",
     "output_type": "stream",
     "text": [
      "Saved mask to: masks/16273_70200_72000_mask.csv\n",
      "record: 16273  from:  72000 to:  73800\n"
     ]
    },
    {
     "name": "stderr",
     "output_type": "stream",
     "text": [
      "Processing P: 100%|██████████| 1648/1648 [00:02<00:00, 737.19it/s]\n",
      "Processing QRS: 100%|██████████| 1836/1836 [00:00<00:00, 4847.23it/s]\n"
     ]
    },
    {
     "name": "stdout",
     "output_type": "stream",
     "text": [
      "Saved mask to: masks/16273_72000_73800_mask.csv\n",
      "record: 16273  from:  73800 to:  75600\n"
     ]
    },
    {
     "name": "stderr",
     "output_type": "stream",
     "text": [
      "Processing P: 100%|██████████| 580/580 [00:00<00:00, 738.91it/s]\n",
      "Processing QRS: 100%|██████████| 599/599 [00:00<00:00, 8752.29it/s]\n"
     ]
    },
    {
     "name": "stdout",
     "output_type": "stream",
     "text": [
      "Saved mask to: masks/16273_73800_75600_mask.csv\n",
      "record: 16273  from:  75600 to:  77400\n"
     ]
    },
    {
     "name": "stderr",
     "output_type": "stream",
     "text": [
      "Processing P: 100%|██████████| 1788/1788 [00:02<00:00, 687.32it/s]\n",
      "Processing QRS: 100%|██████████| 2795/2795 [00:00<00:00, 5271.70it/s]\n"
     ]
    },
    {
     "name": "stdout",
     "output_type": "stream",
     "text": [
      "Saved mask to: masks/16273_75600_77400_mask.csv\n",
      "record: 16273  from:  77400 to:  79200\n"
     ]
    },
    {
     "name": "stderr",
     "output_type": "stream",
     "text": [
      "Processing P: 100%|██████████| 1806/1806 [00:02<00:00, 690.35it/s]\n",
      "Processing QRS: 100%|██████████| 2792/2792 [00:00<00:00, 5041.86it/s]\n"
     ]
    },
    {
     "name": "stdout",
     "output_type": "stream",
     "text": [
      "Saved mask to: masks/16273_77400_79200_mask.csv\n",
      "record: 16273  from:  79200 to:  81000\n"
     ]
    },
    {
     "name": "stderr",
     "output_type": "stream",
     "text": [
      "Processing P: 100%|██████████| 1662/1662 [00:02<00:00, 687.83it/s]\n",
      "Processing QRS: 100%|██████████| 2512/2512 [00:00<00:00, 5328.53it/s]\n"
     ]
    },
    {
     "name": "stdout",
     "output_type": "stream",
     "text": [
      "Saved mask to: masks/16273_79200_81000_mask.csv\n",
      "record: 16273  from:  81000 to:  82800\n"
     ]
    },
    {
     "name": "stderr",
     "output_type": "stream",
     "text": [
      "Processing P: 100%|██████████| 1780/1780 [00:02<00:00, 683.96it/s]\n",
      "Processing QRS: 100%|██████████| 2812/2812 [00:00<00:00, 4518.83it/s]\n"
     ]
    },
    {
     "name": "stdout",
     "output_type": "stream",
     "text": [
      "Saved mask to: masks/16273_81000_82800_mask.csv\n",
      "record: 16273  from:  82800 to:  84600\n"
     ]
    },
    {
     "name": "stderr",
     "output_type": "stream",
     "text": [
      "Processing P: 100%|██████████| 1795/1795 [00:02<00:00, 644.27it/s]\n",
      "Processing QRS: 100%|██████████| 2847/2847 [00:00<00:00, 5126.21it/s]\n"
     ]
    },
    {
     "name": "stdout",
     "output_type": "stream",
     "text": [
      "Saved mask to: masks/16273_82800_84600_mask.csv\n",
      "record: 16273  from:  84600 to:  86400\n"
     ]
    },
    {
     "name": "stderr",
     "output_type": "stream",
     "text": [
      "Processing P: 100%|██████████| 1777/1777 [00:02<00:00, 666.93it/s]\n",
      "Processing QRS: 100%|██████████| 2776/2776 [00:00<00:00, 5238.58it/s]\n"
     ]
    },
    {
     "name": "stdout",
     "output_type": "stream",
     "text": [
      "Saved mask to: masks/16273_84600_86400_mask.csv\n",
      "record: 16273  from:  86400 to:  88200\n"
     ]
    },
    {
     "name": "stderr",
     "output_type": "stream",
     "text": [
      "Processing P: 100%|██████████| 1777/1777 [00:02<00:00, 661.28it/s]\n",
      "Processing QRS: 100%|██████████| 2784/2784 [00:00<00:00, 5070.02it/s]\n"
     ]
    },
    {
     "name": "stdout",
     "output_type": "stream",
     "text": [
      "Saved mask to: masks/16273_86400_88200_mask.csv\n",
      "record: 16273  from:  88200 to:  88704.0\n"
     ]
    },
    {
     "name": "stderr",
     "output_type": "stream",
     "text": [
      "Processing P: 100%|██████████| 32/32 [00:00<00:00, 1476.40it/s]\n",
      "Processing QRS: 100%|██████████| 54/54 [00:00<00:00, 8638.15it/s]\n"
     ]
    },
    {
     "name": "stdout",
     "output_type": "stream",
     "text": [
      "Saved mask to: masks/16273_88200_88704.0_mask.csv\n",
      "record: 16420  from:  0 to:  1800\n"
     ]
    },
    {
     "name": "stderr",
     "output_type": "stream",
     "text": [
      "Processing P: 100%|██████████| 2482/2482 [00:03<00:00, 697.60it/s]\n",
      "Processing QRS: 100%|██████████| 2500/2500 [00:00<00:00, 4415.38it/s]\n"
     ]
    },
    {
     "name": "stdout",
     "output_type": "stream",
     "text": [
      "Saved mask to: masks/16420_0_1800_mask.csv\n",
      "record: 16420  from:  1800 to:  3600\n"
     ]
    },
    {
     "name": "stderr",
     "output_type": "stream",
     "text": [
      "Processing P: 100%|██████████| 2257/2257 [00:03<00:00, 653.10it/s]\n",
      "Processing QRS: 100%|██████████| 2333/2333 [00:00<00:00, 4694.60it/s]\n"
     ]
    },
    {
     "name": "stdout",
     "output_type": "stream",
     "text": [
      "Saved mask to: masks/16420_1800_3600_mask.csv\n",
      "record: 16420  from:  3600 to:  5400\n"
     ]
    },
    {
     "name": "stderr",
     "output_type": "stream",
     "text": [
      "Processing P: 100%|██████████| 2430/2430 [00:03<00:00, 651.67it/s]\n",
      "Processing QRS: 100%|██████████| 2522/2522 [00:00<00:00, 3879.04it/s]\n"
     ]
    },
    {
     "name": "stdout",
     "output_type": "stream",
     "text": [
      "Saved mask to: masks/16420_3600_5400_mask.csv\n",
      "record: 16420  from:  5400 to:  7200\n"
     ]
    },
    {
     "name": "stderr",
     "output_type": "stream",
     "text": [
      "Processing P: 100%|██████████| 2510/2510 [00:03<00:00, 666.04it/s]\n",
      "Processing QRS: 100%|██████████| 2529/2529 [00:00<00:00, 4254.84it/s]\n"
     ]
    },
    {
     "name": "stdout",
     "output_type": "stream",
     "text": [
      "Saved mask to: masks/16420_5400_7200_mask.csv\n",
      "record: 16420  from:  7200 to:  9000\n"
     ]
    },
    {
     "name": "stderr",
     "output_type": "stream",
     "text": [
      "Processing P: 100%|██████████| 2381/2381 [00:03<00:00, 677.98it/s]\n",
      "Processing QRS: 100%|██████████| 2423/2423 [00:00<00:00, 4292.99it/s]\n"
     ]
    },
    {
     "name": "stdout",
     "output_type": "stream",
     "text": [
      "Saved mask to: masks/16420_7200_9000_mask.csv\n",
      "record: 16420  from:  9000 to:  10800\n"
     ]
    },
    {
     "name": "stderr",
     "output_type": "stream",
     "text": [
      "Processing P: 100%|██████████| 2426/2426 [00:03<00:00, 664.62it/s]\n",
      "Processing QRS: 100%|██████████| 2485/2485 [00:00<00:00, 4220.31it/s]\n"
     ]
    },
    {
     "name": "stdout",
     "output_type": "stream",
     "text": [
      "Saved mask to: masks/16420_9000_10800_mask.csv\n",
      "record: 16420  from:  10800 to:  12600\n"
     ]
    },
    {
     "name": "stderr",
     "output_type": "stream",
     "text": [
      "Processing P: 100%|██████████| 2330/2330 [00:03<00:00, 664.82it/s]\n",
      "Processing QRS: 100%|██████████| 2413/2413 [00:00<00:00, 4490.84it/s]\n"
     ]
    },
    {
     "name": "stdout",
     "output_type": "stream",
     "text": [
      "Saved mask to: masks/16420_10800_12600_mask.csv\n",
      "record: 16420  from:  12600 to:  14400\n"
     ]
    },
    {
     "name": "stderr",
     "output_type": "stream",
     "text": [
      "Processing P: 100%|██████████| 2576/2576 [00:03<00:00, 703.44it/s]\n",
      "Processing QRS: 100%|██████████| 2582/2582 [00:00<00:00, 4642.10it/s]\n"
     ]
    },
    {
     "name": "stdout",
     "output_type": "stream",
     "text": [
      "Saved mask to: masks/16420_12600_14400_mask.csv\n",
      "record: 16420  from:  14400 to:  16200\n"
     ]
    },
    {
     "name": "stderr",
     "output_type": "stream",
     "text": [
      "Processing P: 100%|██████████| 2959/2959 [00:04<00:00, 727.58it/s]\n",
      "Processing QRS: 100%|██████████| 3020/3020 [00:00<00:00, 4329.18it/s]\n"
     ]
    },
    {
     "name": "stdout",
     "output_type": "stream",
     "text": [
      "Saved mask to: masks/16420_14400_16200_mask.csv\n",
      "record: 16420  from:  16200 to:  18000\n"
     ]
    },
    {
     "name": "stderr",
     "output_type": "stream",
     "text": [
      "Processing P: 100%|██████████| 3110/3110 [00:04<00:00, 698.01it/s]\n",
      "Processing QRS: 100%|██████████| 3118/3118 [00:00<00:00, 4441.05it/s]\n"
     ]
    },
    {
     "name": "stdout",
     "output_type": "stream",
     "text": [
      "Saved mask to: masks/16420_16200_18000_mask.csv\n",
      "record: 16420  from:  18000 to:  19800\n"
     ]
    },
    {
     "name": "stderr",
     "output_type": "stream",
     "text": [
      "Processing P: 100%|██████████| 2568/2568 [00:03<00:00, 704.18it/s]\n",
      "Processing QRS: 100%|██████████| 2574/2574 [00:00<00:00, 4485.77it/s]\n"
     ]
    },
    {
     "name": "stdout",
     "output_type": "stream",
     "text": [
      "Saved mask to: masks/16420_18000_19800_mask.csv\n",
      "record: 16420  from:  19800 to:  21600\n"
     ]
    },
    {
     "name": "stderr",
     "output_type": "stream",
     "text": [
      "Processing P: 100%|██████████| 2594/2594 [00:03<00:00, 713.40it/s]\n",
      "Processing QRS: 100%|██████████| 2605/2605 [00:00<00:00, 4308.31it/s]\n"
     ]
    },
    {
     "name": "stdout",
     "output_type": "stream",
     "text": [
      "Saved mask to: masks/16420_19800_21600_mask.csv\n",
      "record: 16420  from:  21600 to:  23400\n"
     ]
    },
    {
     "name": "stderr",
     "output_type": "stream",
     "text": [
      "Processing P: 100%|██████████| 2583/2583 [00:03<00:00, 697.04it/s]\n",
      "Processing QRS: 100%|██████████| 2588/2588 [00:00<00:00, 4624.26it/s]\n"
     ]
    },
    {
     "name": "stdout",
     "output_type": "stream",
     "text": [
      "Saved mask to: masks/16420_21600_23400_mask.csv\n",
      "record: 16420  from:  23400 to:  25200\n"
     ]
    },
    {
     "name": "stderr",
     "output_type": "stream",
     "text": [
      "Processing P: 100%|██████████| 2528/2528 [00:03<00:00, 711.38it/s]\n",
      "Processing QRS: 100%|██████████| 2537/2537 [00:00<00:00, 4653.11it/s]\n"
     ]
    },
    {
     "name": "stdout",
     "output_type": "stream",
     "text": [
      "Saved mask to: masks/16420_23400_25200_mask.csv\n",
      "record: 16420  from:  25200 to:  27000\n"
     ]
    },
    {
     "name": "stderr",
     "output_type": "stream",
     "text": [
      "Processing P: 100%|██████████| 2476/2476 [00:03<00:00, 710.77it/s]\n",
      "Processing QRS: 100%|██████████| 2477/2477 [00:00<00:00, 4451.83it/s]\n"
     ]
    },
    {
     "name": "stdout",
     "output_type": "stream",
     "text": [
      "Saved mask to: masks/16420_25200_27000_mask.csv\n",
      "record: 16420  from:  27000 to:  28800\n"
     ]
    },
    {
     "name": "stderr",
     "output_type": "stream",
     "text": [
      "Processing P: 100%|██████████| 2522/2522 [00:03<00:00, 710.33it/s]\n",
      "Processing QRS: 100%|██████████| 2529/2529 [00:00<00:00, 4222.56it/s]\n"
     ]
    },
    {
     "name": "stdout",
     "output_type": "stream",
     "text": [
      "Saved mask to: masks/16420_27000_28800_mask.csv\n",
      "record: 16420  from:  28800 to:  30600\n"
     ]
    },
    {
     "name": "stderr",
     "output_type": "stream",
     "text": [
      "Processing P: 100%|██████████| 2701/2701 [00:03<00:00, 704.41it/s]\n",
      "Processing QRS: 100%|██████████| 2735/2735 [00:00<00:00, 4372.34it/s]\n"
     ]
    },
    {
     "name": "stdout",
     "output_type": "stream",
     "text": [
      "Saved mask to: masks/16420_28800_30600_mask.csv\n",
      "record: 16420  from:  30600 to:  32400\n"
     ]
    },
    {
     "name": "stderr",
     "output_type": "stream",
     "text": [
      "Processing P: 100%|██████████| 2624/2624 [00:03<00:00, 697.44it/s]\n",
      "Processing QRS: 100%|██████████| 2627/2627 [00:00<00:00, 4579.64it/s]\n"
     ]
    },
    {
     "name": "stdout",
     "output_type": "stream",
     "text": [
      "Saved mask to: masks/16420_30600_32400_mask.csv\n",
      "record: 16420  from:  32400 to:  34200\n"
     ]
    },
    {
     "name": "stderr",
     "output_type": "stream",
     "text": [
      "Processing P: 100%|██████████| 2724/2724 [00:04<00:00, 675.10it/s]\n",
      "Processing QRS: 100%|██████████| 2752/2752 [00:00<00:00, 4255.07it/s]\n"
     ]
    },
    {
     "name": "stdout",
     "output_type": "stream",
     "text": [
      "Saved mask to: masks/16420_32400_34200_mask.csv\n",
      "record: 16420  from:  34200 to:  36000\n"
     ]
    },
    {
     "name": "stderr",
     "output_type": "stream",
     "text": [
      "Processing P: 100%|██████████| 2449/2449 [00:03<00:00, 681.68it/s]\n",
      "Processing QRS: 100%|██████████| 2476/2476 [00:00<00:00, 4319.01it/s]\n"
     ]
    },
    {
     "name": "stdout",
     "output_type": "stream",
     "text": [
      "Saved mask to: masks/16420_34200_36000_mask.csv\n",
      "record: 16420  from:  36000 to:  37800\n"
     ]
    },
    {
     "name": "stderr",
     "output_type": "stream",
     "text": [
      "Processing P: 100%|██████████| 2406/2406 [00:03<00:00, 697.62it/s]\n",
      "Processing QRS: 100%|██████████| 2419/2419 [00:00<00:00, 4409.44it/s]\n"
     ]
    },
    {
     "name": "stdout",
     "output_type": "stream",
     "text": [
      "Saved mask to: masks/16420_36000_37800_mask.csv\n",
      "record: 16420  from:  37800 to:  39600\n"
     ]
    },
    {
     "name": "stderr",
     "output_type": "stream",
     "text": [
      "Processing P: 100%|██████████| 2293/2293 [00:03<00:00, 705.66it/s]\n",
      "Processing QRS: 100%|██████████| 2293/2293 [00:00<00:00, 4436.46it/s]\n"
     ]
    },
    {
     "name": "stdout",
     "output_type": "stream",
     "text": [
      "Saved mask to: masks/16420_37800_39600_mask.csv\n",
      "record: 16420  from:  39600 to:  41400\n"
     ]
    },
    {
     "name": "stderr",
     "output_type": "stream",
     "text": [
      "Processing P: 100%|██████████| 2269/2269 [00:03<00:00, 694.98it/s]\n",
      "Processing QRS: 100%|██████████| 2271/2271 [00:00<00:00, 4421.34it/s]\n"
     ]
    },
    {
     "name": "stdout",
     "output_type": "stream",
     "text": [
      "Saved mask to: masks/16420_39600_41400_mask.csv\n",
      "record: 16420  from:  41400 to:  43200\n"
     ]
    },
    {
     "name": "stderr",
     "output_type": "stream",
     "text": [
      "Processing P: 100%|██████████| 2167/2167 [00:03<00:00, 696.22it/s]\n",
      "Processing QRS: 100%|██████████| 2175/2175 [00:00<00:00, 4178.56it/s]\n"
     ]
    },
    {
     "name": "stdout",
     "output_type": "stream",
     "text": [
      "Saved mask to: masks/16420_41400_43200_mask.csv\n",
      "record: 16420  from:  43200 to:  45000\n"
     ]
    },
    {
     "name": "stderr",
     "output_type": "stream",
     "text": [
      "Processing P: 100%|██████████| 2118/2118 [00:03<00:00, 699.56it/s]\n",
      "Processing QRS: 100%|██████████| 2126/2126 [00:00<00:00, 4352.05it/s]\n"
     ]
    },
    {
     "name": "stdout",
     "output_type": "stream",
     "text": [
      "Saved mask to: masks/16420_43200_45000_mask.csv\n",
      "record: 16420  from:  45000 to:  46800\n"
     ]
    },
    {
     "name": "stderr",
     "output_type": "stream",
     "text": [
      "Processing P: 100%|██████████| 2149/2149 [00:03<00:00, 712.63it/s]\n",
      "Processing QRS: 100%|██████████| 2149/2149 [00:00<00:00, 4488.05it/s]\n"
     ]
    },
    {
     "name": "stdout",
     "output_type": "stream",
     "text": [
      "Saved mask to: masks/16420_45000_46800_mask.csv\n",
      "record: 16420  from:  46800 to:  48600\n"
     ]
    },
    {
     "name": "stderr",
     "output_type": "stream",
     "text": [
      "Processing P: 100%|██████████| 2028/2028 [00:02<00:00, 693.53it/s]\n",
      "Processing QRS: 100%|██████████| 2029/2029 [00:00<00:00, 4475.62it/s]\n"
     ]
    },
    {
     "name": "stdout",
     "output_type": "stream",
     "text": [
      "Saved mask to: masks/16420_46800_48600_mask.csv\n",
      "record: 16420  from:  48600 to:  50400\n"
     ]
    },
    {
     "name": "stderr",
     "output_type": "stream",
     "text": [
      "Processing P: 100%|██████████| 1983/1983 [00:02<00:00, 709.42it/s]\n",
      "Processing QRS: 100%|██████████| 1983/1983 [00:00<00:00, 4398.77it/s]\n"
     ]
    },
    {
     "name": "stdout",
     "output_type": "stream",
     "text": [
      "Saved mask to: masks/16420_48600_50400_mask.csv\n",
      "record: 16420  from:  50400 to:  52200\n"
     ]
    },
    {
     "name": "stderr",
     "output_type": "stream",
     "text": [
      "Processing P: 100%|██████████| 2115/2115 [00:02<00:00, 715.17it/s]\n",
      "Processing QRS: 100%|██████████| 2121/2121 [00:00<00:00, 4352.50it/s]\n"
     ]
    },
    {
     "name": "stdout",
     "output_type": "stream",
     "text": [
      "Saved mask to: masks/16420_50400_52200_mask.csv\n",
      "record: 16420  from:  52200 to:  54000\n"
     ]
    },
    {
     "name": "stderr",
     "output_type": "stream",
     "text": [
      "Processing P: 100%|██████████| 2217/2217 [00:03<00:00, 710.87it/s]\n",
      "Processing QRS: 100%|██████████| 2228/2228 [00:00<00:00, 4482.44it/s]\n"
     ]
    },
    {
     "name": "stdout",
     "output_type": "stream",
     "text": [
      "Saved mask to: masks/16420_52200_54000_mask.csv\n",
      "record: 16420  from:  54000 to:  55800\n"
     ]
    },
    {
     "name": "stderr",
     "output_type": "stream",
     "text": [
      "Processing P: 100%|██████████| 1992/1992 [00:02<00:00, 717.35it/s]\n",
      "Processing QRS: 100%|██████████| 1996/1996 [00:00<00:00, 4451.68it/s]\n"
     ]
    },
    {
     "name": "stdout",
     "output_type": "stream",
     "text": [
      "Saved mask to: masks/16420_54000_55800_mask.csv\n",
      "record: 16420  from:  55800 to:  57600\n"
     ]
    },
    {
     "name": "stderr",
     "output_type": "stream",
     "text": [
      "Processing P: 100%|██████████| 2117/2117 [00:02<00:00, 731.30it/s]\n",
      "Processing QRS: 100%|██████████| 2117/2117 [00:00<00:00, 4542.30it/s]\n"
     ]
    },
    {
     "name": "stdout",
     "output_type": "stream",
     "text": [
      "Saved mask to: masks/16420_55800_57600_mask.csv\n",
      "record: 16420  from:  57600 to:  59400\n"
     ]
    },
    {
     "name": "stderr",
     "output_type": "stream",
     "text": [
      "Processing P: 100%|██████████| 2135/2135 [00:03<00:00, 705.33it/s]\n",
      "Processing QRS: 100%|██████████| 2135/2135 [00:00<00:00, 4404.79it/s]\n"
     ]
    },
    {
     "name": "stdout",
     "output_type": "stream",
     "text": [
      "Saved mask to: masks/16420_57600_59400_mask.csv\n",
      "record: 16420  from:  59400 to:  61200\n"
     ]
    },
    {
     "name": "stderr",
     "output_type": "stream",
     "text": [
      "Processing P: 100%|██████████| 2193/2193 [00:03<00:00, 727.22it/s]\n",
      "Processing QRS: 100%|██████████| 2193/2193 [00:00<00:00, 4207.01it/s]\n"
     ]
    },
    {
     "name": "stdout",
     "output_type": "stream",
     "text": [
      "Saved mask to: masks/16420_59400_61200_mask.csv\n",
      "record: 16420  from:  61200 to:  63000\n"
     ]
    },
    {
     "name": "stderr",
     "output_type": "stream",
     "text": [
      "Processing P: 100%|██████████| 2161/2161 [00:03<00:00, 718.49it/s]\n",
      "Processing QRS: 100%|██████████| 2161/2161 [00:00<00:00, 4551.07it/s]\n"
     ]
    },
    {
     "name": "stdout",
     "output_type": "stream",
     "text": [
      "Saved mask to: masks/16420_61200_63000_mask.csv\n",
      "record: 16420  from:  63000 to:  64800\n"
     ]
    },
    {
     "name": "stderr",
     "output_type": "stream",
     "text": [
      "Processing P: 100%|██████████| 2099/2099 [00:02<00:00, 726.98it/s]\n",
      "Processing QRS: 100%|██████████| 2099/2099 [00:00<00:00, 4647.67it/s]\n"
     ]
    },
    {
     "name": "stdout",
     "output_type": "stream",
     "text": [
      "Saved mask to: masks/16420_63000_64800_mask.csv\n",
      "record: 16420  from:  64800 to:  66600\n"
     ]
    },
    {
     "name": "stderr",
     "output_type": "stream",
     "text": [
      "Processing P: 100%|██████████| 2196/2196 [00:03<00:00, 695.91it/s]\n",
      "Processing QRS: 100%|██████████| 2196/2196 [00:00<00:00, 4443.46it/s]\n"
     ]
    },
    {
     "name": "stdout",
     "output_type": "stream",
     "text": [
      "Saved mask to: masks/16420_64800_66600_mask.csv\n",
      "record: 16420  from:  66600 to:  68400\n"
     ]
    },
    {
     "name": "stderr",
     "output_type": "stream",
     "text": [
      "Processing P: 100%|██████████| 2309/2309 [00:03<00:00, 731.08it/s]\n",
      "Processing QRS: 100%|██████████| 2309/2309 [00:00<00:00, 4502.64it/s]\n"
     ]
    },
    {
     "name": "stdout",
     "output_type": "stream",
     "text": [
      "Saved mask to: masks/16420_66600_68400_mask.csv\n",
      "record: 16420  from:  68400 to:  70200\n"
     ]
    },
    {
     "name": "stderr",
     "output_type": "stream",
     "text": [
      "Processing P: 100%|██████████| 2093/2093 [00:02<00:00, 739.71it/s]\n",
      "Processing QRS: 100%|██████████| 2094/2094 [00:00<00:00, 4584.50it/s]\n"
     ]
    },
    {
     "name": "stdout",
     "output_type": "stream",
     "text": [
      "Saved mask to: masks/16420_68400_70200_mask.csv\n",
      "record: 16420  from:  70200 to:  72000\n"
     ]
    },
    {
     "name": "stderr",
     "output_type": "stream",
     "text": [
      "Processing P: 100%|██████████| 2156/2156 [00:02<00:00, 730.62it/s]\n",
      "Processing QRS: 100%|██████████| 2156/2156 [00:00<00:00, 4575.81it/s]\n"
     ]
    },
    {
     "name": "stdout",
     "output_type": "stream",
     "text": [
      "Saved mask to: masks/16420_70200_72000_mask.csv\n",
      "record: 16420  from:  72000 to:  73800\n"
     ]
    },
    {
     "name": "stderr",
     "output_type": "stream",
     "text": [
      "Processing P: 100%|██████████| 2213/2213 [00:02<00:00, 741.50it/s]\n",
      "Processing QRS: 100%|██████████| 2218/2218 [00:00<00:00, 4650.73it/s]\n"
     ]
    },
    {
     "name": "stdout",
     "output_type": "stream",
     "text": [
      "Saved mask to: masks/16420_72000_73800_mask.csv\n",
      "record: 16420  from:  73800 to:  75600\n"
     ]
    },
    {
     "name": "stderr",
     "output_type": "stream",
     "text": [
      "Processing P: 100%|██████████| 2144/2144 [00:02<00:00, 734.39it/s]\n",
      "Processing QRS: 100%|██████████| 2144/2144 [00:00<00:00, 4534.32it/s]\n"
     ]
    },
    {
     "name": "stdout",
     "output_type": "stream",
     "text": [
      "Saved mask to: masks/16420_73800_75600_mask.csv\n",
      "record: 16420  from:  75600 to:  77400\n"
     ]
    },
    {
     "name": "stderr",
     "output_type": "stream",
     "text": [
      "Processing P: 100%|██████████| 2279/2279 [00:03<00:00, 740.93it/s]\n",
      "Processing QRS: 100%|██████████| 2279/2279 [00:00<00:00, 4627.33it/s]\n"
     ]
    },
    {
     "name": "stdout",
     "output_type": "stream",
     "text": [
      "Saved mask to: masks/16420_75600_77400_mask.csv\n",
      "record: 16420  from:  77400 to:  79200\n"
     ]
    },
    {
     "name": "stderr",
     "output_type": "stream",
     "text": [
      "Processing P: 100%|██████████| 440/440 [00:00<00:00, 701.04it/s]\n",
      "Processing QRS: 100%|██████████| 458/458 [00:00<00:00, 10185.05it/s]\n"
     ]
    },
    {
     "name": "stdout",
     "output_type": "stream",
     "text": [
      "Saved mask to: masks/16420_77400_79200_mask.csv\n",
      "record: 16420  from:  79200 to:  81000\n"
     ]
    },
    {
     "name": "stderr",
     "output_type": "stream",
     "text": [
      "Processing P: 100%|██████████| 1799/1799 [00:02<00:00, 684.33it/s]\n",
      "Processing QRS: 100%|██████████| 2886/2886 [00:00<00:00, 5272.76it/s]\n"
     ]
    },
    {
     "name": "stdout",
     "output_type": "stream",
     "text": [
      "Saved mask to: masks/16420_79200_81000_mask.csv\n",
      "record: 16420  from:  81000 to:  82800\n"
     ]
    },
    {
     "name": "stderr",
     "output_type": "stream",
     "text": [
      "Processing P: 100%|██████████| 1836/1836 [00:02<00:00, 642.59it/s]\n",
      "Processing QRS: 100%|██████████| 2903/2903 [00:00<00:00, 4624.53it/s]\n"
     ]
    },
    {
     "name": "stdout",
     "output_type": "stream",
     "text": [
      "Saved mask to: masks/16420_81000_82800_mask.csv\n",
      "record: 16420  from:  82800 to:  84600\n"
     ]
    },
    {
     "name": "stderr",
     "output_type": "stream",
     "text": [
      "Processing P: 100%|██████████| 1845/1845 [00:02<00:00, 651.66it/s]\n",
      "Processing QRS: 100%|██████████| 2837/2837 [00:00<00:00, 4911.36it/s]\n"
     ]
    },
    {
     "name": "stdout",
     "output_type": "stream",
     "text": [
      "Saved mask to: masks/16420_82800_84600_mask.csv\n",
      "record: 16420  from:  84600 to:  86336.0\n"
     ]
    },
    {
     "name": "stderr",
     "output_type": "stream",
     "text": [
      "Processing P: 100%|██████████| 527/527 [00:00<00:00, 675.17it/s]\n",
      "Processing QRS: 100%|██████████| 322/322 [00:00<00:00, 7172.80it/s]\n"
     ]
    },
    {
     "name": "stdout",
     "output_type": "stream",
     "text": [
      "Saved mask to: masks/16420_84600_86336.0_mask.csv\n",
      "record: 16483  from:  0 to:  1800\n"
     ]
    },
    {
     "name": "stderr",
     "output_type": "stream",
     "text": [
      "Processing P: 100%|██████████| 2752/2752 [00:03<00:00, 717.60it/s]\n",
      "Processing QRS: 100%|██████████| 2756/2756 [00:00<00:00, 4385.92it/s]\n"
     ]
    },
    {
     "name": "stdout",
     "output_type": "stream",
     "text": [
      "Saved mask to: masks/16483_0_1800_mask.csv\n",
      "record: 16483  from:  1800 to:  3600\n"
     ]
    },
    {
     "name": "stderr",
     "output_type": "stream",
     "text": [
      "Processing P: 100%|██████████| 2919/2919 [00:04<00:00, 702.21it/s]\n",
      "Processing QRS: 100%|██████████| 2920/2920 [00:00<00:00, 4213.37it/s]\n"
     ]
    },
    {
     "name": "stdout",
     "output_type": "stream",
     "text": [
      "Saved mask to: masks/16483_1800_3600_mask.csv\n",
      "record: 16483  from:  3600 to:  5400\n"
     ]
    },
    {
     "name": "stderr",
     "output_type": "stream",
     "text": [
      "Processing P: 100%|██████████| 2749/2749 [00:03<00:00, 723.68it/s]\n",
      "Processing QRS: 100%|██████████| 2750/2750 [00:00<00:00, 4437.41it/s]\n"
     ]
    },
    {
     "name": "stdout",
     "output_type": "stream",
     "text": [
      "Saved mask to: masks/16483_3600_5400_mask.csv\n",
      "record: 16483  from:  5400 to:  7200\n"
     ]
    },
    {
     "name": "stderr",
     "output_type": "stream",
     "text": [
      "Processing P: 100%|██████████| 2792/2792 [00:03<00:00, 698.13it/s]\n",
      "Processing QRS: 100%|██████████| 2793/2793 [00:00<00:00, 4575.10it/s]\n"
     ]
    },
    {
     "name": "stdout",
     "output_type": "stream",
     "text": [
      "Saved mask to: masks/16483_5400_7200_mask.csv\n",
      "record: 16483  from:  7200 to:  9000\n"
     ]
    },
    {
     "name": "stderr",
     "output_type": "stream",
     "text": [
      "Processing P: 100%|██████████| 2861/2861 [00:03<00:00, 725.18it/s]\n",
      "Processing QRS: 100%|██████████| 2861/2861 [00:00<00:00, 4566.52it/s]\n"
     ]
    },
    {
     "name": "stdout",
     "output_type": "stream",
     "text": [
      "Saved mask to: masks/16483_7200_9000_mask.csv\n",
      "record: 16483  from:  9000 to:  10800\n"
     ]
    },
    {
     "name": "stderr",
     "output_type": "stream",
     "text": [
      "Processing P: 100%|██████████| 2771/2771 [00:03<00:00, 731.10it/s]\n",
      "Processing QRS: 100%|██████████| 2772/2772 [00:00<00:00, 4602.13it/s]\n"
     ]
    },
    {
     "name": "stdout",
     "output_type": "stream",
     "text": [
      "Saved mask to: masks/16483_9000_10800_mask.csv\n",
      "record: 16483  from:  10800 to:  12600\n"
     ]
    },
    {
     "name": "stderr",
     "output_type": "stream",
     "text": [
      "Processing P: 100%|██████████| 2799/2799 [00:03<00:00, 727.31it/s]\n",
      "Processing QRS: 100%|██████████| 2799/2799 [00:00<00:00, 4672.44it/s]\n"
     ]
    },
    {
     "name": "stdout",
     "output_type": "stream",
     "text": [
      "Saved mask to: masks/16483_10800_12600_mask.csv\n",
      "record: 16483  from:  12600 to:  14400\n"
     ]
    },
    {
     "name": "stderr",
     "output_type": "stream",
     "text": [
      "Processing P: 100%|██████████| 2838/2838 [00:03<00:00, 713.74it/s]\n",
      "Processing QRS: 100%|██████████| 2838/2838 [00:00<00:00, 4638.27it/s]\n"
     ]
    },
    {
     "name": "stdout",
     "output_type": "stream",
     "text": [
      "Saved mask to: masks/16483_12600_14400_mask.csv\n",
      "record: 16483  from:  14400 to:  16200\n"
     ]
    },
    {
     "name": "stderr",
     "output_type": "stream",
     "text": [
      "Processing P: 100%|██████████| 2825/2825 [00:04<00:00, 695.44it/s]\n",
      "Processing QRS: 100%|██████████| 2824/2824 [00:00<00:00, 4692.59it/s]\n"
     ]
    },
    {
     "name": "stdout",
     "output_type": "stream",
     "text": [
      "Saved mask to: masks/16483_14400_16200_mask.csv\n",
      "record: 16483  from:  16200 to:  18000\n"
     ]
    },
    {
     "name": "stderr",
     "output_type": "stream",
     "text": [
      "Processing P: 100%|██████████| 2538/2538 [00:03<00:00, 745.09it/s]\n",
      "Processing QRS: 100%|██████████| 2538/2538 [00:00<00:00, 4553.77it/s]\n"
     ]
    },
    {
     "name": "stdout",
     "output_type": "stream",
     "text": [
      "Saved mask to: masks/16483_16200_18000_mask.csv\n",
      "record: 16483  from:  18000 to:  19800\n"
     ]
    },
    {
     "name": "stderr",
     "output_type": "stream",
     "text": [
      "Processing P: 100%|██████████| 2525/2525 [00:03<00:00, 703.84it/s]\n",
      "Processing QRS: 100%|██████████| 2525/2525 [00:00<00:00, 4537.73it/s]\n"
     ]
    },
    {
     "name": "stdout",
     "output_type": "stream",
     "text": [
      "Saved mask to: masks/16483_18000_19800_mask.csv\n",
      "record: 16483  from:  19800 to:  21600\n"
     ]
    },
    {
     "name": "stderr",
     "output_type": "stream",
     "text": [
      "Processing P: 100%|██████████| 2633/2633 [00:03<00:00, 720.37it/s]\n",
      "Processing QRS: 100%|██████████| 2633/2633 [00:00<00:00, 4476.24it/s]\n"
     ]
    },
    {
     "name": "stdout",
     "output_type": "stream",
     "text": [
      "Saved mask to: masks/16483_19800_21600_mask.csv\n",
      "record: 16483  from:  21600 to:  23400\n"
     ]
    },
    {
     "name": "stderr",
     "output_type": "stream",
     "text": [
      "Processing P: 100%|██████████| 2609/2609 [00:03<00:00, 701.84it/s]\n",
      "Processing QRS: 100%|██████████| 2609/2609 [00:00<00:00, 4636.34it/s]\n"
     ]
    },
    {
     "name": "stdout",
     "output_type": "stream",
     "text": [
      "Saved mask to: masks/16483_21600_23400_mask.csv\n",
      "record: 16483  from:  23400 to:  25200\n"
     ]
    },
    {
     "name": "stderr",
     "output_type": "stream",
     "text": [
      "Processing P: 100%|██████████| 2497/2497 [00:03<00:00, 710.46it/s]\n",
      "Processing QRS: 100%|██████████| 2497/2497 [00:00<00:00, 4463.58it/s]\n"
     ]
    },
    {
     "name": "stdout",
     "output_type": "stream",
     "text": [
      "Saved mask to: masks/16483_23400_25200_mask.csv\n",
      "record: 16483  from:  25200 to:  27000\n"
     ]
    },
    {
     "name": "stderr",
     "output_type": "stream",
     "text": [
      "Processing P: 100%|██████████| 2742/2742 [00:03<00:00, 723.83it/s]\n",
      "Processing QRS: 100%|██████████| 2742/2742 [00:00<00:00, 4506.98it/s]\n"
     ]
    },
    {
     "name": "stdout",
     "output_type": "stream",
     "text": [
      "Saved mask to: masks/16483_25200_27000_mask.csv\n",
      "record: 16483  from:  27000 to:  28800\n"
     ]
    },
    {
     "name": "stderr",
     "output_type": "stream",
     "text": [
      "Processing P: 100%|██████████| 2815/2815 [00:03<00:00, 729.76it/s]\n",
      "Processing QRS: 100%|██████████| 2816/2816 [00:00<00:00, 4486.88it/s]\n"
     ]
    },
    {
     "name": "stdout",
     "output_type": "stream",
     "text": [
      "Saved mask to: masks/16483_27000_28800_mask.csv\n",
      "record: 16483  from:  28800 to:  30600\n"
     ]
    },
    {
     "name": "stderr",
     "output_type": "stream",
     "text": [
      "Processing P: 100%|██████████| 2776/2776 [00:03<00:00, 741.83it/s]\n",
      "Processing QRS: 100%|██████████| 2776/2776 [00:00<00:00, 4575.77it/s]\n"
     ]
    },
    {
     "name": "stdout",
     "output_type": "stream",
     "text": [
      "Saved mask to: masks/16483_28800_30600_mask.csv\n",
      "record: 16483  from:  30600 to:  32400\n"
     ]
    },
    {
     "name": "stderr",
     "output_type": "stream",
     "text": [
      "Processing P: 100%|██████████| 2533/2533 [00:03<00:00, 710.43it/s]\n",
      "Processing QRS: 100%|██████████| 2534/2534 [00:00<00:00, 4561.87it/s]\n"
     ]
    },
    {
     "name": "stdout",
     "output_type": "stream",
     "text": [
      "Saved mask to: masks/16483_30600_32400_mask.csv\n",
      "record: 16483  from:  32400 to:  34200\n"
     ]
    },
    {
     "name": "stderr",
     "output_type": "stream",
     "text": [
      "Processing P: 100%|██████████| 2606/2606 [00:03<00:00, 729.57it/s]\n",
      "Processing QRS: 100%|██████████| 2607/2607 [00:00<00:00, 4666.23it/s]\n"
     ]
    },
    {
     "name": "stdout",
     "output_type": "stream",
     "text": [
      "Saved mask to: masks/16483_32400_34200_mask.csv\n",
      "record: 16483  from:  34200 to:  36000\n"
     ]
    },
    {
     "name": "stderr",
     "output_type": "stream",
     "text": [
      "Processing P: 100%|██████████| 2431/2431 [00:03<00:00, 723.45it/s]\n",
      "Processing QRS: 100%|██████████| 2431/2431 [00:00<00:00, 4621.23it/s]\n"
     ]
    },
    {
     "name": "stdout",
     "output_type": "stream",
     "text": [
      "Saved mask to: masks/16483_34200_36000_mask.csv\n",
      "record: 16483  from:  36000 to:  37800\n"
     ]
    },
    {
     "name": "stderr",
     "output_type": "stream",
     "text": [
      "Processing P: 100%|██████████| 2520/2520 [00:03<00:00, 736.34it/s]\n",
      "Processing QRS: 100%|██████████| 2525/2525 [00:00<00:00, 4548.12it/s]\n"
     ]
    },
    {
     "name": "stdout",
     "output_type": "stream",
     "text": [
      "Saved mask to: masks/16483_36000_37800_mask.csv\n",
      "record: 16483  from:  37800 to:  39600\n"
     ]
    },
    {
     "name": "stderr",
     "output_type": "stream",
     "text": [
      "Processing P: 100%|██████████| 2419/2419 [00:03<00:00, 732.95it/s]\n",
      "Processing QRS: 100%|██████████| 2419/2419 [00:00<00:00, 4537.16it/s]\n"
     ]
    },
    {
     "name": "stdout",
     "output_type": "stream",
     "text": [
      "Saved mask to: masks/16483_37800_39600_mask.csv\n",
      "record: 16483  from:  39600 to:  41400\n"
     ]
    },
    {
     "name": "stderr",
     "output_type": "stream",
     "text": [
      "Processing P: 100%|██████████| 2577/2577 [00:03<00:00, 725.51it/s]\n",
      "Processing QRS: 100%|██████████| 2577/2577 [00:00<00:00, 4612.60it/s]\n"
     ]
    },
    {
     "name": "stdout",
     "output_type": "stream",
     "text": [
      "Saved mask to: masks/16483_39600_41400_mask.csv\n",
      "record: 16483  from:  41400 to:  43200\n"
     ]
    },
    {
     "name": "stderr",
     "output_type": "stream",
     "text": [
      "Processing P: 100%|██████████| 2316/2316 [00:03<00:00, 742.97it/s]\n",
      "Processing QRS: 100%|██████████| 2316/2316 [00:00<00:00, 4644.32it/s]\n"
     ]
    },
    {
     "name": "stdout",
     "output_type": "stream",
     "text": [
      "Saved mask to: masks/16483_41400_43200_mask.csv\n",
      "record: 16483  from:  43200 to:  45000\n"
     ]
    },
    {
     "name": "stderr",
     "output_type": "stream",
     "text": [
      "Processing P: 100%|██████████| 2275/2275 [00:03<00:00, 744.20it/s]\n",
      "Processing QRS: 100%|██████████| 2276/2276 [00:00<00:00, 4537.14it/s]\n"
     ]
    },
    {
     "name": "stdout",
     "output_type": "stream",
     "text": [
      "Saved mask to: masks/16483_43200_45000_mask.csv\n",
      "record: 16483  from:  45000 to:  46800\n"
     ]
    },
    {
     "name": "stderr",
     "output_type": "stream",
     "text": [
      "Processing P: 100%|██████████| 2400/2400 [00:03<00:00, 721.15it/s]\n",
      "Processing QRS: 100%|██████████| 2401/2401 [00:00<00:00, 4508.14it/s]\n"
     ]
    },
    {
     "name": "stdout",
     "output_type": "stream",
     "text": [
      "Saved mask to: masks/16483_45000_46800_mask.csv\n",
      "record: 16483  from:  46800 to:  48600\n"
     ]
    },
    {
     "name": "stderr",
     "output_type": "stream",
     "text": [
      "Processing P: 100%|██████████| 2187/2187 [00:02<00:00, 737.91it/s]\n",
      "Processing QRS: 100%|██████████| 2188/2188 [00:00<00:00, 4505.83it/s]\n"
     ]
    },
    {
     "name": "stdout",
     "output_type": "stream",
     "text": [
      "Saved mask to: masks/16483_46800_48600_mask.csv\n",
      "record: 16483  from:  48600 to:  50400\n"
     ]
    },
    {
     "name": "stderr",
     "output_type": "stream",
     "text": [
      "Processing P: 100%|██████████| 2191/2191 [00:03<00:00, 725.70it/s]\n",
      "Processing QRS: 100%|██████████| 2191/2191 [00:00<00:00, 4510.34it/s]\n"
     ]
    },
    {
     "name": "stdout",
     "output_type": "stream",
     "text": [
      "Saved mask to: masks/16483_48600_50400_mask.csv\n",
      "record: 16483  from:  50400 to:  52200\n"
     ]
    },
    {
     "name": "stderr",
     "output_type": "stream",
     "text": [
      "Processing P: 100%|██████████| 2214/2214 [00:03<00:00, 734.93it/s]\n",
      "Processing QRS: 100%|██████████| 2215/2215 [00:00<00:00, 4467.79it/s]\n"
     ]
    },
    {
     "name": "stdout",
     "output_type": "stream",
     "text": [
      "Saved mask to: masks/16483_50400_52200_mask.csv\n",
      "record: 16483  from:  52200 to:  54000\n"
     ]
    },
    {
     "name": "stderr",
     "output_type": "stream",
     "text": [
      "Processing P: 100%|██████████| 2167/2167 [00:02<00:00, 729.92it/s]\n",
      "Processing QRS: 100%|██████████| 2168/2168 [00:00<00:00, 4532.91it/s]\n"
     ]
    },
    {
     "name": "stdout",
     "output_type": "stream",
     "text": [
      "Saved mask to: masks/16483_52200_54000_mask.csv\n",
      "record: 16483  from:  54000 to:  55800\n"
     ]
    },
    {
     "name": "stderr",
     "output_type": "stream",
     "text": [
      "Processing P: 100%|██████████| 2179/2179 [00:02<00:00, 734.37it/s]\n",
      "Processing QRS: 100%|██████████| 2182/2182 [00:00<00:00, 4152.44it/s]\n"
     ]
    },
    {
     "name": "stdout",
     "output_type": "stream",
     "text": [
      "Saved mask to: masks/16483_54000_55800_mask.csv\n",
      "record: 16483  from:  55800 to:  57600\n"
     ]
    },
    {
     "name": "stderr",
     "output_type": "stream",
     "text": [
      "Processing P: 100%|██████████| 2258/2258 [00:03<00:00, 710.82it/s]\n",
      "Processing QRS: 100%|██████████| 2258/2258 [00:00<00:00, 4358.96it/s]\n"
     ]
    },
    {
     "name": "stdout",
     "output_type": "stream",
     "text": [
      "Saved mask to: masks/16483_55800_57600_mask.csv\n",
      "record: 16483  from:  57600 to:  59400\n"
     ]
    },
    {
     "name": "stderr",
     "output_type": "stream",
     "text": [
      "Processing P: 100%|██████████| 2250/2250 [00:03<00:00, 712.85it/s]\n",
      "Processing QRS: 100%|██████████| 2250/2250 [00:00<00:00, 4337.93it/s]\n"
     ]
    },
    {
     "name": "stdout",
     "output_type": "stream",
     "text": [
      "Saved mask to: masks/16483_57600_59400_mask.csv\n",
      "record: 16483  from:  59400 to:  61200\n"
     ]
    },
    {
     "name": "stderr",
     "output_type": "stream",
     "text": [
      "Processing P: 100%|██████████| 2235/2235 [00:03<00:00, 727.23it/s]\n",
      "Processing QRS: 100%|██████████| 2236/2236 [00:00<00:00, 4411.03it/s]\n"
     ]
    },
    {
     "name": "stdout",
     "output_type": "stream",
     "text": [
      "Saved mask to: masks/16483_59400_61200_mask.csv\n",
      "record: 16483  from:  61200 to:  63000\n"
     ]
    },
    {
     "name": "stderr",
     "output_type": "stream",
     "text": [
      "Processing P: 100%|██████████| 2164/2164 [00:02<00:00, 731.99it/s]\n",
      "Processing QRS: 100%|██████████| 2164/2164 [00:00<00:00, 4537.81it/s]\n"
     ]
    },
    {
     "name": "stdout",
     "output_type": "stream",
     "text": [
      "Saved mask to: masks/16483_61200_63000_mask.csv\n",
      "record: 16483  from:  63000 to:  64800\n"
     ]
    },
    {
     "name": "stderr",
     "output_type": "stream",
     "text": [
      "Processing P: 100%|██████████| 2194/2194 [00:03<00:00, 722.52it/s]\n",
      "Processing QRS: 100%|██████████| 2194/2194 [00:00<00:00, 4225.54it/s]\n"
     ]
    },
    {
     "name": "stdout",
     "output_type": "stream",
     "text": [
      "Saved mask to: masks/16483_63000_64800_mask.csv\n",
      "record: 16483  from:  64800 to:  66600\n"
     ]
    },
    {
     "name": "stderr",
     "output_type": "stream",
     "text": [
      "Processing P: 100%|██████████| 2222/2222 [00:03<00:00, 721.88it/s]\n",
      "Processing QRS: 100%|██████████| 2223/2223 [00:00<00:00, 4473.67it/s]\n"
     ]
    },
    {
     "name": "stdout",
     "output_type": "stream",
     "text": [
      "Saved mask to: masks/16483_64800_66600_mask.csv\n",
      "record: 16483  from:  66600 to:  68400\n"
     ]
    },
    {
     "name": "stderr",
     "output_type": "stream",
     "text": [
      "Processing P: 100%|██████████| 2191/2191 [00:03<00:00, 726.27it/s]\n",
      "Processing QRS: 100%|██████████| 2191/2191 [00:00<00:00, 4376.41it/s]\n"
     ]
    },
    {
     "name": "stdout",
     "output_type": "stream",
     "text": [
      "Saved mask to: masks/16483_66600_68400_mask.csv\n",
      "record: 16483  from:  68400 to:  70200\n"
     ]
    },
    {
     "name": "stderr",
     "output_type": "stream",
     "text": [
      "Processing P: 100%|██████████| 2128/2128 [00:02<00:00, 709.86it/s]\n",
      "Processing QRS: 100%|██████████| 2128/2128 [00:00<00:00, 4427.16it/s]\n"
     ]
    },
    {
     "name": "stdout",
     "output_type": "stream",
     "text": [
      "Saved mask to: masks/16483_68400_70200_mask.csv\n",
      "record: 16483  from:  70200 to:  72000\n"
     ]
    },
    {
     "name": "stderr",
     "output_type": "stream",
     "text": [
      "Processing P: 100%|██████████| 2170/2170 [00:03<00:00, 715.11it/s]\n",
      "Processing QRS: 100%|██████████| 2171/2171 [00:00<00:00, 4380.54it/s]\n"
     ]
    },
    {
     "name": "stdout",
     "output_type": "stream",
     "text": [
      "Saved mask to: masks/16483_70200_72000_mask.csv\n",
      "record: 16483  from:  72000 to:  73800\n"
     ]
    },
    {
     "name": "stderr",
     "output_type": "stream",
     "text": [
      "Processing P: 100%|██████████| 2122/2122 [00:02<00:00, 720.18it/s]\n",
      "Processing QRS: 100%|██████████| 2123/2123 [00:00<00:00, 4583.19it/s]\n"
     ]
    },
    {
     "name": "stdout",
     "output_type": "stream",
     "text": [
      "Saved mask to: masks/16483_72000_73800_mask.csv\n",
      "record: 16483  from:  73800 to:  75600\n"
     ]
    },
    {
     "name": "stderr",
     "output_type": "stream",
     "text": [
      "Processing P: 100%|██████████| 2248/2248 [00:03<00:00, 704.82it/s]\n",
      "Processing QRS: 100%|██████████| 2248/2248 [00:00<00:00, 4474.81it/s]\n"
     ]
    },
    {
     "name": "stdout",
     "output_type": "stream",
     "text": [
      "Saved mask to: masks/16483_73800_75600_mask.csv\n",
      "record: 16483  from:  75600 to:  77400\n"
     ]
    },
    {
     "name": "stderr",
     "output_type": "stream",
     "text": [
      "Processing P: 100%|██████████| 662/662 [00:00<00:00, 699.48it/s]\n",
      "Processing QRS: 100%|██████████| 671/671 [00:00<00:00, 8308.08it/s]\n"
     ]
    },
    {
     "name": "stdout",
     "output_type": "stream",
     "text": [
      "Saved mask to: masks/16483_75600_77400_mask.csv\n",
      "record: 16483  from:  77400 to:  79200\n"
     ]
    },
    {
     "name": "stderr",
     "output_type": "stream",
     "text": [
      "Processing P: 100%|██████████| 1804/1804 [00:02<00:00, 675.05it/s]\n",
      "Processing QRS: 100%|██████████| 2832/2832 [00:00<00:00, 5090.26it/s]\n"
     ]
    },
    {
     "name": "stdout",
     "output_type": "stream",
     "text": [
      "Saved mask to: masks/16483_77400_79200_mask.csv\n",
      "record: 16483  from:  79200 to:  81000\n"
     ]
    },
    {
     "name": "stderr",
     "output_type": "stream",
     "text": [
      "Processing P: 100%|██████████| 1840/1840 [00:02<00:00, 683.99it/s]\n",
      "Processing QRS: 100%|██████████| 2797/2797 [00:00<00:00, 5059.78it/s]\n"
     ]
    },
    {
     "name": "stdout",
     "output_type": "stream",
     "text": [
      "Saved mask to: masks/16483_79200_81000_mask.csv\n",
      "record: 16483  from:  81000 to:  82800\n"
     ]
    },
    {
     "name": "stderr",
     "output_type": "stream",
     "text": [
      "Processing P: 100%|██████████| 1813/1813 [00:02<00:00, 681.88it/s]\n",
      "Processing QRS: 100%|██████████| 2824/2824 [00:00<00:00, 5165.32it/s]\n"
     ]
    },
    {
     "name": "stdout",
     "output_type": "stream",
     "text": [
      "Saved mask to: masks/16483_81000_82800_mask.csv\n",
      "record: 16483  from:  82800 to:  84600\n"
     ]
    },
    {
     "name": "stderr",
     "output_type": "stream",
     "text": [
      "Processing P: 100%|██████████| 1810/1810 [00:02<00:00, 683.19it/s]\n",
      "Processing QRS: 100%|██████████| 2845/2845 [00:00<00:00, 5236.40it/s]\n"
     ]
    },
    {
     "name": "stdout",
     "output_type": "stream",
     "text": [
      "Saved mask to: masks/16483_82800_84600_mask.csv\n",
      "record: 16483  from:  84600 to:  86400\n"
     ]
    },
    {
     "name": "stderr",
     "output_type": "stream",
     "text": [
      "Processing P: 100%|██████████| 1776/1776 [00:02<00:00, 691.56it/s]\n",
      "Processing QRS: 100%|██████████| 2766/2766 [00:00<00:00, 4896.23it/s]\n"
     ]
    },
    {
     "name": "stdout",
     "output_type": "stream",
     "text": [
      "Saved mask to: masks/16483_84600_86400_mask.csv\n",
      "record: 16483  from:  86400 to:  88200\n"
     ]
    },
    {
     "name": "stderr",
     "output_type": "stream",
     "text": [
      "Processing P: 100%|██████████| 1790/1790 [00:02<00:00, 681.27it/s]\n",
      "Processing QRS: 100%|██████████| 2820/2820 [00:00<00:00, 5171.18it/s]\n"
     ]
    },
    {
     "name": "stdout",
     "output_type": "stream",
     "text": [
      "Saved mask to: masks/16483_86400_88200_mask.csv\n",
      "record: 16483  from:  88200 to:  90000\n"
     ]
    },
    {
     "name": "stderr",
     "output_type": "stream",
     "text": [
      "Processing P: 100%|██████████| 1810/1810 [00:02<00:00, 649.28it/s]\n",
      "Processing QRS: 100%|██████████| 2800/2800 [00:00<00:00, 5179.69it/s]\n"
     ]
    },
    {
     "name": "stdout",
     "output_type": "stream",
     "text": [
      "Saved mask to: masks/16483_88200_90000_mask.csv\n",
      "record: 16483  from:  90000 to:  91800\n"
     ]
    },
    {
     "name": "stderr",
     "output_type": "stream",
     "text": [
      "Processing P: 100%|██████████| 1811/1811 [00:02<00:00, 696.77it/s]\n",
      "Processing QRS: 100%|██████████| 2779/2779 [00:00<00:00, 5182.84it/s]\n"
     ]
    },
    {
     "name": "stdout",
     "output_type": "stream",
     "text": [
      "Saved mask to: masks/16483_90000_91800_mask.csv\n",
      "record: 16483  from:  91800 to:  93440.0\n"
     ]
    },
    {
     "name": "stderr",
     "output_type": "stream",
     "text": [
      "Processing P: 100%|██████████| 1671/1671 [00:02<00:00, 715.61it/s]\n",
      "Processing QRS: 100%|██████████| 2604/2604 [00:00<00:00, 5158.61it/s]\n"
     ]
    },
    {
     "name": "stdout",
     "output_type": "stream",
     "text": [
      "Saved mask to: masks/16483_91800_93440.0_mask.csv\n",
      "record: 16539  from:  0 to:  1800\n"
     ]
    },
    {
     "name": "stderr",
     "output_type": "stream",
     "text": [
      "Processing P: 100%|██████████| 2628/2628 [00:03<00:00, 725.11it/s]\n",
      "Processing QRS: 100%|██████████| 2631/2631 [00:00<00:00, 4053.75it/s]\n"
     ]
    },
    {
     "name": "stdout",
     "output_type": "stream",
     "text": [
      "Saved mask to: masks/16539_0_1800_mask.csv\n",
      "record: 16539  from:  1800 to:  3600\n"
     ]
    },
    {
     "name": "stderr",
     "output_type": "stream",
     "text": [
      "Processing P: 100%|██████████| 2129/2129 [00:02<00:00, 710.19it/s]\n",
      "Processing QRS: 100%|██████████| 2129/2129 [00:00<00:00, 4658.19it/s]\n"
     ]
    },
    {
     "name": "stdout",
     "output_type": "stream",
     "text": [
      "Saved mask to: masks/16539_1800_3600_mask.csv\n",
      "record: 16539  from:  3600 to:  5400\n"
     ]
    },
    {
     "name": "stderr",
     "output_type": "stream",
     "text": [
      "Processing P: 100%|██████████| 1785/1785 [00:02<00:00, 705.64it/s]\n",
      "Processing QRS: 100%|██████████| 1786/1786 [00:00<00:00, 4272.02it/s]\n"
     ]
    },
    {
     "name": "stdout",
     "output_type": "stream",
     "text": [
      "Saved mask to: masks/16539_3600_5400_mask.csv\n",
      "record: 16539  from:  5400 to:  7200\n"
     ]
    },
    {
     "name": "stderr",
     "output_type": "stream",
     "text": [
      "Processing P: 100%|██████████| 1837/1837 [00:02<00:00, 708.42it/s]\n",
      "Processing QRS: 100%|██████████| 1837/1837 [00:00<00:00, 4430.45it/s]\n"
     ]
    },
    {
     "name": "stdout",
     "output_type": "stream",
     "text": [
      "Saved mask to: masks/16539_5400_7200_mask.csv\n",
      "record: 16539  from:  7200 to:  9000\n"
     ]
    },
    {
     "name": "stderr",
     "output_type": "stream",
     "text": [
      "Processing P: 100%|██████████| 2162/2162 [00:03<00:00, 711.16it/s]\n",
      "Processing QRS: 100%|██████████| 2164/2164 [00:00<00:00, 4105.33it/s]\n"
     ]
    },
    {
     "name": "stdout",
     "output_type": "stream",
     "text": [
      "Saved mask to: masks/16539_7200_9000_mask.csv\n",
      "record: 16539  from:  9000 to:  10800\n"
     ]
    },
    {
     "name": "stderr",
     "output_type": "stream",
     "text": [
      "Processing P: 100%|██████████| 2670/2670 [00:03<00:00, 700.36it/s]\n",
      "Processing QRS: 100%|██████████| 2679/2679 [00:00<00:00, 4344.92it/s]\n"
     ]
    },
    {
     "name": "stdout",
     "output_type": "stream",
     "text": [
      "Saved mask to: masks/16539_9000_10800_mask.csv\n",
      "record: 16539  from:  10800 to:  12600\n"
     ]
    },
    {
     "name": "stderr",
     "output_type": "stream",
     "text": [
      "Processing P: 100%|██████████| 2467/2467 [00:03<00:00, 705.26it/s]\n",
      "Processing QRS: 100%|██████████| 2470/2470 [00:00<00:00, 4516.66it/s]\n"
     ]
    },
    {
     "name": "stdout",
     "output_type": "stream",
     "text": [
      "Saved mask to: masks/16539_10800_12600_mask.csv\n",
      "record: 16539  from:  12600 to:  14400\n"
     ]
    },
    {
     "name": "stderr",
     "output_type": "stream",
     "text": [
      "Processing P: 100%|██████████| 2291/2291 [00:03<00:00, 700.07it/s]\n",
      "Processing QRS: 100%|██████████| 2292/2292 [00:00<00:00, 4381.11it/s]\n"
     ]
    },
    {
     "name": "stdout",
     "output_type": "stream",
     "text": [
      "Saved mask to: masks/16539_12600_14400_mask.csv\n",
      "record: 16539  from:  14400 to:  16200\n"
     ]
    },
    {
     "name": "stderr",
     "output_type": "stream",
     "text": [
      "Processing P: 100%|██████████| 2412/2412 [00:03<00:00, 701.19it/s]\n",
      "Processing QRS: 100%|██████████| 2416/2416 [00:00<00:00, 4231.55it/s]\n"
     ]
    },
    {
     "name": "stdout",
     "output_type": "stream",
     "text": [
      "Saved mask to: masks/16539_14400_16200_mask.csv\n",
      "record: 16539  from:  16200 to:  18000\n"
     ]
    },
    {
     "name": "stderr",
     "output_type": "stream",
     "text": [
      "Processing P: 100%|██████████| 3092/3092 [00:04<00:00, 703.40it/s]\n",
      "Processing QRS: 100%|██████████| 3103/3103 [00:00<00:00, 4526.81it/s]\n"
     ]
    },
    {
     "name": "stdout",
     "output_type": "stream",
     "text": [
      "Saved mask to: masks/16539_16200_18000_mask.csv\n",
      "record: 16539  from:  18000 to:  19800\n"
     ]
    },
    {
     "name": "stderr",
     "output_type": "stream",
     "text": [
      "Processing P: 100%|██████████| 2730/2730 [00:03<00:00, 689.44it/s]\n",
      "Processing QRS: 100%|██████████| 2735/2735 [00:00<00:00, 4549.61it/s]\n"
     ]
    },
    {
     "name": "stdout",
     "output_type": "stream",
     "text": [
      "Saved mask to: masks/16539_18000_19800_mask.csv\n",
      "record: 16539  from:  19800 to:  21600\n"
     ]
    },
    {
     "name": "stderr",
     "output_type": "stream",
     "text": [
      "Processing P: 100%|██████████| 2583/2583 [00:03<00:00, 707.70it/s]\n",
      "Processing QRS: 100%|██████████| 2584/2584 [00:00<00:00, 4354.48it/s]\n"
     ]
    },
    {
     "name": "stdout",
     "output_type": "stream",
     "text": [
      "Saved mask to: masks/16539_19800_21600_mask.csv\n",
      "record: 16539  from:  21600 to:  23400\n"
     ]
    },
    {
     "name": "stderr",
     "output_type": "stream",
     "text": [
      "Processing P: 100%|██████████| 2611/2611 [00:03<00:00, 710.28it/s]\n",
      "Processing QRS: 100%|██████████| 2614/2614 [00:00<00:00, 4430.44it/s]\n"
     ]
    },
    {
     "name": "stdout",
     "output_type": "stream",
     "text": [
      "Saved mask to: masks/16539_21600_23400_mask.csv\n",
      "record: 16539  from:  23400 to:  25200\n"
     ]
    },
    {
     "name": "stderr",
     "output_type": "stream",
     "text": [
      "Processing P: 100%|██████████| 2666/2666 [00:03<00:00, 709.83it/s]\n",
      "Processing QRS: 100%|██████████| 2676/2676 [00:00<00:00, 4338.02it/s]\n"
     ]
    },
    {
     "name": "stdout",
     "output_type": "stream",
     "text": [
      "Saved mask to: masks/16539_23400_25200_mask.csv\n",
      "record: 16539  from:  25200 to:  27000\n"
     ]
    },
    {
     "name": "stderr",
     "output_type": "stream",
     "text": [
      "Processing P: 100%|██████████| 2661/2661 [00:03<00:00, 706.21it/s]\n",
      "Processing QRS: 100%|██████████| 2668/2668 [00:00<00:00, 4380.25it/s]\n"
     ]
    },
    {
     "name": "stdout",
     "output_type": "stream",
     "text": [
      "Saved mask to: masks/16539_25200_27000_mask.csv\n",
      "record: 16539  from:  27000 to:  28800\n"
     ]
    },
    {
     "name": "stderr",
     "output_type": "stream",
     "text": [
      "Processing P: 100%|██████████| 2697/2697 [00:03<00:00, 719.54it/s]\n",
      "Processing QRS: 100%|██████████| 2703/2703 [00:00<00:00, 4393.48it/s]\n"
     ]
    },
    {
     "name": "stdout",
     "output_type": "stream",
     "text": [
      "Saved mask to: masks/16539_27000_28800_mask.csv\n",
      "record: 16539  from:  28800 to:  30600\n"
     ]
    },
    {
     "name": "stderr",
     "output_type": "stream",
     "text": [
      "Processing P: 100%|██████████| 2396/2396 [00:03<00:00, 715.96it/s]\n",
      "Processing QRS: 100%|██████████| 2398/2398 [00:00<00:00, 4601.66it/s]\n"
     ]
    },
    {
     "name": "stdout",
     "output_type": "stream",
     "text": [
      "Saved mask to: masks/16539_28800_30600_mask.csv\n",
      "record: 16539  from:  30600 to:  32400\n"
     ]
    },
    {
     "name": "stderr",
     "output_type": "stream",
     "text": [
      "Processing P: 100%|██████████| 2187/2187 [00:03<00:00, 711.46it/s]\n",
      "Processing QRS: 100%|██████████| 2190/2190 [00:00<00:00, 4362.38it/s]\n"
     ]
    },
    {
     "name": "stdout",
     "output_type": "stream",
     "text": [
      "Saved mask to: masks/16539_30600_32400_mask.csv\n",
      "record: 16539  from:  32400 to:  34200\n"
     ]
    },
    {
     "name": "stderr",
     "output_type": "stream",
     "text": [
      "Processing P: 100%|██████████| 2367/2367 [00:03<00:00, 706.54it/s]\n",
      "Processing QRS: 100%|██████████| 2376/2376 [00:00<00:00, 4161.60it/s]\n"
     ]
    },
    {
     "name": "stdout",
     "output_type": "stream",
     "text": [
      "Saved mask to: masks/16539_32400_34200_mask.csv\n",
      "record: 16539  from:  34200 to:  36000\n"
     ]
    },
    {
     "name": "stderr",
     "output_type": "stream",
     "text": [
      "Processing P: 100%|██████████| 2311/2311 [00:03<00:00, 691.33it/s]\n",
      "Processing QRS: 100%|██████████| 2315/2315 [00:00<00:00, 4390.91it/s]\n"
     ]
    },
    {
     "name": "stdout",
     "output_type": "stream",
     "text": [
      "Saved mask to: masks/16539_34200_36000_mask.csv\n",
      "record: 16539  from:  36000 to:  37800\n"
     ]
    },
    {
     "name": "stderr",
     "output_type": "stream",
     "text": [
      "Processing P: 100%|██████████| 2377/2377 [00:03<00:00, 705.08it/s]\n",
      "Processing QRS: 100%|██████████| 2380/2380 [00:00<00:00, 4368.34it/s]\n"
     ]
    },
    {
     "name": "stdout",
     "output_type": "stream",
     "text": [
      "Saved mask to: masks/16539_36000_37800_mask.csv\n",
      "record: 16539  from:  37800 to:  39600\n"
     ]
    },
    {
     "name": "stderr",
     "output_type": "stream",
     "text": [
      "Processing P: 100%|██████████| 2309/2309 [00:03<00:00, 696.42it/s]\n",
      "Processing QRS: 100%|██████████| 2311/2311 [00:00<00:00, 4355.08it/s]\n"
     ]
    },
    {
     "name": "stdout",
     "output_type": "stream",
     "text": [
      "Saved mask to: masks/16539_37800_39600_mask.csv\n",
      "record: 16539  from:  39600 to:  41400\n"
     ]
    },
    {
     "name": "stderr",
     "output_type": "stream",
     "text": [
      "Processing P: 100%|██████████| 2655/2655 [00:03<00:00, 713.43it/s]\n",
      "Processing QRS: 100%|██████████| 2660/2660 [00:00<00:00, 4230.63it/s]\n"
     ]
    },
    {
     "name": "stdout",
     "output_type": "stream",
     "text": [
      "Saved mask to: masks/16539_39600_41400_mask.csv\n",
      "record: 16539  from:  41400 to:  43200\n"
     ]
    },
    {
     "name": "stderr",
     "output_type": "stream",
     "text": [
      "Processing P: 100%|██████████| 2588/2588 [00:03<00:00, 707.44it/s]\n",
      "Processing QRS: 100%|██████████| 2594/2594 [00:00<00:00, 4454.19it/s]\n"
     ]
    },
    {
     "name": "stdout",
     "output_type": "stream",
     "text": [
      "Saved mask to: masks/16539_41400_43200_mask.csv\n",
      "record: 16539  from:  43200 to:  45000\n"
     ]
    },
    {
     "name": "stderr",
     "output_type": "stream",
     "text": [
      "Processing P: 100%|██████████| 2588/2588 [00:03<00:00, 713.18it/s]\n",
      "Processing QRS: 100%|██████████| 2593/2593 [00:00<00:00, 4449.36it/s]\n"
     ]
    },
    {
     "name": "stdout",
     "output_type": "stream",
     "text": [
      "Saved mask to: masks/16539_43200_45000_mask.csv\n",
      "record: 16539  from:  45000 to:  46800\n"
     ]
    },
    {
     "name": "stderr",
     "output_type": "stream",
     "text": [
      "Processing P: 100%|██████████| 2455/2455 [00:03<00:00, 703.74it/s]\n",
      "Processing QRS: 100%|██████████| 2456/2456 [00:00<00:00, 4608.97it/s]\n"
     ]
    },
    {
     "name": "stdout",
     "output_type": "stream",
     "text": [
      "Saved mask to: masks/16539_45000_46800_mask.csv\n",
      "record: 16539  from:  46800 to:  48600\n"
     ]
    },
    {
     "name": "stderr",
     "output_type": "stream",
     "text": [
      "Processing P: 100%|██████████| 2280/2280 [00:03<00:00, 708.73it/s]\n",
      "Processing QRS: 100%|██████████| 2283/2283 [00:00<00:00, 4396.20it/s]\n"
     ]
    },
    {
     "name": "stdout",
     "output_type": "stream",
     "text": [
      "Saved mask to: masks/16539_46800_48600_mask.csv\n",
      "record: 16539  from:  48600 to:  50400\n"
     ]
    },
    {
     "name": "stderr",
     "output_type": "stream",
     "text": [
      "Processing P: 100%|██████████| 2510/2510 [00:03<00:00, 701.63it/s]\n",
      "Processing QRS: 100%|██████████| 2520/2520 [00:00<00:00, 4395.08it/s]\n"
     ]
    },
    {
     "name": "stdout",
     "output_type": "stream",
     "text": [
      "Saved mask to: masks/16539_48600_50400_mask.csv\n",
      "record: 16539  from:  50400 to:  52200\n"
     ]
    },
    {
     "name": "stderr",
     "output_type": "stream",
     "text": [
      "Processing P: 100%|██████████| 2498/2498 [00:03<00:00, 695.10it/s]\n",
      "Processing QRS: 100%|██████████| 2501/2501 [00:00<00:00, 4449.61it/s]\n"
     ]
    },
    {
     "name": "stdout",
     "output_type": "stream",
     "text": [
      "Saved mask to: masks/16539_50400_52200_mask.csv\n",
      "record: 16539  from:  52200 to:  54000\n"
     ]
    },
    {
     "name": "stderr",
     "output_type": "stream",
     "text": [
      "Processing P: 100%|██████████| 2425/2425 [00:03<00:00, 696.35it/s]\n",
      "Processing QRS: 100%|██████████| 2434/2434 [00:00<00:00, 4386.06it/s]\n"
     ]
    },
    {
     "name": "stdout",
     "output_type": "stream",
     "text": [
      "Saved mask to: masks/16539_52200_54000_mask.csv\n",
      "record: 16539  from:  54000 to:  55800\n"
     ]
    },
    {
     "name": "stderr",
     "output_type": "stream",
     "text": [
      "Processing P: 100%|██████████| 2399/2399 [00:03<00:00, 715.03it/s]\n",
      "Processing QRS: 100%|██████████| 2402/2402 [00:00<00:00, 4506.60it/s]\n"
     ]
    },
    {
     "name": "stdout",
     "output_type": "stream",
     "text": [
      "Saved mask to: masks/16539_54000_55800_mask.csv\n",
      "record: 16539  from:  55800 to:  57600\n"
     ]
    },
    {
     "name": "stderr",
     "output_type": "stream",
     "text": [
      "Processing P: 100%|██████████| 2144/2144 [00:03<00:00, 714.43it/s]\n",
      "Processing QRS: 100%|██████████| 2155/2155 [00:00<00:00, 4562.34it/s]\n"
     ]
    },
    {
     "name": "stdout",
     "output_type": "stream",
     "text": [
      "Saved mask to: masks/16539_55800_57600_mask.csv\n",
      "record: 16539  from:  57600 to:  59400\n"
     ]
    },
    {
     "name": "stderr",
     "output_type": "stream",
     "text": [
      "Processing P: 100%|██████████| 2155/2155 [00:03<00:00, 700.38it/s]\n",
      "Processing QRS: 100%|██████████| 2155/2155 [00:00<00:00, 4436.60it/s]\n"
     ]
    },
    {
     "name": "stdout",
     "output_type": "stream",
     "text": [
      "Saved mask to: masks/16539_57600_59400_mask.csv\n",
      "record: 16539  from:  59400 to:  61200\n"
     ]
    },
    {
     "name": "stderr",
     "output_type": "stream",
     "text": [
      "Processing P: 100%|██████████| 2230/2230 [00:03<00:00, 705.46it/s]\n",
      "Processing QRS: 100%|██████████| 2231/2231 [00:00<00:00, 4262.21it/s]\n"
     ]
    },
    {
     "name": "stdout",
     "output_type": "stream",
     "text": [
      "Saved mask to: masks/16539_59400_61200_mask.csv\n",
      "record: 16539  from:  61200 to:  63000\n"
     ]
    },
    {
     "name": "stderr",
     "output_type": "stream",
     "text": [
      "Processing P: 100%|██████████| 2149/2149 [00:02<00:00, 720.67it/s]\n",
      "Processing QRS: 100%|██████████| 2149/2149 [00:00<00:00, 4410.28it/s]\n"
     ]
    },
    {
     "name": "stdout",
     "output_type": "stream",
     "text": [
      "Saved mask to: masks/16539_61200_63000_mask.csv\n",
      "record: 16539  from:  63000 to:  64800\n"
     ]
    },
    {
     "name": "stderr",
     "output_type": "stream",
     "text": [
      "Processing P: 100%|██████████| 2061/2061 [00:02<00:00, 708.62it/s]\n",
      "Processing QRS: 100%|██████████| 2061/2061 [00:00<00:00, 4433.70it/s]\n"
     ]
    },
    {
     "name": "stdout",
     "output_type": "stream",
     "text": [
      "Saved mask to: masks/16539_63000_64800_mask.csv\n",
      "record: 16539  from:  64800 to:  66600\n"
     ]
    },
    {
     "name": "stderr",
     "output_type": "stream",
     "text": [
      "Processing P: 100%|██████████| 2178/2178 [00:03<00:00, 711.21it/s]\n",
      "Processing QRS: 100%|██████████| 2178/2178 [00:00<00:00, 4286.21it/s]\n"
     ]
    },
    {
     "name": "stdout",
     "output_type": "stream",
     "text": [
      "Saved mask to: masks/16539_64800_66600_mask.csv\n",
      "record: 16539  from:  66600 to:  68400\n"
     ]
    },
    {
     "name": "stderr",
     "output_type": "stream",
     "text": [
      "Processing P: 100%|██████████| 2200/2200 [00:03<00:00, 691.48it/s]\n",
      "Processing QRS: 100%|██████████| 2200/2200 [00:00<00:00, 4383.42it/s]\n"
     ]
    },
    {
     "name": "stdout",
     "output_type": "stream",
     "text": [
      "Saved mask to: masks/16539_66600_68400_mask.csv\n",
      "record: 16539  from:  68400 to:  70200\n"
     ]
    },
    {
     "name": "stderr",
     "output_type": "stream",
     "text": [
      "Processing P: 100%|██████████| 2064/2064 [00:02<00:00, 705.68it/s]\n",
      "Processing QRS: 100%|██████████| 2064/2064 [00:00<00:00, 4433.71it/s]\n"
     ]
    },
    {
     "name": "stdout",
     "output_type": "stream",
     "text": [
      "Saved mask to: masks/16539_68400_70200_mask.csv\n",
      "record: 16539  from:  70200 to:  72000\n"
     ]
    },
    {
     "name": "stderr",
     "output_type": "stream",
     "text": [
      "Processing P: 100%|██████████| 1954/1954 [00:02<00:00, 701.75it/s]\n",
      "Processing QRS: 100%|██████████| 1954/1954 [00:00<00:00, 4436.80it/s]\n"
     ]
    },
    {
     "name": "stdout",
     "output_type": "stream",
     "text": [
      "Saved mask to: masks/16539_70200_72000_mask.csv\n",
      "record: 16539  from:  72000 to:  73800\n"
     ]
    },
    {
     "name": "stderr",
     "output_type": "stream",
     "text": [
      "Processing P: 100%|██████████| 1946/1946 [00:02<00:00, 716.21it/s]\n",
      "Processing QRS: 100%|██████████| 1946/1946 [00:00<00:00, 4421.02it/s]\n"
     ]
    },
    {
     "name": "stdout",
     "output_type": "stream",
     "text": [
      "Saved mask to: masks/16539_72000_73800_mask.csv\n",
      "record: 16539  from:  73800 to:  75600\n"
     ]
    },
    {
     "name": "stderr",
     "output_type": "stream",
     "text": [
      "Processing P: 100%|██████████| 1896/1896 [00:02<00:00, 700.59it/s]\n",
      "Processing QRS: 100%|██████████| 1896/1896 [00:00<00:00, 4431.41it/s]\n"
     ]
    },
    {
     "name": "stdout",
     "output_type": "stream",
     "text": [
      "Saved mask to: masks/16539_73800_75600_mask.csv\n",
      "record: 16539  from:  75600 to:  77400\n"
     ]
    },
    {
     "name": "stderr",
     "output_type": "stream",
     "text": [
      "Processing P: 100%|██████████| 1812/1812 [00:02<00:00, 709.21it/s]\n",
      "Processing QRS: 100%|██████████| 1812/1812 [00:00<00:00, 4379.24it/s]\n"
     ]
    },
    {
     "name": "stdout",
     "output_type": "stream",
     "text": [
      "Saved mask to: masks/16539_75600_77400_mask.csv\n",
      "record: 16539  from:  77400 to:  79200\n"
     ]
    },
    {
     "name": "stderr",
     "output_type": "stream",
     "text": [
      "Processing P: 100%|██████████| 1954/1954 [00:02<00:00, 700.23it/s]\n",
      "Processing QRS: 100%|██████████| 1955/1955 [00:00<00:00, 4003.08it/s]\n"
     ]
    },
    {
     "name": "stdout",
     "output_type": "stream",
     "text": [
      "Saved mask to: masks/16539_77400_79200_mask.csv\n",
      "record: 16539  from:  79200 to:  81000\n"
     ]
    },
    {
     "name": "stderr",
     "output_type": "stream",
     "text": [
      "Processing P: 100%|██████████| 1785/1785 [00:02<00:00, 708.48it/s]\n",
      "Processing QRS: 100%|██████████| 1788/1788 [00:00<00:00, 4369.55it/s]\n"
     ]
    },
    {
     "name": "stdout",
     "output_type": "stream",
     "text": [
      "Saved mask to: masks/16539_79200_81000_mask.csv\n",
      "record: 16539  from:  81000 to:  82800\n"
     ]
    },
    {
     "name": "stderr",
     "output_type": "stream",
     "text": [
      "Processing P: 100%|██████████| 1875/1875 [00:02<00:00, 682.15it/s]\n",
      "Processing QRS: 100%|██████████| 1876/1876 [00:00<00:00, 4243.61it/s]\n"
     ]
    },
    {
     "name": "stdout",
     "output_type": "stream",
     "text": [
      "Saved mask to: masks/16539_81000_82800_mask.csv\n",
      "record: 16539  from:  82800 to:  84600\n"
     ]
    },
    {
     "name": "stderr",
     "output_type": "stream",
     "text": [
      "Processing P: 100%|██████████| 1930/1930 [00:02<00:00, 722.11it/s]\n",
      "Processing QRS: 100%|██████████| 1939/1939 [00:00<00:00, 4479.85it/s]\n"
     ]
    },
    {
     "name": "stdout",
     "output_type": "stream",
     "text": [
      "Saved mask to: masks/16539_82800_84600_mask.csv\n",
      "record: 16539  from:  84600 to:  86400\n"
     ]
    },
    {
     "name": "stderr",
     "output_type": "stream",
     "text": [
      "Processing P: 100%|██████████| 54/54 [00:00<00:00, 656.53it/s]\n",
      "Processing QRS: 100%|██████████| 142/142 [00:00<00:00, 14827.87it/s]\n"
     ]
    },
    {
     "name": "stdout",
     "output_type": "stream",
     "text": [
      "Saved mask to: masks/16539_84600_86400_mask.csv\n",
      "record: 16539  from:  86400 to:  88200\n"
     ]
    },
    {
     "name": "stderr",
     "output_type": "stream",
     "text": [
      "Processing P: 100%|██████████| 1358/1358 [00:02<00:00, 669.54it/s]\n",
      "Processing QRS: 100%|██████████| 1979/1979 [00:00<00:00, 5552.74it/s]\n"
     ]
    },
    {
     "name": "stdout",
     "output_type": "stream",
     "text": [
      "Saved mask to: masks/16539_86400_88200_mask.csv\n",
      "record: 16539  from:  88200 to:  88496.0\n"
     ]
    },
    {
     "name": "stderr",
     "output_type": "stream",
     "text": [
      "Processing P: 100%|██████████| 20/20 [00:00<00:00, 1783.90it/s]\n",
      "Processing QRS: 100%|██████████| 38/38 [00:00<00:00, 8523.18it/s]\n"
     ]
    },
    {
     "name": "stdout",
     "output_type": "stream",
     "text": [
      "Saved mask to: masks/16539_88200_88496.0_mask.csv\n",
      "record: 16773  from:  0 to:  1800\n"
     ]
    },
    {
     "name": "stderr",
     "output_type": "stream",
     "text": [
      "Processing P: 100%|██████████| 2036/2036 [00:03<00:00, 674.43it/s]\n",
      "Processing QRS: 100%|██████████| 2130/2130 [00:00<00:00, 5020.20it/s]\n"
     ]
    },
    {
     "name": "stdout",
     "output_type": "stream",
     "text": [
      "Saved mask to: masks/16773_0_1800_mask.csv\n",
      "record: 16773  from:  1800 to:  3600\n"
     ]
    },
    {
     "name": "stderr",
     "output_type": "stream",
     "text": [
      "Processing P: 100%|██████████| 2242/2242 [00:03<00:00, 734.66it/s]\n",
      "Processing QRS: 100%|██████████| 2294/2294 [00:00<00:00, 4676.02it/s]\n"
     ]
    },
    {
     "name": "stdout",
     "output_type": "stream",
     "text": [
      "Saved mask to: masks/16773_1800_3600_mask.csv\n",
      "record: 16773  from:  3600 to:  5400\n"
     ]
    },
    {
     "name": "stderr",
     "output_type": "stream",
     "text": [
      "Processing P: 100%|██████████| 2255/2255 [00:03<00:00, 742.07it/s]\n",
      "Processing QRS: 100%|██████████| 2259/2259 [00:00<00:00, 4626.98it/s]\n"
     ]
    },
    {
     "name": "stdout",
     "output_type": "stream",
     "text": [
      "Saved mask to: masks/16773_3600_5400_mask.csv\n",
      "record: 16773  from:  5400 to:  7200\n"
     ]
    },
    {
     "name": "stderr",
     "output_type": "stream",
     "text": [
      "Processing P: 100%|██████████| 2249/2249 [00:03<00:00, 723.43it/s]\n",
      "Processing QRS: 100%|██████████| 2279/2279 [00:00<00:00, 4588.20it/s]\n"
     ]
    },
    {
     "name": "stdout",
     "output_type": "stream",
     "text": [
      "Saved mask to: masks/16773_5400_7200_mask.csv\n",
      "record: 16773  from:  7200 to:  9000\n"
     ]
    },
    {
     "name": "stderr",
     "output_type": "stream",
     "text": [
      "Processing P: 100%|██████████| 2061/2061 [00:02<00:00, 743.47it/s]\n",
      "Processing QRS: 100%|██████████| 2186/2186 [00:00<00:00, 5009.26it/s]\n"
     ]
    },
    {
     "name": "stdout",
     "output_type": "stream",
     "text": [
      "Saved mask to: masks/16773_7200_9000_mask.csv\n",
      "record: 16773  from:  9000 to:  10800\n"
     ]
    },
    {
     "name": "stderr",
     "output_type": "stream",
     "text": [
      "Processing P: 100%|██████████| 2321/2321 [00:03<00:00, 748.24it/s]\n",
      "Processing QRS: 100%|██████████| 2367/2367 [00:00<00:00, 4811.70it/s]\n"
     ]
    },
    {
     "name": "stdout",
     "output_type": "stream",
     "text": [
      "Saved mask to: masks/16773_9000_10800_mask.csv\n",
      "record: 16773  from:  10800 to:  12600\n"
     ]
    },
    {
     "name": "stderr",
     "output_type": "stream",
     "text": [
      "Processing P: 100%|██████████| 2144/2144 [00:02<00:00, 736.99it/s]\n",
      "Processing QRS: 100%|██████████| 2216/2216 [00:00<00:00, 4615.98it/s]\n"
     ]
    },
    {
     "name": "stdout",
     "output_type": "stream",
     "text": [
      "Saved mask to: masks/16773_10800_12600_mask.csv\n",
      "record: 16773  from:  12600 to:  14400\n"
     ]
    },
    {
     "name": "stderr",
     "output_type": "stream",
     "text": [
      "Processing P: 100%|██████████| 2316/2316 [00:03<00:00, 739.80it/s]\n",
      "Processing QRS: 100%|██████████| 2330/2330 [00:00<00:00, 4625.69it/s]\n"
     ]
    },
    {
     "name": "stdout",
     "output_type": "stream",
     "text": [
      "Saved mask to: masks/16773_12600_14400_mask.csv\n",
      "record: 16773  from:  14400 to:  16200\n"
     ]
    },
    {
     "name": "stderr",
     "output_type": "stream",
     "text": [
      "Processing P: 100%|██████████| 2329/2329 [00:03<00:00, 740.82it/s]\n",
      "Processing QRS: 100%|██████████| 2345/2345 [00:00<00:00, 4767.74it/s]\n"
     ]
    },
    {
     "name": "stdout",
     "output_type": "stream",
     "text": [
      "Saved mask to: masks/16773_14400_16200_mask.csv\n",
      "record: 16773  from:  16200 to:  18000\n"
     ]
    },
    {
     "name": "stderr",
     "output_type": "stream",
     "text": [
      "Processing P: 100%|██████████| 2380/2380 [00:03<00:00, 736.48it/s]\n",
      "Processing QRS: 100%|██████████| 2389/2389 [00:00<00:00, 4802.78it/s]\n"
     ]
    },
    {
     "name": "stdout",
     "output_type": "stream",
     "text": [
      "Saved mask to: masks/16773_16200_18000_mask.csv\n",
      "record: 16773  from:  18000 to:  19800\n"
     ]
    },
    {
     "name": "stderr",
     "output_type": "stream",
     "text": [
      "Processing P: 100%|██████████| 2344/2344 [00:03<00:00, 738.43it/s]\n",
      "Processing QRS: 100%|██████████| 2365/2365 [00:00<00:00, 4460.29it/s]\n"
     ]
    },
    {
     "name": "stdout",
     "output_type": "stream",
     "text": [
      "Saved mask to: masks/16773_18000_19800_mask.csv\n",
      "record: 16773  from:  19800 to:  21600\n"
     ]
    },
    {
     "name": "stderr",
     "output_type": "stream",
     "text": [
      "Processing P: 100%|██████████| 2193/2193 [00:02<00:00, 732.83it/s]\n",
      "Processing QRS: 100%|██████████| 2226/2226 [00:00<00:00, 4755.42it/s]\n"
     ]
    },
    {
     "name": "stdout",
     "output_type": "stream",
     "text": [
      "Saved mask to: masks/16773_19800_21600_mask.csv\n",
      "record: 16773  from:  21600 to:  23400\n"
     ]
    },
    {
     "name": "stderr",
     "output_type": "stream",
     "text": [
      "Processing P: 100%|██████████| 2064/2064 [00:02<00:00, 715.03it/s]\n",
      "Processing QRS: 100%|██████████| 2109/2109 [00:00<00:00, 4763.45it/s]\n"
     ]
    },
    {
     "name": "stdout",
     "output_type": "stream",
     "text": [
      "Saved mask to: masks/16773_21600_23400_mask.csv\n",
      "record: 16773  from:  23400 to:  25200\n"
     ]
    },
    {
     "name": "stderr",
     "output_type": "stream",
     "text": [
      "Processing P: 100%|██████████| 2016/2016 [00:02<00:00, 714.91it/s]\n",
      "Processing QRS: 100%|██████████| 2102/2102 [00:00<00:00, 4634.72it/s]\n"
     ]
    },
    {
     "name": "stdout",
     "output_type": "stream",
     "text": [
      "Saved mask to: masks/16773_23400_25200_mask.csv\n",
      "record: 16773  from:  25200 to:  27000\n"
     ]
    },
    {
     "name": "stderr",
     "output_type": "stream",
     "text": [
      "Processing P: 100%|██████████| 1951/1951 [00:02<00:00, 732.70it/s]\n",
      "Processing QRS: 100%|██████████| 2077/2077 [00:00<00:00, 4762.52it/s]\n"
     ]
    },
    {
     "name": "stdout",
     "output_type": "stream",
     "text": [
      "Saved mask to: masks/16773_25200_27000_mask.csv\n",
      "record: 16773  from:  27000 to:  28800\n"
     ]
    },
    {
     "name": "stderr",
     "output_type": "stream",
     "text": [
      "Processing P: 100%|██████████| 1801/1801 [00:02<00:00, 709.23it/s]\n",
      "Processing QRS: 100%|██████████| 1981/1981 [00:00<00:00, 5179.59it/s]\n"
     ]
    },
    {
     "name": "stdout",
     "output_type": "stream",
     "text": [
      "Saved mask to: masks/16773_27000_28800_mask.csv\n",
      "record: 16773  from:  28800 to:  30600\n"
     ]
    },
    {
     "name": "stderr",
     "output_type": "stream",
     "text": [
      "Processing P: 100%|██████████| 1868/1868 [00:02<00:00, 730.78it/s]\n",
      "Processing QRS: 100%|██████████| 2113/2113 [00:00<00:00, 4877.39it/s]\n"
     ]
    },
    {
     "name": "stdout",
     "output_type": "stream",
     "text": [
      "Saved mask to: masks/16773_28800_30600_mask.csv\n",
      "record: 16773  from:  30600 to:  32400\n"
     ]
    },
    {
     "name": "stderr",
     "output_type": "stream",
     "text": [
      "Processing P: 100%|██████████| 1966/1966 [00:02<00:00, 719.44it/s]\n",
      "Processing QRS: 100%|██████████| 2057/2057 [00:00<00:00, 4678.47it/s]\n"
     ]
    },
    {
     "name": "stdout",
     "output_type": "stream",
     "text": [
      "Saved mask to: masks/16773_30600_32400_mask.csv\n",
      "record: 16773  from:  32400 to:  34200\n"
     ]
    },
    {
     "name": "stderr",
     "output_type": "stream",
     "text": [
      "Processing P: 100%|██████████| 2268/2268 [00:03<00:00, 724.94it/s]\n",
      "Processing QRS: 100%|██████████| 2270/2270 [00:00<00:00, 4685.89it/s]\n"
     ]
    },
    {
     "name": "stdout",
     "output_type": "stream",
     "text": [
      "Saved mask to: masks/16773_32400_34200_mask.csv\n",
      "record: 16773  from:  34200 to:  36000\n"
     ]
    },
    {
     "name": "stderr",
     "output_type": "stream",
     "text": [
      "Processing P: 100%|██████████| 2631/2631 [00:03<00:00, 732.72it/s]\n",
      "Processing QRS: 100%|██████████| 2638/2638 [00:00<00:00, 4633.13it/s]\n"
     ]
    },
    {
     "name": "stdout",
     "output_type": "stream",
     "text": [
      "Saved mask to: masks/16773_34200_36000_mask.csv\n",
      "record: 16773  from:  36000 to:  37800\n"
     ]
    },
    {
     "name": "stderr",
     "output_type": "stream",
     "text": [
      "Processing P: 100%|██████████| 2399/2399 [00:03<00:00, 732.09it/s]\n",
      "Processing QRS: 100%|██████████| 2402/2402 [00:00<00:00, 4617.29it/s]\n"
     ]
    },
    {
     "name": "stdout",
     "output_type": "stream",
     "text": [
      "Saved mask to: masks/16773_36000_37800_mask.csv\n",
      "record: 16773  from:  37800 to:  39600\n"
     ]
    },
    {
     "name": "stderr",
     "output_type": "stream",
     "text": [
      "Processing P: 100%|██████████| 2049/2049 [00:02<00:00, 724.31it/s]\n",
      "Processing QRS: 100%|██████████| 2051/2051 [00:00<00:00, 4623.21it/s]\n"
     ]
    },
    {
     "name": "stdout",
     "output_type": "stream",
     "text": [
      "Saved mask to: masks/16773_37800_39600_mask.csv\n",
      "record: 16773  from:  39600 to:  41400\n"
     ]
    },
    {
     "name": "stderr",
     "output_type": "stream",
     "text": [
      "Processing P: 100%|██████████| 2209/2209 [00:03<00:00, 731.12it/s]\n",
      "Processing QRS: 100%|██████████| 2217/2217 [00:00<00:00, 4687.97it/s]\n"
     ]
    },
    {
     "name": "stdout",
     "output_type": "stream",
     "text": [
      "Saved mask to: masks/16773_39600_41400_mask.csv\n",
      "record: 16773  from:  41400 to:  43200\n"
     ]
    },
    {
     "name": "stderr",
     "output_type": "stream",
     "text": [
      "Processing P: 100%|██████████| 2031/2031 [00:02<00:00, 723.45it/s]\n",
      "Processing QRS: 100%|██████████| 2058/2058 [00:00<00:00, 4552.42it/s]\n"
     ]
    },
    {
     "name": "stdout",
     "output_type": "stream",
     "text": [
      "Saved mask to: masks/16773_41400_43200_mask.csv\n",
      "record: 16773  from:  43200 to:  45000\n"
     ]
    },
    {
     "name": "stderr",
     "output_type": "stream",
     "text": [
      "Processing P: 100%|██████████| 1762/1762 [00:02<00:00, 720.30it/s]\n",
      "Processing QRS: 100%|██████████| 1966/1966 [00:00<00:00, 5265.32it/s]\n"
     ]
    },
    {
     "name": "stdout",
     "output_type": "stream",
     "text": [
      "Saved mask to: masks/16773_43200_45000_mask.csv\n",
      "record: 16773  from:  45000 to:  46800\n"
     ]
    },
    {
     "name": "stderr",
     "output_type": "stream",
     "text": [
      "Processing P: 100%|██████████| 1602/1602 [00:02<00:00, 726.26it/s]\n",
      "Processing QRS: 100%|██████████| 1692/1692 [00:00<00:00, 4752.25it/s]\n"
     ]
    },
    {
     "name": "stdout",
     "output_type": "stream",
     "text": [
      "Saved mask to: masks/16773_45000_46800_mask.csv\n",
      "record: 16773  from:  46800 to:  48600\n"
     ]
    },
    {
     "name": "stderr",
     "output_type": "stream",
     "text": [
      "Processing P: 100%|██████████| 1667/1667 [00:02<00:00, 723.28it/s]\n",
      "Processing QRS: 100%|██████████| 1688/1688 [00:00<00:00, 4585.26it/s]\n"
     ]
    },
    {
     "name": "stdout",
     "output_type": "stream",
     "text": [
      "Saved mask to: masks/16773_46800_48600_mask.csv\n",
      "record: 16773  from:  48600 to:  50400\n"
     ]
    },
    {
     "name": "stderr",
     "output_type": "stream",
     "text": [
      "Processing P: 100%|██████████| 1459/1459 [00:02<00:00, 728.09it/s]\n",
      "Processing QRS: 100%|██████████| 1479/1479 [00:00<00:00, 4538.05it/s]\n"
     ]
    },
    {
     "name": "stdout",
     "output_type": "stream",
     "text": [
      "Saved mask to: masks/16773_48600_50400_mask.csv\n",
      "record: 16773  from:  50400 to:  52200\n"
     ]
    },
    {
     "name": "stderr",
     "output_type": "stream",
     "text": [
      "Processing P: 100%|██████████| 1438/1438 [00:02<00:00, 718.12it/s]\n",
      "Processing QRS: 100%|██████████| 1463/1463 [00:00<00:00, 4570.96it/s]\n"
     ]
    },
    {
     "name": "stdout",
     "output_type": "stream",
     "text": [
      "Saved mask to: masks/16773_50400_52200_mask.csv\n",
      "record: 16773  from:  52200 to:  54000\n"
     ]
    },
    {
     "name": "stderr",
     "output_type": "stream",
     "text": [
      "Processing P: 100%|██████████| 1475/1475 [00:01<00:00, 740.34it/s]\n",
      "Processing QRS: 100%|██████████| 1479/1479 [00:00<00:00, 4652.68it/s]\n"
     ]
    },
    {
     "name": "stdout",
     "output_type": "stream",
     "text": [
      "Saved mask to: masks/16773_52200_54000_mask.csv\n",
      "record: 16773  from:  54000 to:  55800\n"
     ]
    },
    {
     "name": "stderr",
     "output_type": "stream",
     "text": [
      "Processing P: 100%|██████████| 1328/1328 [00:01<00:00, 730.42it/s]\n",
      "Processing QRS: 100%|██████████| 1438/1438 [00:00<00:00, 4942.61it/s]\n"
     ]
    },
    {
     "name": "stdout",
     "output_type": "stream",
     "text": [
      "Saved mask to: masks/16773_54000_55800_mask.csv\n",
      "record: 16773  from:  55800 to:  57600\n"
     ]
    },
    {
     "name": "stderr",
     "output_type": "stream",
     "text": [
      "Processing P: 100%|██████████| 1331/1331 [00:01<00:00, 737.49it/s]\n",
      "Processing QRS: 100%|██████████| 1401/1401 [00:00<00:00, 4837.68it/s]\n"
     ]
    },
    {
     "name": "stdout",
     "output_type": "stream",
     "text": [
      "Saved mask to: masks/16773_55800_57600_mask.csv\n",
      "record: 16773  from:  57600 to:  59400\n"
     ]
    },
    {
     "name": "stderr",
     "output_type": "stream",
     "text": [
      "Processing P: 100%|██████████| 1359/1359 [00:01<00:00, 731.79it/s]\n",
      "Processing QRS: 100%|██████████| 1375/1375 [00:00<00:00, 4700.18it/s]\n"
     ]
    },
    {
     "name": "stdout",
     "output_type": "stream",
     "text": [
      "Saved mask to: masks/16773_57600_59400_mask.csv\n",
      "record: 16773  from:  59400 to:  61200\n"
     ]
    },
    {
     "name": "stderr",
     "output_type": "stream",
     "text": [
      "Processing P: 100%|██████████| 1396/1396 [00:01<00:00, 741.69it/s]\n",
      "Processing QRS: 100%|██████████| 1445/1445 [00:00<00:00, 4690.24it/s]\n"
     ]
    },
    {
     "name": "stdout",
     "output_type": "stream",
     "text": [
      "Saved mask to: masks/16773_59400_61200_mask.csv\n",
      "record: 16773  from:  61200 to:  63000\n"
     ]
    },
    {
     "name": "stderr",
     "output_type": "stream",
     "text": [
      "Processing P: 100%|██████████| 1404/1404 [00:01<00:00, 736.03it/s]\n",
      "Processing QRS: 100%|██████████| 1413/1413 [00:00<00:00, 4669.39it/s]\n"
     ]
    },
    {
     "name": "stdout",
     "output_type": "stream",
     "text": [
      "Saved mask to: masks/16773_61200_63000_mask.csv\n",
      "record: 16773  from:  63000 to:  64800\n"
     ]
    },
    {
     "name": "stderr",
     "output_type": "stream",
     "text": [
      "Processing P: 100%|██████████| 1362/1362 [00:01<00:00, 741.59it/s]\n",
      "Processing QRS: 100%|██████████| 1393/1393 [00:00<00:00, 4305.01it/s]\n"
     ]
    },
    {
     "name": "stdout",
     "output_type": "stream",
     "text": [
      "Saved mask to: masks/16773_63000_64800_mask.csv\n",
      "record: 16773  from:  64800 to:  66600\n"
     ]
    },
    {
     "name": "stderr",
     "output_type": "stream",
     "text": [
      "Processing P: 100%|██████████| 1292/1292 [00:01<00:00, 727.91it/s]\n",
      "Processing QRS: 100%|██████████| 1378/1378 [00:00<00:00, 4910.20it/s]\n"
     ]
    },
    {
     "name": "stdout",
     "output_type": "stream",
     "text": [
      "Saved mask to: masks/16773_64800_66600_mask.csv\n",
      "record: 16773  from:  66600 to:  68400\n"
     ]
    },
    {
     "name": "stderr",
     "output_type": "stream",
     "text": [
      "Processing P: 100%|██████████| 1310/1310 [00:01<00:00, 727.39it/s]\n",
      "Processing QRS: 100%|██████████| 1401/1401 [00:00<00:00, 4816.99it/s]\n"
     ]
    },
    {
     "name": "stdout",
     "output_type": "stream",
     "text": [
      "Saved mask to: masks/16773_66600_68400_mask.csv\n",
      "record: 16773  from:  68400 to:  70200\n"
     ]
    },
    {
     "name": "stderr",
     "output_type": "stream",
     "text": [
      "Processing P: 100%|██████████| 1352/1352 [00:01<00:00, 740.38it/s]\n",
      "Processing QRS: 100%|██████████| 1360/1360 [00:00<00:00, 4435.75it/s]\n"
     ]
    },
    {
     "name": "stdout",
     "output_type": "stream",
     "text": [
      "Saved mask to: masks/16773_68400_70200_mask.csv\n",
      "record: 16773  from:  70200 to:  72000\n"
     ]
    },
    {
     "name": "stderr",
     "output_type": "stream",
     "text": [
      "Processing P: 100%|██████████| 1353/1353 [00:01<00:00, 721.55it/s]\n",
      "Processing QRS: 100%|██████████| 1393/1393 [00:00<00:00, 4597.41it/s]\n"
     ]
    },
    {
     "name": "stdout",
     "output_type": "stream",
     "text": [
      "Saved mask to: masks/16773_70200_72000_mask.csv\n",
      "record: 16773  from:  72000 to:  73800\n"
     ]
    },
    {
     "name": "stderr",
     "output_type": "stream",
     "text": [
      "Processing P: 100%|██████████| 1279/1279 [00:01<00:00, 726.92it/s]\n",
      "Processing QRS: 100%|██████████| 1345/1345 [00:00<00:00, 4709.75it/s]\n"
     ]
    },
    {
     "name": "stdout",
     "output_type": "stream",
     "text": [
      "Saved mask to: masks/16773_72000_73800_mask.csv\n",
      "record: 16773  from:  73800 to:  75600\n"
     ]
    },
    {
     "name": "stderr",
     "output_type": "stream",
     "text": [
      "Processing P: 100%|██████████| 1375/1375 [00:01<00:00, 719.89it/s]\n",
      "Processing QRS: 100%|██████████| 1419/1419 [00:00<00:00, 4689.94it/s]\n"
     ]
    },
    {
     "name": "stdout",
     "output_type": "stream",
     "text": [
      "Saved mask to: masks/16773_73800_75600_mask.csv\n",
      "record: 16773  from:  75600 to:  77400\n"
     ]
    },
    {
     "name": "stderr",
     "output_type": "stream",
     "text": [
      "Processing P: 100%|██████████| 1344/1344 [00:01<00:00, 724.85it/s]\n",
      "Processing QRS: 100%|██████████| 1393/1393 [00:00<00:00, 4616.82it/s]\n"
     ]
    },
    {
     "name": "stdout",
     "output_type": "stream",
     "text": [
      "Saved mask to: masks/16773_75600_77400_mask.csv\n",
      "record: 16773  from:  77400 to:  79200\n"
     ]
    },
    {
     "name": "stderr",
     "output_type": "stream",
     "text": [
      "Processing P: 100%|██████████| 591/591 [00:00<00:00, 655.47it/s]\n",
      "Processing QRS: 100%|██████████| 595/595 [00:00<00:00, 6539.31it/s]\n"
     ]
    },
    {
     "name": "stdout",
     "output_type": "stream",
     "text": [
      "Saved mask to: masks/16773_77400_79200_mask.csv\n",
      "record: 16773  from:  79200 to:  81000\n"
     ]
    },
    {
     "name": "stderr",
     "output_type": "stream",
     "text": [
      "Processing P: 100%|██████████| 1429/1429 [00:02<00:00, 692.18it/s]\n",
      "Processing QRS: 100%|██████████| 2146/2146 [00:00<00:00, 5743.21it/s]\n"
     ]
    },
    {
     "name": "stdout",
     "output_type": "stream",
     "text": [
      "Saved mask to: masks/16773_79200_81000_mask.csv\n",
      "record: 16773  from:  81000 to:  82800\n"
     ]
    },
    {
     "name": "stderr",
     "output_type": "stream",
     "text": [
      "Processing P: 100%|██████████| 1377/1377 [00:02<00:00, 686.84it/s]\n",
      "Processing QRS: 100%|██████████| 2073/2073 [00:00<00:00, 4585.73it/s]\n"
     ]
    },
    {
     "name": "stdout",
     "output_type": "stream",
     "text": [
      "Saved mask to: masks/16773_81000_82800_mask.csv\n",
      "record: 16773  from:  82800 to:  84600\n"
     ]
    },
    {
     "name": "stderr",
     "output_type": "stream",
     "text": [
      "Processing P: 100%|██████████| 1380/1380 [00:01<00:00, 699.13it/s]\n",
      "Processing QRS: 100%|██████████| 2122/2122 [00:00<00:00, 5714.16it/s]\n"
     ]
    },
    {
     "name": "stdout",
     "output_type": "stream",
     "text": [
      "Saved mask to: masks/16773_82800_84600_mask.csv\n",
      "record: 16773  from:  84600 to:  86304.0\n"
     ]
    },
    {
     "name": "stderr",
     "output_type": "stream",
     "text": [
      "Processing P: 100%|██████████| 554/554 [00:00<00:00, 697.32it/s]\n",
      "Processing QRS: 100%|██████████| 273/273 [00:00<00:00, 6461.26it/s]\n"
     ]
    },
    {
     "name": "stdout",
     "output_type": "stream",
     "text": [
      "Saved mask to: masks/16773_84600_86304.0_mask.csv\n",
      "record: 16786  from:  0 to:  1800\n"
     ]
    },
    {
     "name": "stderr",
     "output_type": "stream",
     "text": [
      "Processing P: 100%|██████████| 2169/2169 [00:02<00:00, 726.73it/s]\n",
      "Processing QRS: 100%|██████████| 2170/2170 [00:00<00:00, 4424.12it/s]\n"
     ]
    },
    {
     "name": "stdout",
     "output_type": "stream",
     "text": [
      "Saved mask to: masks/16786_0_1800_mask.csv\n",
      "record: 16786  from:  1800 to:  3600\n"
     ]
    },
    {
     "name": "stderr",
     "output_type": "stream",
     "text": [
      "Processing P: 100%|██████████| 2234/2234 [00:03<00:00, 709.91it/s]\n",
      "Processing QRS: 100%|██████████| 2235/2235 [00:00<00:00, 3808.15it/s]\n"
     ]
    },
    {
     "name": "stdout",
     "output_type": "stream",
     "text": [
      "Saved mask to: masks/16786_1800_3600_mask.csv\n",
      "record: 16786  from:  3600 to:  5400\n"
     ]
    },
    {
     "name": "stderr",
     "output_type": "stream",
     "text": [
      "Processing P: 100%|██████████| 2311/2311 [00:03<00:00, 708.73it/s]\n",
      "Processing QRS: 100%|██████████| 2311/2311 [00:00<00:00, 4420.29it/s]\n"
     ]
    },
    {
     "name": "stdout",
     "output_type": "stream",
     "text": [
      "Saved mask to: masks/16786_3600_5400_mask.csv\n",
      "record: 16786  from:  5400 to:  7200\n"
     ]
    },
    {
     "name": "stderr",
     "output_type": "stream",
     "text": [
      "Processing P: 100%|██████████| 2083/2083 [00:02<00:00, 699.97it/s]\n",
      "Processing QRS: 100%|██████████| 2083/2083 [00:00<00:00, 4352.32it/s]\n"
     ]
    },
    {
     "name": "stdout",
     "output_type": "stream",
     "text": [
      "Saved mask to: masks/16786_5400_7200_mask.csv\n",
      "record: 16786  from:  7200 to:  9000\n"
     ]
    },
    {
     "name": "stderr",
     "output_type": "stream",
     "text": [
      "Processing P: 100%|██████████| 2159/2159 [00:03<00:00, 716.86it/s]\n",
      "Processing QRS: 100%|██████████| 2159/2159 [00:00<00:00, 4479.46it/s]\n"
     ]
    },
    {
     "name": "stdout",
     "output_type": "stream",
     "text": [
      "Saved mask to: masks/16786_7200_9000_mask.csv\n",
      "record: 16786  from:  9000 to:  10800\n"
     ]
    },
    {
     "name": "stderr",
     "output_type": "stream",
     "text": [
      "Processing P: 100%|██████████| 2406/2406 [00:03<00:00, 723.71it/s]\n",
      "Processing QRS: 100%|██████████| 2409/2409 [00:00<00:00, 4373.92it/s]\n"
     ]
    },
    {
     "name": "stdout",
     "output_type": "stream",
     "text": [
      "Saved mask to: masks/16786_9000_10800_mask.csv\n",
      "record: 16786  from:  10800 to:  12600\n"
     ]
    },
    {
     "name": "stderr",
     "output_type": "stream",
     "text": [
      "Processing P: 100%|██████████| 2514/2514 [00:03<00:00, 710.56it/s]\n",
      "Processing QRS: 100%|██████████| 2514/2514 [00:00<00:00, 4490.35it/s]\n"
     ]
    },
    {
     "name": "stdout",
     "output_type": "stream",
     "text": [
      "Saved mask to: masks/16786_10800_12600_mask.csv\n",
      "record: 16786  from:  12600 to:  14400\n"
     ]
    },
    {
     "name": "stderr",
     "output_type": "stream",
     "text": [
      "Processing P: 100%|██████████| 2793/2793 [00:03<00:00, 722.26it/s]\n",
      "Processing QRS: 100%|██████████| 2793/2793 [00:00<00:00, 4437.02it/s]\n"
     ]
    },
    {
     "name": "stdout",
     "output_type": "stream",
     "text": [
      "Saved mask to: masks/16786_12600_14400_mask.csv\n",
      "record: 16786  from:  14400 to:  16200\n"
     ]
    },
    {
     "name": "stderr",
     "output_type": "stream",
     "text": [
      "Processing P: 100%|██████████| 2656/2656 [00:03<00:00, 719.64it/s]\n",
      "Processing QRS: 100%|██████████| 2656/2656 [00:00<00:00, 4433.29it/s]\n"
     ]
    },
    {
     "name": "stdout",
     "output_type": "stream",
     "text": [
      "Saved mask to: masks/16786_14400_16200_mask.csv\n",
      "record: 16786  from:  16200 to:  18000\n"
     ]
    },
    {
     "name": "stderr",
     "output_type": "stream",
     "text": [
      "Processing P: 100%|██████████| 2687/2687 [00:03<00:00, 716.05it/s]\n",
      "Processing QRS: 100%|██████████| 2687/2687 [00:00<00:00, 4566.97it/s]\n"
     ]
    },
    {
     "name": "stdout",
     "output_type": "stream",
     "text": [
      "Saved mask to: masks/16786_16200_18000_mask.csv\n",
      "record: 16786  from:  18000 to:  19800\n"
     ]
    },
    {
     "name": "stderr",
     "output_type": "stream",
     "text": [
      "Processing P: 100%|██████████| 2417/2417 [00:03<00:00, 723.29it/s]\n",
      "Processing QRS: 100%|██████████| 2417/2417 [00:00<00:00, 4387.20it/s]\n"
     ]
    },
    {
     "name": "stdout",
     "output_type": "stream",
     "text": [
      "Saved mask to: masks/16786_18000_19800_mask.csv\n",
      "record: 16786  from:  19800 to:  21600\n"
     ]
    },
    {
     "name": "stderr",
     "output_type": "stream",
     "text": [
      "Processing P: 100%|██████████| 2479/2479 [00:03<00:00, 720.04it/s]\n",
      "Processing QRS: 100%|██████████| 2479/2479 [00:00<00:00, 4386.56it/s]\n"
     ]
    },
    {
     "name": "stdout",
     "output_type": "stream",
     "text": [
      "Saved mask to: masks/16786_19800_21600_mask.csv\n",
      "record: 16786  from:  21600 to:  23400\n"
     ]
    },
    {
     "name": "stderr",
     "output_type": "stream",
     "text": [
      "Processing P: 100%|██████████| 2352/2352 [00:03<00:00, 710.19it/s]\n",
      "Processing QRS: 100%|██████████| 2354/2354 [00:00<00:00, 4366.23it/s]\n"
     ]
    },
    {
     "name": "stdout",
     "output_type": "stream",
     "text": [
      "Saved mask to: masks/16786_21600_23400_mask.csv\n",
      "record: 16786  from:  23400 to:  25200\n"
     ]
    },
    {
     "name": "stderr",
     "output_type": "stream",
     "text": [
      "Processing P: 100%|██████████| 2400/2400 [00:03<00:00, 723.26it/s]\n",
      "Processing QRS: 100%|██████████| 2400/2400 [00:00<00:00, 4292.00it/s]\n"
     ]
    },
    {
     "name": "stdout",
     "output_type": "stream",
     "text": [
      "Saved mask to: masks/16786_23400_25200_mask.csv\n",
      "record: 16786  from:  25200 to:  27000\n"
     ]
    },
    {
     "name": "stderr",
     "output_type": "stream",
     "text": [
      "Processing P: 100%|██████████| 2412/2412 [00:03<00:00, 681.30it/s]\n",
      "Processing QRS: 100%|██████████| 2412/2412 [00:00<00:00, 4512.92it/s]\n"
     ]
    },
    {
     "name": "stdout",
     "output_type": "stream",
     "text": [
      "Saved mask to: masks/16786_25200_27000_mask.csv\n",
      "record: 16786  from:  27000 to:  28800\n"
     ]
    },
    {
     "name": "stderr",
     "output_type": "stream",
     "text": [
      "Processing P: 100%|██████████| 2365/2365 [00:03<00:00, 729.02it/s]\n",
      "Processing QRS: 100%|██████████| 2365/2365 [00:00<00:00, 4577.06it/s]\n"
     ]
    },
    {
     "name": "stdout",
     "output_type": "stream",
     "text": [
      "Saved mask to: masks/16786_27000_28800_mask.csv\n",
      "record: 16786  from:  28800 to:  30600\n"
     ]
    },
    {
     "name": "stderr",
     "output_type": "stream",
     "text": [
      "Processing P: 100%|██████████| 2256/2256 [00:03<00:00, 712.10it/s]\n",
      "Processing QRS: 100%|██████████| 2256/2256 [00:00<00:00, 4472.27it/s]\n"
     ]
    },
    {
     "name": "stdout",
     "output_type": "stream",
     "text": [
      "Saved mask to: masks/16786_28800_30600_mask.csv\n",
      "record: 16786  from:  30600 to:  32400\n"
     ]
    },
    {
     "name": "stderr",
     "output_type": "stream",
     "text": [
      "Processing P: 100%|██████████| 2283/2283 [00:03<00:00, 729.24it/s]\n",
      "Processing QRS: 100%|██████████| 2283/2283 [00:00<00:00, 4598.65it/s]\n"
     ]
    },
    {
     "name": "stdout",
     "output_type": "stream",
     "text": [
      "Saved mask to: masks/16786_30600_32400_mask.csv\n",
      "record: 16786  from:  32400 to:  34200\n"
     ]
    },
    {
     "name": "stderr",
     "output_type": "stream",
     "text": [
      "Processing P: 100%|██████████| 2277/2277 [00:03<00:00, 698.12it/s]\n",
      "Processing QRS: 100%|██████████| 2277/2277 [00:00<00:00, 4494.28it/s]\n"
     ]
    },
    {
     "name": "stdout",
     "output_type": "stream",
     "text": [
      "Saved mask to: masks/16786_32400_34200_mask.csv\n",
      "record: 16786  from:  34200 to:  36000\n"
     ]
    },
    {
     "name": "stderr",
     "output_type": "stream",
     "text": [
      "Processing P: 100%|██████████| 2190/2190 [00:03<00:00, 718.87it/s]\n",
      "Processing QRS: 100%|██████████| 2190/2190 [00:00<00:00, 4496.83it/s]\n"
     ]
    },
    {
     "name": "stdout",
     "output_type": "stream",
     "text": [
      "Saved mask to: masks/16786_34200_36000_mask.csv\n",
      "record: 16786  from:  36000 to:  37800\n"
     ]
    },
    {
     "name": "stderr",
     "output_type": "stream",
     "text": [
      "Processing P: 100%|██████████| 2248/2248 [00:03<00:00, 718.12it/s]\n",
      "Processing QRS: 100%|██████████| 2248/2248 [00:00<00:00, 4449.77it/s]\n"
     ]
    },
    {
     "name": "stdout",
     "output_type": "stream",
     "text": [
      "Saved mask to: masks/16786_36000_37800_mask.csv\n",
      "record: 16786  from:  37800 to:  39600\n"
     ]
    },
    {
     "name": "stderr",
     "output_type": "stream",
     "text": [
      "Processing P: 100%|██████████| 2225/2225 [00:03<00:00, 723.76it/s]\n",
      "Processing QRS: 100%|██████████| 2225/2225 [00:00<00:00, 4679.09it/s]\n"
     ]
    },
    {
     "name": "stdout",
     "output_type": "stream",
     "text": [
      "Saved mask to: masks/16786_37800_39600_mask.csv\n",
      "record: 16786  from:  39600 to:  41400\n"
     ]
    },
    {
     "name": "stderr",
     "output_type": "stream",
     "text": [
      "Processing P: 100%|██████████| 2095/2095 [00:02<00:00, 710.14it/s]\n",
      "Processing QRS: 100%|██████████| 2096/2096 [00:00<00:00, 4494.52it/s]\n"
     ]
    },
    {
     "name": "stdout",
     "output_type": "stream",
     "text": [
      "Saved mask to: masks/16786_39600_41400_mask.csv\n",
      "record: 16786  from:  41400 to:  43200\n"
     ]
    },
    {
     "name": "stderr",
     "output_type": "stream",
     "text": [
      "Processing P: 100%|██████████| 1900/1900 [00:02<00:00, 719.40it/s]\n",
      "Processing QRS: 100%|██████████| 1902/1902 [00:00<00:00, 4446.57it/s]\n"
     ]
    },
    {
     "name": "stdout",
     "output_type": "stream",
     "text": [
      "Saved mask to: masks/16786_41400_43200_mask.csv\n",
      "record: 16786  from:  43200 to:  45000\n"
     ]
    },
    {
     "name": "stderr",
     "output_type": "stream",
     "text": [
      "Processing P: 100%|██████████| 1887/1887 [00:02<00:00, 711.40it/s]\n",
      "Processing QRS: 100%|██████████| 1887/1887 [00:00<00:00, 4519.49it/s]\n"
     ]
    },
    {
     "name": "stdout",
     "output_type": "stream",
     "text": [
      "Saved mask to: masks/16786_43200_45000_mask.csv\n",
      "record: 16786  from:  45000 to:  46800\n"
     ]
    },
    {
     "name": "stderr",
     "output_type": "stream",
     "text": [
      "Processing P: 100%|██████████| 1899/1899 [00:02<00:00, 709.78it/s]\n",
      "Processing QRS: 100%|██████████| 1899/1899 [00:00<00:00, 4325.30it/s]\n"
     ]
    },
    {
     "name": "stdout",
     "output_type": "stream",
     "text": [
      "Saved mask to: masks/16786_45000_46800_mask.csv\n",
      "record: 16786  from:  46800 to:  48600\n"
     ]
    },
    {
     "name": "stderr",
     "output_type": "stream",
     "text": [
      "Processing P: 100%|██████████| 1964/1964 [00:02<00:00, 716.91it/s]\n",
      "Processing QRS: 100%|██████████| 1964/1964 [00:00<00:00, 4445.04it/s]\n"
     ]
    },
    {
     "name": "stdout",
     "output_type": "stream",
     "text": [
      "Saved mask to: masks/16786_46800_48600_mask.csv\n",
      "record: 16786  from:  48600 to:  50400\n"
     ]
    },
    {
     "name": "stderr",
     "output_type": "stream",
     "text": [
      "Processing P: 100%|██████████| 1959/1959 [00:02<00:00, 700.10it/s]\n",
      "Processing QRS: 100%|██████████| 1959/1959 [00:00<00:00, 4169.37it/s]\n"
     ]
    },
    {
     "name": "stdout",
     "output_type": "stream",
     "text": [
      "Saved mask to: masks/16786_48600_50400_mask.csv\n",
      "record: 16786  from:  50400 to:  52200\n"
     ]
    },
    {
     "name": "stderr",
     "output_type": "stream",
     "text": [
      "Processing P: 100%|██████████| 1899/1899 [00:02<00:00, 702.26it/s]\n",
      "Processing QRS: 100%|██████████| 1899/1899 [00:00<00:00, 4114.09it/s]\n"
     ]
    },
    {
     "name": "stdout",
     "output_type": "stream",
     "text": [
      "Saved mask to: masks/16786_50400_52200_mask.csv\n",
      "record: 16786  from:  52200 to:  54000\n"
     ]
    },
    {
     "name": "stderr",
     "output_type": "stream",
     "text": [
      "Processing P: 100%|██████████| 1961/1961 [00:02<00:00, 682.34it/s]\n",
      "Processing QRS: 100%|██████████| 1961/1961 [00:00<00:00, 4516.66it/s]\n"
     ]
    },
    {
     "name": "stdout",
     "output_type": "stream",
     "text": [
      "Saved mask to: masks/16786_52200_54000_mask.csv\n",
      "record: 16786  from:  54000 to:  55800\n"
     ]
    },
    {
     "name": "stderr",
     "output_type": "stream",
     "text": [
      "Processing P: 100%|██████████| 1965/1965 [00:02<00:00, 721.06it/s]\n",
      "Processing QRS: 100%|██████████| 1965/1965 [00:00<00:00, 4483.28it/s]\n"
     ]
    },
    {
     "name": "stdout",
     "output_type": "stream",
     "text": [
      "Saved mask to: masks/16786_54000_55800_mask.csv\n",
      "record: 16786  from:  55800 to:  57600\n"
     ]
    },
    {
     "name": "stderr",
     "output_type": "stream",
     "text": [
      "Processing P: 100%|██████████| 1924/1924 [00:02<00:00, 723.22it/s]\n",
      "Processing QRS: 100%|██████████| 1924/1924 [00:00<00:00, 4358.53it/s]\n"
     ]
    },
    {
     "name": "stdout",
     "output_type": "stream",
     "text": [
      "Saved mask to: masks/16786_55800_57600_mask.csv\n",
      "record: 16786  from:  57600 to:  59400\n"
     ]
    },
    {
     "name": "stderr",
     "output_type": "stream",
     "text": [
      "Processing P: 100%|██████████| 1904/1904 [00:02<00:00, 723.16it/s]\n",
      "Processing QRS: 100%|██████████| 1904/1904 [00:00<00:00, 4524.92it/s]\n"
     ]
    },
    {
     "name": "stdout",
     "output_type": "stream",
     "text": [
      "Saved mask to: masks/16786_57600_59400_mask.csv\n",
      "record: 16786  from:  59400 to:  61200\n"
     ]
    },
    {
     "name": "stderr",
     "output_type": "stream",
     "text": [
      "Processing P: 100%|██████████| 1845/1845 [00:02<00:00, 723.61it/s]\n",
      "Processing QRS: 100%|██████████| 1845/1845 [00:00<00:00, 4491.07it/s]\n"
     ]
    },
    {
     "name": "stdout",
     "output_type": "stream",
     "text": [
      "Saved mask to: masks/16786_59400_61200_mask.csv\n",
      "record: 16786  from:  61200 to:  63000\n"
     ]
    },
    {
     "name": "stderr",
     "output_type": "stream",
     "text": [
      "Processing P: 100%|██████████| 1849/1849 [00:02<00:00, 724.15it/s]\n",
      "Processing QRS: 100%|██████████| 1849/1849 [00:00<00:00, 4526.18it/s]\n"
     ]
    },
    {
     "name": "stdout",
     "output_type": "stream",
     "text": [
      "Saved mask to: masks/16786_61200_63000_mask.csv\n",
      "record: 16786  from:  63000 to:  64800\n"
     ]
    },
    {
     "name": "stderr",
     "output_type": "stream",
     "text": [
      "Processing P: 100%|██████████| 1820/1820 [00:02<00:00, 720.45it/s]\n",
      "Processing QRS: 100%|██████████| 1820/1820 [00:00<00:00, 4393.87it/s]\n"
     ]
    },
    {
     "name": "stdout",
     "output_type": "stream",
     "text": [
      "Saved mask to: masks/16786_63000_64800_mask.csv\n",
      "record: 16786  from:  64800 to:  66600\n"
     ]
    },
    {
     "name": "stderr",
     "output_type": "stream",
     "text": [
      "Processing P: 100%|██████████| 1900/1900 [00:02<00:00, 724.04it/s]\n",
      "Processing QRS: 100%|██████████| 1900/1900 [00:00<00:00, 4266.69it/s]\n"
     ]
    },
    {
     "name": "stdout",
     "output_type": "stream",
     "text": [
      "Saved mask to: masks/16786_64800_66600_mask.csv\n",
      "record: 16786  from:  66600 to:  68400\n"
     ]
    },
    {
     "name": "stderr",
     "output_type": "stream",
     "text": [
      "Processing P: 100%|██████████| 1858/1858 [00:02<00:00, 709.01it/s]\n",
      "Processing QRS: 100%|██████████| 1858/1858 [00:00<00:00, 4503.18it/s]\n"
     ]
    },
    {
     "name": "stdout",
     "output_type": "stream",
     "text": [
      "Saved mask to: masks/16786_66600_68400_mask.csv\n",
      "record: 16786  from:  68400 to:  70200\n"
     ]
    },
    {
     "name": "stderr",
     "output_type": "stream",
     "text": [
      "Processing P: 100%|██████████| 1888/1888 [00:02<00:00, 706.04it/s]\n",
      "Processing QRS: 100%|██████████| 1888/1888 [00:00<00:00, 4493.80it/s]\n"
     ]
    },
    {
     "name": "stdout",
     "output_type": "stream",
     "text": [
      "Saved mask to: masks/16786_68400_70200_mask.csv\n",
      "record: 16786  from:  70200 to:  72000\n"
     ]
    },
    {
     "name": "stderr",
     "output_type": "stream",
     "text": [
      "Processing P: 100%|██████████| 1846/1846 [00:02<00:00, 731.74it/s]\n",
      "Processing QRS: 100%|██████████| 1846/1846 [00:00<00:00, 4509.70it/s]\n"
     ]
    },
    {
     "name": "stdout",
     "output_type": "stream",
     "text": [
      "Saved mask to: masks/16786_70200_72000_mask.csv\n",
      "record: 16786  from:  72000 to:  73800\n"
     ]
    },
    {
     "name": "stderr",
     "output_type": "stream",
     "text": [
      "Processing P: 100%|██████████| 2291/2291 [00:03<00:00, 715.92it/s]\n",
      "Processing QRS: 100%|██████████| 2292/2292 [00:00<00:00, 4326.32it/s]\n"
     ]
    },
    {
     "name": "stdout",
     "output_type": "stream",
     "text": [
      "Saved mask to: masks/16786_72000_73800_mask.csv\n",
      "record: 16786  from:  73800 to:  75600\n"
     ]
    },
    {
     "name": "stderr",
     "output_type": "stream",
     "text": [
      "Processing P: 100%|██████████| 2141/2141 [00:02<00:00, 714.91it/s]\n",
      "Processing QRS: 100%|██████████| 2141/2141 [00:00<00:00, 4367.54it/s]\n"
     ]
    },
    {
     "name": "stdout",
     "output_type": "stream",
     "text": [
      "Saved mask to: masks/16786_73800_75600_mask.csv\n",
      "record: 16786  from:  75600 to:  77400\n"
     ]
    },
    {
     "name": "stderr",
     "output_type": "stream",
     "text": [
      "Processing P: 100%|██████████| 2346/2346 [00:03<00:00, 720.61it/s]\n",
      "Processing QRS: 100%|██████████| 2346/2346 [00:00<00:00, 4499.03it/s]\n"
     ]
    },
    {
     "name": "stdout",
     "output_type": "stream",
     "text": [
      "Saved mask to: masks/16786_75600_77400_mask.csv\n",
      "record: 16786  from:  77400 to:  79200\n"
     ]
    },
    {
     "name": "stderr",
     "output_type": "stream",
     "text": [
      "Processing P: 100%|██████████| 2458/2458 [00:03<00:00, 712.95it/s]\n",
      "Processing QRS: 100%|██████████| 2458/2458 [00:00<00:00, 4556.65it/s]\n"
     ]
    },
    {
     "name": "stdout",
     "output_type": "stream",
     "text": [
      "Saved mask to: masks/16786_77400_79200_mask.csv\n",
      "record: 16786  from:  79200 to:  81000\n"
     ]
    },
    {
     "name": "stderr",
     "output_type": "stream",
     "text": [
      "Processing P: 100%|██████████| 2427/2427 [00:03<00:00, 729.16it/s]\n",
      "Processing QRS: 100%|██████████| 2427/2427 [00:00<00:00, 4516.86it/s]\n"
     ]
    },
    {
     "name": "stdout",
     "output_type": "stream",
     "text": [
      "Saved mask to: masks/16786_79200_81000_mask.csv\n",
      "record: 16786  from:  81000 to:  82800\n"
     ]
    },
    {
     "name": "stderr",
     "output_type": "stream",
     "text": [
      "Processing P: 100%|██████████| 2190/2190 [00:03<00:00, 712.21it/s]\n",
      "Processing QRS: 100%|██████████| 2192/2192 [00:00<00:00, 4406.37it/s]\n"
     ]
    },
    {
     "name": "stdout",
     "output_type": "stream",
     "text": [
      "Saved mask to: masks/16786_81000_82800_mask.csv\n",
      "record: 16786  from:  82800 to:  84600\n"
     ]
    },
    {
     "name": "stderr",
     "output_type": "stream",
     "text": [
      "Processing P: 100%|██████████| 1469/1469 [00:02<00:00, 717.32it/s]\n",
      "Processing QRS: 100%|██████████| 1469/1469 [00:00<00:00, 5670.47it/s]\n"
     ]
    },
    {
     "name": "stdout",
     "output_type": "stream",
     "text": [
      "Saved mask to: masks/16786_82800_84600_mask.csv\n",
      "record: 16786  from:  84600 to:  86400\n"
     ]
    },
    {
     "name": "stderr",
     "output_type": "stream",
     "text": [
      "Processing P: 100%|██████████| 1372/1372 [00:02<00:00, 664.16it/s]\n",
      "Processing QRS: 100%|██████████| 2113/2113 [00:00<00:00, 5541.08it/s]\n"
     ]
    },
    {
     "name": "stdout",
     "output_type": "stream",
     "text": [
      "Saved mask to: masks/16786_84600_86400_mask.csv\n",
      "record: 16786  from:  86400 to:  88160.0\n"
     ]
    },
    {
     "name": "stderr",
     "output_type": "stream",
     "text": [
      "Processing P: 100%|██████████| 578/578 [00:00<00:00, 689.97it/s]\n",
      "Processing QRS: 100%|██████████| 272/272 [00:00<00:00, 7016.52it/s]\n"
     ]
    },
    {
     "name": "stdout",
     "output_type": "stream",
     "text": [
      "Saved mask to: masks/16786_86400_88160.0_mask.csv\n",
      "record: 16795  from:  0 to:  1800\n"
     ]
    },
    {
     "name": "stderr",
     "output_type": "stream",
     "text": [
      "Processing P: 100%|██████████| 1911/1911 [00:02<00:00, 732.83it/s]\n",
      "Processing QRS: 100%|██████████| 1910/1910 [00:00<00:00, 4680.08it/s]\n"
     ]
    },
    {
     "name": "stdout",
     "output_type": "stream",
     "text": [
      "Saved mask to: masks/16795_0_1800_mask.csv\n",
      "record: 16795  from:  1800 to:  3600\n"
     ]
    },
    {
     "name": "stderr",
     "output_type": "stream",
     "text": [
      "Processing P: 100%|██████████| 2244/2244 [00:03<00:00, 733.30it/s]\n",
      "Processing QRS: 100%|██████████| 2246/2246 [00:00<00:00, 4816.79it/s]\n"
     ]
    },
    {
     "name": "stdout",
     "output_type": "stream",
     "text": [
      "Saved mask to: masks/16795_1800_3600_mask.csv\n",
      "record: 16795  from:  3600 to:  5400\n"
     ]
    },
    {
     "name": "stderr",
     "output_type": "stream",
     "text": [
      "Processing P: 100%|██████████| 2405/2405 [00:03<00:00, 735.08it/s]\n",
      "Processing QRS: 100%|██████████| 2410/2410 [00:00<00:00, 4582.82it/s]\n"
     ]
    },
    {
     "name": "stdout",
     "output_type": "stream",
     "text": [
      "Saved mask to: masks/16795_3600_5400_mask.csv\n",
      "record: 16795  from:  5400 to:  7200\n"
     ]
    },
    {
     "name": "stderr",
     "output_type": "stream",
     "text": [
      "Processing P: 100%|██████████| 2816/2816 [00:03<00:00, 718.68it/s]\n",
      "Processing QRS: 100%|██████████| 2821/2821 [00:00<00:00, 4511.63it/s]\n"
     ]
    },
    {
     "name": "stdout",
     "output_type": "stream",
     "text": [
      "Saved mask to: masks/16795_5400_7200_mask.csv\n",
      "record: 16795  from:  7200 to:  9000\n"
     ]
    },
    {
     "name": "stderr",
     "output_type": "stream",
     "text": [
      "Processing P: 100%|██████████| 2966/2966 [00:04<00:00, 735.65it/s]\n",
      "Processing QRS: 100%|██████████| 2974/2974 [00:00<00:00, 4623.45it/s]\n"
     ]
    },
    {
     "name": "stdout",
     "output_type": "stream",
     "text": [
      "Saved mask to: masks/16795_7200_9000_mask.csv\n",
      "record: 16795  from:  9000 to:  10800\n"
     ]
    },
    {
     "name": "stderr",
     "output_type": "stream",
     "text": [
      "Processing P: 100%|██████████| 2737/2737 [00:03<00:00, 732.76it/s]\n",
      "Processing QRS: 100%|██████████| 2737/2737 [00:00<00:00, 4560.01it/s]\n"
     ]
    },
    {
     "name": "stdout",
     "output_type": "stream",
     "text": [
      "Saved mask to: masks/16795_9000_10800_mask.csv\n",
      "record: 16795  from:  10800 to:  12600\n"
     ]
    },
    {
     "name": "stderr",
     "output_type": "stream",
     "text": [
      "Processing P: 100%|██████████| 2813/2813 [00:03<00:00, 710.14it/s]\n",
      "Processing QRS: 100%|██████████| 2819/2819 [00:00<00:00, 4581.57it/s]\n"
     ]
    },
    {
     "name": "stdout",
     "output_type": "stream",
     "text": [
      "Saved mask to: masks/16795_10800_12600_mask.csv\n",
      "record: 16795  from:  12600 to:  14400\n"
     ]
    },
    {
     "name": "stderr",
     "output_type": "stream",
     "text": [
      "Processing P: 100%|██████████| 2362/2362 [00:03<00:00, 731.66it/s]\n",
      "Processing QRS: 100%|██████████| 2361/2361 [00:00<00:00, 4689.03it/s]\n"
     ]
    },
    {
     "name": "stdout",
     "output_type": "stream",
     "text": [
      "Saved mask to: masks/16795_12600_14400_mask.csv\n",
      "record: 16795  from:  14400 to:  16200\n"
     ]
    },
    {
     "name": "stderr",
     "output_type": "stream",
     "text": [
      "Processing P: 100%|██████████| 2348/2348 [00:03<00:00, 731.35it/s]\n",
      "Processing QRS: 100%|██████████| 2349/2349 [00:00<00:00, 4673.17it/s]\n"
     ]
    },
    {
     "name": "stdout",
     "output_type": "stream",
     "text": [
      "Saved mask to: masks/16795_14400_16200_mask.csv\n",
      "record: 16795  from:  16200 to:  18000\n"
     ]
    },
    {
     "name": "stderr",
     "output_type": "stream",
     "text": [
      "Processing P: 100%|██████████| 2690/2690 [00:03<00:00, 711.13it/s]\n",
      "Processing QRS: 100%|██████████| 2695/2695 [00:00<00:00, 4449.77it/s]\n"
     ]
    },
    {
     "name": "stdout",
     "output_type": "stream",
     "text": [
      "Saved mask to: masks/16795_16200_18000_mask.csv\n",
      "record: 16795  from:  18000 to:  19800\n"
     ]
    },
    {
     "name": "stderr",
     "output_type": "stream",
     "text": [
      "Processing P: 100%|██████████| 2643/2643 [00:03<00:00, 732.85it/s]\n",
      "Processing QRS: 100%|██████████| 2645/2645 [00:00<00:00, 4639.21it/s]\n"
     ]
    },
    {
     "name": "stdout",
     "output_type": "stream",
     "text": [
      "Saved mask to: masks/16795_18000_19800_mask.csv\n",
      "record: 16795  from:  19800 to:  21600\n"
     ]
    },
    {
     "name": "stderr",
     "output_type": "stream",
     "text": [
      "Processing P: 100%|██████████| 2522/2522 [00:03<00:00, 713.68it/s]\n",
      "Processing QRS: 100%|██████████| 2524/2524 [00:00<00:00, 4709.54it/s]\n"
     ]
    },
    {
     "name": "stdout",
     "output_type": "stream",
     "text": [
      "Saved mask to: masks/16795_19800_21600_mask.csv\n",
      "record: 16795  from:  21600 to:  23400\n"
     ]
    },
    {
     "name": "stderr",
     "output_type": "stream",
     "text": [
      "Processing P: 100%|██████████| 2601/2601 [00:03<00:00, 698.84it/s]\n",
      "Processing QRS: 100%|██████████| 2607/2607 [00:00<00:00, 4602.81it/s]\n"
     ]
    },
    {
     "name": "stdout",
     "output_type": "stream",
     "text": [
      "Saved mask to: masks/16795_21600_23400_mask.csv\n",
      "record: 16795  from:  23400 to:  25200\n"
     ]
    },
    {
     "name": "stderr",
     "output_type": "stream",
     "text": [
      "Processing P: 100%|██████████| 2421/2421 [00:03<00:00, 721.00it/s]\n",
      "Processing QRS: 100%|██████████| 2420/2420 [00:00<00:00, 4493.02it/s]\n"
     ]
    },
    {
     "name": "stdout",
     "output_type": "stream",
     "text": [
      "Saved mask to: masks/16795_23400_25200_mask.csv\n",
      "record: 16795  from:  25200 to:  27000\n"
     ]
    },
    {
     "name": "stderr",
     "output_type": "stream",
     "text": [
      "Processing P: 100%|██████████| 2437/2437 [00:03<00:00, 717.11it/s]\n",
      "Processing QRS: 100%|██████████| 2437/2437 [00:00<00:00, 4388.85it/s]\n"
     ]
    },
    {
     "name": "stdout",
     "output_type": "stream",
     "text": [
      "Saved mask to: masks/16795_25200_27000_mask.csv\n",
      "record: 16795  from:  27000 to:  28800\n"
     ]
    },
    {
     "name": "stderr",
     "output_type": "stream",
     "text": [
      "Processing P: 100%|██████████| 2184/2184 [00:03<00:00, 693.99it/s]\n",
      "Processing QRS: 100%|██████████| 2184/2184 [00:00<00:00, 4386.68it/s]\n"
     ]
    },
    {
     "name": "stdout",
     "output_type": "stream",
     "text": [
      "Saved mask to: masks/16795_27000_28800_mask.csv\n",
      "record: 16795  from:  28800 to:  30600\n"
     ]
    },
    {
     "name": "stderr",
     "output_type": "stream",
     "text": [
      "Processing P: 100%|██████████| 2442/2442 [00:03<00:00, 709.88it/s]\n",
      "Processing QRS: 100%|██████████| 2442/2442 [00:00<00:00, 4274.36it/s]\n"
     ]
    },
    {
     "name": "stdout",
     "output_type": "stream",
     "text": [
      "Saved mask to: masks/16795_28800_30600_mask.csv\n",
      "record: 16795  from:  30600 to:  32400\n"
     ]
    },
    {
     "name": "stderr",
     "output_type": "stream",
     "text": [
      "Processing P: 100%|██████████| 2217/2217 [00:03<00:00, 717.23it/s]\n",
      "Processing QRS: 100%|██████████| 2217/2217 [00:00<00:00, 4685.48it/s]\n"
     ]
    },
    {
     "name": "stdout",
     "output_type": "stream",
     "text": [
      "Saved mask to: masks/16795_30600_32400_mask.csv\n",
      "record: 16795  from:  32400 to:  34200\n"
     ]
    },
    {
     "name": "stderr",
     "output_type": "stream",
     "text": [
      "Processing P: 100%|██████████| 2258/2258 [00:03<00:00, 698.29it/s]\n",
      "Processing QRS: 100%|██████████| 2258/2258 [00:00<00:00, 4287.98it/s]\n"
     ]
    },
    {
     "name": "stdout",
     "output_type": "stream",
     "text": [
      "Saved mask to: masks/16795_32400_34200_mask.csv\n",
      "record: 16795  from:  34200 to:  36000\n"
     ]
    },
    {
     "name": "stderr",
     "output_type": "stream",
     "text": [
      "Processing P: 100%|██████████| 2049/2049 [00:02<00:00, 705.93it/s]\n",
      "Processing QRS: 100%|██████████| 2049/2049 [00:00<00:00, 4491.30it/s]\n"
     ]
    },
    {
     "name": "stdout",
     "output_type": "stream",
     "text": [
      "Saved mask to: masks/16795_34200_36000_mask.csv\n",
      "record: 16795  from:  36000 to:  37800\n"
     ]
    },
    {
     "name": "stderr",
     "output_type": "stream",
     "text": [
      "Processing P: 100%|██████████| 1737/1737 [00:02<00:00, 734.12it/s]\n",
      "Processing QRS: 100%|██████████| 1737/1737 [00:00<00:00, 4474.82it/s]\n"
     ]
    },
    {
     "name": "stdout",
     "output_type": "stream",
     "text": [
      "Saved mask to: masks/16795_36000_37800_mask.csv\n",
      "record: 16795  from:  37800 to:  39600\n"
     ]
    },
    {
     "name": "stderr",
     "output_type": "stream",
     "text": [
      "Processing P: 100%|██████████| 2184/2184 [00:03<00:00, 689.38it/s]\n",
      "Processing QRS: 100%|██████████| 2183/2183 [00:00<00:00, 4369.37it/s]\n"
     ]
    },
    {
     "name": "stdout",
     "output_type": "stream",
     "text": [
      "Saved mask to: masks/16795_37800_39600_mask.csv\n",
      "record: 16795  from:  39600 to:  41400\n"
     ]
    },
    {
     "name": "stderr",
     "output_type": "stream",
     "text": [
      "Processing P: 100%|██████████| 2014/2014 [00:02<00:00, 715.18it/s]\n",
      "Processing QRS: 100%|██████████| 2015/2015 [00:00<00:00, 4075.77it/s]\n"
     ]
    },
    {
     "name": "stdout",
     "output_type": "stream",
     "text": [
      "Saved mask to: masks/16795_39600_41400_mask.csv\n",
      "record: 16795  from:  41400 to:  43200\n"
     ]
    },
    {
     "name": "stderr",
     "output_type": "stream",
     "text": [
      "Processing P: 100%|██████████| 2034/2034 [00:03<00:00, 656.59it/s]\n",
      "Processing QRS: 100%|██████████| 2033/2033 [00:00<00:00, 4636.92it/s]\n"
     ]
    },
    {
     "name": "stdout",
     "output_type": "stream",
     "text": [
      "Saved mask to: masks/16795_41400_43200_mask.csv\n",
      "record: 16795  from:  43200 to:  45000\n"
     ]
    },
    {
     "name": "stderr",
     "output_type": "stream",
     "text": [
      "Processing P: 100%|██████████| 1831/1831 [00:02<00:00, 714.91it/s]\n",
      "Processing QRS: 100%|██████████| 1831/1831 [00:00<00:00, 4391.18it/s]\n"
     ]
    },
    {
     "name": "stdout",
     "output_type": "stream",
     "text": [
      "Saved mask to: masks/16795_43200_45000_mask.csv\n",
      "record: 16795  from:  45000 to:  46800\n"
     ]
    },
    {
     "name": "stderr",
     "output_type": "stream",
     "text": [
      "Processing P: 100%|██████████| 1957/1957 [00:02<00:00, 695.32it/s]\n",
      "Processing QRS: 100%|██████████| 1957/1957 [00:00<00:00, 4442.05it/s]\n"
     ]
    },
    {
     "name": "stdout",
     "output_type": "stream",
     "text": [
      "Saved mask to: masks/16795_45000_46800_mask.csv\n",
      "record: 16795  from:  46800 to:  48600\n"
     ]
    },
    {
     "name": "stderr",
     "output_type": "stream",
     "text": [
      "Processing P: 100%|██████████| 1996/1996 [00:02<00:00, 718.43it/s]\n",
      "Processing QRS: 100%|██████████| 1994/1994 [00:00<00:00, 4459.38it/s]\n"
     ]
    },
    {
     "name": "stdout",
     "output_type": "stream",
     "text": [
      "Saved mask to: masks/16795_46800_48600_mask.csv\n",
      "record: 16795  from:  48600 to:  50400\n"
     ]
    },
    {
     "name": "stderr",
     "output_type": "stream",
     "text": [
      "Processing P: 100%|██████████| 2192/2192 [00:03<00:00, 681.64it/s]\n",
      "Processing QRS: 100%|██████████| 2192/2192 [00:00<00:00, 4521.83it/s]\n"
     ]
    },
    {
     "name": "stdout",
     "output_type": "stream",
     "text": [
      "Saved mask to: masks/16795_48600_50400_mask.csv\n",
      "record: 16795  from:  50400 to:  52200\n"
     ]
    },
    {
     "name": "stderr",
     "output_type": "stream",
     "text": [
      "Processing P: 100%|██████████| 1521/1521 [00:02<00:00, 724.67it/s]\n",
      "Processing QRS: 100%|██████████| 1521/1521 [00:00<00:00, 4561.28it/s]\n"
     ]
    },
    {
     "name": "stdout",
     "output_type": "stream",
     "text": [
      "Saved mask to: masks/16795_50400_52200_mask.csv\n",
      "record: 16795  from:  52200 to:  54000\n"
     ]
    },
    {
     "name": "stderr",
     "output_type": "stream",
     "text": [
      "Processing P: 100%|██████████| 1560/1560 [00:02<00:00, 621.84it/s]\n",
      "Processing QRS: 100%|██████████| 1560/1560 [00:00<00:00, 4467.52it/s]\n"
     ]
    },
    {
     "name": "stdout",
     "output_type": "stream",
     "text": [
      "Saved mask to: masks/16795_52200_54000_mask.csv\n",
      "record: 16795  from:  54000 to:  55800\n"
     ]
    },
    {
     "name": "stderr",
     "output_type": "stream",
     "text": [
      "Processing P: 100%|██████████| 1488/1488 [00:02<00:00, 725.89it/s]\n",
      "Processing QRS: 100%|██████████| 1488/1488 [00:00<00:00, 4238.63it/s]\n"
     ]
    },
    {
     "name": "stdout",
     "output_type": "stream",
     "text": [
      "Saved mask to: masks/16795_54000_55800_mask.csv\n",
      "record: 16795  from:  55800 to:  57600\n"
     ]
    },
    {
     "name": "stderr",
     "output_type": "stream",
     "text": [
      "Processing P: 100%|██████████| 1451/1451 [00:02<00:00, 619.61it/s]\n",
      "Processing QRS: 100%|██████████| 1451/1451 [00:00<00:00, 4510.81it/s]\n"
     ]
    },
    {
     "name": "stdout",
     "output_type": "stream",
     "text": [
      "Saved mask to: masks/16795_55800_57600_mask.csv\n",
      "record: 16795  from:  57600 to:  59400\n"
     ]
    },
    {
     "name": "stderr",
     "output_type": "stream",
     "text": [
      "Processing P: 100%|██████████| 1555/1555 [00:02<00:00, 715.93it/s]\n",
      "Processing QRS: 100%|██████████| 1555/1555 [00:00<00:00, 4404.74it/s]\n"
     ]
    },
    {
     "name": "stdout",
     "output_type": "stream",
     "text": [
      "Saved mask to: masks/16795_57600_59400_mask.csv\n",
      "record: 16795  from:  59400 to:  61200\n"
     ]
    },
    {
     "name": "stderr",
     "output_type": "stream",
     "text": [
      "Processing P: 100%|██████████| 1500/1500 [00:02<00:00, 711.89it/s]\n",
      "Processing QRS: 100%|██████████| 1500/1500 [00:00<00:00, 4495.95it/s]\n"
     ]
    },
    {
     "name": "stdout",
     "output_type": "stream",
     "text": [
      "Saved mask to: masks/16795_59400_61200_mask.csv\n",
      "record: 16795  from:  61200 to:  63000\n"
     ]
    },
    {
     "name": "stderr",
     "output_type": "stream",
     "text": [
      "Processing P: 100%|██████████| 1493/1493 [00:02<00:00, 717.74it/s]\n",
      "Processing QRS: 100%|██████████| 1503/1503 [00:00<00:00, 4562.82it/s]\n"
     ]
    },
    {
     "name": "stdout",
     "output_type": "stream",
     "text": [
      "Saved mask to: masks/16795_61200_63000_mask.csv\n",
      "record: 16795  from:  63000 to:  64800\n"
     ]
    },
    {
     "name": "stderr",
     "output_type": "stream",
     "text": [
      "Processing P: 100%|██████████| 1629/1629 [00:02<00:00, 627.29it/s]\n",
      "Processing QRS: 100%|██████████| 1632/1632 [00:00<00:00, 4391.89it/s]\n"
     ]
    },
    {
     "name": "stdout",
     "output_type": "stream",
     "text": [
      "Saved mask to: masks/16795_63000_64800_mask.csv\n",
      "record: 16795  from:  64800 to:  66600\n"
     ]
    },
    {
     "name": "stderr",
     "output_type": "stream",
     "text": [
      "Processing P: 100%|██████████| 1655/1655 [00:02<00:00, 728.63it/s]\n",
      "Processing QRS: 100%|██████████| 1655/1655 [00:00<00:00, 4494.57it/s]\n"
     ]
    },
    {
     "name": "stdout",
     "output_type": "stream",
     "text": [
      "Saved mask to: masks/16795_64800_66600_mask.csv\n",
      "record: 16795  from:  66600 to:  68400\n"
     ]
    },
    {
     "name": "stderr",
     "output_type": "stream",
     "text": [
      "Processing P: 100%|██████████| 1560/1560 [00:02<00:00, 644.92it/s]\n",
      "Processing QRS: 100%|██████████| 1560/1560 [00:00<00:00, 4539.95it/s]\n"
     ]
    },
    {
     "name": "stdout",
     "output_type": "stream",
     "text": [
      "Saved mask to: masks/16795_66600_68400_mask.csv\n",
      "record: 16795  from:  68400 to:  70200\n"
     ]
    },
    {
     "name": "stderr",
     "output_type": "stream",
     "text": [
      "Processing P: 100%|██████████| 1549/1549 [00:02<00:00, 721.29it/s]\n",
      "Processing QRS: 100%|██████████| 1549/1549 [00:00<00:00, 4414.59it/s]\n"
     ]
    },
    {
     "name": "stdout",
     "output_type": "stream",
     "text": [
      "Saved mask to: masks/16795_68400_70200_mask.csv\n",
      "record: 16795  from:  70200 to:  72000\n"
     ]
    },
    {
     "name": "stderr",
     "output_type": "stream",
     "text": [
      "Processing P: 100%|██████████| 1626/1626 [00:02<00:00, 659.05it/s]\n",
      "Processing QRS: 100%|██████████| 1626/1626 [00:00<00:00, 4430.96it/s]\n"
     ]
    },
    {
     "name": "stdout",
     "output_type": "stream",
     "text": [
      "Saved mask to: masks/16795_70200_72000_mask.csv\n",
      "record: 16795  from:  72000 to:  73800\n"
     ]
    },
    {
     "name": "stderr",
     "output_type": "stream",
     "text": [
      "Processing P: 100%|██████████| 1985/1985 [00:02<00:00, 722.43it/s]\n",
      "Processing QRS: 100%|██████████| 1990/1990 [00:00<00:00, 4226.47it/s]\n"
     ]
    },
    {
     "name": "stdout",
     "output_type": "stream",
     "text": [
      "Saved mask to: masks/16795_72000_73800_mask.csv\n",
      "record: 16795  from:  73800 to:  75600\n"
     ]
    },
    {
     "name": "stderr",
     "output_type": "stream",
     "text": [
      "Processing P: 100%|██████████| 1256/1256 [00:02<00:00, 574.19it/s]\n",
      "Processing QRS: 100%|██████████| 1271/1271 [00:00<00:00, 6475.38it/s]\n"
     ]
    },
    {
     "name": "stdout",
     "output_type": "stream",
     "text": [
      "Saved mask to: masks/16795_73800_75600_mask.csv\n",
      "record: 16795  from:  75600 to:  77400\n"
     ]
    },
    {
     "name": "stderr",
     "output_type": "stream",
     "text": [
      "Processing P: 100%|██████████| 1266/1266 [00:01<00:00, 677.61it/s]\n",
      "Processing QRS: 100%|██████████| 1859/1859 [00:00<00:00, 5877.34it/s]\n"
     ]
    },
    {
     "name": "stdout",
     "output_type": "stream",
     "text": [
      "Saved mask to: masks/16795_75600_77400_mask.csv\n",
      "record: 16795  from:  77400 to:  79200\n"
     ]
    },
    {
     "name": "stderr",
     "output_type": "stream",
     "text": [
      "Processing P: 100%|██████████| 1278/1278 [00:02<00:00, 532.24it/s]\n",
      "Processing QRS: 100%|██████████| 1904/1904 [00:00<00:00, 5592.51it/s]\n"
     ]
    },
    {
     "name": "stdout",
     "output_type": "stream",
     "text": [
      "Saved mask to: masks/16795_77400_79200_mask.csv\n",
      "record: 16795  from:  79200 to:  81000\n"
     ]
    },
    {
     "name": "stderr",
     "output_type": "stream",
     "text": [
      "Processing P: 100%|██████████| 1288/1288 [00:01<00:00, 662.75it/s]\n",
      "Processing QRS: 100%|██████████| 1864/1864 [00:00<00:00, 5221.78it/s]\n"
     ]
    },
    {
     "name": "stdout",
     "output_type": "stream",
     "text": [
      "Saved mask to: masks/16795_79200_81000_mask.csv\n",
      "record: 16795  from:  81000 to:  82800\n"
     ]
    },
    {
     "name": "stderr",
     "output_type": "stream",
     "text": [
      "Processing P: 100%|██████████| 1265/1265 [00:02<00:00, 569.03it/s]\n",
      "Processing QRS: 100%|██████████| 1859/1859 [00:00<00:00, 5564.74it/s]\n"
     ]
    },
    {
     "name": "stdout",
     "output_type": "stream",
     "text": [
      "Saved mask to: masks/16795_81000_82800_mask.csv\n",
      "record: 16795  from:  82800 to:  84600\n"
     ]
    },
    {
     "name": "stderr",
     "output_type": "stream",
     "text": [
      "Processing P: 100%|██████████| 1347/1347 [00:02<00:00, 664.45it/s]\n",
      "Processing QRS: 100%|██████████| 1954/1954 [00:00<00:00, 5663.42it/s]\n"
     ]
    },
    {
     "name": "stdout",
     "output_type": "stream",
     "text": [
      "Saved mask to: masks/16795_82800_84600_mask.csv\n",
      "record: 16795  from:  84600 to:  84896.0\n"
     ]
    },
    {
     "name": "stderr",
     "output_type": "stream",
     "text": [
      "Processing P: 100%|██████████| 9/9 [00:00<00:00, 1773.32it/s]\n",
      "Processing QRS: 100%|██████████| 37/37 [00:00<00:00, 10206.46it/s]\n"
     ]
    },
    {
     "name": "stdout",
     "output_type": "stream",
     "text": [
      "Saved mask to: masks/16795_84600_84896.0_mask.csv\n",
      "record: 17052  from:  0 to:  1800\n"
     ]
    },
    {
     "name": "stderr",
     "output_type": "stream",
     "text": [
      "Processing P: 100%|██████████| 2259/2259 [00:03<00:00, 703.75it/s]\n",
      "Processing QRS: 100%|██████████| 2262/2262 [00:00<00:00, 4718.95it/s]\n"
     ]
    },
    {
     "name": "stdout",
     "output_type": "stream",
     "text": [
      "Saved mask to: masks/17052_0_1800_mask.csv\n",
      "record: 17052  from:  1800 to:  3600\n"
     ]
    },
    {
     "name": "stderr",
     "output_type": "stream",
     "text": [
      "Processing P: 100%|██████████| 2204/2204 [00:03<00:00, 715.74it/s]\n",
      "Processing QRS: 100%|██████████| 2206/2206 [00:00<00:00, 4616.50it/s]\n"
     ]
    },
    {
     "name": "stdout",
     "output_type": "stream",
     "text": [
      "Saved mask to: masks/17052_1800_3600_mask.csv\n",
      "record: 17052  from:  3600 to:  5400\n"
     ]
    },
    {
     "name": "stderr",
     "output_type": "stream",
     "text": [
      "Processing P: 100%|██████████| 1748/1748 [00:02<00:00, 716.61it/s]\n",
      "Processing QRS: 100%|██████████| 1748/1748 [00:00<00:00, 4365.43it/s]\n"
     ]
    },
    {
     "name": "stdout",
     "output_type": "stream",
     "text": [
      "Saved mask to: masks/17052_3600_5400_mask.csv\n",
      "record: 17052  from:  5400 to:  7200\n"
     ]
    },
    {
     "name": "stderr",
     "output_type": "stream",
     "text": [
      "Processing P: 100%|██████████| 1997/1997 [00:02<00:00, 710.45it/s]\n",
      "Processing QRS: 100%|██████████| 1990/1990 [00:00<00:00, 4341.55it/s]\n"
     ]
    },
    {
     "name": "stdout",
     "output_type": "stream",
     "text": [
      "Saved mask to: masks/17052_5400_7200_mask.csv\n",
      "record: 17052  from:  7200 to:  9000\n"
     ]
    },
    {
     "name": "stderr",
     "output_type": "stream",
     "text": [
      "Processing P: 100%|██████████| 2120/2120 [00:03<00:00, 702.47it/s]\n",
      "Processing QRS: 100%|██████████| 2115/2115 [00:00<00:00, 4288.45it/s]\n"
     ]
    },
    {
     "name": "stdout",
     "output_type": "stream",
     "text": [
      "Saved mask to: masks/17052_7200_9000_mask.csv\n",
      "record: 17052  from:  9000 to:  10800\n"
     ]
    },
    {
     "name": "stderr",
     "output_type": "stream",
     "text": [
      "Processing P: 100%|██████████| 2224/2224 [00:03<00:00, 707.71it/s]\n",
      "Processing QRS: 100%|██████████| 2224/2224 [00:00<00:00, 4471.69it/s]\n"
     ]
    },
    {
     "name": "stdout",
     "output_type": "stream",
     "text": [
      "Saved mask to: masks/17052_9000_10800_mask.csv\n",
      "record: 17052  from:  10800 to:  12600\n"
     ]
    },
    {
     "name": "stderr",
     "output_type": "stream",
     "text": [
      "Processing P: 100%|██████████| 2508/2508 [00:03<00:00, 701.92it/s]\n",
      "Processing QRS: 100%|██████████| 2511/2511 [00:00<00:00, 4571.10it/s]\n"
     ]
    },
    {
     "name": "stdout",
     "output_type": "stream",
     "text": [
      "Saved mask to: masks/17052_10800_12600_mask.csv\n",
      "record: 17052  from:  12600 to:  14400\n"
     ]
    },
    {
     "name": "stderr",
     "output_type": "stream",
     "text": [
      "Processing P: 100%|██████████| 2328/2328 [00:03<00:00, 716.92it/s]\n",
      "Processing QRS: 100%|██████████| 2331/2331 [00:00<00:00, 4467.60it/s]\n"
     ]
    },
    {
     "name": "stdout",
     "output_type": "stream",
     "text": [
      "Saved mask to: masks/17052_12600_14400_mask.csv\n",
      "record: 17052  from:  14400 to:  16200\n"
     ]
    },
    {
     "name": "stderr",
     "output_type": "stream",
     "text": [
      "Processing P: 100%|██████████| 2210/2210 [00:03<00:00, 698.59it/s]\n",
      "Processing QRS: 100%|██████████| 2211/2211 [00:00<00:00, 4472.71it/s]\n"
     ]
    },
    {
     "name": "stdout",
     "output_type": "stream",
     "text": [
      "Saved mask to: masks/17052_14400_16200_mask.csv\n",
      "record: 17052  from:  16200 to:  18000\n"
     ]
    },
    {
     "name": "stderr",
     "output_type": "stream",
     "text": [
      "Processing P: 100%|██████████| 2330/2330 [00:03<00:00, 701.48it/s]\n",
      "Processing QRS: 100%|██████████| 2325/2325 [00:00<00:00, 3954.47it/s]\n"
     ]
    },
    {
     "name": "stdout",
     "output_type": "stream",
     "text": [
      "Saved mask to: masks/17052_16200_18000_mask.csv\n",
      "record: 17052  from:  18000 to:  19800\n"
     ]
    },
    {
     "name": "stderr",
     "output_type": "stream",
     "text": [
      "Processing P: 100%|██████████| 2263/2263 [00:03<00:00, 701.14it/s]\n",
      "Processing QRS: 100%|██████████| 2263/2263 [00:00<00:00, 4384.83it/s]\n"
     ]
    },
    {
     "name": "stdout",
     "output_type": "stream",
     "text": [
      "Saved mask to: masks/17052_18000_19800_mask.csv\n",
      "record: 17052  from:  19800 to:  21600\n"
     ]
    },
    {
     "name": "stderr",
     "output_type": "stream",
     "text": [
      "Processing P: 100%|██████████| 2104/2104 [00:03<00:00, 687.74it/s]\n",
      "Processing QRS: 100%|██████████| 2102/2102 [00:00<00:00, 4370.01it/s]\n"
     ]
    },
    {
     "name": "stdout",
     "output_type": "stream",
     "text": [
      "Saved mask to: masks/17052_19800_21600_mask.csv\n",
      "record: 17052  from:  21600 to:  23400\n"
     ]
    },
    {
     "name": "stderr",
     "output_type": "stream",
     "text": [
      "Processing P: 100%|██████████| 2151/2151 [00:03<00:00, 705.43it/s]\n",
      "Processing QRS: 100%|██████████| 2150/2150 [00:00<00:00, 4366.05it/s]\n"
     ]
    },
    {
     "name": "stdout",
     "output_type": "stream",
     "text": [
      "Saved mask to: masks/17052_21600_23400_mask.csv\n",
      "record: 17052  from:  23400 to:  25200\n"
     ]
    },
    {
     "name": "stderr",
     "output_type": "stream",
     "text": [
      "Processing P: 100%|██████████| 2540/2540 [00:03<00:00, 697.93it/s]\n",
      "Processing QRS: 100%|██████████| 2551/2551 [00:00<00:00, 4463.87it/s]\n"
     ]
    },
    {
     "name": "stdout",
     "output_type": "stream",
     "text": [
      "Saved mask to: masks/17052_23400_25200_mask.csv\n",
      "record: 17052  from:  25200 to:  27000\n"
     ]
    },
    {
     "name": "stderr",
     "output_type": "stream",
     "text": [
      "Processing P: 100%|██████████| 2561/2561 [00:03<00:00, 705.91it/s]\n",
      "Processing QRS: 100%|██████████| 2573/2573 [00:00<00:00, 4421.83it/s]\n"
     ]
    },
    {
     "name": "stdout",
     "output_type": "stream",
     "text": [
      "Saved mask to: masks/17052_25200_27000_mask.csv\n",
      "record: 17052  from:  27000 to:  28800\n"
     ]
    },
    {
     "name": "stderr",
     "output_type": "stream",
     "text": [
      "Processing P: 100%|██████████| 2188/2188 [00:03<00:00, 711.14it/s]\n",
      "Processing QRS: 100%|██████████| 2189/2189 [00:00<00:00, 4553.85it/s]\n"
     ]
    },
    {
     "name": "stdout",
     "output_type": "stream",
     "text": [
      "Saved mask to: masks/17052_27000_28800_mask.csv\n",
      "record: 17052  from:  28800 to:  30600\n"
     ]
    },
    {
     "name": "stderr",
     "output_type": "stream",
     "text": [
      "Processing P: 100%|██████████| 1858/1858 [00:02<00:00, 691.11it/s]\n",
      "Processing QRS: 100%|██████████| 1858/1858 [00:00<00:00, 4364.23it/s]\n"
     ]
    },
    {
     "name": "stdout",
     "output_type": "stream",
     "text": [
      "Saved mask to: masks/17052_28800_30600_mask.csv\n",
      "record: 17052  from:  30600 to:  32400\n"
     ]
    },
    {
     "name": "stderr",
     "output_type": "stream",
     "text": [
      "Processing P: 100%|██████████| 1828/1828 [00:02<00:00, 722.10it/s]\n",
      "Processing QRS: 100%|██████████| 1829/1829 [00:00<00:00, 4404.60it/s]\n"
     ]
    },
    {
     "name": "stdout",
     "output_type": "stream",
     "text": [
      "Saved mask to: masks/17052_30600_32400_mask.csv\n",
      "record: 17052  from:  32400 to:  34200\n"
     ]
    },
    {
     "name": "stderr",
     "output_type": "stream",
     "text": [
      "Processing P: 100%|██████████| 1830/1830 [00:02<00:00, 722.89it/s]\n",
      "Processing QRS: 100%|██████████| 1829/1829 [00:00<00:00, 4557.45it/s]\n"
     ]
    },
    {
     "name": "stdout",
     "output_type": "stream",
     "text": [
      "Saved mask to: masks/17052_32400_34200_mask.csv\n",
      "record: 17052  from:  34200 to:  36000\n"
     ]
    },
    {
     "name": "stderr",
     "output_type": "stream",
     "text": [
      "Processing P: 100%|██████████| 2009/2009 [00:02<00:00, 719.00it/s]\n",
      "Processing QRS: 100%|██████████| 2008/2008 [00:00<00:00, 4100.78it/s]\n"
     ]
    },
    {
     "name": "stdout",
     "output_type": "stream",
     "text": [
      "Saved mask to: masks/17052_34200_36000_mask.csv\n",
      "record: 17052  from:  36000 to:  37800\n"
     ]
    },
    {
     "name": "stderr",
     "output_type": "stream",
     "text": [
      "Processing P: 100%|██████████| 1983/1983 [00:02<00:00, 705.93it/s]\n",
      "Processing QRS: 100%|██████████| 1984/1984 [00:00<00:00, 4593.31it/s]\n"
     ]
    },
    {
     "name": "stdout",
     "output_type": "stream",
     "text": [
      "Saved mask to: masks/17052_36000_37800_mask.csv\n",
      "record: 17052  from:  37800 to:  39600\n"
     ]
    },
    {
     "name": "stderr",
     "output_type": "stream",
     "text": [
      "Processing P: 100%|██████████| 2142/2142 [00:03<00:00, 709.85it/s]\n",
      "Processing QRS: 100%|██████████| 2142/2142 [00:00<00:00, 4500.94it/s]\n"
     ]
    },
    {
     "name": "stdout",
     "output_type": "stream",
     "text": [
      "Saved mask to: masks/17052_37800_39600_mask.csv\n",
      "record: 17052  from:  39600 to:  41400\n"
     ]
    },
    {
     "name": "stderr",
     "output_type": "stream",
     "text": [
      "Processing P: 100%|██████████| 2012/2012 [00:02<00:00, 716.95it/s]\n",
      "Processing QRS: 100%|██████████| 2014/2014 [00:00<00:00, 4480.79it/s]\n"
     ]
    },
    {
     "name": "stdout",
     "output_type": "stream",
     "text": [
      "Saved mask to: masks/17052_39600_41400_mask.csv\n",
      "record: 17052  from:  41400 to:  43200\n"
     ]
    },
    {
     "name": "stderr",
     "output_type": "stream",
     "text": [
      "Processing P: 100%|██████████| 2197/2197 [00:03<00:00, 711.09it/s]\n",
      "Processing QRS: 100%|██████████| 2210/2210 [00:00<00:00, 4576.43it/s]\n"
     ]
    },
    {
     "name": "stdout",
     "output_type": "stream",
     "text": [
      "Saved mask to: masks/17052_41400_43200_mask.csv\n",
      "record: 17052  from:  43200 to:  45000\n"
     ]
    },
    {
     "name": "stderr",
     "output_type": "stream",
     "text": [
      "Processing P: 100%|██████████| 1808/1808 [00:02<00:00, 704.86it/s]\n",
      "Processing QRS: 100%|██████████| 1807/1807 [00:00<00:00, 4412.44it/s]\n"
     ]
    },
    {
     "name": "stdout",
     "output_type": "stream",
     "text": [
      "Saved mask to: masks/17052_43200_45000_mask.csv\n",
      "record: 17052  from:  45000 to:  46800\n"
     ]
    },
    {
     "name": "stderr",
     "output_type": "stream",
     "text": [
      "Processing P: 100%|██████████| 1912/1912 [00:02<00:00, 730.92it/s]\n",
      "Processing QRS: 100%|██████████| 1912/1912 [00:00<00:00, 4444.84it/s]\n"
     ]
    },
    {
     "name": "stdout",
     "output_type": "stream",
     "text": [
      "Saved mask to: masks/17052_45000_46800_mask.csv\n",
      "record: 17052  from:  46800 to:  48600\n"
     ]
    },
    {
     "name": "stderr",
     "output_type": "stream",
     "text": [
      "Processing P: 100%|██████████| 1882/1882 [00:02<00:00, 709.43it/s]\n",
      "Processing QRS: 100%|██████████| 1882/1882 [00:00<00:00, 4310.43it/s]\n"
     ]
    },
    {
     "name": "stdout",
     "output_type": "stream",
     "text": [
      "Saved mask to: masks/17052_46800_48600_mask.csv\n",
      "record: 17052  from:  48600 to:  50400\n"
     ]
    },
    {
     "name": "stderr",
     "output_type": "stream",
     "text": [
      "Processing P: 100%|██████████| 1939/1939 [00:02<00:00, 717.41it/s]\n",
      "Processing QRS: 100%|██████████| 1939/1939 [00:00<00:00, 4521.91it/s]\n"
     ]
    },
    {
     "name": "stdout",
     "output_type": "stream",
     "text": [
      "Saved mask to: masks/17052_48600_50400_mask.csv\n",
      "record: 17052  from:  50400 to:  52200\n"
     ]
    },
    {
     "name": "stderr",
     "output_type": "stream",
     "text": [
      "Processing P: 100%|██████████| 1837/1837 [00:02<00:00, 699.63it/s]\n",
      "Processing QRS: 100%|██████████| 1837/1837 [00:00<00:00, 4060.81it/s]\n"
     ]
    },
    {
     "name": "stdout",
     "output_type": "stream",
     "text": [
      "Saved mask to: masks/17052_50400_52200_mask.csv\n",
      "record: 17052  from:  52200 to:  54000\n"
     ]
    },
    {
     "name": "stderr",
     "output_type": "stream",
     "text": [
      "Processing P: 100%|██████████| 1682/1682 [00:02<00:00, 731.73it/s]\n",
      "Processing QRS: 100%|██████████| 1682/1682 [00:00<00:00, 4542.43it/s]\n"
     ]
    },
    {
     "name": "stdout",
     "output_type": "stream",
     "text": [
      "Saved mask to: masks/17052_52200_54000_mask.csv\n",
      "record: 17052  from:  54000 to:  55800\n"
     ]
    },
    {
     "name": "stderr",
     "output_type": "stream",
     "text": [
      "Processing P: 100%|██████████| 1598/1598 [00:02<00:00, 679.04it/s]\n",
      "Processing QRS: 100%|██████████| 1599/1599 [00:00<00:00, 4237.93it/s]\n"
     ]
    },
    {
     "name": "stdout",
     "output_type": "stream",
     "text": [
      "Saved mask to: masks/17052_54000_55800_mask.csv\n",
      "record: 17052  from:  55800 to:  57600\n"
     ]
    },
    {
     "name": "stderr",
     "output_type": "stream",
     "text": [
      "Processing P: 100%|██████████| 1644/1644 [00:02<00:00, 726.05it/s]\n",
      "Processing QRS: 100%|██████████| 1644/1644 [00:00<00:00, 4330.98it/s]\n"
     ]
    },
    {
     "name": "stdout",
     "output_type": "stream",
     "text": [
      "Saved mask to: masks/17052_55800_57600_mask.csv\n",
      "record: 17052  from:  57600 to:  59400\n"
     ]
    },
    {
     "name": "stderr",
     "output_type": "stream",
     "text": [
      "Processing P: 100%|██████████| 1719/1719 [00:02<00:00, 695.86it/s]\n",
      "Processing QRS: 100%|██████████| 1719/1719 [00:00<00:00, 4326.35it/s]\n"
     ]
    },
    {
     "name": "stdout",
     "output_type": "stream",
     "text": [
      "Saved mask to: masks/17052_57600_59400_mask.csv\n",
      "record: 17052  from:  59400 to:  61200\n"
     ]
    },
    {
     "name": "stderr",
     "output_type": "stream",
     "text": [
      "Processing P: 100%|██████████| 1619/1619 [00:02<00:00, 738.88it/s]\n",
      "Processing QRS: 100%|██████████| 1621/1621 [00:00<00:00, 4424.83it/s]\n"
     ]
    },
    {
     "name": "stdout",
     "output_type": "stream",
     "text": [
      "Saved mask to: masks/17052_59400_61200_mask.csv\n",
      "record: 17052  from:  61200 to:  63000\n"
     ]
    },
    {
     "name": "stderr",
     "output_type": "stream",
     "text": [
      "Processing P: 100%|██████████| 1918/1918 [00:02<00:00, 699.93it/s]\n",
      "Processing QRS: 100%|██████████| 1938/1938 [00:00<00:00, 4626.51it/s]\n"
     ]
    },
    {
     "name": "stdout",
     "output_type": "stream",
     "text": [
      "Saved mask to: masks/17052_61200_63000_mask.csv\n",
      "record: 17052  from:  63000 to:  64800\n"
     ]
    },
    {
     "name": "stderr",
     "output_type": "stream",
     "text": [
      "Processing P: 100%|██████████| 1794/1794 [00:02<00:00, 703.05it/s]\n",
      "Processing QRS: 100%|██████████| 1809/1809 [00:00<00:00, 4405.06it/s]\n"
     ]
    },
    {
     "name": "stdout",
     "output_type": "stream",
     "text": [
      "Saved mask to: masks/17052_63000_64800_mask.csv\n",
      "record: 17052  from:  64800 to:  66600\n"
     ]
    },
    {
     "name": "stderr",
     "output_type": "stream",
     "text": [
      "Processing P: 100%|██████████| 1683/1683 [00:02<00:00, 688.92it/s]\n",
      "Processing QRS: 100%|██████████| 1687/1687 [00:00<00:00, 4453.68it/s]\n"
     ]
    },
    {
     "name": "stdout",
     "output_type": "stream",
     "text": [
      "Saved mask to: masks/17052_64800_66600_mask.csv\n",
      "record: 17052  from:  66600 to:  68400\n"
     ]
    },
    {
     "name": "stderr",
     "output_type": "stream",
     "text": [
      "Processing P: 100%|██████████| 1758/1758 [00:02<00:00, 725.26it/s]\n",
      "Processing QRS: 100%|██████████| 1759/1759 [00:00<00:00, 4383.50it/s]\n"
     ]
    },
    {
     "name": "stdout",
     "output_type": "stream",
     "text": [
      "Saved mask to: masks/17052_66600_68400_mask.csv\n",
      "record: 17052  from:  68400 to:  70200\n"
     ]
    },
    {
     "name": "stderr",
     "output_type": "stream",
     "text": [
      "Processing P: 100%|██████████| 2695/2695 [00:03<00:00, 694.58it/s]\n",
      "Processing QRS: 100%|██████████| 2705/2705 [00:00<00:00, 4612.13it/s]\n"
     ]
    },
    {
     "name": "stdout",
     "output_type": "stream",
     "text": [
      "Saved mask to: masks/17052_68400_70200_mask.csv\n",
      "record: 17052  from:  70200 to:  72000\n"
     ]
    },
    {
     "name": "stderr",
     "output_type": "stream",
     "text": [
      "Processing P: 100%|██████████| 2404/2404 [00:03<00:00, 726.49it/s]\n",
      "Processing QRS: 100%|██████████| 2409/2409 [00:00<00:00, 4555.78it/s]\n"
     ]
    },
    {
     "name": "stdout",
     "output_type": "stream",
     "text": [
      "Saved mask to: masks/17052_70200_72000_mask.csv\n",
      "record: 17052  from:  72000 to:  73800\n"
     ]
    },
    {
     "name": "stderr",
     "output_type": "stream",
     "text": [
      "Processing P: 100%|██████████| 2488/2488 [00:03<00:00, 703.79it/s]\n",
      "Processing QRS: 100%|██████████| 2501/2501 [00:00<00:00, 4535.40it/s]\n"
     ]
    },
    {
     "name": "stdout",
     "output_type": "stream",
     "text": [
      "Saved mask to: masks/17052_72000_73800_mask.csv\n",
      "record: 17052  from:  73800 to:  75600\n"
     ]
    },
    {
     "name": "stderr",
     "output_type": "stream",
     "text": [
      "Processing P: 100%|██████████| 2513/2513 [00:03<00:00, 710.71it/s]\n",
      "Processing QRS: 100%|██████████| 2543/2543 [00:00<00:00, 4479.19it/s]\n"
     ]
    },
    {
     "name": "stdout",
     "output_type": "stream",
     "text": [
      "Saved mask to: masks/17052_73800_75600_mask.csv\n",
      "record: 17052  from:  75600 to:  77400\n"
     ]
    },
    {
     "name": "stderr",
     "output_type": "stream",
     "text": [
      "Processing P: 100%|██████████| 1067/1067 [00:01<00:00, 707.03it/s]\n",
      "Processing QRS: 100%|██████████| 1082/1082 [00:00<00:00, 6814.03it/s]\n"
     ]
    },
    {
     "name": "stdout",
     "output_type": "stream",
     "text": [
      "Saved mask to: masks/17052_75600_77400_mask.csv\n",
      "record: 17052  from:  77400 to:  79200\n"
     ]
    },
    {
     "name": "stderr",
     "output_type": "stream",
     "text": [
      "Processing P: 100%|██████████| 1803/1803 [00:02<00:00, 685.15it/s]\n",
      "Processing QRS: 100%|██████████| 2930/2930 [00:00<00:00, 5232.31it/s]\n"
     ]
    },
    {
     "name": "stdout",
     "output_type": "stream",
     "text": [
      "Saved mask to: masks/17052_77400_79200_mask.csv\n",
      "record: 17052  from:  79200 to:  81000\n"
     ]
    },
    {
     "name": "stderr",
     "output_type": "stream",
     "text": [
      "Processing P: 100%|██████████| 2108/2108 [00:03<00:00, 689.04it/s]\n",
      "Processing QRS: 100%|██████████| 3269/3269 [00:00<00:00, 5024.62it/s]\n"
     ]
    },
    {
     "name": "stdout",
     "output_type": "stream",
     "text": [
      "Saved mask to: masks/17052_79200_81000_mask.csv\n",
      "record: 17052  from:  81000 to:  82800\n"
     ]
    },
    {
     "name": "stderr",
     "output_type": "stream",
     "text": [
      "Processing P: 100%|██████████| 2134/2134 [00:03<00:00, 685.77it/s]\n",
      "Processing QRS: 100%|██████████| 3274/3274 [00:00<00:00, 4976.59it/s]\n"
     ]
    },
    {
     "name": "stdout",
     "output_type": "stream",
     "text": [
      "Saved mask to: masks/17052_81000_82800_mask.csv\n",
      "record: 17052  from:  82800 to:  83280.0\n"
     ]
    },
    {
     "name": "stderr",
     "output_type": "stream",
     "text": [
      "Processing P: 100%|██████████| 58/58 [00:00<00:00, 1804.74it/s]\n",
      "Processing QRS: 100%|██████████| 55/55 [00:00<00:00, 9766.17it/s]\n"
     ]
    },
    {
     "name": "stdout",
     "output_type": "stream",
     "text": [
      "Saved mask to: masks/17052_82800_83280.0_mask.csv\n",
      "record: 17453  from:  0 to:  1800\n"
     ]
    },
    {
     "name": "stderr",
     "output_type": "stream",
     "text": [
      "Processing P: 100%|██████████| 2376/2376 [00:03<00:00, 726.96it/s]\n",
      "Processing QRS: 100%|██████████| 2441/2441 [00:00<00:00, 4571.62it/s]\n"
     ]
    },
    {
     "name": "stdout",
     "output_type": "stream",
     "text": [
      "Saved mask to: masks/17453_0_1800_mask.csv\n",
      "record: 17453  from:  1800 to:  3600\n"
     ]
    },
    {
     "name": "stderr",
     "output_type": "stream",
     "text": [
      "Processing P: 100%|██████████| 2518/2518 [00:03<00:00, 702.34it/s]\n",
      "Processing QRS: 100%|██████████| 2520/2520 [00:00<00:00, 4560.89it/s]\n"
     ]
    },
    {
     "name": "stdout",
     "output_type": "stream",
     "text": [
      "Saved mask to: masks/17453_1800_3600_mask.csv\n",
      "record: 17453  from:  3600 to:  5400\n"
     ]
    },
    {
     "name": "stderr",
     "output_type": "stream",
     "text": [
      "Processing P: 100%|██████████| 2675/2675 [00:03<00:00, 722.98it/s]\n",
      "Processing QRS: 100%|██████████| 2684/2684 [00:00<00:00, 4664.79it/s]\n"
     ]
    },
    {
     "name": "stdout",
     "output_type": "stream",
     "text": [
      "Saved mask to: masks/17453_3600_5400_mask.csv\n",
      "record: 17453  from:  5400 to:  7200\n"
     ]
    },
    {
     "name": "stderr",
     "output_type": "stream",
     "text": [
      "Processing P: 100%|██████████| 2661/2661 [00:03<00:00, 725.16it/s]\n",
      "Processing QRS: 100%|██████████| 2669/2669 [00:00<00:00, 4578.08it/s]\n"
     ]
    },
    {
     "name": "stdout",
     "output_type": "stream",
     "text": [
      "Saved mask to: masks/17453_5400_7200_mask.csv\n",
      "record: 17453  from:  7200 to:  9000\n"
     ]
    },
    {
     "name": "stderr",
     "output_type": "stream",
     "text": [
      "Processing P: 100%|██████████| 2722/2722 [00:03<00:00, 723.43it/s]\n",
      "Processing QRS: 100%|██████████| 2726/2726 [00:00<00:00, 4653.45it/s]\n"
     ]
    },
    {
     "name": "stdout",
     "output_type": "stream",
     "text": [
      "Saved mask to: masks/17453_7200_9000_mask.csv\n",
      "record: 17453  from:  9000 to:  10800\n"
     ]
    },
    {
     "name": "stderr",
     "output_type": "stream",
     "text": [
      "Processing P: 100%|██████████| 2574/2574 [00:03<00:00, 720.27it/s]\n",
      "Processing QRS: 100%|██████████| 2580/2580 [00:00<00:00, 4552.64it/s]\n"
     ]
    },
    {
     "name": "stdout",
     "output_type": "stream",
     "text": [
      "Saved mask to: masks/17453_9000_10800_mask.csv\n",
      "record: 17453  from:  10800 to:  12600\n"
     ]
    },
    {
     "name": "stderr",
     "output_type": "stream",
     "text": [
      "Processing P: 100%|██████████| 2560/2560 [00:03<00:00, 721.94it/s]\n",
      "Processing QRS: 100%|██████████| 2572/2572 [00:00<00:00, 4664.45it/s]\n"
     ]
    },
    {
     "name": "stdout",
     "output_type": "stream",
     "text": [
      "Saved mask to: masks/17453_10800_12600_mask.csv\n",
      "record: 17453  from:  12600 to:  14400\n"
     ]
    },
    {
     "name": "stderr",
     "output_type": "stream",
     "text": [
      "Processing P: 100%|██████████| 2583/2583 [00:03<00:00, 718.88it/s]\n",
      "Processing QRS: 100%|██████████| 2595/2595 [00:00<00:00, 4538.55it/s]\n"
     ]
    },
    {
     "name": "stdout",
     "output_type": "stream",
     "text": [
      "Saved mask to: masks/17453_12600_14400_mask.csv\n",
      "record: 17453  from:  14400 to:  16200\n"
     ]
    },
    {
     "name": "stderr",
     "output_type": "stream",
     "text": [
      "Processing P: 100%|██████████| 2678/2678 [00:03<00:00, 727.05it/s]\n",
      "Processing QRS: 100%|██████████| 2688/2688 [00:00<00:00, 4628.51it/s]\n"
     ]
    },
    {
     "name": "stdout",
     "output_type": "stream",
     "text": [
      "Saved mask to: masks/17453_14400_16200_mask.csv\n",
      "record: 17453  from:  16200 to:  18000\n"
     ]
    },
    {
     "name": "stderr",
     "output_type": "stream",
     "text": [
      "Processing P: 100%|██████████| 2712/2712 [00:03<00:00, 699.59it/s]\n",
      "Processing QRS: 100%|██████████| 2712/2712 [00:00<00:00, 4491.84it/s]\n"
     ]
    },
    {
     "name": "stdout",
     "output_type": "stream",
     "text": [
      "Saved mask to: masks/17453_16200_18000_mask.csv\n",
      "record: 17453  from:  18000 to:  19800\n"
     ]
    },
    {
     "name": "stderr",
     "output_type": "stream",
     "text": [
      "Processing P: 100%|██████████| 2740/2740 [00:03<00:00, 700.01it/s]\n",
      "Processing QRS: 100%|██████████| 2743/2743 [00:00<00:00, 4659.16it/s]\n"
     ]
    },
    {
     "name": "stdout",
     "output_type": "stream",
     "text": [
      "Saved mask to: masks/17453_18000_19800_mask.csv\n",
      "record: 17453  from:  19800 to:  21600\n"
     ]
    },
    {
     "name": "stderr",
     "output_type": "stream",
     "text": [
      "Processing P: 100%|██████████| 2685/2685 [00:03<00:00, 737.14it/s]\n",
      "Processing QRS: 100%|██████████| 2687/2687 [00:00<00:00, 4651.49it/s]\n"
     ]
    },
    {
     "name": "stdout",
     "output_type": "stream",
     "text": [
      "Saved mask to: masks/17453_19800_21600_mask.csv\n",
      "record: 17453  from:  21600 to:  23400\n"
     ]
    },
    {
     "name": "stderr",
     "output_type": "stream",
     "text": [
      "Processing P: 100%|██████████| 2561/2561 [00:03<00:00, 737.79it/s]\n",
      "Processing QRS: 100%|██████████| 2563/2563 [00:00<00:00, 4844.04it/s]\n"
     ]
    },
    {
     "name": "stdout",
     "output_type": "stream",
     "text": [
      "Saved mask to: masks/17453_21600_23400_mask.csv\n",
      "record: 17453  from:  23400 to:  25200\n"
     ]
    },
    {
     "name": "stderr",
     "output_type": "stream",
     "text": [
      "Processing P: 100%|██████████| 2701/2701 [00:03<00:00, 736.80it/s]\n",
      "Processing QRS: 100%|██████████| 2705/2705 [00:00<00:00, 4609.18it/s]\n"
     ]
    },
    {
     "name": "stdout",
     "output_type": "stream",
     "text": [
      "Saved mask to: masks/17453_23400_25200_mask.csv\n",
      "record: 17453  from:  25200 to:  27000\n"
     ]
    },
    {
     "name": "stderr",
     "output_type": "stream",
     "text": [
      "Processing P: 100%|██████████| 2628/2628 [00:03<00:00, 741.01it/s]\n",
      "Processing QRS: 100%|██████████| 2634/2634 [00:00<00:00, 4713.49it/s]\n"
     ]
    },
    {
     "name": "stdout",
     "output_type": "stream",
     "text": [
      "Saved mask to: masks/17453_25200_27000_mask.csv\n",
      "record: 17453  from:  27000 to:  28800\n"
     ]
    },
    {
     "name": "stderr",
     "output_type": "stream",
     "text": [
      "Processing P: 100%|██████████| 2484/2484 [00:03<00:00, 736.70it/s]\n",
      "Processing QRS: 100%|██████████| 2489/2489 [00:00<00:00, 4750.32it/s]\n"
     ]
    },
    {
     "name": "stdout",
     "output_type": "stream",
     "text": [
      "Saved mask to: masks/17453_27000_28800_mask.csv\n",
      "record: 17453  from:  28800 to:  30600\n"
     ]
    },
    {
     "name": "stderr",
     "output_type": "stream",
     "text": [
      "Processing P: 100%|██████████| 2401/2401 [00:03<00:00, 735.85it/s]\n",
      "Processing QRS: 100%|██████████| 2400/2400 [00:00<00:00, 4731.12it/s]\n"
     ]
    },
    {
     "name": "stdout",
     "output_type": "stream",
     "text": [
      "Saved mask to: masks/17453_28800_30600_mask.csv\n",
      "record: 17453  from:  30600 to:  32400\n"
     ]
    },
    {
     "name": "stderr",
     "output_type": "stream",
     "text": [
      "Processing P: 100%|██████████| 2658/2658 [00:03<00:00, 733.45it/s]\n",
      "Processing QRS: 100%|██████████| 2661/2661 [00:00<00:00, 4535.13it/s]\n"
     ]
    },
    {
     "name": "stdout",
     "output_type": "stream",
     "text": [
      "Saved mask to: masks/17453_30600_32400_mask.csv\n",
      "record: 17453  from:  32400 to:  34200\n"
     ]
    },
    {
     "name": "stderr",
     "output_type": "stream",
     "text": [
      "Processing P: 100%|██████████| 2727/2727 [00:03<00:00, 731.72it/s]\n",
      "Processing QRS: 100%|██████████| 2730/2730 [00:00<00:00, 4481.30it/s]\n"
     ]
    },
    {
     "name": "stdout",
     "output_type": "stream",
     "text": [
      "Saved mask to: masks/17453_32400_34200_mask.csv\n",
      "record: 17453  from:  34200 to:  36000\n"
     ]
    },
    {
     "name": "stderr",
     "output_type": "stream",
     "text": [
      "Processing P: 100%|██████████| 2792/2792 [00:03<00:00, 716.25it/s]\n",
      "Processing QRS: 100%|██████████| 2793/2793 [00:00<00:00, 4603.85it/s]\n"
     ]
    },
    {
     "name": "stdout",
     "output_type": "stream",
     "text": [
      "Saved mask to: masks/17453_34200_36000_mask.csv\n",
      "record: 17453  from:  36000 to:  37800\n"
     ]
    },
    {
     "name": "stderr",
     "output_type": "stream",
     "text": [
      "Processing P: 100%|██████████| 2619/2619 [00:03<00:00, 731.20it/s]\n",
      "Processing QRS: 100%|██████████| 2620/2620 [00:00<00:00, 4735.91it/s]\n"
     ]
    },
    {
     "name": "stdout",
     "output_type": "stream",
     "text": [
      "Saved mask to: masks/17453_36000_37800_mask.csv\n",
      "record: 17453  from:  37800 to:  39600\n"
     ]
    },
    {
     "name": "stderr",
     "output_type": "stream",
     "text": [
      "Processing P: 100%|██████████| 2645/2645 [00:03<00:00, 705.68it/s]\n",
      "Processing QRS: 100%|██████████| 2652/2652 [00:00<00:00, 4558.41it/s]\n"
     ]
    },
    {
     "name": "stdout",
     "output_type": "stream",
     "text": [
      "Saved mask to: masks/17453_37800_39600_mask.csv\n",
      "record: 17453  from:  39600 to:  41400\n"
     ]
    },
    {
     "name": "stderr",
     "output_type": "stream",
     "text": [
      "Processing P: 100%|██████████| 2569/2569 [00:03<00:00, 730.58it/s]\n",
      "Processing QRS: 100%|██████████| 2578/2578 [00:00<00:00, 4460.29it/s]\n"
     ]
    },
    {
     "name": "stdout",
     "output_type": "stream",
     "text": [
      "Saved mask to: masks/17453_39600_41400_mask.csv\n",
      "record: 17453  from:  41400 to:  43200\n"
     ]
    },
    {
     "name": "stderr",
     "output_type": "stream",
     "text": [
      "Processing P: 100%|██████████| 2565/2565 [00:03<00:00, 740.32it/s]\n",
      "Processing QRS: 100%|██████████| 2568/2568 [00:00<00:00, 4671.66it/s]\n"
     ]
    },
    {
     "name": "stdout",
     "output_type": "stream",
     "text": [
      "Saved mask to: masks/17453_41400_43200_mask.csv\n",
      "record: 17453  from:  43200 to:  45000\n"
     ]
    },
    {
     "name": "stderr",
     "output_type": "stream",
     "text": [
      "Processing P: 100%|██████████| 2473/2473 [00:03<00:00, 740.53it/s]\n",
      "Processing QRS: 100%|██████████| 2481/2481 [00:00<00:00, 4739.49it/s]\n"
     ]
    },
    {
     "name": "stdout",
     "output_type": "stream",
     "text": [
      "Saved mask to: masks/17453_43200_45000_mask.csv\n",
      "record: 17453  from:  45000 to:  46800\n"
     ]
    },
    {
     "name": "stderr",
     "output_type": "stream",
     "text": [
      "Processing P: 100%|██████████| 2418/2418 [00:03<00:00, 709.39it/s]\n",
      "Processing QRS: 100%|██████████| 2536/2536 [00:00<00:00, 4696.05it/s]\n"
     ]
    },
    {
     "name": "stdout",
     "output_type": "stream",
     "text": [
      "Saved mask to: masks/17453_45000_46800_mask.csv\n",
      "record: 17453  from:  46800 to:  48600\n"
     ]
    },
    {
     "name": "stderr",
     "output_type": "stream",
     "text": [
      "Processing P: 100%|██████████| 1927/1927 [00:02<00:00, 725.37it/s]\n",
      "Processing QRS: 100%|██████████| 2216/2216 [00:00<00:00, 5166.10it/s]\n"
     ]
    },
    {
     "name": "stdout",
     "output_type": "stream",
     "text": [
      "Saved mask to: masks/17453_46800_48600_mask.csv\n",
      "record: 17453  from:  48600 to:  50400\n"
     ]
    },
    {
     "name": "stderr",
     "output_type": "stream",
     "text": [
      "Processing P: 100%|██████████| 2046/2046 [00:02<00:00, 740.54it/s]\n",
      "Processing QRS: 100%|██████████| 2046/2046 [00:00<00:00, 4665.67it/s]\n"
     ]
    },
    {
     "name": "stdout",
     "output_type": "stream",
     "text": [
      "Saved mask to: masks/17453_48600_50400_mask.csv\n",
      "record: 17453  from:  50400 to:  52200\n"
     ]
    },
    {
     "name": "stderr",
     "output_type": "stream",
     "text": [
      "Processing P: 100%|██████████| 2072/2072 [00:02<00:00, 726.34it/s]\n",
      "Processing QRS: 100%|██████████| 2072/2072 [00:00<00:00, 4665.05it/s]\n"
     ]
    },
    {
     "name": "stdout",
     "output_type": "stream",
     "text": [
      "Saved mask to: masks/17453_50400_52200_mask.csv\n",
      "record: 17453  from:  52200 to:  54000\n"
     ]
    },
    {
     "name": "stderr",
     "output_type": "stream",
     "text": [
      "Processing P: 100%|██████████| 2280/2280 [00:03<00:00, 747.04it/s]\n",
      "Processing QRS: 100%|██████████| 2280/2280 [00:00<00:00, 4661.78it/s]\n"
     ]
    },
    {
     "name": "stdout",
     "output_type": "stream",
     "text": [
      "Saved mask to: masks/17453_52200_54000_mask.csv\n",
      "record: 17453  from:  54000 to:  55800\n"
     ]
    },
    {
     "name": "stderr",
     "output_type": "stream",
     "text": [
      "Processing P: 100%|██████████| 2172/2172 [00:03<00:00, 723.15it/s]\n",
      "Processing QRS: 100%|██████████| 2172/2172 [00:00<00:00, 4429.87it/s]\n"
     ]
    },
    {
     "name": "stdout",
     "output_type": "stream",
     "text": [
      "Saved mask to: masks/17453_54000_55800_mask.csv\n",
      "record: 17453  from:  55800 to:  57600\n"
     ]
    },
    {
     "name": "stderr",
     "output_type": "stream",
     "text": [
      "Processing P: 100%|██████████| 2170/2170 [00:02<00:00, 736.64it/s]\n",
      "Processing QRS: 100%|██████████| 2170/2170 [00:00<00:00, 4634.37it/s]\n"
     ]
    },
    {
     "name": "stdout",
     "output_type": "stream",
     "text": [
      "Saved mask to: masks/17453_55800_57600_mask.csv\n",
      "record: 17453  from:  57600 to:  59400\n"
     ]
    },
    {
     "name": "stderr",
     "output_type": "stream",
     "text": [
      "Processing P: 100%|██████████| 2221/2221 [00:03<00:00, 716.39it/s]\n",
      "Processing QRS: 100%|██████████| 2223/2223 [00:00<00:00, 4721.47it/s]\n"
     ]
    },
    {
     "name": "stdout",
     "output_type": "stream",
     "text": [
      "Saved mask to: masks/17453_57600_59400_mask.csv\n",
      "record: 17453  from:  59400 to:  61200\n"
     ]
    },
    {
     "name": "stderr",
     "output_type": "stream",
     "text": [
      "Processing P: 100%|██████████| 2155/2155 [00:02<00:00, 728.08it/s]\n",
      "Processing QRS: 100%|██████████| 2155/2155 [00:00<00:00, 4627.01it/s]\n"
     ]
    },
    {
     "name": "stdout",
     "output_type": "stream",
     "text": [
      "Saved mask to: masks/17453_59400_61200_mask.csv\n",
      "record: 17453  from:  61200 to:  63000\n"
     ]
    },
    {
     "name": "stderr",
     "output_type": "stream",
     "text": [
      "Processing P: 100%|██████████| 2180/2180 [00:03<00:00, 724.48it/s]\n",
      "Processing QRS: 100%|██████████| 2185/2185 [00:00<00:00, 4648.35it/s]\n"
     ]
    },
    {
     "name": "stdout",
     "output_type": "stream",
     "text": [
      "Saved mask to: masks/17453_61200_63000_mask.csv\n",
      "record: 17453  from:  63000 to:  64800\n"
     ]
    },
    {
     "name": "stderr",
     "output_type": "stream",
     "text": [
      "Processing P: 100%|██████████| 2122/2122 [00:02<00:00, 735.81it/s]\n",
      "Processing QRS: 100%|██████████| 2126/2126 [00:00<00:00, 4578.58it/s]\n"
     ]
    },
    {
     "name": "stdout",
     "output_type": "stream",
     "text": [
      "Saved mask to: masks/17453_63000_64800_mask.csv\n",
      "record: 17453  from:  64800 to:  66600\n"
     ]
    },
    {
     "name": "stderr",
     "output_type": "stream",
     "text": [
      "Processing P: 100%|██████████| 1988/1988 [00:02<00:00, 746.82it/s]\n",
      "Processing QRS: 100%|██████████| 1989/1989 [00:00<00:00, 4640.29it/s]\n"
     ]
    },
    {
     "name": "stdout",
     "output_type": "stream",
     "text": [
      "Saved mask to: masks/17453_64800_66600_mask.csv\n",
      "record: 17453  from:  66600 to:  68400\n"
     ]
    },
    {
     "name": "stderr",
     "output_type": "stream",
     "text": [
      "Processing P: 100%|██████████| 2043/2043 [00:02<00:00, 744.15it/s]\n",
      "Processing QRS: 100%|██████████| 2043/2043 [00:00<00:00, 4655.86it/s]\n"
     ]
    },
    {
     "name": "stdout",
     "output_type": "stream",
     "text": [
      "Saved mask to: masks/17453_66600_68400_mask.csv\n",
      "record: 17453  from:  68400 to:  70200\n"
     ]
    },
    {
     "name": "stderr",
     "output_type": "stream",
     "text": [
      "Processing P: 100%|██████████| 1964/1964 [00:02<00:00, 732.64it/s]\n",
      "Processing QRS: 100%|██████████| 1966/1966 [00:00<00:00, 4737.44it/s]\n"
     ]
    },
    {
     "name": "stdout",
     "output_type": "stream",
     "text": [
      "Saved mask to: masks/17453_68400_70200_mask.csv\n",
      "record: 17453  from:  70200 to:  72000\n"
     ]
    },
    {
     "name": "stderr",
     "output_type": "stream",
     "text": [
      "Processing P: 100%|██████████| 2122/2122 [00:02<00:00, 743.64it/s]\n",
      "Processing QRS: 100%|██████████| 2135/2135 [00:00<00:00, 4702.41it/s]\n"
     ]
    },
    {
     "name": "stdout",
     "output_type": "stream",
     "text": [
      "Saved mask to: masks/17453_70200_72000_mask.csv\n",
      "record: 17453  from:  72000 to:  73800\n"
     ]
    },
    {
     "name": "stderr",
     "output_type": "stream",
     "text": [
      "Processing P: 100%|██████████| 2031/2031 [00:02<00:00, 727.84it/s]\n",
      "Processing QRS: 100%|██████████| 2060/2060 [00:00<00:00, 4682.44it/s]\n"
     ]
    },
    {
     "name": "stdout",
     "output_type": "stream",
     "text": [
      "Saved mask to: masks/17453_72000_73800_mask.csv\n",
      "record: 17453  from:  73800 to:  75600\n"
     ]
    },
    {
     "name": "stderr",
     "output_type": "stream",
     "text": [
      "Processing P: 100%|██████████| 855/855 [00:01<00:00, 717.29it/s]\n",
      "Processing QRS: 100%|██████████| 866/866 [00:00<00:00, 7423.36it/s]\n"
     ]
    },
    {
     "name": "stdout",
     "output_type": "stream",
     "text": [
      "Saved mask to: masks/17453_73800_75600_mask.csv\n",
      "record: 17453  from:  75600 to:  77400\n"
     ]
    },
    {
     "name": "stderr",
     "output_type": "stream",
     "text": [
      "Processing P: 100%|██████████| 1788/1788 [00:02<00:00, 693.63it/s]\n",
      "Processing QRS: 100%|██████████| 2855/2855 [00:00<00:00, 5306.97it/s]\n"
     ]
    },
    {
     "name": "stdout",
     "output_type": "stream",
     "text": [
      "Saved mask to: masks/17453_75600_77400_mask.csv\n",
      "record: 17453  from:  77400 to:  79200\n"
     ]
    },
    {
     "name": "stderr",
     "output_type": "stream",
     "text": [
      "Processing P: 100%|██████████| 1803/1803 [00:02<00:00, 692.54it/s]\n",
      "Processing QRS: 100%|██████████| 2813/2813 [00:00<00:00, 5316.36it/s]\n"
     ]
    },
    {
     "name": "stdout",
     "output_type": "stream",
     "text": [
      "Saved mask to: masks/17453_77400_79200_mask.csv\n",
      "record: 17453  from:  79200 to:  81000\n"
     ]
    },
    {
     "name": "stderr",
     "output_type": "stream",
     "text": [
      "Processing P: 100%|██████████| 1830/1830 [00:02<00:00, 664.02it/s]\n",
      "Processing QRS: 100%|██████████| 2798/2798 [00:00<00:00, 5031.28it/s]\n"
     ]
    },
    {
     "name": "stdout",
     "output_type": "stream",
     "text": [
      "Saved mask to: masks/17453_79200_81000_mask.csv\n",
      "record: 17453  from:  81000 to:  82800\n"
     ]
    },
    {
     "name": "stderr",
     "output_type": "stream",
     "text": [
      "Processing P: 100%|██████████| 1829/1829 [00:02<00:00, 694.99it/s]\n",
      "Processing QRS: 100%|██████████| 2851/2851 [00:00<00:00, 5346.72it/s]\n"
     ]
    },
    {
     "name": "stdout",
     "output_type": "stream",
     "text": [
      "Saved mask to: masks/17453_81000_82800_mask.csv\n",
      "record: 17453  from:  82800 to:  84600\n"
     ]
    },
    {
     "name": "stderr",
     "output_type": "stream",
     "text": [
      "Processing P: 100%|██████████| 1833/1833 [00:02<00:00, 683.41it/s]\n",
      "Processing QRS: 100%|██████████| 2819/2819 [00:00<00:00, 5254.15it/s]\n"
     ]
    },
    {
     "name": "stdout",
     "output_type": "stream",
     "text": [
      "Saved mask to: masks/17453_82800_84600_mask.csv\n",
      "record: 17453  from:  84600 to:  86400\n"
     ]
    },
    {
     "name": "stderr",
     "output_type": "stream",
     "text": [
      "Processing P: 100%|██████████| 1824/1824 [00:02<00:00, 679.89it/s]\n",
      "Processing QRS: 100%|██████████| 2889/2889 [00:00<00:00, 5396.33it/s]\n"
     ]
    },
    {
     "name": "stdout",
     "output_type": "stream",
     "text": [
      "Saved mask to: masks/17453_84600_86400_mask.csv\n",
      "record: 17453  from:  86400 to:  87776.0\n"
     ]
    },
    {
     "name": "stderr",
     "output_type": "stream",
     "text": [
      "Processing P: 100%|██████████| 372/372 [00:00<00:00, 841.33it/s]\n",
      "Processing QRS: 100%|██████████| 198/198 [00:00<00:00, 7997.15it/s]\n"
     ]
    },
    {
     "name": "stdout",
     "output_type": "stream",
     "text": [
      "Saved mask to: masks/17453_86400_87776.0_mask.csv\n",
      "record: 18177  from:  0 to:  1800\n"
     ]
    },
    {
     "name": "stderr",
     "output_type": "stream",
     "text": [
      "Processing P: 100%|██████████| 3102/3102 [00:04<00:00, 720.99it/s]\n",
      "Processing QRS: 100%|██████████| 3102/3102 [00:00<00:00, 4735.28it/s]\n"
     ]
    },
    {
     "name": "stdout",
     "output_type": "stream",
     "text": [
      "Saved mask to: masks/18177_0_1800_mask.csv\n",
      "record: 18177  from:  1800 to:  3600\n"
     ]
    },
    {
     "name": "stderr",
     "output_type": "stream",
     "text": [
      "Processing P: 100%|██████████| 2756/2756 [00:03<00:00, 721.96it/s]\n",
      "Processing QRS: 100%|██████████| 2758/2758 [00:00<00:00, 4699.88it/s]\n"
     ]
    },
    {
     "name": "stdout",
     "output_type": "stream",
     "text": [
      "Saved mask to: masks/18177_1800_3600_mask.csv\n",
      "record: 18177  from:  3600 to:  5400\n"
     ]
    },
    {
     "name": "stderr",
     "output_type": "stream",
     "text": [
      "Processing P: 100%|██████████| 2605/2605 [00:03<00:00, 719.03it/s]\n",
      "Processing QRS: 100%|██████████| 2608/2608 [00:00<00:00, 4587.73it/s]\n"
     ]
    },
    {
     "name": "stdout",
     "output_type": "stream",
     "text": [
      "Saved mask to: masks/18177_3600_5400_mask.csv\n",
      "record: 18177  from:  5400 to:  7200\n"
     ]
    },
    {
     "name": "stderr",
     "output_type": "stream",
     "text": [
      "Processing P: 100%|██████████| 2531/2531 [00:03<00:00, 701.58it/s]\n",
      "Processing QRS: 100%|██████████| 2533/2533 [00:00<00:00, 4571.16it/s]\n"
     ]
    },
    {
     "name": "stdout",
     "output_type": "stream",
     "text": [
      "Saved mask to: masks/18177_5400_7200_mask.csv\n",
      "record: 18177  from:  7200 to:  9000\n"
     ]
    },
    {
     "name": "stderr",
     "output_type": "stream",
     "text": [
      "Processing P: 100%|██████████| 2574/2574 [00:03<00:00, 708.59it/s]\n",
      "Processing QRS: 100%|██████████| 2577/2577 [00:00<00:00, 4566.84it/s]\n"
     ]
    },
    {
     "name": "stdout",
     "output_type": "stream",
     "text": [
      "Saved mask to: masks/18177_7200_9000_mask.csv\n",
      "record: 18177  from:  9000 to:  10800\n"
     ]
    },
    {
     "name": "stderr",
     "output_type": "stream",
     "text": [
      "Processing P: 100%|██████████| 2488/2488 [00:03<00:00, 721.89it/s]\n",
      "Processing QRS: 100%|██████████| 2489/2489 [00:00<00:00, 4597.56it/s]\n"
     ]
    },
    {
     "name": "stdout",
     "output_type": "stream",
     "text": [
      "Saved mask to: masks/18177_9000_10800_mask.csv\n",
      "record: 18177  from:  10800 to:  12600\n"
     ]
    },
    {
     "name": "stderr",
     "output_type": "stream",
     "text": [
      "Processing P: 100%|██████████| 2757/2757 [00:03<00:00, 711.67it/s]\n",
      "Processing QRS: 100%|██████████| 2763/2763 [00:00<00:00, 4521.71it/s]\n"
     ]
    },
    {
     "name": "stdout",
     "output_type": "stream",
     "text": [
      "Saved mask to: masks/18177_10800_12600_mask.csv\n",
      "record: 18177  from:  12600 to:  14400\n"
     ]
    },
    {
     "name": "stderr",
     "output_type": "stream",
     "text": [
      "Processing P: 100%|██████████| 2901/2901 [00:04<00:00, 711.43it/s]\n",
      "Processing QRS: 100%|██████████| 2909/2909 [00:00<00:00, 4554.48it/s]\n"
     ]
    },
    {
     "name": "stdout",
     "output_type": "stream",
     "text": [
      "Saved mask to: masks/18177_12600_14400_mask.csv\n",
      "record: 18177  from:  14400 to:  16200\n"
     ]
    },
    {
     "name": "stderr",
     "output_type": "stream",
     "text": [
      "Processing P: 100%|██████████| 2999/2999 [00:04<00:00, 736.89it/s]\n",
      "Processing QRS: 100%|██████████| 3001/3001 [00:00<00:00, 4463.63it/s]\n"
     ]
    },
    {
     "name": "stdout",
     "output_type": "stream",
     "text": [
      "Saved mask to: masks/18177_14400_16200_mask.csv\n",
      "record: 18177  from:  16200 to:  18000\n"
     ]
    },
    {
     "name": "stderr",
     "output_type": "stream",
     "text": [
      "Processing P: 100%|██████████| 2970/2970 [00:04<00:00, 725.16it/s]\n",
      "Processing QRS: 100%|██████████| 2970/2970 [00:00<00:00, 4165.88it/s]\n"
     ]
    },
    {
     "name": "stdout",
     "output_type": "stream",
     "text": [
      "Saved mask to: masks/18177_16200_18000_mask.csv\n",
      "record: 18177  from:  18000 to:  19800\n"
     ]
    },
    {
     "name": "stderr",
     "output_type": "stream",
     "text": [
      "Processing P: 100%|██████████| 2963/2963 [00:04<00:00, 722.25it/s]\n",
      "Processing QRS: 100%|██████████| 2963/2963 [00:00<00:00, 4562.74it/s]\n"
     ]
    },
    {
     "name": "stdout",
     "output_type": "stream",
     "text": [
      "Saved mask to: masks/18177_18000_19800_mask.csv\n",
      "record: 18177  from:  19800 to:  21600\n"
     ]
    },
    {
     "name": "stderr",
     "output_type": "stream",
     "text": [
      "Processing P: 100%|██████████| 2897/2897 [00:04<00:00, 715.36it/s]\n",
      "Processing QRS: 100%|██████████| 2909/2909 [00:00<00:00, 4164.00it/s]\n"
     ]
    },
    {
     "name": "stdout",
     "output_type": "stream",
     "text": [
      "Saved mask to: masks/18177_19800_21600_mask.csv\n",
      "record: 18177  from:  21600 to:  23400\n"
     ]
    },
    {
     "name": "stderr",
     "output_type": "stream",
     "text": [
      "Processing P: 100%|██████████| 2954/2954 [00:04<00:00, 717.88it/s]\n",
      "Processing QRS: 100%|██████████| 2960/2960 [00:00<00:00, 4678.59it/s]\n"
     ]
    },
    {
     "name": "stdout",
     "output_type": "stream",
     "text": [
      "Saved mask to: masks/18177_21600_23400_mask.csv\n",
      "record: 18177  from:  23400 to:  25200\n"
     ]
    },
    {
     "name": "stderr",
     "output_type": "stream",
     "text": [
      "Processing P: 100%|██████████| 2903/2903 [00:04<00:00, 705.49it/s]\n",
      "Processing QRS: 100%|██████████| 2904/2904 [00:00<00:00, 4426.34it/s]\n"
     ]
    },
    {
     "name": "stdout",
     "output_type": "stream",
     "text": [
      "Saved mask to: masks/18177_23400_25200_mask.csv\n",
      "record: 18177  from:  25200 to:  27000\n"
     ]
    },
    {
     "name": "stderr",
     "output_type": "stream",
     "text": [
      "Processing P: 100%|██████████| 3049/3049 [00:04<00:00, 718.72it/s]\n",
      "Processing QRS: 100%|██████████| 3050/3050 [00:00<00:00, 4664.85it/s]\n"
     ]
    },
    {
     "name": "stdout",
     "output_type": "stream",
     "text": [
      "Saved mask to: masks/18177_25200_27000_mask.csv\n",
      "record: 18177  from:  27000 to:  28800\n"
     ]
    },
    {
     "name": "stderr",
     "output_type": "stream",
     "text": [
      "Processing P: 100%|██████████| 2849/2849 [00:03<00:00, 722.20it/s]\n",
      "Processing QRS: 100%|██████████| 2850/2850 [00:00<00:00, 4747.00it/s]\n"
     ]
    },
    {
     "name": "stdout",
     "output_type": "stream",
     "text": [
      "Saved mask to: masks/18177_27000_28800_mask.csv\n",
      "record: 18177  from:  28800 to:  30600\n"
     ]
    },
    {
     "name": "stderr",
     "output_type": "stream",
     "text": [
      "Processing P: 100%|██████████| 2849/2849 [00:03<00:00, 729.13it/s]\n",
      "Processing QRS: 100%|██████████| 2848/2848 [00:00<00:00, 4688.77it/s]\n"
     ]
    },
    {
     "name": "stdout",
     "output_type": "stream",
     "text": [
      "Saved mask to: masks/18177_28800_30600_mask.csv\n",
      "record: 18177  from:  30600 to:  32400\n"
     ]
    },
    {
     "name": "stderr",
     "output_type": "stream",
     "text": [
      "Processing P: 100%|██████████| 2846/2846 [00:03<00:00, 719.54it/s]\n",
      "Processing QRS: 100%|██████████| 2849/2849 [00:00<00:00, 4547.78it/s]\n"
     ]
    },
    {
     "name": "stdout",
     "output_type": "stream",
     "text": [
      "Saved mask to: masks/18177_30600_32400_mask.csv\n",
      "record: 18177  from:  32400 to:  34200\n"
     ]
    },
    {
     "name": "stderr",
     "output_type": "stream",
     "text": [
      "Processing P: 100%|██████████| 2993/2993 [00:04<00:00, 734.35it/s]\n",
      "Processing QRS: 100%|██████████| 2994/2994 [00:00<00:00, 4175.04it/s]\n"
     ]
    },
    {
     "name": "stdout",
     "output_type": "stream",
     "text": [
      "Saved mask to: masks/18177_32400_34200_mask.csv\n",
      "record: 18177  from:  34200 to:  36000\n"
     ]
    },
    {
     "name": "stderr",
     "output_type": "stream",
     "text": [
      "Processing P: 100%|██████████| 2879/2879 [00:03<00:00, 730.48it/s]\n",
      "Processing QRS: 100%|██████████| 2881/2881 [00:00<00:00, 4450.50it/s]\n"
     ]
    },
    {
     "name": "stdout",
     "output_type": "stream",
     "text": [
      "Saved mask to: masks/18177_34200_36000_mask.csv\n",
      "record: 18177  from:  36000 to:  37800\n"
     ]
    },
    {
     "name": "stderr",
     "output_type": "stream",
     "text": [
      "Processing P: 100%|██████████| 2934/2934 [00:04<00:00, 722.30it/s]\n",
      "Processing QRS: 100%|██████████| 2937/2937 [00:00<00:00, 4741.47it/s]\n"
     ]
    },
    {
     "name": "stdout",
     "output_type": "stream",
     "text": [
      "Saved mask to: masks/18177_36000_37800_mask.csv\n",
      "record: 18177  from:  37800 to:  39600\n"
     ]
    },
    {
     "name": "stderr",
     "output_type": "stream",
     "text": [
      "Processing P: 100%|██████████| 3023/3023 [00:04<00:00, 721.54it/s]\n",
      "Processing QRS: 100%|██████████| 3025/3025 [00:00<00:00, 4625.27it/s]\n"
     ]
    },
    {
     "name": "stdout",
     "output_type": "stream",
     "text": [
      "Saved mask to: masks/18177_37800_39600_mask.csv\n",
      "record: 18177  from:  39600 to:  41400\n"
     ]
    },
    {
     "name": "stderr",
     "output_type": "stream",
     "text": [
      "Processing P: 100%|██████████| 2720/2720 [00:03<00:00, 720.88it/s]\n",
      "Processing QRS: 100%|██████████| 2726/2726 [00:00<00:00, 4589.25it/s]\n"
     ]
    },
    {
     "name": "stdout",
     "output_type": "stream",
     "text": [
      "Saved mask to: masks/18177_39600_41400_mask.csv\n",
      "record: 18177  from:  41400 to:  43200\n"
     ]
    },
    {
     "name": "stderr",
     "output_type": "stream",
     "text": [
      "Processing P: 100%|██████████| 3000/3000 [00:04<00:00, 726.84it/s]\n",
      "Processing QRS: 100%|██████████| 3033/3033 [00:00<00:00, 4594.70it/s]\n"
     ]
    },
    {
     "name": "stdout",
     "output_type": "stream",
     "text": [
      "Saved mask to: masks/18177_41400_43200_mask.csv\n",
      "record: 18177  from:  43200 to:  45000\n"
     ]
    },
    {
     "name": "stderr",
     "output_type": "stream",
     "text": [
      "Processing P: 100%|██████████| 2786/2786 [00:04<00:00, 690.25it/s]\n",
      "Processing QRS: 100%|██████████| 2787/2787 [00:00<00:00, 4302.30it/s]\n"
     ]
    },
    {
     "name": "stdout",
     "output_type": "stream",
     "text": [
      "Saved mask to: masks/18177_43200_45000_mask.csv\n",
      "record: 18177  from:  45000 to:  46800\n"
     ]
    },
    {
     "name": "stderr",
     "output_type": "stream",
     "text": [
      "Processing P: 100%|██████████| 2885/2885 [00:04<00:00, 702.52it/s]\n",
      "Processing QRS: 100%|██████████| 2884/2884 [00:00<00:00, 4498.95it/s]\n"
     ]
    },
    {
     "name": "stdout",
     "output_type": "stream",
     "text": [
      "Saved mask to: masks/18177_45000_46800_mask.csv\n",
      "record: 18177  from:  46800 to:  48600\n"
     ]
    },
    {
     "name": "stderr",
     "output_type": "stream",
     "text": [
      "Processing P: 100%|██████████| 2798/2798 [00:04<00:00, 682.82it/s]\n",
      "Processing QRS: 100%|██████████| 2801/2801 [00:00<00:00, 4522.57it/s]\n"
     ]
    },
    {
     "name": "stdout",
     "output_type": "stream",
     "text": [
      "Saved mask to: masks/18177_46800_48600_mask.csv\n",
      "record: 18177  from:  48600 to:  50400\n"
     ]
    },
    {
     "name": "stderr",
     "output_type": "stream",
     "text": [
      "Processing P: 100%|██████████| 2581/2581 [00:03<00:00, 699.86it/s]\n",
      "Processing QRS: 100%|██████████| 2580/2580 [00:00<00:00, 4599.95it/s]\n"
     ]
    },
    {
     "name": "stdout",
     "output_type": "stream",
     "text": [
      "Saved mask to: masks/18177_48600_50400_mask.csv\n",
      "record: 18177  from:  50400 to:  52200\n"
     ]
    },
    {
     "name": "stderr",
     "output_type": "stream",
     "text": [
      "Processing P: 100%|██████████| 2164/2164 [00:02<00:00, 721.64it/s]\n",
      "Processing QRS: 100%|██████████| 2164/2164 [00:00<00:00, 4624.62it/s]\n"
     ]
    },
    {
     "name": "stdout",
     "output_type": "stream",
     "text": [
      "Saved mask to: masks/18177_50400_52200_mask.csv\n",
      "record: 18177  from:  52200 to:  54000\n"
     ]
    },
    {
     "name": "stderr",
     "output_type": "stream",
     "text": [
      "Processing P: 100%|██████████| 2160/2160 [00:02<00:00, 728.38it/s]\n",
      "Processing QRS: 100%|██████████| 2160/2160 [00:00<00:00, 4645.39it/s]\n"
     ]
    },
    {
     "name": "stdout",
     "output_type": "stream",
     "text": [
      "Saved mask to: masks/18177_52200_54000_mask.csv\n",
      "record: 18177  from:  54000 to:  55800\n"
     ]
    },
    {
     "name": "stderr",
     "output_type": "stream",
     "text": [
      "Processing P: 100%|██████████| 2161/2161 [00:03<00:00, 708.13it/s]\n",
      "Processing QRS: 100%|██████████| 2161/2161 [00:00<00:00, 4484.93it/s]\n"
     ]
    },
    {
     "name": "stdout",
     "output_type": "stream",
     "text": [
      "Saved mask to: masks/18177_54000_55800_mask.csv\n",
      "record: 18177  from:  55800 to:  57600\n"
     ]
    },
    {
     "name": "stderr",
     "output_type": "stream",
     "text": [
      "Processing P: 100%|██████████| 2094/2094 [00:02<00:00, 713.43it/s]\n",
      "Processing QRS: 100%|██████████| 2094/2094 [00:00<00:00, 4585.44it/s]\n"
     ]
    },
    {
     "name": "stdout",
     "output_type": "stream",
     "text": [
      "Saved mask to: masks/18177_55800_57600_mask.csv\n",
      "record: 18177  from:  57600 to:  59400\n"
     ]
    },
    {
     "name": "stderr",
     "output_type": "stream",
     "text": [
      "Processing P: 100%|██████████| 2127/2127 [00:02<00:00, 724.05it/s]\n",
      "Processing QRS: 100%|██████████| 2127/2127 [00:00<00:00, 4329.96it/s]\n"
     ]
    },
    {
     "name": "stdout",
     "output_type": "stream",
     "text": [
      "Saved mask to: masks/18177_57600_59400_mask.csv\n",
      "record: 18177  from:  59400 to:  61200\n"
     ]
    },
    {
     "name": "stderr",
     "output_type": "stream",
     "text": [
      "Processing P: 100%|██████████| 2156/2156 [00:02<00:00, 721.29it/s]\n",
      "Processing QRS: 100%|██████████| 2156/2156 [00:00<00:00, 4567.11it/s]\n"
     ]
    },
    {
     "name": "stdout",
     "output_type": "stream",
     "text": [
      "Saved mask to: masks/18177_59400_61200_mask.csv\n",
      "record: 18177  from:  61200 to:  63000\n"
     ]
    },
    {
     "name": "stderr",
     "output_type": "stream",
     "text": [
      "Processing P: 100%|██████████| 2060/2060 [00:02<00:00, 732.68it/s]\n",
      "Processing QRS: 100%|██████████| 2060/2060 [00:00<00:00, 4631.71it/s]\n"
     ]
    },
    {
     "name": "stdout",
     "output_type": "stream",
     "text": [
      "Saved mask to: masks/18177_61200_63000_mask.csv\n",
      "record: 18177  from:  63000 to:  64800\n"
     ]
    },
    {
     "name": "stderr",
     "output_type": "stream",
     "text": [
      "Processing P: 100%|██████████| 2124/2124 [00:02<00:00, 735.41it/s]\n",
      "Processing QRS: 100%|██████████| 2124/2124 [00:00<00:00, 4711.51it/s]\n"
     ]
    },
    {
     "name": "stdout",
     "output_type": "stream",
     "text": [
      "Saved mask to: masks/18177_63000_64800_mask.csv\n",
      "record: 18177  from:  64800 to:  66600\n"
     ]
    },
    {
     "name": "stderr",
     "output_type": "stream",
     "text": [
      "Processing P: 100%|██████████| 2125/2125 [00:02<00:00, 747.36it/s]\n",
      "Processing QRS: 100%|██████████| 2125/2125 [00:00<00:00, 4692.30it/s]\n"
     ]
    },
    {
     "name": "stdout",
     "output_type": "stream",
     "text": [
      "Saved mask to: masks/18177_64800_66600_mask.csv\n",
      "record: 18177  from:  66600 to:  68400\n"
     ]
    },
    {
     "name": "stderr",
     "output_type": "stream",
     "text": [
      "Processing P: 100%|██████████| 2282/2282 [00:03<00:00, 719.28it/s]\n",
      "Processing QRS: 100%|██████████| 2282/2282 [00:00<00:00, 4350.86it/s]\n"
     ]
    },
    {
     "name": "stdout",
     "output_type": "stream",
     "text": [
      "Saved mask to: masks/18177_66600_68400_mask.csv\n",
      "record: 18177  from:  68400 to:  70200\n"
     ]
    },
    {
     "name": "stderr",
     "output_type": "stream",
     "text": [
      "Processing P: 100%|██████████| 2138/2138 [00:02<00:00, 718.22it/s]\n",
      "Processing QRS: 100%|██████████| 2138/2138 [00:00<00:00, 4306.93it/s]\n"
     ]
    },
    {
     "name": "stdout",
     "output_type": "stream",
     "text": [
      "Saved mask to: masks/18177_68400_70200_mask.csv\n",
      "record: 18177  from:  70200 to:  72000\n"
     ]
    },
    {
     "name": "stderr",
     "output_type": "stream",
     "text": [
      "Processing P: 100%|██████████| 2127/2127 [00:02<00:00, 723.40it/s]\n",
      "Processing QRS: 100%|██████████| 2127/2127 [00:00<00:00, 4609.84it/s]\n"
     ]
    },
    {
     "name": "stdout",
     "output_type": "stream",
     "text": [
      "Saved mask to: masks/18177_70200_72000_mask.csv\n",
      "record: 18177  from:  72000 to:  73800\n"
     ]
    },
    {
     "name": "stderr",
     "output_type": "stream",
     "text": [
      "Processing P: 100%|██████████| 2160/2160 [00:03<00:00, 698.66it/s]\n",
      "Processing QRS: 100%|██████████| 2160/2160 [00:00<00:00, 4389.71it/s]\n"
     ]
    },
    {
     "name": "stdout",
     "output_type": "stream",
     "text": [
      "Saved mask to: masks/18177_72000_73800_mask.csv\n",
      "record: 18177  from:  73800 to:  75600\n"
     ]
    },
    {
     "name": "stderr",
     "output_type": "stream",
     "text": [
      "Processing P: 100%|██████████| 2369/2369 [00:03<00:00, 727.76it/s]\n",
      "Processing QRS: 100%|██████████| 2370/2370 [00:00<00:00, 4744.46it/s]\n"
     ]
    },
    {
     "name": "stdout",
     "output_type": "stream",
     "text": [
      "Saved mask to: masks/18177_73800_75600_mask.csv\n",
      "record: 18177  from:  75600 to:  77400\n"
     ]
    },
    {
     "name": "stderr",
     "output_type": "stream",
     "text": [
      "Processing P: 100%|██████████| 2112/2112 [00:02<00:00, 738.65it/s]\n",
      "Processing QRS: 100%|██████████| 2112/2112 [00:00<00:00, 4561.70it/s]\n"
     ]
    },
    {
     "name": "stdout",
     "output_type": "stream",
     "text": [
      "Saved mask to: masks/18177_75600_77400_mask.csv\n",
      "record: 18177  from:  77400 to:  79200\n"
     ]
    },
    {
     "name": "stderr",
     "output_type": "stream",
     "text": [
      "Processing P: 100%|██████████| 2123/2123 [00:02<00:00, 723.09it/s]\n",
      "Processing QRS: 100%|██████████| 2123/2123 [00:00<00:00, 4592.15it/s]\n"
     ]
    },
    {
     "name": "stdout",
     "output_type": "stream",
     "text": [
      "Saved mask to: masks/18177_77400_79200_mask.csv\n",
      "record: 18177  from:  79200 to:  81000\n"
     ]
    },
    {
     "name": "stderr",
     "output_type": "stream",
     "text": [
      "Processing P: 100%|██████████| 2099/2099 [00:02<00:00, 734.88it/s]\n",
      "Processing QRS: 100%|██████████| 2099/2099 [00:00<00:00, 4584.04it/s]\n"
     ]
    },
    {
     "name": "stdout",
     "output_type": "stream",
     "text": [
      "Saved mask to: masks/18177_79200_81000_mask.csv\n",
      "record: 18177  from:  81000 to:  82800\n"
     ]
    },
    {
     "name": "stderr",
     "output_type": "stream",
     "text": [
      "Processing P: 100%|██████████| 1408/1408 [00:02<00:00, 674.21it/s]\n",
      "Processing QRS: 100%|██████████| 2292/2292 [00:00<00:00, 5620.81it/s]\n"
     ]
    },
    {
     "name": "stdout",
     "output_type": "stream",
     "text": [
      "Saved mask to: masks/18177_81000_82800_mask.csv\n",
      "record: 18177  from:  82800 to:  84600\n"
     ]
    },
    {
     "name": "stderr",
     "output_type": "stream",
     "text": [
      "Processing P: 100%|██████████| 1358/1358 [00:01<00:00, 696.30it/s]\n",
      "Processing QRS: 100%|██████████| 2358/2358 [00:00<00:00, 6055.06it/s]\n"
     ]
    },
    {
     "name": "stdout",
     "output_type": "stream",
     "text": [
      "Saved mask to: masks/18177_82800_84600_mask.csv\n",
      "record: 18177  from:  84600 to:  86400\n"
     ]
    },
    {
     "name": "stderr",
     "output_type": "stream",
     "text": [
      "Processing P: 100%|██████████| 1378/1378 [00:02<00:00, 679.79it/s]\n",
      "Processing QRS: 100%|██████████| 2320/2320 [00:00<00:00, 5687.61it/s]\n"
     ]
    },
    {
     "name": "stdout",
     "output_type": "stream",
     "text": [
      "Saved mask to: masks/18177_84600_86400_mask.csv\n",
      "record: 18177  from:  86400 to:  88200\n"
     ]
    },
    {
     "name": "stderr",
     "output_type": "stream",
     "text": [
      "Processing P: 100%|██████████| 1383/1383 [00:02<00:00, 670.08it/s]\n",
      "Processing QRS: 100%|██████████| 2214/2214 [00:00<00:00, 5559.85it/s]\n"
     ]
    },
    {
     "name": "stdout",
     "output_type": "stream",
     "text": [
      "Saved mask to: masks/18177_86400_88200_mask.csv\n",
      "record: 18177  from:  88200 to:  90000\n"
     ]
    },
    {
     "name": "stderr",
     "output_type": "stream",
     "text": [
      "Processing P: 100%|██████████| 1475/1475 [00:02<00:00, 678.15it/s]\n",
      "Processing QRS: 100%|██████████| 2355/2355 [00:00<00:00, 5492.68it/s]\n"
     ]
    },
    {
     "name": "stdout",
     "output_type": "stream",
     "text": [
      "Saved mask to: masks/18177_88200_90000_mask.csv\n",
      "record: 18177  from:  90000 to:  91800\n"
     ]
    },
    {
     "name": "stderr",
     "output_type": "stream",
     "text": [
      "Processing P: 100%|██████████| 1480/1480 [00:02<00:00, 682.10it/s]\n",
      "Processing QRS: 100%|██████████| 2336/2336 [00:00<00:00, 5573.82it/s]\n"
     ]
    },
    {
     "name": "stdout",
     "output_type": "stream",
     "text": [
      "Saved mask to: masks/18177_90000_91800_mask.csv\n",
      "record: 18177  from:  91800 to:  93440.0\n"
     ]
    },
    {
     "name": "stderr",
     "output_type": "stream",
     "text": [
      "Processing P: 100%|██████████| 1259/1259 [00:01<00:00, 727.94it/s]\n",
      "Processing QRS: 100%|██████████| 2113/2113 [00:00<00:00, 6081.88it/s]\n"
     ]
    },
    {
     "name": "stdout",
     "output_type": "stream",
     "text": [
      "Saved mask to: masks/18177_91800_93440.0_mask.csv\n",
      "record: 18184  from:  0 to:  1800\n"
     ]
    },
    {
     "name": "stderr",
     "output_type": "stream",
     "text": [
      "Processing P: 100%|██████████| 2619/2619 [00:03<00:00, 725.67it/s]\n",
      "Processing QRS: 100%|██████████| 2626/2626 [00:00<00:00, 4647.29it/s]\n"
     ]
    },
    {
     "name": "stdout",
     "output_type": "stream",
     "text": [
      "Saved mask to: masks/18184_0_1800_mask.csv\n",
      "record: 18184  from:  1800 to:  3600\n"
     ]
    },
    {
     "name": "stderr",
     "output_type": "stream",
     "text": [
      "Processing P: 100%|██████████| 2583/2583 [00:03<00:00, 728.90it/s]\n",
      "Processing QRS: 100%|██████████| 2586/2586 [00:00<00:00, 4449.31it/s]\n"
     ]
    },
    {
     "name": "stdout",
     "output_type": "stream",
     "text": [
      "Saved mask to: masks/18184_1800_3600_mask.csv\n",
      "record: 18184  from:  3600 to:  5400\n"
     ]
    },
    {
     "name": "stderr",
     "output_type": "stream",
     "text": [
      "Processing P: 100%|██████████| 2406/2406 [00:03<00:00, 733.40it/s]\n",
      "Processing QRS: 100%|██████████| 2408/2408 [00:00<00:00, 4571.89it/s]\n"
     ]
    },
    {
     "name": "stdout",
     "output_type": "stream",
     "text": [
      "Saved mask to: masks/18184_3600_5400_mask.csv\n",
      "record: 18184  from:  5400 to:  7200\n"
     ]
    },
    {
     "name": "stderr",
     "output_type": "stream",
     "text": [
      "Processing P: 100%|██████████| 2472/2472 [00:03<00:00, 720.90it/s]\n",
      "Processing QRS: 100%|██████████| 2472/2472 [00:00<00:00, 4451.99it/s]\n"
     ]
    },
    {
     "name": "stdout",
     "output_type": "stream",
     "text": [
      "Saved mask to: masks/18184_5400_7200_mask.csv\n",
      "record: 18184  from:  7200 to:  9000\n"
     ]
    },
    {
     "name": "stderr",
     "output_type": "stream",
     "text": [
      "Processing P: 100%|██████████| 2373/2373 [00:03<00:00, 719.20it/s]\n",
      "Processing QRS: 100%|██████████| 2374/2374 [00:00<00:00, 4515.22it/s]\n"
     ]
    },
    {
     "name": "stdout",
     "output_type": "stream",
     "text": [
      "Saved mask to: masks/18184_7200_9000_mask.csv\n",
      "record: 18184  from:  9000 to:  10800\n"
     ]
    },
    {
     "name": "stderr",
     "output_type": "stream",
     "text": [
      "Processing P: 100%|██████████| 2553/2553 [00:03<00:00, 720.89it/s]\n",
      "Processing QRS: 100%|██████████| 2558/2558 [00:00<00:00, 4588.07it/s]\n"
     ]
    },
    {
     "name": "stdout",
     "output_type": "stream",
     "text": [
      "Saved mask to: masks/18184_9000_10800_mask.csv\n",
      "record: 18184  from:  10800 to:  12600\n"
     ]
    },
    {
     "name": "stderr",
     "output_type": "stream",
     "text": [
      "Processing P: 100%|██████████| 2549/2549 [00:03<00:00, 723.52it/s]\n",
      "Processing QRS: 100%|██████████| 2550/2550 [00:00<00:00, 4472.22it/s]\n"
     ]
    },
    {
     "name": "stdout",
     "output_type": "stream",
     "text": [
      "Saved mask to: masks/18184_10800_12600_mask.csv\n",
      "record: 18184  from:  12600 to:  14400\n"
     ]
    },
    {
     "name": "stderr",
     "output_type": "stream",
     "text": [
      "Processing P: 100%|██████████| 2479/2479 [00:03<00:00, 692.57it/s]\n",
      "Processing QRS: 100%|██████████| 2481/2481 [00:00<00:00, 4550.80it/s]\n"
     ]
    },
    {
     "name": "stdout",
     "output_type": "stream",
     "text": [
      "Saved mask to: masks/18184_12600_14400_mask.csv\n",
      "record: 18184  from:  14400 to:  16200\n"
     ]
    },
    {
     "name": "stderr",
     "output_type": "stream",
     "text": [
      "Processing P: 100%|██████████| 2600/2600 [00:03<00:00, 730.01it/s]\n",
      "Processing QRS: 100%|██████████| 2600/2600 [00:00<00:00, 4283.96it/s]\n"
     ]
    },
    {
     "name": "stdout",
     "output_type": "stream",
     "text": [
      "Saved mask to: masks/18184_14400_16200_mask.csv\n",
      "record: 18184  from:  16200 to:  18000\n"
     ]
    },
    {
     "name": "stderr",
     "output_type": "stream",
     "text": [
      "Processing P: 100%|██████████| 2446/2446 [00:03<00:00, 721.77it/s]\n",
      "Processing QRS: 100%|██████████| 2447/2447 [00:00<00:00, 4362.98it/s]\n"
     ]
    },
    {
     "name": "stdout",
     "output_type": "stream",
     "text": [
      "Saved mask to: masks/18184_16200_18000_mask.csv\n",
      "record: 18184  from:  18000 to:  19800\n"
     ]
    },
    {
     "name": "stderr",
     "output_type": "stream",
     "text": [
      "Processing P: 100%|██████████| 2428/2428 [00:03<00:00, 736.70it/s]\n",
      "Processing QRS: 100%|██████████| 2429/2429 [00:00<00:00, 4526.82it/s]\n"
     ]
    },
    {
     "name": "stdout",
     "output_type": "stream",
     "text": [
      "Saved mask to: masks/18184_18000_19800_mask.csv\n",
      "record: 18184  from:  19800 to:  21600\n"
     ]
    },
    {
     "name": "stderr",
     "output_type": "stream",
     "text": [
      "Processing P: 100%|██████████| 2703/2703 [00:03<00:00, 724.50it/s]\n",
      "Processing QRS: 100%|██████████| 2707/2707 [00:00<00:00, 4412.38it/s]\n"
     ]
    },
    {
     "name": "stdout",
     "output_type": "stream",
     "text": [
      "Saved mask to: masks/18184_19800_21600_mask.csv\n",
      "record: 18184  from:  21600 to:  23400\n"
     ]
    },
    {
     "name": "stderr",
     "output_type": "stream",
     "text": [
      "Processing P: 100%|██████████| 2547/2547 [00:03<00:00, 728.58it/s]\n",
      "Processing QRS: 100%|██████████| 2547/2547 [00:00<00:00, 4426.36it/s]\n"
     ]
    },
    {
     "name": "stdout",
     "output_type": "stream",
     "text": [
      "Saved mask to: masks/18184_21600_23400_mask.csv\n",
      "record: 18184  from:  23400 to:  25200\n"
     ]
    },
    {
     "name": "stderr",
     "output_type": "stream",
     "text": [
      "Processing P: 100%|██████████| 1963/1963 [00:02<00:00, 727.39it/s]\n",
      "Processing QRS: 100%|██████████| 1963/1963 [00:00<00:00, 4502.17it/s]\n"
     ]
    },
    {
     "name": "stdout",
     "output_type": "stream",
     "text": [
      "Saved mask to: masks/18184_23400_25200_mask.csv\n",
      "record: 18184  from:  25200 to:  27000\n"
     ]
    },
    {
     "name": "stderr",
     "output_type": "stream",
     "text": [
      "Processing P: 100%|██████████| 2298/2298 [00:03<00:00, 731.20it/s]\n",
      "Processing QRS: 100%|██████████| 2298/2298 [00:00<00:00, 4250.92it/s]\n"
     ]
    },
    {
     "name": "stdout",
     "output_type": "stream",
     "text": [
      "Saved mask to: masks/18184_25200_27000_mask.csv\n",
      "record: 18184  from:  27000 to:  28800\n"
     ]
    },
    {
     "name": "stderr",
     "output_type": "stream",
     "text": [
      "Processing P: 100%|██████████| 2293/2293 [00:03<00:00, 724.57it/s]\n",
      "Processing QRS: 100%|██████████| 2293/2293 [00:00<00:00, 4524.29it/s]\n"
     ]
    },
    {
     "name": "stdout",
     "output_type": "stream",
     "text": [
      "Saved mask to: masks/18184_27000_28800_mask.csv\n",
      "record: 18184  from:  28800 to:  30600\n"
     ]
    },
    {
     "name": "stderr",
     "output_type": "stream",
     "text": [
      "Processing P: 100%|██████████| 2292/2292 [00:03<00:00, 723.43it/s]\n",
      "Processing QRS: 100%|██████████| 2292/2292 [00:00<00:00, 4589.69it/s]\n"
     ]
    },
    {
     "name": "stdout",
     "output_type": "stream",
     "text": [
      "Saved mask to: masks/18184_28800_30600_mask.csv\n",
      "record: 18184  from:  30600 to:  32400\n"
     ]
    },
    {
     "name": "stderr",
     "output_type": "stream",
     "text": [
      "Processing P: 100%|██████████| 2515/2515 [00:03<00:00, 718.91it/s]\n",
      "Processing QRS: 100%|██████████| 2521/2521 [00:00<00:00, 4450.36it/s]\n"
     ]
    },
    {
     "name": "stdout",
     "output_type": "stream",
     "text": [
      "Saved mask to: masks/18184_30600_32400_mask.csv\n",
      "record: 18184  from:  32400 to:  34200\n"
     ]
    },
    {
     "name": "stderr",
     "output_type": "stream",
     "text": [
      "Processing P: 100%|██████████| 2716/2716 [00:03<00:00, 715.11it/s]\n",
      "Processing QRS: 100%|██████████| 2718/2718 [00:00<00:00, 4442.51it/s]\n"
     ]
    },
    {
     "name": "stdout",
     "output_type": "stream",
     "text": [
      "Saved mask to: masks/18184_32400_34200_mask.csv\n",
      "record: 18184  from:  34200 to:  36000\n"
     ]
    },
    {
     "name": "stderr",
     "output_type": "stream",
     "text": [
      "Processing P: 100%|██████████| 2863/2863 [00:03<00:00, 729.18it/s]\n",
      "Processing QRS: 100%|██████████| 2862/2862 [00:00<00:00, 4408.12it/s]\n"
     ]
    },
    {
     "name": "stdout",
     "output_type": "stream",
     "text": [
      "Saved mask to: masks/18184_34200_36000_mask.csv\n",
      "record: 18184  from:  36000 to:  37800\n"
     ]
    },
    {
     "name": "stderr",
     "output_type": "stream",
     "text": [
      "Processing P: 100%|██████████| 2747/2747 [00:03<00:00, 730.80it/s]\n",
      "Processing QRS: 100%|██████████| 2749/2749 [00:00<00:00, 4614.72it/s]\n"
     ]
    },
    {
     "name": "stdout",
     "output_type": "stream",
     "text": [
      "Saved mask to: masks/18184_36000_37800_mask.csv\n",
      "record: 18184  from:  37800 to:  39600\n"
     ]
    },
    {
     "name": "stderr",
     "output_type": "stream",
     "text": [
      "Processing P: 100%|██████████| 2764/2764 [00:03<00:00, 728.01it/s]\n",
      "Processing QRS: 100%|██████████| 2768/2768 [00:00<00:00, 4428.36it/s]\n"
     ]
    },
    {
     "name": "stdout",
     "output_type": "stream",
     "text": [
      "Saved mask to: masks/18184_37800_39600_mask.csv\n",
      "record: 18184  from:  39600 to:  41400\n"
     ]
    },
    {
     "name": "stderr",
     "output_type": "stream",
     "text": [
      "Processing P: 100%|██████████| 2784/2784 [00:03<00:00, 731.20it/s]\n",
      "Processing QRS: 100%|██████████| 2783/2783 [00:00<00:00, 4555.37it/s]\n"
     ]
    },
    {
     "name": "stdout",
     "output_type": "stream",
     "text": [
      "Saved mask to: masks/18184_39600_41400_mask.csv\n",
      "record: 18184  from:  41400 to:  43200\n"
     ]
    },
    {
     "name": "stderr",
     "output_type": "stream",
     "text": [
      "Processing P: 100%|██████████| 2646/2646 [00:03<00:00, 724.51it/s]\n",
      "Processing QRS: 100%|██████████| 2650/2650 [00:00<00:00, 4702.08it/s]\n"
     ]
    },
    {
     "name": "stdout",
     "output_type": "stream",
     "text": [
      "Saved mask to: masks/18184_41400_43200_mask.csv\n",
      "record: 18184  from:  43200 to:  45000\n"
     ]
    },
    {
     "name": "stderr",
     "output_type": "stream",
     "text": [
      "Processing P: 100%|██████████| 2553/2553 [00:03<00:00, 746.20it/s]\n",
      "Processing QRS: 100%|██████████| 2552/2552 [00:00<00:00, 4612.11it/s]\n"
     ]
    },
    {
     "name": "stdout",
     "output_type": "stream",
     "text": [
      "Saved mask to: masks/18184_43200_45000_mask.csv\n",
      "record: 18184  from:  45000 to:  46800\n"
     ]
    },
    {
     "name": "stderr",
     "output_type": "stream",
     "text": [
      "Processing P: 100%|██████████| 2505/2505 [00:03<00:00, 727.62it/s]\n",
      "Processing QRS: 100%|██████████| 2507/2507 [00:00<00:00, 4499.51it/s]\n"
     ]
    },
    {
     "name": "stdout",
     "output_type": "stream",
     "text": [
      "Saved mask to: masks/18184_45000_46800_mask.csv\n",
      "record: 18184  from:  46800 to:  48600\n"
     ]
    },
    {
     "name": "stderr",
     "output_type": "stream",
     "text": [
      "Processing P: 100%|██████████| 2822/2822 [00:03<00:00, 733.00it/s]\n",
      "Processing QRS: 100%|██████████| 2825/2825 [00:00<00:00, 4495.99it/s]\n"
     ]
    },
    {
     "name": "stdout",
     "output_type": "stream",
     "text": [
      "Saved mask to: masks/18184_46800_48600_mask.csv\n",
      "record: 18184  from:  48600 to:  50400\n"
     ]
    },
    {
     "name": "stderr",
     "output_type": "stream",
     "text": [
      "Processing P: 100%|██████████| 2917/2917 [00:04<00:00, 708.81it/s]\n",
      "Processing QRS: 100%|██████████| 2921/2921 [00:00<00:00, 4577.70it/s]\n"
     ]
    },
    {
     "name": "stdout",
     "output_type": "stream",
     "text": [
      "Saved mask to: masks/18184_48600_50400_mask.csv\n",
      "record: 18184  from:  50400 to:  52200\n"
     ]
    },
    {
     "name": "stderr",
     "output_type": "stream",
     "text": [
      "Processing P: 100%|██████████| 2403/2403 [00:03<00:00, 738.09it/s]\n",
      "Processing QRS: 100%|██████████| 2404/2404 [00:00<00:00, 4501.67it/s]\n"
     ]
    },
    {
     "name": "stdout",
     "output_type": "stream",
     "text": [
      "Saved mask to: masks/18184_50400_52200_mask.csv\n",
      "record: 18184  from:  52200 to:  54000\n"
     ]
    },
    {
     "name": "stderr",
     "output_type": "stream",
     "text": [
      "Processing P: 100%|██████████| 2196/2196 [00:02<00:00, 734.91it/s]\n",
      "Processing QRS: 100%|██████████| 2196/2196 [00:00<00:00, 4418.90it/s]\n"
     ]
    },
    {
     "name": "stdout",
     "output_type": "stream",
     "text": [
      "Saved mask to: masks/18184_52200_54000_mask.csv\n",
      "record: 18184  from:  54000 to:  55800\n"
     ]
    },
    {
     "name": "stderr",
     "output_type": "stream",
     "text": [
      "Processing P: 100%|██████████| 2143/2143 [00:03<00:00, 713.64it/s]\n",
      "Processing QRS: 100%|██████████| 2144/2144 [00:00<00:00, 4338.60it/s]\n"
     ]
    },
    {
     "name": "stdout",
     "output_type": "stream",
     "text": [
      "Saved mask to: masks/18184_54000_55800_mask.csv\n",
      "record: 18184  from:  55800 to:  57600\n"
     ]
    },
    {
     "name": "stderr",
     "output_type": "stream",
     "text": [
      "Processing P: 100%|██████████| 2269/2269 [00:03<00:00, 723.15it/s]\n",
      "Processing QRS: 100%|██████████| 2269/2269 [00:00<00:00, 4325.52it/s]\n"
     ]
    },
    {
     "name": "stdout",
     "output_type": "stream",
     "text": [
      "Saved mask to: masks/18184_55800_57600_mask.csv\n",
      "record: 18184  from:  57600 to:  59400\n"
     ]
    },
    {
     "name": "stderr",
     "output_type": "stream",
     "text": [
      "Processing P: 100%|██████████| 2477/2477 [00:03<00:00, 725.16it/s]\n",
      "Processing QRS: 100%|██████████| 2479/2479 [00:00<00:00, 4536.93it/s]\n"
     ]
    },
    {
     "name": "stdout",
     "output_type": "stream",
     "text": [
      "Saved mask to: masks/18184_57600_59400_mask.csv\n",
      "record: 18184  from:  59400 to:  61200\n"
     ]
    },
    {
     "name": "stderr",
     "output_type": "stream",
     "text": [
      "Processing P: 100%|██████████| 2394/2394 [00:03<00:00, 721.84it/s]\n",
      "Processing QRS: 100%|██████████| 2394/2394 [00:00<00:00, 4480.56it/s]\n"
     ]
    },
    {
     "name": "stdout",
     "output_type": "stream",
     "text": [
      "Saved mask to: masks/18184_59400_61200_mask.csv\n",
      "record: 18184  from:  61200 to:  63000\n"
     ]
    },
    {
     "name": "stderr",
     "output_type": "stream",
     "text": [
      "Processing P: 100%|██████████| 2296/2296 [00:03<00:00, 737.22it/s]\n",
      "Processing QRS: 100%|██████████| 2296/2296 [00:00<00:00, 4323.88it/s]\n"
     ]
    },
    {
     "name": "stdout",
     "output_type": "stream",
     "text": [
      "Saved mask to: masks/18184_61200_63000_mask.csv\n",
      "record: 18184  from:  63000 to:  64800\n"
     ]
    },
    {
     "name": "stderr",
     "output_type": "stream",
     "text": [
      "Processing P: 100%|██████████| 2244/2244 [00:03<00:00, 737.26it/s]\n",
      "Processing QRS: 100%|██████████| 2244/2244 [00:00<00:00, 4505.33it/s]\n"
     ]
    },
    {
     "name": "stdout",
     "output_type": "stream",
     "text": [
      "Saved mask to: masks/18184_63000_64800_mask.csv\n",
      "record: 18184  from:  64800 to:  66600\n"
     ]
    },
    {
     "name": "stderr",
     "output_type": "stream",
     "text": [
      "Processing P: 100%|██████████| 2325/2325 [00:03<00:00, 711.50it/s]\n",
      "Processing QRS: 100%|██████████| 2326/2326 [00:00<00:00, 4469.03it/s]\n"
     ]
    },
    {
     "name": "stdout",
     "output_type": "stream",
     "text": [
      "Saved mask to: masks/18184_64800_66600_mask.csv\n",
      "record: 18184  from:  66600 to:  68400\n"
     ]
    },
    {
     "name": "stderr",
     "output_type": "stream",
     "text": [
      "Processing P: 100%|██████████| 2218/2218 [00:03<00:00, 724.17it/s]\n",
      "Processing QRS: 100%|██████████| 2218/2218 [00:00<00:00, 4514.96it/s]\n"
     ]
    },
    {
     "name": "stdout",
     "output_type": "stream",
     "text": [
      "Saved mask to: masks/18184_66600_68400_mask.csv\n",
      "record: 18184  from:  68400 to:  70200\n"
     ]
    },
    {
     "name": "stderr",
     "output_type": "stream",
     "text": [
      "Processing P: 100%|██████████| 2177/2177 [00:02<00:00, 730.84it/s]\n",
      "Processing QRS: 100%|██████████| 2177/2177 [00:00<00:00, 3967.31it/s]\n"
     ]
    },
    {
     "name": "stdout",
     "output_type": "stream",
     "text": [
      "Saved mask to: masks/18184_68400_70200_mask.csv\n",
      "record: 18184  from:  70200 to:  72000\n"
     ]
    },
    {
     "name": "stderr",
     "output_type": "stream",
     "text": [
      "Processing P: 100%|██████████| 2061/2061 [00:02<00:00, 737.44it/s]\n",
      "Processing QRS: 100%|██████████| 2061/2061 [00:00<00:00, 4434.50it/s]\n"
     ]
    },
    {
     "name": "stdout",
     "output_type": "stream",
     "text": [
      "Saved mask to: masks/18184_70200_72000_mask.csv\n",
      "record: 18184  from:  72000 to:  73800\n"
     ]
    },
    {
     "name": "stderr",
     "output_type": "stream",
     "text": [
      "Processing P: 100%|██████████| 2053/2053 [00:02<00:00, 717.35it/s]\n",
      "Processing QRS: 100%|██████████| 2054/2054 [00:00<00:00, 4425.77it/s]\n"
     ]
    },
    {
     "name": "stdout",
     "output_type": "stream",
     "text": [
      "Saved mask to: masks/18184_72000_73800_mask.csv\n",
      "record: 18184  from:  73800 to:  75600\n"
     ]
    },
    {
     "name": "stderr",
     "output_type": "stream",
     "text": [
      "Processing P: 100%|██████████| 1621/1621 [00:02<00:00, 732.97it/s]\n",
      "Processing QRS: 100%|██████████| 1805/1805 [00:00<00:00, 5444.18it/s]\n"
     ]
    },
    {
     "name": "stdout",
     "output_type": "stream",
     "text": [
      "Saved mask to: masks/18184_73800_75600_mask.csv\n",
      "record: 18184  from:  75600 to:  77400\n"
     ]
    },
    {
     "name": "stderr",
     "output_type": "stream",
     "text": [
      "Processing P: 100%|██████████| 1287/1287 [00:02<00:00, 641.05it/s]\n",
      "Processing QRS: 100%|██████████| 2174/2174 [00:00<00:00, 6090.58it/s]\n"
     ]
    },
    {
     "name": "stdout",
     "output_type": "stream",
     "text": [
      "Saved mask to: masks/18184_75600_77400_mask.csv\n",
      "record: 18184  from:  77400 to:  79200\n"
     ]
    },
    {
     "name": "stderr",
     "output_type": "stream",
     "text": [
      "Processing P: 100%|██████████| 1265/1265 [00:01<00:00, 682.63it/s]\n",
      "Processing QRS: 100%|██████████| 2147/2147 [00:00<00:00, 5958.24it/s]\n"
     ]
    },
    {
     "name": "stdout",
     "output_type": "stream",
     "text": [
      "Saved mask to: masks/18184_77400_79200_mask.csv\n",
      "record: 18184  from:  79200 to:  81000\n"
     ]
    },
    {
     "name": "stderr",
     "output_type": "stream",
     "text": [
      "Processing P: 100%|██████████| 1344/1344 [00:02<00:00, 650.49it/s]\n",
      "Processing QRS: 100%|██████████| 2202/2202 [00:00<00:00, 5781.87it/s]\n"
     ]
    },
    {
     "name": "stdout",
     "output_type": "stream",
     "text": [
      "Saved mask to: masks/18184_79200_81000_mask.csv\n",
      "record: 18184  from:  81000 to:  82800\n"
     ]
    },
    {
     "name": "stderr",
     "output_type": "stream",
     "text": [
      "Processing P: 100%|██████████| 1292/1292 [00:01<00:00, 681.83it/s]\n",
      "Processing QRS: 100%|██████████| 2262/2262 [00:00<00:00, 5677.37it/s]\n"
     ]
    },
    {
     "name": "stdout",
     "output_type": "stream",
     "text": [
      "Saved mask to: masks/18184_81000_82800_mask.csv\n",
      "record: 18184  from:  82800 to:  84600\n"
     ]
    },
    {
     "name": "stderr",
     "output_type": "stream",
     "text": [
      "Processing P: 100%|██████████| 1317/1317 [00:01<00:00, 687.03it/s]\n",
      "Processing QRS: 100%|██████████| 2224/2224 [00:00<00:00, 5213.12it/s]\n"
     ]
    },
    {
     "name": "stdout",
     "output_type": "stream",
     "text": [
      "Saved mask to: masks/18184_82800_84600_mask.csv\n",
      "record: 18184  from:  84600 to:  85488.0\n"
     ]
    },
    {
     "name": "stderr",
     "output_type": "stream",
     "text": [
      "Processing P: 100%|██████████| 157/157 [00:00<00:00, 1123.18it/s]\n",
      "Processing QRS: 100%|██████████| 80/80 [00:00<00:00, 8562.21it/s]\n"
     ]
    },
    {
     "name": "stdout",
     "output_type": "stream",
     "text": [
      "Saved mask to: masks/18184_84600_85488.0_mask.csv\n",
      "record: 19088  from:  0 to:  1800\n"
     ]
    },
    {
     "name": "stderr",
     "output_type": "stream",
     "text": [
      "Processing P: 100%|██████████| 3000/3000 [00:04<00:00, 736.05it/s]\n",
      "Processing QRS: 100%|██████████| 3046/3046 [00:00<00:00, 4579.04it/s]\n"
     ]
    },
    {
     "name": "stdout",
     "output_type": "stream",
     "text": [
      "Saved mask to: masks/19088_0_1800_mask.csv\n",
      "record: 19088  from:  1800 to:  3600\n"
     ]
    },
    {
     "name": "stderr",
     "output_type": "stream",
     "text": [
      "Processing P: 100%|██████████| 2676/2676 [00:03<00:00, 749.19it/s]\n",
      "Processing QRS: 100%|██████████| 2676/2676 [00:00<00:00, 4613.70it/s]\n"
     ]
    },
    {
     "name": "stdout",
     "output_type": "stream",
     "text": [
      "Saved mask to: masks/19088_1800_3600_mask.csv\n",
      "record: 19088  from:  3600 to:  5400\n"
     ]
    },
    {
     "name": "stderr",
     "output_type": "stream",
     "text": [
      "Processing P: 100%|██████████| 2864/2864 [00:03<00:00, 719.79it/s]\n",
      "Processing QRS: 100%|██████████| 2864/2864 [00:00<00:00, 4549.89it/s]\n"
     ]
    },
    {
     "name": "stdout",
     "output_type": "stream",
     "text": [
      "Saved mask to: masks/19088_3600_5400_mask.csv\n",
      "record: 19088  from:  5400 to:  7200\n"
     ]
    },
    {
     "name": "stderr",
     "output_type": "stream",
     "text": [
      "Processing P: 100%|██████████| 2818/2818 [00:03<00:00, 729.20it/s]\n",
      "Processing QRS: 100%|██████████| 2818/2818 [00:00<00:00, 4504.78it/s]\n"
     ]
    },
    {
     "name": "stdout",
     "output_type": "stream",
     "text": [
      "Saved mask to: masks/19088_5400_7200_mask.csv\n",
      "record: 19088  from:  7200 to:  9000\n"
     ]
    },
    {
     "name": "stderr",
     "output_type": "stream",
     "text": [
      "Processing P: 100%|██████████| 2877/2877 [00:03<00:00, 723.33it/s]\n",
      "Processing QRS: 100%|██████████| 2874/2874 [00:00<00:00, 4644.91it/s]\n"
     ]
    },
    {
     "name": "stdout",
     "output_type": "stream",
     "text": [
      "Saved mask to: masks/19088_7200_9000_mask.csv\n",
      "record: 19088  from:  9000 to:  10800\n"
     ]
    },
    {
     "name": "stderr",
     "output_type": "stream",
     "text": [
      "Processing P: 100%|██████████| 2980/2980 [00:04<00:00, 715.96it/s]\n",
      "Processing QRS: 100%|██████████| 2979/2979 [00:00<00:00, 4650.96it/s]\n"
     ]
    },
    {
     "name": "stdout",
     "output_type": "stream",
     "text": [
      "Saved mask to: masks/19088_9000_10800_mask.csv\n",
      "record: 19088  from:  10800 to:  12600\n"
     ]
    },
    {
     "name": "stderr",
     "output_type": "stream",
     "text": [
      "Processing P: 100%|██████████| 2878/2878 [00:03<00:00, 737.15it/s]\n",
      "Processing QRS: 100%|██████████| 2880/2880 [00:00<00:00, 4496.38it/s]\n"
     ]
    },
    {
     "name": "stdout",
     "output_type": "stream",
     "text": [
      "Saved mask to: masks/19088_10800_12600_mask.csv\n",
      "record: 19088  from:  12600 to:  14400\n"
     ]
    },
    {
     "name": "stderr",
     "output_type": "stream",
     "text": [
      "Processing P: 100%|██████████| 2875/2875 [00:03<00:00, 729.04it/s]\n",
      "Processing QRS: 100%|██████████| 2876/2876 [00:00<00:00, 4454.31it/s]\n"
     ]
    },
    {
     "name": "stdout",
     "output_type": "stream",
     "text": [
      "Saved mask to: masks/19088_12600_14400_mask.csv\n",
      "record: 19088  from:  14400 to:  16200\n"
     ]
    },
    {
     "name": "stderr",
     "output_type": "stream",
     "text": [
      "Processing P: 100%|██████████| 2834/2834 [00:03<00:00, 714.36it/s]\n",
      "Processing QRS: 100%|██████████| 2834/2834 [00:00<00:00, 4395.72it/s]\n"
     ]
    },
    {
     "name": "stdout",
     "output_type": "stream",
     "text": [
      "Saved mask to: masks/19088_14400_16200_mask.csv\n",
      "record: 19088  from:  16200 to:  18000\n"
     ]
    },
    {
     "name": "stderr",
     "output_type": "stream",
     "text": [
      "Processing P: 100%|██████████| 2811/2811 [00:03<00:00, 736.44it/s]\n",
      "Processing QRS: 100%|██████████| 2812/2812 [00:00<00:00, 4585.64it/s]\n"
     ]
    },
    {
     "name": "stdout",
     "output_type": "stream",
     "text": [
      "Saved mask to: masks/19088_16200_18000_mask.csv\n",
      "record: 19088  from:  18000 to:  19800\n"
     ]
    },
    {
     "name": "stderr",
     "output_type": "stream",
     "text": [
      "Processing P: 100%|██████████| 2667/2667 [00:03<00:00, 720.18it/s]\n",
      "Processing QRS: 100%|██████████| 2667/2667 [00:00<00:00, 4540.52it/s]\n"
     ]
    },
    {
     "name": "stdout",
     "output_type": "stream",
     "text": [
      "Saved mask to: masks/19088_18000_19800_mask.csv\n",
      "record: 19088  from:  19800 to:  21600\n"
     ]
    },
    {
     "name": "stderr",
     "output_type": "stream",
     "text": [
      "Processing P: 100%|██████████| 2639/2639 [00:03<00:00, 725.82it/s]\n",
      "Processing QRS: 100%|██████████| 2639/2639 [00:00<00:00, 4555.81it/s]\n"
     ]
    },
    {
     "name": "stdout",
     "output_type": "stream",
     "text": [
      "Saved mask to: masks/19088_19800_21600_mask.csv\n",
      "record: 19088  from:  21600 to:  23400\n"
     ]
    },
    {
     "name": "stderr",
     "output_type": "stream",
     "text": [
      "Processing P: 100%|██████████| 2610/2610 [00:03<00:00, 728.49it/s]\n",
      "Processing QRS: 100%|██████████| 2610/2610 [00:00<00:00, 4506.32it/s]\n"
     ]
    },
    {
     "name": "stdout",
     "output_type": "stream",
     "text": [
      "Saved mask to: masks/19088_21600_23400_mask.csv\n",
      "record: 19088  from:  23400 to:  25200\n"
     ]
    },
    {
     "name": "stderr",
     "output_type": "stream",
     "text": [
      "Processing P: 100%|██████████| 2788/2788 [00:03<00:00, 721.40it/s]\n",
      "Processing QRS: 100%|██████████| 2788/2788 [00:00<00:00, 4514.88it/s]\n"
     ]
    },
    {
     "name": "stdout",
     "output_type": "stream",
     "text": [
      "Saved mask to: masks/19088_23400_25200_mask.csv\n",
      "record: 19088  from:  25200 to:  27000\n"
     ]
    },
    {
     "name": "stderr",
     "output_type": "stream",
     "text": [
      "Processing P: 100%|██████████| 2594/2594 [00:03<00:00, 720.92it/s]\n",
      "Processing QRS: 100%|██████████| 2594/2594 [00:00<00:00, 4622.77it/s]\n"
     ]
    },
    {
     "name": "stdout",
     "output_type": "stream",
     "text": [
      "Saved mask to: masks/19088_25200_27000_mask.csv\n",
      "record: 19088  from:  27000 to:  28800\n"
     ]
    },
    {
     "name": "stderr",
     "output_type": "stream",
     "text": [
      "Processing P: 100%|██████████| 2767/2767 [00:03<00:00, 713.75it/s]\n",
      "Processing QRS: 100%|██████████| 2767/2767 [00:00<00:00, 4395.02it/s]\n"
     ]
    },
    {
     "name": "stdout",
     "output_type": "stream",
     "text": [
      "Saved mask to: masks/19088_27000_28800_mask.csv\n",
      "record: 19088  from:  28800 to:  30600\n"
     ]
    },
    {
     "name": "stderr",
     "output_type": "stream",
     "text": [
      "Processing P: 100%|██████████| 2493/2493 [00:03<00:00, 708.83it/s]\n",
      "Processing QRS: 100%|██████████| 2493/2493 [00:00<00:00, 4434.49it/s]\n"
     ]
    },
    {
     "name": "stdout",
     "output_type": "stream",
     "text": [
      "Saved mask to: masks/19088_28800_30600_mask.csv\n",
      "record: 19088  from:  30600 to:  32400\n"
     ]
    },
    {
     "name": "stderr",
     "output_type": "stream",
     "text": [
      "Processing P: 100%|██████████| 2536/2536 [00:03<00:00, 733.11it/s]\n",
      "Processing QRS: 100%|██████████| 2537/2537 [00:00<00:00, 4594.06it/s]\n"
     ]
    },
    {
     "name": "stdout",
     "output_type": "stream",
     "text": [
      "Saved mask to: masks/19088_30600_32400_mask.csv\n",
      "record: 19088  from:  32400 to:  34200\n"
     ]
    },
    {
     "name": "stderr",
     "output_type": "stream",
     "text": [
      "Processing P: 100%|██████████| 2497/2497 [00:03<00:00, 732.18it/s]\n",
      "Processing QRS: 100%|██████████| 2498/2498 [00:00<00:00, 4625.40it/s]\n"
     ]
    },
    {
     "name": "stdout",
     "output_type": "stream",
     "text": [
      "Saved mask to: masks/19088_32400_34200_mask.csv\n",
      "record: 19088  from:  34200 to:  36000\n"
     ]
    },
    {
     "name": "stderr",
     "output_type": "stream",
     "text": [
      "Processing P: 100%|██████████| 2541/2541 [00:03<00:00, 713.12it/s]\n",
      "Processing QRS: 100%|██████████| 2541/2541 [00:00<00:00, 4686.63it/s]\n"
     ]
    },
    {
     "name": "stdout",
     "output_type": "stream",
     "text": [
      "Saved mask to: masks/19088_34200_36000_mask.csv\n",
      "record: 19088  from:  36000 to:  37800\n"
     ]
    },
    {
     "name": "stderr",
     "output_type": "stream",
     "text": [
      "Processing P: 100%|██████████| 2844/2844 [00:04<00:00, 703.92it/s]\n",
      "Processing QRS: 100%|██████████| 2848/2848 [00:00<00:00, 4634.37it/s]\n"
     ]
    },
    {
     "name": "stdout",
     "output_type": "stream",
     "text": [
      "Saved mask to: masks/19088_36000_37800_mask.csv\n",
      "record: 19088  from:  37800 to:  39600\n"
     ]
    },
    {
     "name": "stderr",
     "output_type": "stream",
     "text": [
      "Processing P: 100%|██████████| 2233/2233 [00:03<00:00, 733.78it/s]\n",
      "Processing QRS: 100%|██████████| 2234/2234 [00:00<00:00, 4578.72it/s]\n"
     ]
    },
    {
     "name": "stdout",
     "output_type": "stream",
     "text": [
      "Saved mask to: masks/19088_37800_39600_mask.csv\n",
      "record: 19088  from:  39600 to:  41400\n"
     ]
    },
    {
     "name": "stderr",
     "output_type": "stream",
     "text": [
      "Processing P: 100%|██████████| 2774/2774 [00:03<00:00, 727.48it/s]\n",
      "Processing QRS: 100%|██████████| 2777/2777 [00:00<00:00, 4655.77it/s]\n"
     ]
    },
    {
     "name": "stdout",
     "output_type": "stream",
     "text": [
      "Saved mask to: masks/19088_39600_41400_mask.csv\n",
      "record: 19088  from:  41400 to:  43200\n"
     ]
    },
    {
     "name": "stderr",
     "output_type": "stream",
     "text": [
      "Processing P: 100%|██████████| 2380/2380 [00:03<00:00, 717.35it/s]\n",
      "Processing QRS: 100%|██████████| 2380/2380 [00:00<00:00, 4773.16it/s]\n"
     ]
    },
    {
     "name": "stdout",
     "output_type": "stream",
     "text": [
      "Saved mask to: masks/19088_41400_43200_mask.csv\n",
      "record: 19088  from:  43200 to:  45000\n"
     ]
    },
    {
     "name": "stderr",
     "output_type": "stream",
     "text": [
      "Processing P: 100%|██████████| 2404/2404 [00:03<00:00, 738.31it/s]\n",
      "Processing QRS: 100%|██████████| 2404/2404 [00:00<00:00, 4878.10it/s]\n"
     ]
    },
    {
     "name": "stdout",
     "output_type": "stream",
     "text": [
      "Saved mask to: masks/19088_43200_45000_mask.csv\n",
      "record: 19088  from:  45000 to:  46800\n"
     ]
    },
    {
     "name": "stderr",
     "output_type": "stream",
     "text": [
      "Processing P: 100%|██████████| 2182/2182 [00:03<00:00, 726.80it/s]\n",
      "Processing QRS: 100%|██████████| 2182/2182 [00:00<00:00, 4705.50it/s]\n"
     ]
    },
    {
     "name": "stdout",
     "output_type": "stream",
     "text": [
      "Saved mask to: masks/19088_45000_46800_mask.csv\n",
      "record: 19088  from:  46800 to:  48600\n"
     ]
    },
    {
     "name": "stderr",
     "output_type": "stream",
     "text": [
      "Processing P: 100%|██████████| 2134/2134 [00:02<00:00, 722.19it/s]\n",
      "Processing QRS: 100%|██████████| 2135/2135 [00:00<00:00, 4742.19it/s]\n"
     ]
    },
    {
     "name": "stdout",
     "output_type": "stream",
     "text": [
      "Saved mask to: masks/19088_46800_48600_mask.csv\n",
      "record: 19088  from:  48600 to:  50400\n"
     ]
    },
    {
     "name": "stderr",
     "output_type": "stream",
     "text": [
      "Processing P: 100%|██████████| 2110/2110 [00:02<00:00, 727.41it/s]\n",
      "Processing QRS: 100%|██████████| 2110/2110 [00:00<00:00, 4720.63it/s]\n"
     ]
    },
    {
     "name": "stdout",
     "output_type": "stream",
     "text": [
      "Saved mask to: masks/19088_48600_50400_mask.csv\n",
      "record: 19088  from:  50400 to:  52200\n"
     ]
    },
    {
     "name": "stderr",
     "output_type": "stream",
     "text": [
      "Processing P: 100%|██████████| 2078/2078 [00:02<00:00, 736.91it/s]\n",
      "Processing QRS: 100%|██████████| 2078/2078 [00:00<00:00, 4612.23it/s]\n"
     ]
    },
    {
     "name": "stdout",
     "output_type": "stream",
     "text": [
      "Saved mask to: masks/19088_50400_52200_mask.csv\n",
      "record: 19088  from:  52200 to:  54000\n"
     ]
    },
    {
     "name": "stderr",
     "output_type": "stream",
     "text": [
      "Processing P: 100%|██████████| 2138/2138 [00:02<00:00, 729.71it/s]\n",
      "Processing QRS: 100%|██████████| 2138/2138 [00:00<00:00, 4624.02it/s]\n"
     ]
    },
    {
     "name": "stdout",
     "output_type": "stream",
     "text": [
      "Saved mask to: masks/19088_52200_54000_mask.csv\n",
      "record: 19088  from:  54000 to:  55800\n"
     ]
    },
    {
     "name": "stderr",
     "output_type": "stream",
     "text": [
      "Processing P: 100%|██████████| 2084/2084 [00:02<00:00, 746.37it/s]\n",
      "Processing QRS: 100%|██████████| 2085/2085 [00:00<00:00, 4749.06it/s]\n"
     ]
    },
    {
     "name": "stdout",
     "output_type": "stream",
     "text": [
      "Saved mask to: masks/19088_54000_55800_mask.csv\n",
      "record: 19088  from:  55800 to:  57600\n"
     ]
    },
    {
     "name": "stderr",
     "output_type": "stream",
     "text": [
      "Processing P: 100%|██████████| 2057/2057 [00:02<00:00, 697.49it/s]\n",
      "Processing QRS: 100%|██████████| 2058/2058 [00:00<00:00, 4615.65it/s]\n"
     ]
    },
    {
     "name": "stdout",
     "output_type": "stream",
     "text": [
      "Saved mask to: masks/19088_55800_57600_mask.csv\n",
      "record: 19088  from:  57600 to:  59400\n"
     ]
    },
    {
     "name": "stderr",
     "output_type": "stream",
     "text": [
      "Processing P: 100%|██████████| 2192/2192 [00:03<00:00, 721.71it/s]\n",
      "Processing QRS: 100%|██████████| 2195/2195 [00:00<00:00, 4824.51it/s]\n"
     ]
    },
    {
     "name": "stdout",
     "output_type": "stream",
     "text": [
      "Saved mask to: masks/19088_57600_59400_mask.csv\n",
      "record: 19088  from:  59400 to:  61200\n"
     ]
    },
    {
     "name": "stderr",
     "output_type": "stream",
     "text": [
      "Processing P: 100%|██████████| 1944/1944 [00:02<00:00, 719.58it/s]\n",
      "Processing QRS: 100%|██████████| 1944/1944 [00:00<00:00, 4738.63it/s]\n"
     ]
    },
    {
     "name": "stdout",
     "output_type": "stream",
     "text": [
      "Saved mask to: masks/19088_59400_61200_mask.csv\n",
      "record: 19088  from:  61200 to:  63000\n"
     ]
    },
    {
     "name": "stderr",
     "output_type": "stream",
     "text": [
      "Processing P: 100%|██████████| 2039/2039 [00:02<00:00, 718.33it/s]\n",
      "Processing QRS: 100%|██████████| 2039/2039 [00:00<00:00, 4553.75it/s]\n"
     ]
    },
    {
     "name": "stdout",
     "output_type": "stream",
     "text": [
      "Saved mask to: masks/19088_61200_63000_mask.csv\n",
      "record: 19088  from:  63000 to:  64800\n"
     ]
    },
    {
     "name": "stderr",
     "output_type": "stream",
     "text": [
      "Processing P: 100%|██████████| 1961/1961 [00:03<00:00, 570.48it/s]\n",
      "Processing QRS: 100%|██████████| 1965/1965 [00:00<00:00, 3783.71it/s]\n"
     ]
    },
    {
     "name": "stdout",
     "output_type": "stream",
     "text": [
      "Saved mask to: masks/19088_63000_64800_mask.csv\n",
      "record: 19088  from:  64800 to:  66600\n"
     ]
    },
    {
     "name": "stderr",
     "output_type": "stream",
     "text": [
      "Processing P: 100%|██████████| 1980/1980 [00:02<00:00, 705.60it/s]\n",
      "Processing QRS: 100%|██████████| 1980/1980 [00:00<00:00, 4663.10it/s]\n"
     ]
    },
    {
     "name": "stdout",
     "output_type": "stream",
     "text": [
      "Saved mask to: masks/19088_64800_66600_mask.csv\n",
      "record: 19088  from:  66600 to:  68400\n"
     ]
    },
    {
     "name": "stderr",
     "output_type": "stream",
     "text": [
      "Processing P: 100%|██████████| 2044/2044 [00:02<00:00, 712.81it/s]\n",
      "Processing QRS: 100%|██████████| 2045/2045 [00:00<00:00, 4706.06it/s]\n"
     ]
    },
    {
     "name": "stdout",
     "output_type": "stream",
     "text": [
      "Saved mask to: masks/19088_66600_68400_mask.csv\n",
      "record: 19088  from:  68400 to:  70200\n"
     ]
    },
    {
     "name": "stderr",
     "output_type": "stream",
     "text": [
      "Processing P: 100%|██████████| 2108/2108 [00:03<00:00, 701.37it/s]\n",
      "Processing QRS: 100%|██████████| 2110/2110 [00:00<00:00, 4457.50it/s]\n"
     ]
    },
    {
     "name": "stdout",
     "output_type": "stream",
     "text": [
      "Saved mask to: masks/19088_68400_70200_mask.csv\n",
      "record: 19088  from:  70200 to:  72000\n"
     ]
    },
    {
     "name": "stderr",
     "output_type": "stream",
     "text": [
      "Processing P: 100%|██████████| 2269/2269 [00:03<00:00, 724.09it/s]\n",
      "Processing QRS: 100%|██████████| 2275/2275 [00:00<00:00, 4480.06it/s]\n"
     ]
    },
    {
     "name": "stdout",
     "output_type": "stream",
     "text": [
      "Saved mask to: masks/19088_70200_72000_mask.csv\n",
      "record: 19088  from:  72000 to:  73800\n"
     ]
    },
    {
     "name": "stderr",
     "output_type": "stream",
     "text": [
      "Processing P: 100%|██████████| 857/857 [00:01<00:00, 716.72it/s]\n",
      "Processing QRS: 100%|██████████| 855/855 [00:00<00:00, 7817.25it/s]\n"
     ]
    },
    {
     "name": "stdout",
     "output_type": "stream",
     "text": [
      "Saved mask to: masks/19088_72000_73800_mask.csv\n",
      "record: 19088  from:  73800 to:  75600\n"
     ]
    },
    {
     "name": "stderr",
     "output_type": "stream",
     "text": [
      "Processing P: 100%|██████████| 1634/1634 [00:02<00:00, 664.15it/s]\n",
      "Processing QRS: 100%|██████████| 2476/2476 [00:00<00:00, 5279.31it/s]\n"
     ]
    },
    {
     "name": "stdout",
     "output_type": "stream",
     "text": [
      "Saved mask to: masks/19088_73800_75600_mask.csv\n",
      "record: 19088  from:  75600 to:  77400\n"
     ]
    },
    {
     "name": "stderr",
     "output_type": "stream",
     "text": [
      "Processing P: 100%|██████████| 1594/1594 [00:02<00:00, 683.40it/s]\n",
      "Processing QRS: 100%|██████████| 2527/2527 [00:00<00:00, 5520.04it/s]\n"
     ]
    },
    {
     "name": "stdout",
     "output_type": "stream",
     "text": [
      "Saved mask to: masks/19088_75600_77400_mask.csv\n",
      "record: 19088  from:  77400 to:  79200\n"
     ]
    },
    {
     "name": "stderr",
     "output_type": "stream",
     "text": [
      "Processing P: 100%|██████████| 1620/1620 [00:02<00:00, 681.53it/s]\n",
      "Processing QRS: 100%|██████████| 2526/2526 [00:00<00:00, 5388.59it/s]\n"
     ]
    },
    {
     "name": "stdout",
     "output_type": "stream",
     "text": [
      "Saved mask to: masks/19088_77400_79200_mask.csv\n",
      "record: 19088  from:  79200 to:  81000\n"
     ]
    },
    {
     "name": "stderr",
     "output_type": "stream",
     "text": [
      "Processing P: 100%|██████████| 1562/1562 [00:02<00:00, 690.24it/s]\n",
      "Processing QRS: 100%|██████████| 2527/2527 [00:00<00:00, 5591.19it/s]\n"
     ]
    },
    {
     "name": "stdout",
     "output_type": "stream",
     "text": [
      "Saved mask to: masks/19088_79200_81000_mask.csv\n",
      "record: 19088  from:  81000 to:  82800\n"
     ]
    },
    {
     "name": "stderr",
     "output_type": "stream",
     "text": [
      "Processing P: 100%|██████████| 1600/1600 [00:02<00:00, 700.21it/s]\n",
      "Processing QRS: 100%|██████████| 2516/2516 [00:00<00:00, 5353.55it/s]\n"
     ]
    },
    {
     "name": "stdout",
     "output_type": "stream",
     "text": [
      "Saved mask to: masks/19088_81000_82800_mask.csv\n",
      "record: 19088  from:  82800 to:  84600\n"
     ]
    },
    {
     "name": "stderr",
     "output_type": "stream",
     "text": [
      "Processing P: 100%|██████████| 1600/1600 [00:02<00:00, 689.38it/s]\n",
      "Processing QRS: 100%|██████████| 2568/2568 [00:00<00:00, 5521.34it/s]\n"
     ]
    },
    {
     "name": "stdout",
     "output_type": "stream",
     "text": [
      "Saved mask to: masks/19088_82800_84600_mask.csv\n",
      "record: 19088  from:  84600 to:  85680.0\n"
     ]
    },
    {
     "name": "stderr",
     "output_type": "stream",
     "text": [
      "Processing P: 100%|██████████| 793/793 [00:00<00:00, 1054.94it/s]\n",
      "Processing QRS: 100%|██████████| 1106/1106 [00:00<00:00, 7679.68it/s]\n"
     ]
    },
    {
     "name": "stdout",
     "output_type": "stream",
     "text": [
      "Saved mask to: masks/19088_84600_85680.0_mask.csv\n",
      "record: 19090  from:  0 to:  1800\n"
     ]
    },
    {
     "name": "stderr",
     "output_type": "stream",
     "text": [
      "Processing P: 100%|██████████| 2437/2437 [00:03<00:00, 731.53it/s]\n",
      "Processing QRS: 100%|██████████| 2458/2458 [00:00<00:00, 4695.60it/s]\n"
     ]
    },
    {
     "name": "stdout",
     "output_type": "stream",
     "text": [
      "Saved mask to: masks/19090_0_1800_mask.csv\n",
      "record: 19090  from:  1800 to:  3600\n"
     ]
    },
    {
     "name": "stderr",
     "output_type": "stream",
     "text": [
      "Processing P: 100%|██████████| 2349/2349 [00:03<00:00, 711.14it/s]\n",
      "Processing QRS: 100%|██████████| 2348/2348 [00:00<00:00, 4669.19it/s]\n"
     ]
    },
    {
     "name": "stdout",
     "output_type": "stream",
     "text": [
      "Saved mask to: masks/19090_1800_3600_mask.csv\n",
      "record: 19090  from:  3600 to:  5400\n"
     ]
    },
    {
     "name": "stderr",
     "output_type": "stream",
     "text": [
      "Processing P: 100%|██████████| 2489/2489 [00:03<00:00, 750.87it/s]\n",
      "Processing QRS: 100%|██████████| 2489/2489 [00:00<00:00, 4629.92it/s]\n"
     ]
    },
    {
     "name": "stdout",
     "output_type": "stream",
     "text": [
      "Saved mask to: masks/19090_3600_5400_mask.csv\n",
      "record: 19090  from:  5400 to:  7200\n"
     ]
    },
    {
     "name": "stderr",
     "output_type": "stream",
     "text": [
      "Processing P: 100%|██████████| 2401/2401 [00:03<00:00, 740.33it/s]\n",
      "Processing QRS: 100%|██████████| 2401/2401 [00:00<00:00, 4628.13it/s]\n"
     ]
    },
    {
     "name": "stdout",
     "output_type": "stream",
     "text": [
      "Saved mask to: masks/19090_5400_7200_mask.csv\n",
      "record: 19090  from:  7200 to:  9000\n"
     ]
    },
    {
     "name": "stderr",
     "output_type": "stream",
     "text": [
      "Processing P: 100%|██████████| 2387/2387 [00:03<00:00, 740.45it/s]\n",
      "Processing QRS: 100%|██████████| 2388/2388 [00:00<00:00, 4693.41it/s]\n"
     ]
    },
    {
     "name": "stdout",
     "output_type": "stream",
     "text": [
      "Saved mask to: masks/19090_7200_9000_mask.csv\n",
      "record: 19090  from:  9000 to:  10800\n"
     ]
    },
    {
     "name": "stderr",
     "output_type": "stream",
     "text": [
      "Processing P: 100%|██████████| 2271/2271 [00:03<00:00, 741.31it/s]\n",
      "Processing QRS: 100%|██████████| 2275/2275 [00:00<00:00, 4443.23it/s]\n"
     ]
    },
    {
     "name": "stdout",
     "output_type": "stream",
     "text": [
      "Saved mask to: masks/19090_9000_10800_mask.csv\n",
      "record: 19090  from:  10800 to:  12600\n"
     ]
    },
    {
     "name": "stderr",
     "output_type": "stream",
     "text": [
      "Processing P: 100%|██████████| 2292/2292 [00:03<00:00, 736.76it/s]\n",
      "Processing QRS: 100%|██████████| 2293/2293 [00:00<00:00, 4730.02it/s]\n"
     ]
    },
    {
     "name": "stdout",
     "output_type": "stream",
     "text": [
      "Saved mask to: masks/19090_10800_12600_mask.csv\n",
      "record: 19090  from:  12600 to:  14400\n"
     ]
    },
    {
     "name": "stderr",
     "output_type": "stream",
     "text": [
      "Processing P: 100%|██████████| 2188/2188 [00:03<00:00, 721.02it/s]\n",
      "Processing QRS: 100%|██████████| 2189/2189 [00:00<00:00, 4598.27it/s]\n"
     ]
    },
    {
     "name": "stdout",
     "output_type": "stream",
     "text": [
      "Saved mask to: masks/19090_12600_14400_mask.csv\n",
      "record: 19090  from:  14400 to:  16200\n"
     ]
    },
    {
     "name": "stderr",
     "output_type": "stream",
     "text": [
      "Processing P: 100%|██████████| 2323/2323 [00:03<00:00, 739.19it/s]\n",
      "Processing QRS: 100%|██████████| 2327/2327 [00:00<00:00, 4359.46it/s]\n"
     ]
    },
    {
     "name": "stdout",
     "output_type": "stream",
     "text": [
      "Saved mask to: masks/19090_14400_16200_mask.csv\n",
      "record: 19090  from:  16200 to:  18000\n"
     ]
    },
    {
     "name": "stderr",
     "output_type": "stream",
     "text": [
      "Processing P: 100%|██████████| 2252/2252 [00:03<00:00, 732.21it/s]\n",
      "Processing QRS: 100%|██████████| 2252/2252 [00:00<00:00, 4617.08it/s]\n"
     ]
    },
    {
     "name": "stdout",
     "output_type": "stream",
     "text": [
      "Saved mask to: masks/19090_16200_18000_mask.csv\n",
      "record: 19090  from:  18000 to:  19800\n"
     ]
    },
    {
     "name": "stderr",
     "output_type": "stream",
     "text": [
      "Processing P: 100%|██████████| 2347/2347 [00:03<00:00, 737.19it/s]\n",
      "Processing QRS: 100%|██████████| 2347/2347 [00:00<00:00, 4596.89it/s]\n"
     ]
    },
    {
     "name": "stdout",
     "output_type": "stream",
     "text": [
      "Saved mask to: masks/19090_18000_19800_mask.csv\n",
      "record: 19090  from:  19800 to:  21600\n"
     ]
    },
    {
     "name": "stderr",
     "output_type": "stream",
     "text": [
      "Processing P: 100%|██████████| 2424/2424 [00:03<00:00, 732.76it/s]\n",
      "Processing QRS: 100%|██████████| 2424/2424 [00:00<00:00, 4566.39it/s]\n"
     ]
    },
    {
     "name": "stdout",
     "output_type": "stream",
     "text": [
      "Saved mask to: masks/19090_19800_21600_mask.csv\n",
      "record: 19090  from:  21600 to:  23400\n"
     ]
    },
    {
     "name": "stderr",
     "output_type": "stream",
     "text": [
      "Processing P: 100%|██████████| 2328/2328 [00:03<00:00, 732.23it/s]\n",
      "Processing QRS: 100%|██████████| 2330/2330 [00:00<00:00, 4597.03it/s]\n"
     ]
    },
    {
     "name": "stdout",
     "output_type": "stream",
     "text": [
      "Saved mask to: masks/19090_21600_23400_mask.csv\n",
      "record: 19090  from:  23400 to:  25200\n"
     ]
    },
    {
     "name": "stderr",
     "output_type": "stream",
     "text": [
      "Processing P: 100%|██████████| 2227/2227 [00:03<00:00, 729.58it/s]\n",
      "Processing QRS: 100%|██████████| 2228/2228 [00:00<00:00, 4631.90it/s]\n"
     ]
    },
    {
     "name": "stdout",
     "output_type": "stream",
     "text": [
      "Saved mask to: masks/19090_23400_25200_mask.csv\n",
      "record: 19090  from:  25200 to:  27000\n"
     ]
    },
    {
     "name": "stderr",
     "output_type": "stream",
     "text": [
      "Processing P: 100%|██████████| 2024/2024 [00:02<00:00, 731.32it/s]\n",
      "Processing QRS: 100%|██████████| 2024/2024 [00:00<00:00, 4662.94it/s]\n"
     ]
    },
    {
     "name": "stdout",
     "output_type": "stream",
     "text": [
      "Saved mask to: masks/19090_25200_27000_mask.csv\n",
      "record: 19090  from:  27000 to:  28800\n"
     ]
    },
    {
     "name": "stderr",
     "output_type": "stream",
     "text": [
      "Processing P: 100%|██████████| 1910/1910 [00:02<00:00, 727.17it/s]\n",
      "Processing QRS: 100%|██████████| 1910/1910 [00:00<00:00, 4620.42it/s]\n"
     ]
    },
    {
     "name": "stdout",
     "output_type": "stream",
     "text": [
      "Saved mask to: masks/19090_27000_28800_mask.csv\n",
      "record: 19090  from:  28800 to:  30600\n"
     ]
    },
    {
     "name": "stderr",
     "output_type": "stream",
     "text": [
      "Processing P: 100%|██████████| 2119/2119 [00:02<00:00, 711.43it/s]\n",
      "Processing QRS: 100%|██████████| 2119/2119 [00:00<00:00, 4509.56it/s]\n"
     ]
    },
    {
     "name": "stdout",
     "output_type": "stream",
     "text": [
      "Saved mask to: masks/19090_28800_30600_mask.csv\n",
      "record: 19090  from:  30600 to:  32400\n"
     ]
    },
    {
     "name": "stderr",
     "output_type": "stream",
     "text": [
      "Processing P: 100%|██████████| 2036/2036 [00:02<00:00, 719.60it/s]\n",
      "Processing QRS: 100%|██████████| 2036/2036 [00:00<00:00, 4593.58it/s]\n"
     ]
    },
    {
     "name": "stdout",
     "output_type": "stream",
     "text": [
      "Saved mask to: masks/19090_30600_32400_mask.csv\n",
      "record: 19090  from:  32400 to:  34200\n"
     ]
    },
    {
     "name": "stderr",
     "output_type": "stream",
     "text": [
      "Processing P: 100%|██████████| 1878/1878 [00:02<00:00, 700.85it/s]\n",
      "Processing QRS: 100%|██████████| 1878/1878 [00:00<00:00, 4713.02it/s]\n"
     ]
    },
    {
     "name": "stdout",
     "output_type": "stream",
     "text": [
      "Saved mask to: masks/19090_32400_34200_mask.csv\n",
      "record: 19090  from:  34200 to:  36000\n"
     ]
    },
    {
     "name": "stderr",
     "output_type": "stream",
     "text": [
      "Processing P: 100%|██████████| 1881/1881 [00:02<00:00, 711.05it/s]\n",
      "Processing QRS: 100%|██████████| 1881/1881 [00:00<00:00, 4616.79it/s]\n"
     ]
    },
    {
     "name": "stdout",
     "output_type": "stream",
     "text": [
      "Saved mask to: masks/19090_34200_36000_mask.csv\n",
      "record: 19090  from:  36000 to:  37800\n"
     ]
    },
    {
     "name": "stderr",
     "output_type": "stream",
     "text": [
      "Processing P: 100%|██████████| 1874/1874 [00:02<00:00, 706.40it/s]\n",
      "Processing QRS: 100%|██████████| 1875/1875 [00:00<00:00, 4616.60it/s]\n"
     ]
    },
    {
     "name": "stdout",
     "output_type": "stream",
     "text": [
      "Saved mask to: masks/19090_36000_37800_mask.csv\n",
      "record: 19090  from:  37800 to:  39600\n"
     ]
    },
    {
     "name": "stderr",
     "output_type": "stream",
     "text": [
      "Processing P: 100%|██████████| 1827/1827 [00:02<00:00, 711.00it/s]\n",
      "Processing QRS: 100%|██████████| 1828/1828 [00:00<00:00, 4616.36it/s]\n"
     ]
    },
    {
     "name": "stdout",
     "output_type": "stream",
     "text": [
      "Saved mask to: masks/19090_37800_39600_mask.csv\n",
      "record: 19090  from:  39600 to:  41400\n"
     ]
    },
    {
     "name": "stderr",
     "output_type": "stream",
     "text": [
      "Processing P: 100%|██████████| 1961/1961 [00:02<00:00, 707.57it/s]\n",
      "Processing QRS: 100%|██████████| 1959/1959 [00:00<00:00, 4474.03it/s]\n"
     ]
    },
    {
     "name": "stdout",
     "output_type": "stream",
     "text": [
      "Saved mask to: masks/19090_39600_41400_mask.csv\n",
      "record: 19090  from:  41400 to:  43200\n"
     ]
    },
    {
     "name": "stderr",
     "output_type": "stream",
     "text": [
      "Processing P: 100%|██████████| 1925/1925 [00:02<00:00, 710.79it/s]\n",
      "Processing QRS: 100%|██████████| 1927/1927 [00:00<00:00, 4564.25it/s]\n"
     ]
    },
    {
     "name": "stdout",
     "output_type": "stream",
     "text": [
      "Saved mask to: masks/19090_41400_43200_mask.csv\n",
      "record: 19090  from:  43200 to:  45000\n"
     ]
    },
    {
     "name": "stderr",
     "output_type": "stream",
     "text": [
      "Processing P: 100%|██████████| 1898/1898 [00:02<00:00, 724.51it/s]\n",
      "Processing QRS: 100%|██████████| 1898/1898 [00:00<00:00, 4586.17it/s]\n"
     ]
    },
    {
     "name": "stdout",
     "output_type": "stream",
     "text": [
      "Saved mask to: masks/19090_43200_45000_mask.csv\n",
      "record: 19090  from:  45000 to:  46800\n"
     ]
    },
    {
     "name": "stderr",
     "output_type": "stream",
     "text": [
      "Processing P: 100%|██████████| 1934/1934 [00:02<00:00, 715.44it/s]\n",
      "Processing QRS: 100%|██████████| 1934/1934 [00:00<00:00, 4454.12it/s]\n"
     ]
    },
    {
     "name": "stdout",
     "output_type": "stream",
     "text": [
      "Saved mask to: masks/19090_45000_46800_mask.csv\n",
      "record: 19090  from:  46800 to:  48600\n"
     ]
    },
    {
     "name": "stderr",
     "output_type": "stream",
     "text": [
      "Processing P: 100%|██████████| 2015/2015 [00:02<00:00, 742.39it/s]\n",
      "Processing QRS: 100%|██████████| 2015/2015 [00:00<00:00, 4527.71it/s]\n"
     ]
    },
    {
     "name": "stdout",
     "output_type": "stream",
     "text": [
      "Saved mask to: masks/19090_46800_48600_mask.csv\n",
      "record: 19090  from:  48600 to:  50400\n"
     ]
    },
    {
     "name": "stderr",
     "output_type": "stream",
     "text": [
      "Processing P: 100%|██████████| 1889/1889 [00:02<00:00, 711.14it/s]\n",
      "Processing QRS: 100%|██████████| 1889/1889 [00:00<00:00, 4605.29it/s]\n"
     ]
    },
    {
     "name": "stdout",
     "output_type": "stream",
     "text": [
      "Saved mask to: masks/19090_48600_50400_mask.csv\n",
      "record: 19090  from:  50400 to:  52200\n"
     ]
    },
    {
     "name": "stderr",
     "output_type": "stream",
     "text": [
      "Processing P: 100%|██████████| 1909/1909 [00:02<00:00, 728.01it/s]\n",
      "Processing QRS: 100%|██████████| 1909/1909 [00:00<00:00, 4554.76it/s]\n"
     ]
    },
    {
     "name": "stdout",
     "output_type": "stream",
     "text": [
      "Saved mask to: masks/19090_50400_52200_mask.csv\n",
      "record: 19090  from:  52200 to:  54000\n"
     ]
    },
    {
     "name": "stderr",
     "output_type": "stream",
     "text": [
      "Processing P: 100%|██████████| 2056/2056 [00:02<00:00, 724.91it/s]\n",
      "Processing QRS: 100%|██████████| 2056/2056 [00:00<00:00, 4509.54it/s]\n"
     ]
    },
    {
     "name": "stdout",
     "output_type": "stream",
     "text": [
      "Saved mask to: masks/19090_52200_54000_mask.csv\n",
      "record: 19090  from:  54000 to:  55800\n"
     ]
    },
    {
     "name": "stderr",
     "output_type": "stream",
     "text": [
      "Processing P: 100%|██████████| 2062/2062 [00:02<00:00, 731.36it/s]\n",
      "Processing QRS: 100%|██████████| 2064/2064 [00:00<00:00, 4611.01it/s]\n"
     ]
    },
    {
     "name": "stdout",
     "output_type": "stream",
     "text": [
      "Saved mask to: masks/19090_54000_55800_mask.csv\n",
      "record: 19090  from:  55800 to:  57600\n"
     ]
    },
    {
     "name": "stderr",
     "output_type": "stream",
     "text": [
      "Processing P: 100%|██████████| 2127/2127 [00:02<00:00, 714.30it/s]\n",
      "Processing QRS: 100%|██████████| 2126/2126 [00:00<00:00, 4552.83it/s]\n"
     ]
    },
    {
     "name": "stdout",
     "output_type": "stream",
     "text": [
      "Saved mask to: masks/19090_55800_57600_mask.csv\n",
      "record: 19090  from:  57600 to:  59400\n"
     ]
    },
    {
     "name": "stderr",
     "output_type": "stream",
     "text": [
      "Processing P: 100%|██████████| 2025/2025 [00:02<00:00, 740.30it/s]\n",
      "Processing QRS: 100%|██████████| 2027/2027 [00:00<00:00, 4683.93it/s]\n"
     ]
    },
    {
     "name": "stdout",
     "output_type": "stream",
     "text": [
      "Saved mask to: masks/19090_57600_59400_mask.csv\n",
      "record: 19090  from:  59400 to:  61200\n"
     ]
    },
    {
     "name": "stderr",
     "output_type": "stream",
     "text": [
      "Processing P: 100%|██████████| 1992/1992 [00:02<00:00, 731.53it/s]\n",
      "Processing QRS: 100%|██████████| 1992/1992 [00:00<00:00, 4566.95it/s]\n"
     ]
    },
    {
     "name": "stdout",
     "output_type": "stream",
     "text": [
      "Saved mask to: masks/19090_59400_61200_mask.csv\n",
      "record: 19090  from:  61200 to:  63000\n"
     ]
    },
    {
     "name": "stderr",
     "output_type": "stream",
     "text": [
      "Processing P: 100%|██████████| 2043/2043 [00:02<00:00, 737.89it/s]\n",
      "Processing QRS: 100%|██████████| 2043/2043 [00:00<00:00, 4579.81it/s]\n"
     ]
    },
    {
     "name": "stdout",
     "output_type": "stream",
     "text": [
      "Saved mask to: masks/19090_61200_63000_mask.csv\n",
      "record: 19090  from:  63000 to:  64800\n"
     ]
    },
    {
     "name": "stderr",
     "output_type": "stream",
     "text": [
      "Processing P: 100%|██████████| 2112/2112 [00:02<00:00, 721.48it/s]\n",
      "Processing QRS: 100%|██████████| 2113/2113 [00:00<00:00, 4655.79it/s]\n"
     ]
    },
    {
     "name": "stdout",
     "output_type": "stream",
     "text": [
      "Saved mask to: masks/19090_63000_64800_mask.csv\n",
      "record: 19090  from:  64800 to:  66600\n"
     ]
    },
    {
     "name": "stderr",
     "output_type": "stream",
     "text": [
      "Processing P: 100%|██████████| 2152/2152 [00:02<00:00, 738.99it/s]\n",
      "Processing QRS: 100%|██████████| 2156/2156 [00:00<00:00, 4548.96it/s]\n"
     ]
    },
    {
     "name": "stdout",
     "output_type": "stream",
     "text": [
      "Saved mask to: masks/19090_64800_66600_mask.csv\n",
      "record: 19090  from:  66600 to:  68400\n"
     ]
    },
    {
     "name": "stderr",
     "output_type": "stream",
     "text": [
      "Processing P: 100%|██████████| 2171/2171 [00:03<00:00, 709.44it/s]\n",
      "Processing QRS: 100%|██████████| 2171/2171 [00:00<00:00, 4521.74it/s]\n"
     ]
    },
    {
     "name": "stdout",
     "output_type": "stream",
     "text": [
      "Saved mask to: masks/19090_66600_68400_mask.csv\n",
      "record: 19090  from:  68400 to:  70200\n"
     ]
    },
    {
     "name": "stderr",
     "output_type": "stream",
     "text": [
      "Processing P: 100%|██████████| 1015/1015 [00:01<00:00, 710.31it/s]\n",
      "Processing QRS: 100%|██████████| 1015/1015 [00:00<00:00, 6933.57it/s]\n"
     ]
    },
    {
     "name": "stdout",
     "output_type": "stream",
     "text": [
      "Saved mask to: masks/19090_68400_70200_mask.csv\n",
      "record: 19090  from:  70200 to:  72000\n"
     ]
    },
    {
     "name": "stderr",
     "output_type": "stream",
     "text": [
      "Processing P: 100%|██████████| 1487/1487 [00:02<00:00, 662.79it/s]\n",
      "Processing QRS: 100%|██████████| 2471/2471 [00:00<00:00, 5629.08it/s]\n"
     ]
    },
    {
     "name": "stdout",
     "output_type": "stream",
     "text": [
      "Saved mask to: masks/19090_70200_72000_mask.csv\n",
      "record: 19090  from:  72000 to:  73800\n"
     ]
    },
    {
     "name": "stderr",
     "output_type": "stream",
     "text": [
      "Processing P: 100%|██████████| 1509/1509 [00:02<00:00, 683.71it/s]\n",
      "Processing QRS: 100%|██████████| 2531/2531 [00:00<00:00, 5602.17it/s]\n"
     ]
    },
    {
     "name": "stdout",
     "output_type": "stream",
     "text": [
      "Saved mask to: masks/19090_72000_73800_mask.csv\n",
      "record: 19090  from:  73800 to:  75600\n"
     ]
    },
    {
     "name": "stderr",
     "output_type": "stream",
     "text": [
      "Processing P: 100%|██████████| 1606/1606 [00:02<00:00, 681.36it/s]\n",
      "Processing QRS: 100%|██████████| 2597/2597 [00:00<00:00, 5639.97it/s]\n"
     ]
    },
    {
     "name": "stdout",
     "output_type": "stream",
     "text": [
      "Saved mask to: masks/19090_73800_75600_mask.csv\n",
      "record: 19090  from:  75600 to:  77400\n"
     ]
    },
    {
     "name": "stderr",
     "output_type": "stream",
     "text": [
      "Processing P: 100%|██████████| 1540/1540 [00:02<00:00, 688.01it/s]\n",
      "Processing QRS: 100%|██████████| 2555/2555 [00:00<00:00, 5502.97it/s]\n"
     ]
    },
    {
     "name": "stdout",
     "output_type": "stream",
     "text": [
      "Saved mask to: masks/19090_75600_77400_mask.csv\n",
      "record: 19090  from:  77400 to:  79200\n"
     ]
    },
    {
     "name": "stderr",
     "output_type": "stream",
     "text": [
      "Processing P: 100%|██████████| 1496/1496 [00:02<00:00, 659.81it/s]\n",
      "Processing QRS: 100%|██████████| 2565/2565 [00:00<00:00, 5632.56it/s]\n"
     ]
    },
    {
     "name": "stdout",
     "output_type": "stream",
     "text": [
      "Saved mask to: masks/19090_77400_79200_mask.csv\n",
      "record: 19090  from:  79200 to:  81000\n"
     ]
    },
    {
     "name": "stderr",
     "output_type": "stream",
     "text": [
      "Processing P: 100%|██████████| 1484/1484 [00:02<00:00, 689.86it/s]\n",
      "Processing QRS: 100%|██████████| 2505/2505 [00:00<00:00, 5590.91it/s]\n"
     ]
    },
    {
     "name": "stdout",
     "output_type": "stream",
     "text": [
      "Saved mask to: masks/19090_79200_81000_mask.csv\n",
      "record: 19090  from:  81000 to:  82800\n"
     ]
    },
    {
     "name": "stderr",
     "output_type": "stream",
     "text": [
      "Processing P: 100%|██████████| 1489/1489 [00:02<00:00, 668.30it/s]\n",
      "Processing QRS: 100%|██████████| 2578/2578 [00:00<00:00, 5838.20it/s]\n"
     ]
    },
    {
     "name": "stdout",
     "output_type": "stream",
     "text": [
      "Saved mask to: masks/19090_81000_82800_mask.csv\n",
      "record: 19090  from:  82800 to:  84600\n"
     ]
    },
    {
     "name": "stderr",
     "output_type": "stream",
     "text": [
      "Processing P: 100%|██████████| 1530/1530 [00:02<00:00, 657.51it/s]\n",
      "Processing QRS: 100%|██████████| 2510/2510 [00:00<00:00, 5737.04it/s]\n"
     ]
    },
    {
     "name": "stdout",
     "output_type": "stream",
     "text": [
      "Saved mask to: masks/19090_82800_84600_mask.csv\n",
      "record: 19090  from:  84600 to:  86400\n"
     ]
    },
    {
     "name": "stderr",
     "output_type": "stream",
     "text": [
      "Processing P: 100%|██████████| 1503/1503 [00:02<00:00, 677.27it/s]\n",
      "Processing QRS: 100%|██████████| 2560/2560 [00:00<00:00, 5701.42it/s]\n"
     ]
    },
    {
     "name": "stdout",
     "output_type": "stream",
     "text": [
      "Saved mask to: masks/19090_84600_86400_mask.csv\n",
      "record: 19090  from:  86400 to:  87056.0\n"
     ]
    },
    {
     "name": "stderr",
     "output_type": "stream",
     "text": [
      "Processing P: 100%|██████████| 427/427 [00:00<00:00, 1522.69it/s]\n",
      "Processing QRS: 100%|██████████| 570/570 [00:00<00:00, 9459.79it/s]\n"
     ]
    },
    {
     "name": "stdout",
     "output_type": "stream",
     "text": [
      "Saved mask to: masks/19090_86400_87056.0_mask.csv\n",
      "record: 19093  from:  0 to:  1800\n"
     ]
    },
    {
     "name": "stderr",
     "output_type": "stream",
     "text": [
      "Processing P: 100%|██████████| 2020/2020 [00:02<00:00, 737.82it/s]\n",
      "Processing QRS: 100%|██████████| 2038/2038 [00:00<00:00, 4657.68it/s]\n"
     ]
    },
    {
     "name": "stdout",
     "output_type": "stream",
     "text": [
      "Saved mask to: masks/19093_0_1800_mask.csv\n",
      "record: 19093  from:  1800 to:  3600\n"
     ]
    },
    {
     "name": "stderr",
     "output_type": "stream",
     "text": [
      "Processing P: 100%|██████████| 2093/2093 [00:02<00:00, 732.09it/s]\n",
      "Processing QRS: 100%|██████████| 2093/2093 [00:00<00:00, 4479.58it/s]\n"
     ]
    },
    {
     "name": "stdout",
     "output_type": "stream",
     "text": [
      "Saved mask to: masks/19093_1800_3600_mask.csv\n",
      "record: 19093  from:  3600 to:  5400\n"
     ]
    },
    {
     "name": "stderr",
     "output_type": "stream",
     "text": [
      "Processing P: 100%|██████████| 2081/2081 [00:02<00:00, 741.65it/s]\n",
      "Processing QRS: 100%|██████████| 2081/2081 [00:00<00:00, 4751.15it/s]\n"
     ]
    },
    {
     "name": "stdout",
     "output_type": "stream",
     "text": [
      "Saved mask to: masks/19093_3600_5400_mask.csv\n",
      "record: 19093  from:  5400 to:  7200\n"
     ]
    },
    {
     "name": "stderr",
     "output_type": "stream",
     "text": [
      "Processing P: 100%|██████████| 2089/2089 [00:02<00:00, 721.68it/s]\n",
      "Processing QRS: 100%|██████████| 2089/2089 [00:00<00:00, 4611.21it/s]\n"
     ]
    },
    {
     "name": "stdout",
     "output_type": "stream",
     "text": [
      "Saved mask to: masks/19093_5400_7200_mask.csv\n",
      "record: 19093  from:  7200 to:  9000\n"
     ]
    },
    {
     "name": "stderr",
     "output_type": "stream",
     "text": [
      "Processing P: 100%|██████████| 2314/2314 [00:03<00:00, 735.18it/s]\n",
      "Processing QRS: 100%|██████████| 2315/2315 [00:00<00:00, 4747.07it/s]\n"
     ]
    },
    {
     "name": "stdout",
     "output_type": "stream",
     "text": [
      "Saved mask to: masks/19093_7200_9000_mask.csv\n",
      "record: 19093  from:  9000 to:  10800\n"
     ]
    },
    {
     "name": "stderr",
     "output_type": "stream",
     "text": [
      "Processing P: 100%|██████████| 2046/2046 [00:02<00:00, 716.98it/s]\n",
      "Processing QRS: 100%|██████████| 2047/2047 [00:00<00:00, 4573.09it/s]\n"
     ]
    },
    {
     "name": "stdout",
     "output_type": "stream",
     "text": [
      "Saved mask to: masks/19093_9000_10800_mask.csv\n",
      "record: 19093  from:  10800 to:  12600\n"
     ]
    },
    {
     "name": "stderr",
     "output_type": "stream",
     "text": [
      "Processing P: 100%|██████████| 2218/2218 [00:03<00:00, 735.27it/s]\n",
      "Processing QRS: 100%|██████████| 2218/2218 [00:00<00:00, 4660.84it/s]\n"
     ]
    },
    {
     "name": "stdout",
     "output_type": "stream",
     "text": [
      "Saved mask to: masks/19093_10800_12600_mask.csv\n",
      "record: 19093  from:  12600 to:  14400\n"
     ]
    },
    {
     "name": "stderr",
     "output_type": "stream",
     "text": [
      "Processing P: 100%|██████████| 2059/2059 [00:02<00:00, 732.20it/s]\n",
      "Processing QRS: 100%|██████████| 2059/2059 [00:00<00:00, 4704.88it/s]\n"
     ]
    },
    {
     "name": "stdout",
     "output_type": "stream",
     "text": [
      "Saved mask to: masks/19093_12600_14400_mask.csv\n",
      "record: 19093  from:  14400 to:  16200\n"
     ]
    },
    {
     "name": "stderr",
     "output_type": "stream",
     "text": [
      "Processing P: 100%|██████████| 1974/1974 [00:02<00:00, 725.79it/s]\n",
      "Processing QRS: 100%|██████████| 1974/1974 [00:00<00:00, 4580.78it/s]\n"
     ]
    },
    {
     "name": "stdout",
     "output_type": "stream",
     "text": [
      "Saved mask to: masks/19093_14400_16200_mask.csv\n",
      "record: 19093  from:  16200 to:  18000\n"
     ]
    },
    {
     "name": "stderr",
     "output_type": "stream",
     "text": [
      "Processing P: 100%|██████████| 1987/1987 [00:02<00:00, 730.65it/s]\n",
      "Processing QRS: 100%|██████████| 1987/1987 [00:00<00:00, 4679.82it/s]\n"
     ]
    },
    {
     "name": "stdout",
     "output_type": "stream",
     "text": [
      "Saved mask to: masks/19093_16200_18000_mask.csv\n",
      "record: 19093  from:  18000 to:  19800\n"
     ]
    },
    {
     "name": "stderr",
     "output_type": "stream",
     "text": [
      "Processing P: 100%|██████████| 1842/1842 [00:02<00:00, 719.20it/s]\n",
      "Processing QRS: 100%|██████████| 1842/1842 [00:00<00:00, 4607.87it/s]\n"
     ]
    },
    {
     "name": "stdout",
     "output_type": "stream",
     "text": [
      "Saved mask to: masks/19093_18000_19800_mask.csv\n",
      "record: 19093  from:  19800 to:  21600\n"
     ]
    },
    {
     "name": "stderr",
     "output_type": "stream",
     "text": [
      "Processing P: 100%|██████████| 1859/1859 [00:02<00:00, 732.08it/s]\n",
      "Processing QRS: 100%|██████████| 1859/1859 [00:00<00:00, 4660.96it/s]\n"
     ]
    },
    {
     "name": "stdout",
     "output_type": "stream",
     "text": [
      "Saved mask to: masks/19093_19800_21600_mask.csv\n",
      "record: 19093  from:  21600 to:  23400\n"
     ]
    },
    {
     "name": "stderr",
     "output_type": "stream",
     "text": [
      "Processing P: 100%|██████████| 1723/1723 [00:02<00:00, 725.37it/s]\n",
      "Processing QRS: 100%|██████████| 1723/1723 [00:00<00:00, 4428.44it/s]\n"
     ]
    },
    {
     "name": "stdout",
     "output_type": "stream",
     "text": [
      "Saved mask to: masks/19093_21600_23400_mask.csv\n",
      "record: 19093  from:  23400 to:  25200\n"
     ]
    },
    {
     "name": "stderr",
     "output_type": "stream",
     "text": [
      "Processing P: 100%|██████████| 1898/1898 [00:02<00:00, 730.33it/s]\n",
      "Processing QRS: 100%|██████████| 1898/1898 [00:00<00:00, 4472.55it/s]\n"
     ]
    },
    {
     "name": "stdout",
     "output_type": "stream",
     "text": [
      "Saved mask to: masks/19093_23400_25200_mask.csv\n",
      "record: 19093  from:  25200 to:  27000\n"
     ]
    },
    {
     "name": "stderr",
     "output_type": "stream",
     "text": [
      "Processing P: 100%|██████████| 1951/1951 [00:02<00:00, 731.43it/s]\n",
      "Processing QRS: 100%|██████████| 1951/1951 [00:00<00:00, 4746.13it/s]\n"
     ]
    },
    {
     "name": "stdout",
     "output_type": "stream",
     "text": [
      "Saved mask to: masks/19093_25200_27000_mask.csv\n",
      "record: 19093  from:  27000 to:  28800\n"
     ]
    },
    {
     "name": "stderr",
     "output_type": "stream",
     "text": [
      "Processing P: 100%|██████████| 1815/1815 [00:02<00:00, 723.45it/s]\n",
      "Processing QRS: 100%|██████████| 1815/1815 [00:00<00:00, 4652.68it/s]\n"
     ]
    },
    {
     "name": "stdout",
     "output_type": "stream",
     "text": [
      "Saved mask to: masks/19093_27000_28800_mask.csv\n",
      "record: 19093  from:  28800 to:  30600\n"
     ]
    },
    {
     "name": "stderr",
     "output_type": "stream",
     "text": [
      "Processing P: 100%|██████████| 1905/1905 [00:02<00:00, 720.25it/s]\n",
      "Processing QRS: 100%|██████████| 1905/1905 [00:00<00:00, 4540.74it/s]\n"
     ]
    },
    {
     "name": "stdout",
     "output_type": "stream",
     "text": [
      "Saved mask to: masks/19093_28800_30600_mask.csv\n",
      "record: 19093  from:  30600 to:  32400\n"
     ]
    },
    {
     "name": "stderr",
     "output_type": "stream",
     "text": [
      "Processing P: 100%|██████████| 1938/1938 [00:02<00:00, 725.54it/s]\n",
      "Processing QRS: 100%|██████████| 1938/1938 [00:00<00:00, 4542.82it/s]\n"
     ]
    },
    {
     "name": "stdout",
     "output_type": "stream",
     "text": [
      "Saved mask to: masks/19093_30600_32400_mask.csv\n",
      "record: 19093  from:  32400 to:  34200\n"
     ]
    },
    {
     "name": "stderr",
     "output_type": "stream",
     "text": [
      "Processing P: 100%|██████████| 1914/1914 [00:02<00:00, 703.81it/s]\n",
      "Processing QRS: 100%|██████████| 1915/1915 [00:00<00:00, 4331.32it/s]\n"
     ]
    },
    {
     "name": "stdout",
     "output_type": "stream",
     "text": [
      "Saved mask to: masks/19093_32400_34200_mask.csv\n",
      "record: 19093  from:  34200 to:  36000\n"
     ]
    },
    {
     "name": "stderr",
     "output_type": "stream",
     "text": [
      "Processing P: 100%|██████████| 1847/1847 [00:02<00:00, 699.99it/s]\n",
      "Processing QRS: 100%|██████████| 1847/1847 [00:00<00:00, 4423.08it/s]\n"
     ]
    },
    {
     "name": "stdout",
     "output_type": "stream",
     "text": [
      "Saved mask to: masks/19093_34200_36000_mask.csv\n",
      "record: 19093  from:  36000 to:  37800\n"
     ]
    },
    {
     "name": "stderr",
     "output_type": "stream",
     "text": [
      "Processing P: 100%|██████████| 1948/1948 [00:02<00:00, 694.52it/s]\n",
      "Processing QRS: 100%|██████████| 1948/1948 [00:00<00:00, 4516.71it/s]\n"
     ]
    },
    {
     "name": "stdout",
     "output_type": "stream",
     "text": [
      "Saved mask to: masks/19093_36000_37800_mask.csv\n",
      "record: 19093  from:  37800 to:  39600\n"
     ]
    },
    {
     "name": "stderr",
     "output_type": "stream",
     "text": [
      "Processing P: 100%|██████████| 1829/1829 [00:02<00:00, 713.98it/s]\n",
      "Processing QRS: 100%|██████████| 1828/1828 [00:00<00:00, 4434.44it/s]\n"
     ]
    },
    {
     "name": "stdout",
     "output_type": "stream",
     "text": [
      "Saved mask to: masks/19093_37800_39600_mask.csv\n",
      "record: 19093  from:  39600 to:  41400\n"
     ]
    },
    {
     "name": "stderr",
     "output_type": "stream",
     "text": [
      "Processing P: 100%|██████████| 1741/1741 [00:02<00:00, 707.01it/s]\n",
      "Processing QRS: 100%|██████████| 1743/1743 [00:00<00:00, 4454.54it/s]\n"
     ]
    },
    {
     "name": "stdout",
     "output_type": "stream",
     "text": [
      "Saved mask to: masks/19093_39600_41400_mask.csv\n",
      "record: 19093  from:  41400 to:  43200\n"
     ]
    },
    {
     "name": "stderr",
     "output_type": "stream",
     "text": [
      "Processing P: 100%|██████████| 1655/1655 [00:02<00:00, 716.97it/s]\n",
      "Processing QRS: 100%|██████████| 1655/1655 [00:00<00:00, 4603.89it/s]\n"
     ]
    },
    {
     "name": "stdout",
     "output_type": "stream",
     "text": [
      "Saved mask to: masks/19093_41400_43200_mask.csv\n",
      "record: 19093  from:  43200 to:  45000\n"
     ]
    },
    {
     "name": "stderr",
     "output_type": "stream",
     "text": [
      "Processing P: 100%|██████████| 1739/1739 [00:02<00:00, 717.92it/s]\n",
      "Processing QRS: 100%|██████████| 1739/1739 [00:00<00:00, 4447.97it/s]\n"
     ]
    },
    {
     "name": "stdout",
     "output_type": "stream",
     "text": [
      "Saved mask to: masks/19093_43200_45000_mask.csv\n",
      "record: 19093  from:  45000 to:  46800\n"
     ]
    },
    {
     "name": "stderr",
     "output_type": "stream",
     "text": [
      "Processing P: 100%|██████████| 1597/1597 [00:02<00:00, 707.12it/s]\n",
      "Processing QRS: 100%|██████████| 1597/1597 [00:00<00:00, 4615.50it/s]\n"
     ]
    },
    {
     "name": "stdout",
     "output_type": "stream",
     "text": [
      "Saved mask to: masks/19093_45000_46800_mask.csv\n",
      "record: 19093  from:  46800 to:  48600\n"
     ]
    },
    {
     "name": "stderr",
     "output_type": "stream",
     "text": [
      "Processing P: 100%|██████████| 1499/1499 [00:02<00:00, 708.32it/s]\n",
      "Processing QRS: 100%|██████████| 1499/1499 [00:00<00:00, 4352.04it/s]\n"
     ]
    },
    {
     "name": "stdout",
     "output_type": "stream",
     "text": [
      "Saved mask to: masks/19093_46800_48600_mask.csv\n",
      "record: 19093  from:  48600 to:  50400\n"
     ]
    },
    {
     "name": "stderr",
     "output_type": "stream",
     "text": [
      "Processing P: 100%|██████████| 1659/1659 [00:02<00:00, 719.38it/s]\n",
      "Processing QRS: 100%|██████████| 1659/1659 [00:00<00:00, 4476.37it/s]\n"
     ]
    },
    {
     "name": "stdout",
     "output_type": "stream",
     "text": [
      "Saved mask to: masks/19093_48600_50400_mask.csv\n",
      "record: 19093  from:  50400 to:  52200\n"
     ]
    },
    {
     "name": "stderr",
     "output_type": "stream",
     "text": [
      "Processing P: 100%|██████████| 1649/1649 [00:02<00:00, 701.89it/s]\n",
      "Processing QRS: 100%|██████████| 1649/1649 [00:00<00:00, 4498.28it/s]\n"
     ]
    },
    {
     "name": "stdout",
     "output_type": "stream",
     "text": [
      "Saved mask to: masks/19093_50400_52200_mask.csv\n",
      "record: 19093  from:  52200 to:  54000\n"
     ]
    },
    {
     "name": "stderr",
     "output_type": "stream",
     "text": [
      "Processing P: 100%|██████████| 1834/1834 [00:02<00:00, 709.17it/s]\n",
      "Processing QRS: 100%|██████████| 1834/1834 [00:00<00:00, 4459.03it/s]\n"
     ]
    },
    {
     "name": "stdout",
     "output_type": "stream",
     "text": [
      "Saved mask to: masks/19093_52200_54000_mask.csv\n",
      "record: 19093  from:  54000 to:  55800\n"
     ]
    },
    {
     "name": "stderr",
     "output_type": "stream",
     "text": [
      "Processing P: 100%|██████████| 1856/1856 [00:02<00:00, 712.45it/s]\n",
      "Processing QRS: 100%|██████████| 1857/1857 [00:00<00:00, 4234.67it/s]\n"
     ]
    },
    {
     "name": "stdout",
     "output_type": "stream",
     "text": [
      "Saved mask to: masks/19093_54000_55800_mask.csv\n",
      "record: 19093  from:  55800 to:  57600\n"
     ]
    },
    {
     "name": "stderr",
     "output_type": "stream",
     "text": [
      "Processing P: 100%|██████████| 1759/1759 [00:02<00:00, 730.05it/s]\n",
      "Processing QRS: 100%|██████████| 1759/1759 [00:00<00:00, 4566.54it/s]\n"
     ]
    },
    {
     "name": "stdout",
     "output_type": "stream",
     "text": [
      "Saved mask to: masks/19093_55800_57600_mask.csv\n",
      "record: 19093  from:  57600 to:  59400\n"
     ]
    },
    {
     "name": "stderr",
     "output_type": "stream",
     "text": [
      "Processing P: 100%|██████████| 1716/1716 [00:02<00:00, 714.60it/s]\n",
      "Processing QRS: 100%|██████████| 1716/1716 [00:00<00:00, 4412.12it/s]\n"
     ]
    },
    {
     "name": "stdout",
     "output_type": "stream",
     "text": [
      "Saved mask to: masks/19093_57600_59400_mask.csv\n",
      "record: 19093  from:  59400 to:  61200\n"
     ]
    },
    {
     "name": "stderr",
     "output_type": "stream",
     "text": [
      "Processing P: 100%|██████████| 1832/1832 [00:02<00:00, 721.78it/s]\n",
      "Processing QRS: 100%|██████████| 1832/1832 [00:00<00:00, 4447.84it/s]\n"
     ]
    },
    {
     "name": "stdout",
     "output_type": "stream",
     "text": [
      "Saved mask to: masks/19093_59400_61200_mask.csv\n",
      "record: 19093  from:  61200 to:  63000\n"
     ]
    },
    {
     "name": "stderr",
     "output_type": "stream",
     "text": [
      "Processing P: 100%|██████████| 1789/1789 [00:02<00:00, 733.19it/s]\n",
      "Processing QRS: 100%|██████████| 1789/1789 [00:00<00:00, 4565.71it/s]\n"
     ]
    },
    {
     "name": "stdout",
     "output_type": "stream",
     "text": [
      "Saved mask to: masks/19093_61200_63000_mask.csv\n",
      "record: 19093  from:  63000 to:  64800\n"
     ]
    },
    {
     "name": "stderr",
     "output_type": "stream",
     "text": [
      "Processing P: 100%|██████████| 1783/1783 [00:02<00:00, 719.93it/s]\n",
      "Processing QRS: 100%|██████████| 1783/1783 [00:00<00:00, 4613.74it/s]\n"
     ]
    },
    {
     "name": "stdout",
     "output_type": "stream",
     "text": [
      "Saved mask to: masks/19093_63000_64800_mask.csv\n",
      "record: 19093  from:  64800 to:  66600\n"
     ]
    },
    {
     "name": "stderr",
     "output_type": "stream",
     "text": [
      "Processing P: 100%|██████████| 1824/1824 [00:02<00:00, 740.54it/s]\n",
      "Processing QRS: 100%|██████████| 1826/1826 [00:00<00:00, 4525.25it/s]\n"
     ]
    },
    {
     "name": "stdout",
     "output_type": "stream",
     "text": [
      "Saved mask to: masks/19093_64800_66600_mask.csv\n",
      "record: 19093  from:  66600 to:  68400\n"
     ]
    },
    {
     "name": "stderr",
     "output_type": "stream",
     "text": [
      "Processing P: 100%|██████████| 1869/1869 [00:02<00:00, 728.31it/s]\n",
      "Processing QRS: 100%|██████████| 1869/1869 [00:00<00:00, 4705.79it/s]\n"
     ]
    },
    {
     "name": "stdout",
     "output_type": "stream",
     "text": [
      "Saved mask to: masks/19093_66600_68400_mask.csv\n",
      "record: 19093  from:  68400 to:  70200\n"
     ]
    },
    {
     "name": "stderr",
     "output_type": "stream",
     "text": [
      "Processing P: 100%|██████████| 1845/1845 [00:02<00:00, 723.78it/s]\n",
      "Processing QRS: 100%|██████████| 1845/1845 [00:00<00:00, 4462.20it/s]\n"
     ]
    },
    {
     "name": "stdout",
     "output_type": "stream",
     "text": [
      "Saved mask to: masks/19093_68400_70200_mask.csv\n",
      "record: 19093  from:  70200 to:  72000\n"
     ]
    },
    {
     "name": "stderr",
     "output_type": "stream",
     "text": [
      "Processing P: 100%|██████████| 1911/1911 [00:02<00:00, 727.03it/s]\n",
      "Processing QRS: 100%|██████████| 1911/1911 [00:00<00:00, 4450.41it/s]\n"
     ]
    },
    {
     "name": "stdout",
     "output_type": "stream",
     "text": [
      "Saved mask to: masks/19093_70200_72000_mask.csv\n",
      "record: 19093  from:  72000 to:  73800\n"
     ]
    },
    {
     "name": "stderr",
     "output_type": "stream",
     "text": [
      "Processing P: 100%|██████████| 243/243 [00:00<00:00, 714.68it/s]\n",
      "Processing QRS: 100%|██████████| 255/255 [00:00<00:00, 11639.56it/s]\n"
     ]
    },
    {
     "name": "stdout",
     "output_type": "stream",
     "text": [
      "Saved mask to: masks/19093_72000_73800_mask.csv\n",
      "record: 19093  from:  73800 to:  75600\n"
     ]
    },
    {
     "name": "stderr",
     "output_type": "stream",
     "text": [
      "Processing P: 100%|██████████| 2347/2347 [00:03<00:00, 693.58it/s]\n",
      "Processing QRS: 100%|██████████| 3330/3330 [00:00<00:00, 4862.18it/s]\n"
     ]
    },
    {
     "name": "stdout",
     "output_type": "stream",
     "text": [
      "Saved mask to: masks/19093_73800_75600_mask.csv\n",
      "record: 19093  from:  75600 to:  77400\n"
     ]
    },
    {
     "name": "stderr",
     "output_type": "stream",
     "text": [
      "Processing P: 100%|██████████| 2316/2316 [00:03<00:00, 699.37it/s]\n",
      "Processing QRS: 100%|██████████| 3314/3314 [00:00<00:00, 5076.05it/s]\n"
     ]
    },
    {
     "name": "stdout",
     "output_type": "stream",
     "text": [
      "Saved mask to: masks/19093_75600_77400_mask.csv\n",
      "record: 19093  from:  77400 to:  79200\n"
     ]
    },
    {
     "name": "stderr",
     "output_type": "stream",
     "text": [
      "Processing P: 100%|██████████| 2407/2407 [00:03<00:00, 695.84it/s]\n",
      "Processing QRS: 100%|██████████| 3328/3328 [00:00<00:00, 4977.73it/s]\n"
     ]
    },
    {
     "name": "stdout",
     "output_type": "stream",
     "text": [
      "Saved mask to: masks/19093_77400_79200_mask.csv\n",
      "record: 19093  from:  79200 to:  81000\n"
     ]
    },
    {
     "name": "stderr",
     "output_type": "stream",
     "text": [
      "Processing P: 100%|██████████| 2367/2367 [00:03<00:00, 692.27it/s]\n",
      "Processing QRS: 100%|██████████| 3366/3366 [00:00<00:00, 4833.77it/s]\n"
     ]
    },
    {
     "name": "stdout",
     "output_type": "stream",
     "text": [
      "Saved mask to: masks/19093_79200_81000_mask.csv\n",
      "record: 19093  from:  81000 to:  82800\n"
     ]
    },
    {
     "name": "stderr",
     "output_type": "stream",
     "text": [
      "Processing P: 100%|██████████| 2355/2355 [00:03<00:00, 680.21it/s]\n",
      "Processing QRS: 100%|██████████| 3371/3371 [00:00<00:00, 4802.91it/s]\n"
     ]
    },
    {
     "name": "stdout",
     "output_type": "stream",
     "text": [
      "Saved mask to: masks/19093_81000_82800_mask.csv\n",
      "record: 19093  from:  82800 to:  83640.0\n"
     ]
    },
    {
     "name": "stderr",
     "output_type": "stream",
     "text": [
      "Processing P: 100%|██████████| 110/110 [00:00<00:00, 1199.19it/s]\n",
      "Processing QRS: 100%|██████████| 101/101 [00:00<00:00, 11780.77it/s]\n"
     ]
    },
    {
     "name": "stdout",
     "output_type": "stream",
     "text": [
      "Saved mask to: masks/19093_82800_83640.0_mask.csv\n",
      "record: 19140  from:  0 to:  1800\n"
     ]
    },
    {
     "name": "stderr",
     "output_type": "stream",
     "text": [
      "Processing P: 100%|██████████| 2721/2721 [00:03<00:00, 714.02it/s]\n",
      "Processing QRS: 100%|██████████| 2753/2753 [00:00<00:00, 4583.38it/s]\n"
     ]
    },
    {
     "name": "stdout",
     "output_type": "stream",
     "text": [
      "Saved mask to: masks/19140_0_1800_mask.csv\n",
      "record: 19140  from:  1800 to:  3600\n"
     ]
    },
    {
     "name": "stderr",
     "output_type": "stream",
     "text": [
      "Processing P: 100%|██████████| 2741/2741 [00:03<00:00, 710.13it/s]\n",
      "Processing QRS: 100%|██████████| 2741/2741 [00:00<00:00, 4679.77it/s]\n"
     ]
    },
    {
     "name": "stdout",
     "output_type": "stream",
     "text": [
      "Saved mask to: masks/19140_1800_3600_mask.csv\n",
      "record: 19140  from:  3600 to:  5400\n"
     ]
    },
    {
     "name": "stderr",
     "output_type": "stream",
     "text": [
      "Processing P: 100%|██████████| 2654/2654 [00:03<00:00, 725.45it/s]\n",
      "Processing QRS: 100%|██████████| 2653/2653 [00:00<00:00, 4691.95it/s]\n"
     ]
    },
    {
     "name": "stdout",
     "output_type": "stream",
     "text": [
      "Saved mask to: masks/19140_3600_5400_mask.csv\n",
      "record: 19140  from:  5400 to:  7200\n"
     ]
    },
    {
     "name": "stderr",
     "output_type": "stream",
     "text": [
      "Processing P: 100%|██████████| 2335/2335 [00:03<00:00, 727.35it/s]\n",
      "Processing QRS: 100%|██████████| 2336/2336 [00:00<00:00, 4690.70it/s]\n"
     ]
    },
    {
     "name": "stdout",
     "output_type": "stream",
     "text": [
      "Saved mask to: masks/19140_5400_7200_mask.csv\n",
      "record: 19140  from:  7200 to:  9000\n"
     ]
    },
    {
     "name": "stderr",
     "output_type": "stream",
     "text": [
      "Processing P: 100%|██████████| 2575/2575 [00:03<00:00, 712.26it/s]\n",
      "Processing QRS: 100%|██████████| 2575/2575 [00:00<00:00, 4495.01it/s]\n"
     ]
    },
    {
     "name": "stdout",
     "output_type": "stream",
     "text": [
      "Saved mask to: masks/19140_7200_9000_mask.csv\n",
      "record: 19140  from:  9000 to:  10800\n"
     ]
    },
    {
     "name": "stderr",
     "output_type": "stream",
     "text": [
      "Processing P: 100%|██████████| 2648/2648 [00:03<00:00, 728.78it/s]\n",
      "Processing QRS: 100%|██████████| 2648/2648 [00:00<00:00, 4710.73it/s]\n"
     ]
    },
    {
     "name": "stdout",
     "output_type": "stream",
     "text": [
      "Saved mask to: masks/19140_9000_10800_mask.csv\n",
      "record: 19140  from:  10800 to:  12600\n"
     ]
    },
    {
     "name": "stderr",
     "output_type": "stream",
     "text": [
      "Processing P: 100%|██████████| 2643/2643 [00:03<00:00, 719.39it/s]\n",
      "Processing QRS: 100%|██████████| 2643/2643 [00:00<00:00, 4568.79it/s]\n"
     ]
    },
    {
     "name": "stdout",
     "output_type": "stream",
     "text": [
      "Saved mask to: masks/19140_10800_12600_mask.csv\n",
      "record: 19140  from:  12600 to:  14400\n"
     ]
    },
    {
     "name": "stderr",
     "output_type": "stream",
     "text": [
      "Processing P: 100%|██████████| 2772/2772 [00:03<00:00, 706.84it/s]\n",
      "Processing QRS: 100%|██████████| 2773/2773 [00:00<00:00, 4717.24it/s]\n"
     ]
    },
    {
     "name": "stdout",
     "output_type": "stream",
     "text": [
      "Saved mask to: masks/19140_12600_14400_mask.csv\n",
      "record: 19140  from:  14400 to:  16200\n"
     ]
    },
    {
     "name": "stderr",
     "output_type": "stream",
     "text": [
      "Processing P: 100%|██████████| 2710/2710 [00:03<00:00, 723.12it/s]\n",
      "Processing QRS: 100%|██████████| 2710/2710 [00:00<00:00, 4646.31it/s]\n"
     ]
    },
    {
     "name": "stdout",
     "output_type": "stream",
     "text": [
      "Saved mask to: masks/19140_14400_16200_mask.csv\n",
      "record: 19140  from:  16200 to:  18000\n"
     ]
    },
    {
     "name": "stderr",
     "output_type": "stream",
     "text": [
      "Processing P: 100%|██████████| 2690/2690 [00:03<00:00, 728.03it/s]\n",
      "Processing QRS: 100%|██████████| 2689/2689 [00:00<00:00, 4642.19it/s]\n"
     ]
    },
    {
     "name": "stdout",
     "output_type": "stream",
     "text": [
      "Saved mask to: masks/19140_16200_18000_mask.csv\n",
      "record: 19140  from:  18000 to:  19800\n"
     ]
    },
    {
     "name": "stderr",
     "output_type": "stream",
     "text": [
      "Processing P: 100%|██████████| 2808/2808 [00:03<00:00, 720.26it/s]\n",
      "Processing QRS: 100%|██████████| 2806/2806 [00:00<00:00, 4686.29it/s]\n"
     ]
    },
    {
     "name": "stdout",
     "output_type": "stream",
     "text": [
      "Saved mask to: masks/19140_18000_19800_mask.csv\n",
      "record: 19140  from:  19800 to:  21600\n"
     ]
    },
    {
     "name": "stderr",
     "output_type": "stream",
     "text": [
      "Processing P: 100%|██████████| 2828/2828 [00:03<00:00, 723.14it/s]\n",
      "Processing QRS: 100%|██████████| 2827/2827 [00:00<00:00, 4542.59it/s]\n"
     ]
    },
    {
     "name": "stdout",
     "output_type": "stream",
     "text": [
      "Saved mask to: masks/19140_19800_21600_mask.csv\n",
      "record: 19140  from:  21600 to:  23400\n"
     ]
    },
    {
     "name": "stderr",
     "output_type": "stream",
     "text": [
      "Processing P: 100%|██████████| 2577/2577 [00:03<00:00, 717.31it/s]\n",
      "Processing QRS: 100%|██████████| 2578/2578 [00:00<00:00, 4419.63it/s]\n"
     ]
    },
    {
     "name": "stdout",
     "output_type": "stream",
     "text": [
      "Saved mask to: masks/19140_21600_23400_mask.csv\n",
      "record: 19140  from:  23400 to:  25200\n"
     ]
    },
    {
     "name": "stderr",
     "output_type": "stream",
     "text": [
      "Processing P: 100%|██████████| 2594/2594 [00:03<00:00, 720.62it/s]\n",
      "Processing QRS: 100%|██████████| 2596/2596 [00:00<00:00, 4548.25it/s]\n"
     ]
    },
    {
     "name": "stdout",
     "output_type": "stream",
     "text": [
      "Saved mask to: masks/19140_23400_25200_mask.csv\n",
      "record: 19140  from:  25200 to:  27000\n"
     ]
    },
    {
     "name": "stderr",
     "output_type": "stream",
     "text": [
      "Processing P: 100%|██████████| 2703/2703 [00:03<00:00, 738.50it/s]\n",
      "Processing QRS: 100%|██████████| 2702/2702 [00:00<00:00, 4667.77it/s]\n"
     ]
    },
    {
     "name": "stdout",
     "output_type": "stream",
     "text": [
      "Saved mask to: masks/19140_25200_27000_mask.csv\n",
      "record: 19140  from:  27000 to:  28800\n"
     ]
    },
    {
     "name": "stderr",
     "output_type": "stream",
     "text": [
      "Processing P: 100%|██████████| 2563/2563 [00:03<00:00, 667.20it/s]\n",
      "Processing QRS: 100%|██████████| 2564/2564 [00:00<00:00, 4583.18it/s]\n"
     ]
    },
    {
     "name": "stdout",
     "output_type": "stream",
     "text": [
      "Saved mask to: masks/19140_27000_28800_mask.csv\n",
      "record: 19140  from:  28800 to:  30600\n"
     ]
    },
    {
     "name": "stderr",
     "output_type": "stream",
     "text": [
      "Processing P: 100%|██████████| 2630/2630 [00:03<00:00, 721.77it/s]\n",
      "Processing QRS: 100%|██████████| 2630/2630 [00:00<00:00, 4619.27it/s]\n"
     ]
    },
    {
     "name": "stdout",
     "output_type": "stream",
     "text": [
      "Saved mask to: masks/19140_28800_30600_mask.csv\n",
      "record: 19140  from:  30600 to:  32400\n"
     ]
    },
    {
     "name": "stderr",
     "output_type": "stream",
     "text": [
      "Processing P: 100%|██████████| 2347/2347 [00:03<00:00, 720.67it/s]\n",
      "Processing QRS: 100%|██████████| 2347/2347 [00:00<00:00, 4662.76it/s]\n"
     ]
    },
    {
     "name": "stdout",
     "output_type": "stream",
     "text": [
      "Saved mask to: masks/19140_30600_32400_mask.csv\n",
      "record: 19140  from:  32400 to:  34200\n"
     ]
    },
    {
     "name": "stderr",
     "output_type": "stream",
     "text": [
      "Processing P: 100%|██████████| 2347/2347 [00:03<00:00, 718.24it/s]\n",
      "Processing QRS: 100%|██████████| 2348/2348 [00:00<00:00, 4608.59it/s]\n"
     ]
    },
    {
     "name": "stdout",
     "output_type": "stream",
     "text": [
      "Saved mask to: masks/19140_32400_34200_mask.csv\n",
      "record: 19140  from:  34200 to:  36000\n"
     ]
    },
    {
     "name": "stderr",
     "output_type": "stream",
     "text": [
      "Processing P: 100%|██████████| 2228/2228 [00:03<00:00, 711.06it/s]\n",
      "Processing QRS: 100%|██████████| 2228/2228 [00:00<00:00, 4560.94it/s]\n"
     ]
    },
    {
     "name": "stdout",
     "output_type": "stream",
     "text": [
      "Saved mask to: masks/19140_34200_36000_mask.csv\n",
      "record: 19140  from:  36000 to:  37800\n"
     ]
    },
    {
     "name": "stderr",
     "output_type": "stream",
     "text": [
      "Processing P: 100%|██████████| 2283/2283 [00:03<00:00, 733.13it/s]\n",
      "Processing QRS: 100%|██████████| 2283/2283 [00:00<00:00, 4675.90it/s]\n"
     ]
    },
    {
     "name": "stdout",
     "output_type": "stream",
     "text": [
      "Saved mask to: masks/19140_36000_37800_mask.csv\n",
      "record: 19140  from:  37800 to:  39600\n"
     ]
    },
    {
     "name": "stderr",
     "output_type": "stream",
     "text": [
      "Processing P: 100%|██████████| 2221/2221 [00:03<00:00, 723.73it/s]\n",
      "Processing QRS: 100%|██████████| 2221/2221 [00:00<00:00, 4627.13it/s]\n"
     ]
    },
    {
     "name": "stdout",
     "output_type": "stream",
     "text": [
      "Saved mask to: masks/19140_37800_39600_mask.csv\n",
      "record: 19140  from:  39600 to:  41400\n"
     ]
    },
    {
     "name": "stderr",
     "output_type": "stream",
     "text": [
      "Processing P: 100%|██████████| 2262/2262 [00:03<00:00, 719.91it/s]\n",
      "Processing QRS: 100%|██████████| 2261/2261 [00:00<00:00, 4532.28it/s]\n"
     ]
    },
    {
     "name": "stdout",
     "output_type": "stream",
     "text": [
      "Saved mask to: masks/19140_39600_41400_mask.csv\n",
      "record: 19140  from:  41400 to:  43200\n"
     ]
    },
    {
     "name": "stderr",
     "output_type": "stream",
     "text": [
      "Processing P: 100%|██████████| 2491/2491 [00:03<00:00, 726.23it/s]\n",
      "Processing QRS: 100%|██████████| 2489/2489 [00:00<00:00, 4535.87it/s]\n"
     ]
    },
    {
     "name": "stdout",
     "output_type": "stream",
     "text": [
      "Saved mask to: masks/19140_41400_43200_mask.csv\n",
      "record: 19140  from:  43200 to:  45000\n"
     ]
    },
    {
     "name": "stderr",
     "output_type": "stream",
     "text": [
      "Processing P: 100%|██████████| 2449/2449 [00:03<00:00, 719.98it/s]\n",
      "Processing QRS: 100%|██████████| 2448/2448 [00:00<00:00, 4475.59it/s]\n"
     ]
    },
    {
     "name": "stdout",
     "output_type": "stream",
     "text": [
      "Saved mask to: masks/19140_43200_45000_mask.csv\n",
      "record: 19140  from:  45000 to:  46800\n"
     ]
    },
    {
     "name": "stderr",
     "output_type": "stream",
     "text": [
      "Processing P: 100%|██████████| 2074/2074 [00:02<00:00, 724.26it/s]\n",
      "Processing QRS: 100%|██████████| 2075/2075 [00:00<00:00, 4648.58it/s]\n"
     ]
    },
    {
     "name": "stdout",
     "output_type": "stream",
     "text": [
      "Saved mask to: masks/19140_45000_46800_mask.csv\n",
      "record: 19140  from:  46800 to:  48600\n"
     ]
    },
    {
     "name": "stderr",
     "output_type": "stream",
     "text": [
      "Processing P: 100%|██████████| 2176/2176 [00:03<00:00, 689.11it/s]\n",
      "Processing QRS: 100%|██████████| 2176/2176 [00:00<00:00, 4511.62it/s]\n"
     ]
    },
    {
     "name": "stdout",
     "output_type": "stream",
     "text": [
      "Saved mask to: masks/19140_46800_48600_mask.csv\n",
      "record: 19140  from:  48600 to:  50400\n"
     ]
    },
    {
     "name": "stderr",
     "output_type": "stream",
     "text": [
      "Processing P: 100%|██████████| 2337/2337 [00:03<00:00, 701.91it/s]\n",
      "Processing QRS: 100%|██████████| 2337/2337 [00:00<00:00, 4472.40it/s]\n"
     ]
    },
    {
     "name": "stdout",
     "output_type": "stream",
     "text": [
      "Saved mask to: masks/19140_48600_50400_mask.csv\n",
      "record: 19140  from:  50400 to:  52200\n"
     ]
    },
    {
     "name": "stderr",
     "output_type": "stream",
     "text": [
      "Processing P: 100%|██████████| 2424/2424 [00:03<00:00, 696.64it/s]\n",
      "Processing QRS: 100%|██████████| 2424/2424 [00:00<00:00, 4513.73it/s]\n"
     ]
    },
    {
     "name": "stdout",
     "output_type": "stream",
     "text": [
      "Saved mask to: masks/19140_50400_52200_mask.csv\n",
      "record: 19140  from:  52200 to:  54000\n"
     ]
    },
    {
     "name": "stderr",
     "output_type": "stream",
     "text": [
      "Processing P: 100%|██████████| 2296/2296 [00:03<00:00, 710.22it/s]\n",
      "Processing QRS: 100%|██████████| 2296/2296 [00:00<00:00, 4629.52it/s]\n"
     ]
    },
    {
     "name": "stdout",
     "output_type": "stream",
     "text": [
      "Saved mask to: masks/19140_52200_54000_mask.csv\n",
      "record: 19140  from:  54000 to:  55800\n"
     ]
    },
    {
     "name": "stderr",
     "output_type": "stream",
     "text": [
      "Processing P: 100%|██████████| 2176/2176 [00:03<00:00, 708.78it/s]\n",
      "Processing QRS: 100%|██████████| 2176/2176 [00:00<00:00, 4579.64it/s]\n"
     ]
    },
    {
     "name": "stdout",
     "output_type": "stream",
     "text": [
      "Saved mask to: masks/19140_54000_55800_mask.csv\n",
      "record: 19140  from:  55800 to:  57600\n"
     ]
    },
    {
     "name": "stderr",
     "output_type": "stream",
     "text": [
      "Processing P: 100%|██████████| 2063/2063 [00:02<00:00, 702.03it/s]\n",
      "Processing QRS: 100%|██████████| 2063/2063 [00:00<00:00, 4537.85it/s]\n"
     ]
    },
    {
     "name": "stdout",
     "output_type": "stream",
     "text": [
      "Saved mask to: masks/19140_55800_57600_mask.csv\n",
      "record: 19140  from:  57600 to:  59400\n"
     ]
    },
    {
     "name": "stderr",
     "output_type": "stream",
     "text": [
      "Processing P: 100%|██████████| 2224/2224 [00:03<00:00, 719.49it/s]\n",
      "Processing QRS: 100%|██████████| 2224/2224 [00:00<00:00, 4629.99it/s]\n"
     ]
    },
    {
     "name": "stdout",
     "output_type": "stream",
     "text": [
      "Saved mask to: masks/19140_57600_59400_mask.csv\n",
      "record: 19140  from:  59400 to:  61200\n"
     ]
    },
    {
     "name": "stderr",
     "output_type": "stream",
     "text": [
      "Processing P: 100%|██████████| 2222/2222 [00:03<00:00, 720.32it/s]\n",
      "Processing QRS: 100%|██████████| 2222/2222 [00:00<00:00, 4397.97it/s]\n"
     ]
    },
    {
     "name": "stdout",
     "output_type": "stream",
     "text": [
      "Saved mask to: masks/19140_59400_61200_mask.csv\n",
      "record: 19140  from:  61200 to:  63000\n"
     ]
    },
    {
     "name": "stderr",
     "output_type": "stream",
     "text": [
      "Processing P: 100%|██████████| 2325/2325 [00:03<00:00, 723.86it/s]\n",
      "Processing QRS: 100%|██████████| 2325/2325 [00:00<00:00, 4592.46it/s]\n"
     ]
    },
    {
     "name": "stdout",
     "output_type": "stream",
     "text": [
      "Saved mask to: masks/19140_61200_63000_mask.csv\n",
      "record: 19140  from:  63000 to:  64800\n"
     ]
    },
    {
     "name": "stderr",
     "output_type": "stream",
     "text": [
      "Processing P: 100%|██████████| 2292/2292 [00:03<00:00, 722.01it/s]\n",
      "Processing QRS: 100%|██████████| 2292/2292 [00:00<00:00, 4640.21it/s]\n"
     ]
    },
    {
     "name": "stdout",
     "output_type": "stream",
     "text": [
      "Saved mask to: masks/19140_63000_64800_mask.csv\n",
      "record: 19140  from:  64800 to:  66600\n"
     ]
    },
    {
     "name": "stderr",
     "output_type": "stream",
     "text": [
      "Processing P: 100%|██████████| 2191/2191 [00:02<00:00, 745.79it/s]\n",
      "Processing QRS: 100%|██████████| 2191/2191 [00:00<00:00, 4408.44it/s]\n"
     ]
    },
    {
     "name": "stdout",
     "output_type": "stream",
     "text": [
      "Saved mask to: masks/19140_64800_66600_mask.csv\n",
      "record: 19140  from:  66600 to:  68400\n"
     ]
    },
    {
     "name": "stderr",
     "output_type": "stream",
     "text": [
      "Processing P: 100%|██████████| 2011/2011 [00:02<00:00, 728.02it/s]\n",
      "Processing QRS: 100%|██████████| 2011/2011 [00:00<00:00, 4635.59it/s]\n"
     ]
    },
    {
     "name": "stdout",
     "output_type": "stream",
     "text": [
      "Saved mask to: masks/19140_66600_68400_mask.csv\n",
      "record: 19140  from:  68400 to:  70200\n"
     ]
    },
    {
     "name": "stderr",
     "output_type": "stream",
     "text": [
      "Processing P: 100%|██████████| 2020/2020 [00:02<00:00, 736.30it/s]\n",
      "Processing QRS: 100%|██████████| 2022/2022 [00:00<00:00, 4624.93it/s]\n"
     ]
    },
    {
     "name": "stdout",
     "output_type": "stream",
     "text": [
      "Saved mask to: masks/19140_68400_70200_mask.csv\n",
      "record: 19140  from:  70200 to:  72000\n"
     ]
    },
    {
     "name": "stderr",
     "output_type": "stream",
     "text": [
      "Processing P: 100%|██████████| 2028/2028 [00:02<00:00, 736.89it/s]\n",
      "Processing QRS: 100%|██████████| 2028/2028 [00:00<00:00, 4578.03it/s]\n"
     ]
    },
    {
     "name": "stdout",
     "output_type": "stream",
     "text": [
      "Saved mask to: masks/19140_70200_72000_mask.csv\n",
      "record: 19140  from:  72000 to:  73800\n"
     ]
    },
    {
     "name": "stderr",
     "output_type": "stream",
     "text": [
      "Processing P: 100%|██████████| 567/567 [00:00<00:00, 691.64it/s]\n",
      "Processing QRS: 100%|██████████| 176/176 [00:00<00:00, 8748.28it/s]\n"
     ]
    },
    {
     "name": "stdout",
     "output_type": "stream",
     "text": [
      "Saved mask to: masks/19140_72000_73800_mask.csv\n",
      "record: 19140  from:  73800 to:  75600\n"
     ]
    },
    {
     "name": "stderr",
     "output_type": "stream",
     "text": [
      "Processing P: 100%|██████████| 1955/1955 [00:02<00:00, 695.96it/s]\n",
      "Processing QRS: 100%|██████████| 3459/3459 [00:00<00:00, 5426.52it/s]\n"
     ]
    },
    {
     "name": "stdout",
     "output_type": "stream",
     "text": [
      "Saved mask to: masks/19140_73800_75600_mask.csv\n",
      "record: 19140  from:  75600 to:  77400\n"
     ]
    },
    {
     "name": "stderr",
     "output_type": "stream",
     "text": [
      "Processing P: 100%|██████████| 1960/1960 [00:02<00:00, 699.93it/s]\n",
      "Processing QRS: 100%|██████████| 3447/3447 [00:00<00:00, 5434.57it/s]\n"
     ]
    },
    {
     "name": "stdout",
     "output_type": "stream",
     "text": [
      "Saved mask to: masks/19140_75600_77400_mask.csv\n",
      "record: 19140  from:  77400 to:  79200\n"
     ]
    },
    {
     "name": "stderr",
     "output_type": "stream",
     "text": [
      "Processing P: 100%|██████████| 1992/1992 [00:02<00:00, 685.66it/s]\n",
      "Processing QRS: 100%|██████████| 3514/3514 [00:00<00:00, 5132.78it/s]\n"
     ]
    },
    {
     "name": "stdout",
     "output_type": "stream",
     "text": [
      "Saved mask to: masks/19140_77400_79200_mask.csv\n",
      "record: 19140  from:  79200 to:  81000\n"
     ]
    },
    {
     "name": "stderr",
     "output_type": "stream",
     "text": [
      "Processing P: 100%|██████████| 1893/1893 [00:02<00:00, 701.44it/s]\n",
      "Processing QRS: 100%|██████████| 3425/3425 [00:00<00:00, 5526.27it/s]\n"
     ]
    },
    {
     "name": "stdout",
     "output_type": "stream",
     "text": [
      "Saved mask to: masks/19140_79200_81000_mask.csv\n",
      "record: 19140  from:  81000 to:  82800\n"
     ]
    },
    {
     "name": "stderr",
     "output_type": "stream",
     "text": [
      "Processing P: 100%|██████████| 1950/1950 [00:02<00:00, 673.00it/s]\n",
      "Processing QRS: 100%|██████████| 3473/3473 [00:00<00:00, 5408.39it/s]\n"
     ]
    },
    {
     "name": "stdout",
     "output_type": "stream",
     "text": [
      "Saved mask to: masks/19140_81000_82800_mask.csv\n",
      "record: 19140  from:  82800 to:  84600\n"
     ]
    },
    {
     "name": "stderr",
     "output_type": "stream",
     "text": [
      "Processing P: 100%|██████████| 1990/1990 [00:02<00:00, 702.24it/s]\n",
      "Processing QRS: 100%|██████████| 3475/3475 [00:00<00:00, 5416.70it/s]\n"
     ]
    },
    {
     "name": "stdout",
     "output_type": "stream",
     "text": [
      "Saved mask to: masks/19140_82800_84600_mask.csv\n",
      "record: 19140  from:  84600 to:  86400\n"
     ]
    },
    {
     "name": "stderr",
     "output_type": "stream",
     "text": [
      "Processing P: 100%|██████████| 1928/1928 [00:03<00:00, 601.25it/s]\n",
      "Processing QRS: 100%|██████████| 3503/3503 [00:00<00:00, 5447.89it/s]\n"
     ]
    },
    {
     "name": "stdout",
     "output_type": "stream",
     "text": [
      "Saved mask to: masks/19140_84600_86400_mask.csv\n",
      "record: 19140  from:  86400 to:  87024.0\n"
     ]
    },
    {
     "name": "stderr",
     "output_type": "stream",
     "text": [
      "Processing P: 100%|██████████| 189/189 [00:00<00:00, 1574.69it/s]\n",
      "Processing QRS: 100%|██████████| 106/106 [00:00<00:00, 9707.13it/s]\n"
     ]
    },
    {
     "name": "stdout",
     "output_type": "stream",
     "text": [
      "Saved mask to: masks/19140_86400_87024.0_mask.csv\n",
      "record: 19830  from:  0 to:  1800\n"
     ]
    },
    {
     "name": "stderr",
     "output_type": "stream",
     "text": [
      "Processing P: 100%|██████████| 3155/3155 [00:04<00:00, 736.88it/s]\n",
      "Processing QRS: 100%|██████████| 3196/3196 [00:00<00:00, 4738.36it/s]\n"
     ]
    },
    {
     "name": "stdout",
     "output_type": "stream",
     "text": [
      "Saved mask to: masks/19830_0_1800_mask.csv\n",
      "record: 19830  from:  1800 to:  3600\n"
     ]
    },
    {
     "name": "stderr",
     "output_type": "stream",
     "text": [
      "Processing P: 100%|██████████| 3641/3641 [00:05<00:00, 686.17it/s]\n",
      "Processing QRS: 100%|██████████| 3747/3747 [00:00<00:00, 4448.31it/s]\n"
     ]
    },
    {
     "name": "stdout",
     "output_type": "stream",
     "text": [
      "Saved mask to: masks/19830_1800_3600_mask.csv\n",
      "record: 19830  from:  3600 to:  5400\n"
     ]
    },
    {
     "name": "stderr",
     "output_type": "stream",
     "text": [
      "Processing P: 100%|██████████| 3406/3406 [00:04<00:00, 704.49it/s]\n",
      "Processing QRS: 100%|██████████| 3415/3415 [00:00<00:00, 4669.52it/s]\n"
     ]
    },
    {
     "name": "stdout",
     "output_type": "stream",
     "text": [
      "Saved mask to: masks/19830_3600_5400_mask.csv\n",
      "record: 19830  from:  5400 to:  7200\n"
     ]
    },
    {
     "name": "stderr",
     "output_type": "stream",
     "text": [
      "Processing P: 100%|██████████| 3328/3328 [00:04<00:00, 695.68it/s]\n",
      "Processing QRS: 100%|██████████| 3343/3343 [00:00<00:00, 4619.61it/s]\n"
     ]
    },
    {
     "name": "stdout",
     "output_type": "stream",
     "text": [
      "Saved mask to: masks/19830_5400_7200_mask.csv\n",
      "record: 19830  from:  7200 to:  9000\n"
     ]
    },
    {
     "name": "stderr",
     "output_type": "stream",
     "text": [
      "Processing P: 100%|██████████| 3320/3320 [00:04<00:00, 725.10it/s]\n",
      "Processing QRS: 100%|██████████| 3335/3335 [00:00<00:00, 4642.04it/s]\n"
     ]
    },
    {
     "name": "stdout",
     "output_type": "stream",
     "text": [
      "Saved mask to: masks/19830_7200_9000_mask.csv\n",
      "record: 19830  from:  9000 to:  10800\n"
     ]
    },
    {
     "name": "stderr",
     "output_type": "stream",
     "text": [
      "Processing P: 100%|██████████| 3157/3157 [00:04<00:00, 725.34it/s]\n",
      "Processing QRS: 100%|██████████| 3164/3164 [00:00<00:00, 4745.24it/s]\n"
     ]
    },
    {
     "name": "stdout",
     "output_type": "stream",
     "text": [
      "Saved mask to: masks/19830_9000_10800_mask.csv\n",
      "record: 19830  from:  10800 to:  12600\n"
     ]
    },
    {
     "name": "stderr",
     "output_type": "stream",
     "text": [
      "Processing P: 100%|██████████| 2984/2984 [00:03<00:00, 747.71it/s]\n",
      "Processing QRS: 100%|██████████| 2988/2988 [00:00<00:00, 4643.85it/s]\n"
     ]
    },
    {
     "name": "stdout",
     "output_type": "stream",
     "text": [
      "Saved mask to: masks/19830_10800_12600_mask.csv\n",
      "record: 19830  from:  12600 to:  14400\n"
     ]
    },
    {
     "name": "stderr",
     "output_type": "stream",
     "text": [
      "Processing P: 100%|██████████| 3095/3095 [00:04<00:00, 701.07it/s]\n",
      "Processing QRS: 100%|██████████| 3099/3099 [00:00<00:00, 4588.85it/s]\n"
     ]
    },
    {
     "name": "stdout",
     "output_type": "stream",
     "text": [
      "Saved mask to: masks/19830_12600_14400_mask.csv\n",
      "record: 19830  from:  14400 to:  16200\n"
     ]
    },
    {
     "name": "stderr",
     "output_type": "stream",
     "text": [
      "Processing P: 100%|██████████| 3119/3119 [00:04<00:00, 729.85it/s]\n",
      "Processing QRS: 100%|██████████| 3119/3119 [00:00<00:00, 4459.35it/s]\n"
     ]
    },
    {
     "name": "stdout",
     "output_type": "stream",
     "text": [
      "Saved mask to: masks/19830_14400_16200_mask.csv\n",
      "record: 19830  from:  16200 to:  18000\n"
     ]
    },
    {
     "name": "stderr",
     "output_type": "stream",
     "text": [
      "Processing P: 100%|██████████| 3110/3110 [00:04<00:00, 719.37it/s]\n",
      "Processing QRS: 100%|██████████| 3122/3122 [00:00<00:00, 4626.68it/s]\n"
     ]
    },
    {
     "name": "stdout",
     "output_type": "stream",
     "text": [
      "Saved mask to: masks/19830_16200_18000_mask.csv\n",
      "record: 19830  from:  18000 to:  19800\n"
     ]
    },
    {
     "name": "stderr",
     "output_type": "stream",
     "text": [
      "Processing P: 100%|██████████| 2834/2834 [00:03<00:00, 749.84it/s]\n",
      "Processing QRS: 100%|██████████| 2836/2836 [00:00<00:00, 4672.60it/s]\n"
     ]
    },
    {
     "name": "stdout",
     "output_type": "stream",
     "text": [
      "Saved mask to: masks/19830_18000_19800_mask.csv\n",
      "record: 19830  from:  19800 to:  21600\n"
     ]
    },
    {
     "name": "stderr",
     "output_type": "stream",
     "text": [
      "Processing P: 100%|██████████| 2700/2700 [00:03<00:00, 743.89it/s]\n",
      "Processing QRS: 100%|██████████| 2713/2713 [00:00<00:00, 4662.90it/s]\n"
     ]
    },
    {
     "name": "stdout",
     "output_type": "stream",
     "text": [
      "Saved mask to: masks/19830_19800_21600_mask.csv\n",
      "record: 19830  from:  21600 to:  23400\n"
     ]
    },
    {
     "name": "stderr",
     "output_type": "stream",
     "text": [
      "Processing P: 100%|██████████| 2766/2766 [00:03<00:00, 736.33it/s]\n",
      "Processing QRS: 100%|██████████| 2770/2770 [00:00<00:00, 4648.41it/s]\n"
     ]
    },
    {
     "name": "stdout",
     "output_type": "stream",
     "text": [
      "Saved mask to: masks/19830_21600_23400_mask.csv\n",
      "record: 19830  from:  23400 to:  25200\n"
     ]
    },
    {
     "name": "stderr",
     "output_type": "stream",
     "text": [
      "Processing P: 100%|██████████| 2870/2870 [00:03<00:00, 725.15it/s]\n",
      "Processing QRS: 100%|██████████| 2877/2877 [00:00<00:00, 4758.88it/s]\n"
     ]
    },
    {
     "name": "stdout",
     "output_type": "stream",
     "text": [
      "Saved mask to: masks/19830_23400_25200_mask.csv\n",
      "record: 19830  from:  25200 to:  27000\n"
     ]
    },
    {
     "name": "stderr",
     "output_type": "stream",
     "text": [
      "Processing P: 100%|██████████| 2924/2924 [00:04<00:00, 730.75it/s]\n",
      "Processing QRS: 100%|██████████| 2930/2930 [00:00<00:00, 4677.78it/s]\n"
     ]
    },
    {
     "name": "stdout",
     "output_type": "stream",
     "text": [
      "Saved mask to: masks/19830_25200_27000_mask.csv\n",
      "record: 19830  from:  27000 to:  28800\n"
     ]
    },
    {
     "name": "stderr",
     "output_type": "stream",
     "text": [
      "Processing P: 100%|██████████| 2767/2767 [00:03<00:00, 736.21it/s]\n",
      "Processing QRS: 100%|██████████| 2773/2773 [00:00<00:00, 4572.03it/s]\n"
     ]
    },
    {
     "name": "stdout",
     "output_type": "stream",
     "text": [
      "Saved mask to: masks/19830_27000_28800_mask.csv\n",
      "record: 19830  from:  28800 to:  30600\n"
     ]
    },
    {
     "name": "stderr",
     "output_type": "stream",
     "text": [
      "Processing P: 100%|██████████| 2826/2826 [00:03<00:00, 738.45it/s]\n",
      "Processing QRS: 100%|██████████| 2824/2824 [00:00<00:00, 4634.75it/s]\n"
     ]
    },
    {
     "name": "stdout",
     "output_type": "stream",
     "text": [
      "Saved mask to: masks/19830_28800_30600_mask.csv\n",
      "record: 19830  from:  30600 to:  32400\n"
     ]
    },
    {
     "name": "stderr",
     "output_type": "stream",
     "text": [
      "Processing P: 100%|██████████| 2825/2825 [00:03<00:00, 744.49it/s]\n",
      "Processing QRS: 100%|██████████| 2835/2835 [00:00<00:00, 4655.99it/s]\n"
     ]
    },
    {
     "name": "stdout",
     "output_type": "stream",
     "text": [
      "Saved mask to: masks/19830_30600_32400_mask.csv\n",
      "record: 19830  from:  32400 to:  34200\n"
     ]
    },
    {
     "name": "stderr",
     "output_type": "stream",
     "text": [
      "Processing P: 100%|██████████| 2794/2794 [00:03<00:00, 737.23it/s]\n",
      "Processing QRS: 100%|██████████| 2805/2805 [00:00<00:00, 4536.63it/s]\n"
     ]
    },
    {
     "name": "stdout",
     "output_type": "stream",
     "text": [
      "Saved mask to: masks/19830_32400_34200_mask.csv\n",
      "record: 19830  from:  34200 to:  36000\n"
     ]
    },
    {
     "name": "stderr",
     "output_type": "stream",
     "text": [
      "Processing P: 100%|██████████| 2572/2572 [00:03<00:00, 743.38it/s]\n",
      "Processing QRS: 100%|██████████| 2591/2591 [00:00<00:00, 4401.15it/s]\n"
     ]
    },
    {
     "name": "stdout",
     "output_type": "stream",
     "text": [
      "Saved mask to: masks/19830_34200_36000_mask.csv\n",
      "record: 19830  from:  36000 to:  37800\n"
     ]
    },
    {
     "name": "stderr",
     "output_type": "stream",
     "text": [
      "Processing P: 100%|██████████| 2769/2769 [00:03<00:00, 743.91it/s]\n",
      "Processing QRS: 100%|██████████| 2779/2779 [00:00<00:00, 4678.73it/s]\n"
     ]
    },
    {
     "name": "stdout",
     "output_type": "stream",
     "text": [
      "Saved mask to: masks/19830_36000_37800_mask.csv\n",
      "record: 19830  from:  37800 to:  39600\n"
     ]
    },
    {
     "name": "stderr",
     "output_type": "stream",
     "text": [
      "Processing P: 100%|██████████| 2703/2703 [00:03<00:00, 735.33it/s]\n",
      "Processing QRS: 100%|██████████| 2708/2708 [00:00<00:00, 4656.10it/s]\n"
     ]
    },
    {
     "name": "stdout",
     "output_type": "stream",
     "text": [
      "Saved mask to: masks/19830_37800_39600_mask.csv\n",
      "record: 19830  from:  39600 to:  41400\n"
     ]
    },
    {
     "name": "stderr",
     "output_type": "stream",
     "text": [
      "Processing P: 100%|██████████| 2583/2583 [00:03<00:00, 747.70it/s]\n",
      "Processing QRS: 100%|██████████| 2592/2592 [00:00<00:00, 4965.15it/s]\n"
     ]
    },
    {
     "name": "stdout",
     "output_type": "stream",
     "text": [
      "Saved mask to: masks/19830_39600_41400_mask.csv\n",
      "record: 19830  from:  41400 to:  43200\n"
     ]
    },
    {
     "name": "stderr",
     "output_type": "stream",
     "text": [
      "Processing P: 100%|██████████| 2403/2403 [00:03<00:00, 733.61it/s]\n",
      "Processing QRS: 100%|██████████| 2416/2416 [00:00<00:00, 4671.64it/s]\n"
     ]
    },
    {
     "name": "stdout",
     "output_type": "stream",
     "text": [
      "Saved mask to: masks/19830_41400_43200_mask.csv\n",
      "record: 19830  from:  43200 to:  45000\n"
     ]
    },
    {
     "name": "stderr",
     "output_type": "stream",
     "text": [
      "Processing P: 100%|██████████| 2319/2319 [00:03<00:00, 745.99it/s]\n",
      "Processing QRS: 100%|██████████| 2332/2332 [00:00<00:00, 4736.91it/s]\n"
     ]
    },
    {
     "name": "stdout",
     "output_type": "stream",
     "text": [
      "Saved mask to: masks/19830_43200_45000_mask.csv\n",
      "record: 19830  from:  45000 to:  46800\n"
     ]
    },
    {
     "name": "stderr",
     "output_type": "stream",
     "text": [
      "Processing P: 100%|██████████| 2225/2225 [00:03<00:00, 721.77it/s]\n",
      "Processing QRS: 100%|██████████| 2228/2228 [00:00<00:00, 4647.49it/s]\n"
     ]
    },
    {
     "name": "stdout",
     "output_type": "stream",
     "text": [
      "Saved mask to: masks/19830_45000_46800_mask.csv\n",
      "record: 19830  from:  46800 to:  48600\n"
     ]
    },
    {
     "name": "stderr",
     "output_type": "stream",
     "text": [
      "Processing P: 100%|██████████| 2291/2291 [00:03<00:00, 752.31it/s]\n",
      "Processing QRS: 100%|██████████| 2293/2293 [00:00<00:00, 4620.59it/s]\n"
     ]
    },
    {
     "name": "stdout",
     "output_type": "stream",
     "text": [
      "Saved mask to: masks/19830_46800_48600_mask.csv\n",
      "record: 19830  from:  48600 to:  50400\n"
     ]
    },
    {
     "name": "stderr",
     "output_type": "stream",
     "text": [
      "Processing P: 100%|██████████| 2295/2295 [00:03<00:00, 740.76it/s]\n",
      "Processing QRS: 100%|██████████| 2297/2297 [00:00<00:00, 4683.80it/s]\n"
     ]
    },
    {
     "name": "stdout",
     "output_type": "stream",
     "text": [
      "Saved mask to: masks/19830_48600_50400_mask.csv\n",
      "record: 19830  from:  50400 to:  52200\n"
     ]
    },
    {
     "name": "stderr",
     "output_type": "stream",
     "text": [
      "Processing P: 100%|██████████| 2300/2300 [00:03<00:00, 752.54it/s]\n",
      "Processing QRS: 100%|██████████| 2305/2305 [00:00<00:00, 4710.32it/s]\n"
     ]
    },
    {
     "name": "stdout",
     "output_type": "stream",
     "text": [
      "Saved mask to: masks/19830_50400_52200_mask.csv\n",
      "record: 19830  from:  52200 to:  54000\n"
     ]
    },
    {
     "name": "stderr",
     "output_type": "stream",
     "text": [
      "Processing P: 100%|██████████| 2209/2209 [00:02<00:00, 740.16it/s]\n",
      "Processing QRS: 100%|██████████| 2212/2212 [00:00<00:00, 4714.45it/s]\n"
     ]
    },
    {
     "name": "stdout",
     "output_type": "stream",
     "text": [
      "Saved mask to: masks/19830_52200_54000_mask.csv\n",
      "record: 19830  from:  54000 to:  55800\n"
     ]
    },
    {
     "name": "stderr",
     "output_type": "stream",
     "text": [
      "Processing P: 100%|██████████| 2189/2189 [00:02<00:00, 736.06it/s]\n",
      "Processing QRS: 100%|██████████| 2190/2190 [00:00<00:00, 4738.39it/s]\n"
     ]
    },
    {
     "name": "stdout",
     "output_type": "stream",
     "text": [
      "Saved mask to: masks/19830_54000_55800_mask.csv\n",
      "record: 19830  from:  55800 to:  57600\n"
     ]
    },
    {
     "name": "stderr",
     "output_type": "stream",
     "text": [
      "Processing P: 100%|██████████| 2105/2105 [00:02<00:00, 738.76it/s]\n",
      "Processing QRS: 100%|██████████| 2115/2115 [00:00<00:00, 4782.39it/s]\n"
     ]
    },
    {
     "name": "stdout",
     "output_type": "stream",
     "text": [
      "Saved mask to: masks/19830_55800_57600_mask.csv\n",
      "record: 19830  from:  57600 to:  59400\n"
     ]
    },
    {
     "name": "stderr",
     "output_type": "stream",
     "text": [
      "Processing P: 100%|██████████| 2002/2002 [00:02<00:00, 755.05it/s]\n",
      "Processing QRS: 100%|██████████| 2005/2005 [00:00<00:00, 4736.05it/s]\n"
     ]
    },
    {
     "name": "stdout",
     "output_type": "stream",
     "text": [
      "Saved mask to: masks/19830_57600_59400_mask.csv\n",
      "record: 19830  from:  59400 to:  61200\n"
     ]
    },
    {
     "name": "stderr",
     "output_type": "stream",
     "text": [
      "Processing P: 100%|██████████| 2074/2074 [00:02<00:00, 730.50it/s]\n",
      "Processing QRS: 100%|██████████| 2080/2080 [00:00<00:00, 4671.92it/s]\n"
     ]
    },
    {
     "name": "stdout",
     "output_type": "stream",
     "text": [
      "Saved mask to: masks/19830_59400_61200_mask.csv\n",
      "record: 19830  from:  61200 to:  63000\n"
     ]
    },
    {
     "name": "stderr",
     "output_type": "stream",
     "text": [
      "Processing P: 100%|██████████| 2072/2072 [00:02<00:00, 753.09it/s]\n",
      "Processing QRS: 100%|██████████| 2086/2086 [00:00<00:00, 4738.94it/s]\n"
     ]
    },
    {
     "name": "stdout",
     "output_type": "stream",
     "text": [
      "Saved mask to: masks/19830_61200_63000_mask.csv\n",
      "record: 19830  from:  63000 to:  64800\n"
     ]
    },
    {
     "name": "stderr",
     "output_type": "stream",
     "text": [
      "Processing P: 100%|██████████| 2041/2041 [00:02<00:00, 740.87it/s]\n",
      "Processing QRS: 100%|██████████| 2046/2046 [00:00<00:00, 4693.38it/s]\n"
     ]
    },
    {
     "name": "stdout",
     "output_type": "stream",
     "text": [
      "Saved mask to: masks/19830_63000_64800_mask.csv\n",
      "record: 19830  from:  64800 to:  66600\n"
     ]
    },
    {
     "name": "stderr",
     "output_type": "stream",
     "text": [
      "Processing P: 100%|██████████| 2092/2092 [00:02<00:00, 732.27it/s]\n",
      "Processing QRS: 100%|██████████| 2100/2100 [00:00<00:00, 4688.11it/s]\n"
     ]
    },
    {
     "name": "stdout",
     "output_type": "stream",
     "text": [
      "Saved mask to: masks/19830_64800_66600_mask.csv\n",
      "record: 19830  from:  66600 to:  68400\n"
     ]
    },
    {
     "name": "stderr",
     "output_type": "stream",
     "text": [
      "Processing P: 100%|██████████| 2041/2041 [00:02<00:00, 726.06it/s]\n",
      "Processing QRS: 100%|██████████| 2043/2043 [00:00<00:00, 4762.25it/s]\n"
     ]
    },
    {
     "name": "stdout",
     "output_type": "stream",
     "text": [
      "Saved mask to: masks/19830_66600_68400_mask.csv\n",
      "record: 19830  from:  68400 to:  70200\n"
     ]
    },
    {
     "name": "stderr",
     "output_type": "stream",
     "text": [
      "Processing P: 100%|██████████| 2065/2065 [00:02<00:00, 735.00it/s]\n",
      "Processing QRS: 100%|██████████| 2077/2077 [00:00<00:00, 4758.16it/s]\n"
     ]
    },
    {
     "name": "stdout",
     "output_type": "stream",
     "text": [
      "Saved mask to: masks/19830_68400_70200_mask.csv\n",
      "record: 19830  from:  70200 to:  72000\n"
     ]
    },
    {
     "name": "stderr",
     "output_type": "stream",
     "text": [
      "Processing P: 100%|██████████| 2058/2058 [00:02<00:00, 717.95it/s]\n",
      "Processing QRS: 100%|██████████| 2064/2064 [00:00<00:00, 4630.92it/s]\n"
     ]
    },
    {
     "name": "stdout",
     "output_type": "stream",
     "text": [
      "Saved mask to: masks/19830_70200_72000_mask.csv\n",
      "record: 19830  from:  72000 to:  73800\n"
     ]
    },
    {
     "name": "stderr",
     "output_type": "stream",
     "text": [
      "Processing P: 100%|██████████| 2096/2096 [00:02<00:00, 729.25it/s]\n",
      "Processing QRS: 100%|██████████| 2111/2111 [00:00<00:00, 4516.46it/s]\n"
     ]
    },
    {
     "name": "stdout",
     "output_type": "stream",
     "text": [
      "Saved mask to: masks/19830_72000_73800_mask.csv\n",
      "record: 19830  from:  73800 to:  75600\n"
     ]
    },
    {
     "name": "stderr",
     "output_type": "stream",
     "text": [
      "Processing P: 100%|██████████| 2372/2372 [00:03<00:00, 712.57it/s]\n",
      "Processing QRS: 100%|██████████| 2386/2386 [00:00<00:00, 4413.43it/s]\n"
     ]
    },
    {
     "name": "stdout",
     "output_type": "stream",
     "text": [
      "Saved mask to: masks/19830_73800_75600_mask.csv\n",
      "record: 19830  from:  75600 to:  77400\n"
     ]
    },
    {
     "name": "stderr",
     "output_type": "stream",
     "text": [
      "Processing P: 100%|██████████| 558/558 [00:00<00:00, 731.10it/s]\n",
      "Processing QRS: 100%|██████████| 605/605 [00:00<00:00, 10039.86it/s]\n"
     ]
    },
    {
     "name": "stdout",
     "output_type": "stream",
     "text": [
      "Saved mask to: masks/19830_75600_77400_mask.csv\n",
      "record: 19830  from:  77400 to:  79200\n"
     ]
    },
    {
     "name": "stderr",
     "output_type": "stream",
     "text": [
      "Processing P: 100%|██████████| 2131/2131 [00:03<00:00, 702.59it/s]\n",
      "Processing QRS: 100%|██████████| 3157/3157 [00:00<00:00, 5021.82it/s]\n"
     ]
    },
    {
     "name": "stdout",
     "output_type": "stream",
     "text": [
      "Saved mask to: masks/19830_77400_79200_mask.csv\n",
      "record: 19830  from:  79200 to:  81000\n"
     ]
    },
    {
     "name": "stderr",
     "output_type": "stream",
     "text": [
      "Processing P: 100%|██████████| 2113/2113 [00:03<00:00, 661.01it/s]\n",
      "Processing QRS: 100%|██████████| 3183/3183 [00:00<00:00, 5153.50it/s]\n"
     ]
    },
    {
     "name": "stdout",
     "output_type": "stream",
     "text": [
      "Saved mask to: masks/19830_79200_81000_mask.csv\n",
      "record: 19830  from:  81000 to:  82800\n"
     ]
    },
    {
     "name": "stderr",
     "output_type": "stream",
     "text": [
      "Processing P: 100%|██████████| 2114/2114 [00:03<00:00, 687.21it/s]\n",
      "Processing QRS: 100%|██████████| 3128/3128 [00:00<00:00, 4927.86it/s]\n"
     ]
    },
    {
     "name": "stdout",
     "output_type": "stream",
     "text": [
      "Saved mask to: masks/19830_81000_82800_mask.csv\n",
      "record: 19830  from:  82800 to:  83608.0\n"
     ]
    },
    {
     "name": "stderr",
     "output_type": "stream",
     "text": [
      "Processing P: 100%|██████████| 198/198 [00:00<00:00, 1289.75it/s]\n",
      "Processing QRS: 100%|██████████| 179/179 [00:00<00:00, 10173.18it/s]\n"
     ]
    },
    {
     "name": "stdout",
     "output_type": "stream",
     "text": [
      "Saved mask to: masks/19830_82800_83608.0_mask.csv\n"
     ]
    }
   ],
   "source": [
    "#nb = len(df_descreption['ecg_id'])\n",
    "df_all = batch_predict_masks(mitdb_path, mit_records, model_deep , save_csv=True,output_csv=\"mitdb_norm_features.csv\")\n",
    "# 11208"
   ]
  },
  {
   "cell_type": "code",
   "execution_count": 23,
   "id": "79859265",
   "metadata": {
    "execution": {
     "iopub.execute_input": "2025-05-27T13:15:13.758843Z",
     "iopub.status.busy": "2025-05-27T13:15:13.758570Z",
     "iopub.status.idle": "2025-05-27T13:15:13.764171Z",
     "shell.execute_reply": "2025-05-27T13:15:13.763592Z"
    },
    "papermill": {
     "duration": 1.493618,
     "end_time": "2025-05-27T13:15:13.765202",
     "exception": false,
     "start_time": "2025-05-27T13:15:12.271584",
     "status": "completed"
    },
    "tags": []
   },
   "outputs": [
    {
     "data": {
      "text/plain": [
       "'\\ndef extract_features_from_mask(record_name, path, mask_path, fs=250):\\n    print(\\'start\\')\\n    record = wfdb.rdrecord(path)\\n    signal = record.p_signal[:, 0]\\n\\n    mask = np.loadtxt(mask_path, delimiter=\",\", dtype=int)\\n\\n    boundaries = get_wave_boundaries(mask)\\n    all_predicted_masks = mask.reshape(1, -1)\\n    signal = signal[:len(mask)]  # crop if needed\\n\\n    features_per_beat = extract_features_per_qrs(signal, all_predicted_masks.flatten(), fs)\\n\\n    df = pd.DataFrame(features_per_beat)\\n    if df.empty:\\n        return df\\n\\n    df = df[[\\'R_index\\'] + [col for col in df.columns if col != \\'R_index\\']]\\n    y_pred = Type_model.predict(df)\\n\\n    for i, feature_dict in enumerate(features_per_beat):\\n        Type = class_map[int(y_pred[i])]\\n        feature_dict[\"Type\"] = Type\\n\\n    df = pd.DataFrame(features_per_beat)\\n    df[\\'record_name\\'] = record_name\\n    df[\\'beat_number\\'] = range(1, len(df) + 1)\\n\\n    main_cols = [\\'record_name\\', \\'beat_number\\', \\'Type\\', \\'R_index\\']\\n    df = df[main_cols + [col for col in df.columns if col not in main_cols]]\\n    print(\\'end\\')\\n    \\n    return df\\n'"
      ]
     },
     "execution_count": 23,
     "metadata": {},
     "output_type": "execute_result"
    }
   ],
   "source": [
    "'''\n",
    "def extract_features_from_mask(record_name, path, mask_path, fs=250):\n",
    "    print('start')\n",
    "    record = wfdb.rdrecord(path)\n",
    "    signal = record.p_signal[:, 0]\n",
    "\n",
    "    mask = np.loadtxt(mask_path, delimiter=\",\", dtype=int)\n",
    "\n",
    "    boundaries = get_wave_boundaries(mask)\n",
    "    all_predicted_masks = mask.reshape(1, -1)\n",
    "    signal = signal[:len(mask)]  # crop if needed\n",
    "\n",
    "    features_per_beat = extract_features_per_qrs(signal, all_predicted_masks.flatten(), fs)\n",
    "\n",
    "    df = pd.DataFrame(features_per_beat)\n",
    "    if df.empty:\n",
    "        return df\n",
    "\n",
    "    df = df[['R_index'] + [col for col in df.columns if col != 'R_index']]\n",
    "    y_pred = Type_model.predict(df)\n",
    "\n",
    "    for i, feature_dict in enumerate(features_per_beat):\n",
    "        Type = class_map[int(y_pred[i])]\n",
    "        feature_dict[\"Type\"] = Type\n",
    "\n",
    "    df = pd.DataFrame(features_per_beat)\n",
    "    df['record_name'] = record_name\n",
    "    df['beat_number'] = range(1, len(df) + 1)\n",
    "\n",
    "    main_cols = ['record_name', 'beat_number', 'Type', 'R_index']\n",
    "    df = df[main_cols + [col for col in df.columns if col not in main_cols]]\n",
    "    print('end')\n",
    "    \n",
    "    return df\n",
    "'''"
   ]
  },
  {
   "cell_type": "code",
   "execution_count": 24,
   "id": "49b982ec",
   "metadata": {
    "execution": {
     "iopub.execute_input": "2025-05-27T13:15:16.545824Z",
     "iopub.status.busy": "2025-05-27T13:15:16.545550Z",
     "iopub.status.idle": "2025-05-27T13:15:16.551212Z",
     "shell.execute_reply": "2025-05-27T13:15:16.550492Z"
    },
    "papermill": {
     "duration": 1.483982,
     "end_time": "2025-05-27T13:15:16.552389",
     "exception": false,
     "start_time": "2025-05-27T13:15:15.068407",
     "status": "completed"
    },
    "tags": []
   },
   "outputs": [
    {
     "data": {
      "text/plain": [
       "'import os\\nimport wfdb\\nimport pandas as pd\\nimport contextlib\\nfrom functools import partial\\nimport sys\\n\\n\\ndef batch_features(mitdb_path, mit_records, model, start=None, end=None, target_fs=250, save_csv=False, output_csv=\"all_features.csv\"):\\n    \\n    all_dfs = []\\n    print(\\'mit_records,\\',mit_records)\\n    #for record_name in tqdm(mit_records, total=len(mit_records), desc=\"Processing mit_records\"):\\n    for record_name in mit_records:\\n        print(\"record_name,\",record_name)\\n        full_path = os.path.join(mitdb_path, record_name)\\n        chunk_duration_sec = 10  # 30 minutes\\n        record = wfdb.rdrecord(full_path)\\n        #record = wfdb.rdrecord(edb_path+\\'e0129\\')# Run prediction\\n\\n        signal = record.p_signal[:, 0]  # lead I\\n\\n        fs = record.fs\\n        total_duration_sec = len(record.p_signal[:, 0]) / record.fs\\n        \\n        for start_time in range(0, int(total_duration_sec), chunk_duration_sec):\\n            end_time = min(start_time + chunk_duration_sec, total_duration_sec)\\n            #with suppress_output():\\n            print(\"record:\",record_name,\" from: \",start_time,\"to: \",end_time)\\n            name = str(record_name)+\"_\"+str(start_time)+\"_\"+str(end_time)\\n            df = extract_features_from_mask(name, full_path, \\'/kaggle/working/masks/\\'+name+\\'_mask.csv\\', fs=250)   \\n            \\n            all_dfs.append(df)\\n\\n    combined_df = pd.concat(all_dfs, ignore_index=True)\\n\\n    if save_csv:\\n        combined_df.to_csv(output_csv, index=False)\\n        print(f\"Saved combined features to {output_csv}\")\\n\\n    return combined_df\\n\\ndf_all = batch_features(mitdb_path, mit_records[:1], model_deep , save_csv=True,output_csv=\"mitdb_norm_features.csv\") \\n'"
      ]
     },
     "execution_count": 24,
     "metadata": {},
     "output_type": "execute_result"
    }
   ],
   "source": [
    "'''import os\n",
    "import wfdb\n",
    "import pandas as pd\n",
    "import contextlib\n",
    "from functools import partial\n",
    "import sys\n",
    "\n",
    "\n",
    "def batch_features(mitdb_path, mit_records, model, start=None, end=None, target_fs=250, save_csv=False, output_csv=\"all_features.csv\"):\n",
    "    \n",
    "    all_dfs = []\n",
    "    print('mit_records,',mit_records)\n",
    "    #for record_name in tqdm(mit_records, total=len(mit_records), desc=\"Processing mit_records\"):\n",
    "    for record_name in mit_records:\n",
    "        print(\"record_name,\",record_name)\n",
    "        full_path = os.path.join(mitdb_path, record_name)\n",
    "        chunk_duration_sec = 10  # 30 minutes\n",
    "        record = wfdb.rdrecord(full_path)\n",
    "        #record = wfdb.rdrecord(edb_path+'e0129')# Run prediction\n",
    "\n",
    "        signal = record.p_signal[:, 0]  # lead I\n",
    "\n",
    "        fs = record.fs\n",
    "        total_duration_sec = len(record.p_signal[:, 0]) / record.fs\n",
    "        \n",
    "        for start_time in range(0, int(total_duration_sec), chunk_duration_sec):\n",
    "            end_time = min(start_time + chunk_duration_sec, total_duration_sec)\n",
    "            #with suppress_output():\n",
    "            print(\"record:\",record_name,\" from: \",start_time,\"to: \",end_time)\n",
    "            name = str(record_name)+\"_\"+str(start_time)+\"_\"+str(end_time)\n",
    "            df = extract_features_from_mask(name, full_path, '/kaggle/working/masks/'+name+'_mask.csv', fs=250)   \n",
    "            \n",
    "            all_dfs.append(df)\n",
    "\n",
    "    combined_df = pd.concat(all_dfs, ignore_index=True)\n",
    "\n",
    "    if save_csv:\n",
    "        combined_df.to_csv(output_csv, index=False)\n",
    "        print(f\"Saved combined features to {output_csv}\")\n",
    "\n",
    "    return combined_df\n",
    "\n",
    "df_all = batch_features(mitdb_path, mit_records[:1], model_deep , save_csv=True,output_csv=\"mitdb_norm_features.csv\") \n",
    "'''\n",
    "   "
   ]
  },
  {
   "cell_type": "code",
   "execution_count": null,
   "id": "097ff247",
   "metadata": {
    "papermill": {
     "duration": 1.422756,
     "end_time": "2025-05-27T13:15:19.365978",
     "exception": false,
     "start_time": "2025-05-27T13:15:17.943222",
     "status": "completed"
    },
    "tags": []
   },
   "outputs": [],
   "source": []
  }
 ],
 "metadata": {
  "colab": {
   "collapsed_sections": [
    "jvXrP01oftqo",
    "ZW-HQbGIN86a",
    "UCgs5n5KgSse",
    "IsKW-178f8s7"
   ],
   "provenance": []
  },
  "kaggle": {
   "accelerator": "gpu",
   "dataSources": [
    {
     "datasetId": 7394601,
     "sourceId": 11778345,
     "sourceType": "datasetVersion"
    },
    {
     "isSourceIdPinned": false,
     "modelId": 355945,
     "modelInstanceId": 334922,
     "sourceId": 410120,
     "sourceType": "modelInstanceVersion"
    }
   ],
   "dockerImageVersionId": 31011,
   "isGpuEnabled": true,
   "isInternetEnabled": true,
   "language": "python",
   "sourceType": "notebook"
  },
  "kernelspec": {
   "display_name": "Python 3",
   "language": "python",
   "name": "python3"
  },
  "language_info": {
   "codemirror_mode": {
    "name": "ipython",
    "version": 3
   },
   "file_extension": ".py",
   "mimetype": "text/x-python",
   "name": "python",
   "nbconvert_exporter": "python",
   "pygments_lexer": "ipython3",
   "version": "3.11.11"
  },
  "papermill": {
   "default_parameters": {},
   "duration": 14635.71665,
   "end_time": "2025-05-27T13:15:23.550005",
   "environment_variables": {},
   "exception": null,
   "input_path": "__notebook__.ipynb",
   "output_path": "__notebook__.ipynb",
   "parameters": {},
   "start_time": "2025-05-27T09:11:27.833355",
   "version": "2.6.0"
  }
 },
 "nbformat": 4,
 "nbformat_minor": 5
}
