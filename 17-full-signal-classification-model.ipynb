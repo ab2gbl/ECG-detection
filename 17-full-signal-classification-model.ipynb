{
 "cells": [
  {
   "cell_type": "code",
   "execution_count": 1,
   "id": "9781f815",
   "metadata": {
    "execution": {
     "iopub.execute_input": "2025-05-30T07:46:25.527670Z",
     "iopub.status.busy": "2025-05-30T07:46:25.526776Z",
     "iopub.status.idle": "2025-05-30T07:46:32.295356Z",
     "shell.execute_reply": "2025-05-30T07:46:32.294177Z"
    },
    "papermill": {
     "duration": 6.780637,
     "end_time": "2025-05-30T07:46:32.297547",
     "exception": false,
     "start_time": "2025-05-30T07:46:25.516910",
     "status": "completed"
    },
    "tags": []
   },
   "outputs": [
    {
     "name": "stdout",
     "output_type": "stream",
     "text": [
      "Requirement already satisfied: pip in /usr/local/lib/python3.11/dist-packages (24.1.2)\r\n",
      "Collecting pip\r\n",
      "  Downloading pip-25.1.1-py3-none-any.whl.metadata (3.6 kB)\r\n",
      "Downloading pip-25.1.1-py3-none-any.whl (1.8 MB)\r\n",
      "\u001b[2K   \u001b[90m━━━━━━━━━━━━━━━━━━━━━━━━━━━━━━━━━━━━━━━━\u001b[0m \u001b[32m1.8/1.8 MB\u001b[0m \u001b[31m19.7 MB/s\u001b[0m eta \u001b[36m0:00:00\u001b[0m\r\n",
      "\u001b[?25hInstalling collected packages: pip\r\n",
      "  Attempting uninstall: pip\r\n",
      "    Found existing installation: pip 24.1.2\r\n",
      "    Uninstalling pip-24.1.2:\r\n",
      "      Successfully uninstalled pip-24.1.2\r\n",
      "Successfully installed pip-25.1.1\r\n"
     ]
    }
   ],
   "source": [
    "!pip install --upgrade pip"
   ]
  },
  {
   "cell_type": "code",
   "execution_count": 2,
   "id": "0eecb5dc",
   "metadata": {
    "execution": {
     "iopub.execute_input": "2025-05-30T07:46:32.315766Z",
     "iopub.status.busy": "2025-05-30T07:46:32.314767Z",
     "iopub.status.idle": "2025-05-30T07:46:38.981364Z",
     "shell.execute_reply": "2025-05-30T07:46:38.980169Z"
    },
    "papermill": {
     "duration": 6.67725,
     "end_time": "2025-05-30T07:46:38.983400",
     "exception": false,
     "start_time": "2025-05-30T07:46:32.306150",
     "status": "completed"
    },
    "tags": []
   },
   "outputs": [
    {
     "name": "stdout",
     "output_type": "stream",
     "text": [
      "Collecting scikit-learn==1.6.1\r\n",
      "  Downloading scikit_learn-1.6.1-cp311-cp311-manylinux_2_17_x86_64.manylinux2014_x86_64.whl.metadata (18 kB)\r\n",
      "Requirement already satisfied: numpy>=1.19.5 in /usr/local/lib/python3.11/dist-packages (from scikit-learn==1.6.1) (1.26.4)\r\n",
      "Requirement already satisfied: scipy>=1.6.0 in /usr/local/lib/python3.11/dist-packages (from scikit-learn==1.6.1) (1.15.2)\r\n",
      "Requirement already satisfied: joblib>=1.2.0 in /usr/local/lib/python3.11/dist-packages (from scikit-learn==1.6.1) (1.4.2)\r\n",
      "Requirement already satisfied: threadpoolctl>=3.1.0 in /usr/local/lib/python3.11/dist-packages (from scikit-learn==1.6.1) (3.6.0)\r\n",
      "Requirement already satisfied: mkl_fft in /usr/local/lib/python3.11/dist-packages (from numpy>=1.19.5->scikit-learn==1.6.1) (1.3.8)\r\n",
      "Requirement already satisfied: mkl_random in /usr/local/lib/python3.11/dist-packages (from numpy>=1.19.5->scikit-learn==1.6.1) (1.2.4)\r\n",
      "Requirement already satisfied: mkl_umath in /usr/local/lib/python3.11/dist-packages (from numpy>=1.19.5->scikit-learn==1.6.1) (0.1.1)\r\n",
      "Requirement already satisfied: mkl in /usr/local/lib/python3.11/dist-packages (from numpy>=1.19.5->scikit-learn==1.6.1) (2025.1.0)\r\n",
      "Requirement already satisfied: tbb4py in /usr/local/lib/python3.11/dist-packages (from numpy>=1.19.5->scikit-learn==1.6.1) (2022.1.0)\r\n",
      "Requirement already satisfied: mkl-service in /usr/local/lib/python3.11/dist-packages (from numpy>=1.19.5->scikit-learn==1.6.1) (2.4.1)\r\n",
      "Requirement already satisfied: intel-openmp<2026,>=2024 in /usr/local/lib/python3.11/dist-packages (from mkl->numpy>=1.19.5->scikit-learn==1.6.1) (2024.2.0)\r\n",
      "Requirement already satisfied: tbb==2022.* in /usr/local/lib/python3.11/dist-packages (from mkl->numpy>=1.19.5->scikit-learn==1.6.1) (2022.1.0)\r\n",
      "Requirement already satisfied: intel-cmplr-lib-ur==2024.2.0 in /usr/local/lib/python3.11/dist-packages (from intel-openmp<2026,>=2024->mkl->numpy>=1.19.5->scikit-learn==1.6.1) (2024.2.0)\r\n",
      "Requirement already satisfied: tcmlib==1.* in /usr/local/lib/python3.11/dist-packages (from tbb==2022.*->mkl->numpy>=1.19.5->scikit-learn==1.6.1) (1.2.0)\r\n",
      "Requirement already satisfied: intel-cmplr-lib-rt in /usr/local/lib/python3.11/dist-packages (from mkl_umath->numpy>=1.19.5->scikit-learn==1.6.1) (2024.2.0)\r\n",
      "Downloading scikit_learn-1.6.1-cp311-cp311-manylinux_2_17_x86_64.manylinux2014_x86_64.whl (13.5 MB)\r\n",
      "\u001b[2K   \u001b[90m━━━━━━━━━━━━━━━━━━━━━━━━━━━━━━━━━━━━━━━━\u001b[0m \u001b[32m13.5/13.5 MB\u001b[0m \u001b[31m99.1 MB/s\u001b[0m eta \u001b[36m0:00:00\u001b[0m\r\n",
      "\u001b[?25hInstalling collected packages: scikit-learn\r\n",
      "  Attempting uninstall: scikit-learn\r\n",
      "    Found existing installation: scikit-learn 1.2.2\r\n",
      "    Uninstalling scikit-learn-1.2.2:\r\n",
      "      Successfully uninstalled scikit-learn-1.2.2\r\n",
      "\u001b[31mERROR: pip's dependency resolver does not currently take into account all the packages that are installed. This behaviour is the source of the following dependency conflicts.\r\n",
      "category-encoders 2.7.0 requires scikit-learn<1.6.0,>=1.0.0, but you have scikit-learn 1.6.1 which is incompatible.\r\n",
      "bigframes 1.36.0 requires rich<14,>=12.4.4, but you have rich 14.0.0 which is incompatible.\u001b[0m\u001b[31m\r\n",
      "\u001b[0mSuccessfully installed scikit-learn-1.6.1\r\n"
     ]
    }
   ],
   "source": [
    "!pip install scikit-learn==1.6.1"
   ]
  },
  {
   "cell_type": "code",
   "execution_count": 3,
   "id": "991b7704",
   "metadata": {
    "execution": {
     "iopub.execute_input": "2025-05-30T07:46:39.000742Z",
     "iopub.status.busy": "2025-05-30T07:46:39.000392Z",
     "iopub.status.idle": "2025-05-30T07:46:50.430476Z",
     "shell.execute_reply": "2025-05-30T07:46:50.429216Z"
    },
    "papermill": {
     "duration": 11.441049,
     "end_time": "2025-05-30T07:46:50.432504",
     "exception": false,
     "start_time": "2025-05-30T07:46:38.991455",
     "status": "completed"
    },
    "tags": []
   },
   "outputs": [
    {
     "name": "stdout",
     "output_type": "stream",
     "text": [
      "Collecting xgboost==2.1.4\r\n",
      "  Downloading xgboost-2.1.4-py3-none-manylinux_2_28_x86_64.whl.metadata (2.1 kB)\r\n",
      "Requirement already satisfied: numpy in /usr/local/lib/python3.11/dist-packages (from xgboost==2.1.4) (1.26.4)\r\n",
      "Requirement already satisfied: nvidia-nccl-cu12 in /usr/local/lib/python3.11/dist-packages (from xgboost==2.1.4) (2.21.5)\r\n",
      "Requirement already satisfied: scipy in /usr/local/lib/python3.11/dist-packages (from xgboost==2.1.4) (1.15.2)\r\n",
      "Requirement already satisfied: mkl_fft in /usr/local/lib/python3.11/dist-packages (from numpy->xgboost==2.1.4) (1.3.8)\r\n",
      "Requirement already satisfied: mkl_random in /usr/local/lib/python3.11/dist-packages (from numpy->xgboost==2.1.4) (1.2.4)\r\n",
      "Requirement already satisfied: mkl_umath in /usr/local/lib/python3.11/dist-packages (from numpy->xgboost==2.1.4) (0.1.1)\r\n",
      "Requirement already satisfied: mkl in /usr/local/lib/python3.11/dist-packages (from numpy->xgboost==2.1.4) (2025.1.0)\r\n",
      "Requirement already satisfied: tbb4py in /usr/local/lib/python3.11/dist-packages (from numpy->xgboost==2.1.4) (2022.1.0)\r\n",
      "Requirement already satisfied: mkl-service in /usr/local/lib/python3.11/dist-packages (from numpy->xgboost==2.1.4) (2.4.1)\r\n",
      "Requirement already satisfied: intel-openmp<2026,>=2024 in /usr/local/lib/python3.11/dist-packages (from mkl->numpy->xgboost==2.1.4) (2024.2.0)\r\n",
      "Requirement already satisfied: tbb==2022.* in /usr/local/lib/python3.11/dist-packages (from mkl->numpy->xgboost==2.1.4) (2022.1.0)\r\n",
      "Requirement already satisfied: intel-cmplr-lib-ur==2024.2.0 in /usr/local/lib/python3.11/dist-packages (from intel-openmp<2026,>=2024->mkl->numpy->xgboost==2.1.4) (2024.2.0)\r\n",
      "Requirement already satisfied: tcmlib==1.* in /usr/local/lib/python3.11/dist-packages (from tbb==2022.*->mkl->numpy->xgboost==2.1.4) (1.2.0)\r\n",
      "Requirement already satisfied: intel-cmplr-lib-rt in /usr/local/lib/python3.11/dist-packages (from mkl_umath->numpy->xgboost==2.1.4) (2024.2.0)\r\n",
      "Downloading xgboost-2.1.4-py3-none-manylinux_2_28_x86_64.whl (223.6 MB)\r\n",
      "\u001b[2K   \u001b[90m━━━━━━━━━━━━━━━━━━━━━━━━━━━━━━━━━━━━━━━━\u001b[0m \u001b[32m223.6/223.6 MB\u001b[0m \u001b[31m109.4 MB/s\u001b[0m eta \u001b[36m0:00:00\u001b[0m\r\n",
      "\u001b[?25hInstalling collected packages: xgboost\r\n",
      "  Attempting uninstall: xgboost\r\n",
      "    Found existing installation: xgboost 2.0.3\r\n",
      "    Uninstalling xgboost-2.0.3:\r\n",
      "      Successfully uninstalled xgboost-2.0.3\r\n",
      "Successfully installed xgboost-2.1.4\r\n"
     ]
    }
   ],
   "source": [
    "!pip install xgboost==2.1.4"
   ]
  },
  {
   "cell_type": "code",
   "execution_count": 4,
   "id": "e228f916",
   "metadata": {
    "execution": {
     "iopub.execute_input": "2025-05-30T07:46:50.452731Z",
     "iopub.status.busy": "2025-05-30T07:46:50.452382Z",
     "iopub.status.idle": "2025-05-30T07:46:53.796349Z",
     "shell.execute_reply": "2025-05-30T07:46:53.795268Z"
    },
    "papermill": {
     "duration": 3.356365,
     "end_time": "2025-05-30T07:46:53.798181",
     "exception": false,
     "start_time": "2025-05-30T07:46:50.441816",
     "status": "completed"
    },
    "tags": []
   },
   "outputs": [
    {
     "name": "stdout",
     "output_type": "stream",
     "text": [
      "1.6.1\n",
      "2.1.4\n"
     ]
    }
   ],
   "source": [
    "import sklearn \n",
    "import xgboost\n",
    "print(sklearn.__version__)\n",
    "print(xgboost.__version__)\n"
   ]
  },
  {
   "cell_type": "code",
   "execution_count": 5,
   "id": "7143475b",
   "metadata": {
    "execution": {
     "iopub.execute_input": "2025-05-30T07:46:53.823489Z",
     "iopub.status.busy": "2025-05-30T07:46:53.823028Z",
     "iopub.status.idle": "2025-05-30T07:46:57.467334Z",
     "shell.execute_reply": "2025-05-30T07:46:57.466292Z"
    },
    "papermill": {
     "duration": 3.655711,
     "end_time": "2025-05-30T07:46:57.468942",
     "exception": false,
     "start_time": "2025-05-30T07:46:53.813231",
     "status": "completed"
    },
    "tags": []
   },
   "outputs": [
    {
     "data": {
      "text/plain": [
       "record_name                        training/ningbo/g34/JS44560\n",
       "Duree_QRS_ms_mean                                   166.117647\n",
       "Duree_QRS_ms_std                                     33.320193\n",
       "Duree_QRS_ms_min                                         140.0\n",
       "Duree_QRS_ms_max                                         272.0\n",
       "                                         ...                  \n",
       "std_Intervalle_RR_ms                                  6.961801\n",
       "Age                                                       40.0\n",
       "Sex                                                       Male\n",
       "Dx                      ['164934002', '427084000', '55827005']\n",
       "Class                                                        2\n",
       "Name: 0, Length: 100, dtype: object"
      ]
     },
     "execution_count": 5,
     "metadata": {},
     "output_type": "execute_result"
    }
   ],
   "source": [
    "import pandas as pd\n",
    "from tqdm import tqdm  # optional: for progress bar\n",
    "\n",
    "origin_comp_df = pd.read_csv(\"/kaggle/input/merge-comp-2021/ecg-comp-2021-signals-features.csv\")\n",
    "\n",
    "origin_comp_df.iloc[0]"
   ]
  },
  {
   "cell_type": "code",
   "execution_count": 6,
   "id": "ec4057a2",
   "metadata": {
    "execution": {
     "iopub.execute_input": "2025-05-30T07:46:57.489176Z",
     "iopub.status.busy": "2025-05-30T07:46:57.488848Z",
     "iopub.status.idle": "2025-05-30T07:46:57.496331Z",
     "shell.execute_reply": "2025-05-30T07:46:57.495552Z"
    },
    "papermill": {
     "duration": 0.018437,
     "end_time": "2025-05-30T07:46:57.497603",
     "exception": false,
     "start_time": "2025-05-30T07:46:57.479166",
     "status": "completed"
    },
    "tags": []
   },
   "outputs": [
    {
     "data": {
      "text/plain": [
       "Index(['record_name', 'Duree_QRS_ms_mean', 'Duree_QRS_ms_std',\n",
       "       'Duree_QRS_ms_min', 'Duree_QRS_ms_max', 'Duree_P_ms_mean',\n",
       "       'Duree_P_ms_std', 'Duree_P_ms_min', 'Duree_P_ms_max', 'Duree_T_ms_mean',\n",
       "       'Duree_T_ms_std', 'Duree_T_ms_min', 'Duree_T_ms_max',\n",
       "       'Intervalle_QT_ms_mean', 'Intervalle_QT_ms_std', 'Intervalle_QT_ms_min',\n",
       "       'Intervalle_QT_ms_max', 'Intervalle_PR_ms_mean', 'Intervalle_PR_ms_std',\n",
       "       'Intervalle_PR_ms_min', 'Intervalle_PR_ms_max', 'Intervalle_ST_ms_mean',\n",
       "       'Intervalle_ST_ms_std', 'Intervalle_ST_ms_min', 'Intervalle_ST_ms_max',\n",
       "       'Amplitude_P_mean', 'Amplitude_P_std', 'Amplitude_P_min',\n",
       "       'Amplitude_P_max', 'Amplitude_Q_mean', 'Amplitude_Q_std',\n",
       "       'Amplitude_Q_min', 'Amplitude_Q_max', 'Amplitude_R_mean',\n",
       "       'Amplitude_R_std', 'Amplitude_R_min', 'Amplitude_R_max',\n",
       "       'Amplitude_S_mean', 'Amplitude_S_std', 'Amplitude_S_min',\n",
       "       'Amplitude_S_max', 'Amplitude_T_mean', 'Amplitude_T_std',\n",
       "       'Amplitude_T_min', 'Amplitude_T_max', 'T/R_ratio_mean', 'T/R_ratio_std',\n",
       "       'T/R_ratio_min', 'T/R_ratio_max', 'P/R_ratio_mean', 'P/R_ratio_std',\n",
       "       'P/R_ratio_min', 'P/R_ratio_max', 'QRS_area_mean', 'QRS_area_std',\n",
       "       'QRS_area_min', 'QRS_area_max', 'Slope_QR_mean', 'Slope_QR_std',\n",
       "       'Slope_QR_min', 'Slope_QR_max', 'Slope_RS_mean', 'Slope_RS_std',\n",
       "       'Slope_RS_min', 'Slope_RS_max', 'Heart_rate_bpm_mean',\n",
       "       'Heart_rate_bpm_std', 'Heart_rate_bpm_min', 'Heart_rate_bpm_max',\n",
       "       'Local_RMSSD_mean', 'Local_RMSSD_std', 'Local_RMSSD_min',\n",
       "       'Local_RMSSD_max', 'T_inversion_mean', 'T_inversion_sum',\n",
       "       'Premature_beat_sum', 'Bigeminy_sum', 'Trigeminy_sum', 'count_N',\n",
       "       'count_L', 'count_R', 'count_/', 'count_V', 'count_else', 'ratio_N',\n",
       "       'ratio_L', 'ratio_R', 'ratio_/', 'ratio_V', 'ratio_else',\n",
       "       'percent_T_inversion', 'QRS_prolonged_ratio', 'QT_prolonged_ratio',\n",
       "       'PVC_ratio', 'num_beats', 'std_Intervalle_RR_ms', 'Age', 'Sex', 'Dx',\n",
       "       'Class'],\n",
       "      dtype='object')"
      ]
     },
     "execution_count": 6,
     "metadata": {},
     "output_type": "execute_result"
    }
   ],
   "source": [
    "origin_comp_df.columns"
   ]
  },
  {
   "cell_type": "code",
   "execution_count": 7,
   "id": "7b709894",
   "metadata": {
    "execution": {
     "iopub.execute_input": "2025-05-30T07:46:57.517248Z",
     "iopub.status.busy": "2025-05-30T07:46:57.516838Z",
     "iopub.status.idle": "2025-05-30T07:46:57.530797Z",
     "shell.execute_reply": "2025-05-30T07:46:57.529920Z"
    },
    "papermill": {
     "duration": 0.025503,
     "end_time": "2025-05-30T07:46:57.532162",
     "exception": false,
     "start_time": "2025-05-30T07:46:57.506659",
     "status": "completed"
    },
    "tags": []
   },
   "outputs": [
    {
     "data": {
      "text/plain": [
       "Class\n",
       "2    40704\n",
       "0    28967\n",
       "1    18559\n",
       "Name: count, dtype: int64"
      ]
     },
     "execution_count": 7,
     "metadata": {},
     "output_type": "execute_result"
    }
   ],
   "source": [
    "origin_comp_df[\"Class\"].value_counts()"
   ]
  },
  {
   "cell_type": "markdown",
   "id": "1672130d",
   "metadata": {
    "papermill": {
     "duration": 0.008259,
     "end_time": "2025-05-30T07:46:57.549420",
     "exception": false,
     "start_time": "2025-05-30T07:46:57.541161",
     "status": "completed"
    },
    "tags": []
   },
   "source": [
    "# MIT-BIH norm"
   ]
  },
  {
   "cell_type": "code",
   "execution_count": 8,
   "id": "cb6de319",
   "metadata": {
    "execution": {
     "iopub.execute_input": "2025-05-30T07:46:57.567720Z",
     "iopub.status.busy": "2025-05-30T07:46:57.567357Z",
     "iopub.status.idle": "2025-05-30T07:46:58.265183Z",
     "shell.execute_reply": "2025-05-30T07:46:58.264255Z"
    },
    "papermill": {
     "duration": 0.709082,
     "end_time": "2025-05-30T07:46:58.266883",
     "exception": false,
     "start_time": "2025-05-30T07:46:57.557801",
     "status": "completed"
    },
    "tags": []
   },
   "outputs": [],
   "source": [
    "origin_mitbih_df = pd.read_csv(\"/kaggle/input/merge-norm-mitbih/norm-mit-signals-features.csv\") "
   ]
  },
  {
   "cell_type": "code",
   "execution_count": 9,
   "id": "d1126825",
   "metadata": {
    "execution": {
     "iopub.execute_input": "2025-05-30T07:46:58.286658Z",
     "iopub.status.busy": "2025-05-30T07:46:58.285509Z",
     "iopub.status.idle": "2025-05-30T07:46:58.293517Z",
     "shell.execute_reply": "2025-05-30T07:46:58.292723Z"
    },
    "papermill": {
     "duration": 0.019418,
     "end_time": "2025-05-30T07:46:58.295232",
     "exception": false,
     "start_time": "2025-05-30T07:46:58.275814",
     "status": "completed"
    },
    "tags": []
   },
   "outputs": [
    {
     "data": {
      "text/plain": [
       "Class\n",
       "0    20298\n",
       "Name: count, dtype: int64"
      ]
     },
     "execution_count": 9,
     "metadata": {},
     "output_type": "execute_result"
    }
   ],
   "source": [
    "origin_mitbih_df[\"Class\"].value_counts()\n"
   ]
  },
  {
   "cell_type": "markdown",
   "id": "ae915bca",
   "metadata": {
    "papermill": {
     "duration": 0.008654,
     "end_time": "2025-05-30T07:46:58.313221",
     "exception": false,
     "start_time": "2025-05-30T07:46:58.304567",
     "status": "completed"
    },
    "tags": []
   },
   "source": [
    "# ecg arr"
   ]
  },
  {
   "cell_type": "code",
   "execution_count": 10,
   "id": "f650b42f",
   "metadata": {
    "execution": {
     "iopub.execute_input": "2025-05-30T07:46:58.332058Z",
     "iopub.status.busy": "2025-05-30T07:46:58.331700Z",
     "iopub.status.idle": "2025-05-30T07:46:58.900075Z",
     "shell.execute_reply": "2025-05-30T07:46:58.899213Z"
    },
    "papermill": {
     "duration": 0.579689,
     "end_time": "2025-05-30T07:46:58.901700",
     "exception": false,
     "start_time": "2025-05-30T07:46:58.322011",
     "status": "completed"
    },
    "tags": []
   },
   "outputs": [
    {
     "data": {
      "text/plain": [
       "Class\n",
       "2    8342\n",
       "1    6810\n",
       "0    3301\n",
       "Name: count, dtype: int64"
      ]
     },
     "execution_count": 10,
     "metadata": {},
     "output_type": "execute_result"
    }
   ],
   "source": [
    "origin_ecgarr_df = pd.read_csv(\"/kaggle/input/merge-ecg-arrhythmia/ecg-arr-signals-features.csv\") \n",
    "\n",
    "origin_ecgarr_df[\"Class\"].value_counts()\n"
   ]
  },
  {
   "cell_type": "markdown",
   "id": "6ff33aff",
   "metadata": {
    "papermill": {
     "duration": 0.008674,
     "end_time": "2025-05-30T07:46:58.919754",
     "exception": false,
     "start_time": "2025-05-30T07:46:58.911080",
     "status": "completed"
    },
    "tags": []
   },
   "source": [
    "# challenge 2017\n"
   ]
  },
  {
   "cell_type": "code",
   "execution_count": 11,
   "id": "f17070d4",
   "metadata": {
    "execution": {
     "iopub.execute_input": "2025-05-30T07:46:58.939287Z",
     "iopub.status.busy": "2025-05-30T07:46:58.938492Z",
     "iopub.status.idle": "2025-05-30T07:46:59.208839Z",
     "shell.execute_reply": "2025-05-30T07:46:59.207916Z"
    },
    "papermill": {
     "duration": 0.281972,
     "end_time": "2025-05-30T07:46:59.210539",
     "exception": false,
     "start_time": "2025-05-30T07:46:58.928567",
     "status": "completed"
    },
    "tags": []
   },
   "outputs": [
    {
     "data": {
      "text/plain": [
       "8526"
      ]
     },
     "execution_count": 11,
     "metadata": {},
     "output_type": "execute_result"
    }
   ],
   "source": [
    "origin_ch2017_df = pd.read_csv(\"/kaggle/input/fork-of-merge-ecg-arrhythmia/challenge-2017-signals-features.csv\") \n",
    "len(origin_ch2017_df)\n"
   ]
  },
  {
   "cell_type": "code",
   "execution_count": 12,
   "id": "5cd1b86e",
   "metadata": {
    "execution": {
     "iopub.execute_input": "2025-05-30T07:46:59.230613Z",
     "iopub.status.busy": "2025-05-30T07:46:59.230289Z",
     "iopub.status.idle": "2025-05-30T07:46:59.253646Z",
     "shell.execute_reply": "2025-05-30T07:46:59.252736Z"
    },
    "papermill": {
     "duration": 0.035149,
     "end_time": "2025-05-30T07:46:59.255283",
     "exception": false,
     "start_time": "2025-05-30T07:46:59.220134",
     "status": "completed"
    },
    "tags": []
   },
   "outputs": [],
   "source": [
    "origin_ch2017_df['Class'] = origin_ch2017_df['type'].apply(lambda x: 0 if x == 'N' else 2)\n",
    "origin_ch2017_df = origin_ch2017_df.drop(columns=['type'])"
   ]
  },
  {
   "cell_type": "code",
   "execution_count": 13,
   "id": "aa7195e8",
   "metadata": {
    "execution": {
     "iopub.execute_input": "2025-05-30T07:46:59.275630Z",
     "iopub.status.busy": "2025-05-30T07:46:59.275309Z",
     "iopub.status.idle": "2025-05-30T07:46:59.282781Z",
     "shell.execute_reply": "2025-05-30T07:46:59.281912Z"
    },
    "papermill": {
     "duration": 0.01972,
     "end_time": "2025-05-30T07:46:59.284648",
     "exception": false,
     "start_time": "2025-05-30T07:46:59.264928",
     "status": "completed"
    },
    "tags": []
   },
   "outputs": [
    {
     "data": {
      "text/plain": [
       "Class\n",
       "0    5075\n",
       "2    3451\n",
       "Name: count, dtype: int64"
      ]
     },
     "execution_count": 13,
     "metadata": {},
     "output_type": "execute_result"
    }
   ],
   "source": [
    "origin_ch2017_df[\"Class\"].value_counts()"
   ]
  },
  {
   "cell_type": "markdown",
   "id": "959c5747",
   "metadata": {
    "papermill": {
     "duration": 0.009603,
     "end_time": "2025-05-30T07:46:59.304028",
     "exception": false,
     "start_time": "2025-05-30T07:46:59.294425",
     "status": "completed"
    },
    "tags": []
   },
   "source": [
    "# full data"
   ]
  },
  {
   "cell_type": "code",
   "execution_count": 14,
   "id": "022ddad1",
   "metadata": {
    "execution": {
     "iopub.execute_input": "2025-05-30T07:46:59.389877Z",
     "iopub.status.busy": "2025-05-30T07:46:59.389512Z",
     "iopub.status.idle": "2025-05-30T07:46:59.441252Z",
     "shell.execute_reply": "2025-05-30T07:46:59.440261Z"
    },
    "papermill": {
     "duration": 0.12954,
     "end_time": "2025-05-30T07:46:59.442850",
     "exception": false,
     "start_time": "2025-05-30T07:46:59.313310",
     "status": "completed"
    },
    "tags": []
   },
   "outputs": [],
   "source": [
    "arr3 = [origin_comp_df,origin_mitbih_df]\n",
    "#arr3 = [origin_comp_df]\n",
    "\n",
    "sign_df = pd.concat(arr3, ignore_index=True)"
   ]
  },
  {
   "cell_type": "code",
   "execution_count": 15,
   "id": "48640feb",
   "metadata": {
    "execution": {
     "iopub.execute_input": "2025-05-30T07:46:59.462799Z",
     "iopub.status.busy": "2025-05-30T07:46:59.462438Z",
     "iopub.status.idle": "2025-05-30T07:46:59.534285Z",
     "shell.execute_reply": "2025-05-30T07:46:59.533403Z"
    },
    "papermill": {
     "duration": 0.083745,
     "end_time": "2025-05-30T07:46:59.535976",
     "exception": false,
     "start_time": "2025-05-30T07:46:59.452231",
     "status": "completed"
    },
    "tags": []
   },
   "outputs": [],
   "source": [
    "arr4 = [origin_comp_df,origin_mitbih_df,origin_ecgarr_df,origin_ch2017_df]\n",
    "#arr3 = [origin_comp_df]\n",
    "\n",
    "sign_df2 = pd.concat(arr4, ignore_index=True)"
   ]
  },
  {
   "cell_type": "code",
   "execution_count": 16,
   "id": "2064f642",
   "metadata": {
    "execution": {
     "iopub.execute_input": "2025-05-30T07:46:59.555850Z",
     "iopub.status.busy": "2025-05-30T07:46:59.555540Z",
     "iopub.status.idle": "2025-05-30T07:46:59.720497Z",
     "shell.execute_reply": "2025-05-30T07:46:59.719223Z"
    },
    "papermill": {
     "duration": 0.176973,
     "end_time": "2025-05-30T07:46:59.722275",
     "exception": false,
     "start_time": "2025-05-30T07:46:59.545302",
     "status": "completed"
    },
    "tags": []
   },
   "outputs": [
    {
     "name": "stderr",
     "output_type": "stream",
     "text": [
      "/usr/local/lib/python3.11/dist-packages/pandas/io/formats/format.py:1458: RuntimeWarning: invalid value encountered in greater\n",
      "  has_large_values = (abs_vals > 1e6).any()\n",
      "/usr/local/lib/python3.11/dist-packages/pandas/io/formats/format.py:1459: RuntimeWarning: invalid value encountered in less\n",
      "  has_small_values = ((abs_vals < 10 ** (-self.digits)) & (abs_vals > 0)).any()\n",
      "/usr/local/lib/python3.11/dist-packages/pandas/io/formats/format.py:1459: RuntimeWarning: invalid value encountered in greater\n",
      "  has_small_values = ((abs_vals < 10 ** (-self.digits)) & (abs_vals > 0)).any()\n",
      "/usr/local/lib/python3.11/dist-packages/pandas/io/formats/format.py:1458: RuntimeWarning: invalid value encountered in greater\n",
      "  has_large_values = (abs_vals > 1e6).any()\n",
      "/usr/local/lib/python3.11/dist-packages/pandas/io/formats/format.py:1459: RuntimeWarning: invalid value encountered in less\n",
      "  has_small_values = ((abs_vals < 10 ** (-self.digits)) & (abs_vals > 0)).any()\n",
      "/usr/local/lib/python3.11/dist-packages/pandas/io/formats/format.py:1459: RuntimeWarning: invalid value encountered in greater\n",
      "  has_small_values = ((abs_vals < 10 ** (-self.digits)) & (abs_vals > 0)).any()\n"
     ]
    },
    {
     "data": {
      "text/html": [
       "<div>\n",
       "<style scoped>\n",
       "    .dataframe tbody tr th:only-of-type {\n",
       "        vertical-align: middle;\n",
       "    }\n",
       "\n",
       "    .dataframe tbody tr th {\n",
       "        vertical-align: top;\n",
       "    }\n",
       "\n",
       "    .dataframe thead th {\n",
       "        text-align: right;\n",
       "    }\n",
       "</style>\n",
       "<table border=\"1\" class=\"dataframe\">\n",
       "  <thead>\n",
       "    <tr style=\"text-align: right;\">\n",
       "      <th></th>\n",
       "      <th>record_name</th>\n",
       "      <th>Duree_QRS_ms_mean</th>\n",
       "      <th>Duree_QRS_ms_std</th>\n",
       "      <th>Duree_QRS_ms_min</th>\n",
       "      <th>Duree_QRS_ms_max</th>\n",
       "      <th>Duree_P_ms_mean</th>\n",
       "      <th>Duree_P_ms_std</th>\n",
       "      <th>Duree_P_ms_min</th>\n",
       "      <th>Duree_P_ms_max</th>\n",
       "      <th>Duree_T_ms_mean</th>\n",
       "      <th>...</th>\n",
       "      <th>percent_T_inversion</th>\n",
       "      <th>QRS_prolonged_ratio</th>\n",
       "      <th>QT_prolonged_ratio</th>\n",
       "      <th>PVC_ratio</th>\n",
       "      <th>num_beats</th>\n",
       "      <th>std_Intervalle_RR_ms</th>\n",
       "      <th>Age</th>\n",
       "      <th>Sex</th>\n",
       "      <th>Dx</th>\n",
       "      <th>Class</th>\n",
       "    </tr>\n",
       "  </thead>\n",
       "  <tbody>\n",
       "    <tr>\n",
       "      <th>60</th>\n",
       "      <td>training/ningbo/g34/JS44620</td>\n",
       "      <td>360.000000</td>\n",
       "      <td>NaN</td>\n",
       "      <td>360.0</td>\n",
       "      <td>360.0</td>\n",
       "      <td>96.000000</td>\n",
       "      <td>NaN</td>\n",
       "      <td>96.0</td>\n",
       "      <td>96.0</td>\n",
       "      <td>340.000000</td>\n",
       "      <td>...</td>\n",
       "      <td>1.000000</td>\n",
       "      <td>1.0</td>\n",
       "      <td>1.000000</td>\n",
       "      <td>0.000000</td>\n",
       "      <td>1</td>\n",
       "      <td>NaN</td>\n",
       "      <td>23.0</td>\n",
       "      <td>Male</td>\n",
       "      <td>['427084000']</td>\n",
       "      <td>2</td>\n",
       "    </tr>\n",
       "    <tr>\n",
       "      <th>908</th>\n",
       "      <td>training/ningbo/g35/JS45471</td>\n",
       "      <td>258.000000</td>\n",
       "      <td>268.700577</td>\n",
       "      <td>68.0</td>\n",
       "      <td>448.0</td>\n",
       "      <td>292.000000</td>\n",
       "      <td>118.793939</td>\n",
       "      <td>208.0</td>\n",
       "      <td>376.0</td>\n",
       "      <td>424.000000</td>\n",
       "      <td>...</td>\n",
       "      <td>1.000000</td>\n",
       "      <td>0.5</td>\n",
       "      <td>0.500000</td>\n",
       "      <td>0.000000</td>\n",
       "      <td>2</td>\n",
       "      <td>NaN</td>\n",
       "      <td>50.0</td>\n",
       "      <td>Female</td>\n",
       "      <td>['164896001']</td>\n",
       "      <td>2</td>\n",
       "    </tr>\n",
       "    <tr>\n",
       "      <th>981</th>\n",
       "      <td>training/ningbo/g35/JS45545</td>\n",
       "      <td>142.000000</td>\n",
       "      <td>82.024387</td>\n",
       "      <td>84.0</td>\n",
       "      <td>200.0</td>\n",
       "      <td>224.000000</td>\n",
       "      <td>0.000000</td>\n",
       "      <td>224.0</td>\n",
       "      <td>224.0</td>\n",
       "      <td>174.000000</td>\n",
       "      <td>...</td>\n",
       "      <td>0.000000</td>\n",
       "      <td>0.5</td>\n",
       "      <td>0.500000</td>\n",
       "      <td>0.000000</td>\n",
       "      <td>2</td>\n",
       "      <td>NaN</td>\n",
       "      <td>37.0</td>\n",
       "      <td>Male</td>\n",
       "      <td>['425856008']</td>\n",
       "      <td>2</td>\n",
       "    </tr>\n",
       "    <tr>\n",
       "      <th>1215</th>\n",
       "      <td>training/ningbo/g4/JS13873</td>\n",
       "      <td>240.000000</td>\n",
       "      <td>NaN</td>\n",
       "      <td>240.0</td>\n",
       "      <td>240.0</td>\n",
       "      <td>296.000000</td>\n",
       "      <td>NaN</td>\n",
       "      <td>296.0</td>\n",
       "      <td>296.0</td>\n",
       "      <td>176.000000</td>\n",
       "      <td>...</td>\n",
       "      <td>1.000000</td>\n",
       "      <td>1.0</td>\n",
       "      <td>1.000000</td>\n",
       "      <td>0.000000</td>\n",
       "      <td>1</td>\n",
       "      <td>NaN</td>\n",
       "      <td>67.0</td>\n",
       "      <td>Female</td>\n",
       "      <td>['164890007', '39732003']</td>\n",
       "      <td>2</td>\n",
       "    </tr>\n",
       "    <tr>\n",
       "      <th>1672</th>\n",
       "      <td>training/ningbo/g4/JS14330</td>\n",
       "      <td>336.000000</td>\n",
       "      <td>NaN</td>\n",
       "      <td>336.0</td>\n",
       "      <td>336.0</td>\n",
       "      <td>0.000000</td>\n",
       "      <td>NaN</td>\n",
       "      <td>0.0</td>\n",
       "      <td>0.0</td>\n",
       "      <td>280.000000</td>\n",
       "      <td>...</td>\n",
       "      <td>1.000000</td>\n",
       "      <td>1.0</td>\n",
       "      <td>1.000000</td>\n",
       "      <td>0.000000</td>\n",
       "      <td>1</td>\n",
       "      <td>NaN</td>\n",
       "      <td>80.0</td>\n",
       "      <td>Male</td>\n",
       "      <td>['164890007', '10370003']</td>\n",
       "      <td>2</td>\n",
       "    </tr>\n",
       "    <tr>\n",
       "      <th>...</th>\n",
       "      <td>...</td>\n",
       "      <td>...</td>\n",
       "      <td>...</td>\n",
       "      <td>...</td>\n",
       "      <td>...</td>\n",
       "      <td>...</td>\n",
       "      <td>...</td>\n",
       "      <td>...</td>\n",
       "      <td>...</td>\n",
       "      <td>...</td>\n",
       "      <td>...</td>\n",
       "      <td>...</td>\n",
       "      <td>...</td>\n",
       "      <td>...</td>\n",
       "      <td>...</td>\n",
       "      <td>...</td>\n",
       "      <td>...</td>\n",
       "      <td>...</td>\n",
       "      <td>...</td>\n",
       "      <td>...</td>\n",
       "      <td>...</td>\n",
       "    </tr>\n",
       "    <tr>\n",
       "      <th>135502</th>\n",
       "      <td>A08/A08524</td>\n",
       "      <td>183.000000</td>\n",
       "      <td>26.239591</td>\n",
       "      <td>148.0</td>\n",
       "      <td>260.0</td>\n",
       "      <td>90.875000</td>\n",
       "      <td>121.781335</td>\n",
       "      <td>0.0</td>\n",
       "      <td>472.0</td>\n",
       "      <td>174.375000</td>\n",
       "      <td>...</td>\n",
       "      <td>0.500000</td>\n",
       "      <td>1.0</td>\n",
       "      <td>0.468750</td>\n",
       "      <td>0.000000</td>\n",
       "      <td>32</td>\n",
       "      <td>224.230757</td>\n",
       "      <td>NaN</td>\n",
       "      <td>NaN</td>\n",
       "      <td>NaN</td>\n",
       "      <td>0</td>\n",
       "    </tr>\n",
       "    <tr>\n",
       "      <th>135503</th>\n",
       "      <td>A08/A08525</td>\n",
       "      <td>236.666667</td>\n",
       "      <td>28.978265</td>\n",
       "      <td>136.0</td>\n",
       "      <td>296.0</td>\n",
       "      <td>48.476190</td>\n",
       "      <td>62.345707</td>\n",
       "      <td>0.0</td>\n",
       "      <td>224.0</td>\n",
       "      <td>189.047619</td>\n",
       "      <td>...</td>\n",
       "      <td>0.904762</td>\n",
       "      <td>1.0</td>\n",
       "      <td>0.166667</td>\n",
       "      <td>0.142857</td>\n",
       "      <td>42</td>\n",
       "      <td>122.062599</td>\n",
       "      <td>NaN</td>\n",
       "      <td>NaN</td>\n",
       "      <td>NaN</td>\n",
       "      <td>2</td>\n",
       "    </tr>\n",
       "    <tr>\n",
       "      <th>135504</th>\n",
       "      <td>A08/A08526</td>\n",
       "      <td>187.047619</td>\n",
       "      <td>34.801845</td>\n",
       "      <td>140.0</td>\n",
       "      <td>252.0</td>\n",
       "      <td>155.238095</td>\n",
       "      <td>59.298258</td>\n",
       "      <td>80.0</td>\n",
       "      <td>368.0</td>\n",
       "      <td>190.761905</td>\n",
       "      <td>...</td>\n",
       "      <td>0.047619</td>\n",
       "      <td>1.0</td>\n",
       "      <td>0.190476</td>\n",
       "      <td>0.000000</td>\n",
       "      <td>42</td>\n",
       "      <td>63.126509</td>\n",
       "      <td>NaN</td>\n",
       "      <td>NaN</td>\n",
       "      <td>NaN</td>\n",
       "      <td>0</td>\n",
       "    </tr>\n",
       "    <tr>\n",
       "      <th>135505</th>\n",
       "      <td>A08/A08527</td>\n",
       "      <td>242.956522</td>\n",
       "      <td>63.969075</td>\n",
       "      <td>140.0</td>\n",
       "      <td>428.0</td>\n",
       "      <td>118.869565</td>\n",
       "      <td>74.755485</td>\n",
       "      <td>0.0</td>\n",
       "      <td>248.0</td>\n",
       "      <td>127.304348</td>\n",
       "      <td>...</td>\n",
       "      <td>0.282609</td>\n",
       "      <td>1.0</td>\n",
       "      <td>0.217391</td>\n",
       "      <td>0.021739</td>\n",
       "      <td>46</td>\n",
       "      <td>148.400931</td>\n",
       "      <td>NaN</td>\n",
       "      <td>NaN</td>\n",
       "      <td>NaN</td>\n",
       "      <td>0</td>\n",
       "    </tr>\n",
       "    <tr>\n",
       "      <th>135506</th>\n",
       "      <td>A08/A08528</td>\n",
       "      <td>168.645161</td>\n",
       "      <td>28.380214</td>\n",
       "      <td>136.0</td>\n",
       "      <td>248.0</td>\n",
       "      <td>162.838710</td>\n",
       "      <td>68.330128</td>\n",
       "      <td>96.0</td>\n",
       "      <td>304.0</td>\n",
       "      <td>215.741935</td>\n",
       "      <td>...</td>\n",
       "      <td>0.064516</td>\n",
       "      <td>1.0</td>\n",
       "      <td>0.225806</td>\n",
       "      <td>0.000000</td>\n",
       "      <td>31</td>\n",
       "      <td>32.508602</td>\n",
       "      <td>NaN</td>\n",
       "      <td>NaN</td>\n",
       "      <td>NaN</td>\n",
       "      <td>0</td>\n",
       "    </tr>\n",
       "  </tbody>\n",
       "</table>\n",
       "<p>8650 rows × 100 columns</p>\n",
       "</div>"
      ],
      "text/plain": [
       "                        record_name  Duree_QRS_ms_mean  Duree_QRS_ms_std  \\\n",
       "60      training/ningbo/g34/JS44620         360.000000               NaN   \n",
       "908     training/ningbo/g35/JS45471         258.000000        268.700577   \n",
       "981     training/ningbo/g35/JS45545         142.000000         82.024387   \n",
       "1215     training/ningbo/g4/JS13873         240.000000               NaN   \n",
       "1672     training/ningbo/g4/JS14330         336.000000               NaN   \n",
       "...                             ...                ...               ...   \n",
       "135502                   A08/A08524         183.000000         26.239591   \n",
       "135503                   A08/A08525         236.666667         28.978265   \n",
       "135504                   A08/A08526         187.047619         34.801845   \n",
       "135505                   A08/A08527         242.956522         63.969075   \n",
       "135506                   A08/A08528         168.645161         28.380214   \n",
       "\n",
       "        Duree_QRS_ms_min  Duree_QRS_ms_max  Duree_P_ms_mean  Duree_P_ms_std  \\\n",
       "60                 360.0             360.0        96.000000             NaN   \n",
       "908                 68.0             448.0       292.000000      118.793939   \n",
       "981                 84.0             200.0       224.000000        0.000000   \n",
       "1215               240.0             240.0       296.000000             NaN   \n",
       "1672               336.0             336.0         0.000000             NaN   \n",
       "...                  ...               ...              ...             ...   \n",
       "135502             148.0             260.0        90.875000      121.781335   \n",
       "135503             136.0             296.0        48.476190       62.345707   \n",
       "135504             140.0             252.0       155.238095       59.298258   \n",
       "135505             140.0             428.0       118.869565       74.755485   \n",
       "135506             136.0             248.0       162.838710       68.330128   \n",
       "\n",
       "        Duree_P_ms_min  Duree_P_ms_max  Duree_T_ms_mean  ...  \\\n",
       "60                96.0            96.0       340.000000  ...   \n",
       "908              208.0           376.0       424.000000  ...   \n",
       "981              224.0           224.0       174.000000  ...   \n",
       "1215             296.0           296.0       176.000000  ...   \n",
       "1672               0.0             0.0       280.000000  ...   \n",
       "...                ...             ...              ...  ...   \n",
       "135502             0.0           472.0       174.375000  ...   \n",
       "135503             0.0           224.0       189.047619  ...   \n",
       "135504            80.0           368.0       190.761905  ...   \n",
       "135505             0.0           248.0       127.304348  ...   \n",
       "135506            96.0           304.0       215.741935  ...   \n",
       "\n",
       "        percent_T_inversion  QRS_prolonged_ratio  QT_prolonged_ratio  \\\n",
       "60                 1.000000                  1.0            1.000000   \n",
       "908                1.000000                  0.5            0.500000   \n",
       "981                0.000000                  0.5            0.500000   \n",
       "1215               1.000000                  1.0            1.000000   \n",
       "1672               1.000000                  1.0            1.000000   \n",
       "...                     ...                  ...                 ...   \n",
       "135502             0.500000                  1.0            0.468750   \n",
       "135503             0.904762                  1.0            0.166667   \n",
       "135504             0.047619                  1.0            0.190476   \n",
       "135505             0.282609                  1.0            0.217391   \n",
       "135506             0.064516                  1.0            0.225806   \n",
       "\n",
       "        PVC_ratio  num_beats  std_Intervalle_RR_ms   Age     Sex  \\\n",
       "60       0.000000          1                   NaN  23.0    Male   \n",
       "908      0.000000          2                   NaN  50.0  Female   \n",
       "981      0.000000          2                   NaN  37.0    Male   \n",
       "1215     0.000000          1                   NaN  67.0  Female   \n",
       "1672     0.000000          1                   NaN  80.0    Male   \n",
       "...           ...        ...                   ...   ...     ...   \n",
       "135502   0.000000         32            224.230757   NaN     NaN   \n",
       "135503   0.142857         42            122.062599   NaN     NaN   \n",
       "135504   0.000000         42             63.126509   NaN     NaN   \n",
       "135505   0.021739         46            148.400931   NaN     NaN   \n",
       "135506   0.000000         31             32.508602   NaN     NaN   \n",
       "\n",
       "                               Dx  Class  \n",
       "60                  ['427084000']      2  \n",
       "908                 ['164896001']      2  \n",
       "981                 ['425856008']      2  \n",
       "1215    ['164890007', '39732003']      2  \n",
       "1672    ['164890007', '10370003']      2  \n",
       "...                           ...    ...  \n",
       "135502                        NaN      0  \n",
       "135503                        NaN      2  \n",
       "135504                        NaN      0  \n",
       "135505                        NaN      0  \n",
       "135506                        NaN      0  \n",
       "\n",
       "[8650 rows x 100 columns]"
      ]
     },
     "execution_count": 16,
     "metadata": {},
     "output_type": "execute_result"
    }
   ],
   "source": [
    "# check null except age and sex\n",
    "mask = sign_df2.drop(columns=[\"Age\", \"Sex\"]).isnull().any(axis=1)\n",
    "df_with_nulls = sign_df2[mask]\n",
    "df_with_nulls"
   ]
  },
  {
   "cell_type": "code",
   "execution_count": 17,
   "id": "956ca040",
   "metadata": {
    "execution": {
     "iopub.execute_input": "2025-05-30T07:46:59.743579Z",
     "iopub.status.busy": "2025-05-30T07:46:59.743277Z",
     "iopub.status.idle": "2025-05-30T07:46:59.751610Z",
     "shell.execute_reply": "2025-05-30T07:46:59.750687Z"
    },
    "papermill": {
     "duration": 0.020572,
     "end_time": "2025-05-30T07:46:59.753018",
     "exception": false,
     "start_time": "2025-05-30T07:46:59.732446",
     "status": "completed"
    },
    "tags": []
   },
   "outputs": [
    {
     "data": {
      "text/plain": [
       "Class\n",
       "0    57641\n",
       "2    52497\n",
       "1    25369\n",
       "Name: count, dtype: int64"
      ]
     },
     "execution_count": 17,
     "metadata": {},
     "output_type": "execute_result"
    }
   ],
   "source": [
    "sign_df2[\"Class\"].value_counts()"
   ]
  },
  {
   "cell_type": "markdown",
   "id": "c05e8c0a",
   "metadata": {
    "papermill": {
     "duration": 0.009419,
     "end_time": "2025-05-30T07:46:59.772433",
     "exception": false,
     "start_time": "2025-05-30T07:46:59.763014",
     "status": "completed"
    },
    "tags": []
   },
   "source": [
    "# training"
   ]
  },
  {
   "cell_type": "code",
   "execution_count": 18,
   "id": "f75ffc9d",
   "metadata": {
    "execution": {
     "iopub.execute_input": "2025-05-30T07:46:59.793440Z",
     "iopub.status.busy": "2025-05-30T07:46:59.793133Z",
     "iopub.status.idle": "2025-05-30T07:46:59.801235Z",
     "shell.execute_reply": "2025-05-30T07:46:59.800401Z"
    },
    "papermill": {
     "duration": 0.020462,
     "end_time": "2025-05-30T07:46:59.802575",
     "exception": false,
     "start_time": "2025-05-30T07:46:59.782113",
     "status": "completed"
    },
    "tags": []
   },
   "outputs": [
    {
     "data": {
      "text/plain": [
       "Class\n",
       "0    57641\n",
       "2    52497\n",
       "1    25369\n",
       "Name: count, dtype: int64"
      ]
     },
     "execution_count": 18,
     "metadata": {},
     "output_type": "execute_result"
    }
   ],
   "source": [
    "\n",
    "df_full = sign_df2\n",
    "df_full[\"Class\"].value_counts()\n"
   ]
  },
  {
   "cell_type": "code",
   "execution_count": 19,
   "id": "ff6c0d70",
   "metadata": {
    "execution": {
     "iopub.execute_input": "2025-05-30T07:46:59.823924Z",
     "iopub.status.busy": "2025-05-30T07:46:59.823610Z",
     "iopub.status.idle": "2025-05-30T07:46:59.924407Z",
     "shell.execute_reply": "2025-05-30T07:46:59.923556Z"
    },
    "papermill": {
     "duration": 0.113806,
     "end_time": "2025-05-30T07:46:59.926374",
     "exception": false,
     "start_time": "2025-05-30T07:46:59.812568",
     "status": "completed"
    },
    "tags": []
   },
   "outputs": [],
   "source": [
    "\n",
    "mask = df_full.drop(columns=[\"Age\", \"Sex\"]).isnull().any(axis=1)\n",
    "df_with_nulls = df_full[mask]"
   ]
  },
  {
   "cell_type": "code",
   "execution_count": 20,
   "id": "cdfd6aa2",
   "metadata": {
    "execution": {
     "iopub.execute_input": "2025-05-30T07:46:59.948816Z",
     "iopub.status.busy": "2025-05-30T07:46:59.947922Z",
     "iopub.status.idle": "2025-05-30T07:47:00.192448Z",
     "shell.execute_reply": "2025-05-30T07:47:00.191553Z"
    },
    "papermill": {
     "duration": 0.257028,
     "end_time": "2025-05-30T07:47:00.193827",
     "exception": false,
     "start_time": "2025-05-30T07:46:59.936799",
     "status": "completed"
    },
    "tags": []
   },
   "outputs": [
    {
     "data": {
      "text/plain": [
       "Class\n",
       "0    52488\n",
       "2    49002\n",
       "1    25367\n",
       "Name: count, dtype: int64"
      ]
     },
     "execution_count": 20,
     "metadata": {},
     "output_type": "execute_result"
    }
   ],
   "source": [
    "# Drop those rows from the original dataframe\n",
    "df_full = df_full[~mask].reset_index(drop=True)\n",
    "\n",
    "df_full[\"Class\"].value_counts()"
   ]
  },
  {
   "cell_type": "code",
   "execution_count": 21,
   "id": "2b2cd452",
   "metadata": {
    "execution": {
     "iopub.execute_input": "2025-05-30T07:47:00.215294Z",
     "iopub.status.busy": "2025-05-30T07:47:00.214903Z",
     "iopub.status.idle": "2025-05-30T07:47:00.225296Z",
     "shell.execute_reply": "2025-05-30T07:47:00.224320Z"
    },
    "papermill": {
     "duration": 0.022614,
     "end_time": "2025-05-30T07:47:00.226676",
     "exception": false,
     "start_time": "2025-05-30T07:47:00.204062",
     "status": "completed"
    },
    "tags": []
   },
   "outputs": [
    {
     "data": {
      "text/plain": [
       "Class\n",
       "1    74369\n",
       "0    52488\n",
       "Name: count, dtype: int64"
      ]
     },
     "execution_count": 21,
     "metadata": {},
     "output_type": "execute_result"
    }
   ],
   "source": [
    "df_full['Class'] = df_full['Class'].replace(2, 1)\n",
    "df_balanced = df_full\n",
    "\n",
    "df_full[\"Class\"].value_counts()"
   ]
  },
  {
   "cell_type": "code",
   "execution_count": 22,
   "id": "dd04e5a1",
   "metadata": {
    "execution": {
     "iopub.execute_input": "2025-05-30T07:47:00.248404Z",
     "iopub.status.busy": "2025-05-30T07:47:00.247468Z",
     "iopub.status.idle": "2025-05-30T07:47:00.254058Z",
     "shell.execute_reply": "2025-05-30T07:47:00.253158Z"
    },
    "papermill": {
     "duration": 0.018711,
     "end_time": "2025-05-30T07:47:00.255351",
     "exception": false,
     "start_time": "2025-05-30T07:47:00.236640",
     "status": "completed"
    },
    "tags": []
   },
   "outputs": [
    {
     "data": {
      "text/plain": [
       "\"\\ndf = df_full\\n# Separate the two classes\\ndf_major = df[df['Class'] == 1]\\ndf_minor = df[df['Class'] == 0]\\n\\n# Downsample the majority class\\ndf_major_downsampled = resample(df_major,\\n                                replace=False,     # without replacement\\n                                n_samples=len(df_minor),\\n                                random_state=42)   # reproducibility\\n\\n# Combine balanced dataset\\ndf_balanced = pd.concat([df_major_downsampled, df_minor])\\ndf_balanced = df_balanced.sample(frac=1, random_state=42).reset_index(drop=True)\\n\""
      ]
     },
     "execution_count": 22,
     "metadata": {},
     "output_type": "execute_result"
    }
   ],
   "source": [
    "from sklearn.utils import resample\n",
    "'''\n",
    "df = df_full\n",
    "# Separate the two classes\n",
    "df_major = df[df['Class'] == 1]\n",
    "df_minor = df[df['Class'] == 0]\n",
    "\n",
    "# Downsample the majority class\n",
    "df_major_downsampled = resample(df_major,\n",
    "                                replace=False,     # without replacement\n",
    "                                n_samples=len(df_minor),\n",
    "                                random_state=42)   # reproducibility\n",
    "\n",
    "# Combine balanced dataset\n",
    "df_balanced = pd.concat([df_major_downsampled, df_minor])\n",
    "df_balanced = df_balanced.sample(frac=1, random_state=42).reset_index(drop=True)\n",
    "'''\n",
    "# balancing"
   ]
  },
  {
   "cell_type": "code",
   "execution_count": 23,
   "id": "380e1774",
   "metadata": {
    "execution": {
     "iopub.execute_input": "2025-05-30T07:47:00.277034Z",
     "iopub.status.busy": "2025-05-30T07:47:00.276672Z",
     "iopub.status.idle": "2025-05-30T07:47:00.684329Z",
     "shell.execute_reply": "2025-05-30T07:47:00.683262Z"
    },
    "papermill": {
     "duration": 0.420486,
     "end_time": "2025-05-30T07:47:00.685948",
     "exception": false,
     "start_time": "2025-05-30T07:47:00.265462",
     "status": "completed"
    },
    "tags": []
   },
   "outputs": [
    {
     "name": "stdout",
     "output_type": "stream",
     "text": [
      "Class\n",
      "1    74369\n",
      "0    52488\n",
      "Name: count, dtype: int64\n",
      "Index(['Duree_QRS_ms_mean', 'Duree_QRS_ms_std', 'Duree_QRS_ms_min',\n",
      "       'Duree_QRS_ms_max', 'Duree_P_ms_mean', 'Duree_P_ms_std',\n",
      "       'Duree_P_ms_min', 'Duree_P_ms_max', 'Duree_T_ms_mean', 'Duree_T_ms_std',\n",
      "       'Duree_T_ms_min', 'Duree_T_ms_max', 'Intervalle_QT_ms_mean',\n",
      "       'Intervalle_QT_ms_std', 'Intervalle_QT_ms_min', 'Intervalle_QT_ms_max',\n",
      "       'Intervalle_PR_ms_mean', 'Intervalle_PR_ms_std', 'Intervalle_PR_ms_min',\n",
      "       'Intervalle_PR_ms_max', 'Intervalle_ST_ms_mean', 'Intervalle_ST_ms_std',\n",
      "       'Intervalle_ST_ms_min', 'Intervalle_ST_ms_max', 'Amplitude_P_mean',\n",
      "       'Amplitude_P_std', 'Amplitude_P_min', 'Amplitude_P_max',\n",
      "       'Amplitude_Q_mean', 'Amplitude_Q_std', 'Amplitude_Q_min',\n",
      "       'Amplitude_Q_max', 'Amplitude_R_mean', 'Amplitude_R_std',\n",
      "       'Amplitude_R_min', 'Amplitude_R_max', 'Amplitude_S_mean',\n",
      "       'Amplitude_S_std', 'Amplitude_S_min', 'Amplitude_S_max',\n",
      "       'Amplitude_T_mean', 'Amplitude_T_std', 'Amplitude_T_min',\n",
      "       'Amplitude_T_max', 'T/R_ratio_mean', 'T/R_ratio_std', 'T/R_ratio_min',\n",
      "       'T/R_ratio_max', 'P/R_ratio_mean', 'P/R_ratio_std', 'P/R_ratio_min',\n",
      "       'P/R_ratio_max', 'QRS_area_mean', 'QRS_area_std', 'QRS_area_min',\n",
      "       'QRS_area_max', 'Slope_QR_mean', 'Slope_QR_std', 'Slope_QR_min',\n",
      "       'Slope_QR_max', 'Slope_RS_mean', 'Slope_RS_std', 'Slope_RS_min',\n",
      "       'Slope_RS_max', 'Heart_rate_bpm_mean', 'Heart_rate_bpm_std',\n",
      "       'Heart_rate_bpm_min', 'Heart_rate_bpm_max', 'Local_RMSSD_mean',\n",
      "       'Local_RMSSD_std', 'Local_RMSSD_min', 'Local_RMSSD_max',\n",
      "       'T_inversion_mean', 'T_inversion_sum', 'Premature_beat_sum',\n",
      "       'Bigeminy_sum', 'Trigeminy_sum', 'count_N', 'count_L', 'count_R',\n",
      "       'count_/', 'count_V', 'count_else', 'ratio_N', 'ratio_L', 'ratio_R',\n",
      "       'ratio_/', 'ratio_V', 'ratio_else', 'percent_T_inversion',\n",
      "       'QRS_prolonged_ratio', 'QT_prolonged_ratio', 'PVC_ratio', 'num_beats',\n",
      "       'std_Intervalle_RR_ms'],\n",
      "      dtype='object')\n"
     ]
    }
   ],
   "source": [
    "import pandas as pd\n",
    "from sklearn.model_selection import train_test_split\n",
    "from sklearn.ensemble import RandomForestClassifier\n",
    "from sklearn.metrics import classification_report, accuracy_score , confusion_matrix\n",
    "\n",
    "# Assuming df_full already has the 'is_normal' column for classification\n",
    "# Define X and y\n",
    "X = df_balanced.drop(columns=['record_name','Sex','Age',\"Dx\",'Class'])  # Features: exclude 'is_normal' column\n",
    "\n",
    "y = df_balanced['Class']  # Target: 'is_normal'\n",
    "print(y.value_counts())\n",
    "print(X.columns)\n",
    "# Split the data into training and testing sets (80% training, 20% testing)\n",
    "X_train, X_test, y_train, y_test = train_test_split(X, y, test_size=0.2, random_state=42)\n",
    "\n"
   ]
  },
  {
   "cell_type": "code",
   "execution_count": 24,
   "id": "adeb84d9",
   "metadata": {
    "execution": {
     "iopub.execute_input": "2025-05-30T07:47:00.709083Z",
     "iopub.status.busy": "2025-05-30T07:47:00.707718Z",
     "iopub.status.idle": "2025-05-30T07:49:09.574881Z",
     "shell.execute_reply": "2025-05-30T07:49:09.574043Z"
    },
    "papermill": {
     "duration": 128.890712,
     "end_time": "2025-05-30T07:49:09.587129",
     "exception": false,
     "start_time": "2025-05-30T07:47:00.696417",
     "status": "completed"
    },
    "tags": []
   },
   "outputs": [
    {
     "name": "stdout",
     "output_type": "stream",
     "text": [
      "Accuracy: 0.9077\n",
      "Classification Report:\n",
      "              precision    recall  f1-score   support\n",
      "\n",
      "           0       0.92      0.85      0.89     10564\n",
      "           1       0.90      0.95      0.92     14808\n",
      "\n",
      "    accuracy                           0.91     25372\n",
      "   macro avg       0.91      0.90      0.90     25372\n",
      "weighted avg       0.91      0.91      0.91     25372\n",
      "\n",
      "[[ 9022  1542]\n",
      " [  799 14009]]\n"
     ]
    }
   ],
   "source": [
    "\n",
    "# Initialize a RandomForestClassifier\n",
    "rf_clf =  RandomForestClassifier(n_estimators=100, class_weight='balanced', random_state=42)\n",
    "\n",
    "# Train the model\n",
    "rf_clf.fit(X_train, y_train)\n",
    "\n",
    "# Make predictions on the test set\n",
    "y_pred = rf_clf.predict(X_test)\n",
    "\n",
    "# Evaluate the model\n",
    "print(f\"Accuracy: {accuracy_score(y_test, y_pred):.4f}\")\n",
    "print(\"Classification Report:\")\n",
    "print(classification_report(y_test, y_pred))\n",
    "print(confusion_matrix(y_test, y_pred))\n"
   ]
  },
  {
   "cell_type": "code",
   "execution_count": 25,
   "id": "4b742883",
   "metadata": {
    "execution": {
     "iopub.execute_input": "2025-05-30T07:49:09.609263Z",
     "iopub.status.busy": "2025-05-30T07:49:09.608980Z",
     "iopub.status.idle": "2025-05-30T07:49:09.865408Z",
     "shell.execute_reply": "2025-05-30T07:49:09.864590Z"
    },
    "papermill": {
     "duration": 0.269289,
     "end_time": "2025-05-30T07:49:09.866680",
     "exception": false,
     "start_time": "2025-05-30T07:49:09.597391",
     "status": "completed"
    },
    "tags": []
   },
   "outputs": [
    {
     "data": {
      "image/png": "[encoded data removed]",
      "text/plain": [
       "<Figure size 640x480 with 1 Axes>"
      ]
     },
     "metadata": {},
     "output_type": "display_data"
    }
   ],
   "source": [
    "import matplotlib.pyplot as plt\n",
    "from sklearn.metrics import precision_recall_curve\n",
    "\n",
    "precision, recall, thresholds = precision_recall_curve(y_test, y_pred)\n",
    "\n",
    "plt.plot(thresholds, precision[:-1], label=\"Precision\")\n",
    "plt.plot(thresholds, recall[:-1], label=\"Recall\")\n",
    "plt.xlabel(\"Threshold\")\n",
    "plt.legend()\n",
    "plt.title(\"Precision-Recall vs Threshold\")\n",
    "plt.grid()\n",
    "plt.show()\n"
   ]
  },
  {
   "cell_type": "code",
   "execution_count": 26,
   "id": "9f377ac7",
   "metadata": {
    "execution": {
     "iopub.execute_input": "2025-05-30T07:49:09.889624Z",
     "iopub.status.busy": "2025-05-30T07:49:09.889302Z",
     "iopub.status.idle": "2025-05-30T07:49:10.323740Z",
     "shell.execute_reply": "2025-05-30T07:49:10.322941Z"
    },
    "papermill": {
     "duration": 0.447681,
     "end_time": "2025-05-30T07:49:10.325474",
     "exception": false,
     "start_time": "2025-05-30T07:49:09.877793",
     "status": "completed"
    },
    "tags": []
   },
   "outputs": [
    {
     "data": {
      "image/png": "[encoded data removed]",
      "text/plain": [
       "<Figure size 640x480 with 1 Axes>"
      ]
     },
     "metadata": {},
     "output_type": "display_data"
    }
   ],
   "source": [
    "import pandas as pd\n",
    "import matplotlib.pyplot as plt\n",
    "\n",
    "importances = rf_clf.feature_importances_\n",
    "feature_names = X_train.columns\n",
    "feat_imp = pd.Series(importances, index=feature_names).sort_values(ascending=False)\n",
    "\n",
    "# Top 20 features\n",
    "feat_imp.head(30).plot(kind='barh', title='Top 20 Feature Importances')\n",
    "plt.gca().invert_yaxis()\n",
    "plt.tight_layout()\n",
    "plt.show()\n"
   ]
  },
  {
   "cell_type": "code",
   "execution_count": 27,
   "id": "a1974458",
   "metadata": {
    "execution": {
     "iopub.execute_input": "2025-05-30T07:49:10.351799Z",
     "iopub.status.busy": "2025-05-30T07:49:10.351037Z",
     "iopub.status.idle": "2025-05-30T07:49:10.537744Z",
     "shell.execute_reply": "2025-05-30T07:49:10.536923Z"
    },
    "papermill": {
     "duration": 0.200925,
     "end_time": "2025-05-30T07:49:10.539159",
     "exception": false,
     "start_time": "2025-05-30T07:49:10.338234",
     "status": "completed"
    },
    "tags": []
   },
   "outputs": [
    {
     "data": {
      "image/png": "[encoded data removed]",
      "text/plain": [
       "<Figure size 640x480 with 1 Axes>"
      ]
     },
     "metadata": {},
     "output_type": "display_data"
    }
   ],
   "source": [
    "from sklearn.metrics import roc_auc_score, roc_curve\n",
    "\n",
    "roc_auc = roc_auc_score(y_test, y_pred)\n",
    "fpr, tpr, _ = roc_curve(y_test, y_pred)\n",
    "\n",
    "plt.plot(fpr, tpr, label=f'ROC Curve (AUC = {roc_auc:.2f})')\n",
    "plt.plot([0, 1], [0, 1], 'k--')  # Diagonal line\n",
    "plt.xlabel('False Positive Rate')\n",
    "plt.ylabel('True Positive Rate')\n",
    "plt.title('Receiver Operating Characteristic')\n",
    "plt.legend()\n",
    "plt.grid()\n",
    "plt.show()\n"
   ]
  },
  {
   "cell_type": "code",
   "execution_count": 28,
   "id": "919eab32",
   "metadata": {
    "execution": {
     "iopub.execute_input": "2025-05-30T07:49:10.566293Z",
     "iopub.status.busy": "2025-05-30T07:49:10.565688Z",
     "iopub.status.idle": "2025-05-30T07:49:10.699691Z",
     "shell.execute_reply": "2025-05-30T07:49:10.698749Z"
    },
    "papermill": {
     "duration": 0.149251,
     "end_time": "2025-05-30T07:49:10.701346",
     "exception": false,
     "start_time": "2025-05-30T07:49:10.552095",
     "status": "completed"
    },
    "tags": []
   },
   "outputs": [
    {
     "name": "stdout",
     "output_type": "stream",
     "text": [
      "Model saved successfully!\n"
     ]
    }
   ],
   "source": [
    "import joblib\n",
    "\n",
    "# Save model\n",
    "joblib.dump(rf_clf, 'normal_vs_abnormal_model.pkl')\n",
    "print(\"Model saved successfully!\")"
   ]
  },
  {
   "cell_type": "markdown",
   "id": "5fc9e734",
   "metadata": {
    "papermill": {
     "duration": 0.013357,
     "end_time": "2025-05-30T07:49:10.728436",
     "exception": false,
     "start_time": "2025-05-30T07:49:10.715079",
     "status": "completed"
    },
    "tags": []
   },
   "source": [
    "# SB"
   ]
  },
  {
   "cell_type": "code",
   "execution_count": 29,
   "id": "1fed1bc4",
   "metadata": {
    "execution": {
     "iopub.execute_input": "2025-05-30T07:49:10.755604Z",
     "iopub.status.busy": "2025-05-30T07:49:10.755312Z",
     "iopub.status.idle": "2025-05-30T07:49:10.946687Z",
     "shell.execute_reply": "2025-05-30T07:49:10.945761Z"
    },
    "papermill": {
     "duration": 0.20664,
     "end_time": "2025-05-30T07:49:10.948158",
     "exception": false,
     "start_time": "2025-05-30T07:49:10.741518",
     "status": "completed"
    },
    "tags": []
   },
   "outputs": [
    {
     "name": "stdout",
     "output_type": "stream",
     "text": [
      "Class\n",
      "1    40526\n",
      "0    18551\n",
      "Name: count, dtype: int64\n"
     ]
    }
   ],
   "source": [
    "df = sign_df\n",
    "df = df.dropna()\n",
    "df = df[df['Class'] != 0].reset_index(drop=True)\n",
    "df['Class'] = df['Class'].replace(1, 0)\n",
    "df['Class'] = df['Class'].replace(2, 1)\n",
    "\n",
    "\n",
    "print(df['Class'].value_counts())\n",
    "df_balanced = df"
   ]
  },
  {
   "cell_type": "code",
   "execution_count": 30,
   "id": "07661186",
   "metadata": {
    "execution": {
     "iopub.execute_input": "2025-05-30T07:49:10.976434Z",
     "iopub.status.busy": "2025-05-30T07:49:10.976134Z",
     "iopub.status.idle": "2025-05-30T07:49:11.033739Z",
     "shell.execute_reply": "2025-05-30T07:49:11.032824Z"
    },
    "papermill": {
     "duration": 0.073288,
     "end_time": "2025-05-30T07:49:11.035076",
     "exception": false,
     "start_time": "2025-05-30T07:49:10.961788",
     "status": "completed"
    },
    "tags": []
   },
   "outputs": [
    {
     "name": "stdout",
     "output_type": "stream",
     "text": [
      "Class\n",
      "1    40526\n",
      "0    18551\n",
      "Name: count, dtype: int64\n"
     ]
    }
   ],
   "source": [
    "import pandas as pd\n",
    "from sklearn.model_selection import train_test_split\n",
    "from sklearn.ensemble import RandomForestClassifier\n",
    "from sklearn.metrics import classification_report, accuracy_score\n",
    "\n",
    "# Assuming df_full already has the 'is_normal' column for classification\n",
    "# Define X and y\n",
    "X = df_balanced.drop(columns=['record_name','Sex','Age',\"Dx\",'Class'])  # Features: exclude 'is_normal' column\n",
    "y = df_balanced['Class']  # Target: 'is_normal'\n",
    "print(y.value_counts())\n",
    "# Split the data into training and testing sets (80% training, 20% testing)\n",
    "X_train, X_test, y_train, y_test = train_test_split(X, y, test_size=0.2, random_state=42)\n",
    "\n"
   ]
  },
  {
   "cell_type": "code",
   "execution_count": 31,
   "id": "5903a6b5",
   "metadata": {
    "execution": {
     "iopub.execute_input": "2025-05-30T07:49:11.062621Z",
     "iopub.status.busy": "2025-05-30T07:49:11.062340Z",
     "iopub.status.idle": "2025-05-30T07:49:57.474696Z",
     "shell.execute_reply": "2025-05-30T07:49:57.473940Z"
    },
    "papermill": {
     "duration": 46.44078,
     "end_time": "2025-05-30T07:49:57.489213",
     "exception": false,
     "start_time": "2025-05-30T07:49:11.048433",
     "status": "completed"
    },
    "tags": []
   },
   "outputs": [
    {
     "name": "stdout",
     "output_type": "stream",
     "text": [
      "Accuracy: 0.9719\n",
      "Classification Report:\n",
      "              precision    recall  f1-score   support\n",
      "\n",
      "           0       0.95      0.96      0.96      3671\n",
      "           1       0.98      0.98      0.98      8145\n",
      "\n",
      "    accuracy                           0.97     11816\n",
      "   macro avg       0.97      0.97      0.97     11816\n",
      "weighted avg       0.97      0.97      0.97     11816\n",
      "\n",
      "[[3527  144]\n",
      " [ 188 7957]]\n"
     ]
    }
   ],
   "source": [
    "\n",
    "# Initialize a RandomForestClassifier\n",
    "rf_clf = RandomForestClassifier(n_estimators=100, random_state=42)\n",
    "\n",
    "# Train the model\n",
    "rf_clf.fit(X_train, y_train)\n",
    "\n",
    "# Make predictions on the test set\n",
    "y_pred = rf_clf.predict(X_test)\n",
    "\n",
    "# Evaluate the model\n",
    "print(f\"Accuracy: {accuracy_score(y_test, y_pred):.4f}\")\n",
    "print(\"Classification Report:\")\n",
    "print(classification_report(y_test, y_pred))\n",
    "print(confusion_matrix(y_test, y_pred))"
   ]
  },
  {
   "cell_type": "code",
   "execution_count": 32,
   "id": "e4895314",
   "metadata": {
    "execution": {
     "iopub.execute_input": "2025-05-30T07:49:57.515660Z",
     "iopub.status.busy": "2025-05-30T07:49:57.515398Z",
     "iopub.status.idle": "2025-05-30T07:49:57.567486Z",
     "shell.execute_reply": "2025-05-30T07:49:57.566404Z"
    },
    "papermill": {
     "duration": 0.066939,
     "end_time": "2025-05-30T07:49:57.568937",
     "exception": false,
     "start_time": "2025-05-30T07:49:57.501998",
     "status": "completed"
    },
    "tags": []
   },
   "outputs": [
    {
     "name": "stdout",
     "output_type": "stream",
     "text": [
      "Model saved successfully!\n"
     ]
    }
   ],
   "source": [
    "import joblib\n",
    "\n",
    "# Save model\n",
    "joblib.dump(rf_clf, 'sb_vs_else_model.pkl')\n",
    "print(\"Model saved successfully!\")"
   ]
  },
  {
   "cell_type": "markdown",
   "id": "5a6293af",
   "metadata": {
    "papermill": {
     "duration": 0.012956,
     "end_time": "2025-05-30T07:49:57.595105",
     "exception": false,
     "start_time": "2025-05-30T07:49:57.582149",
     "status": "completed"
    },
    "tags": []
   },
   "source": [
    "# 3 classes"
   ]
  },
  {
   "cell_type": "code",
   "execution_count": 33,
   "id": "95a8c25d",
   "metadata": {
    "execution": {
     "iopub.execute_input": "2025-05-30T07:49:57.623465Z",
     "iopub.status.busy": "2025-05-30T07:49:57.622814Z",
     "iopub.status.idle": "2025-05-30T07:49:57.786358Z",
     "shell.execute_reply": "2025-05-30T07:49:57.785575Z"
    },
    "papermill": {
     "duration": 0.178922,
     "end_time": "2025-05-30T07:49:57.787850",
     "exception": false,
     "start_time": "2025-05-30T07:49:57.608928",
     "status": "completed"
    },
    "tags": []
   },
   "outputs": [
    {
     "name": "stdout",
     "output_type": "stream",
     "text": [
      "Class\n",
      "2    40526\n",
      "0    28881\n",
      "1    18551\n",
      "Name: count, dtype: int64\n"
     ]
    }
   ],
   "source": [
    "\n",
    "import pandas as pd\n",
    "from sklearn.model_selection import train_test_split\n",
    "from sklearn.ensemble import RandomForestClassifier\n",
    "from sklearn.metrics import classification_report, accuracy_score\n",
    "\n",
    "df = sign_df\n",
    "df = df.dropna()\n",
    "df_balanced = df\n",
    "# Assuming df_full already has the 'is_normal' column for classification\n",
    "# Define X and y\n",
    "X = df_balanced.drop(columns=['record_name','Sex','Age',\"Dx\",'Class'])  \n",
    "y = df_balanced['Class']  # Target: 'is_normal'\n",
    "print(y.value_counts())\n",
    "# Split the data into training and testing sets (80% training, 20% testing)\n",
    "X_train, X_test, y_train, y_test = train_test_split(X, y, test_size=0.2, random_state=42)\n",
    "y_train = y_train.astype(int)\n",
    "y_test = y_test.astype(int)\n",
    "\n"
   ]
  },
  {
   "cell_type": "code",
   "execution_count": 34,
   "id": "bfb9b60f",
   "metadata": {
    "execution": {
     "iopub.execute_input": "2025-05-30T07:49:57.815840Z",
     "iopub.status.busy": "2025-05-30T07:49:57.815137Z",
     "iopub.status.idle": "2025-05-30T07:51:26.978986Z",
     "shell.execute_reply": "2025-05-30T07:51:26.978098Z"
    },
    "papermill": {
     "duration": 89.192533,
     "end_time": "2025-05-30T07:51:26.993849",
     "exception": false,
     "start_time": "2025-05-30T07:49:57.801316",
     "status": "completed"
    },
    "tags": []
   },
   "outputs": [
    {
     "name": "stdout",
     "output_type": "stream",
     "text": [
      "Accuracy: 0.8419\n",
      "Classification Report:\n",
      "              precision    recall  f1-score   support\n",
      "\n",
      "           0       0.82      0.74      0.77      5756\n",
      "           1       0.83      0.95      0.88      3711\n",
      "           2       0.87      0.87      0.87      8125\n",
      "\n",
      "    accuracy                           0.84     17592\n",
      "   macro avg       0.84      0.85      0.84     17592\n",
      "weighted avg       0.84      0.84      0.84     17592\n",
      "\n"
     ]
    }
   ],
   "source": [
    "\n",
    "# Initialize a RandomForestClassifier\n",
    "rf_clf = RandomForestClassifier(n_estimators=100, random_state=42)\n",
    "\n",
    "# Train the model\n",
    "rf_clf.fit(X_train, y_train)\n",
    "\n",
    "# Make predictions on the test set\n",
    "y_pred = rf_clf.predict(X_test)\n",
    "\n",
    "# Evaluate the model\n",
    "print(f\"Accuracy: {accuracy_score(y_test, y_pred):.4f}\")\n",
    "print(\"Classification Report:\")\n",
    "print(classification_report(y_test, y_pred))"
   ]
  },
  {
   "cell_type": "markdown",
   "id": "24e78816",
   "metadata": {
    "papermill": {
     "duration": 0.013217,
     "end_time": "2025-05-30T07:51:27.020619",
     "exception": false,
     "start_time": "2025-05-30T07:51:27.007402",
     "status": "completed"
    },
    "tags": []
   },
   "source": [
    "# MLP"
   ]
  },
  {
   "cell_type": "code",
   "execution_count": 35,
   "id": "5cf3d4e8",
   "metadata": {
    "execution": {
     "iopub.execute_input": "2025-05-30T07:51:27.048644Z",
     "iopub.status.busy": "2025-05-30T07:51:27.048022Z",
     "iopub.status.idle": "2025-05-30T07:51:27.122313Z",
     "shell.execute_reply": "2025-05-30T07:51:27.121256Z"
    },
    "papermill": {
     "duration": 0.090071,
     "end_time": "2025-05-30T07:51:27.123908",
     "exception": false,
     "start_time": "2025-05-30T07:51:27.033837",
     "status": "completed"
    },
    "tags": []
   },
   "outputs": [],
   "source": [
    "\n",
    "df_full = sign_df\n",
    "df_full[\"Class\"].value_counts()\n",
    "\n",
    "mask = df_full.drop(columns=[\"Age\", \"Sex\"]).isnull().any(axis=1)\n",
    "df_with_nulls = df_full[mask]"
   ]
  },
  {
   "cell_type": "code",
   "execution_count": 36,
   "id": "31c39588",
   "metadata": {
    "execution": {
     "iopub.execute_input": "2025-05-30T07:51:27.153471Z",
     "iopub.status.busy": "2025-05-30T07:51:27.153196Z",
     "iopub.status.idle": "2025-05-30T07:51:27.306837Z",
     "shell.execute_reply": "2025-05-30T07:51:27.306138Z"
    },
    "papermill": {
     "duration": 0.169946,
     "end_time": "2025-05-30T07:51:27.308211",
     "exception": false,
     "start_time": "2025-05-30T07:51:27.138265",
     "status": "completed"
    },
    "tags": []
   },
   "outputs": [
    {
     "data": {
      "text/plain": [
       "Class\n",
       "0    49187\n",
       "2    40670\n",
       "1    18557\n",
       "Name: count, dtype: int64"
      ]
     },
     "execution_count": 36,
     "metadata": {},
     "output_type": "execute_result"
    }
   ],
   "source": [
    "# Drop those rows from the original dataframe\n",
    "df_full = df_full[~mask].reset_index(drop=True)\n",
    "\n",
    "df_full[\"Class\"].value_counts()"
   ]
  },
  {
   "cell_type": "code",
   "execution_count": 37,
   "id": "18e2fa9e",
   "metadata": {
    "execution": {
     "iopub.execute_input": "2025-05-30T07:51:27.335724Z",
     "iopub.status.busy": "2025-05-30T07:51:27.335450Z",
     "iopub.status.idle": "2025-05-30T07:51:27.343633Z",
     "shell.execute_reply": "2025-05-30T07:51:27.342994Z"
    },
    "papermill": {
     "duration": 0.023146,
     "end_time": "2025-05-30T07:51:27.344746",
     "exception": false,
     "start_time": "2025-05-30T07:51:27.321600",
     "status": "completed"
    },
    "tags": []
   },
   "outputs": [
    {
     "data": {
      "text/plain": [
       "Class\n",
       "1    59227\n",
       "0    49187\n",
       "Name: count, dtype: int64"
      ]
     },
     "execution_count": 37,
     "metadata": {},
     "output_type": "execute_result"
    }
   ],
   "source": [
    "df_full['Class'] = df_full['Class'].replace(2, 1)\n",
    "df_balanced = df_full\n",
    "\n",
    "df_full[\"Class\"].value_counts()"
   ]
  },
  {
   "cell_type": "code",
   "execution_count": 38,
   "id": "aa8e5923",
   "metadata": {
    "execution": {
     "iopub.execute_input": "2025-05-30T07:51:27.373186Z",
     "iopub.status.busy": "2025-05-30T07:51:27.372847Z",
     "iopub.status.idle": "2025-05-30T08:01:39.881416Z",
     "shell.execute_reply": "2025-05-30T08:01:39.880612Z"
    },
    "papermill": {
     "duration": 612.538589,
     "end_time": "2025-05-30T08:01:39.897069",
     "exception": false,
     "start_time": "2025-05-30T07:51:27.358480",
     "status": "completed"
    },
    "tags": []
   },
   "outputs": [
    {
     "name": "stderr",
     "output_type": "stream",
     "text": [
      "/usr/local/lib/python3.11/dist-packages/sklearn/neural_network/_multilayer_perceptron.py:691: ConvergenceWarning: Stochastic Optimizer: Maximum iterations (200) reached and the optimization hasn't converged yet.\n",
      "  warnings.warn(\n"
     ]
    },
    {
     "data": {
      "text/html": [
       "<style>#sk-container-id-1 {\n",
       "  /* Definition of color scheme common for light and dark mode */\n",
       "  --sklearn-color-text: #000;\n",
       "  --sklearn-color-text-muted: #666;\n",
       "  --sklearn-color-line: gray;\n",
       "  /* Definition of color scheme for unfitted estimators */\n",
       "  --sklearn-color-unfitted-level-0: #fff5e6;\n",
       "  --sklearn-color-unfitted-level-1: #f6e4d2;\n",
       "  --sklearn-color-unfitted-level-2: #ffe0b3;\n",
       "  --sklearn-color-unfitted-level-3: chocolate;\n",
       "  /* Definition of color scheme for fitted estimators */\n",
       "  --sklearn-color-fitted-level-0: #f0f8ff;\n",
       "  --sklearn-color-fitted-level-1: #d4ebff;\n",
       "  --sklearn-color-fitted-level-2: #b3dbfd;\n",
       "  --sklearn-color-fitted-level-3: cornflowerblue;\n",
       "\n",
       "  /* Specific color for light theme */\n",
       "  --sklearn-color-text-on-default-background: var(--sg-text-color, var(--theme-code-foreground, var(--jp-content-font-color1, black)));\n",
       "  --sklearn-color-background: var(--sg-background-color, var(--theme-background, var(--jp-layout-color0, white)));\n",
       "  --sklearn-color-border-box: var(--sg-text-color, var(--theme-code-foreground, var(--jp-content-font-color1, black)));\n",
       "  --sklearn-color-icon: #696969;\n",
       "\n",
       "  @media (prefers-color-scheme: dark) {\n",
       "    /* Redefinition of color scheme for dark theme */\n",
       "    --sklearn-color-text-on-default-background: var(--sg-text-color, var(--theme-code-foreground, var(--jp-content-font-color1, white)));\n",
       "    --sklearn-color-background: var(--sg-background-color, var(--theme-background, var(--jp-layout-color0, #111)));\n",
       "    --sklearn-color-border-box: var(--sg-text-color, var(--theme-code-foreground, var(--jp-content-font-color1, white)));\n",
       "    --sklearn-color-icon: #878787;\n",
       "  }\n",
       "}\n",
       "\n",
       "#sk-container-id-1 {\n",
       "  color: var(--sklearn-color-text);\n",
       "}\n",
       "\n",
       "#sk-container-id-1 pre {\n",
       "  padding: 0;\n",
       "}\n",
       "\n",
       "#sk-container-id-1 input.sk-hidden--visually {\n",
       "  border: 0;\n",
       "  clip: rect(1px 1px 1px 1px);\n",
       "  clip: rect(1px, 1px, 1px, 1px);\n",
       "  height: 1px;\n",
       "  margin: -1px;\n",
       "  overflow: hidden;\n",
       "  padding: 0;\n",
       "  position: absolute;\n",
       "  width: 1px;\n",
       "}\n",
       "\n",
       "#sk-container-id-1 div.sk-dashed-wrapped {\n",
       "  border: 1px dashed var(--sklearn-color-line);\n",
       "  margin: 0 0.4em 0.5em 0.4em;\n",
       "  box-sizing: border-box;\n",
       "  padding-bottom: 0.4em;\n",
       "  background-color: var(--sklearn-color-background);\n",
       "}\n",
       "\n",
       "#sk-container-id-1 div.sk-container {\n",
       "  /* jupyter's `normalize.less` sets `[hidden] { display: none; }`\n",
       "     but bootstrap.min.css set `[hidden] { display: none !important; }`\n",
       "     so we also need the `!important` here to be able to override the\n",
       "     default hidden behavior on the sphinx rendered scikit-learn.org.\n",
       "     See: https://github.com/scikit-learn/scikit-learn/issues/21755 */\n",
       "  display: inline-block !important;\n",
       "  position: relative;\n",
       "}\n",
       "\n",
       "#sk-container-id-1 div.sk-text-repr-fallback {\n",
       "  display: none;\n",
       "}\n",
       "\n",
       "div.sk-parallel-item,\n",
       "div.sk-serial,\n",
       "div.sk-item {\n",
       "  /* draw centered vertical line to link estimators */\n",
       "  background-image: linear-gradient(var(--sklearn-color-text-on-default-background), var(--sklearn-color-text-on-default-background));\n",
       "  background-size: 2px 100%;\n",
       "  background-repeat: no-repeat;\n",
       "  background-position: center center;\n",
       "}\n",
       "\n",
       "/* Parallel-specific style estimator block */\n",
       "\n",
       "#sk-container-id-1 div.sk-parallel-item::after {\n",
       "  content: \"\";\n",
       "  width: 100%;\n",
       "  border-bottom: 2px solid var(--sklearn-color-text-on-default-background);\n",
       "  flex-grow: 1;\n",
       "}\n",
       "\n",
       "#sk-container-id-1 div.sk-parallel {\n",
       "  display: flex;\n",
       "  align-items: stretch;\n",
       "  justify-content: center;\n",
       "  background-color: var(--sklearn-color-background);\n",
       "  position: relative;\n",
       "}\n",
       "\n",
       "#sk-container-id-1 div.sk-parallel-item {\n",
       "  display: flex;\n",
       "  flex-direction: column;\n",
       "}\n",
       "\n",
       "#sk-container-id-1 div.sk-parallel-item:first-child::after {\n",
       "  align-self: flex-end;\n",
       "  width: 50%;\n",
       "}\n",
       "\n",
       "#sk-container-id-1 div.sk-parallel-item:last-child::after {\n",
       "  align-self: flex-start;\n",
       "  width: 50%;\n",
       "}\n",
       "\n",
       "#sk-container-id-1 div.sk-parallel-item:only-child::after {\n",
       "  width: 0;\n",
       "}\n",
       "\n",
       "/* Serial-specific style estimator block */\n",
       "\n",
       "#sk-container-id-1 div.sk-serial {\n",
       "  display: flex;\n",
       "  flex-direction: column;\n",
       "  align-items: center;\n",
       "  background-color: var(--sklearn-color-background);\n",
       "  padding-right: 1em;\n",
       "  padding-left: 1em;\n",
       "}\n",
       "\n",
       "\n",
       "/* Toggleable style: style used for estimator/Pipeline/ColumnTransformer box that is\n",
       "clickable and can be expanded/collapsed.\n",
       "- Pipeline and ColumnTransformer use this feature and define the default style\n",
       "- Estimators will overwrite some part of the style using the `sk-estimator` class\n",
       "*/\n",
       "\n",
       "/* Pipeline and ColumnTransformer style (default) */\n",
       "\n",
       "#sk-container-id-1 div.sk-toggleable {\n",
       "  /* Default theme specific background. It is overwritten whether we have a\n",
       "  specific estimator or a Pipeline/ColumnTransformer */\n",
       "  background-color: var(--sklearn-color-background);\n",
       "}\n",
       "\n",
       "/* Toggleable label */\n",
       "#sk-container-id-1 label.sk-toggleable__label {\n",
       "  cursor: pointer;\n",
       "  display: flex;\n",
       "  width: 100%;\n",
       "  margin-bottom: 0;\n",
       "  padding: 0.5em;\n",
       "  box-sizing: border-box;\n",
       "  text-align: center;\n",
       "  align-items: start;\n",
       "  justify-content: space-between;\n",
       "  gap: 0.5em;\n",
       "}\n",
       "\n",
       "#sk-container-id-1 label.sk-toggleable__label .caption {\n",
       "  font-size: 0.6rem;\n",
       "  font-weight: lighter;\n",
       "  color: var(--sklearn-color-text-muted);\n",
       "}\n",
       "\n",
       "#sk-container-id-1 label.sk-toggleable__label-arrow:before {\n",
       "  /* Arrow on the left of the label */\n",
       "  content: \"▸\";\n",
       "  float: left;\n",
       "  margin-right: 0.25em;\n",
       "  color: var(--sklearn-color-icon);\n",
       "}\n",
       "\n",
       "#sk-container-id-1 label.sk-toggleable__label-arrow:hover:before {\n",
       "  color: var(--sklearn-color-text);\n",
       "}\n",
       "\n",
       "/* Toggleable content - dropdown */\n",
       "\n",
       "#sk-container-id-1 div.sk-toggleable__content {\n",
       "  max-height: 0;\n",
       "  max-width: 0;\n",
       "  overflow: hidden;\n",
       "  text-align: left;\n",
       "  /* unfitted */\n",
       "  background-color: var(--sklearn-color-unfitted-level-0);\n",
       "}\n",
       "\n",
       "#sk-container-id-1 div.sk-toggleable__content.fitted {\n",
       "  /* fitted */\n",
       "  background-color: var(--sklearn-color-fitted-level-0);\n",
       "}\n",
       "\n",
       "#sk-container-id-1 div.sk-toggleable__content pre {\n",
       "  margin: 0.2em;\n",
       "  border-radius: 0.25em;\n",
       "  color: var(--sklearn-color-text);\n",
       "  /* unfitted */\n",
       "  background-color: var(--sklearn-color-unfitted-level-0);\n",
       "}\n",
       "\n",
       "#sk-container-id-1 div.sk-toggleable__content.fitted pre {\n",
       "  /* unfitted */\n",
       "  background-color: var(--sklearn-color-fitted-level-0);\n",
       "}\n",
       "\n",
       "#sk-container-id-1 input.sk-toggleable__control:checked~div.sk-toggleable__content {\n",
       "  /* Expand drop-down */\n",
       "  max-height: 200px;\n",
       "  max-width: 100%;\n",
       "  overflow: auto;\n",
       "}\n",
       "\n",
       "#sk-container-id-1 input.sk-toggleable__control:checked~label.sk-toggleable__label-arrow:before {\n",
       "  content: \"▾\";\n",
       "}\n",
       "\n",
       "/* Pipeline/ColumnTransformer-specific style */\n",
       "\n",
       "#sk-container-id-1 div.sk-label input.sk-toggleable__control:checked~label.sk-toggleable__label {\n",
       "  color: var(--sklearn-color-text);\n",
       "  background-color: var(--sklearn-color-unfitted-level-2);\n",
       "}\n",
       "\n",
       "#sk-container-id-1 div.sk-label.fitted input.sk-toggleable__control:checked~label.sk-toggleable__label {\n",
       "  background-color: var(--sklearn-color-fitted-level-2);\n",
       "}\n",
       "\n",
       "/* Estimator-specific style */\n",
       "\n",
       "/* Colorize estimator box */\n",
       "#sk-container-id-1 div.sk-estimator input.sk-toggleable__control:checked~label.sk-toggleable__label {\n",
       "  /* unfitted */\n",
       "  background-color: var(--sklearn-color-unfitted-level-2);\n",
       "}\n",
       "\n",
       "#sk-container-id-1 div.sk-estimator.fitted input.sk-toggleable__control:checked~label.sk-toggleable__label {\n",
       "  /* fitted */\n",
       "  background-color: var(--sklearn-color-fitted-level-2);\n",
       "}\n",
       "\n",
       "#sk-container-id-1 div.sk-label label.sk-toggleable__label,\n",
       "#sk-container-id-1 div.sk-label label {\n",
       "  /* The background is the default theme color */\n",
       "  color: var(--sklearn-color-text-on-default-background);\n",
       "}\n",
       "\n",
       "/* On hover, darken the color of the background */\n",
       "#sk-container-id-1 div.sk-label:hover label.sk-toggleable__label {\n",
       "  color: var(--sklearn-color-text);\n",
       "  background-color: var(--sklearn-color-unfitted-level-2);\n",
       "}\n",
       "\n",
       "/* Label box, darken color on hover, fitted */\n",
       "#sk-container-id-1 div.sk-label.fitted:hover label.sk-toggleable__label.fitted {\n",
       "  color: var(--sklearn-color-text);\n",
       "  background-color: var(--sklearn-color-fitted-level-2);\n",
       "}\n",
       "\n",
       "/* Estimator label */\n",
       "\n",
       "#sk-container-id-1 div.sk-label label {\n",
       "  font-family: monospace;\n",
       "  font-weight: bold;\n",
       "  display: inline-block;\n",
       "  line-height: 1.2em;\n",
       "}\n",
       "\n",
       "#sk-container-id-1 div.sk-label-container {\n",
       "  text-align: center;\n",
       "}\n",
       "\n",
       "/* Estimator-specific */\n",
       "#sk-container-id-1 div.sk-estimator {\n",
       "  font-family: monospace;\n",
       "  border: 1px dotted var(--sklearn-color-border-box);\n",
       "  border-radius: 0.25em;\n",
       "  box-sizing: border-box;\n",
       "  margin-bottom: 0.5em;\n",
       "  /* unfitted */\n",
       "  background-color: var(--sklearn-color-unfitted-level-0);\n",
       "}\n",
       "\n",
       "#sk-container-id-1 div.sk-estimator.fitted {\n",
       "  /* fitted */\n",
       "  background-color: var(--sklearn-color-fitted-level-0);\n",
       "}\n",
       "\n",
       "/* on hover */\n",
       "#sk-container-id-1 div.sk-estimator:hover {\n",
       "  /* unfitted */\n",
       "  background-color: var(--sklearn-color-unfitted-level-2);\n",
       "}\n",
       "\n",
       "#sk-container-id-1 div.sk-estimator.fitted:hover {\n",
       "  /* fitted */\n",
       "  background-color: var(--sklearn-color-fitted-level-2);\n",
       "}\n",
       "\n",
       "/* Specification for estimator info (e.g. \"i\" and \"?\") */\n",
       "\n",
       "/* Common style for \"i\" and \"?\" */\n",
       "\n",
       ".sk-estimator-doc-link,\n",
       "a:link.sk-estimator-doc-link,\n",
       "a:visited.sk-estimator-doc-link {\n",
       "  float: right;\n",
       "  font-size: smaller;\n",
       "  line-height: 1em;\n",
       "  font-family: monospace;\n",
       "  background-color: var(--sklearn-color-background);\n",
       "  border-radius: 1em;\n",
       "  height: 1em;\n",
       "  width: 1em;\n",
       "  text-decoration: none !important;\n",
       "  margin-left: 0.5em;\n",
       "  text-align: center;\n",
       "  /* unfitted */\n",
       "  border: var(--sklearn-color-unfitted-level-1) 1pt solid;\n",
       "  color: var(--sklearn-color-unfitted-level-1);\n",
       "}\n",
       "\n",
       ".sk-estimator-doc-link.fitted,\n",
       "a:link.sk-estimator-doc-link.fitted,\n",
       "a:visited.sk-estimator-doc-link.fitted {\n",
       "  /* fitted */\n",
       "  border: var(--sklearn-color-fitted-level-1) 1pt solid;\n",
       "  color: var(--sklearn-color-fitted-level-1);\n",
       "}\n",
       "\n",
       "/* On hover */\n",
       "div.sk-estimator:hover .sk-estimator-doc-link:hover,\n",
       ".sk-estimator-doc-link:hover,\n",
       "div.sk-label-container:hover .sk-estimator-doc-link:hover,\n",
       ".sk-estimator-doc-link:hover {\n",
       "  /* unfitted */\n",
       "  background-color: var(--sklearn-color-unfitted-level-3);\n",
       "  color: var(--sklearn-color-background);\n",
       "  text-decoration: none;\n",
       "}\n",
       "\n",
       "div.sk-estimator.fitted:hover .sk-estimator-doc-link.fitted:hover,\n",
       ".sk-estimator-doc-link.fitted:hover,\n",
       "div.sk-label-container:hover .sk-estimator-doc-link.fitted:hover,\n",
       ".sk-estimator-doc-link.fitted:hover {\n",
       "  /* fitted */\n",
       "  background-color: var(--sklearn-color-fitted-level-3);\n",
       "  color: var(--sklearn-color-background);\n",
       "  text-decoration: none;\n",
       "}\n",
       "\n",
       "/* Span, style for the box shown on hovering the info icon */\n",
       ".sk-estimator-doc-link span {\n",
       "  display: none;\n",
       "  z-index: 9999;\n",
       "  position: relative;\n",
       "  font-weight: normal;\n",
       "  right: .2ex;\n",
       "  padding: .5ex;\n",
       "  margin: .5ex;\n",
       "  width: min-content;\n",
       "  min-width: 20ex;\n",
       "  max-width: 50ex;\n",
       "  color: var(--sklearn-color-text);\n",
       "  box-shadow: 2pt 2pt 4pt #999;\n",
       "  /* unfitted */\n",
       "  background: var(--sklearn-color-unfitted-level-0);\n",
       "  border: .5pt solid var(--sklearn-color-unfitted-level-3);\n",
       "}\n",
       "\n",
       ".sk-estimator-doc-link.fitted span {\n",
       "  /* fitted */\n",
       "  background: var(--sklearn-color-fitted-level-0);\n",
       "  border: var(--sklearn-color-fitted-level-3);\n",
       "}\n",
       "\n",
       ".sk-estimator-doc-link:hover span {\n",
       "  display: block;\n",
       "}\n",
       "\n",
       "/* \"?\"-specific style due to the `<a>` HTML tag */\n",
       "\n",
       "#sk-container-id-1 a.estimator_doc_link {\n",
       "  float: right;\n",
       "  font-size: 1rem;\n",
       "  line-height: 1em;\n",
       "  font-family: monospace;\n",
       "  background-color: var(--sklearn-color-background);\n",
       "  border-radius: 1rem;\n",
       "  height: 1rem;\n",
       "  width: 1rem;\n",
       "  text-decoration: none;\n",
       "  /* unfitted */\n",
       "  color: var(--sklearn-color-unfitted-level-1);\n",
       "  border: var(--sklearn-color-unfitted-level-1) 1pt solid;\n",
       "}\n",
       "\n",
       "#sk-container-id-1 a.estimator_doc_link.fitted {\n",
       "  /* fitted */\n",
       "  border: var(--sklearn-color-fitted-level-1) 1pt solid;\n",
       "  color: var(--sklearn-color-fitted-level-1);\n",
       "}\n",
       "\n",
       "/* On hover */\n",
       "#sk-container-id-1 a.estimator_doc_link:hover {\n",
       "  /* unfitted */\n",
       "  background-color: var(--sklearn-color-unfitted-level-3);\n",
       "  color: var(--sklearn-color-background);\n",
       "  text-decoration: none;\n",
       "}\n",
       "\n",
       "#sk-container-id-1 a.estimator_doc_link.fitted:hover {\n",
       "  /* fitted */\n",
       "  background-color: var(--sklearn-color-fitted-level-3);\n",
       "}\n",
       "</style><div id=\"sk-container-id-1\" class=\"sk-top-container\"><div class=\"sk-text-repr-fallback\"><pre>MLPClassifier(hidden_layer_sizes=(128, 64), random_state=42)</pre><b>In a Jupyter environment, please rerun this cell to show the HTML representation or trust the notebook. <br />On GitHub, the HTML representation is unable to render, please try loading this page with nbviewer.org.</b></div><div class=\"sk-container\" hidden><div class=\"sk-item\"><div class=\"sk-estimator fitted sk-toggleable\"><input class=\"sk-toggleable__control sk-hidden--visually\" id=\"sk-estimator-id-1\" type=\"checkbox\" checked><label for=\"sk-estimator-id-1\" class=\"sk-toggleable__label fitted sk-toggleable__label-arrow\"><div><div>MLPClassifier</div></div><div><a class=\"sk-estimator-doc-link fitted\" rel=\"noreferrer\" target=\"_blank\" href=\"https://scikit-learn.org/1.6/modules/generated/sklearn.neural_network.MLPClassifier.html\">?<span>Documentation for MLPClassifier</span></a><span class=\"sk-estimator-doc-link fitted\">i<span>Fitted</span></span></div></label><div class=\"sk-toggleable__content fitted\"><pre>MLPClassifier(hidden_layer_sizes=(128, 64), random_state=42)</pre></div> </div></div></div></div>"
      ],
      "text/plain": [
       "MLPClassifier(hidden_layer_sizes=(128, 64), random_state=42)"
      ]
     },
     "execution_count": 38,
     "metadata": {},
     "output_type": "execute_result"
    }
   ],
   "source": [
    "from sklearn.neural_network import MLPClassifier\n",
    "from sklearn.model_selection import train_test_split\n",
    "from sklearn.metrics import classification_report, confusion_matrix\n",
    "\n",
    "# Assuming you have df_signal_features with features and 'Class' column\n",
    "X = df_balanced.drop(columns=['record_name','Sex','Age',\"Dx\",'Class'])  # Features: exclude 'is_normal' column\n",
    "y = df_full['Class']\n",
    "\n",
    "# Split\n",
    "X_train, X_test, y_train, y_test = train_test_split(X, y, stratify=y, test_size=0.2, random_state=42)\n",
    "\n",
    "# Define MLP\n",
    "mlp = MLPClassifier(hidden_layer_sizes=(128, 64), activation='relu', solver='adam', max_iter=200, random_state=42)\n",
    "\n",
    "# Train\n",
    "mlp.fit(X_train, y_train)\n",
    "\n"
   ]
  },
  {
   "cell_type": "code",
   "execution_count": 39,
   "id": "1dc8ad45",
   "metadata": {
    "execution": {
     "iopub.execute_input": "2025-05-30T08:01:39.926410Z",
     "iopub.status.busy": "2025-05-30T08:01:39.926122Z",
     "iopub.status.idle": "2025-05-30T08:01:41.203508Z",
     "shell.execute_reply": "2025-05-30T08:01:41.202309Z"
    },
    "papermill": {
     "duration": 1.293624,
     "end_time": "2025-05-30T08:01:41.204917",
     "exception": false,
     "start_time": "2025-05-30T08:01:39.911293",
     "status": "completed"
    },
    "tags": []
   },
   "outputs": [
    {
     "name": "stdout",
     "output_type": "stream",
     "text": [
      "[[ 8316  1521]\n",
      " [ 1200 10646]]\n",
      "              precision    recall  f1-score   support\n",
      "\n",
      "           0       0.87      0.85      0.86      9837\n",
      "           1       0.87      0.90      0.89     11846\n",
      "\n",
      "    accuracy                           0.87     21683\n",
      "   macro avg       0.87      0.87      0.87     21683\n",
      "weighted avg       0.87      0.87      0.87     21683\n",
      "\n"
     ]
    }
   ],
   "source": [
    "\n",
    "# Evaluate\n",
    "y_pred = mlp.predict(X_test)\n",
    "print(confusion_matrix(y_test, y_pred))\n",
    "print(classification_report(y_test, y_pred))"
   ]
  },
  {
   "cell_type": "code",
   "execution_count": 40,
   "id": "064aa3eb",
   "metadata": {
    "execution": {
     "iopub.execute_input": "2025-05-30T08:01:41.234732Z",
     "iopub.status.busy": "2025-05-30T08:01:41.234444Z",
     "iopub.status.idle": "2025-05-30T08:01:41.245755Z",
     "shell.execute_reply": "2025-05-30T08:01:41.244926Z"
    },
    "papermill": {
     "duration": 0.027816,
     "end_time": "2025-05-30T08:01:41.247100",
     "exception": false,
     "start_time": "2025-05-30T08:01:41.219284",
     "status": "completed"
    },
    "tags": []
   },
   "outputs": [
    {
     "name": "stdout",
     "output_type": "stream",
     "text": [
      "Model saved successfully!\n"
     ]
    }
   ],
   "source": [
    "\n",
    "joblib.dump(mlp, 'mlp_normal_vs_abnormal_model.pkl')\n",
    "print(\"Model saved successfully!\")"
   ]
  }
 ],
 "metadata": {
  "kaggle": {
   "accelerator": "none",
   "dataSources": [
    {
     "sourceId": 242525219,
     "sourceType": "kernelVersion"
    },
    {
     "sourceId": 242525428,
     "sourceType": "kernelVersion"
    },
    {
     "sourceId": 242670422,
     "sourceType": "kernelVersion"
    },
    {
     "sourceId": 242671333,
     "sourceType": "kernelVersion"
    }
   ],
   "dockerImageVersionId": 31012,
   "isGpuEnabled": false,
   "isInternetEnabled": true,
   "language": "python",
   "sourceType": "notebook"
  },
  "kernelspec": {
   "display_name": "Python 3",
   "language": "python",
   "name": "python3"
  },
  "language_info": {
   "codemirror_mode": {
    "name": "ipython",
    "version": 3
   },
   "file_extension": ".py",
   "mimetype": "text/x-python",
   "name": "python",
   "nbconvert_exporter": "python",
   "pygments_lexer": "ipython3",
   "version": "3.11.11"
  },
  "papermill": {
   "default_parameters": {},
   "duration": 921.635163,
   "end_time": "2025-05-30T08:01:42.083244",
   "environment_variables": {},
   "exception": null,
   "input_path": "__notebook__.ipynb",
   "output_path": "__notebook__.ipynb",
   "parameters": {},
   "start_time": "2025-05-30T07:46:20.448081",
   "version": "2.6.0"
  }
 },
 "nbformat": 4,
 "nbformat_minor": 5
}
