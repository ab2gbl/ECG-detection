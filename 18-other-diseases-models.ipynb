{
 "cells": [
  {
   "cell_type": "markdown",
   "id": "5afed6b0",
   "metadata": {
    "papermill": {
     "duration": 0.011136,
     "end_time": "2025-06-03T12:45:38.054136",
     "exception": false,
     "start_time": "2025-06-03T12:45:38.043000",
     "status": "completed"
    },
    "tags": []
   },
   "source": [
    "# diases\n",
    "> 427084000': sinus tachycardia \n",
    "> '426761007': supraventricular tachycardia\n",
    "> '427393009' sinus arrhythmia"
   ]
  },
  {
   "cell_type": "code",
   "execution_count": 1,
   "id": "fa08b9eb",
   "metadata": {
    "execution": {
     "iopub.execute_input": "2025-06-03T12:45:38.074806Z",
     "iopub.status.busy": "2025-06-03T12:45:38.074366Z",
     "iopub.status.idle": "2025-06-03T12:45:45.770399Z",
     "shell.execute_reply": "2025-06-03T12:45:45.769086Z"
    },
    "papermill": {
     "duration": 7.70856,
     "end_time": "2025-06-03T12:45:45.772391",
     "exception": false,
     "start_time": "2025-06-03T12:45:38.063831",
     "status": "completed"
    },
    "tags": []
   },
   "outputs": [
    {
     "name": "stdout",
     "output_type": "stream",
     "text": [
      "Requirement already satisfied: pip in /usr/local/lib/python3.11/dist-packages (24.1.2)\r\n",
      "Collecting pip\r\n",
      "  Downloading pip-25.1.1-py3-none-any.whl.metadata (3.6 kB)\r\n",
      "Downloading pip-25.1.1-py3-none-any.whl (1.8 MB)\r\n",
      "\u001b[2K   \u001b[90m━━━━━━━━━━━━━━━━━━━━━━━━━━━━━━━━━━━━━━━━\u001b[0m \u001b[32m1.8/1.8 MB\u001b[0m \u001b[31m21.7 MB/s\u001b[0m eta \u001b[36m0:00:00\u001b[0m\r\n",
      "\u001b[?25hInstalling collected packages: pip\r\n",
      "  Attempting uninstall: pip\r\n",
      "    Found existing installation: pip 24.1.2\r\n",
      "    Uninstalling pip-24.1.2:\r\n",
      "      Successfully uninstalled pip-24.1.2\r\n",
      "Successfully installed pip-25.1.1\r\n"
     ]
    }
   ],
   "source": [
    "!pip install --upgrade pip"
   ]
  },
  {
   "cell_type": "code",
   "execution_count": 2,
   "id": "107748f7",
   "metadata": {
    "execution": {
     "iopub.execute_input": "2025-06-03T12:45:45.794717Z",
     "iopub.status.busy": "2025-06-03T12:45:45.794330Z",
     "iopub.status.idle": "2025-06-03T12:45:52.937572Z",
     "shell.execute_reply": "2025-06-03T12:45:52.936384Z"
    },
    "papermill": {
     "duration": 7.156656,
     "end_time": "2025-06-03T12:45:52.939623",
     "exception": false,
     "start_time": "2025-06-03T12:45:45.782967",
     "status": "completed"
    },
    "tags": []
   },
   "outputs": [
    {
     "name": "stdout",
     "output_type": "stream",
     "text": [
      "Collecting scikit-learn==1.6.1\r\n",
      "  Downloading scikit_learn-1.6.1-cp311-cp311-manylinux_2_17_x86_64.manylinux2014_x86_64.whl.metadata (18 kB)\r\n",
      "Requirement already satisfied: numpy>=1.19.5 in /usr/local/lib/python3.11/dist-packages (from scikit-learn==1.6.1) (1.26.4)\r\n",
      "Requirement already satisfied: scipy>=1.6.0 in /usr/local/lib/python3.11/dist-packages (from scikit-learn==1.6.1) (1.15.2)\r\n",
      "Requirement already satisfied: joblib>=1.2.0 in /usr/local/lib/python3.11/dist-packages (from scikit-learn==1.6.1) (1.5.0)\r\n",
      "Requirement already satisfied: threadpoolctl>=3.1.0 in /usr/local/lib/python3.11/dist-packages (from scikit-learn==1.6.1) (3.6.0)\r\n",
      "Requirement already satisfied: mkl_fft in /usr/local/lib/python3.11/dist-packages (from numpy>=1.19.5->scikit-learn==1.6.1) (1.3.8)\r\n",
      "Requirement already satisfied: mkl_random in /usr/local/lib/python3.11/dist-packages (from numpy>=1.19.5->scikit-learn==1.6.1) (1.2.4)\r\n",
      "Requirement already satisfied: mkl_umath in /usr/local/lib/python3.11/dist-packages (from numpy>=1.19.5->scikit-learn==1.6.1) (0.1.1)\r\n",
      "Requirement already satisfied: mkl in /usr/local/lib/python3.11/dist-packages (from numpy>=1.19.5->scikit-learn==1.6.1) (2025.1.0)\r\n",
      "Requirement already satisfied: tbb4py in /usr/local/lib/python3.11/dist-packages (from numpy>=1.19.5->scikit-learn==1.6.1) (2022.1.0)\r\n",
      "Requirement already satisfied: mkl-service in /usr/local/lib/python3.11/dist-packages (from numpy>=1.19.5->scikit-learn==1.6.1) (2.4.1)\r\n",
      "Requirement already satisfied: intel-openmp<2026,>=2024 in /usr/local/lib/python3.11/dist-packages (from mkl->numpy>=1.19.5->scikit-learn==1.6.1) (2024.2.0)\r\n",
      "Requirement already satisfied: tbb==2022.* in /usr/local/lib/python3.11/dist-packages (from mkl->numpy>=1.19.5->scikit-learn==1.6.1) (2022.1.0)\r\n",
      "Requirement already satisfied: intel-cmplr-lib-ur==2024.2.0 in /usr/local/lib/python3.11/dist-packages (from intel-openmp<2026,>=2024->mkl->numpy>=1.19.5->scikit-learn==1.6.1) (2024.2.0)\r\n",
      "Requirement already satisfied: tcmlib==1.* in /usr/local/lib/python3.11/dist-packages (from tbb==2022.*->mkl->numpy>=1.19.5->scikit-learn==1.6.1) (1.3.0)\r\n",
      "Requirement already satisfied: intel-cmplr-lib-rt in /usr/local/lib/python3.11/dist-packages (from mkl_umath->numpy>=1.19.5->scikit-learn==1.6.1) (2024.2.0)\r\n",
      "Downloading scikit_learn-1.6.1-cp311-cp311-manylinux_2_17_x86_64.manylinux2014_x86_64.whl (13.5 MB)\r\n",
      "\u001b[2K   \u001b[90m━━━━━━━━━━━━━━━━━━━━━━━━━━━━━━━━━━━━━━━━\u001b[0m \u001b[32m13.5/13.5 MB\u001b[0m \u001b[31m91.7 MB/s\u001b[0m eta \u001b[36m0:00:00\u001b[0m\r\n",
      "\u001b[?25hInstalling collected packages: scikit-learn\r\n",
      "  Attempting uninstall: scikit-learn\r\n",
      "    Found existing installation: scikit-learn 1.2.2\r\n",
      "    Uninstalling scikit-learn-1.2.2:\r\n",
      "      Successfully uninstalled scikit-learn-1.2.2\r\n",
      "\u001b[31mERROR: pip's dependency resolver does not currently take into account all the packages that are installed. This behaviour is the source of the following dependency conflicts.\r\n",
      "category-encoders 2.7.0 requires scikit-learn<1.6.0,>=1.0.0, but you have scikit-learn 1.6.1 which is incompatible.\r\n",
      "cesium 0.12.4 requires numpy<3.0,>=2.0, but you have numpy 1.26.4 which is incompatible.\u001b[0m\u001b[31m\r\n",
      "\u001b[0mSuccessfully installed scikit-learn-1.6.1\r\n"
     ]
    }
   ],
   "source": [
    "!pip install scikit-learn==1.6.1"
   ]
  },
  {
   "cell_type": "code",
   "execution_count": 3,
   "id": "877fbbc9",
   "metadata": {
    "execution": {
     "iopub.execute_input": "2025-06-03T12:45:52.964013Z",
     "iopub.status.busy": "2025-06-03T12:45:52.963661Z",
     "iopub.status.idle": "2025-06-03T12:45:56.707289Z",
     "shell.execute_reply": "2025-06-03T12:45:56.705960Z"
    },
    "papermill": {
     "duration": 3.757677,
     "end_time": "2025-06-03T12:45:56.709018",
     "exception": false,
     "start_time": "2025-06-03T12:45:52.951341",
     "status": "completed"
    },
    "tags": []
   },
   "outputs": [
    {
     "name": "stdout",
     "output_type": "stream",
     "text": [
      "1.6.1\n"
     ]
    }
   ],
   "source": [
    "import sklearn \n",
    "print(sklearn.__version__)\n"
   ]
  },
  {
   "cell_type": "code",
   "execution_count": 4,
   "id": "a93c6432",
   "metadata": {
    "execution": {
     "iopub.execute_input": "2025-06-03T12:45:56.733332Z",
     "iopub.status.busy": "2025-06-03T12:45:56.732452Z",
     "iopub.status.idle": "2025-06-03T12:46:00.734455Z",
     "shell.execute_reply": "2025-06-03T12:46:00.733665Z"
    },
    "papermill": {
     "duration": 4.015948,
     "end_time": "2025-06-03T12:46:00.736168",
     "exception": false,
     "start_time": "2025-06-03T12:45:56.720220",
     "status": "completed"
    },
    "tags": []
   },
   "outputs": [
    {
     "data": {
      "text/plain": [
       "record_name                        training/ningbo/g34/JS44560\n",
       "Duree_QRS_ms_mean                                   166.117647\n",
       "Duree_QRS_ms_std                                     33.320193\n",
       "Duree_QRS_ms_min                                         140.0\n",
       "Duree_QRS_ms_max                                         272.0\n",
       "                                         ...                  \n",
       "std_Intervalle_RR_ms                                  6.961801\n",
       "Age                                                       40.0\n",
       "Sex                                                       Male\n",
       "Dx                      ['164934002', '427084000', '55827005']\n",
       "Class                                                        2\n",
       "Name: 0, Length: 100, dtype: object"
      ]
     },
     "execution_count": 4,
     "metadata": {},
     "output_type": "execute_result"
    }
   ],
   "source": [
    "import pandas as pd\n",
    "from tqdm import tqdm  # optional: for progress bar\n",
    "\n",
    "origin_comp_df = pd.read_csv(\"/kaggle/input/merge-comp-2021/ecg-comp-2021-signals-features.csv\")\n",
    "\n",
    "origin_comp_df.iloc[0]"
   ]
  },
  {
   "cell_type": "code",
   "execution_count": 5,
   "id": "95475866",
   "metadata": {
    "execution": {
     "iopub.execute_input": "2025-06-03T12:46:00.760315Z",
     "iopub.status.busy": "2025-06-03T12:46:00.759987Z",
     "iopub.status.idle": "2025-06-03T12:46:00.768312Z",
     "shell.execute_reply": "2025-06-03T12:46:00.767407Z"
    },
    "papermill": {
     "duration": 0.022435,
     "end_time": "2025-06-03T12:46:00.769820",
     "exception": false,
     "start_time": "2025-06-03T12:46:00.747385",
     "status": "completed"
    },
    "tags": []
   },
   "outputs": [
    {
     "data": {
      "text/plain": [
       "Index(['record_name', 'Duree_QRS_ms_mean', 'Duree_QRS_ms_std',\n",
       "       'Duree_QRS_ms_min', 'Duree_QRS_ms_max', 'Duree_P_ms_mean',\n",
       "       'Duree_P_ms_std', 'Duree_P_ms_min', 'Duree_P_ms_max', 'Duree_T_ms_mean',\n",
       "       'Duree_T_ms_std', 'Duree_T_ms_min', 'Duree_T_ms_max',\n",
       "       'Intervalle_QT_ms_mean', 'Intervalle_QT_ms_std', 'Intervalle_QT_ms_min',\n",
       "       'Intervalle_QT_ms_max', 'Intervalle_PR_ms_mean', 'Intervalle_PR_ms_std',\n",
       "       'Intervalle_PR_ms_min', 'Intervalle_PR_ms_max', 'Intervalle_ST_ms_mean',\n",
       "       'Intervalle_ST_ms_std', 'Intervalle_ST_ms_min', 'Intervalle_ST_ms_max',\n",
       "       'Amplitude_P_mean', 'Amplitude_P_std', 'Amplitude_P_min',\n",
       "       'Amplitude_P_max', 'Amplitude_Q_mean', 'Amplitude_Q_std',\n",
       "       'Amplitude_Q_min', 'Amplitude_Q_max', 'Amplitude_R_mean',\n",
       "       'Amplitude_R_std', 'Amplitude_R_min', 'Amplitude_R_max',\n",
       "       'Amplitude_S_mean', 'Amplitude_S_std', 'Amplitude_S_min',\n",
       "       'Amplitude_S_max', 'Amplitude_T_mean', 'Amplitude_T_std',\n",
       "       'Amplitude_T_min', 'Amplitude_T_max', 'T/R_ratio_mean', 'T/R_ratio_std',\n",
       "       'T/R_ratio_min', 'T/R_ratio_max', 'P/R_ratio_mean', 'P/R_ratio_std',\n",
       "       'P/R_ratio_min', 'P/R_ratio_max', 'QRS_area_mean', 'QRS_area_std',\n",
       "       'QRS_area_min', 'QRS_area_max', 'Slope_QR_mean', 'Slope_QR_std',\n",
       "       'Slope_QR_min', 'Slope_QR_max', 'Slope_RS_mean', 'Slope_RS_std',\n",
       "       'Slope_RS_min', 'Slope_RS_max', 'Heart_rate_bpm_mean',\n",
       "       'Heart_rate_bpm_std', 'Heart_rate_bpm_min', 'Heart_rate_bpm_max',\n",
       "       'Local_RMSSD_mean', 'Local_RMSSD_std', 'Local_RMSSD_min',\n",
       "       'Local_RMSSD_max', 'T_inversion_mean', 'T_inversion_sum',\n",
       "       'Premature_beat_sum', 'Bigeminy_sum', 'Trigeminy_sum', 'count_N',\n",
       "       'count_L', 'count_R', 'count_/', 'count_V', 'count_else', 'ratio_N',\n",
       "       'ratio_L', 'ratio_R', 'ratio_/', 'ratio_V', 'ratio_else',\n",
       "       'percent_T_inversion', 'QRS_prolonged_ratio', 'QT_prolonged_ratio',\n",
       "       'PVC_ratio', 'num_beats', 'std_Intervalle_RR_ms', 'Age', 'Sex', 'Dx',\n",
       "       'Class'],\n",
       "      dtype='object')"
      ]
     },
     "execution_count": 5,
     "metadata": {},
     "output_type": "execute_result"
    }
   ],
   "source": [
    "origin_comp_df.columns"
   ]
  },
  {
   "cell_type": "code",
   "execution_count": 6,
   "id": "9c536bbb",
   "metadata": {
    "execution": {
     "iopub.execute_input": "2025-06-03T12:46:00.792985Z",
     "iopub.status.busy": "2025-06-03T12:46:00.792680Z",
     "iopub.status.idle": "2025-06-03T12:46:00.806562Z",
     "shell.execute_reply": "2025-06-03T12:46:00.805675Z"
    },
    "papermill": {
     "duration": 0.027199,
     "end_time": "2025-06-03T12:46:00.808080",
     "exception": false,
     "start_time": "2025-06-03T12:46:00.780881",
     "status": "completed"
    },
    "tags": []
   },
   "outputs": [
    {
     "data": {
      "text/plain": [
       "Class\n",
       "2    40704\n",
       "0    28967\n",
       "1    18559\n",
       "Name: count, dtype: int64"
      ]
     },
     "execution_count": 6,
     "metadata": {},
     "output_type": "execute_result"
    }
   ],
   "source": [
    "origin_comp_df[\"Class\"].value_counts()"
   ]
  },
  {
   "cell_type": "markdown",
   "id": "20d72a19",
   "metadata": {
    "papermill": {
     "duration": 0.010572,
     "end_time": "2025-06-03T12:46:00.829653",
     "exception": false,
     "start_time": "2025-06-03T12:46:00.819081",
     "status": "completed"
    },
    "tags": []
   },
   "source": [
    "# MIT-BIH norm"
   ]
  },
  {
   "cell_type": "code",
   "execution_count": 7,
   "id": "1523eb60",
   "metadata": {
    "execution": {
     "iopub.execute_input": "2025-06-03T12:46:00.852868Z",
     "iopub.status.busy": "2025-06-03T12:46:00.852503Z",
     "iopub.status.idle": "2025-06-03T12:46:01.575989Z",
     "shell.execute_reply": "2025-06-03T12:46:01.574891Z"
    },
    "papermill": {
     "duration": 0.737046,
     "end_time": "2025-06-03T12:46:01.577649",
     "exception": false,
     "start_time": "2025-06-03T12:46:00.840603",
     "status": "completed"
    },
    "tags": []
   },
   "outputs": [],
   "source": [
    "origin_mitbih_df = pd.read_csv(\"/kaggle/input/merge-norm-mitbih/norm-mit-signals-features.csv\") "
   ]
  },
  {
   "cell_type": "code",
   "execution_count": 8,
   "id": "778a9cb3",
   "metadata": {
    "execution": {
     "iopub.execute_input": "2025-06-03T12:46:01.601358Z",
     "iopub.status.busy": "2025-06-03T12:46:01.601028Z",
     "iopub.status.idle": "2025-06-03T12:46:01.608546Z",
     "shell.execute_reply": "2025-06-03T12:46:01.607785Z"
    },
    "papermill": {
     "duration": 0.021171,
     "end_time": "2025-06-03T12:46:01.610117",
     "exception": false,
     "start_time": "2025-06-03T12:46:01.588946",
     "status": "completed"
    },
    "tags": []
   },
   "outputs": [
    {
     "data": {
      "text/plain": [
       "Class\n",
       "0    20298\n",
       "Name: count, dtype: int64"
      ]
     },
     "execution_count": 8,
     "metadata": {},
     "output_type": "execute_result"
    }
   ],
   "source": [
    "origin_mitbih_df[\"Class\"].value_counts()\n"
   ]
  },
  {
   "cell_type": "markdown",
   "id": "7b75fb3c",
   "metadata": {
    "papermill": {
     "duration": 0.010922,
     "end_time": "2025-06-03T12:46:01.632168",
     "exception": false,
     "start_time": "2025-06-03T12:46:01.621246",
     "status": "completed"
    },
    "tags": []
   },
   "source": [
    "# ecg arr"
   ]
  },
  {
   "cell_type": "code",
   "execution_count": 9,
   "id": "e8e88f56",
   "metadata": {
    "execution": {
     "iopub.execute_input": "2025-06-03T12:46:01.656874Z",
     "iopub.status.busy": "2025-06-03T12:46:01.656475Z",
     "iopub.status.idle": "2025-06-03T12:46:02.277408Z",
     "shell.execute_reply": "2025-06-03T12:46:02.276543Z"
    },
    "papermill": {
     "duration": 0.634958,
     "end_time": "2025-06-03T12:46:02.279186",
     "exception": false,
     "start_time": "2025-06-03T12:46:01.644228",
     "status": "completed"
    },
    "tags": []
   },
   "outputs": [
    {
     "data": {
      "text/plain": [
       "Class\n",
       "2    8342\n",
       "1    6810\n",
       "0    3301\n",
       "Name: count, dtype: int64"
      ]
     },
     "execution_count": 9,
     "metadata": {},
     "output_type": "execute_result"
    }
   ],
   "source": [
    "origin_ecgarr_df = pd.read_csv(\"/kaggle/input/merge-ecg-arrhythmia/ecg-arr-signals-features.csv\") \n",
    "\n",
    "origin_ecgarr_df[\"Class\"].value_counts()\n"
   ]
  },
  {
   "cell_type": "markdown",
   "id": "47bc300a",
   "metadata": {
    "papermill": {
     "duration": 0.011116,
     "end_time": "2025-06-03T12:46:02.301747",
     "exception": false,
     "start_time": "2025-06-03T12:46:02.290631",
     "status": "completed"
    },
    "tags": []
   },
   "source": [
    "# challenge 2017\n"
   ]
  },
  {
   "cell_type": "code",
   "execution_count": 10,
   "id": "e51a5d20",
   "metadata": {
    "execution": {
     "iopub.execute_input": "2025-06-03T12:46:02.325438Z",
     "iopub.status.busy": "2025-06-03T12:46:02.325126Z",
     "iopub.status.idle": "2025-06-03T12:46:02.638167Z",
     "shell.execute_reply": "2025-06-03T12:46:02.637145Z"
    },
    "papermill": {
     "duration": 0.326918,
     "end_time": "2025-06-03T12:46:02.639844",
     "exception": false,
     "start_time": "2025-06-03T12:46:02.312926",
     "status": "completed"
    },
    "tags": []
   },
   "outputs": [
    {
     "data": {
      "text/plain": [
       "8526"
      ]
     },
     "execution_count": 10,
     "metadata": {},
     "output_type": "execute_result"
    }
   ],
   "source": [
    "origin_ch2017_df = pd.read_csv(\"/kaggle/input/merge-challenge-2017/challenge-2017-signals-features.csv\") \n",
    "len(origin_ch2017_df)\n"
   ]
  },
  {
   "cell_type": "code",
   "execution_count": 11,
   "id": "d997f276",
   "metadata": {
    "execution": {
     "iopub.execute_input": "2025-06-03T12:46:02.663759Z",
     "iopub.status.busy": "2025-06-03T12:46:02.663410Z",
     "iopub.status.idle": "2025-06-03T12:46:02.679805Z",
     "shell.execute_reply": "2025-06-03T12:46:02.678692Z"
    },
    "papermill": {
     "duration": 0.030198,
     "end_time": "2025-06-03T12:46:02.681553",
     "exception": false,
     "start_time": "2025-06-03T12:46:02.651355",
     "status": "completed"
    },
    "tags": []
   },
   "outputs": [],
   "source": [
    "origin_ch2017_df['Class'] = origin_ch2017_df['type'].apply(lambda x: 0 if x == 'N' else 2)\n",
    "origin_ch2017_df = origin_ch2017_df.drop(columns=['type'])"
   ]
  },
  {
   "cell_type": "code",
   "execution_count": 12,
   "id": "4735a6b1",
   "metadata": {
    "execution": {
     "iopub.execute_input": "2025-06-03T12:46:02.773292Z",
     "iopub.status.busy": "2025-06-03T12:46:02.772953Z",
     "iopub.status.idle": "2025-06-03T12:46:02.780731Z",
     "shell.execute_reply": "2025-06-03T12:46:02.779917Z"
    },
    "papermill": {
     "duration": 0.089325,
     "end_time": "2025-06-03T12:46:02.782332",
     "exception": false,
     "start_time": "2025-06-03T12:46:02.693007",
     "status": "completed"
    },
    "tags": []
   },
   "outputs": [
    {
     "data": {
      "text/plain": [
       "Class\n",
       "0    5075\n",
       "2    3451\n",
       "Name: count, dtype: int64"
      ]
     },
     "execution_count": 12,
     "metadata": {},
     "output_type": "execute_result"
    }
   ],
   "source": [
    "origin_ch2017_df[\"Class\"].value_counts()"
   ]
  },
  {
   "cell_type": "markdown",
   "id": "8ce6a473",
   "metadata": {
    "papermill": {
     "duration": 0.011904,
     "end_time": "2025-06-03T12:46:02.805998",
     "exception": false,
     "start_time": "2025-06-03T12:46:02.794094",
     "status": "completed"
    },
    "tags": []
   },
   "source": [
    "# full data"
   ]
  },
  {
   "cell_type": "code",
   "execution_count": 13,
   "id": "8c4a2545",
   "metadata": {
    "execution": {
     "iopub.execute_input": "2025-06-03T12:46:02.830763Z",
     "iopub.status.busy": "2025-06-03T12:46:02.830289Z",
     "iopub.status.idle": "2025-06-03T12:46:02.870507Z",
     "shell.execute_reply": "2025-06-03T12:46:02.869547Z"
    },
    "papermill": {
     "duration": 0.054535,
     "end_time": "2025-06-03T12:46:02.872306",
     "exception": false,
     "start_time": "2025-06-03T12:46:02.817771",
     "status": "completed"
    },
    "tags": []
   },
   "outputs": [],
   "source": [
    "arr3 = [origin_comp_df,origin_mitbih_df]\n",
    "#arr3 = [origin_comp_df]\n",
    "\n",
    "sign_df = pd.concat(arr3, ignore_index=True)"
   ]
  },
  {
   "cell_type": "code",
   "execution_count": 14,
   "id": "dd3501d4",
   "metadata": {
    "execution": {
     "iopub.execute_input": "2025-06-03T12:46:02.896466Z",
     "iopub.status.busy": "2025-06-03T12:46:02.896153Z",
     "iopub.status.idle": "2025-06-03T12:46:02.950418Z",
     "shell.execute_reply": "2025-06-03T12:46:02.949382Z"
    },
    "papermill": {
     "duration": 0.068573,
     "end_time": "2025-06-03T12:46:02.952350",
     "exception": false,
     "start_time": "2025-06-03T12:46:02.883777",
     "status": "completed"
    },
    "tags": []
   },
   "outputs": [],
   "source": [
    "arr4 = [origin_comp_df,origin_mitbih_df,origin_ecgarr_df,origin_ch2017_df]\n",
    "#arr3 = [origin_comp_df]\n",
    "\n",
    "sign_df2 = pd.concat(arr4, ignore_index=True)"
   ]
  },
  {
   "cell_type": "code",
   "execution_count": 15,
   "id": "d6b25986",
   "metadata": {
    "execution": {
     "iopub.execute_input": "2025-06-03T12:46:02.977375Z",
     "iopub.status.busy": "2025-06-03T12:46:02.977072Z",
     "iopub.status.idle": "2025-06-03T12:46:03.133833Z",
     "shell.execute_reply": "2025-06-03T12:46:03.132649Z"
    },
    "papermill": {
     "duration": 0.171504,
     "end_time": "2025-06-03T12:46:03.135495",
     "exception": false,
     "start_time": "2025-06-03T12:46:02.963991",
     "status": "completed"
    },
    "tags": []
   },
   "outputs": [
    {
     "name": "stderr",
     "output_type": "stream",
     "text": [
      "/usr/local/lib/python3.11/dist-packages/pandas/io/formats/format.py:1458: RuntimeWarning: invalid value encountered in greater\n",
      "  has_large_values = (abs_vals > 1e6).any()\n",
      "/usr/local/lib/python3.11/dist-packages/pandas/io/formats/format.py:1459: RuntimeWarning: invalid value encountered in less\n",
      "  has_small_values = ((abs_vals < 10 ** (-self.digits)) & (abs_vals > 0)).any()\n",
      "/usr/local/lib/python3.11/dist-packages/pandas/io/formats/format.py:1459: RuntimeWarning: invalid value encountered in greater\n",
      "  has_small_values = ((abs_vals < 10 ** (-self.digits)) & (abs_vals > 0)).any()\n",
      "/usr/local/lib/python3.11/dist-packages/pandas/io/formats/format.py:1458: RuntimeWarning: invalid value encountered in greater\n",
      "  has_large_values = (abs_vals > 1e6).any()\n",
      "/usr/local/lib/python3.11/dist-packages/pandas/io/formats/format.py:1459: RuntimeWarning: invalid value encountered in less\n",
      "  has_small_values = ((abs_vals < 10 ** (-self.digits)) & (abs_vals > 0)).any()\n",
      "/usr/local/lib/python3.11/dist-packages/pandas/io/formats/format.py:1459: RuntimeWarning: invalid value encountered in greater\n",
      "  has_small_values = ((abs_vals < 10 ** (-self.digits)) & (abs_vals > 0)).any()\n"
     ]
    },
    {
     "data": {
      "text/html": [
       "<div>\n",
       "<style scoped>\n",
       "    .dataframe tbody tr th:only-of-type {\n",
       "        vertical-align: middle;\n",
       "    }\n",
       "\n",
       "    .dataframe tbody tr th {\n",
       "        vertical-align: top;\n",
       "    }\n",
       "\n",
       "    .dataframe thead th {\n",
       "        text-align: right;\n",
       "    }\n",
       "</style>\n",
       "<table border=\"1\" class=\"dataframe\">\n",
       "  <thead>\n",
       "    <tr style=\"text-align: right;\">\n",
       "      <th></th>\n",
       "      <th>record_name</th>\n",
       "      <th>Duree_QRS_ms_mean</th>\n",
       "      <th>Duree_QRS_ms_std</th>\n",
       "      <th>Duree_QRS_ms_min</th>\n",
       "      <th>Duree_QRS_ms_max</th>\n",
       "      <th>Duree_P_ms_mean</th>\n",
       "      <th>Duree_P_ms_std</th>\n",
       "      <th>Duree_P_ms_min</th>\n",
       "      <th>Duree_P_ms_max</th>\n",
       "      <th>Duree_T_ms_mean</th>\n",
       "      <th>...</th>\n",
       "      <th>percent_T_inversion</th>\n",
       "      <th>QRS_prolonged_ratio</th>\n",
       "      <th>QT_prolonged_ratio</th>\n",
       "      <th>PVC_ratio</th>\n",
       "      <th>num_beats</th>\n",
       "      <th>std_Intervalle_RR_ms</th>\n",
       "      <th>Age</th>\n",
       "      <th>Sex</th>\n",
       "      <th>Dx</th>\n",
       "      <th>Class</th>\n",
       "    </tr>\n",
       "  </thead>\n",
       "  <tbody>\n",
       "    <tr>\n",
       "      <th>60</th>\n",
       "      <td>training/ningbo/g34/JS44620</td>\n",
       "      <td>360.000000</td>\n",
       "      <td>NaN</td>\n",
       "      <td>360.0</td>\n",
       "      <td>360.0</td>\n",
       "      <td>96.000000</td>\n",
       "      <td>NaN</td>\n",
       "      <td>96.0</td>\n",
       "      <td>96.0</td>\n",
       "      <td>340.000000</td>\n",
       "      <td>...</td>\n",
       "      <td>1.000000</td>\n",
       "      <td>1.0</td>\n",
       "      <td>1.000000</td>\n",
       "      <td>0.000000</td>\n",
       "      <td>1</td>\n",
       "      <td>NaN</td>\n",
       "      <td>23.0</td>\n",
       "      <td>Male</td>\n",
       "      <td>['427084000']</td>\n",
       "      <td>2</td>\n",
       "    </tr>\n",
       "    <tr>\n",
       "      <th>908</th>\n",
       "      <td>training/ningbo/g35/JS45471</td>\n",
       "      <td>258.000000</td>\n",
       "      <td>268.700577</td>\n",
       "      <td>68.0</td>\n",
       "      <td>448.0</td>\n",
       "      <td>292.000000</td>\n",
       "      <td>118.793939</td>\n",
       "      <td>208.0</td>\n",
       "      <td>376.0</td>\n",
       "      <td>424.000000</td>\n",
       "      <td>...</td>\n",
       "      <td>1.000000</td>\n",
       "      <td>0.5</td>\n",
       "      <td>0.500000</td>\n",
       "      <td>0.000000</td>\n",
       "      <td>2</td>\n",
       "      <td>NaN</td>\n",
       "      <td>50.0</td>\n",
       "      <td>Female</td>\n",
       "      <td>['164896001']</td>\n",
       "      <td>2</td>\n",
       "    </tr>\n",
       "    <tr>\n",
       "      <th>981</th>\n",
       "      <td>training/ningbo/g35/JS45545</td>\n",
       "      <td>142.000000</td>\n",
       "      <td>82.024387</td>\n",
       "      <td>84.0</td>\n",
       "      <td>200.0</td>\n",
       "      <td>224.000000</td>\n",
       "      <td>0.000000</td>\n",
       "      <td>224.0</td>\n",
       "      <td>224.0</td>\n",
       "      <td>174.000000</td>\n",
       "      <td>...</td>\n",
       "      <td>0.000000</td>\n",
       "      <td>0.5</td>\n",
       "      <td>0.500000</td>\n",
       "      <td>0.000000</td>\n",
       "      <td>2</td>\n",
       "      <td>NaN</td>\n",
       "      <td>37.0</td>\n",
       "      <td>Male</td>\n",
       "      <td>['425856008']</td>\n",
       "      <td>2</td>\n",
       "    </tr>\n",
       "    <tr>\n",
       "      <th>1215</th>\n",
       "      <td>training/ningbo/g4/JS13873</td>\n",
       "      <td>240.000000</td>\n",
       "      <td>NaN</td>\n",
       "      <td>240.0</td>\n",
       "      <td>240.0</td>\n",
       "      <td>296.000000</td>\n",
       "      <td>NaN</td>\n",
       "      <td>296.0</td>\n",
       "      <td>296.0</td>\n",
       "      <td>176.000000</td>\n",
       "      <td>...</td>\n",
       "      <td>1.000000</td>\n",
       "      <td>1.0</td>\n",
       "      <td>1.000000</td>\n",
       "      <td>0.000000</td>\n",
       "      <td>1</td>\n",
       "      <td>NaN</td>\n",
       "      <td>67.0</td>\n",
       "      <td>Female</td>\n",
       "      <td>['164890007', '39732003']</td>\n",
       "      <td>2</td>\n",
       "    </tr>\n",
       "    <tr>\n",
       "      <th>1672</th>\n",
       "      <td>training/ningbo/g4/JS14330</td>\n",
       "      <td>336.000000</td>\n",
       "      <td>NaN</td>\n",
       "      <td>336.0</td>\n",
       "      <td>336.0</td>\n",
       "      <td>0.000000</td>\n",
       "      <td>NaN</td>\n",
       "      <td>0.0</td>\n",
       "      <td>0.0</td>\n",
       "      <td>280.000000</td>\n",
       "      <td>...</td>\n",
       "      <td>1.000000</td>\n",
       "      <td>1.0</td>\n",
       "      <td>1.000000</td>\n",
       "      <td>0.000000</td>\n",
       "      <td>1</td>\n",
       "      <td>NaN</td>\n",
       "      <td>80.0</td>\n",
       "      <td>Male</td>\n",
       "      <td>['164890007', '10370003']</td>\n",
       "      <td>2</td>\n",
       "    </tr>\n",
       "    <tr>\n",
       "      <th>...</th>\n",
       "      <td>...</td>\n",
       "      <td>...</td>\n",
       "      <td>...</td>\n",
       "      <td>...</td>\n",
       "      <td>...</td>\n",
       "      <td>...</td>\n",
       "      <td>...</td>\n",
       "      <td>...</td>\n",
       "      <td>...</td>\n",
       "      <td>...</td>\n",
       "      <td>...</td>\n",
       "      <td>...</td>\n",
       "      <td>...</td>\n",
       "      <td>...</td>\n",
       "      <td>...</td>\n",
       "      <td>...</td>\n",
       "      <td>...</td>\n",
       "      <td>...</td>\n",
       "      <td>...</td>\n",
       "      <td>...</td>\n",
       "      <td>...</td>\n",
       "    </tr>\n",
       "    <tr>\n",
       "      <th>135502</th>\n",
       "      <td>A08/A08524</td>\n",
       "      <td>183.000000</td>\n",
       "      <td>26.239591</td>\n",
       "      <td>148.0</td>\n",
       "      <td>260.0</td>\n",
       "      <td>90.875000</td>\n",
       "      <td>121.781335</td>\n",
       "      <td>0.0</td>\n",
       "      <td>472.0</td>\n",
       "      <td>174.375000</td>\n",
       "      <td>...</td>\n",
       "      <td>0.500000</td>\n",
       "      <td>1.0</td>\n",
       "      <td>0.468750</td>\n",
       "      <td>0.000000</td>\n",
       "      <td>32</td>\n",
       "      <td>224.230757</td>\n",
       "      <td>NaN</td>\n",
       "      <td>NaN</td>\n",
       "      <td>NaN</td>\n",
       "      <td>0</td>\n",
       "    </tr>\n",
       "    <tr>\n",
       "      <th>135503</th>\n",
       "      <td>A08/A08525</td>\n",
       "      <td>236.666667</td>\n",
       "      <td>28.978265</td>\n",
       "      <td>136.0</td>\n",
       "      <td>296.0</td>\n",
       "      <td>48.476190</td>\n",
       "      <td>62.345707</td>\n",
       "      <td>0.0</td>\n",
       "      <td>224.0</td>\n",
       "      <td>189.047619</td>\n",
       "      <td>...</td>\n",
       "      <td>0.904762</td>\n",
       "      <td>1.0</td>\n",
       "      <td>0.166667</td>\n",
       "      <td>0.142857</td>\n",
       "      <td>42</td>\n",
       "      <td>122.062599</td>\n",
       "      <td>NaN</td>\n",
       "      <td>NaN</td>\n",
       "      <td>NaN</td>\n",
       "      <td>2</td>\n",
       "    </tr>\n",
       "    <tr>\n",
       "      <th>135504</th>\n",
       "      <td>A08/A08526</td>\n",
       "      <td>187.047619</td>\n",
       "      <td>34.801845</td>\n",
       "      <td>140.0</td>\n",
       "      <td>252.0</td>\n",
       "      <td>155.238095</td>\n",
       "      <td>59.298258</td>\n",
       "      <td>80.0</td>\n",
       "      <td>368.0</td>\n",
       "      <td>190.761905</td>\n",
       "      <td>...</td>\n",
       "      <td>0.047619</td>\n",
       "      <td>1.0</td>\n",
       "      <td>0.190476</td>\n",
       "      <td>0.000000</td>\n",
       "      <td>42</td>\n",
       "      <td>63.126509</td>\n",
       "      <td>NaN</td>\n",
       "      <td>NaN</td>\n",
       "      <td>NaN</td>\n",
       "      <td>0</td>\n",
       "    </tr>\n",
       "    <tr>\n",
       "      <th>135505</th>\n",
       "      <td>A08/A08527</td>\n",
       "      <td>242.956522</td>\n",
       "      <td>63.969075</td>\n",
       "      <td>140.0</td>\n",
       "      <td>428.0</td>\n",
       "      <td>118.869565</td>\n",
       "      <td>74.755485</td>\n",
       "      <td>0.0</td>\n",
       "      <td>248.0</td>\n",
       "      <td>127.304348</td>\n",
       "      <td>...</td>\n",
       "      <td>0.282609</td>\n",
       "      <td>1.0</td>\n",
       "      <td>0.217391</td>\n",
       "      <td>0.021739</td>\n",
       "      <td>46</td>\n",
       "      <td>148.400931</td>\n",
       "      <td>NaN</td>\n",
       "      <td>NaN</td>\n",
       "      <td>NaN</td>\n",
       "      <td>0</td>\n",
       "    </tr>\n",
       "    <tr>\n",
       "      <th>135506</th>\n",
       "      <td>A08/A08528</td>\n",
       "      <td>168.645161</td>\n",
       "      <td>28.380214</td>\n",
       "      <td>136.0</td>\n",
       "      <td>248.0</td>\n",
       "      <td>162.838710</td>\n",
       "      <td>68.330128</td>\n",
       "      <td>96.0</td>\n",
       "      <td>304.0</td>\n",
       "      <td>215.741935</td>\n",
       "      <td>...</td>\n",
       "      <td>0.064516</td>\n",
       "      <td>1.0</td>\n",
       "      <td>0.225806</td>\n",
       "      <td>0.000000</td>\n",
       "      <td>31</td>\n",
       "      <td>32.508602</td>\n",
       "      <td>NaN</td>\n",
       "      <td>NaN</td>\n",
       "      <td>NaN</td>\n",
       "      <td>0</td>\n",
       "    </tr>\n",
       "  </tbody>\n",
       "</table>\n",
       "<p>8650 rows × 100 columns</p>\n",
       "</div>"
      ],
      "text/plain": [
       "                        record_name  Duree_QRS_ms_mean  Duree_QRS_ms_std  \\\n",
       "60      training/ningbo/g34/JS44620         360.000000               NaN   \n",
       "908     training/ningbo/g35/JS45471         258.000000        268.700577   \n",
       "981     training/ningbo/g35/JS45545         142.000000         82.024387   \n",
       "1215     training/ningbo/g4/JS13873         240.000000               NaN   \n",
       "1672     training/ningbo/g4/JS14330         336.000000               NaN   \n",
       "...                             ...                ...               ...   \n",
       "135502                   A08/A08524         183.000000         26.239591   \n",
       "135503                   A08/A08525         236.666667         28.978265   \n",
       "135504                   A08/A08526         187.047619         34.801845   \n",
       "135505                   A08/A08527         242.956522         63.969075   \n",
       "135506                   A08/A08528         168.645161         28.380214   \n",
       "\n",
       "        Duree_QRS_ms_min  Duree_QRS_ms_max  Duree_P_ms_mean  Duree_P_ms_std  \\\n",
       "60                 360.0             360.0        96.000000             NaN   \n",
       "908                 68.0             448.0       292.000000      118.793939   \n",
       "981                 84.0             200.0       224.000000        0.000000   \n",
       "1215               240.0             240.0       296.000000             NaN   \n",
       "1672               336.0             336.0         0.000000             NaN   \n",
       "...                  ...               ...              ...             ...   \n",
       "135502             148.0             260.0        90.875000      121.781335   \n",
       "135503             136.0             296.0        48.476190       62.345707   \n",
       "135504             140.0             252.0       155.238095       59.298258   \n",
       "135505             140.0             428.0       118.869565       74.755485   \n",
       "135506             136.0             248.0       162.838710       68.330128   \n",
       "\n",
       "        Duree_P_ms_min  Duree_P_ms_max  Duree_T_ms_mean  ...  \\\n",
       "60                96.0            96.0       340.000000  ...   \n",
       "908              208.0           376.0       424.000000  ...   \n",
       "981              224.0           224.0       174.000000  ...   \n",
       "1215             296.0           296.0       176.000000  ...   \n",
       "1672               0.0             0.0       280.000000  ...   \n",
       "...                ...             ...              ...  ...   \n",
       "135502             0.0           472.0       174.375000  ...   \n",
       "135503             0.0           224.0       189.047619  ...   \n",
       "135504            80.0           368.0       190.761905  ...   \n",
       "135505             0.0           248.0       127.304348  ...   \n",
       "135506            96.0           304.0       215.741935  ...   \n",
       "\n",
       "        percent_T_inversion  QRS_prolonged_ratio  QT_prolonged_ratio  \\\n",
       "60                 1.000000                  1.0            1.000000   \n",
       "908                1.000000                  0.5            0.500000   \n",
       "981                0.000000                  0.5            0.500000   \n",
       "1215               1.000000                  1.0            1.000000   \n",
       "1672               1.000000                  1.0            1.000000   \n",
       "...                     ...                  ...                 ...   \n",
       "135502             0.500000                  1.0            0.468750   \n",
       "135503             0.904762                  1.0            0.166667   \n",
       "135504             0.047619                  1.0            0.190476   \n",
       "135505             0.282609                  1.0            0.217391   \n",
       "135506             0.064516                  1.0            0.225806   \n",
       "\n",
       "        PVC_ratio  num_beats  std_Intervalle_RR_ms   Age     Sex  \\\n",
       "60       0.000000          1                   NaN  23.0    Male   \n",
       "908      0.000000          2                   NaN  50.0  Female   \n",
       "981      0.000000          2                   NaN  37.0    Male   \n",
       "1215     0.000000          1                   NaN  67.0  Female   \n",
       "1672     0.000000          1                   NaN  80.0    Male   \n",
       "...           ...        ...                   ...   ...     ...   \n",
       "135502   0.000000         32            224.230757   NaN     NaN   \n",
       "135503   0.142857         42            122.062599   NaN     NaN   \n",
       "135504   0.000000         42             63.126509   NaN     NaN   \n",
       "135505   0.021739         46            148.400931   NaN     NaN   \n",
       "135506   0.000000         31             32.508602   NaN     NaN   \n",
       "\n",
       "                               Dx  Class  \n",
       "60                  ['427084000']      2  \n",
       "908                 ['164896001']      2  \n",
       "981                 ['425856008']      2  \n",
       "1215    ['164890007', '39732003']      2  \n",
       "1672    ['164890007', '10370003']      2  \n",
       "...                           ...    ...  \n",
       "135502                        NaN      0  \n",
       "135503                        NaN      2  \n",
       "135504                        NaN      0  \n",
       "135505                        NaN      0  \n",
       "135506                        NaN      0  \n",
       "\n",
       "[8650 rows x 100 columns]"
      ]
     },
     "execution_count": 15,
     "metadata": {},
     "output_type": "execute_result"
    }
   ],
   "source": [
    "# check null except age and sex\n",
    "mask = sign_df2.drop(columns=[\"Age\", \"Sex\"]).isnull().any(axis=1)\n",
    "df_with_nulls = sign_df2[mask]\n",
    "df_with_nulls"
   ]
  },
  {
   "cell_type": "code",
   "execution_count": 16,
   "id": "aceed4b0",
   "metadata": {
    "execution": {
     "iopub.execute_input": "2025-06-03T12:46:03.163297Z",
     "iopub.status.busy": "2025-06-03T12:46:03.163001Z",
     "iopub.status.idle": "2025-06-03T12:46:03.172017Z",
     "shell.execute_reply": "2025-06-03T12:46:03.170953Z"
    },
    "papermill": {
     "duration": 0.026173,
     "end_time": "2025-06-03T12:46:03.173820",
     "exception": false,
     "start_time": "2025-06-03T12:46:03.147647",
     "status": "completed"
    },
    "tags": []
   },
   "outputs": [
    {
     "data": {
      "text/plain": [
       "Class\n",
       "0    57641\n",
       "2    52497\n",
       "1    25369\n",
       "Name: count, dtype: int64"
      ]
     },
     "execution_count": 16,
     "metadata": {},
     "output_type": "execute_result"
    }
   ],
   "source": [
    "sign_df2[\"Class\"].value_counts()"
   ]
  },
  {
   "cell_type": "code",
   "execution_count": 17,
   "id": "94749689",
   "metadata": {
    "execution": {
     "iopub.execute_input": "2025-06-03T12:46:03.199599Z",
     "iopub.status.busy": "2025-06-03T12:46:03.199277Z",
     "iopub.status.idle": "2025-06-03T12:46:03.207338Z",
     "shell.execute_reply": "2025-06-03T12:46:03.206393Z"
    },
    "papermill": {
     "duration": 0.022863,
     "end_time": "2025-06-03T12:46:03.208944",
     "exception": false,
     "start_time": "2025-06-03T12:46:03.186081",
     "status": "completed"
    },
    "tags": []
   },
   "outputs": [
    {
     "data": {
      "text/plain": [
       "record_name                        training/ningbo/g34/JS44560\n",
       "Duree_QRS_ms_mean                                   166.117647\n",
       "Duree_QRS_ms_std                                     33.320193\n",
       "Duree_QRS_ms_min                                         140.0\n",
       "Duree_QRS_ms_max                                         272.0\n",
       "                                         ...                  \n",
       "std_Intervalle_RR_ms                                  6.961801\n",
       "Age                                                       40.0\n",
       "Sex                                                       Male\n",
       "Dx                      ['164934002', '427084000', '55827005']\n",
       "Class                                                        2\n",
       "Name: 0, Length: 100, dtype: object"
      ]
     },
     "execution_count": 17,
     "metadata": {},
     "output_type": "execute_result"
    }
   ],
   "source": [
    "origin_comp_df.iloc[0]"
   ]
  },
  {
   "cell_type": "markdown",
   "id": "41238f90",
   "metadata": {
    "papermill": {
     "duration": 0.012335,
     "end_time": "2025-06-03T12:46:03.233965",
     "exception": false,
     "start_time": "2025-06-03T12:46:03.221630",
     "status": "completed"
    },
    "tags": []
   },
   "source": [
    "# diases 1 : "
   ]
  },
  {
   "cell_type": "code",
   "execution_count": 18,
   "id": "418dbdd2",
   "metadata": {
    "execution": {
     "iopub.execute_input": "2025-06-03T12:46:03.261031Z",
     "iopub.status.busy": "2025-06-03T12:46:03.260615Z",
     "iopub.status.idle": "2025-06-03T12:46:04.780846Z",
     "shell.execute_reply": "2025-06-03T12:46:04.779936Z"
    },
    "papermill": {
     "duration": 1.535848,
     "end_time": "2025-06-03T12:46:04.782805",
     "exception": false,
     "start_time": "2025-06-03T12:46:03.246957",
     "status": "completed"
    },
    "tags": []
   },
   "outputs": [
    {
     "name": "stdout",
     "output_type": "stream",
     "text": [
      "Counter({'426783006': 52566, '426177001': 25733, '164934002': 14606, '427084000': 12605, '164890007': 11671, '39732003': 8258, '55827005': 7622, '55930002': 6757, '164865005': 6187, '164889003': 5999, '428750005': 5188, '59931005': 5154, '427393009': 4819, '164873001': 4653, '429622005': 4311, '270492004': 4016, '284470004': 3571, '164951009': 3389, '59118001': 3318, '164930006': 2605, '164861001': 2559, '164917005': 2520, '445118002': 2346, '713427006': 2204, '698252002': 2083, '111975006': 2073, '251146004': 2032, '713426002': 1955, '10370003': 1952, '164884008': 1943, '427172004': 1734, '47665007': 1644, '164909002': 1389, '67741000119109': 1300, '164867002': 1167, '426761007': 1060, '425623009': 1043, '61721007': 916, '365413008': 888, '17338001': 776, '164931005': 715, '6374002': 678, '425419005': 670, '428417006': 646, '54329005': 496, '713422000': 461, '164947007': 419, '233917008': 417, '89792004': 386, '426434006': 325, '733534002': 311, '106068003': 311, '251223006': 307, '426627000': 297, '63593006': 227, '251199005': 226, '251120003': 216, '445211001': 207, '29320008': 203, '164912004': 194, '74390002': 191, '164937009': 191, '13640000': 168, '446358003': 166, '413844008': 161, '425856008': 156, '251200008': 156, '195042002': 156, '27885002': 155, '251205003': 142, '81898007': 140, '164896001': 123, '266249003': 119, '426995002': 112, '251198002': 108, '11157007': 101, '251170000': 92, '75532003': 78, '50799005': 76, '57054005': 73, '253352002': 72, '195126007': 62, '67751000119106': 54, '251268003': 52, '446813000': 51, '54016002': 49, '5609005': 48, '251266004': 45, '426648003': 42, '195080001': 41, '251180001': 39, '49578007': 39, '53741008': 37, '426664006': 35, '233897008': 32, '67198005': 27, '195060002': 27, '251187003': 24, '251182009': 23, '251166008': 22, '233892002': 21, '251164006': 17, '698247007': 16, '253339007': 14, '65778007': 14, '61277005': 13, '111288001': 12, '251139008': 12, '164895002': 12, '164921003': 11, '17366009': 10, '195101003': 10, '426183003': 8, '418818005': 7, '84114007': 7, '266257000': 7, '251173003': 7, '368009': 6, '164942001': 4, '77867006': 3, '204384007': 2, '314208002': 2, '282825002': 2, '74615001': 2, '60423000': 2, '49260003': 2, '413444003': 2, '251168009': 1, '370365005': 1, '704997005': 1, '82226007': 1, '251259000': 1, '426749004': 1})\n"
     ]
    }
   ],
   "source": [
    "from collections import Counter\n",
    "from itertools import chain\n",
    "import ast\n",
    "# Assuming df[\"dx\"] contains lists\n",
    "arr5 = [origin_comp_df,origin_mitbih_df,origin_ecgarr_df]\n",
    "sign_df3 = pd.concat(arr5, ignore_index=True)\n",
    "\n",
    "# If \"Dx\" entries are strings like \"[164934002, 427084000]\"\n",
    "parsed_dx_lists = sign_df3[\"Dx\"].apply(ast.literal_eval)\n",
    "\n",
    "# Flatten and count\n",
    "code_counts = Counter(chain.from_iterable(parsed_dx_lists))\n",
    "\n",
    "# Print how many times 164934002 appears\n",
    "print(code_counts)"
   ]
  },
  {
   "cell_type": "code",
   "execution_count": 19,
   "id": "fb01431a",
   "metadata": {
    "execution": {
     "iopub.execute_input": "2025-06-03T12:46:04.808819Z",
     "iopub.status.busy": "2025-06-03T12:46:04.808461Z",
     "iopub.status.idle": "2025-06-03T12:46:04.816998Z",
     "shell.execute_reply": "2025-06-03T12:46:04.816038Z"
    },
    "papermill": {
     "duration": 0.023421,
     "end_time": "2025-06-03T12:46:04.818747",
     "exception": false,
     "start_time": "2025-06-03T12:46:04.795326",
     "status": "completed"
    },
    "tags": []
   },
   "outputs": [
    {
     "data": {
      "text/plain": [
       "Class\n",
       "0    52566\n",
       "2    49046\n",
       "1    25369\n",
       "Name: count, dtype: int64"
      ]
     },
     "execution_count": 19,
     "metadata": {},
     "output_type": "execute_result"
    }
   ],
   "source": [
    "sign_df3[\"Class\"].value_counts()\n"
   ]
  },
  {
   "cell_type": "code",
   "execution_count": 20,
   "id": "4f79838b",
   "metadata": {
    "execution": {
     "iopub.execute_input": "2025-06-03T12:46:04.845954Z",
     "iopub.status.busy": "2025-06-03T12:46:04.845646Z",
     "iopub.status.idle": "2025-06-03T12:46:04.892195Z",
     "shell.execute_reply": "2025-06-03T12:46:04.891126Z"
    },
    "papermill": {
     "duration": 0.061853,
     "end_time": "2025-06-03T12:46:04.893769",
     "exception": false,
     "start_time": "2025-06-03T12:46:04.831916",
     "status": "completed"
    },
    "tags": []
   },
   "outputs": [
    {
     "name": "stdout",
     "output_type": "stream",
     "text": [
      "74415\n"
     ]
    }
   ],
   "source": [
    "sign_df3_ab = sign_df3[sign_df3[\"Class\"] != 0]\n",
    "print(len(sign_df3_ab))\n"
   ]
  },
  {
   "cell_type": "code",
   "execution_count": 21,
   "id": "a5fd2f95",
   "metadata": {
    "execution": {
     "iopub.execute_input": "2025-06-03T12:46:04.920210Z",
     "iopub.status.busy": "2025-06-03T12:46:04.919871Z",
     "iopub.status.idle": "2025-06-03T12:46:04.925995Z",
     "shell.execute_reply": "2025-06-03T12:46:04.925029Z"
    },
    "papermill": {
     "duration": 0.021235,
     "end_time": "2025-06-03T12:46:04.927440",
     "exception": false,
     "start_time": "2025-06-03T12:46:04.906205",
     "status": "completed"
    },
    "tags": []
   },
   "outputs": [
    {
     "name": "stderr",
     "output_type": "stream",
     "text": [
      "/tmp/ipykernel_13/1236508171.py:1: SettingWithCopyWarning: \n",
      "A value is trying to be set on a copy of a slice from a DataFrame.\n",
      "Try using .loc[row_indexer,col_indexer] = value instead\n",
      "\n",
      "See the caveats in the documentation: https://pandas.pydata.org/pandas-docs/stable/user_guide/indexing.html#returning-a-view-versus-a-copy\n",
      "  sign_df3_ab[\"Class\"] = None\n"
     ]
    }
   ],
   "source": [
    "sign_df3_ab[\"Class\"] = None"
   ]
  },
  {
   "cell_type": "code",
   "execution_count": 22,
   "id": "23fc2576",
   "metadata": {
    "execution": {
     "iopub.execute_input": "2025-06-03T12:46:04.953549Z",
     "iopub.status.busy": "2025-06-03T12:46:04.953242Z",
     "iopub.status.idle": "2025-06-03T12:46:04.961081Z",
     "shell.execute_reply": "2025-06-03T12:46:04.960082Z"
    },
    "papermill": {
     "duration": 0.022729,
     "end_time": "2025-06-03T12:46:04.962762",
     "exception": false,
     "start_time": "2025-06-03T12:46:04.940033",
     "status": "completed"
    },
    "tags": []
   },
   "outputs": [
    {
     "data": {
      "text/plain": [
       "Series([], Name: count, dtype: int64)"
      ]
     },
     "execution_count": 22,
     "metadata": {},
     "output_type": "execute_result"
    }
   ],
   "source": [
    "sign_df3_ab[\"Class\"].value_counts()\n"
   ]
  },
  {
   "cell_type": "code",
   "execution_count": 23,
   "id": "9657a920",
   "metadata": {
    "execution": {
     "iopub.execute_input": "2025-06-03T12:46:04.990231Z",
     "iopub.status.busy": "2025-06-03T12:46:04.989892Z",
     "iopub.status.idle": "2025-06-03T12:46:05.712703Z",
     "shell.execute_reply": "2025-06-03T12:46:05.711710Z"
    },
    "papermill": {
     "duration": 0.738781,
     "end_time": "2025-06-03T12:46:05.714445",
     "exception": false,
     "start_time": "2025-06-03T12:46:04.975664",
     "status": "completed"
    },
    "tags": []
   },
   "outputs": [
    {
     "name": "stderr",
     "output_type": "stream",
     "text": [
      "/tmp/ipykernel_13/362037583.py:1: SettingWithCopyWarning: \n",
      "A value is trying to be set on a copy of a slice from a DataFrame.\n",
      "Try using .loc[row_indexer,col_indexer] = value instead\n",
      "\n",
      "See the caveats in the documentation: https://pandas.pydata.org/pandas-docs/stable/user_guide/indexing.html#returning-a-view-versus-a-copy\n",
      "  sign_df3_ab[\"Dx\"] = sign_df3_ab[\"Dx\"].apply(ast.literal_eval)\n",
      "/tmp/ipykernel_13/362037583.py:11: SettingWithCopyWarning: \n",
      "A value is trying to be set on a copy of a slice from a DataFrame.\n",
      "Try using .loc[row_indexer,col_indexer] = value instead\n",
      "\n",
      "See the caveats in the documentation: https://pandas.pydata.org/pandas-docs/stable/user_guide/indexing.html#returning-a-view-versus-a-copy\n",
      "  sign_df3_ab[\"Class\"] = sign_df3_ab[\"Dx\"].apply(assign_class)\n"
     ]
    }
   ],
   "source": [
    "sign_df3_ab[\"Dx\"] = sign_df3_ab[\"Dx\"].apply(ast.literal_eval)\n",
    "\n",
    "# Define a function to classify based on Dx codes\n",
    "def assign_class(dx_list):\n",
    "    if \"427084000\" in dx_list:\n",
    "        return 0\n",
    "    else:\n",
    "        return 1  # Or some default value\n",
    "\n",
    "# Apply the function to assign the Class column\n",
    "sign_df3_ab[\"Class\"] = sign_df3_ab[\"Dx\"].apply(assign_class)"
   ]
  },
  {
   "cell_type": "code",
   "execution_count": 24,
   "id": "cb8d1485",
   "metadata": {
    "execution": {
     "iopub.execute_input": "2025-06-03T12:46:05.741741Z",
     "iopub.status.busy": "2025-06-03T12:46:05.741099Z",
     "iopub.status.idle": "2025-06-03T12:46:05.749379Z",
     "shell.execute_reply": "2025-06-03T12:46:05.748328Z"
    },
    "papermill": {
     "duration": 0.024119,
     "end_time": "2025-06-03T12:46:05.751482",
     "exception": false,
     "start_time": "2025-06-03T12:46:05.727363",
     "status": "completed"
    },
    "tags": []
   },
   "outputs": [
    {
     "data": {
      "text/plain": [
       "Class\n",
       "1    62046\n",
       "0    12369\n",
       "Name: count, dtype: int64"
      ]
     },
     "execution_count": 24,
     "metadata": {},
     "output_type": "execute_result"
    }
   ],
   "source": [
    "sign_df3_ab[\"Class\"].value_counts()\n"
   ]
  },
  {
   "cell_type": "markdown",
   "id": "7ac048cf",
   "metadata": {
    "papermill": {
     "duration": 0.014123,
     "end_time": "2025-06-03T12:46:05.780389",
     "exception": false,
     "start_time": "2025-06-03T12:46:05.766266",
     "status": "completed"
    },
    "tags": []
   },
   "source": [
    "# training"
   ]
  },
  {
   "cell_type": "code",
   "execution_count": 25,
   "id": "180dfa3d",
   "metadata": {
    "execution": {
     "iopub.execute_input": "2025-06-03T12:46:05.808304Z",
     "iopub.status.busy": "2025-06-03T12:46:05.808004Z",
     "iopub.status.idle": "2025-06-03T12:46:05.816095Z",
     "shell.execute_reply": "2025-06-03T12:46:05.815017Z"
    },
    "papermill": {
     "duration": 0.023642,
     "end_time": "2025-06-03T12:46:05.817999",
     "exception": false,
     "start_time": "2025-06-03T12:46:05.794357",
     "status": "completed"
    },
    "tags": []
   },
   "outputs": [
    {
     "data": {
      "text/plain": [
       "Class\n",
       "1    62046\n",
       "0    12369\n",
       "Name: count, dtype: int64"
      ]
     },
     "execution_count": 25,
     "metadata": {},
     "output_type": "execute_result"
    }
   ],
   "source": [
    "\n",
    "df_full = sign_df3_ab\n",
    "df_full[\"Class\"].value_counts()\n"
   ]
  },
  {
   "cell_type": "code",
   "execution_count": 26,
   "id": "a1d0a479",
   "metadata": {
    "execution": {
     "iopub.execute_input": "2025-06-03T12:46:05.845786Z",
     "iopub.status.busy": "2025-06-03T12:46:05.845412Z",
     "iopub.status.idle": "2025-06-03T12:46:05.918091Z",
     "shell.execute_reply": "2025-06-03T12:46:05.917071Z"
    },
    "papermill": {
     "duration": 0.088569,
     "end_time": "2025-06-03T12:46:05.919952",
     "exception": false,
     "start_time": "2025-06-03T12:46:05.831383",
     "status": "completed"
    },
    "tags": []
   },
   "outputs": [],
   "source": [
    "\n",
    "mask = df_full.drop(columns=[\"Age\", \"Sex\"]).isnull().any(axis=1)\n",
    "df_with_nulls = df_full[mask]"
   ]
  },
  {
   "cell_type": "code",
   "execution_count": 27,
   "id": "9c5d474a",
   "metadata": {
    "execution": {
     "iopub.execute_input": "2025-06-03T12:46:05.947546Z",
     "iopub.status.busy": "2025-06-03T12:46:05.947196Z",
     "iopub.status.idle": "2025-06-03T12:46:06.083871Z",
     "shell.execute_reply": "2025-06-03T12:46:06.082613Z"
    },
    "papermill": {
     "duration": 0.152418,
     "end_time": "2025-06-03T12:46:06.085507",
     "exception": false,
     "start_time": "2025-06-03T12:46:05.933089",
     "status": "completed"
    },
    "tags": []
   },
   "outputs": [
    {
     "data": {
      "text/plain": [
       "Class\n",
       "1    62003\n",
       "0    12366\n",
       "Name: count, dtype: int64"
      ]
     },
     "execution_count": 27,
     "metadata": {},
     "output_type": "execute_result"
    }
   ],
   "source": [
    "\n",
    "# Drop those rows from the original dataframe\n",
    "df_full = df_full[~mask].reset_index(drop=True)\n",
    "\n",
    "df_full[\"Class\"].value_counts()"
   ]
  },
  {
   "cell_type": "code",
   "execution_count": 28,
   "id": "4c1ffffa",
   "metadata": {
    "execution": {
     "iopub.execute_input": "2025-06-03T12:46:06.115097Z",
     "iopub.status.busy": "2025-06-03T12:46:06.114747Z",
     "iopub.status.idle": "2025-06-03T12:46:06.119351Z",
     "shell.execute_reply": "2025-06-03T12:46:06.118411Z"
    },
    "papermill": {
     "duration": 0.020011,
     "end_time": "2025-06-03T12:46:06.121049",
     "exception": false,
     "start_time": "2025-06-03T12:46:06.101038",
     "status": "completed"
    },
    "tags": []
   },
   "outputs": [],
   "source": [
    "\n",
    "df_balanced = df_full"
   ]
  },
  {
   "cell_type": "code",
   "execution_count": 29,
   "id": "703a0660",
   "metadata": {
    "execution": {
     "iopub.execute_input": "2025-06-03T12:46:06.148056Z",
     "iopub.status.busy": "2025-06-03T12:46:06.147679Z",
     "iopub.status.idle": "2025-06-03T12:46:06.264806Z",
     "shell.execute_reply": "2025-06-03T12:46:06.263534Z"
    },
    "papermill": {
     "duration": 0.132721,
     "end_time": "2025-06-03T12:46:06.266706",
     "exception": false,
     "start_time": "2025-06-03T12:46:06.133985",
     "status": "completed"
    },
    "tags": []
   },
   "outputs": [],
   "source": [
    "from sklearn.utils import resample\n",
    "\n",
    "df = df_full\n",
    "# Separate the two classes\n",
    "df_major = df[df['Class'] == 1]\n",
    "df_minor = df[df['Class'] == 0]\n",
    "\n",
    "# Downsample the majority class\n",
    "df_major_downsampled = resample(df_major,\n",
    "                                replace=False,     # without replacement\n",
    "                                n_samples=len(df_minor),\n",
    "                                random_state=42)   # reproducibility\n",
    "\n",
    "# Combine balanced dataset\n",
    "df_balanced = pd.concat([df_major_downsampled, df_minor])\n",
    "df_balanced = df_balanced.sample(frac=1, random_state=42).reset_index(drop=True)\n",
    "\n",
    "# balancing"
   ]
  },
  {
   "cell_type": "code",
   "execution_count": 30,
   "id": "a47e7161",
   "metadata": {
    "execution": {
     "iopub.execute_input": "2025-06-03T12:46:06.294710Z",
     "iopub.status.busy": "2025-06-03T12:46:06.293724Z",
     "iopub.status.idle": "2025-06-03T12:46:06.611748Z",
     "shell.execute_reply": "2025-06-03T12:46:06.610540Z"
    },
    "papermill": {
     "duration": 0.333558,
     "end_time": "2025-06-03T12:46:06.613284",
     "exception": false,
     "start_time": "2025-06-03T12:46:06.279726",
     "status": "completed"
    },
    "tags": []
   },
   "outputs": [
    {
     "name": "stdout",
     "output_type": "stream",
     "text": [
      "Class\n",
      "1    12366\n",
      "0    12366\n",
      "Name: count, dtype: int64\n",
      "Index(['Duree_QRS_ms_mean', 'Duree_QRS_ms_std', 'Duree_QRS_ms_min',\n",
      "       'Duree_QRS_ms_max', 'Duree_P_ms_mean', 'Duree_P_ms_std',\n",
      "       'Duree_P_ms_min', 'Duree_P_ms_max', 'Duree_T_ms_mean', 'Duree_T_ms_std',\n",
      "       'Duree_T_ms_min', 'Duree_T_ms_max', 'Intervalle_QT_ms_mean',\n",
      "       'Intervalle_QT_ms_std', 'Intervalle_QT_ms_min', 'Intervalle_QT_ms_max',\n",
      "       'Intervalle_PR_ms_mean', 'Intervalle_PR_ms_std', 'Intervalle_PR_ms_min',\n",
      "       'Intervalle_PR_ms_max', 'Intervalle_ST_ms_mean', 'Intervalle_ST_ms_std',\n",
      "       'Intervalle_ST_ms_min', 'Intervalle_ST_ms_max', 'Amplitude_P_mean',\n",
      "       'Amplitude_P_std', 'Amplitude_P_min', 'Amplitude_P_max',\n",
      "       'Amplitude_Q_mean', 'Amplitude_Q_std', 'Amplitude_Q_min',\n",
      "       'Amplitude_Q_max', 'Amplitude_R_mean', 'Amplitude_R_std',\n",
      "       'Amplitude_R_min', 'Amplitude_R_max', 'Amplitude_S_mean',\n",
      "       'Amplitude_S_std', 'Amplitude_S_min', 'Amplitude_S_max',\n",
      "       'Amplitude_T_mean', 'Amplitude_T_std', 'Amplitude_T_min',\n",
      "       'Amplitude_T_max', 'T/R_ratio_mean', 'T/R_ratio_std', 'T/R_ratio_min',\n",
      "       'T/R_ratio_max', 'P/R_ratio_mean', 'P/R_ratio_std', 'P/R_ratio_min',\n",
      "       'P/R_ratio_max', 'QRS_area_mean', 'QRS_area_std', 'QRS_area_min',\n",
      "       'QRS_area_max', 'Slope_QR_mean', 'Slope_QR_std', 'Slope_QR_min',\n",
      "       'Slope_QR_max', 'Slope_RS_mean', 'Slope_RS_std', 'Slope_RS_min',\n",
      "       'Slope_RS_max', 'Heart_rate_bpm_mean', 'Heart_rate_bpm_std',\n",
      "       'Heart_rate_bpm_min', 'Heart_rate_bpm_max', 'Local_RMSSD_mean',\n",
      "       'Local_RMSSD_std', 'Local_RMSSD_min', 'Local_RMSSD_max',\n",
      "       'T_inversion_mean', 'T_inversion_sum', 'Premature_beat_sum',\n",
      "       'Bigeminy_sum', 'Trigeminy_sum', 'count_N', 'count_L', 'count_R',\n",
      "       'count_/', 'count_V', 'count_else', 'ratio_N', 'ratio_L', 'ratio_R',\n",
      "       'ratio_/', 'ratio_V', 'ratio_else', 'percent_T_inversion',\n",
      "       'QRS_prolonged_ratio', 'QT_prolonged_ratio', 'PVC_ratio', 'num_beats',\n",
      "       'std_Intervalle_RR_ms'],\n",
      "      dtype='object')\n"
     ]
    }
   ],
   "source": [
    "import pandas as pd\n",
    "from sklearn.model_selection import train_test_split\n",
    "from sklearn.ensemble import RandomForestClassifier\n",
    "from sklearn.metrics import classification_report, accuracy_score , confusion_matrix\n",
    "\n",
    "# Assuming df_full already has the 'is_normal' column for classification\n",
    "# Define X and y\n",
    "X = df_balanced.drop(columns=['record_name','Sex','Age',\"Dx\",'Class'])  # Features: exclude 'is_normal' column\n",
    "\n",
    "y = df_balanced['Class']  # Target: 'is_normal'\n",
    "print(y.value_counts())\n",
    "print(X.columns)\n",
    "# Split the data into training and testing sets (80% training, 20% testing)\n",
    "X_train, X_test, y_train, y_test = train_test_split(X, y, test_size=0.2, random_state=42)\n",
    "\n"
   ]
  },
  {
   "cell_type": "code",
   "execution_count": 31,
   "id": "f754d873",
   "metadata": {
    "execution": {
     "iopub.execute_input": "2025-06-03T12:46:06.640766Z",
     "iopub.status.busy": "2025-06-03T12:46:06.640263Z",
     "iopub.status.idle": "2025-06-03T12:46:27.117720Z",
     "shell.execute_reply": "2025-06-03T12:46:27.116654Z"
    },
    "papermill": {
     "duration": 20.493161,
     "end_time": "2025-06-03T12:46:27.119377",
     "exception": false,
     "start_time": "2025-06-03T12:46:06.626216",
     "status": "completed"
    },
    "tags": []
   },
   "outputs": [
    {
     "name": "stdout",
     "output_type": "stream",
     "text": [
      "Accuracy: 0.9616\n",
      "Classification Report:\n",
      "              precision    recall  f1-score   support\n",
      "\n",
      "           0       0.96      0.97      0.96      2488\n",
      "           1       0.97      0.95      0.96      2459\n",
      "\n",
      "    accuracy                           0.96      4947\n",
      "   macro avg       0.96      0.96      0.96      4947\n",
      "weighted avg       0.96      0.96      0.96      4947\n",
      "\n",
      "[[2409   79]\n",
      " [ 111 2348]]\n"
     ]
    }
   ],
   "source": [
    "\n",
    "# Initialize a RandomForestClassifier\n",
    "rf_clf =  RandomForestClassifier(n_estimators=100, class_weight='balanced', random_state=42)\n",
    "\n",
    "# Train the model\n",
    "rf_clf.fit(X_train, y_train)\n",
    "\n",
    "# Make predictions on the test set\n",
    "y_pred = rf_clf.predict(X_test)\n",
    "\n",
    "# Evaluate the model\n",
    "print(f\"Accuracy: {accuracy_score(y_test, y_pred):.4f}\")\n",
    "print(\"Classification Report:\")\n",
    "print(classification_report(y_test, y_pred))\n",
    "print(confusion_matrix(y_test, y_pred))\n"
   ]
  },
  {
   "cell_type": "code",
   "execution_count": 32,
   "id": "2fd7cc3e",
   "metadata": {
    "execution": {
     "iopub.execute_input": "2025-06-03T12:46:27.150416Z",
     "iopub.status.busy": "2025-06-03T12:46:27.150090Z",
     "iopub.status.idle": "2025-06-03T12:46:27.461023Z",
     "shell.execute_reply": "2025-06-03T12:46:27.459947Z"
    },
    "papermill": {
     "duration": 0.328427,
     "end_time": "2025-06-03T12:46:27.462629",
     "exception": false,
     "start_time": "2025-06-03T12:46:27.134202",
     "status": "completed"
    },
    "tags": []
   },
   "outputs": [
    {
     "data": {
      "image/png": "[encoded data removed]",
      "text/plain": [
       "<Figure size 640x480 with 1 Axes>"
      ]
     },
     "metadata": {},
     "output_type": "display_data"
    }
   ],
   "source": [
    "import matplotlib.pyplot as plt\n",
    "from sklearn.metrics import precision_recall_curve\n",
    "\n",
    "precision, recall, thresholds = precision_recall_curve(y_test, y_pred)\n",
    "\n",
    "plt.plot(thresholds, precision[:-1], label=\"Precision\")\n",
    "plt.plot(thresholds, recall[:-1], label=\"Recall\")\n",
    "plt.xlabel(\"Threshold\")\n",
    "plt.legend()\n",
    "plt.title(\"Precision-Recall vs Threshold\")\n",
    "plt.grid()\n",
    "plt.show()\n"
   ]
  },
  {
   "cell_type": "code",
   "execution_count": 33,
   "id": "c4d6076e",
   "metadata": {
    "execution": {
     "iopub.execute_input": "2025-06-03T12:46:27.492271Z",
     "iopub.status.busy": "2025-06-03T12:46:27.491931Z",
     "iopub.status.idle": "2025-06-03T12:46:27.950264Z",
     "shell.execute_reply": "2025-06-03T12:46:27.949245Z"
    },
    "papermill": {
     "duration": 0.475883,
     "end_time": "2025-06-03T12:46:27.952694",
     "exception": false,
     "start_time": "2025-06-03T12:46:27.476811",
     "status": "completed"
    },
    "tags": []
   },
   "outputs": [
    {
     "data": {
      "image/png": "[encoded data removed]",
      "text/plain": [
       "<Figure size 640x480 with 1 Axes>"
      ]
     },
     "metadata": {},
     "output_type": "display_data"
    }
   ],
   "source": [
    "import pandas as pd\n",
    "import matplotlib.pyplot as plt\n",
    "\n",
    "importances = rf_clf.feature_importances_\n",
    "feature_names = X_train.columns\n",
    "feat_imp = pd.Series(importances, index=feature_names).sort_values(ascending=False)\n",
    "\n",
    "# Top 20 features\n",
    "feat_imp.head(30).plot(kind='barh', title='Top 20 Feature Importances')\n",
    "plt.gca().invert_yaxis()\n",
    "plt.tight_layout()\n",
    "plt.show()\n"
   ]
  },
  {
   "cell_type": "code",
   "execution_count": 34,
   "id": "ae0e19f3",
   "metadata": {
    "execution": {
     "iopub.execute_input": "2025-06-03T12:46:27.987220Z",
     "iopub.status.busy": "2025-06-03T12:46:27.986932Z",
     "iopub.status.idle": "2025-06-03T12:46:28.191311Z",
     "shell.execute_reply": "2025-06-03T12:46:28.190248Z"
    },
    "papermill": {
     "duration": 0.223808,
     "end_time": "2025-06-03T12:46:28.193490",
     "exception": false,
     "start_time": "2025-06-03T12:46:27.969682",
     "status": "completed"
    },
    "tags": []
   },
   "outputs": [
    {
     "data": {
      "image/png": "[encoded data removed]",
      "text/plain": [
       "<Figure size 640x480 with 1 Axes>"
      ]
     },
     "metadata": {},
     "output_type": "display_data"
    }
   ],
   "source": [
    "from sklearn.metrics import roc_auc_score, roc_curve\n",
    "\n",
    "roc_auc = roc_auc_score(y_test, y_pred)\n",
    "fpr, tpr, _ = roc_curve(y_test, y_pred)\n",
    "\n",
    "plt.plot(fpr, tpr, label=f'ROC Curve (AUC = {roc_auc:.2f})')\n",
    "plt.plot([0, 1], [0, 1], 'k--')  # Diagonal line\n",
    "plt.xlabel('False Positive Rate')\n",
    "plt.ylabel('True Positive Rate')\n",
    "plt.title('Receiver Operating Characteristic')\n",
    "plt.legend()\n",
    "plt.grid()\n",
    "plt.show()\n"
   ]
  },
  {
   "cell_type": "code",
   "execution_count": 35,
   "id": "48b6f5a5",
   "metadata": {
    "execution": {
     "iopub.execute_input": "2025-06-03T12:46:28.227642Z",
     "iopub.status.busy": "2025-06-03T12:46:28.227266Z",
     "iopub.status.idle": "2025-06-03T12:46:28.282951Z",
     "shell.execute_reply": "2025-06-03T12:46:28.281892Z"
    },
    "papermill": {
     "duration": 0.074845,
     "end_time": "2025-06-03T12:46:28.284625",
     "exception": false,
     "start_time": "2025-06-03T12:46:28.209780",
     "status": "completed"
    },
    "tags": []
   },
   "outputs": [
    {
     "name": "stdout",
     "output_type": "stream",
     "text": [
      "Model saved successfully!\n"
     ]
    }
   ],
   "source": [
    "import joblib\n",
    "\n",
    "# Save model\n",
    "joblib.dump(rf_clf, 'sinus_tachycardia_vs_else_model.pkl')\n",
    "print(\"Model saved successfully!\")"
   ]
  },
  {
   "cell_type": "markdown",
   "id": "22ce6670",
   "metadata": {
    "papermill": {
     "duration": 0.015893,
     "end_time": "2025-06-03T12:46:28.316835",
     "exception": false,
     "start_time": "2025-06-03T12:46:28.300942",
     "status": "completed"
    },
    "tags": []
   },
   "source": [
    "# diases 2: '426761007': supraventricular tachycardia"
   ]
  },
  {
   "cell_type": "code",
   "execution_count": 36,
   "id": "d4f03dc4",
   "metadata": {
    "execution": {
     "iopub.execute_input": "2025-06-03T12:46:28.351401Z",
     "iopub.status.busy": "2025-06-03T12:46:28.351123Z",
     "iopub.status.idle": "2025-06-03T12:46:29.840374Z",
     "shell.execute_reply": "2025-06-03T12:46:29.839249Z"
    },
    "papermill": {
     "duration": 1.509071,
     "end_time": "2025-06-03T12:46:29.842227",
     "exception": false,
     "start_time": "2025-06-03T12:46:28.333156",
     "status": "completed"
    },
    "tags": []
   },
   "outputs": [
    {
     "name": "stdout",
     "output_type": "stream",
     "text": [
      "Counter({'426783006': 52566, '426177001': 25733, '164934002': 14606, '427084000': 12605, '164890007': 11671, '39732003': 8258, '55827005': 7622, '55930002': 6757, '164865005': 6187, '164889003': 5999, '428750005': 5188, '59931005': 5154, '427393009': 4819, '164873001': 4653, '429622005': 4311, '270492004': 4016, '284470004': 3571, '164951009': 3389, '59118001': 3318, '164930006': 2605, '164861001': 2559, '164917005': 2520, '445118002': 2346, '713427006': 2204, '698252002': 2083, '111975006': 2073, '251146004': 2032, '713426002': 1955, '10370003': 1952, '164884008': 1943, '427172004': 1734, '47665007': 1644, '164909002': 1389, '67741000119109': 1300, '164867002': 1167, '426761007': 1060, '425623009': 1043, '61721007': 916, '365413008': 888, '17338001': 776, '164931005': 715, '6374002': 678, '425419005': 670, '428417006': 646, '54329005': 496, '713422000': 461, '164947007': 419, '233917008': 417, '89792004': 386, '426434006': 325, '733534002': 311, '106068003': 311, '251223006': 307, '426627000': 297, '63593006': 227, '251199005': 226, '251120003': 216, '445211001': 207, '29320008': 203, '164912004': 194, '74390002': 191, '164937009': 191, '13640000': 168, '446358003': 166, '413844008': 161, '425856008': 156, '251200008': 156, '195042002': 156, '27885002': 155, '251205003': 142, '81898007': 140, '164896001': 123, '266249003': 119, '426995002': 112, '251198002': 108, '11157007': 101, '251170000': 92, '75532003': 78, '50799005': 76, '57054005': 73, '253352002': 72, '195126007': 62, '67751000119106': 54, '251268003': 52, '446813000': 51, '54016002': 49, '5609005': 48, '251266004': 45, '426648003': 42, '195080001': 41, '251180001': 39, '49578007': 39, '53741008': 37, '426664006': 35, '233897008': 32, '67198005': 27, '195060002': 27, '251187003': 24, '251182009': 23, '251166008': 22, '233892002': 21, '251164006': 17, '698247007': 16, '253339007': 14, '65778007': 14, '61277005': 13, '111288001': 12, '251139008': 12, '164895002': 12, '164921003': 11, '17366009': 10, '195101003': 10, '426183003': 8, '418818005': 7, '84114007': 7, '266257000': 7, '251173003': 7, '368009': 6, '164942001': 4, '77867006': 3, '204384007': 2, '314208002': 2, '282825002': 2, '74615001': 2, '60423000': 2, '49260003': 2, '413444003': 2, '251168009': 1, '370365005': 1, '704997005': 1, '82226007': 1, '251259000': 1, '426749004': 1})\n"
     ]
    }
   ],
   "source": [
    "from collections import Counter\n",
    "from itertools import chain\n",
    "import ast\n",
    "# Assuming df[\"dx\"] contains lists\n",
    "arr5 = [origin_comp_df,origin_mitbih_df,origin_ecgarr_df]\n",
    "sign_df3 = pd.concat(arr5, ignore_index=True)\n",
    "\n",
    "# If \"Dx\" entries are strings like \"[164934002, 427084000]\"\n",
    "parsed_dx_lists = sign_df3[\"Dx\"].apply(ast.literal_eval)\n",
    "\n",
    "# Flatten and count\n",
    "code_counts = Counter(chain.from_iterable(parsed_dx_lists))\n",
    "\n",
    "# Print how many times 164934002 appears\n",
    "print(code_counts)"
   ]
  },
  {
   "cell_type": "code",
   "execution_count": 37,
   "id": "0349323f",
   "metadata": {
    "execution": {
     "iopub.execute_input": "2025-06-03T12:46:29.877550Z",
     "iopub.status.busy": "2025-06-03T12:46:29.877159Z",
     "iopub.status.idle": "2025-06-03T12:46:29.918475Z",
     "shell.execute_reply": "2025-06-03T12:46:29.917354Z"
    },
    "papermill": {
     "duration": 0.060846,
     "end_time": "2025-06-03T12:46:29.920078",
     "exception": false,
     "start_time": "2025-06-03T12:46:29.859232",
     "status": "completed"
    },
    "tags": []
   },
   "outputs": [
    {
     "name": "stdout",
     "output_type": "stream",
     "text": [
      "74415\n"
     ]
    }
   ],
   "source": [
    "sign_df3_ab = sign_df3[sign_df3[\"Class\"] != 0]\n",
    "print(len(sign_df3_ab))\n"
   ]
  },
  {
   "cell_type": "code",
   "execution_count": 38,
   "id": "6c9def8c",
   "metadata": {
    "execution": {
     "iopub.execute_input": "2025-06-03T12:46:29.955848Z",
     "iopub.status.busy": "2025-06-03T12:46:29.954927Z",
     "iopub.status.idle": "2025-06-03T12:46:29.961747Z",
     "shell.execute_reply": "2025-06-03T12:46:29.960399Z"
    },
    "papermill": {
     "duration": 0.026691,
     "end_time": "2025-06-03T12:46:29.963540",
     "exception": false,
     "start_time": "2025-06-03T12:46:29.936849",
     "status": "completed"
    },
    "tags": []
   },
   "outputs": [
    {
     "name": "stderr",
     "output_type": "stream",
     "text": [
      "/tmp/ipykernel_13/1236508171.py:1: SettingWithCopyWarning: \n",
      "A value is trying to be set on a copy of a slice from a DataFrame.\n",
      "Try using .loc[row_indexer,col_indexer] = value instead\n",
      "\n",
      "See the caveats in the documentation: https://pandas.pydata.org/pandas-docs/stable/user_guide/indexing.html#returning-a-view-versus-a-copy\n",
      "  sign_df3_ab[\"Class\"] = None\n"
     ]
    }
   ],
   "source": [
    "sign_df3_ab[\"Class\"] = None"
   ]
  },
  {
   "cell_type": "code",
   "execution_count": 39,
   "id": "f0ec62aa",
   "metadata": {
    "execution": {
     "iopub.execute_input": "2025-06-03T12:46:30.003353Z",
     "iopub.status.busy": "2025-06-03T12:46:30.003031Z",
     "iopub.status.idle": "2025-06-03T12:46:30.952106Z",
     "shell.execute_reply": "2025-06-03T12:46:30.950962Z"
    },
    "papermill": {
     "duration": 0.967918,
     "end_time": "2025-06-03T12:46:30.953753",
     "exception": false,
     "start_time": "2025-06-03T12:46:29.985835",
     "status": "completed"
    },
    "tags": []
   },
   "outputs": [
    {
     "name": "stderr",
     "output_type": "stream",
     "text": [
      "/tmp/ipykernel_13/1975294185.py:1: SettingWithCopyWarning: \n",
      "A value is trying to be set on a copy of a slice from a DataFrame.\n",
      "Try using .loc[row_indexer,col_indexer] = value instead\n",
      "\n",
      "See the caveats in the documentation: https://pandas.pydata.org/pandas-docs/stable/user_guide/indexing.html#returning-a-view-versus-a-copy\n",
      "  sign_df3_ab[\"Dx\"] = sign_df3_ab[\"Dx\"].apply(ast.literal_eval)\n",
      "/tmp/ipykernel_13/1975294185.py:11: SettingWithCopyWarning: \n",
      "A value is trying to be set on a copy of a slice from a DataFrame.\n",
      "Try using .loc[row_indexer,col_indexer] = value instead\n",
      "\n",
      "See the caveats in the documentation: https://pandas.pydata.org/pandas-docs/stable/user_guide/indexing.html#returning-a-view-versus-a-copy\n",
      "  sign_df3_ab[\"Class\"] = sign_df3_ab[\"Dx\"].apply(assign_class)\n"
     ]
    }
   ],
   "source": [
    "sign_df3_ab[\"Dx\"] = sign_df3_ab[\"Dx\"].apply(ast.literal_eval)\n",
    "\n",
    "# Define a function to classify based on Dx codes\n",
    "def assign_class(dx_list):\n",
    "    if \"426761007\" in dx_list:\n",
    "        return 0\n",
    "    else:\n",
    "        return 1  # Or some default value\n",
    "\n",
    "# Apply the function to assign the Class column\n",
    "sign_df3_ab[\"Class\"] = sign_df3_ab[\"Dx\"].apply(assign_class)"
   ]
  },
  {
   "cell_type": "code",
   "execution_count": 40,
   "id": "96edbf59",
   "metadata": {
    "execution": {
     "iopub.execute_input": "2025-06-03T12:46:30.988804Z",
     "iopub.status.busy": "2025-06-03T12:46:30.988373Z",
     "iopub.status.idle": "2025-06-03T12:46:30.996479Z",
     "shell.execute_reply": "2025-06-03T12:46:30.995475Z"
    },
    "papermill": {
     "duration": 0.027451,
     "end_time": "2025-06-03T12:46:30.998357",
     "exception": false,
     "start_time": "2025-06-03T12:46:30.970906",
     "status": "completed"
    },
    "tags": []
   },
   "outputs": [
    {
     "data": {
      "text/plain": [
       "Class\n",
       "1    73358\n",
       "0     1057\n",
       "Name: count, dtype: int64"
      ]
     },
     "execution_count": 40,
     "metadata": {},
     "output_type": "execute_result"
    }
   ],
   "source": [
    "sign_df3_ab[\"Class\"].value_counts()\n"
   ]
  },
  {
   "cell_type": "code",
   "execution_count": 41,
   "id": "513e7ff8",
   "metadata": {
    "execution": {
     "iopub.execute_input": "2025-06-03T12:46:31.033843Z",
     "iopub.status.busy": "2025-06-03T12:46:31.032664Z",
     "iopub.status.idle": "2025-06-03T12:46:31.041167Z",
     "shell.execute_reply": "2025-06-03T12:46:31.039900Z"
    },
    "papermill": {
     "duration": 0.027389,
     "end_time": "2025-06-03T12:46:31.042673",
     "exception": false,
     "start_time": "2025-06-03T12:46:31.015284",
     "status": "completed"
    },
    "tags": []
   },
   "outputs": [
    {
     "data": {
      "text/plain": [
       "Class\n",
       "1    73358\n",
       "0     1057\n",
       "Name: count, dtype: int64"
      ]
     },
     "execution_count": 41,
     "metadata": {},
     "output_type": "execute_result"
    }
   ],
   "source": [
    "\n",
    "df_full = sign_df3_ab\n",
    "df_full[\"Class\"].value_counts()\n"
   ]
  },
  {
   "cell_type": "code",
   "execution_count": 42,
   "id": "e825fa86",
   "metadata": {
    "execution": {
     "iopub.execute_input": "2025-06-03T12:46:31.076773Z",
     "iopub.status.busy": "2025-06-03T12:46:31.076431Z",
     "iopub.status.idle": "2025-06-03T12:46:31.260117Z",
     "shell.execute_reply": "2025-06-03T12:46:31.258852Z"
    },
    "papermill": {
     "duration": 0.203023,
     "end_time": "2025-06-03T12:46:31.262296",
     "exception": false,
     "start_time": "2025-06-03T12:46:31.059273",
     "status": "completed"
    },
    "tags": []
   },
   "outputs": [],
   "source": [
    "\n",
    "mask = df_full.drop(columns=[\"Age\", \"Sex\"]).isnull().any(axis=1)\n",
    "df_with_nulls = df_full[mask]\n",
    "# Drop those rows from the original dataframe\n",
    "df_full = df_full[~mask].reset_index(drop=True)\n",
    "\n",
    "df_full[\"Class\"].value_counts()\n",
    "df_balanced = df_full"
   ]
  },
  {
   "cell_type": "code",
   "execution_count": 43,
   "id": "7fb8947e",
   "metadata": {
    "execution": {
     "iopub.execute_input": "2025-06-03T12:46:31.298254Z",
     "iopub.status.busy": "2025-06-03T12:46:31.297899Z",
     "iopub.status.idle": "2025-06-03T12:46:31.354115Z",
     "shell.execute_reply": "2025-06-03T12:46:31.353022Z"
    },
    "papermill": {
     "duration": 0.076437,
     "end_time": "2025-06-03T12:46:31.355861",
     "exception": false,
     "start_time": "2025-06-03T12:46:31.279424",
     "status": "completed"
    },
    "tags": []
   },
   "outputs": [],
   "source": [
    "from sklearn.utils import resample\n",
    "\n",
    "df = df_full\n",
    "# Separate the two classes\n",
    "df_major = df[df['Class'] == 1]\n",
    "df_minor = df[df['Class'] == 0]\n",
    "\n",
    "# Downsample the majority class\n",
    "df_major_downsampled = resample(df_major,\n",
    "                                replace=False,     # without replacement\n",
    "                                n_samples=len(df_minor),\n",
    "                                random_state=42)   # reproducibility\n",
    "\n",
    "# Combine balanced dataset\n",
    "df_balanced = pd.concat([df_major_downsampled, df_minor])\n",
    "df_balanced = df_balanced.sample(frac=1, random_state=42).reset_index(drop=True)\n",
    "\n",
    "# balancing"
   ]
  },
  {
   "cell_type": "code",
   "execution_count": 44,
   "id": "cbed0dc4",
   "metadata": {
    "execution": {
     "iopub.execute_input": "2025-06-03T12:46:31.390467Z",
     "iopub.status.busy": "2025-06-03T12:46:31.390128Z",
     "iopub.status.idle": "2025-06-03T12:46:31.397425Z",
     "shell.execute_reply": "2025-06-03T12:46:31.396473Z"
    },
    "papermill": {
     "duration": 0.02659,
     "end_time": "2025-06-03T12:46:31.399036",
     "exception": false,
     "start_time": "2025-06-03T12:46:31.372446",
     "status": "completed"
    },
    "tags": []
   },
   "outputs": [
    {
     "data": {
      "text/plain": [
       "Class\n",
       "0    1053\n",
       "1    1053\n",
       "Name: count, dtype: int64"
      ]
     },
     "execution_count": 44,
     "metadata": {},
     "output_type": "execute_result"
    }
   ],
   "source": [
    "df_balanced[\"Class\"].value_counts()"
   ]
  },
  {
   "cell_type": "code",
   "execution_count": 45,
   "id": "51f7ef14",
   "metadata": {
    "execution": {
     "iopub.execute_input": "2025-06-03T12:46:31.433934Z",
     "iopub.status.busy": "2025-06-03T12:46:31.433606Z",
     "iopub.status.idle": "2025-06-03T12:46:31.447629Z",
     "shell.execute_reply": "2025-06-03T12:46:31.446444Z"
    },
    "papermill": {
     "duration": 0.033466,
     "end_time": "2025-06-03T12:46:31.449407",
     "exception": false,
     "start_time": "2025-06-03T12:46:31.415941",
     "status": "completed"
    },
    "tags": []
   },
   "outputs": [
    {
     "name": "stdout",
     "output_type": "stream",
     "text": [
      "Class\n",
      "0    1053\n",
      "1    1053\n",
      "Name: count, dtype: int64\n",
      "Index(['Duree_QRS_ms_mean', 'Duree_QRS_ms_std', 'Duree_QRS_ms_min',\n",
      "       'Duree_QRS_ms_max', 'Duree_P_ms_mean', 'Duree_P_ms_std',\n",
      "       'Duree_P_ms_min', 'Duree_P_ms_max', 'Duree_T_ms_mean', 'Duree_T_ms_std',\n",
      "       'Duree_T_ms_min', 'Duree_T_ms_max', 'Intervalle_QT_ms_mean',\n",
      "       'Intervalle_QT_ms_std', 'Intervalle_QT_ms_min', 'Intervalle_QT_ms_max',\n",
      "       'Intervalle_PR_ms_mean', 'Intervalle_PR_ms_std', 'Intervalle_PR_ms_min',\n",
      "       'Intervalle_PR_ms_max', 'Intervalle_ST_ms_mean', 'Intervalle_ST_ms_std',\n",
      "       'Intervalle_ST_ms_min', 'Intervalle_ST_ms_max', 'Amplitude_P_mean',\n",
      "       'Amplitude_P_std', 'Amplitude_P_min', 'Amplitude_P_max',\n",
      "       'Amplitude_Q_mean', 'Amplitude_Q_std', 'Amplitude_Q_min',\n",
      "       'Amplitude_Q_max', 'Amplitude_R_mean', 'Amplitude_R_std',\n",
      "       'Amplitude_R_min', 'Amplitude_R_max', 'Amplitude_S_mean',\n",
      "       'Amplitude_S_std', 'Amplitude_S_min', 'Amplitude_S_max',\n",
      "       'Amplitude_T_mean', 'Amplitude_T_std', 'Amplitude_T_min',\n",
      "       'Amplitude_T_max', 'T/R_ratio_mean', 'T/R_ratio_std', 'T/R_ratio_min',\n",
      "       'T/R_ratio_max', 'P/R_ratio_mean', 'P/R_ratio_std', 'P/R_ratio_min',\n",
      "       'P/R_ratio_max', 'QRS_area_mean', 'QRS_area_std', 'QRS_area_min',\n",
      "       'QRS_area_max', 'Slope_QR_mean', 'Slope_QR_std', 'Slope_QR_min',\n",
      "       'Slope_QR_max', 'Slope_RS_mean', 'Slope_RS_std', 'Slope_RS_min',\n",
      "       'Slope_RS_max', 'Heart_rate_bpm_mean', 'Heart_rate_bpm_std',\n",
      "       'Heart_rate_bpm_min', 'Heart_rate_bpm_max', 'Local_RMSSD_mean',\n",
      "       'Local_RMSSD_std', 'Local_RMSSD_min', 'Local_RMSSD_max',\n",
      "       'T_inversion_mean', 'T_inversion_sum', 'Premature_beat_sum',\n",
      "       'Bigeminy_sum', 'Trigeminy_sum', 'count_N', 'count_L', 'count_R',\n",
      "       'count_/', 'count_V', 'count_else', 'ratio_N', 'ratio_L', 'ratio_R',\n",
      "       'ratio_/', 'ratio_V', 'ratio_else', 'percent_T_inversion',\n",
      "       'QRS_prolonged_ratio', 'QT_prolonged_ratio', 'PVC_ratio', 'num_beats',\n",
      "       'std_Intervalle_RR_ms'],\n",
      "      dtype='object')\n"
     ]
    }
   ],
   "source": [
    "import pandas as pd\n",
    "from sklearn.model_selection import train_test_split\n",
    "from sklearn.ensemble import RandomForestClassifier\n",
    "from sklearn.metrics import classification_report, accuracy_score , confusion_matrix\n",
    "\n",
    "# Assuming df_full already has the 'is_normal' column for classification\n",
    "# Define X and y\n",
    "X = df_balanced.drop(columns=['record_name','Sex','Age',\"Dx\",'Class'])  # Features: exclude 'is_normal' column\n",
    "\n",
    "y = df_balanced['Class']  # Target: 'is_normal'\n",
    "print(y.value_counts())\n",
    "print(X.columns)\n",
    "# Split the data into training and testing sets (80% training, 20% testing)\n",
    "X_train, X_test, y_train, y_test = train_test_split(X, y, test_size=0.2, random_state=42)\n",
    "\n"
   ]
  },
  {
   "cell_type": "code",
   "execution_count": 46,
   "id": "ecfac6cc",
   "metadata": {
    "execution": {
     "iopub.execute_input": "2025-06-03T12:46:31.484189Z",
     "iopub.status.busy": "2025-06-03T12:46:31.483897Z",
     "iopub.status.idle": "2025-06-03T12:46:32.501508Z",
     "shell.execute_reply": "2025-06-03T12:46:32.500277Z"
    },
    "papermill": {
     "duration": 1.038133,
     "end_time": "2025-06-03T12:46:32.504109",
     "exception": false,
     "start_time": "2025-06-03T12:46:31.465976",
     "status": "completed"
    },
    "tags": []
   },
   "outputs": [
    {
     "name": "stdout",
     "output_type": "stream",
     "text": [
      "Accuracy: 0.9597\n",
      "Classification Report:\n",
      "              precision    recall  f1-score   support\n",
      "\n",
      "           0       0.95      0.97      0.96       201\n",
      "           1       0.97      0.95      0.96       221\n",
      "\n",
      "    accuracy                           0.96       422\n",
      "   macro avg       0.96      0.96      0.96       422\n",
      "weighted avg       0.96      0.96      0.96       422\n",
      "\n",
      "[[195   6]\n",
      " [ 11 210]]\n"
     ]
    }
   ],
   "source": [
    "\n",
    "# Initialize a RandomForestClassifier\n",
    "rf_clf =  RandomForestClassifier(n_estimators=100, class_weight='balanced', random_state=42)\n",
    "\n",
    "# Train the model\n",
    "rf_clf.fit(X_train, y_train)\n",
    "\n",
    "# Make predictions on the test set\n",
    "y_pred = rf_clf.predict(X_test)\n",
    "\n",
    "# Evaluate the model\n",
    "print(f\"Accuracy: {accuracy_score(y_test, y_pred):.4f}\")\n",
    "print(\"Classification Report:\")\n",
    "print(classification_report(y_test, y_pred))\n",
    "print(confusion_matrix(y_test, y_pred))\n"
   ]
  },
  {
   "cell_type": "code",
   "execution_count": 47,
   "id": "fc313041",
   "metadata": {
    "execution": {
     "iopub.execute_input": "2025-06-03T12:46:32.542813Z",
     "iopub.status.busy": "2025-06-03T12:46:32.542444Z",
     "iopub.status.idle": "2025-06-03T12:46:32.732165Z",
     "shell.execute_reply": "2025-06-03T12:46:32.731206Z"
    },
    "papermill": {
     "duration": 0.209882,
     "end_time": "2025-06-03T12:46:32.733785",
     "exception": false,
     "start_time": "2025-06-03T12:46:32.523903",
     "status": "completed"
    },
    "tags": []
   },
   "outputs": [
    {
     "data": {
      "image/png": "[encoded data removed]",
      "text/plain": [
       "<Figure size 640x480 with 1 Axes>"
      ]
     },
     "metadata": {},
     "output_type": "display_data"
    }
   ],
   "source": [
    "import matplotlib.pyplot as plt\n",
    "from sklearn.metrics import precision_recall_curve\n",
    "\n",
    "precision, recall, thresholds = precision_recall_curve(y_test, y_pred)\n",
    "\n",
    "plt.plot(thresholds, precision[:-1], label=\"Precision\")\n",
    "plt.plot(thresholds, recall[:-1], label=\"Recall\")\n",
    "plt.xlabel(\"Threshold\")\n",
    "plt.legend()\n",
    "plt.title(\"Precision-Recall vs Threshold\")\n",
    "plt.grid()\n",
    "plt.show()\n"
   ]
  },
  {
   "cell_type": "code",
   "execution_count": 48,
   "id": "cd064225",
   "metadata": {
    "execution": {
     "iopub.execute_input": "2025-06-03T12:46:32.770210Z",
     "iopub.status.busy": "2025-06-03T12:46:32.769837Z",
     "iopub.status.idle": "2025-06-03T12:46:33.173534Z",
     "shell.execute_reply": "2025-06-03T12:46:33.172412Z"
    },
    "papermill": {
     "duration": 0.424749,
     "end_time": "2025-06-03T12:46:33.176033",
     "exception": false,
     "start_time": "2025-06-03T12:46:32.751284",
     "status": "completed"
    },
    "tags": []
   },
   "outputs": [
    {
     "data": {
      "image/png": "[encoded data removed]",
      "text/plain": [
       "<Figure size 640x480 with 1 Axes>"
      ]
     },
     "metadata": {},
     "output_type": "display_data"
    }
   ],
   "source": [
    "import pandas as pd\n",
    "import matplotlib.pyplot as plt\n",
    "\n",
    "importances = rf_clf.feature_importances_\n",
    "feature_names = X_train.columns\n",
    "feat_imp = pd.Series(importances, index=feature_names).sort_values(ascending=False)\n",
    "\n",
    "# Top 20 features\n",
    "feat_imp.head(30).plot(kind='barh', title='Top 20 Feature Importances')\n",
    "plt.gca().invert_yaxis()\n",
    "plt.tight_layout()\n",
    "plt.show()\n"
   ]
  },
  {
   "cell_type": "code",
   "execution_count": 49,
   "id": "97980fd9",
   "metadata": {
    "execution": {
     "iopub.execute_input": "2025-06-03T12:46:33.216668Z",
     "iopub.status.busy": "2025-06-03T12:46:33.216327Z",
     "iopub.status.idle": "2025-06-03T12:46:33.258244Z",
     "shell.execute_reply": "2025-06-03T12:46:33.256900Z"
    },
    "papermill": {
     "duration": 0.064585,
     "end_time": "2025-06-03T12:46:33.260113",
     "exception": false,
     "start_time": "2025-06-03T12:46:33.195528",
     "status": "completed"
    },
    "tags": []
   },
   "outputs": [
    {
     "name": "stdout",
     "output_type": "stream",
     "text": [
      "Model saved successfully!\n"
     ]
    }
   ],
   "source": [
    "import joblib\n",
    "\n",
    "# Save model\n",
    "joblib.dump(rf_clf, 'supraventricular_tachycardia_vs_else_model.pkl')\n",
    "print(\"Model saved successfully!\")"
   ]
  },
  {
   "cell_type": "markdown",
   "id": "497f0b48",
   "metadata": {
    "papermill": {
     "duration": 0.018672,
     "end_time": "2025-06-03T12:46:33.297626",
     "exception": false,
     "start_time": "2025-06-03T12:46:33.278954",
     "status": "completed"
    },
    "tags": []
   },
   "source": [
    "# diases 3: '427393009' sinus arrhythmia"
   ]
  },
  {
   "cell_type": "code",
   "execution_count": 50,
   "id": "79fbdac6",
   "metadata": {
    "execution": {
     "iopub.execute_input": "2025-06-03T12:46:33.337607Z",
     "iopub.status.busy": "2025-06-03T12:46:33.337289Z",
     "iopub.status.idle": "2025-06-03T12:46:34.705678Z",
     "shell.execute_reply": "2025-06-03T12:46:34.704428Z"
    },
    "papermill": {
     "duration": 1.390974,
     "end_time": "2025-06-03T12:46:34.707327",
     "exception": false,
     "start_time": "2025-06-03T12:46:33.316353",
     "status": "completed"
    },
    "tags": []
   },
   "outputs": [
    {
     "name": "stdout",
     "output_type": "stream",
     "text": [
      "Counter({'426783006': 52566, '426177001': 25733, '164934002': 14606, '427084000': 12605, '164890007': 11671, '39732003': 8258, '55827005': 7622, '55930002': 6757, '164865005': 6187, '164889003': 5999, '428750005': 5188, '59931005': 5154, '427393009': 4819, '164873001': 4653, '429622005': 4311, '270492004': 4016, '284470004': 3571, '164951009': 3389, '59118001': 3318, '164930006': 2605, '164861001': 2559, '164917005': 2520, '445118002': 2346, '713427006': 2204, '698252002': 2083, '111975006': 2073, '251146004': 2032, '713426002': 1955, '10370003': 1952, '164884008': 1943, '427172004': 1734, '47665007': 1644, '164909002': 1389, '67741000119109': 1300, '164867002': 1167, '426761007': 1060, '425623009': 1043, '61721007': 916, '365413008': 888, '17338001': 776, '164931005': 715, '6374002': 678, '425419005': 670, '428417006': 646, '54329005': 496, '713422000': 461, '164947007': 419, '233917008': 417, '89792004': 386, '426434006': 325, '733534002': 311, '106068003': 311, '251223006': 307, '426627000': 297, '63593006': 227, '251199005': 226, '251120003': 216, '445211001': 207, '29320008': 203, '164912004': 194, '74390002': 191, '164937009': 191, '13640000': 168, '446358003': 166, '413844008': 161, '425856008': 156, '251200008': 156, '195042002': 156, '27885002': 155, '251205003': 142, '81898007': 140, '164896001': 123, '266249003': 119, '426995002': 112, '251198002': 108, '11157007': 101, '251170000': 92, '75532003': 78, '50799005': 76, '57054005': 73, '253352002': 72, '195126007': 62, '67751000119106': 54, '251268003': 52, '446813000': 51, '54016002': 49, '5609005': 48, '251266004': 45, '426648003': 42, '195080001': 41, '251180001': 39, '49578007': 39, '53741008': 37, '426664006': 35, '233897008': 32, '67198005': 27, '195060002': 27, '251187003': 24, '251182009': 23, '251166008': 22, '233892002': 21, '251164006': 17, '698247007': 16, '253339007': 14, '65778007': 14, '61277005': 13, '111288001': 12, '251139008': 12, '164895002': 12, '164921003': 11, '17366009': 10, '195101003': 10, '426183003': 8, '418818005': 7, '84114007': 7, '266257000': 7, '251173003': 7, '368009': 6, '164942001': 4, '77867006': 3, '204384007': 2, '314208002': 2, '282825002': 2, '74615001': 2, '60423000': 2, '49260003': 2, '413444003': 2, '251168009': 1, '370365005': 1, '704997005': 1, '82226007': 1, '251259000': 1, '426749004': 1})\n"
     ]
    }
   ],
   "source": [
    "from collections import Counter\n",
    "from itertools import chain\n",
    "import ast\n",
    "# Assuming df[\"dx\"] contains lists\n",
    "arr5 = [origin_comp_df,origin_mitbih_df,origin_ecgarr_df]\n",
    "sign_df3 = pd.concat(arr5, ignore_index=True)\n",
    "\n",
    "# If \"Dx\" entries are strings like \"[164934002, 427084000]\"\n",
    "parsed_dx_lists = sign_df3[\"Dx\"].apply(ast.literal_eval)\n",
    "\n",
    "# Flatten and count\n",
    "code_counts = Counter(chain.from_iterable(parsed_dx_lists))\n",
    "\n",
    "# Print how many times 164934002 appears\n",
    "print(code_counts)"
   ]
  },
  {
   "cell_type": "code",
   "execution_count": 51,
   "id": "42bcbd32",
   "metadata": {
    "execution": {
     "iopub.execute_input": "2025-06-03T12:46:34.747525Z",
     "iopub.status.busy": "2025-06-03T12:46:34.747234Z",
     "iopub.status.idle": "2025-06-03T12:46:34.784360Z",
     "shell.execute_reply": "2025-06-03T12:46:34.783170Z"
    },
    "papermill": {
     "duration": 0.059401,
     "end_time": "2025-06-03T12:46:34.786284",
     "exception": false,
     "start_time": "2025-06-03T12:46:34.726883",
     "status": "completed"
    },
    "tags": []
   },
   "outputs": [
    {
     "name": "stderr",
     "output_type": "stream",
     "text": [
      "/tmp/ipykernel_13/2997288717.py:2: SettingWithCopyWarning: \n",
      "A value is trying to be set on a copy of a slice from a DataFrame.\n",
      "Try using .loc[row_indexer,col_indexer] = value instead\n",
      "\n",
      "See the caveats in the documentation: https://pandas.pydata.org/pandas-docs/stable/user_guide/indexing.html#returning-a-view-versus-a-copy\n",
      "  sign_df3_ab[\"Class\"] = None\n"
     ]
    }
   ],
   "source": [
    "sign_df3_ab = sign_df3[sign_df3[\"Class\"] != 0]\n",
    "sign_df3_ab[\"Class\"] = None"
   ]
  },
  {
   "cell_type": "code",
   "execution_count": 52,
   "id": "828e8478",
   "metadata": {
    "execution": {
     "iopub.execute_input": "2025-06-03T12:46:34.825753Z",
     "iopub.status.busy": "2025-06-03T12:46:34.825380Z",
     "iopub.status.idle": "2025-06-03T12:46:35.542020Z",
     "shell.execute_reply": "2025-06-03T12:46:35.541017Z"
    },
    "papermill": {
     "duration": 0.738415,
     "end_time": "2025-06-03T12:46:35.543760",
     "exception": false,
     "start_time": "2025-06-03T12:46:34.805345",
     "status": "completed"
    },
    "tags": []
   },
   "outputs": [
    {
     "name": "stderr",
     "output_type": "stream",
     "text": [
      "/tmp/ipykernel_13/2230923197.py:1: SettingWithCopyWarning: \n",
      "A value is trying to be set on a copy of a slice from a DataFrame.\n",
      "Try using .loc[row_indexer,col_indexer] = value instead\n",
      "\n",
      "See the caveats in the documentation: https://pandas.pydata.org/pandas-docs/stable/user_guide/indexing.html#returning-a-view-versus-a-copy\n",
      "  sign_df3_ab[\"Dx\"] = sign_df3_ab[\"Dx\"].apply(ast.literal_eval)\n",
      "/tmp/ipykernel_13/2230923197.py:11: SettingWithCopyWarning: \n",
      "A value is trying to be set on a copy of a slice from a DataFrame.\n",
      "Try using .loc[row_indexer,col_indexer] = value instead\n",
      "\n",
      "See the caveats in the documentation: https://pandas.pydata.org/pandas-docs/stable/user_guide/indexing.html#returning-a-view-versus-a-copy\n",
      "  sign_df3_ab[\"Class\"] = sign_df3_ab[\"Dx\"].apply(assign_class)\n"
     ]
    }
   ],
   "source": [
    "sign_df3_ab[\"Dx\"] = sign_df3_ab[\"Dx\"].apply(ast.literal_eval)\n",
    "\n",
    "# Define a function to classify based on Dx codes\n",
    "def assign_class(dx_list):\n",
    "    if \"427393009\" in dx_list:\n",
    "        return 0\n",
    "    else:\n",
    "        return 1  # Or some default value\n",
    "\n",
    "# Apply the function to assign the Class column\n",
    "sign_df3_ab[\"Class\"] = sign_df3_ab[\"Dx\"].apply(assign_class)"
   ]
  },
  {
   "cell_type": "code",
   "execution_count": 53,
   "id": "929b4784",
   "metadata": {
    "execution": {
     "iopub.execute_input": "2025-06-03T12:46:35.583278Z",
     "iopub.status.busy": "2025-06-03T12:46:35.582984Z",
     "iopub.status.idle": "2025-06-03T12:46:35.591453Z",
     "shell.execute_reply": "2025-06-03T12:46:35.590557Z"
    },
    "papermill": {
     "duration": 0.030277,
     "end_time": "2025-06-03T12:46:35.593203",
     "exception": false,
     "start_time": "2025-06-03T12:46:35.562926",
     "status": "completed"
    },
    "tags": []
   },
   "outputs": [
    {
     "data": {
      "text/plain": [
       "Class\n",
       "1    70321\n",
       "0     4094\n",
       "Name: count, dtype: int64"
      ]
     },
     "execution_count": 53,
     "metadata": {},
     "output_type": "execute_result"
    }
   ],
   "source": [
    "\n",
    "df_full = sign_df3_ab\n",
    "df_full[\"Class\"].value_counts()"
   ]
  },
  {
   "cell_type": "code",
   "execution_count": 54,
   "id": "8dc5381d",
   "metadata": {
    "execution": {
     "iopub.execute_input": "2025-06-03T12:46:35.633996Z",
     "iopub.status.busy": "2025-06-03T12:46:35.633566Z",
     "iopub.status.idle": "2025-06-03T12:46:35.794887Z",
     "shell.execute_reply": "2025-06-03T12:46:35.793774Z"
    },
    "papermill": {
     "duration": 0.183905,
     "end_time": "2025-06-03T12:46:35.796800",
     "exception": false,
     "start_time": "2025-06-03T12:46:35.612895",
     "status": "completed"
    },
    "tags": []
   },
   "outputs": [],
   "source": [
    "\n",
    "mask = df_full.drop(columns=[\"Age\", \"Sex\"]).isnull().any(axis=1)\n",
    "df_with_nulls = df_full[mask]\n",
    "# Drop those rows from the original dataframe\n",
    "df_full = df_full[~mask].reset_index(drop=True)\n",
    "\n",
    "df_full[\"Class\"].value_counts()\n",
    "df_balanced = df_full"
   ]
  },
  {
   "cell_type": "code",
   "execution_count": 55,
   "id": "28bf502c",
   "metadata": {
    "execution": {
     "iopub.execute_input": "2025-06-03T12:46:35.836725Z",
     "iopub.status.busy": "2025-06-03T12:46:35.836367Z",
     "iopub.status.idle": "2025-06-03T12:46:35.901415Z",
     "shell.execute_reply": "2025-06-03T12:46:35.900486Z"
    },
    "papermill": {
     "duration": 0.087061,
     "end_time": "2025-06-03T12:46:35.903439",
     "exception": false,
     "start_time": "2025-06-03T12:46:35.816378",
     "status": "completed"
    },
    "tags": []
   },
   "outputs": [],
   "source": [
    "from sklearn.utils import resample\n",
    "\n",
    "df = df_full\n",
    "# Separate the two classes\n",
    "df_major = df[df['Class'] == 1]\n",
    "df_minor = df[df['Class'] == 0]\n",
    "\n",
    "# Downsample the majority class\n",
    "df_major_downsampled = resample(df_major,\n",
    "                                replace=False,     # without replacement\n",
    "                                n_samples=len(df_minor),\n",
    "                                random_state=42)   # reproducibility\n",
    "\n",
    "# Combine balanced dataset\n",
    "df_balanced = pd.concat([df_major_downsampled, df_minor])\n",
    "df_balanced = df_balanced.sample(frac=1, random_state=42).reset_index(drop=True)\n",
    "\n",
    "# balancing"
   ]
  },
  {
   "cell_type": "code",
   "execution_count": 56,
   "id": "a5f6ccc3",
   "metadata": {
    "execution": {
     "iopub.execute_input": "2025-06-03T12:46:35.943352Z",
     "iopub.status.busy": "2025-06-03T12:46:35.943042Z",
     "iopub.status.idle": "2025-06-03T12:46:35.957723Z",
     "shell.execute_reply": "2025-06-03T12:46:35.956878Z"
    },
    "papermill": {
     "duration": 0.036126,
     "end_time": "2025-06-03T12:46:35.959213",
     "exception": false,
     "start_time": "2025-06-03T12:46:35.923087",
     "status": "completed"
    },
    "tags": []
   },
   "outputs": [
    {
     "name": "stdout",
     "output_type": "stream",
     "text": [
      "Class\n",
      "1    4094\n",
      "0    4094\n",
      "Name: count, dtype: int64\n",
      "Index(['Duree_QRS_ms_mean', 'Duree_QRS_ms_std', 'Duree_QRS_ms_min',\n",
      "       'Duree_QRS_ms_max', 'Duree_P_ms_mean', 'Duree_P_ms_std',\n",
      "       'Duree_P_ms_min', 'Duree_P_ms_max', 'Duree_T_ms_mean', 'Duree_T_ms_std',\n",
      "       'Duree_T_ms_min', 'Duree_T_ms_max', 'Intervalle_QT_ms_mean',\n",
      "       'Intervalle_QT_ms_std', 'Intervalle_QT_ms_min', 'Intervalle_QT_ms_max',\n",
      "       'Intervalle_PR_ms_mean', 'Intervalle_PR_ms_std', 'Intervalle_PR_ms_min',\n",
      "       'Intervalle_PR_ms_max', 'Intervalle_ST_ms_mean', 'Intervalle_ST_ms_std',\n",
      "       'Intervalle_ST_ms_min', 'Intervalle_ST_ms_max', 'Amplitude_P_mean',\n",
      "       'Amplitude_P_std', 'Amplitude_P_min', 'Amplitude_P_max',\n",
      "       'Amplitude_Q_mean', 'Amplitude_Q_std', 'Amplitude_Q_min',\n",
      "       'Amplitude_Q_max', 'Amplitude_R_mean', 'Amplitude_R_std',\n",
      "       'Amplitude_R_min', 'Amplitude_R_max', 'Amplitude_S_mean',\n",
      "       'Amplitude_S_std', 'Amplitude_S_min', 'Amplitude_S_max',\n",
      "       'Amplitude_T_mean', 'Amplitude_T_std', 'Amplitude_T_min',\n",
      "       'Amplitude_T_max', 'T/R_ratio_mean', 'T/R_ratio_std', 'T/R_ratio_min',\n",
      "       'T/R_ratio_max', 'P/R_ratio_mean', 'P/R_ratio_std', 'P/R_ratio_min',\n",
      "       'P/R_ratio_max', 'QRS_area_mean', 'QRS_area_std', 'QRS_area_min',\n",
      "       'QRS_area_max', 'Slope_QR_mean', 'Slope_QR_std', 'Slope_QR_min',\n",
      "       'Slope_QR_max', 'Slope_RS_mean', 'Slope_RS_std', 'Slope_RS_min',\n",
      "       'Slope_RS_max', 'Heart_rate_bpm_mean', 'Heart_rate_bpm_std',\n",
      "       'Heart_rate_bpm_min', 'Heart_rate_bpm_max', 'Local_RMSSD_mean',\n",
      "       'Local_RMSSD_std', 'Local_RMSSD_min', 'Local_RMSSD_max',\n",
      "       'T_inversion_mean', 'T_inversion_sum', 'Premature_beat_sum',\n",
      "       'Bigeminy_sum', 'Trigeminy_sum', 'count_N', 'count_L', 'count_R',\n",
      "       'count_/', 'count_V', 'count_else', 'ratio_N', 'ratio_L', 'ratio_R',\n",
      "       'ratio_/', 'ratio_V', 'ratio_else', 'percent_T_inversion',\n",
      "       'QRS_prolonged_ratio', 'QT_prolonged_ratio', 'PVC_ratio', 'num_beats',\n",
      "       'std_Intervalle_RR_ms'],\n",
      "      dtype='object')\n"
     ]
    }
   ],
   "source": [
    "import pandas as pd\n",
    "from sklearn.model_selection import train_test_split\n",
    "from sklearn.ensemble import RandomForestClassifier\n",
    "from sklearn.metrics import classification_report, accuracy_score , confusion_matrix\n",
    "\n",
    "# Assuming df_full already has the 'is_normal' column for classification\n",
    "# Define X and y\n",
    "X = df_balanced.drop(columns=['record_name','Sex','Age',\"Dx\",'Class'])  # Features: exclude 'is_normal' column\n",
    "\n",
    "y = df_balanced['Class']  # Target: 'is_normal'\n",
    "print(y.value_counts())\n",
    "print(X.columns)\n",
    "# Split the data into training and testing sets (80% training, 20% testing)\n",
    "X_train, X_test, y_train, y_test = train_test_split(X, y, test_size=0.2, random_state=42)\n",
    "\n"
   ]
  },
  {
   "cell_type": "code",
   "execution_count": 57,
   "id": "523d0558",
   "metadata": {
    "execution": {
     "iopub.execute_input": "2025-06-03T12:46:35.998786Z",
     "iopub.status.busy": "2025-06-03T12:46:35.998442Z",
     "iopub.status.idle": "2025-06-03T12:46:41.485333Z",
     "shell.execute_reply": "2025-06-03T12:46:41.484400Z"
    },
    "papermill": {
     "duration": 5.508896,
     "end_time": "2025-06-03T12:46:41.487212",
     "exception": false,
     "start_time": "2025-06-03T12:46:35.978316",
     "status": "completed"
    },
    "tags": []
   },
   "outputs": [
    {
     "name": "stdout",
     "output_type": "stream",
     "text": [
      "Accuracy: 0.9170\n",
      "Classification Report:\n",
      "              precision    recall  f1-score   support\n",
      "\n",
      "           0       0.91      0.92      0.91       797\n",
      "           1       0.92      0.92      0.92       841\n",
      "\n",
      "    accuracy                           0.92      1638\n",
      "   macro avg       0.92      0.92      0.92      1638\n",
      "weighted avg       0.92      0.92      0.92      1638\n",
      "\n",
      "[[730  67]\n",
      " [ 69 772]]\n"
     ]
    }
   ],
   "source": [
    "\n",
    "# Initialize a RandomForestClassifier\n",
    "rf_clf =  RandomForestClassifier(n_estimators=100, class_weight='balanced', random_state=42)\n",
    "\n",
    "# Train the model\n",
    "rf_clf.fit(X_train, y_train)\n",
    "\n",
    "# Make predictions on the test set\n",
    "y_pred = rf_clf.predict(X_test)\n",
    "\n",
    "# Evaluate the model\n",
    "print(f\"Accuracy: {accuracy_score(y_test, y_pred):.4f}\")\n",
    "print(\"Classification Report:\")\n",
    "print(classification_report(y_test, y_pred))\n",
    "print(confusion_matrix(y_test, y_pred))\n"
   ]
  },
  {
   "cell_type": "code",
   "execution_count": 58,
   "id": "bd4035f7",
   "metadata": {
    "execution": {
     "iopub.execute_input": "2025-06-03T12:46:41.527732Z",
     "iopub.status.busy": "2025-06-03T12:46:41.527354Z",
     "iopub.status.idle": "2025-06-03T12:46:41.931044Z",
     "shell.execute_reply": "2025-06-03T12:46:41.929904Z"
    },
    "papermill": {
     "duration": 0.426092,
     "end_time": "2025-06-03T12:46:41.932766",
     "exception": false,
     "start_time": "2025-06-03T12:46:41.506674",
     "status": "completed"
    },
    "tags": []
   },
   "outputs": [
    {
     "data": {
      "image/png": "[encoded data removed]",
      "text/plain": [
       "<Figure size 640x480 with 1 Axes>"
      ]
     },
     "metadata": {},
     "output_type": "display_data"
    }
   ],
   "source": [
    "import pandas as pd\n",
    "import matplotlib.pyplot as plt\n",
    "\n",
    "importances = rf_clf.feature_importances_\n",
    "feature_names = X_train.columns\n",
    "feat_imp = pd.Series(importances, index=feature_names).sort_values(ascending=False)\n",
    "\n",
    "# Top 20 features\n",
    "feat_imp.head(30).plot(kind='barh', title='Top 20 Feature Importances')\n",
    "plt.gca().invert_yaxis()\n",
    "plt.tight_layout()\n",
    "plt.show()\n"
   ]
  },
  {
   "cell_type": "code",
   "execution_count": 59,
   "id": "d246fd40",
   "metadata": {
    "execution": {
     "iopub.execute_input": "2025-06-03T12:46:41.978407Z",
     "iopub.status.busy": "2025-06-03T12:46:41.977383Z",
     "iopub.status.idle": "2025-06-03T12:46:42.024541Z",
     "shell.execute_reply": "2025-06-03T12:46:42.023440Z"
    },
    "papermill": {
     "duration": 0.071264,
     "end_time": "2025-06-03T12:46:42.026363",
     "exception": false,
     "start_time": "2025-06-03T12:46:41.955099",
     "status": "completed"
    },
    "tags": []
   },
   "outputs": [
    {
     "name": "stdout",
     "output_type": "stream",
     "text": [
      "Model saved successfully!\n"
     ]
    }
   ],
   "source": [
    "import joblib\n",
    "\n",
    "# Save model\n",
    "joblib.dump(rf_clf, 'sinus arrhythmia_vs_else_model.pkl')\n",
    "print(\"Model saved successfully!\")"
   ]
  }
 ],
 "metadata": {
  "kaggle": {
   "accelerator": "none",
   "dataSources": [
    {
     "sourceId": 242525219,
     "sourceType": "kernelVersion"
    },
    {
     "sourceId": 242525428,
     "sourceType": "kernelVersion"
    },
    {
     "sourceId": 242670422,
     "sourceType": "kernelVersion"
    },
    {
     "sourceId": 242671333,
     "sourceType": "kernelVersion"
    }
   ],
   "dockerImageVersionId": 31040,
   "isGpuEnabled": false,
   "isInternetEnabled": true,
   "language": "python",
   "sourceType": "notebook"
  },
  "kernelspec": {
   "display_name": "Python 3",
   "language": "python",
   "name": "python3"
  },
  "language_info": {
   "codemirror_mode": {
    "name": "ipython",
    "version": 3
   },
   "file_extension": ".py",
   "mimetype": "text/x-python",
   "name": "python",
   "nbconvert_exporter": "python",
   "pygments_lexer": "ipython3",
   "version": "3.11.11"
  },
  "papermill": {
   "default_parameters": {},
   "duration": 69.873452,
   "end_time": "2025-06-03T12:46:42.869057",
   "environment_variables": {},
   "exception": null,
   "input_path": "__notebook__.ipynb",
   "output_path": "__notebook__.ipynb",
   "parameters": {},
   "start_time": "2025-06-03T12:45:32.995605",
   "version": "2.6.0"
  }
 },
 "nbformat": 4,
 "nbformat_minor": 5
}
