{
  "nbformat": 4,
  "nbformat_minor": 0,
  "metadata": {
    "colab": {
      "provenance": [],
      "gpuType": "T4",
      "mount_file_id": "1X44dmNgnYG_6jrQCAl63tYDWC5kTQ7QB",
      "authorship_tag": "ABX9TyOwfIk9vQHlFOqYZSLokzVn",
      "include_colab_link": true
    },
    "kernelspec": {
      "name": "python3",
      "display_name": "Python 3"
    },
    "language_info": {
      "name": "python"
    },
    "accelerator": "GPU"
  },
  "cells": [
    {
      "cell_type": "markdown",
      "metadata": {
        "id": "view-in-github",
        "colab_type": "text"
      },
      "source": [
        "<a href=\"https://colab.research.google.com/github/ab2gbl/ECG-detection/blob/main/QRS_detection/TCN/TCN_QTDB%2BLUDB.ipynb\" target=\"_parent\"><img src=\"https://colab.research.google.com/assets/colab-badge.svg\" alt=\"Open In Colab\"/></a>"
      ]
    },
    {
      "cell_type": "code",
      "source": [
        "!cp -r '/content/drive/MyDrive/Final project/dataset/physionet.org' '/content/physionet.org'"
      ],
      "metadata": {
        "id": "jJnnKI9HrZCC"
      },
      "execution_count": 1,
      "outputs": []
    },
    {
      "cell_type": "code",
      "source": [
        "!pip install wfdb"
      ],
      "metadata": {
        "colab": {
          "base_uri": "https://localhost:8080/"
        },
        "id": "rV8CyA6wHy5w",
        "outputId": "df05b1c2-4bfc-40cb-f771-d8c66147811f"
      },
      "execution_count": 1,
      "outputs": [
        {
          "output_type": "stream",
          "name": "stdout",
          "text": [
            "Requirement already satisfied: wfdb in /usr/local/lib/python3.11/dist-packages (4.2.0)\n",
            "Requirement already satisfied: matplotlib>=3.2.2 in /usr/local/lib/python3.11/dist-packages (from wfdb) (3.10.0)\n",
            "Requirement already satisfied: numpy>=1.26.4 in /usr/local/lib/python3.11/dist-packages (from wfdb) (1.26.4)\n",
            "Requirement already satisfied: pandas>=2.2.3 in /usr/local/lib/python3.11/dist-packages (from wfdb) (2.2.3)\n",
            "Requirement already satisfied: requests>=2.8.1 in /usr/local/lib/python3.11/dist-packages (from wfdb) (2.32.3)\n",
            "Requirement already satisfied: scipy>=1.13.0 in /usr/local/lib/python3.11/dist-packages (from wfdb) (1.14.1)\n",
            "Requirement already satisfied: soundfile>=0.10.0 in /usr/local/lib/python3.11/dist-packages (from wfdb) (0.13.1)\n",
            "Requirement already satisfied: contourpy>=1.0.1 in /usr/local/lib/python3.11/dist-packages (from matplotlib>=3.2.2->wfdb) (1.3.1)\n",
            "Requirement already satisfied: cycler>=0.10 in /usr/local/lib/python3.11/dist-packages (from matplotlib>=3.2.2->wfdb) (0.12.1)\n",
            "Requirement already satisfied: fonttools>=4.22.0 in /usr/local/lib/python3.11/dist-packages (from matplotlib>=3.2.2->wfdb) (4.56.0)\n",
            "Requirement already satisfied: kiwisolver>=1.3.1 in /usr/local/lib/python3.11/dist-packages (from matplotlib>=3.2.2->wfdb) (1.4.8)\n",
            "Requirement already satisfied: packaging>=20.0 in /usr/local/lib/python3.11/dist-packages (from matplotlib>=3.2.2->wfdb) (24.2)\n",
            "Requirement already satisfied: pillow>=8 in /usr/local/lib/python3.11/dist-packages (from matplotlib>=3.2.2->wfdb) (11.1.0)\n",
            "Requirement already satisfied: pyparsing>=2.3.1 in /usr/local/lib/python3.11/dist-packages (from matplotlib>=3.2.2->wfdb) (3.2.1)\n",
            "Requirement already satisfied: python-dateutil>=2.7 in /usr/local/lib/python3.11/dist-packages (from matplotlib>=3.2.2->wfdb) (2.8.2)\n",
            "Requirement already satisfied: pytz>=2020.1 in /usr/local/lib/python3.11/dist-packages (from pandas>=2.2.3->wfdb) (2025.1)\n",
            "Requirement already satisfied: tzdata>=2022.7 in /usr/local/lib/python3.11/dist-packages (from pandas>=2.2.3->wfdb) (2025.1)\n",
            "Requirement already satisfied: charset-normalizer<4,>=2 in /usr/local/lib/python3.11/dist-packages (from requests>=2.8.1->wfdb) (3.4.1)\n",
            "Requirement already satisfied: idna<4,>=2.5 in /usr/local/lib/python3.11/dist-packages (from requests>=2.8.1->wfdb) (3.10)\n",
            "Requirement already satisfied: urllib3<3,>=1.21.1 in /usr/local/lib/python3.11/dist-packages (from requests>=2.8.1->wfdb) (2.3.0)\n",
            "Requirement already satisfied: certifi>=2017.4.17 in /usr/local/lib/python3.11/dist-packages (from requests>=2.8.1->wfdb) (2025.1.31)\n",
            "Requirement already satisfied: cffi>=1.0 in /usr/local/lib/python3.11/dist-packages (from soundfile>=0.10.0->wfdb) (1.17.1)\n",
            "Requirement already satisfied: pycparser in /usr/local/lib/python3.11/dist-packages (from cffi>=1.0->soundfile>=0.10.0->wfdb) (2.22)\n",
            "Requirement already satisfied: six>=1.5 in /usr/local/lib/python3.11/dist-packages (from python-dateutil>=2.7->matplotlib>=3.2.2->wfdb) (1.17.0)\n"
          ]
        }
      ]
    },
    {
      "cell_type": "code",
      "source": [
        "import wfdb\n",
        "from scipy.signal import butter, filtfilt\n",
        "import numpy as np\n",
        "from scipy.signal import resample\n",
        "from re import S\n",
        "import os"
      ],
      "metadata": {
        "id": "8BD0S0jf7zjH"
      },
      "execution_count": 2,
      "outputs": []
    },
    {
      "cell_type": "code",
      "source": [
        "def bandpass_filter(signal, lowcut=0.5, highcut=40, fs=250, order=4):\n",
        "    nyquist = 0.5 * fs\n",
        "    low = lowcut / nyquist\n",
        "    high = highcut / nyquist\n",
        "    b, a = butter(order, [low, high], btype='band')\n",
        "    return filtfilt(b, a, signal)\n",
        "def smooth_signal(data, window_size=5):\n",
        "    # Smooth the signal using a moving average filter\n",
        "    window = np.ones(window_size) / window_size\n",
        "    smoothed = np.convolve(data, window, mode='same')\n",
        "    return smoothed\n",
        "def normalize_signal(data):\n",
        "    \"\"\"\n",
        "    Normalize the signal using z-score normalization.\n",
        "    \"\"\"\n",
        "    return (data - np.mean(data)) / np.std(data)\n"
      ],
      "metadata": {
        "id": "-1X3KE_D7yzi"
      },
      "execution_count": 3,
      "outputs": []
    },
    {
      "cell_type": "code",
      "source": [
        "def extract_qrs_regions(samples, symbols, fs, extra_ms=0):\n",
        "\n",
        "    qrs_regions = []\n",
        "    start = None\n",
        "    nested_count = 0  # Track nested parentheses\n",
        "    current_symbol = None  # Track if 'N' appears\n",
        "    extra_samples = int((extra_ms / 1000) * fs)  # Convert ms to samples\n",
        "    for i in range(len(symbols)):\n",
        "        if symbols[i] == '(':\n",
        "            if nested_count == 0:  # First `(` marks the start\n",
        "                start = samples[i]\n",
        "                current_symbol = None  # Reset tracking\n",
        "            nested_count += 1  # Increase nested count\n",
        "\n",
        "        elif symbols[i] == 'N':  # Identify QRS region\n",
        "            current_symbol = 'N'\n",
        "\n",
        "        elif symbols[i] == ')':\n",
        "            nested_count -= 1  # Reduce nested count\n",
        "            if nested_count == 0 and start is not None:\n",
        "                if current_symbol == 'N':  # Only save if 'N' was in the segment\n",
        "                    end = samples[i] + extra_samples\n",
        "                    qrs_regions.append((start, end))\n",
        "                start = None\n",
        "                current_symbol = None  # Reset tracking\n",
        "\n",
        "    return qrs_regions\n",
        "\n"
      ],
      "metadata": {
        "id": "AUjxl84NH7xx"
      },
      "execution_count": 4,
      "outputs": []
    },
    {
      "cell_type": "code",
      "source": [
        "\n",
        "\n",
        "def resample_signal(signal, original_fs, target_fs):\n",
        "    num_samples = int(len(signal) * target_fs / original_fs)\n",
        "    resampled_signal = resample(signal, num_samples)\n",
        "    return resampled_signal\n",
        "\n",
        "\n",
        "def adjust_annotations(samples, original_fs, target_fs):\n",
        "    return (samples * target_fs / original_fs).astype(int)\n",
        "\n"
      ],
      "metadata": {
        "id": "FQWOow86IBaj"
      },
      "execution_count": 5,
      "outputs": []
    },
    {
      "cell_type": "code",
      "source": [
        "\n",
        "def create_binary_mask(signal, qrs_regions):\n",
        "    mask = np.zeros(len(signal))\n",
        "    for start, end in qrs_regions:\n",
        "        mask[start:end] = 1  # Mark QRS regions as 1\n",
        "    return mask\n"
      ],
      "metadata": {
        "id": "z21Usy8KIL7G"
      },
      "execution_count": 6,
      "outputs": []
    },
    {
      "cell_type": "code",
      "source": [
        "def segment_signal_and_mask(signal, mask, window_size, fs):\n",
        "    segments = []\n",
        "    masks = []\n",
        "    for i in range(0, len(signal) - window_size, window_size // 2):  # 50% overlap\n",
        "        segment = signal[i:i + window_size]\n",
        "        mask_segment = mask[i:i + window_size]\n",
        "        segments.append(segment)\n",
        "        masks.append(mask_segment)\n",
        "    return np.array(segments), np.array(masks)\n"
      ],
      "metadata": {
        "id": "llUYJDVhIi5w"
      },
      "execution_count": 7,
      "outputs": []
    },
    {
      "cell_type": "code",
      "source": [
        "\n",
        "def process_record(record_path, Type, extra_ms=0):\n",
        "    # Load signal\n",
        "    record = wfdb.rdrecord(record_path)\n",
        "    signal = record.p_signal[:, 0]  # Use lead I\n",
        "    if Type=='QTDB':\n",
        "      annotations = wfdb.rdann(record_path, 'pu')\n",
        "    else:\n",
        "      annotations = wfdb.rdann(record_path, 'i')\n",
        "    samples = annotations.sample  # Annotation sample locations\n",
        "    symbols = annotations.symbol  # Annotation symbols\n",
        "    fs = record.fs  # Sampling frequency (500 Hz)\n",
        "\n",
        "    # Preprocess\n",
        "    signal = normalize_signal(smooth_signal(bandpass_filter(signal)))\n",
        "\n",
        "    # Extract QRS\n",
        "    if Type=='QTDB':\n",
        "      qrs_regions = extract_qrs_regions(samples, symbols,fs,extra_ms=extra_ms)\n",
        "    else :\n",
        "      qrs_regions = extract_qrs_regions(samples, symbols,fs)\n",
        "\n",
        "    # Resampling to 250 Hz\n",
        "    if fs!=250:\n",
        "      # Example: Resample QTDB signal from 500 Hz to 250 Hz\n",
        "      signal = resample_signal(signal, original_fs=fs, target_fs=250)\n",
        "\n",
        "\n",
        "      # Example: Adjust QTDB annotations\n",
        "      qrs_regions = [(adjust_annotations(start, original_fs=fs, target_fs=250),\n",
        "                                  adjust_annotations(end, original_fs=fs, target_fs=250))\n",
        "                                  for start, end in qrs_regions]\n",
        "      fs=250\n",
        "\n",
        "    # Create binary masks\n",
        "    mask = create_binary_mask(signal, qrs_regions)\n",
        "\n",
        "\n",
        "    # Segment the signals and masks\n",
        "    window_size = int(1 * fs)  # 1-second window (based on LUDB's fs)\n",
        "    segments, masks = segment_signal_and_mask(signal, mask, window_size, fs)\n",
        "\n",
        "    return segments, masks\n"
      ],
      "metadata": {
        "id": "AVZvMuwk5-Ew"
      },
      "execution_count": 8,
      "outputs": []
    },
    {
      "cell_type": "code",
      "source": [
        "def get_all_records(directory, extension=\".dat\"):\n",
        "    files = [f.replace(extension, \"\") for f in os.listdir(directory) if f.endswith(extension)]\n",
        "    return list(set(files))  # Ensure no duplicates\n",
        "\n",
        "# Set paths for QTDB and LUDB\n",
        "qtdb_path = \"/content/physionet.org/files/qtdb/1.0.0/\"\n",
        "ludb_path = \"/content/physionet.org/files/ludb/1.0.1/data/\"\n",
        "\n",
        "# Get all record names dynamically\n",
        "qt_records = get_all_records(qtdb_path)\n",
        "lu_records = get_all_records(ludb_path)\n",
        "\n",
        "print(f\"Found {len(qt_records)} QTDB records and {len(lu_records)} LUDB records.\")"
      ],
      "metadata": {
        "colab": {
          "base_uri": "https://localhost:8080/"
        },
        "id": "6lzBtgsE9K96",
        "outputId": "ded1ea9d-21ea-4c15-fb13-aad2e50b215c"
      },
      "execution_count": 9,
      "outputs": [
        {
          "output_type": "stream",
          "name": "stdout",
          "text": [
            "Found 105 QTDB records and 200 LUDB records.\n"
          ]
        }
      ]
    },
    {
      "cell_type": "code",
      "source": [
        "qt_segments_list, qt_masks_list = [], []\n",
        "\n",
        "for record_path in qt_records:\n",
        "    try:\n",
        "        print(f\"Processing {record_path}\")\n",
        "        segments, masks = process_record(qtdb_path+record_path, Type='QTDB', extra_ms=20)  # Resample to 250 Hz\n",
        "        qt_segments_list.append(segments)\n",
        "        qt_masks_list.append(masks)\n",
        "    except:\n",
        "        print(f\"Skipping {record_path} due to error.\")"
      ],
      "metadata": {
        "colab": {
          "base_uri": "https://localhost:8080/"
        },
        "id": "89BKjy1U97gM",
        "outputId": "38a52bf9-fa17-4e8d-f83a-e7dffd3f34c2"
      },
      "execution_count": 10,
      "outputs": [
        {
          "output_type": "stream",
          "name": "stdout",
          "text": [
            "Processing sel45\n",
            "Processing sel223\n",
            "Processing sele0104\n",
            "Processing sel14046\n",
            "Processing sel36\n",
            "Processing sel46\n",
            "Processing sel14157\n",
            "Processing sel891\n",
            "Processing sele0409\n",
            "Processing sele0509\n",
            "Processing sel38\n",
            "Processing sel39\n",
            "Processing sel103\n",
            "Processing sel16272\n",
            "Processing sel840\n",
            "Processing sele0121\n",
            "Processing sele0124\n",
            "Processing sele0411\n",
            "Processing sel233\n",
            "Processing sel117\n",
            "Processing sel48\n",
            "Processing sele0406\n",
            "Processing sel33\n",
            "Processing sele0129\n",
            "Processing sele0106\n",
            "Processing sel230\n",
            "Processing sel16795\n",
            "Processing sele0166\n",
            "Processing sel883\n",
            "Processing sel871\n",
            "Processing sel232\n",
            "Processing sel16539\n",
            "Processing sele0704\n",
            "Processing sel821\n",
            "Processing sele0126\n",
            "Processing sel213\n",
            "Processing sel43\n",
            "Processing sel44\n",
            "Processing sel306\n",
            "Processing sele0110\n",
            "Processing sele0114\n",
            "Processing sel41\n",
            "Processing sele0303\n",
            "Processing sel310\n",
            "Processing sele0607\n",
            "Processing sel820\n",
            "Processing sel811\n",
            "Processing sel31\n",
            "Processing sele0136\n",
            "Processing sel47\n",
            "Processing sel37\n",
            "Processing sel116\n",
            "Processing sel51\n",
            "Processing sel16786\n",
            "Processing sel40\n",
            "Processing sel16265\n",
            "Processing sel17152\n",
            "Processing sel34\n",
            "Processing sele0111\n",
            "Processing sele0603\n",
            "Processing sele0107\n",
            "Processing sel35\n",
            "Processing sele0609\n",
            "Processing sel308\n",
            "Processing sele0112\n",
            "Processing sel847\n",
            "Processing sel32\n",
            "Processing sel30\n",
            "Processing sel15814\n",
            "Processing sel16273\n",
            "Processing sel42\n",
            "Processing sel16420\n",
            "Processing sel49\n",
            "Processing sel873\n",
            "Processing sele0210\n",
            "Processing sele0211\n",
            "Processing sel231\n",
            "Processing sel50\n",
            "Processing sel803\n",
            "Processing sel301\n",
            "Processing sel307\n",
            "Processing sele0122\n",
            "Processing sele0116\n",
            "Processing sele0133\n",
            "Processing sele0604\n",
            "Processing sel302\n",
            "Processing sel104\n",
            "Processing sel16773\n",
            "Processing sel808\n",
            "Processing sel16483\n",
            "Processing sel14172\n",
            "Processing sel17453\n",
            "Processing sele0203\n",
            "Processing sele0606\n",
            "Processing sele0405\n",
            "Processing sel853\n",
            "Processing sel872\n",
            "Processing sel100\n",
            "Processing sele0170\n",
            "Processing sel123\n",
            "Processing sele0612\n",
            "Processing sel221\n",
            "Processing sel114\n",
            "Processing sel102\n",
            "Processing sel52\n"
          ]
        }
      ]
    },
    {
      "cell_type": "code",
      "source": [
        "\n",
        "lu_segments_list, lu_masks_list = [], []\n",
        "for record_path in lu_records:\n",
        "    try:\n",
        "        print(f\"Processing {record_path}\")\n",
        "        segments, masks = process_record(ludb_path+record_path, Type='LUDB', extra_ms=0)\n",
        "        lu_segments_list.append(segments)\n",
        "        lu_masks_list.append(masks)\n",
        "    except:\n",
        "        print(f\"Skipping {record_path} due to error.\")"
      ],
      "metadata": {
        "colab": {
          "base_uri": "https://localhost:8080/"
        },
        "id": "TW2NKo3g-35s",
        "outputId": "5f4d23e7-91ce-4bd8-a7bb-2ee1f96c4844"
      },
      "execution_count": 11,
      "outputs": [
        {
          "output_type": "stream",
          "name": "stdout",
          "text": [
            "Processing 121\n",
            "Processing 73\n",
            "Processing 125\n",
            "Processing 29\n",
            "Processing 79\n",
            "Processing 140\n",
            "Processing 47\n",
            "Processing 3\n",
            "Processing 122\n",
            "Processing 97\n",
            "Processing 167\n",
            "Processing 118\n",
            "Processing 8\n",
            "Processing 143\n",
            "Processing 23\n",
            "Processing 40\n",
            "Processing 142\n",
            "Processing 130\n",
            "Processing 185\n",
            "Processing 179\n",
            "Processing 133\n",
            "Processing 151\n",
            "Processing 5\n",
            "Processing 25\n",
            "Processing 54\n",
            "Processing 103\n",
            "Processing 173\n",
            "Processing 100\n",
            "Processing 95\n",
            "Processing 87\n",
            "Processing 81\n",
            "Processing 126\n",
            "Processing 132\n",
            "Processing 116\n",
            "Processing 124\n",
            "Processing 157\n",
            "Processing 184\n",
            "Processing 74\n",
            "Processing 183\n",
            "Processing 158\n",
            "Processing 53\n",
            "Processing 109\n",
            "Processing 51\n",
            "Processing 50\n",
            "Processing 17\n",
            "Processing 170\n",
            "Processing 39\n",
            "Processing 4\n",
            "Processing 1\n",
            "Processing 58\n",
            "Processing 104\n",
            "Processing 91\n",
            "Processing 102\n",
            "Processing 144\n",
            "Processing 18\n",
            "Processing 68\n",
            "Processing 30\n",
            "Processing 90\n",
            "Processing 9\n",
            "Processing 155\n",
            "Processing 64\n",
            "Processing 150\n",
            "Processing 152\n",
            "Processing 35\n",
            "Processing 41\n",
            "Processing 24\n",
            "Processing 31\n",
            "Processing 66\n",
            "Processing 139\n",
            "Processing 78\n",
            "Processing 45\n",
            "Processing 111\n",
            "Processing 13\n",
            "Processing 156\n",
            "Processing 119\n",
            "Processing 92\n",
            "Processing 80\n",
            "Processing 159\n",
            "Processing 89\n",
            "Processing 94\n",
            "Processing 113\n",
            "Processing 146\n",
            "Processing 98\n",
            "Processing 165\n",
            "Processing 112\n",
            "Processing 61\n",
            "Processing 107\n",
            "Processing 191\n",
            "Processing 44\n",
            "Processing 6\n",
            "Processing 57\n",
            "Processing 63\n",
            "Processing 196\n",
            "Processing 162\n",
            "Processing 48\n",
            "Processing 161\n",
            "Processing 188\n",
            "Processing 20\n",
            "Processing 86\n",
            "Processing 21\n",
            "Processing 186\n",
            "Processing 176\n",
            "Processing 67\n",
            "Processing 70\n",
            "Processing 96\n",
            "Processing 26\n",
            "Processing 27\n",
            "Processing 175\n",
            "Processing 145\n",
            "Processing 83\n",
            "Processing 77\n",
            "Processing 180\n",
            "Processing 189\n",
            "Processing 169\n",
            "Processing 164\n",
            "Processing 182\n",
            "Processing 195\n",
            "Processing 199\n",
            "Processing 34\n",
            "Processing 15\n",
            "Processing 32\n",
            "Processing 16\n",
            "Processing 127\n",
            "Processing 12\n",
            "Processing 42\n",
            "Processing 110\n",
            "Processing 108\n",
            "Processing 99\n",
            "Processing 114\n",
            "Processing 84\n",
            "Processing 14\n",
            "Processing 137\n",
            "Processing 82\n",
            "Processing 153\n",
            "Processing 197\n",
            "Processing 154\n",
            "Processing 60\n",
            "Processing 172\n",
            "Processing 149\n",
            "Processing 56\n",
            "Processing 115\n",
            "Processing 190\n",
            "Processing 135\n",
            "Processing 101\n",
            "Processing 174\n",
            "Processing 65\n",
            "Processing 136\n",
            "Processing 187\n",
            "Processing 147\n",
            "Processing 71\n",
            "Processing 75\n",
            "Processing 105\n",
            "Processing 141\n",
            "Processing 166\n",
            "Processing 200\n",
            "Processing 117\n",
            "Processing 76\n",
            "Processing 19\n",
            "Processing 168\n",
            "Processing 138\n",
            "Processing 72\n",
            "Processing 28\n",
            "Processing 131\n",
            "Processing 120\n",
            "Processing 194\n",
            "Processing 36\n",
            "Processing 163\n",
            "Processing 128\n",
            "Processing 62\n",
            "Processing 59\n",
            "Processing 52\n",
            "Processing 2\n",
            "Processing 134\n",
            "Processing 177\n",
            "Processing 148\n",
            "Processing 22\n",
            "Processing 69\n",
            "Processing 85\n",
            "Processing 10\n",
            "Processing 88\n",
            "Processing 178\n",
            "Processing 37\n",
            "Processing 171\n",
            "Processing 106\n",
            "Processing 181\n",
            "Processing 129\n",
            "Processing 193\n",
            "Processing 55\n",
            "Processing 38\n",
            "Processing 46\n",
            "Processing 49\n",
            "Processing 198\n",
            "Processing 192\n",
            "Processing 33\n",
            "Processing 93\n",
            "Processing 43\n",
            "Processing 7\n",
            "Processing 11\n",
            "Processing 160\n",
            "Processing 123\n"
          ]
        }
      ]
    },
    {
      "cell_type": "code",
      "source": [
        "qt_segments = np.concatenate(qt_segments_list, axis=0)\n",
        "qt_masks = np.concatenate(qt_masks_list, axis=0)\n",
        "lu_segments = np.concatenate(lu_segments_list, axis=0)\n",
        "lu_masks = np.concatenate(lu_masks_list, axis=0)"
      ],
      "metadata": {
        "id": "Jp1Cz06R_c1N"
      },
      "execution_count": 12,
      "outputs": []
    },
    {
      "cell_type": "code",
      "source": [
        "# Combine into final dataset\n",
        "X = np.concatenate([qt_segments, lu_segments])\n",
        "y = np.concatenate([qt_masks, lu_masks])"
      ],
      "metadata": {
        "id": "om5xFPBRyCjy"
      },
      "execution_count": 13,
      "outputs": []
    },
    {
      "cell_type": "code",
      "source": [
        "from sklearn.model_selection import train_test_split\n",
        "\n",
        "X_train, X_test, y_train, y_test = train_test_split(X, y, test_size=0.2, random_state=42)\n",
        "X_train, X_val, y_train, y_val = train_test_split(X_train, y_train, test_size=0.2, random_state=42)"
      ],
      "metadata": {
        "id": "h-NBPKRjrO2j"
      },
      "execution_count": 14,
      "outputs": []
    },
    {
      "cell_type": "code",
      "source": [
        "from tensorflow.keras.models import Model\n",
        "from tensorflow.keras.layers import Input, Conv1D, BatchNormalization, ReLU, Add, Dense\n",
        "\n",
        "def TCN(input_shape, num_filters, kernel_size, num_blocks, dropout_rate):\n",
        "    inputs = Input(shape=input_shape)\n",
        "    x = inputs\n",
        "    for _ in range(num_blocks):\n",
        "        # Residual block\n",
        "        res = x\n",
        "        x = Conv1D(num_filters, kernel_size, padding='causal')(x)\n",
        "        x = BatchNormalization()(x)\n",
        "        x = ReLU()(x)\n",
        "        x = Conv1D(num_filters, kernel_size, padding='causal')(x)\n",
        "        x = BatchNormalization()(x)\n",
        "        x = Add()([x, res])\n",
        "        x = ReLU()(x)\n",
        "    x = Conv1D(1, kernel_size=1, activation='sigmoid')(x)  # Output sequence of probabilities\n",
        "    model = Model(inputs, x)\n",
        "    return model\n",
        "window_size=int(1*250)\n",
        "# Define the TCN model\n",
        "input_shape = (window_size, 1)\n",
        "model = TCN(input_shape, num_filters=64, kernel_size=3, num_blocks=4, dropout_rate=0.2)\n",
        "model.compile(optimizer='adam', loss='binary_crossentropy', metrics=['accuracy'])\n",
        "model.summary()"
      ],
      "metadata": {
        "colab": {
          "base_uri": "https://localhost:8080/",
          "height": 1000
        },
        "id": "QVLWpMYQyJFI",
        "outputId": "849586b3-bd26-43b7-f164-e2520e41926b"
      },
      "execution_count": 15,
      "outputs": [
        {
          "output_type": "display_data",
          "data": {
            "text/plain": [
              "\u001b[1mModel: \"functional\"\u001b[0m\n"
            ],
            "text/html": [
              "<pre style=\"white-space:pre;overflow-x:auto;line-height:normal;font-family:Menlo,'DejaVu Sans Mono',consolas,'Courier New',monospace\"><span style=\"font-weight: bold\">Model: \"functional\"</span>\n",
              "</pre>\n"
            ]
          },
          "metadata": {}
        },
        {
          "output_type": "display_data",
          "data": {
            "text/plain": [
              "┏━━━━━━━━━━━━━━━━━━━━━━━━━━━┳━━━━━━━━━━━━━━━━━━━━━━━━┳━━━━━━━━━━━━━━━━┳━━━━━━━━━━━━━━━━━━━━━━━━┓\n",
              "┃\u001b[1m \u001b[0m\u001b[1mLayer (type)             \u001b[0m\u001b[1m \u001b[0m┃\u001b[1m \u001b[0m\u001b[1mOutput Shape          \u001b[0m\u001b[1m \u001b[0m┃\u001b[1m \u001b[0m\u001b[1m       Param #\u001b[0m\u001b[1m \u001b[0m┃\u001b[1m \u001b[0m\u001b[1mConnected to          \u001b[0m\u001b[1m \u001b[0m┃\n",
              "┡━━━━━━━━━━━━━━━━━━━━━━━━━━━╇━━━━━━━━━━━━━━━━━━━━━━━━╇━━━━━━━━━━━━━━━━╇━━━━━━━━━━━━━━━━━━━━━━━━┩\n",
              "│ input_layer (\u001b[38;5;33mInputLayer\u001b[0m)  │ (\u001b[38;5;45mNone\u001b[0m, \u001b[38;5;34m250\u001b[0m, \u001b[38;5;34m1\u001b[0m)         │              \u001b[38;5;34m0\u001b[0m │ -                      │\n",
              "├───────────────────────────┼────────────────────────┼────────────────┼────────────────────────┤\n",
              "│ conv1d (\u001b[38;5;33mConv1D\u001b[0m)           │ (\u001b[38;5;45mNone\u001b[0m, \u001b[38;5;34m250\u001b[0m, \u001b[38;5;34m64\u001b[0m)        │            \u001b[38;5;34m256\u001b[0m │ input_layer[\u001b[38;5;34m0\u001b[0m][\u001b[38;5;34m0\u001b[0m]      │\n",
              "├───────────────────────────┼────────────────────────┼────────────────┼────────────────────────┤\n",
              "│ batch_normalization       │ (\u001b[38;5;45mNone\u001b[0m, \u001b[38;5;34m250\u001b[0m, \u001b[38;5;34m64\u001b[0m)        │            \u001b[38;5;34m256\u001b[0m │ conv1d[\u001b[38;5;34m0\u001b[0m][\u001b[38;5;34m0\u001b[0m]           │\n",
              "│ (\u001b[38;5;33mBatchNormalization\u001b[0m)      │                        │                │                        │\n",
              "├───────────────────────────┼────────────────────────┼────────────────┼────────────────────────┤\n",
              "│ re_lu (\u001b[38;5;33mReLU\u001b[0m)              │ (\u001b[38;5;45mNone\u001b[0m, \u001b[38;5;34m250\u001b[0m, \u001b[38;5;34m64\u001b[0m)        │              \u001b[38;5;34m0\u001b[0m │ batch_normalization[\u001b[38;5;34m0\u001b[0m… │\n",
              "├───────────────────────────┼────────────────────────┼────────────────┼────────────────────────┤\n",
              "│ conv1d_1 (\u001b[38;5;33mConv1D\u001b[0m)         │ (\u001b[38;5;45mNone\u001b[0m, \u001b[38;5;34m250\u001b[0m, \u001b[38;5;34m64\u001b[0m)        │         \u001b[38;5;34m12,352\u001b[0m │ re_lu[\u001b[38;5;34m0\u001b[0m][\u001b[38;5;34m0\u001b[0m]            │\n",
              "├───────────────────────────┼────────────────────────┼────────────────┼────────────────────────┤\n",
              "│ batch_normalization_1     │ (\u001b[38;5;45mNone\u001b[0m, \u001b[38;5;34m250\u001b[0m, \u001b[38;5;34m64\u001b[0m)        │            \u001b[38;5;34m256\u001b[0m │ conv1d_1[\u001b[38;5;34m0\u001b[0m][\u001b[38;5;34m0\u001b[0m]         │\n",
              "│ (\u001b[38;5;33mBatchNormalization\u001b[0m)      │                        │                │                        │\n",
              "├───────────────────────────┼────────────────────────┼────────────────┼────────────────────────┤\n",
              "│ add (\u001b[38;5;33mAdd\u001b[0m)                 │ (\u001b[38;5;45mNone\u001b[0m, \u001b[38;5;34m250\u001b[0m, \u001b[38;5;34m64\u001b[0m)        │              \u001b[38;5;34m0\u001b[0m │ batch_normalization_1… │\n",
              "│                           │                        │                │ input_layer[\u001b[38;5;34m0\u001b[0m][\u001b[38;5;34m0\u001b[0m]      │\n",
              "├───────────────────────────┼────────────────────────┼────────────────┼────────────────────────┤\n",
              "│ re_lu_1 (\u001b[38;5;33mReLU\u001b[0m)            │ (\u001b[38;5;45mNone\u001b[0m, \u001b[38;5;34m250\u001b[0m, \u001b[38;5;34m64\u001b[0m)        │              \u001b[38;5;34m0\u001b[0m │ add[\u001b[38;5;34m0\u001b[0m][\u001b[38;5;34m0\u001b[0m]              │\n",
              "├───────────────────────────┼────────────────────────┼────────────────┼────────────────────────┤\n",
              "│ conv1d_2 (\u001b[38;5;33mConv1D\u001b[0m)         │ (\u001b[38;5;45mNone\u001b[0m, \u001b[38;5;34m250\u001b[0m, \u001b[38;5;34m64\u001b[0m)        │         \u001b[38;5;34m12,352\u001b[0m │ re_lu_1[\u001b[38;5;34m0\u001b[0m][\u001b[38;5;34m0\u001b[0m]          │\n",
              "├───────────────────────────┼────────────────────────┼────────────────┼────────────────────────┤\n",
              "│ batch_normalization_2     │ (\u001b[38;5;45mNone\u001b[0m, \u001b[38;5;34m250\u001b[0m, \u001b[38;5;34m64\u001b[0m)        │            \u001b[38;5;34m256\u001b[0m │ conv1d_2[\u001b[38;5;34m0\u001b[0m][\u001b[38;5;34m0\u001b[0m]         │\n",
              "│ (\u001b[38;5;33mBatchNormalization\u001b[0m)      │                        │                │                        │\n",
              "├───────────────────────────┼────────────────────────┼────────────────┼────────────────────────┤\n",
              "│ re_lu_2 (\u001b[38;5;33mReLU\u001b[0m)            │ (\u001b[38;5;45mNone\u001b[0m, \u001b[38;5;34m250\u001b[0m, \u001b[38;5;34m64\u001b[0m)        │              \u001b[38;5;34m0\u001b[0m │ batch_normalization_2… │\n",
              "├───────────────────────────┼────────────────────────┼────────────────┼────────────────────────┤\n",
              "│ conv1d_3 (\u001b[38;5;33mConv1D\u001b[0m)         │ (\u001b[38;5;45mNone\u001b[0m, \u001b[38;5;34m250\u001b[0m, \u001b[38;5;34m64\u001b[0m)        │         \u001b[38;5;34m12,352\u001b[0m │ re_lu_2[\u001b[38;5;34m0\u001b[0m][\u001b[38;5;34m0\u001b[0m]          │\n",
              "├───────────────────────────┼────────────────────────┼────────────────┼────────────────────────┤\n",
              "│ batch_normalization_3     │ (\u001b[38;5;45mNone\u001b[0m, \u001b[38;5;34m250\u001b[0m, \u001b[38;5;34m64\u001b[0m)        │            \u001b[38;5;34m256\u001b[0m │ conv1d_3[\u001b[38;5;34m0\u001b[0m][\u001b[38;5;34m0\u001b[0m]         │\n",
              "│ (\u001b[38;5;33mBatchNormalization\u001b[0m)      │                        │                │                        │\n",
              "├───────────────────────────┼────────────────────────┼────────────────┼────────────────────────┤\n",
              "│ add_1 (\u001b[38;5;33mAdd\u001b[0m)               │ (\u001b[38;5;45mNone\u001b[0m, \u001b[38;5;34m250\u001b[0m, \u001b[38;5;34m64\u001b[0m)        │              \u001b[38;5;34m0\u001b[0m │ batch_normalization_3… │\n",
              "│                           │                        │                │ re_lu_1[\u001b[38;5;34m0\u001b[0m][\u001b[38;5;34m0\u001b[0m]          │\n",
              "├───────────────────────────┼────────────────────────┼────────────────┼────────────────────────┤\n",
              "│ re_lu_3 (\u001b[38;5;33mReLU\u001b[0m)            │ (\u001b[38;5;45mNone\u001b[0m, \u001b[38;5;34m250\u001b[0m, \u001b[38;5;34m64\u001b[0m)        │              \u001b[38;5;34m0\u001b[0m │ add_1[\u001b[38;5;34m0\u001b[0m][\u001b[38;5;34m0\u001b[0m]            │\n",
              "├───────────────────────────┼────────────────────────┼────────────────┼────────────────────────┤\n",
              "│ conv1d_4 (\u001b[38;5;33mConv1D\u001b[0m)         │ (\u001b[38;5;45mNone\u001b[0m, \u001b[38;5;34m250\u001b[0m, \u001b[38;5;34m64\u001b[0m)        │         \u001b[38;5;34m12,352\u001b[0m │ re_lu_3[\u001b[38;5;34m0\u001b[0m][\u001b[38;5;34m0\u001b[0m]          │\n",
              "├───────────────────────────┼────────────────────────┼────────────────┼────────────────────────┤\n",
              "│ batch_normalization_4     │ (\u001b[38;5;45mNone\u001b[0m, \u001b[38;5;34m250\u001b[0m, \u001b[38;5;34m64\u001b[0m)        │            \u001b[38;5;34m256\u001b[0m │ conv1d_4[\u001b[38;5;34m0\u001b[0m][\u001b[38;5;34m0\u001b[0m]         │\n",
              "│ (\u001b[38;5;33mBatchNormalization\u001b[0m)      │                        │                │                        │\n",
              "├───────────────────────────┼────────────────────────┼────────────────┼────────────────────────┤\n",
              "│ re_lu_4 (\u001b[38;5;33mReLU\u001b[0m)            │ (\u001b[38;5;45mNone\u001b[0m, \u001b[38;5;34m250\u001b[0m, \u001b[38;5;34m64\u001b[0m)        │              \u001b[38;5;34m0\u001b[0m │ batch_normalization_4… │\n",
              "├───────────────────────────┼────────────────────────┼────────────────┼────────────────────────┤\n",
              "│ conv1d_5 (\u001b[38;5;33mConv1D\u001b[0m)         │ (\u001b[38;5;45mNone\u001b[0m, \u001b[38;5;34m250\u001b[0m, \u001b[38;5;34m64\u001b[0m)        │         \u001b[38;5;34m12,352\u001b[0m │ re_lu_4[\u001b[38;5;34m0\u001b[0m][\u001b[38;5;34m0\u001b[0m]          │\n",
              "├───────────────────────────┼────────────────────────┼────────────────┼────────────────────────┤\n",
              "│ batch_normalization_5     │ (\u001b[38;5;45mNone\u001b[0m, \u001b[38;5;34m250\u001b[0m, \u001b[38;5;34m64\u001b[0m)        │            \u001b[38;5;34m256\u001b[0m │ conv1d_5[\u001b[38;5;34m0\u001b[0m][\u001b[38;5;34m0\u001b[0m]         │\n",
              "│ (\u001b[38;5;33mBatchNormalization\u001b[0m)      │                        │                │                        │\n",
              "├───────────────────────────┼────────────────────────┼────────────────┼────────────────────────┤\n",
              "│ add_2 (\u001b[38;5;33mAdd\u001b[0m)               │ (\u001b[38;5;45mNone\u001b[0m, \u001b[38;5;34m250\u001b[0m, \u001b[38;5;34m64\u001b[0m)        │              \u001b[38;5;34m0\u001b[0m │ batch_normalization_5… │\n",
              "│                           │                        │                │ re_lu_3[\u001b[38;5;34m0\u001b[0m][\u001b[38;5;34m0\u001b[0m]          │\n",
              "├───────────────────────────┼────────────────────────┼────────────────┼────────────────────────┤\n",
              "│ re_lu_5 (\u001b[38;5;33mReLU\u001b[0m)            │ (\u001b[38;5;45mNone\u001b[0m, \u001b[38;5;34m250\u001b[0m, \u001b[38;5;34m64\u001b[0m)        │              \u001b[38;5;34m0\u001b[0m │ add_2[\u001b[38;5;34m0\u001b[0m][\u001b[38;5;34m0\u001b[0m]            │\n",
              "├───────────────────────────┼────────────────────────┼────────────────┼────────────────────────┤\n",
              "│ conv1d_6 (\u001b[38;5;33mConv1D\u001b[0m)         │ (\u001b[38;5;45mNone\u001b[0m, \u001b[38;5;34m250\u001b[0m, \u001b[38;5;34m64\u001b[0m)        │         \u001b[38;5;34m12,352\u001b[0m │ re_lu_5[\u001b[38;5;34m0\u001b[0m][\u001b[38;5;34m0\u001b[0m]          │\n",
              "├───────────────────────────┼────────────────────────┼────────────────┼────────────────────────┤\n",
              "│ batch_normalization_6     │ (\u001b[38;5;45mNone\u001b[0m, \u001b[38;5;34m250\u001b[0m, \u001b[38;5;34m64\u001b[0m)        │            \u001b[38;5;34m256\u001b[0m │ conv1d_6[\u001b[38;5;34m0\u001b[0m][\u001b[38;5;34m0\u001b[0m]         │\n",
              "│ (\u001b[38;5;33mBatchNormalization\u001b[0m)      │                        │                │                        │\n",
              "├───────────────────────────┼────────────────────────┼────────────────┼────────────────────────┤\n",
              "│ re_lu_6 (\u001b[38;5;33mReLU\u001b[0m)            │ (\u001b[38;5;45mNone\u001b[0m, \u001b[38;5;34m250\u001b[0m, \u001b[38;5;34m64\u001b[0m)        │              \u001b[38;5;34m0\u001b[0m │ batch_normalization_6… │\n",
              "├───────────────────────────┼────────────────────────┼────────────────┼────────────────────────┤\n",
              "│ conv1d_7 (\u001b[38;5;33mConv1D\u001b[0m)         │ (\u001b[38;5;45mNone\u001b[0m, \u001b[38;5;34m250\u001b[0m, \u001b[38;5;34m64\u001b[0m)        │         \u001b[38;5;34m12,352\u001b[0m │ re_lu_6[\u001b[38;5;34m0\u001b[0m][\u001b[38;5;34m0\u001b[0m]          │\n",
              "├───────────────────────────┼────────────────────────┼────────────────┼────────────────────────┤\n",
              "│ batch_normalization_7     │ (\u001b[38;5;45mNone\u001b[0m, \u001b[38;5;34m250\u001b[0m, \u001b[38;5;34m64\u001b[0m)        │            \u001b[38;5;34m256\u001b[0m │ conv1d_7[\u001b[38;5;34m0\u001b[0m][\u001b[38;5;34m0\u001b[0m]         │\n",
              "│ (\u001b[38;5;33mBatchNormalization\u001b[0m)      │                        │                │                        │\n",
              "├───────────────────────────┼────────────────────────┼────────────────┼────────────────────────┤\n",
              "│ add_3 (\u001b[38;5;33mAdd\u001b[0m)               │ (\u001b[38;5;45mNone\u001b[0m, \u001b[38;5;34m250\u001b[0m, \u001b[38;5;34m64\u001b[0m)        │              \u001b[38;5;34m0\u001b[0m │ batch_normalization_7… │\n",
              "│                           │                        │                │ re_lu_5[\u001b[38;5;34m0\u001b[0m][\u001b[38;5;34m0\u001b[0m]          │\n",
              "├───────────────────────────┼────────────────────────┼────────────────┼────────────────────────┤\n",
              "│ re_lu_7 (\u001b[38;5;33mReLU\u001b[0m)            │ (\u001b[38;5;45mNone\u001b[0m, \u001b[38;5;34m250\u001b[0m, \u001b[38;5;34m64\u001b[0m)        │              \u001b[38;5;34m0\u001b[0m │ add_3[\u001b[38;5;34m0\u001b[0m][\u001b[38;5;34m0\u001b[0m]            │\n",
              "├───────────────────────────┼────────────────────────┼────────────────┼────────────────────────┤\n",
              "│ conv1d_8 (\u001b[38;5;33mConv1D\u001b[0m)         │ (\u001b[38;5;45mNone\u001b[0m, \u001b[38;5;34m250\u001b[0m, \u001b[38;5;34m1\u001b[0m)         │             \u001b[38;5;34m65\u001b[0m │ re_lu_7[\u001b[38;5;34m0\u001b[0m][\u001b[38;5;34m0\u001b[0m]          │\n",
              "└───────────────────────────┴────────────────────────┴────────────────┴────────────────────────┘\n"
            ],
            "text/html": [
              "<pre style=\"white-space:pre;overflow-x:auto;line-height:normal;font-family:Menlo,'DejaVu Sans Mono',consolas,'Courier New',monospace\">┏━━━━━━━━━━━━━━━━━━━━━━━━━━━┳━━━━━━━━━━━━━━━━━━━━━━━━┳━━━━━━━━━━━━━━━━┳━━━━━━━━━━━━━━━━━━━━━━━━┓\n",
              "┃<span style=\"font-weight: bold\"> Layer (type)              </span>┃<span style=\"font-weight: bold\"> Output Shape           </span>┃<span style=\"font-weight: bold\">        Param # </span>┃<span style=\"font-weight: bold\"> Connected to           </span>┃\n",
              "┡━━━━━━━━━━━━━━━━━━━━━━━━━━━╇━━━━━━━━━━━━━━━━━━━━━━━━╇━━━━━━━━━━━━━━━━╇━━━━━━━━━━━━━━━━━━━━━━━━┩\n",
              "│ input_layer (<span style=\"color: #0087ff; text-decoration-color: #0087ff\">InputLayer</span>)  │ (<span style=\"color: #00d7ff; text-decoration-color: #00d7ff\">None</span>, <span style=\"color: #00af00; text-decoration-color: #00af00\">250</span>, <span style=\"color: #00af00; text-decoration-color: #00af00\">1</span>)         │              <span style=\"color: #00af00; text-decoration-color: #00af00\">0</span> │ -                      │\n",
              "├───────────────────────────┼────────────────────────┼────────────────┼────────────────────────┤\n",
              "│ conv1d (<span style=\"color: #0087ff; text-decoration-color: #0087ff\">Conv1D</span>)           │ (<span style=\"color: #00d7ff; text-decoration-color: #00d7ff\">None</span>, <span style=\"color: #00af00; text-decoration-color: #00af00\">250</span>, <span style=\"color: #00af00; text-decoration-color: #00af00\">64</span>)        │            <span style=\"color: #00af00; text-decoration-color: #00af00\">256</span> │ input_layer[<span style=\"color: #00af00; text-decoration-color: #00af00\">0</span>][<span style=\"color: #00af00; text-decoration-color: #00af00\">0</span>]      │\n",
              "├───────────────────────────┼────────────────────────┼────────────────┼────────────────────────┤\n",
              "│ batch_normalization       │ (<span style=\"color: #00d7ff; text-decoration-color: #00d7ff\">None</span>, <span style=\"color: #00af00; text-decoration-color: #00af00\">250</span>, <span style=\"color: #00af00; text-decoration-color: #00af00\">64</span>)        │            <span style=\"color: #00af00; text-decoration-color: #00af00\">256</span> │ conv1d[<span style=\"color: #00af00; text-decoration-color: #00af00\">0</span>][<span style=\"color: #00af00; text-decoration-color: #00af00\">0</span>]           │\n",
              "│ (<span style=\"color: #0087ff; text-decoration-color: #0087ff\">BatchNormalization</span>)      │                        │                │                        │\n",
              "├───────────────────────────┼────────────────────────┼────────────────┼────────────────────────┤\n",
              "│ re_lu (<span style=\"color: #0087ff; text-decoration-color: #0087ff\">ReLU</span>)              │ (<span style=\"color: #00d7ff; text-decoration-color: #00d7ff\">None</span>, <span style=\"color: #00af00; text-decoration-color: #00af00\">250</span>, <span style=\"color: #00af00; text-decoration-color: #00af00\">64</span>)        │              <span style=\"color: #00af00; text-decoration-color: #00af00\">0</span> │ batch_normalization[<span style=\"color: #00af00; text-decoration-color: #00af00\">0</span>… │\n",
              "├───────────────────────────┼────────────────────────┼────────────────┼────────────────────────┤\n",
              "│ conv1d_1 (<span style=\"color: #0087ff; text-decoration-color: #0087ff\">Conv1D</span>)         │ (<span style=\"color: #00d7ff; text-decoration-color: #00d7ff\">None</span>, <span style=\"color: #00af00; text-decoration-color: #00af00\">250</span>, <span style=\"color: #00af00; text-decoration-color: #00af00\">64</span>)        │         <span style=\"color: #00af00; text-decoration-color: #00af00\">12,352</span> │ re_lu[<span style=\"color: #00af00; text-decoration-color: #00af00\">0</span>][<span style=\"color: #00af00; text-decoration-color: #00af00\">0</span>]            │\n",
              "├───────────────────────────┼────────────────────────┼────────────────┼────────────────────────┤\n",
              "│ batch_normalization_1     │ (<span style=\"color: #00d7ff; text-decoration-color: #00d7ff\">None</span>, <span style=\"color: #00af00; text-decoration-color: #00af00\">250</span>, <span style=\"color: #00af00; text-decoration-color: #00af00\">64</span>)        │            <span style=\"color: #00af00; text-decoration-color: #00af00\">256</span> │ conv1d_1[<span style=\"color: #00af00; text-decoration-color: #00af00\">0</span>][<span style=\"color: #00af00; text-decoration-color: #00af00\">0</span>]         │\n",
              "│ (<span style=\"color: #0087ff; text-decoration-color: #0087ff\">BatchNormalization</span>)      │                        │                │                        │\n",
              "├───────────────────────────┼────────────────────────┼────────────────┼────────────────────────┤\n",
              "│ add (<span style=\"color: #0087ff; text-decoration-color: #0087ff\">Add</span>)                 │ (<span style=\"color: #00d7ff; text-decoration-color: #00d7ff\">None</span>, <span style=\"color: #00af00; text-decoration-color: #00af00\">250</span>, <span style=\"color: #00af00; text-decoration-color: #00af00\">64</span>)        │              <span style=\"color: #00af00; text-decoration-color: #00af00\">0</span> │ batch_normalization_1… │\n",
              "│                           │                        │                │ input_layer[<span style=\"color: #00af00; text-decoration-color: #00af00\">0</span>][<span style=\"color: #00af00; text-decoration-color: #00af00\">0</span>]      │\n",
              "├───────────────────────────┼────────────────────────┼────────────────┼────────────────────────┤\n",
              "│ re_lu_1 (<span style=\"color: #0087ff; text-decoration-color: #0087ff\">ReLU</span>)            │ (<span style=\"color: #00d7ff; text-decoration-color: #00d7ff\">None</span>, <span style=\"color: #00af00; text-decoration-color: #00af00\">250</span>, <span style=\"color: #00af00; text-decoration-color: #00af00\">64</span>)        │              <span style=\"color: #00af00; text-decoration-color: #00af00\">0</span> │ add[<span style=\"color: #00af00; text-decoration-color: #00af00\">0</span>][<span style=\"color: #00af00; text-decoration-color: #00af00\">0</span>]              │\n",
              "├───────────────────────────┼────────────────────────┼────────────────┼────────────────────────┤\n",
              "│ conv1d_2 (<span style=\"color: #0087ff; text-decoration-color: #0087ff\">Conv1D</span>)         │ (<span style=\"color: #00d7ff; text-decoration-color: #00d7ff\">None</span>, <span style=\"color: #00af00; text-decoration-color: #00af00\">250</span>, <span style=\"color: #00af00; text-decoration-color: #00af00\">64</span>)        │         <span style=\"color: #00af00; text-decoration-color: #00af00\">12,352</span> │ re_lu_1[<span style=\"color: #00af00; text-decoration-color: #00af00\">0</span>][<span style=\"color: #00af00; text-decoration-color: #00af00\">0</span>]          │\n",
              "├───────────────────────────┼────────────────────────┼────────────────┼────────────────────────┤\n",
              "│ batch_normalization_2     │ (<span style=\"color: #00d7ff; text-decoration-color: #00d7ff\">None</span>, <span style=\"color: #00af00; text-decoration-color: #00af00\">250</span>, <span style=\"color: #00af00; text-decoration-color: #00af00\">64</span>)        │            <span style=\"color: #00af00; text-decoration-color: #00af00\">256</span> │ conv1d_2[<span style=\"color: #00af00; text-decoration-color: #00af00\">0</span>][<span style=\"color: #00af00; text-decoration-color: #00af00\">0</span>]         │\n",
              "│ (<span style=\"color: #0087ff; text-decoration-color: #0087ff\">BatchNormalization</span>)      │                        │                │                        │\n",
              "├───────────────────────────┼────────────────────────┼────────────────┼────────────────────────┤\n",
              "│ re_lu_2 (<span style=\"color: #0087ff; text-decoration-color: #0087ff\">ReLU</span>)            │ (<span style=\"color: #00d7ff; text-decoration-color: #00d7ff\">None</span>, <span style=\"color: #00af00; text-decoration-color: #00af00\">250</span>, <span style=\"color: #00af00; text-decoration-color: #00af00\">64</span>)        │              <span style=\"color: #00af00; text-decoration-color: #00af00\">0</span> │ batch_normalization_2… │\n",
              "├───────────────────────────┼────────────────────────┼────────────────┼────────────────────────┤\n",
              "│ conv1d_3 (<span style=\"color: #0087ff; text-decoration-color: #0087ff\">Conv1D</span>)         │ (<span style=\"color: #00d7ff; text-decoration-color: #00d7ff\">None</span>, <span style=\"color: #00af00; text-decoration-color: #00af00\">250</span>, <span style=\"color: #00af00; text-decoration-color: #00af00\">64</span>)        │         <span style=\"color: #00af00; text-decoration-color: #00af00\">12,352</span> │ re_lu_2[<span style=\"color: #00af00; text-decoration-color: #00af00\">0</span>][<span style=\"color: #00af00; text-decoration-color: #00af00\">0</span>]          │\n",
              "├───────────────────────────┼────────────────────────┼────────────────┼────────────────────────┤\n",
              "│ batch_normalization_3     │ (<span style=\"color: #00d7ff; text-decoration-color: #00d7ff\">None</span>, <span style=\"color: #00af00; text-decoration-color: #00af00\">250</span>, <span style=\"color: #00af00; text-decoration-color: #00af00\">64</span>)        │            <span style=\"color: #00af00; text-decoration-color: #00af00\">256</span> │ conv1d_3[<span style=\"color: #00af00; text-decoration-color: #00af00\">0</span>][<span style=\"color: #00af00; text-decoration-color: #00af00\">0</span>]         │\n",
              "│ (<span style=\"color: #0087ff; text-decoration-color: #0087ff\">BatchNormalization</span>)      │                        │                │                        │\n",
              "├───────────────────────────┼────────────────────────┼────────────────┼────────────────────────┤\n",
              "│ add_1 (<span style=\"color: #0087ff; text-decoration-color: #0087ff\">Add</span>)               │ (<span style=\"color: #00d7ff; text-decoration-color: #00d7ff\">None</span>, <span style=\"color: #00af00; text-decoration-color: #00af00\">250</span>, <span style=\"color: #00af00; text-decoration-color: #00af00\">64</span>)        │              <span style=\"color: #00af00; text-decoration-color: #00af00\">0</span> │ batch_normalization_3… │\n",
              "│                           │                        │                │ re_lu_1[<span style=\"color: #00af00; text-decoration-color: #00af00\">0</span>][<span style=\"color: #00af00; text-decoration-color: #00af00\">0</span>]          │\n",
              "├───────────────────────────┼────────────────────────┼────────────────┼────────────────────────┤\n",
              "│ re_lu_3 (<span style=\"color: #0087ff; text-decoration-color: #0087ff\">ReLU</span>)            │ (<span style=\"color: #00d7ff; text-decoration-color: #00d7ff\">None</span>, <span style=\"color: #00af00; text-decoration-color: #00af00\">250</span>, <span style=\"color: #00af00; text-decoration-color: #00af00\">64</span>)        │              <span style=\"color: #00af00; text-decoration-color: #00af00\">0</span> │ add_1[<span style=\"color: #00af00; text-decoration-color: #00af00\">0</span>][<span style=\"color: #00af00; text-decoration-color: #00af00\">0</span>]            │\n",
              "├───────────────────────────┼────────────────────────┼────────────────┼────────────────────────┤\n",
              "│ conv1d_4 (<span style=\"color: #0087ff; text-decoration-color: #0087ff\">Conv1D</span>)         │ (<span style=\"color: #00d7ff; text-decoration-color: #00d7ff\">None</span>, <span style=\"color: #00af00; text-decoration-color: #00af00\">250</span>, <span style=\"color: #00af00; text-decoration-color: #00af00\">64</span>)        │         <span style=\"color: #00af00; text-decoration-color: #00af00\">12,352</span> │ re_lu_3[<span style=\"color: #00af00; text-decoration-color: #00af00\">0</span>][<span style=\"color: #00af00; text-decoration-color: #00af00\">0</span>]          │\n",
              "├───────────────────────────┼────────────────────────┼────────────────┼────────────────────────┤\n",
              "│ batch_normalization_4     │ (<span style=\"color: #00d7ff; text-decoration-color: #00d7ff\">None</span>, <span style=\"color: #00af00; text-decoration-color: #00af00\">250</span>, <span style=\"color: #00af00; text-decoration-color: #00af00\">64</span>)        │            <span style=\"color: #00af00; text-decoration-color: #00af00\">256</span> │ conv1d_4[<span style=\"color: #00af00; text-decoration-color: #00af00\">0</span>][<span style=\"color: #00af00; text-decoration-color: #00af00\">0</span>]         │\n",
              "│ (<span style=\"color: #0087ff; text-decoration-color: #0087ff\">BatchNormalization</span>)      │                        │                │                        │\n",
              "├───────────────────────────┼────────────────────────┼────────────────┼────────────────────────┤\n",
              "│ re_lu_4 (<span style=\"color: #0087ff; text-decoration-color: #0087ff\">ReLU</span>)            │ (<span style=\"color: #00d7ff; text-decoration-color: #00d7ff\">None</span>, <span style=\"color: #00af00; text-decoration-color: #00af00\">250</span>, <span style=\"color: #00af00; text-decoration-color: #00af00\">64</span>)        │              <span style=\"color: #00af00; text-decoration-color: #00af00\">0</span> │ batch_normalization_4… │\n",
              "├───────────────────────────┼────────────────────────┼────────────────┼────────────────────────┤\n",
              "│ conv1d_5 (<span style=\"color: #0087ff; text-decoration-color: #0087ff\">Conv1D</span>)         │ (<span style=\"color: #00d7ff; text-decoration-color: #00d7ff\">None</span>, <span style=\"color: #00af00; text-decoration-color: #00af00\">250</span>, <span style=\"color: #00af00; text-decoration-color: #00af00\">64</span>)        │         <span style=\"color: #00af00; text-decoration-color: #00af00\">12,352</span> │ re_lu_4[<span style=\"color: #00af00; text-decoration-color: #00af00\">0</span>][<span style=\"color: #00af00; text-decoration-color: #00af00\">0</span>]          │\n",
              "├───────────────────────────┼────────────────────────┼────────────────┼────────────────────────┤\n",
              "│ batch_normalization_5     │ (<span style=\"color: #00d7ff; text-decoration-color: #00d7ff\">None</span>, <span style=\"color: #00af00; text-decoration-color: #00af00\">250</span>, <span style=\"color: #00af00; text-decoration-color: #00af00\">64</span>)        │            <span style=\"color: #00af00; text-decoration-color: #00af00\">256</span> │ conv1d_5[<span style=\"color: #00af00; text-decoration-color: #00af00\">0</span>][<span style=\"color: #00af00; text-decoration-color: #00af00\">0</span>]         │\n",
              "│ (<span style=\"color: #0087ff; text-decoration-color: #0087ff\">BatchNormalization</span>)      │                        │                │                        │\n",
              "├───────────────────────────┼────────────────────────┼────────────────┼────────────────────────┤\n",
              "│ add_2 (<span style=\"color: #0087ff; text-decoration-color: #0087ff\">Add</span>)               │ (<span style=\"color: #00d7ff; text-decoration-color: #00d7ff\">None</span>, <span style=\"color: #00af00; text-decoration-color: #00af00\">250</span>, <span style=\"color: #00af00; text-decoration-color: #00af00\">64</span>)        │              <span style=\"color: #00af00; text-decoration-color: #00af00\">0</span> │ batch_normalization_5… │\n",
              "│                           │                        │                │ re_lu_3[<span style=\"color: #00af00; text-decoration-color: #00af00\">0</span>][<span style=\"color: #00af00; text-decoration-color: #00af00\">0</span>]          │\n",
              "├───────────────────────────┼────────────────────────┼────────────────┼────────────────────────┤\n",
              "│ re_lu_5 (<span style=\"color: #0087ff; text-decoration-color: #0087ff\">ReLU</span>)            │ (<span style=\"color: #00d7ff; text-decoration-color: #00d7ff\">None</span>, <span style=\"color: #00af00; text-decoration-color: #00af00\">250</span>, <span style=\"color: #00af00; text-decoration-color: #00af00\">64</span>)        │              <span style=\"color: #00af00; text-decoration-color: #00af00\">0</span> │ add_2[<span style=\"color: #00af00; text-decoration-color: #00af00\">0</span>][<span style=\"color: #00af00; text-decoration-color: #00af00\">0</span>]            │\n",
              "├───────────────────────────┼────────────────────────┼────────────────┼────────────────────────┤\n",
              "│ conv1d_6 (<span style=\"color: #0087ff; text-decoration-color: #0087ff\">Conv1D</span>)         │ (<span style=\"color: #00d7ff; text-decoration-color: #00d7ff\">None</span>, <span style=\"color: #00af00; text-decoration-color: #00af00\">250</span>, <span style=\"color: #00af00; text-decoration-color: #00af00\">64</span>)        │         <span style=\"color: #00af00; text-decoration-color: #00af00\">12,352</span> │ re_lu_5[<span style=\"color: #00af00; text-decoration-color: #00af00\">0</span>][<span style=\"color: #00af00; text-decoration-color: #00af00\">0</span>]          │\n",
              "├───────────────────────────┼────────────────────────┼────────────────┼────────────────────────┤\n",
              "│ batch_normalization_6     │ (<span style=\"color: #00d7ff; text-decoration-color: #00d7ff\">None</span>, <span style=\"color: #00af00; text-decoration-color: #00af00\">250</span>, <span style=\"color: #00af00; text-decoration-color: #00af00\">64</span>)        │            <span style=\"color: #00af00; text-decoration-color: #00af00\">256</span> │ conv1d_6[<span style=\"color: #00af00; text-decoration-color: #00af00\">0</span>][<span style=\"color: #00af00; text-decoration-color: #00af00\">0</span>]         │\n",
              "│ (<span style=\"color: #0087ff; text-decoration-color: #0087ff\">BatchNormalization</span>)      │                        │                │                        │\n",
              "├───────────────────────────┼────────────────────────┼────────────────┼────────────────────────┤\n",
              "│ re_lu_6 (<span style=\"color: #0087ff; text-decoration-color: #0087ff\">ReLU</span>)            │ (<span style=\"color: #00d7ff; text-decoration-color: #00d7ff\">None</span>, <span style=\"color: #00af00; text-decoration-color: #00af00\">250</span>, <span style=\"color: #00af00; text-decoration-color: #00af00\">64</span>)        │              <span style=\"color: #00af00; text-decoration-color: #00af00\">0</span> │ batch_normalization_6… │\n",
              "├───────────────────────────┼────────────────────────┼────────────────┼────────────────────────┤\n",
              "│ conv1d_7 (<span style=\"color: #0087ff; text-decoration-color: #0087ff\">Conv1D</span>)         │ (<span style=\"color: #00d7ff; text-decoration-color: #00d7ff\">None</span>, <span style=\"color: #00af00; text-decoration-color: #00af00\">250</span>, <span style=\"color: #00af00; text-decoration-color: #00af00\">64</span>)        │         <span style=\"color: #00af00; text-decoration-color: #00af00\">12,352</span> │ re_lu_6[<span style=\"color: #00af00; text-decoration-color: #00af00\">0</span>][<span style=\"color: #00af00; text-decoration-color: #00af00\">0</span>]          │\n",
              "├───────────────────────────┼────────────────────────┼────────────────┼────────────────────────┤\n",
              "│ batch_normalization_7     │ (<span style=\"color: #00d7ff; text-decoration-color: #00d7ff\">None</span>, <span style=\"color: #00af00; text-decoration-color: #00af00\">250</span>, <span style=\"color: #00af00; text-decoration-color: #00af00\">64</span>)        │            <span style=\"color: #00af00; text-decoration-color: #00af00\">256</span> │ conv1d_7[<span style=\"color: #00af00; text-decoration-color: #00af00\">0</span>][<span style=\"color: #00af00; text-decoration-color: #00af00\">0</span>]         │\n",
              "│ (<span style=\"color: #0087ff; text-decoration-color: #0087ff\">BatchNormalization</span>)      │                        │                │                        │\n",
              "├───────────────────────────┼────────────────────────┼────────────────┼────────────────────────┤\n",
              "│ add_3 (<span style=\"color: #0087ff; text-decoration-color: #0087ff\">Add</span>)               │ (<span style=\"color: #00d7ff; text-decoration-color: #00d7ff\">None</span>, <span style=\"color: #00af00; text-decoration-color: #00af00\">250</span>, <span style=\"color: #00af00; text-decoration-color: #00af00\">64</span>)        │              <span style=\"color: #00af00; text-decoration-color: #00af00\">0</span> │ batch_normalization_7… │\n",
              "│                           │                        │                │ re_lu_5[<span style=\"color: #00af00; text-decoration-color: #00af00\">0</span>][<span style=\"color: #00af00; text-decoration-color: #00af00\">0</span>]          │\n",
              "├───────────────────────────┼────────────────────────┼────────────────┼────────────────────────┤\n",
              "│ re_lu_7 (<span style=\"color: #0087ff; text-decoration-color: #0087ff\">ReLU</span>)            │ (<span style=\"color: #00d7ff; text-decoration-color: #00d7ff\">None</span>, <span style=\"color: #00af00; text-decoration-color: #00af00\">250</span>, <span style=\"color: #00af00; text-decoration-color: #00af00\">64</span>)        │              <span style=\"color: #00af00; text-decoration-color: #00af00\">0</span> │ add_3[<span style=\"color: #00af00; text-decoration-color: #00af00\">0</span>][<span style=\"color: #00af00; text-decoration-color: #00af00\">0</span>]            │\n",
              "├───────────────────────────┼────────────────────────┼────────────────┼────────────────────────┤\n",
              "│ conv1d_8 (<span style=\"color: #0087ff; text-decoration-color: #0087ff\">Conv1D</span>)         │ (<span style=\"color: #00d7ff; text-decoration-color: #00d7ff\">None</span>, <span style=\"color: #00af00; text-decoration-color: #00af00\">250</span>, <span style=\"color: #00af00; text-decoration-color: #00af00\">1</span>)         │             <span style=\"color: #00af00; text-decoration-color: #00af00\">65</span> │ re_lu_7[<span style=\"color: #00af00; text-decoration-color: #00af00\">0</span>][<span style=\"color: #00af00; text-decoration-color: #00af00\">0</span>]          │\n",
              "└───────────────────────────┴────────────────────────┴────────────────┴────────────────────────┘\n",
              "</pre>\n"
            ]
          },
          "metadata": {}
        },
        {
          "output_type": "display_data",
          "data": {
            "text/plain": [
              "\u001b[1m Total params: \u001b[0m\u001b[38;5;34m88,833\u001b[0m (347.00 KB)\n"
            ],
            "text/html": [
              "<pre style=\"white-space:pre;overflow-x:auto;line-height:normal;font-family:Menlo,'DejaVu Sans Mono',consolas,'Courier New',monospace\"><span style=\"font-weight: bold\"> Total params: </span><span style=\"color: #00af00; text-decoration-color: #00af00\">88,833</span> (347.00 KB)\n",
              "</pre>\n"
            ]
          },
          "metadata": {}
        },
        {
          "output_type": "display_data",
          "data": {
            "text/plain": [
              "\u001b[1m Trainable params: \u001b[0m\u001b[38;5;34m87,809\u001b[0m (343.00 KB)\n"
            ],
            "text/html": [
              "<pre style=\"white-space:pre;overflow-x:auto;line-height:normal;font-family:Menlo,'DejaVu Sans Mono',consolas,'Courier New',monospace\"><span style=\"font-weight: bold\"> Trainable params: </span><span style=\"color: #00af00; text-decoration-color: #00af00\">87,809</span> (343.00 KB)\n",
              "</pre>\n"
            ]
          },
          "metadata": {}
        },
        {
          "output_type": "display_data",
          "data": {
            "text/plain": [
              "\u001b[1m Non-trainable params: \u001b[0m\u001b[38;5;34m1,024\u001b[0m (4.00 KB)\n"
            ],
            "text/html": [
              "<pre style=\"white-space:pre;overflow-x:auto;line-height:normal;font-family:Menlo,'DejaVu Sans Mono',consolas,'Courier New',monospace\"><span style=\"font-weight: bold\"> Non-trainable params: </span><span style=\"color: #00af00; text-decoration-color: #00af00\">1,024</span> (4.00 KB)\n",
              "</pre>\n"
            ]
          },
          "metadata": {}
        }
      ]
    },
    {
      "cell_type": "code",
      "source": [
        "# Reshape data for TCN input\n",
        "X_train = X_train.reshape(-1, window_size, 1)\n",
        "X_val = X_val.reshape(-1, window_size, 1)\n",
        "X_test = X_test.reshape(-1, window_size, 1)\n",
        "\n",
        "# Train the model\n",
        "history = model.fit(X_train, y_train, validation_data=(X_val, y_val), epochs=50, batch_size=32)"
      ],
      "metadata": {
        "colab": {
          "base_uri": "https://localhost:8080/"
        },
        "id": "ynyO9zZQyLry",
        "outputId": "7d566c96-5411-4315-b714-f3d4a363942f"
      },
      "execution_count": 16,
      "outputs": [
        {
          "output_type": "stream",
          "name": "stdout",
          "text": [
            "Epoch 1/50\n",
            "\u001b[1m3848/3848\u001b[0m \u001b[32m━━━━━━━━━━━━━━━━━━━━\u001b[0m\u001b[37m\u001b[0m \u001b[1m38s\u001b[0m 7ms/step - accuracy: 0.9316 - loss: 0.1851 - val_accuracy: 0.9446 - val_loss: 0.1548\n",
            "Epoch 2/50\n",
            "\u001b[1m3848/3848\u001b[0m \u001b[32m━━━━━━━━━━━━━━━━━━━━\u001b[0m\u001b[37m\u001b[0m \u001b[1m34s\u001b[0m 6ms/step - accuracy: 0.9461 - loss: 0.1492 - val_accuracy: 0.9478 - val_loss: 0.1424\n",
            "Epoch 3/50\n",
            "\u001b[1m3848/3848\u001b[0m \u001b[32m━━━━━━━━━━━━━━━━━━━━\u001b[0m\u001b[37m\u001b[0m \u001b[1m40s\u001b[0m 6ms/step - accuracy: 0.9517 - loss: 0.1365 - val_accuracy: 0.9538 - val_loss: 0.1339\n",
            "Epoch 4/50\n",
            "\u001b[1m3848/3848\u001b[0m \u001b[32m━━━━━━━━━━━━━━━━━━━━\u001b[0m\u001b[37m\u001b[0m \u001b[1m23s\u001b[0m 6ms/step - accuracy: 0.9548 - loss: 0.1289 - val_accuracy: 0.9547 - val_loss: 0.1312\n",
            "Epoch 5/50\n",
            "\u001b[1m3848/3848\u001b[0m \u001b[32m━━━━━━━━━━━━━━━━━━━━\u001b[0m\u001b[37m\u001b[0m \u001b[1m22s\u001b[0m 6ms/step - accuracy: 0.9563 - loss: 0.1253 - val_accuracy: 0.9571 - val_loss: 0.1263\n",
            "Epoch 6/50\n",
            "\u001b[1m3848/3848\u001b[0m \u001b[32m━━━━━━━━━━━━━━━━━━━━\u001b[0m\u001b[37m\u001b[0m \u001b[1m42s\u001b[0m 6ms/step - accuracy: 0.9575 - loss: 0.1231 - val_accuracy: 0.9593 - val_loss: 0.1192\n",
            "Epoch 7/50\n",
            "\u001b[1m3848/3848\u001b[0m \u001b[32m━━━━━━━━━━━━━━━━━━━━\u001b[0m\u001b[37m\u001b[0m \u001b[1m41s\u001b[0m 6ms/step - accuracy: 0.9584 - loss: 0.1205 - val_accuracy: 0.9596 - val_loss: 0.1172\n",
            "Epoch 8/50\n",
            "\u001b[1m3848/3848\u001b[0m \u001b[32m━━━━━━━━━━━━━━━━━━━━\u001b[0m\u001b[37m\u001b[0m \u001b[1m41s\u001b[0m 6ms/step - accuracy: 0.9592 - loss: 0.1185 - val_accuracy: 0.9596 - val_loss: 0.1186\n",
            "Epoch 9/50\n",
            "\u001b[1m3848/3848\u001b[0m \u001b[32m━━━━━━━━━━━━━━━━━━━━\u001b[0m\u001b[37m\u001b[0m \u001b[1m41s\u001b[0m 6ms/step - accuracy: 0.9598 - loss: 0.1166 - val_accuracy: 0.9609 - val_loss: 0.1130\n",
            "Epoch 10/50\n",
            "\u001b[1m3848/3848\u001b[0m \u001b[32m━━━━━━━━━━━━━━━━━━━━\u001b[0m\u001b[37m\u001b[0m \u001b[1m23s\u001b[0m 6ms/step - accuracy: 0.9603 - loss: 0.1153 - val_accuracy: 0.9598 - val_loss: 0.1156\n",
            "Epoch 11/50\n",
            "\u001b[1m3848/3848\u001b[0m \u001b[32m━━━━━━━━━━━━━━━━━━━━\u001b[0m\u001b[37m\u001b[0m \u001b[1m43s\u001b[0m 6ms/step - accuracy: 0.9607 - loss: 0.1136 - val_accuracy: 0.9608 - val_loss: 0.1151\n",
            "Epoch 12/50\n",
            "\u001b[1m3848/3848\u001b[0m \u001b[32m━━━━━━━━━━━━━━━━━━━━\u001b[0m\u001b[37m\u001b[0m \u001b[1m39s\u001b[0m 6ms/step - accuracy: 0.9611 - loss: 0.1130 - val_accuracy: 0.9613 - val_loss: 0.1131\n",
            "Epoch 13/50\n",
            "\u001b[1m3848/3848\u001b[0m \u001b[32m━━━━━━━━━━━━━━━━━━━━\u001b[0m\u001b[37m\u001b[0m \u001b[1m41s\u001b[0m 6ms/step - accuracy: 0.9612 - loss: 0.1125 - val_accuracy: 0.9614 - val_loss: 0.1125\n",
            "Epoch 14/50\n",
            "\u001b[1m3848/3848\u001b[0m \u001b[32m━━━━━━━━━━━━━━━━━━━━\u001b[0m\u001b[37m\u001b[0m \u001b[1m40s\u001b[0m 6ms/step - accuracy: 0.9615 - loss: 0.1118 - val_accuracy: 0.9610 - val_loss: 0.1141\n",
            "Epoch 15/50\n",
            "\u001b[1m3848/3848\u001b[0m \u001b[32m━━━━━━━━━━━━━━━━━━━━\u001b[0m\u001b[37m\u001b[0m \u001b[1m23s\u001b[0m 6ms/step - accuracy: 0.9615 - loss: 0.1123 - val_accuracy: 0.9609 - val_loss: 0.1151\n",
            "Epoch 16/50\n",
            "\u001b[1m3848/3848\u001b[0m \u001b[32m━━━━━━━━━━━━━━━━━━━━\u001b[0m\u001b[37m\u001b[0m \u001b[1m23s\u001b[0m 6ms/step - accuracy: 0.9621 - loss: 0.1097 - val_accuracy: 0.9634 - val_loss: 0.1080\n",
            "Epoch 17/50\n",
            "\u001b[1m3848/3848\u001b[0m \u001b[32m━━━━━━━━━━━━━━━━━━━━\u001b[0m\u001b[37m\u001b[0m \u001b[1m41s\u001b[0m 6ms/step - accuracy: 0.9626 - loss: 0.1093 - val_accuracy: 0.9604 - val_loss: 0.1141\n",
            "Epoch 18/50\n",
            "\u001b[1m3848/3848\u001b[0m \u001b[32m━━━━━━━━━━━━━━━━━━━━\u001b[0m\u001b[37m\u001b[0m \u001b[1m41s\u001b[0m 6ms/step - accuracy: 0.9620 - loss: 0.1106 - val_accuracy: 0.9622 - val_loss: 0.1096\n",
            "Epoch 19/50\n",
            "\u001b[1m3848/3848\u001b[0m \u001b[32m━━━━━━━━━━━━━━━━━━━━\u001b[0m\u001b[37m\u001b[0m \u001b[1m23s\u001b[0m 6ms/step - accuracy: 0.9626 - loss: 0.1092 - val_accuracy: 0.9611 - val_loss: 0.1138\n",
            "Epoch 20/50\n",
            "\u001b[1m3848/3848\u001b[0m \u001b[32m━━━━━━━━━━━━━━━━━━━━\u001b[0m\u001b[37m\u001b[0m \u001b[1m23s\u001b[0m 6ms/step - accuracy: 0.9627 - loss: 0.1084 - val_accuracy: 0.9620 - val_loss: 0.1107\n",
            "Epoch 21/50\n",
            "\u001b[1m3848/3848\u001b[0m \u001b[32m━━━━━━━━━━━━━━━━━━━━\u001b[0m\u001b[37m\u001b[0m \u001b[1m41s\u001b[0m 6ms/step - accuracy: 0.9626 - loss: 0.1092 - val_accuracy: 0.9637 - val_loss: 0.1062\n",
            "Epoch 22/50\n",
            "\u001b[1m3848/3848\u001b[0m \u001b[32m━━━━━━━━━━━━━━━━━━━━\u001b[0m\u001b[37m\u001b[0m \u001b[1m25s\u001b[0m 7ms/step - accuracy: 0.9628 - loss: 0.1080 - val_accuracy: 0.9631 - val_loss: 0.1089\n",
            "Epoch 23/50\n",
            "\u001b[1m3848/3848\u001b[0m \u001b[32m━━━━━━━━━━━━━━━━━━━━\u001b[0m\u001b[37m\u001b[0m \u001b[1m23s\u001b[0m 6ms/step - accuracy: 0.9632 - loss: 0.1070 - val_accuracy: 0.9630 - val_loss: 0.1083\n",
            "Epoch 24/50\n",
            "\u001b[1m3848/3848\u001b[0m \u001b[32m━━━━━━━━━━━━━━━━━━━━\u001b[0m\u001b[37m\u001b[0m \u001b[1m22s\u001b[0m 6ms/step - accuracy: 0.9633 - loss: 0.1072 - val_accuracy: 0.9638 - val_loss: 0.1064\n",
            "Epoch 25/50\n",
            "\u001b[1m3848/3848\u001b[0m \u001b[32m━━━━━━━━━━━━━━━━━━━━\u001b[0m\u001b[37m\u001b[0m \u001b[1m23s\u001b[0m 6ms/step - accuracy: 0.9635 - loss: 0.1059 - val_accuracy: 0.9638 - val_loss: 0.1061\n",
            "Epoch 26/50\n",
            "\u001b[1m3848/3848\u001b[0m \u001b[32m━━━━━━━━━━━━━━━━━━━━\u001b[0m\u001b[37m\u001b[0m \u001b[1m23s\u001b[0m 6ms/step - accuracy: 0.9635 - loss: 0.1063 - val_accuracy: 0.9632 - val_loss: 0.1077\n",
            "Epoch 27/50\n",
            "\u001b[1m3848/3848\u001b[0m \u001b[32m━━━━━━━━━━━━━━━━━━━━\u001b[0m\u001b[37m\u001b[0m \u001b[1m25s\u001b[0m 6ms/step - accuracy: 0.9633 - loss: 0.1070 - val_accuracy: 0.9626 - val_loss: 0.1095\n",
            "Epoch 28/50\n",
            "\u001b[1m3848/3848\u001b[0m \u001b[32m━━━━━━━━━━━━━━━━━━━━\u001b[0m\u001b[37m\u001b[0m \u001b[1m25s\u001b[0m 6ms/step - accuracy: 0.9636 - loss: 0.1059 - val_accuracy: 0.9640 - val_loss: 0.1054\n",
            "Epoch 29/50\n",
            "\u001b[1m3848/3848\u001b[0m \u001b[32m━━━━━━━━━━━━━━━━━━━━\u001b[0m\u001b[37m\u001b[0m \u001b[1m39s\u001b[0m 6ms/step - accuracy: 0.9635 - loss: 0.1069 - val_accuracy: 0.9632 - val_loss: 0.1078\n",
            "Epoch 30/50\n",
            "\u001b[1m3848/3848\u001b[0m \u001b[32m━━━━━━━━━━━━━━━━━━━━\u001b[0m\u001b[37m\u001b[0m \u001b[1m41s\u001b[0m 6ms/step - accuracy: 0.9639 - loss: 0.1052 - val_accuracy: 0.9626 - val_loss: 0.1087\n",
            "Epoch 31/50\n",
            "\u001b[1m3848/3848\u001b[0m \u001b[32m━━━━━━━━━━━━━━━━━━━━\u001b[0m\u001b[37m\u001b[0m \u001b[1m23s\u001b[0m 6ms/step - accuracy: 0.9638 - loss: 0.1054 - val_accuracy: 0.9641 - val_loss: 0.1047\n",
            "Epoch 32/50\n",
            "\u001b[1m3848/3848\u001b[0m \u001b[32m━━━━━━━━━━━━━━━━━━━━\u001b[0m\u001b[37m\u001b[0m \u001b[1m25s\u001b[0m 6ms/step - accuracy: 0.9641 - loss: 0.1045 - val_accuracy: 0.9639 - val_loss: 0.1058\n",
            "Epoch 33/50\n",
            "\u001b[1m3848/3848\u001b[0m \u001b[32m━━━━━━━━━━━━━━━━━━━━\u001b[0m\u001b[37m\u001b[0m \u001b[1m39s\u001b[0m 6ms/step - accuracy: 0.9641 - loss: 0.1043 - val_accuracy: 0.9638 - val_loss: 0.1063\n",
            "Epoch 34/50\n",
            "\u001b[1m3848/3848\u001b[0m \u001b[32m━━━━━━━━━━━━━━━━━━━━\u001b[0m\u001b[37m\u001b[0m \u001b[1m41s\u001b[0m 6ms/step - accuracy: 0.9642 - loss: 0.1048 - val_accuracy: 0.9639 - val_loss: 0.1061\n",
            "Epoch 35/50\n",
            "\u001b[1m3848/3848\u001b[0m \u001b[32m━━━━━━━━━━━━━━━━━━━━\u001b[0m\u001b[37m\u001b[0m \u001b[1m40s\u001b[0m 6ms/step - accuracy: 0.9642 - loss: 0.1047 - val_accuracy: 0.9639 - val_loss: 0.1061\n",
            "Epoch 36/50\n",
            "\u001b[1m3848/3848\u001b[0m \u001b[32m━━━━━━━━━━━━━━━━━━━━\u001b[0m\u001b[37m\u001b[0m \u001b[1m22s\u001b[0m 6ms/step - accuracy: 0.9645 - loss: 0.1033 - val_accuracy: 0.9643 - val_loss: 0.1048\n",
            "Epoch 37/50\n",
            "\u001b[1m3848/3848\u001b[0m \u001b[32m━━━━━━━━━━━━━━━━━━━━\u001b[0m\u001b[37m\u001b[0m \u001b[1m23s\u001b[0m 6ms/step - accuracy: 0.9641 - loss: 0.1046 - val_accuracy: 0.9646 - val_loss: 0.1036\n",
            "Epoch 38/50\n",
            "\u001b[1m3848/3848\u001b[0m \u001b[32m━━━━━━━━━━━━━━━━━━━━\u001b[0m\u001b[37m\u001b[0m \u001b[1m41s\u001b[0m 6ms/step - accuracy: 0.9648 - loss: 0.1029 - val_accuracy: 0.9624 - val_loss: 0.1100\n",
            "Epoch 39/50\n",
            "\u001b[1m3848/3848\u001b[0m \u001b[32m━━━━━━━━━━━━━━━━━━━━\u001b[0m\u001b[37m\u001b[0m \u001b[1m25s\u001b[0m 7ms/step - accuracy: 0.9649 - loss: 0.1025 - val_accuracy: 0.9643 - val_loss: 0.1048\n",
            "Epoch 40/50\n",
            "\u001b[1m3848/3848\u001b[0m \u001b[32m━━━━━━━━━━━━━━━━━━━━\u001b[0m\u001b[37m\u001b[0m \u001b[1m23s\u001b[0m 6ms/step - accuracy: 0.9645 - loss: 0.1035 - val_accuracy: 0.9631 - val_loss: 0.1076\n",
            "Epoch 41/50\n",
            "\u001b[1m3848/3848\u001b[0m \u001b[32m━━━━━━━━━━━━━━━━━━━━\u001b[0m\u001b[37m\u001b[0m \u001b[1m41s\u001b[0m 6ms/step - accuracy: 0.9645 - loss: 0.1034 - val_accuracy: 0.9633 - val_loss: 0.1066\n",
            "Epoch 42/50\n",
            "\u001b[1m3848/3848\u001b[0m \u001b[32m━━━━━━━━━━━━━━━━━━━━\u001b[0m\u001b[37m\u001b[0m \u001b[1m41s\u001b[0m 6ms/step - accuracy: 0.9647 - loss: 0.1030 - val_accuracy: 0.9649 - val_loss: 0.1025\n",
            "Epoch 43/50\n",
            "\u001b[1m3848/3848\u001b[0m \u001b[32m━━━━━━━━━━━━━━━━━━━━\u001b[0m\u001b[37m\u001b[0m \u001b[1m25s\u001b[0m 7ms/step - accuracy: 0.9649 - loss: 0.1025 - val_accuracy: 0.9630 - val_loss: 0.1087\n",
            "Epoch 44/50\n",
            "\u001b[1m3848/3848\u001b[0m \u001b[32m━━━━━━━━━━━━━━━━━━━━\u001b[0m\u001b[37m\u001b[0m \u001b[1m38s\u001b[0m 6ms/step - accuracy: 0.9647 - loss: 0.1027 - val_accuracy: 0.9643 - val_loss: 0.1055\n",
            "Epoch 45/50\n",
            "\u001b[1m3848/3848\u001b[0m \u001b[32m━━━━━━━━━━━━━━━━━━━━\u001b[0m\u001b[37m\u001b[0m \u001b[1m23s\u001b[0m 6ms/step - accuracy: 0.9647 - loss: 0.1027 - val_accuracy: 0.9650 - val_loss: 0.1020\n",
            "Epoch 46/50\n",
            "\u001b[1m3848/3848\u001b[0m \u001b[32m━━━━━━━━━━━━━━━━━━━━\u001b[0m\u001b[37m\u001b[0m \u001b[1m22s\u001b[0m 6ms/step - accuracy: 0.9649 - loss: 0.1024 - val_accuracy: 0.9652 - val_loss: 0.1020\n",
            "Epoch 47/50\n",
            "\u001b[1m3848/3848\u001b[0m \u001b[32m━━━━━━━━━━━━━━━━━━━━\u001b[0m\u001b[37m\u001b[0m \u001b[1m23s\u001b[0m 6ms/step - accuracy: 0.9648 - loss: 0.1032 - val_accuracy: 0.9647 - val_loss: 0.1032\n",
            "Epoch 48/50\n",
            "\u001b[1m3848/3848\u001b[0m \u001b[32m━━━━━━━━━━━━━━━━━━━━\u001b[0m\u001b[37m\u001b[0m \u001b[1m40s\u001b[0m 6ms/step - accuracy: 0.9649 - loss: 0.1025 - val_accuracy: 0.9650 - val_loss: 0.1018\n",
            "Epoch 49/50\n",
            "\u001b[1m3848/3848\u001b[0m \u001b[32m━━━━━━━━━━━━━━━━━━━━\u001b[0m\u001b[37m\u001b[0m \u001b[1m45s\u001b[0m 7ms/step - accuracy: 0.9650 - loss: 0.1015 - val_accuracy: 0.9644 - val_loss: 0.1047\n",
            "Epoch 50/50\n",
            "\u001b[1m3848/3848\u001b[0m \u001b[32m━━━━━━━━━━━━━━━━━━━━\u001b[0m\u001b[37m\u001b[0m \u001b[1m38s\u001b[0m 6ms/step - accuracy: 0.9650 - loss: 0.1021 - val_accuracy: 0.9651 - val_loss: 0.1019\n"
          ]
        }
      ]
    },
    {
      "cell_type": "code",
      "source": [
        "# Evaluate on the test set\n",
        "test_loss, test_acc = model.evaluate(X_test, y_test)\n",
        "print(f\"Test Accuracy: {test_acc}\")\n",
        "\n",
        "# Predict on the test set\n",
        "y_pred = model.predict(X_test)\n",
        "y_pred = (y_pred > 0.5).astype(int)  # Convert probabilities to binary masks\n",
        "\n",
        "# Visualize predictions\n",
        "import matplotlib.pyplot as plt\n",
        "\n",
        "plt.figure(figsize=(15, 6))\n",
        "plt.plot(X_test[0].flatten(), label='ECG Signal')\n",
        "plt.plot(y_test[0].flatten(), label='Ground Truth Mask')\n",
        "plt.plot(y_pred[0].flatten(), label='Predicted Mask')\n",
        "plt.title('ECG Signal with QRS Masks')\n",
        "plt.xlabel('Samples')\n",
        "plt.ylabel('Amplitude')\n",
        "plt.legend()\n",
        "plt.show()"
      ],
      "metadata": {
        "colab": {
          "base_uri": "https://localhost:8080/",
          "height": 618
        },
        "id": "cCkmZpMryOSr",
        "outputId": "5cc80053-af46-4dab-98f2-208d4281c244"
      },
      "execution_count": 17,
      "outputs": [
        {
          "output_type": "stream",
          "name": "stdout",
          "text": [
            "\u001b[1m1203/1203\u001b[0m \u001b[32m━━━━━━━━━━━━━━━━━━━━\u001b[0m\u001b[37m\u001b[0m \u001b[1m5s\u001b[0m 4ms/step - accuracy: 0.9651 - loss: 0.1018\n",
            "Test Accuracy: 0.9646210074424744\n",
            "\u001b[1m1203/1203\u001b[0m \u001b[32m━━━━━━━━━━━━━━━━━━━━\u001b[0m\u001b[37m\u001b[0m \u001b[1m4s\u001b[0m 3ms/step\n"
          ]
        },
        {
          "output_type": "display_data",
          "data": {
            "text/plain": [
              "<Figure size 1500x600 with 1 Axes>"
            ],
            "image/png": "[encoded data removed]"
          },
          "metadata": {}
        }
      ]
    },
    {
      "cell_type": "code",
      "source": [
        "from keras.saving import save_model\n",
        "\n",
        "# Save the trained model\n",
        "save_model(model,\"/content/drive/MyDrive/Final project/QRS detection/TCN/Norm_model.keras\")\n",
        "model.save(\"/content/drive/MyDrive/Final project/QRS detection/TCN/Norm_model.keras\")"
      ],
      "metadata": {
        "id": "0BcBiMfSAs9f"
      },
      "execution_count": 18,
      "outputs": []
    },
    {
      "cell_type": "code",
      "source": [
        "import wfdb\n",
        "\n",
        "# Load the new ECG signal\n",
        "new_record = wfdb.rdrecord('/content/physionet.org/files/mitdb/1.0.0/100')\n",
        "\n",
        "new_signal = new_record.p_signal[:, 0]  # Use lead I\n",
        "new_fs = new_record.fs  # Sampling frequency\n",
        "\n",
        "# Extract the first 10 seconds\n",
        "first_10_seconds = new_signal[:int(10 * new_fs)]\n",
        "print(first_10_seconds.shape)"
      ],
      "metadata": {
        "colab": {
          "base_uri": "https://localhost:8080/"
        },
        "id": "9D031qP4ymMN",
        "outputId": "60078965-1d16-4ebb-85d8-cd9e5f20de49"
      },
      "execution_count": 19,
      "outputs": [
        {
          "output_type": "stream",
          "name": "stdout",
          "text": [
            "(3600,)\n"
          ]
        }
      ]
    },
    {
      "cell_type": "code",
      "source": [
        "from sklearn.preprocessing import MinMaxScaler\n",
        "import numpy as np\n",
        "\n",
        "first_10_seconds = normalize_signal(smooth_signal(bandpass_filter(first_10_seconds)))\n",
        "\n",
        "first_10_seconds = resample_signal(first_10_seconds, original_fs=new_fs, target_fs=250)\n",
        "# Segment the signal into fixed-length windows\n",
        "def segment_signal(signal, window_size, fs):\n",
        "    segments = []\n",
        "    for i in range(0, len(signal) - window_size, window_size // 2):  # 50% overlap\n",
        "        segment = signal[i:i + window_size]\n",
        "        segments.append(segment)\n",
        "    return np.array(segments)\n",
        "\n",
        "window_size = int(1 * new_fs)  # 1-second window\n",
        "new_segments = segment_signal(first_10_seconds, window_size, new_fs)\n",
        "\n",
        "# Reshape for TCN input\n",
        "new_segments = new_segments.reshape(-1, window_size, 1)\n",
        "print(new_segments.shape)"
      ],
      "metadata": {
        "colab": {
          "base_uri": "https://localhost:8080/"
        },
        "id": "0dVsOQBgyubc",
        "outputId": "0e27ba10-8386-478f-84e0-e434e4a86ead"
      },
      "execution_count": 20,
      "outputs": [
        {
          "output_type": "stream",
          "name": "stdout",
          "text": [
            "(12, 360, 1)\n"
          ]
        }
      ]
    },
    {
      "cell_type": "code",
      "source": [
        "# Predict QRS regions\n",
        "y_pred = model.predict(new_segments)\n",
        "print(y_pred)\n",
        "y_pred = (y_pred > 0.5).astype(int)  # Convert probabilities to binary masks\n",
        "print(y_pred[y_pred > 0])  # P\n",
        "# Combine predictions into a single mask\n",
        "full_mask = np.zeros(len(first_10_seconds))\n",
        "for i, segment in enumerate(new_segments):\n",
        "    start = i * (window_size // 2)\n",
        "    end = start + window_size\n",
        "    full_mask[start:end] = np.maximum(full_mask[start:end], y_pred[i].flatten())\n"
      ],
      "metadata": {
        "colab": {
          "base_uri": "https://localhost:8080/"
        },
        "id": "O0sDoTeEyxWP",
        "outputId": "6190a02a-4de1-4fbb-ea5b-790732b9e013"
      },
      "execution_count": 21,
      "outputs": [
        {
          "output_type": "stream",
          "name": "stdout",
          "text": [
            "\u001b[1m1/1\u001b[0m \u001b[32m━━━━━━━━━━━━━━━━━━━━\u001b[0m\u001b[37m\u001b[0m \u001b[1m1s\u001b[0m 1s/step\n",
            "[[[4.16257754e-02]\n",
            "  [1.07586481e-01]\n",
            "  [2.75725365e-01]\n",
            "  ...\n",
            "  [8.95612175e-04]\n",
            "  [2.43943781e-04]\n",
            "  [1.08703633e-03]]\n",
            "\n",
            " [[3.01812477e-02]\n",
            "  [8.12393241e-03]\n",
            "  [8.20339750e-03]\n",
            "  ...\n",
            "  [7.04154233e-03]\n",
            "  [9.40895267e-03]\n",
            "  [1.94069720e-03]]\n",
            "\n",
            " [[3.65678705e-02]\n",
            "  [1.65545288e-02]\n",
            "  [9.52115376e-03]\n",
            "  ...\n",
            "  [7.35561305e-04]\n",
            "  [2.95173435e-04]\n",
            "  [2.62170564e-04]]\n",
            "\n",
            " ...\n",
            "\n",
            " [[5.16119041e-02]\n",
            "  [4.19249870e-02]\n",
            "  [2.00898889e-02]\n",
            "  ...\n",
            "  [1.25576058e-04]\n",
            "  [2.69855052e-04]\n",
            "  [5.85333211e-04]]\n",
            "\n",
            " [[3.78299393e-02]\n",
            "  [8.62963498e-03]\n",
            "  [4.71913489e-03]\n",
            "  ...\n",
            "  [2.24888464e-03]\n",
            "  [7.09620072e-04]\n",
            "  [2.73793004e-03]]\n",
            "\n",
            " [[4.19279039e-02]\n",
            "  [1.90399196e-02]\n",
            "  [1.14307515e-02]\n",
            "  ...\n",
            "  [1.80896781e-02]\n",
            "  [6.29223324e-03]\n",
            "  [1.56402420e-02]]]\n",
            "[1 1 1 1 1 1 1 1 1 1 1 1 1 1 1 1 1 1 1 1 1 1 1 1 1 1 1 1 1 1 1 1 1 1 1 1 1\n",
            " 1 1 1 1 1 1 1 1 1 1 1 1 1 1 1 1 1 1 1 1 1 1 1 1 1 1 1 1 1 1 1 1 1 1 1 1 1\n",
            " 1 1 1 1 1 1 1 1 1 1 1 1 1 1 1 1 1 1 1 1 1 1 1 1 1 1 1 1 1 1 1 1 1 1 1 1 1\n",
            " 1 1 1 1 1 1 1 1 1 1 1 1 1 1 1 1 1 1 1 1 1 1 1 1 1 1 1 1 1 1 1 1 1 1 1 1 1\n",
            " 1 1 1 1 1 1 1 1 1 1 1 1 1 1 1 1 1 1 1 1 1 1 1 1 1 1 1 1 1 1 1 1 1 1 1 1 1\n",
            " 1 1 1 1 1 1 1 1 1 1 1 1 1 1 1 1 1 1 1 1 1 1 1 1 1 1 1 1 1 1 1 1 1 1 1 1 1\n",
            " 1 1 1 1 1 1 1 1 1 1 1 1 1 1 1 1 1 1 1 1 1 1 1 1 1 1 1 1 1 1 1 1 1 1 1 1 1\n",
            " 1 1 1 1 1 1 1 1 1 1 1 1 1 1 1 1 1 1 1 1 1 1 1 1 1 1 1 1 1 1 1 1 1 1 1 1 1\n",
            " 1 1 1 1 1 1 1 1 1 1 1 1 1 1 1 1 1 1 1]\n"
          ]
        }
      ]
    },
    {
      "cell_type": "code",
      "source": [
        "def extract_qrs_from_mask(mask):\n",
        "    qrs_regions = []\n",
        "    start = None\n",
        "    for i in range(len(mask)):\n",
        "        if mask[i] == 1 and start is None:  # Start of QRS region\n",
        "            start = i\n",
        "        elif mask[i] == 0 and start is not None:  # End of QRS region\n",
        "            end = i\n",
        "            qrs_regions.append((start, end))\n",
        "            start = None\n",
        "    return qrs_regions\n",
        "\n",
        "qrs_regions = extract_qrs_from_mask(full_mask)\n",
        "print(qrs_regions)"
      ],
      "metadata": {
        "colab": {
          "base_uri": "https://localhost:8080/"
        },
        "id": "7cT9wTPay1Yi",
        "outputId": "e0284057-5a58-4fc4-e6b6-d4b34455fe3e"
      },
      "execution_count": 22,
      "outputs": [
        {
          "output_type": "stream",
          "name": "stdout",
          "text": [
            "[(46, 51), (54, 62), (247, 263), (453, 456), (457, 460), (461, 468), (645, 665), (845, 846), (847, 864), (1043, 1047), (1049, 1051), (1053, 1061), (1249, 1252), (1253, 1256), (1257, 1267), (1411, 1412), (1413, 1419), (1422, 1427), (1661, 1662), (1663, 1664), (1665, 1669), (1670, 1674), (1869, 1870), (1873, 1876), (1877, 1878), (1881, 1888), (2073, 2077), (2078, 2089), (2273, 2287)]\n"
          ]
        }
      ]
    },
    {
      "cell_type": "code",
      "source": [
        "import matplotlib.pyplot as plt\n",
        "\n",
        "# Plot the first 10 seconds of the ECG signal\n",
        "plt.figure(figsize=(15, 6))\n",
        "plt.plot(first_10_seconds, label='ECG Signal', color='b')\n",
        "\n",
        "# Highlight QRS regions\n",
        "for start, end in qrs_regions:\n",
        "    plt.axvspan(start, end, color='r', alpha=0.3, label='QRS Region' if start == qrs_regions[0][0] else \"\")\n",
        "\n",
        "plt.title('First 10 Seconds of ECG Signal with Detected QRS Regions')\n",
        "plt.xlabel('Samples')\n",
        "plt.ylabel('Amplitude')\n",
        "#plt.plot(y_pred[0].flatten(), label='Predicted Mask')\n",
        "plt.legend()\n",
        "plt.show()"
      ],
      "metadata": {
        "colab": {
          "base_uri": "https://localhost:8080/",
          "height": 564
        },
        "id": "Vs33MI6yy5Zy",
        "outputId": "b1f97996-9f6a-4371-80b9-68bb56706e9e"
      },
      "execution_count": 23,
      "outputs": [
        {
          "output_type": "display_data",
          "data": {
            "text/plain": [
              "<Figure size 1500x600 with 1 Axes>"
            ],
            "image/png": "[encoded data removed]"
          },
          "metadata": {}
        }
      ]
    }
  ]
}