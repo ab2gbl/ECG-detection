{
 "cells": [
  {
   "cell_type": "code",
   "execution_count": 1,
   "id": "883e20ef",
   "metadata": {
    "_cell_guid": "b1076dfc-b9ad-4769-8c92-a6c4dae69d19",
    "_uuid": "8f2839f25d086af736a60e9eeb907d3b93b6e0e5",
    "execution": {
     "iopub.execute_input": "2025-05-29T10:13:31.858671Z",
     "iopub.status.busy": "2025-05-29T10:13:31.858249Z",
     "iopub.status.idle": "2025-05-29T10:13:37.710498Z",
     "shell.execute_reply": "2025-05-29T10:13:37.709355Z"
    },
    "papermill": {
     "duration": 5.859307,
     "end_time": "2025-05-29T10:13:37.712399",
     "exception": false,
     "start_time": "2025-05-29T10:13:31.853092",
     "status": "completed"
    },
    "tags": []
   },
   "outputs": [
    {
     "name": "stdout",
     "output_type": "stream",
     "text": [
      "Collecting wfdb\r\n",
      "  Downloading wfdb-4.3.0-py3-none-any.whl.metadata (3.8 kB)\r\n",
      "Requirement already satisfied: aiohttp>=3.10.11 in /usr/local/lib/python3.11/dist-packages (from wfdb) (3.11.18)\r\n",
      "Requirement already satisfied: fsspec>=2023.10.0 in /usr/local/lib/python3.11/dist-packages (from wfdb) (2025.3.2)\r\n",
      "Requirement already satisfied: matplotlib>=3.2.2 in /usr/local/lib/python3.11/dist-packages (from wfdb) (3.7.2)\r\n",
      "Requirement already satisfied: numpy>=1.26.4 in /usr/local/lib/python3.11/dist-packages (from wfdb) (1.26.4)\r\n",
      "Requirement already satisfied: pandas>=2.2.3 in /usr/local/lib/python3.11/dist-packages (from wfdb) (2.2.3)\r\n",
      "Requirement already satisfied: requests>=2.8.1 in /usr/local/lib/python3.11/dist-packages (from wfdb) (2.32.3)\r\n",
      "Requirement already satisfied: scipy>=1.13.0 in /usr/local/lib/python3.11/dist-packages (from wfdb) (1.15.2)\r\n",
      "Requirement already satisfied: soundfile>=0.10.0 in /usr/local/lib/python3.11/dist-packages (from wfdb) (0.13.1)\r\n",
      "Requirement already satisfied: aiohappyeyeballs>=2.3.0 in /usr/local/lib/python3.11/dist-packages (from aiohttp>=3.10.11->wfdb) (2.6.1)\r\n",
      "Requirement already satisfied: aiosignal>=1.1.2 in /usr/local/lib/python3.11/dist-packages (from aiohttp>=3.10.11->wfdb) (1.3.2)\r\n",
      "Requirement already satisfied: attrs>=17.3.0 in /usr/local/lib/python3.11/dist-packages (from aiohttp>=3.10.11->wfdb) (25.3.0)\r\n",
      "Requirement already satisfied: frozenlist>=1.1.1 in /usr/local/lib/python3.11/dist-packages (from aiohttp>=3.10.11->wfdb) (1.6.0)\r\n",
      "Requirement already satisfied: multidict<7.0,>=4.5 in /usr/local/lib/python3.11/dist-packages (from aiohttp>=3.10.11->wfdb) (6.4.3)\r\n",
      "Requirement already satisfied: propcache>=0.2.0 in /usr/local/lib/python3.11/dist-packages (from aiohttp>=3.10.11->wfdb) (0.3.1)\r\n",
      "Requirement already satisfied: yarl<2.0,>=1.17.0 in /usr/local/lib/python3.11/dist-packages (from aiohttp>=3.10.11->wfdb) (1.20.0)\r\n",
      "Requirement already satisfied: contourpy>=1.0.1 in /usr/local/lib/python3.11/dist-packages (from matplotlib>=3.2.2->wfdb) (1.3.1)\r\n",
      "Requirement already satisfied: cycler>=0.10 in /usr/local/lib/python3.11/dist-packages (from matplotlib>=3.2.2->wfdb) (0.12.1)\r\n",
      "Requirement already satisfied: fonttools>=4.22.0 in /usr/local/lib/python3.11/dist-packages (from matplotlib>=3.2.2->wfdb) (4.57.0)\r\n",
      "Requirement already satisfied: kiwisolver>=1.0.1 in /usr/local/lib/python3.11/dist-packages (from matplotlib>=3.2.2->wfdb) (1.4.8)\r\n",
      "Requirement already satisfied: packaging>=20.0 in /usr/local/lib/python3.11/dist-packages (from matplotlib>=3.2.2->wfdb) (25.0)\r\n",
      "Requirement already satisfied: pillow>=6.2.0 in /usr/local/lib/python3.11/dist-packages (from matplotlib>=3.2.2->wfdb) (11.1.0)\r\n",
      "Requirement already satisfied: pyparsing<3.1,>=2.3.1 in /usr/local/lib/python3.11/dist-packages (from matplotlib>=3.2.2->wfdb) (3.0.9)\r\n",
      "Requirement already satisfied: python-dateutil>=2.7 in /usr/local/lib/python3.11/dist-packages (from matplotlib>=3.2.2->wfdb) (2.9.0.post0)\r\n",
      "Requirement already satisfied: mkl_fft in /usr/local/lib/python3.11/dist-packages (from numpy>=1.26.4->wfdb) (1.3.8)\r\n",
      "Requirement already satisfied: mkl_random in /usr/local/lib/python3.11/dist-packages (from numpy>=1.26.4->wfdb) (1.2.4)\r\n",
      "Requirement already satisfied: mkl_umath in /usr/local/lib/python3.11/dist-packages (from numpy>=1.26.4->wfdb) (0.1.1)\r\n",
      "Requirement already satisfied: mkl in /usr/local/lib/python3.11/dist-packages (from numpy>=1.26.4->wfdb) (2025.1.0)\r\n",
      "Requirement already satisfied: tbb4py in /usr/local/lib/python3.11/dist-packages (from numpy>=1.26.4->wfdb) (2022.1.0)\r\n",
      "Requirement already satisfied: mkl-service in /usr/local/lib/python3.11/dist-packages (from numpy>=1.26.4->wfdb) (2.4.1)\r\n",
      "Requirement already satisfied: pytz>=2020.1 in /usr/local/lib/python3.11/dist-packages (from pandas>=2.2.3->wfdb) (2025.2)\r\n",
      "Requirement already satisfied: tzdata>=2022.7 in /usr/local/lib/python3.11/dist-packages (from pandas>=2.2.3->wfdb) (2025.2)\r\n",
      "Requirement already satisfied: charset-normalizer<4,>=2 in /usr/local/lib/python3.11/dist-packages (from requests>=2.8.1->wfdb) (3.4.2)\r\n",
      "Requirement already satisfied: idna<4,>=2.5 in /usr/local/lib/python3.11/dist-packages (from requests>=2.8.1->wfdb) (3.10)\r\n",
      "Requirement already satisfied: urllib3<3,>=1.21.1 in /usr/local/lib/python3.11/dist-packages (from requests>=2.8.1->wfdb) (2.4.0)\r\n",
      "Requirement already satisfied: certifi>=2017.4.17 in /usr/local/lib/python3.11/dist-packages (from requests>=2.8.1->wfdb) (2025.4.26)\r\n",
      "Requirement already satisfied: cffi>=1.0 in /usr/local/lib/python3.11/dist-packages (from soundfile>=0.10.0->wfdb) (1.17.1)\r\n",
      "Requirement already satisfied: pycparser in /usr/local/lib/python3.11/dist-packages (from cffi>=1.0->soundfile>=0.10.0->wfdb) (2.22)\r\n",
      "Requirement already satisfied: six>=1.5 in /usr/local/lib/python3.11/dist-packages (from python-dateutil>=2.7->matplotlib>=3.2.2->wfdb) (1.17.0)\r\n",
      "Requirement already satisfied: intel-openmp<2026,>=2024 in /usr/local/lib/python3.11/dist-packages (from mkl->numpy>=1.26.4->wfdb) (2024.2.0)\r\n",
      "Requirement already satisfied: tbb==2022.* in /usr/local/lib/python3.11/dist-packages (from mkl->numpy>=1.26.4->wfdb) (2022.1.0)\r\n",
      "Requirement already satisfied: tcmlib==1.* in /usr/local/lib/python3.11/dist-packages (from tbb==2022.*->mkl->numpy>=1.26.4->wfdb) (1.3.0)\r\n",
      "Requirement already satisfied: intel-cmplr-lib-rt in /usr/local/lib/python3.11/dist-packages (from mkl_umath->numpy>=1.26.4->wfdb) (2024.2.0)\r\n",
      "Requirement already satisfied: intel-cmplr-lib-ur==2024.2.0 in /usr/local/lib/python3.11/dist-packages (from intel-openmp<2026,>=2024->mkl->numpy>=1.26.4->wfdb) (2024.2.0)\r\n",
      "Downloading wfdb-4.3.0-py3-none-any.whl (163 kB)\r\n",
      "\u001b[2K   \u001b[90m━━━━━━━━━━━━━━━━━━━━━━━━━━━━━━━━━━━━━━━━\u001b[0m \u001b[32m163.8/163.8 kB\u001b[0m \u001b[31m3.4 MB/s\u001b[0m eta \u001b[36m0:00:00\u001b[0m\r\n",
      "\u001b[?25hInstalling collected packages: wfdb\r\n",
      "Successfully installed wfdb-4.3.0\r\n"
     ]
    }
   ],
   "source": [
    "!pip install wfdb"
   ]
  },
  {
   "cell_type": "code",
   "execution_count": 2,
   "id": "1f344f59",
   "metadata": {
    "execution": {
     "iopub.execute_input": "2025-05-29T10:13:37.722242Z",
     "iopub.status.busy": "2025-05-29T10:13:37.721847Z",
     "iopub.status.idle": "2025-05-29T10:13:37.729866Z",
     "shell.execute_reply": "2025-05-29T10:13:37.728963Z"
    },
    "papermill": {
     "duration": 0.014775,
     "end_time": "2025-05-29T10:13:37.731505",
     "exception": false,
     "start_time": "2025-05-29T10:13:37.716730",
     "status": "completed"
    },
    "tags": []
   },
   "outputs": [],
   "source": [
    "def flatten_feature_dict(d, keep_sums_for=None, keep_means_for=None):\n",
    "    if keep_sums_for is None:\n",
    "        keep_sums_for = {'T_inversion', 'Premature_beat', 'Bigeminy', 'Trigeminy'}\n",
    "    if keep_means_for is None:\n",
    "        keep_means_for = {'T_inversion', 'Premature_beat', 'Bigeminy', 'Trigeminy'}\n",
    "\n",
    "    flat = {}\n",
    "    for k, v in d.items():\n",
    "        if isinstance(v, dict):\n",
    "            for subk, subv in v.items():\n",
    "                if pd.isna(subv):\n",
    "                    continue  # Skip NaNs entirely\n",
    "                # Always keep mean values\n",
    "                if subk == 'mean':\n",
    "                    flat[f'{k}_{subk}'] = subv\n",
    "                # Keep sum only for specified features\n",
    "                elif subk == 'sum' and k in keep_sums_for:\n",
    "                    flat[f'{k}_{subk}'] = subv\n",
    "                # Keep min, max, std for non-binary columns\n",
    "                elif subk in {'min', 'max', 'std'} and k not in keep_sums_for:\n",
    "                    flat[f'{k}_{subk}'] = subv\n",
    "        else:\n",
    "            if not pd.isna(v):\n",
    "                flat[k] = v\n",
    "    return flat"
   ]
  },
  {
   "cell_type": "code",
   "execution_count": 3,
   "id": "b9cd1ec1",
   "metadata": {
    "execution": {
     "iopub.execute_input": "2025-05-29T10:13:37.741511Z",
     "iopub.status.busy": "2025-05-29T10:13:37.741166Z",
     "iopub.status.idle": "2025-05-29T10:13:37.753040Z",
     "shell.execute_reply": "2025-05-29T10:13:37.751828Z"
    },
    "papermill": {
     "duration": 0.019106,
     "end_time": "2025-05-29T10:13:37.754663",
     "exception": false,
     "start_time": "2025-05-29T10:13:37.735557",
     "status": "completed"
    },
    "tags": []
   },
   "outputs": [],
   "source": [
    "from collections import Counter\n",
    "def extract_signal_features(df_signal):\n",
    "    # Aggregation\n",
    "    agg_funcs = {\n",
    "        'Duree_QRS_ms': ['mean', 'std', 'min', 'max'],\n",
    "        'Duree_P_ms': ['mean', 'std', 'min', 'max'],\n",
    "        'Duree_T_ms': ['mean', 'std', 'min', 'max'],\n",
    "        'Intervalle_QT_ms': ['mean', 'std', 'min', 'max'],\n",
    "        'Intervalle_PR_ms': ['mean', 'std', 'min', 'max'],\n",
    "        'Intervalle_ST_ms': ['mean', 'std', 'min', 'max'],\n",
    "        'Amplitude_P': ['mean', 'std', 'min', 'max'],\n",
    "        'Amplitude_Q': ['mean', 'std', 'min', 'max'],\n",
    "        'Amplitude_R': ['mean', 'std', 'min', 'max'],\n",
    "        'Amplitude_S': ['mean', 'std', 'min', 'max'],\n",
    "        'Amplitude_T': ['mean', 'std', 'min', 'max'],\n",
    "        'T/R_ratio': ['mean', 'std', 'min', 'max'],\n",
    "        'P/R_ratio': ['mean', 'std', 'min', 'max'],\n",
    "        'QRS_area': ['mean', 'std', 'min', 'max'],\n",
    "        'Slope_QR': ['mean', 'std', 'min', 'max'],\n",
    "        'Slope_RS': ['mean', 'std', 'min', 'max'],\n",
    "        'Heart_rate_bpm': ['mean', 'std', 'min', 'max'],\n",
    "        'Local_RMSSD': ['mean', 'std', 'min', 'max'],\n",
    "        'T_inversion': ['sum', 'mean'],\n",
    "        'Premature_beat': ['sum'],\n",
    "        'Bigeminy': ['sum'],\n",
    "        'Trigeminy': ['sum'],\n",
    "    }\n",
    "\n",
    "    agg_df = df_signal.agg(agg_funcs)\n",
    "    agg_df.columns = [''.join(col).strip() for col in agg_df.columns.values]\n",
    "    agg_features = agg_df.to_dict()\n",
    "\n",
    "    beat_types = df_signal['Type'].tolist()\n",
    "    type_counts = Counter(beat_types)\n",
    "    total_beats = len(df_signal)\n",
    "\n",
    "    type_features = {\n",
    "        f'count_{t}': type_counts.get(t, 0)\n",
    "        for t in ['N', 'L', 'R', '/', 'V', 'else']\n",
    "    }\n",
    "    type_features.update({\n",
    "        f'ratio_{t}': type_counts.get(t, 0) / total_beats if total_beats > 0 else 0\n",
    "        for t in ['N', 'L', 'R', '/', 'V', 'else']\n",
    "    })\n",
    "\n",
    "    derived_features = {\n",
    "        'percent_T_inversion': df_signal['T_inversion'].mean(),\n",
    "        'QRS_prolonged_ratio': (df_signal['Duree_QRS_ms'] > 120).mean(),\n",
    "        'QT_prolonged_ratio': (df_signal['Intervalle_QT_ms'] > 450).mean(),\n",
    "        'PVC_ratio': type_counts.get('V', 0) / total_beats if total_beats > 0 else 0,\n",
    "        'num_beats': total_beats,\n",
    "        'std_Intervalle_RR_ms': df_signal['Intervalle_RR_ms'].std(skipna=True)\n",
    "    }\n",
    "\n",
    "    signal_features = {\n",
    "        **agg_features,\n",
    "        **type_features,\n",
    "        **derived_features\n",
    "    }\n",
    "\n",
    "    \n",
    "    # Then standardize the keys\n",
    "    return flatten_feature_dict(signal_features)\n"
   ]
  },
  {
   "cell_type": "code",
   "execution_count": 4,
   "id": "c5e6acd7",
   "metadata": {
    "execution": {
     "iopub.execute_input": "2025-05-29T10:13:37.764094Z",
     "iopub.status.busy": "2025-05-29T10:13:37.763738Z",
     "iopub.status.idle": "2025-05-29T10:13:45.261181Z",
     "shell.execute_reply": "2025-05-29T10:13:45.260163Z"
    },
    "papermill": {
     "duration": 7.503989,
     "end_time": "2025-05-29T10:13:45.262791",
     "exception": false,
     "start_time": "2025-05-29T10:13:37.758802",
     "status": "completed"
    },
    "tags": []
   },
   "outputs": [
    {
     "data": {
      "text/plain": [
       "433741"
      ]
     },
     "execution_count": 4,
     "metadata": {},
     "output_type": "execute_result"
    }
   ],
   "source": [
    "\n",
    "import pandas as pd\n",
    "beats1_df = pd.read_csv(\"/kaggle/input/comp-2021-features-extraction-0-to-29417/ecg-comp-2021-features.csv\")\n",
    "beats1_df = beats1_df[beats1_df['Duree_QRS_ms'] >= 40]\n",
    "beats1_df.count()[\"record_name\"]"
   ]
  },
  {
   "cell_type": "code",
   "execution_count": 5,
   "id": "ef2f2c08",
   "metadata": {
    "execution": {
     "iopub.execute_input": "2025-05-29T10:13:45.271918Z",
     "iopub.status.busy": "2025-05-29T10:13:45.271602Z",
     "iopub.status.idle": "2025-05-29T10:13:45.278100Z",
     "shell.execute_reply": "2025-05-29T10:13:45.277230Z"
    },
    "papermill": {
     "duration": 0.01294,
     "end_time": "2025-05-29T10:13:45.279725",
     "exception": false,
     "start_time": "2025-05-29T10:13:45.266785",
     "status": "completed"
    },
    "tags": []
   },
   "outputs": [
    {
     "data": {
      "text/plain": [
       "<pandas.core.groupby.generic.DataFrameGroupBy object at 0x7d486ec39990>"
      ]
     },
     "execution_count": 5,
     "metadata": {},
     "output_type": "execute_result"
    }
   ],
   "source": [
    "beats1_df.groupby('record_name')"
   ]
  },
  {
   "cell_type": "code",
   "execution_count": 6,
   "id": "47624d07",
   "metadata": {
    "execution": {
     "iopub.execute_input": "2025-05-29T10:13:45.288905Z",
     "iopub.status.busy": "2025-05-29T10:13:45.288539Z",
     "iopub.status.idle": "2025-05-29T10:39:29.128246Z",
     "shell.execute_reply": "2025-05-29T10:39:29.127059Z"
    },
    "papermill": {
     "duration": 1543.84671,
     "end_time": "2025-05-29T10:39:29.130481",
     "exception": false,
     "start_time": "2025-05-29T10:13:45.283771",
     "status": "completed"
    },
    "tags": []
   },
   "outputs": [],
   "source": [
    "import pandas as pd\n",
    "paths = {\n",
    "    \"/kaggle/input/comp-2021-features-extraction-0-to-29417\",\n",
    "    \"/kaggle/input/comp-2021-features-extraction-v2-29417-to-58834\",\n",
    "    \"/kaggle/input/comp-2021-features-extraction-v3-58834-to-73543\",\n",
    "    \"/kaggle/input/comp-2021-features-extraction-v4-73543-to-end\"\n",
    "}\n",
    "p = 0\n",
    "for path in paths:\n",
    "    p+=1\n",
    "    beats1_df = pd.read_csv(path+\"/ecg-comp-2021-features.csv\")\n",
    "    beats1_df = beats1_df[beats1_df['Duree_QRS_ms'] >= 40]\n",
    "    beats1_df.count()[\"record_name\"]\n",
    "    signal_feature_list = []\n",
    "    \n",
    "    for record_name, group_df in beats1_df.groupby('record_name'):\n",
    "        features = extract_signal_features(group_df)\n",
    "        features['record_name'] = record_name\n",
    "    \n",
    "        signal_feature_list.append(features)\n",
    "    \n",
    "    df_signal_features = pd.DataFrame(signal_feature_list)\n",
    "    df_signal_features = df_signal_features[['record_name'] + [col for col in df_signal_features.columns if col != 'record_name']]\n",
    "    df_signal_features.to_csv(f\"comp_2021_v{p}_signal_features.csv\",index=False)"
   ]
  },
  {
   "cell_type": "code",
   "execution_count": 7,
   "id": "903ab389",
   "metadata": {
    "execution": {
     "iopub.execute_input": "2025-05-29T10:39:29.140577Z",
     "iopub.status.busy": "2025-05-29T10:39:29.140266Z",
     "iopub.status.idle": "2025-05-29T10:39:29.147347Z",
     "shell.execute_reply": "2025-05-29T10:39:29.146429Z"
    },
    "papermill": {
     "duration": 0.013526,
     "end_time": "2025-05-29T10:39:29.148812",
     "exception": false,
     "start_time": "2025-05-29T10:39:29.135286",
     "status": "completed"
    },
    "tags": []
   },
   "outputs": [
    {
     "data": {
      "text/plain": [
       "Index(['record_name', 'Duree_QRS_ms_mean', 'Duree_QRS_ms_std',\n",
       "       'Duree_QRS_ms_min', 'Duree_QRS_ms_max', 'Duree_P_ms_mean',\n",
       "       'Duree_P_ms_std', 'Duree_P_ms_min', 'Duree_P_ms_max', 'Duree_T_ms_mean',\n",
       "       'Duree_T_ms_std', 'Duree_T_ms_min', 'Duree_T_ms_max',\n",
       "       'Intervalle_QT_ms_mean', 'Intervalle_QT_ms_std', 'Intervalle_QT_ms_min',\n",
       "       'Intervalle_QT_ms_max', 'Intervalle_PR_ms_mean', 'Intervalle_PR_ms_std',\n",
       "       'Intervalle_PR_ms_min', 'Intervalle_PR_ms_max', 'Intervalle_ST_ms_mean',\n",
       "       'Intervalle_ST_ms_std', 'Intervalle_ST_ms_min', 'Intervalle_ST_ms_max',\n",
       "       'Amplitude_P_mean', 'Amplitude_P_std', 'Amplitude_P_min',\n",
       "       'Amplitude_P_max', 'Amplitude_Q_mean', 'Amplitude_Q_std',\n",
       "       'Amplitude_Q_min', 'Amplitude_Q_max', 'Amplitude_R_mean',\n",
       "       'Amplitude_R_std', 'Amplitude_R_min', 'Amplitude_R_max',\n",
       "       'Amplitude_S_mean', 'Amplitude_S_std', 'Amplitude_S_min',\n",
       "       'Amplitude_S_max', 'Amplitude_T_mean', 'Amplitude_T_std',\n",
       "       'Amplitude_T_min', 'Amplitude_T_max', 'T/R_ratio_mean', 'T/R_ratio_std',\n",
       "       'T/R_ratio_min', 'T/R_ratio_max', 'P/R_ratio_mean', 'P/R_ratio_std',\n",
       "       'P/R_ratio_min', 'P/R_ratio_max', 'QRS_area_mean', 'QRS_area_std',\n",
       "       'QRS_area_min', 'QRS_area_max', 'Slope_QR_mean', 'Slope_QR_std',\n",
       "       'Slope_QR_min', 'Slope_QR_max', 'Slope_RS_mean', 'Slope_RS_std',\n",
       "       'Slope_RS_min', 'Slope_RS_max', 'Heart_rate_bpm_mean',\n",
       "       'Heart_rate_bpm_std', 'Heart_rate_bpm_min', 'Heart_rate_bpm_max',\n",
       "       'Local_RMSSD_mean', 'Local_RMSSD_std', 'Local_RMSSD_min',\n",
       "       'Local_RMSSD_max', 'T_inversion_mean', 'T_inversion_sum',\n",
       "       'Premature_beat_sum', 'Bigeminy_sum', 'Trigeminy_sum', 'count_N',\n",
       "       'count_L', 'count_R', 'count_/', 'count_V', 'count_else', 'ratio_N',\n",
       "       'ratio_L', 'ratio_R', 'ratio_/', 'ratio_V', 'ratio_else',\n",
       "       'percent_T_inversion', 'QRS_prolonged_ratio', 'QT_prolonged_ratio',\n",
       "       'PVC_ratio', 'num_beats', 'std_Intervalle_RR_ms'],\n",
       "      dtype='object')"
      ]
     },
     "execution_count": 7,
     "metadata": {},
     "output_type": "execute_result"
    }
   ],
   "source": [
    "df_signal_features.columns"
   ]
  },
  {
   "cell_type": "code",
   "execution_count": 8,
   "id": "121db9d6",
   "metadata": {
    "execution": {
     "iopub.execute_input": "2025-05-29T10:39:29.158542Z",
     "iopub.status.busy": "2025-05-29T10:39:29.158219Z",
     "iopub.status.idle": "2025-05-29T10:39:29.165506Z",
     "shell.execute_reply": "2025-05-29T10:39:29.164456Z"
    },
    "papermill": {
     "duration": 0.014263,
     "end_time": "2025-05-29T10:39:29.167422",
     "exception": false,
     "start_time": "2025-05-29T10:39:29.153159",
     "status": "completed"
    },
    "tags": []
   },
   "outputs": [
    {
     "name": "stdout",
     "output_type": "stream",
     "text": [
      "record_name             training/chapman_shaoxing/g1/JS00001\n",
      "Duree_QRS_ms_mean                                 227.333333\n",
      "Duree_QRS_ms_std                                   94.729336\n",
      "Duree_QRS_ms_min                                        40.0\n",
      "Duree_QRS_ms_max                                       380.0\n",
      "                                        ...                 \n",
      "QRS_prolonged_ratio                                 0.777778\n",
      "QT_prolonged_ratio                                  0.166667\n",
      "PVC_ratio                                                0.0\n",
      "num_beats                                                 18\n",
      "std_Intervalle_RR_ms                              151.173838\n",
      "Name: 0, Length: 96, dtype: object\n"
     ]
    }
   ],
   "source": [
    "print(df_signal_features.iloc[0])"
   ]
  },
  {
   "cell_type": "code",
   "execution_count": 9,
   "id": "808dc358",
   "metadata": {
    "execution": {
     "iopub.execute_input": "2025-05-29T10:39:29.178505Z",
     "iopub.status.busy": "2025-05-29T10:39:29.177810Z",
     "iopub.status.idle": "2025-05-29T10:39:30.947758Z",
     "shell.execute_reply": "2025-05-29T10:39:30.946452Z"
    },
    "papermill": {
     "duration": 1.777312,
     "end_time": "2025-05-29T10:39:30.949701",
     "exception": false,
     "start_time": "2025-05-29T10:39:29.172389",
     "status": "completed"
    },
    "tags": []
   },
   "outputs": [
    {
     "data": {
      "text/plain": [
       "record_name             training/ningbo/g34/JS44560\n",
       "Duree_QRS_ms_mean                        166.117647\n",
       "Duree_QRS_ms_std                          33.320193\n",
       "Duree_QRS_ms_min                              140.0\n",
       "Duree_QRS_ms_max                              272.0\n",
       "                                   ...             \n",
       "std_Intervalle_RR_ms                       6.961801\n",
       "Age                                            None\n",
       "Sex                                            None\n",
       "Dx                                             None\n",
       "Class                                          None\n",
       "Name: 0, Length: 100, dtype: object"
      ]
     },
     "execution_count": 9,
     "metadata": {},
     "output_type": "execute_result"
    }
   ],
   "source": [
    "import wfdb\n",
    "import pandas as pd\n",
    "from tqdm import tqdm  # optional: for progress bar\n",
    "\n",
    "# Load signal features DataFrame\n",
    "sign1_df = pd.read_csv(\"/kaggle/working/comp_2021_v1_signal_features.csv\")\n",
    "sign2_df = pd.read_csv(\"/kaggle/working/comp_2021_v2_signal_features.csv\")\n",
    "sign3_df = pd.read_csv(\"/kaggle/working/comp_2021_v3_signal_features.csv\")\n",
    "sign4_df = pd.read_csv(\"/kaggle/working/comp_2021_v4_signal_features.csv\")\n",
    "\n",
    "arr = [sign1_df,sign2_df,sign3_df,sign4_df]\n",
    "origin_comp_df = pd.concat(arr, ignore_index=True)\n",
    "\n",
    "# Path to the signal f3les\n",
    "signals_path = \"/kaggle/input/signal-classification-data/challenge-2021/\"\n",
    "\n",
    "# Create new columns\n",
    "origin_comp_df[\"Age\"] = None\n",
    "origin_comp_df[\"Sex\"] = None\n",
    "origin_comp_df[\"Dx\"] = None\n",
    "origin_comp_df[\"Class\"] = None\n",
    "\n",
    "origin_comp_df.iloc[0]"
   ]
  },
  {
   "cell_type": "code",
   "execution_count": 10,
   "id": "efc519c4",
   "metadata": {
    "execution": {
     "iopub.execute_input": "2025-05-29T10:39:30.959882Z",
     "iopub.status.busy": "2025-05-29T10:39:30.959540Z",
     "iopub.status.idle": "2025-05-29T10:54:06.308346Z",
     "shell.execute_reply": "2025-05-29T10:54:06.307164Z"
    },
    "papermill": {
     "duration": 875.355745,
     "end_time": "2025-05-29T10:54:06.309886",
     "exception": false,
     "start_time": "2025-05-29T10:39:30.954141",
     "status": "completed"
    },
    "tags": []
   },
   "outputs": [
    {
     "name": "stderr",
     "output_type": "stream",
     "text": [
      "100%|██████████| 88230/88230 [14:35<00:00, 100.80it/s]\n"
     ]
    }
   ],
   "source": [
    "\n",
    "# Iterate over each record and extract metadata\n",
    "for i in tqdm(range(len(origin_comp_df))):\n",
    "#for i in tqdm(range(1)):\n",
    "    \n",
    "    name = str(origin_comp_df.loc[i, \"record_name\"])\n",
    "    \n",
    "    \n",
    "    try:\n",
    "        record = wfdb.rdheader(signals_path + name)\n",
    "        info = {line.split(':')[0].strip(): line.split(':')[1].strip()\n",
    "                for line in record.comments if ':' in line}\n",
    "        \n",
    "        # Store Dx as list\n",
    "        dx_list = info.get(\"Dx\", \"\").split(',') if \"Dx\" in info else []\n",
    "        origin_comp_df.at[i, \"Dx\"] = dx_list\n",
    "\n",
    "        origin_comp_df.loc[i, \"Age\"] = info.get(\"Age\")\n",
    "        origin_comp_df.loc[i, \"Sex\"] = info.get(\"Sex\")\n",
    "        if \"426783006\" in dx_list:\n",
    "            origin_comp_df.loc[i, \"Class\"] = 0\n",
    "        \n",
    "        elif \"426177001\" in dx_list : \n",
    "            origin_comp_df.loc[i, \"Class\"] = 1\n",
    "            \n",
    "        else : \n",
    "            origin_comp_df.loc[i, \"Class\"] = 2\n",
    "            \n",
    "    except Exception as e:\n",
    "        print(f\"Failed to read {name}: {e}\")\n",
    "        continue\n",
    "    "
   ]
  },
  {
   "cell_type": "code",
   "execution_count": 11,
   "id": "580692cb",
   "metadata": {
    "execution": {
     "iopub.execute_input": "2025-05-29T10:54:07.158546Z",
     "iopub.status.busy": "2025-05-29T10:54:07.158192Z",
     "iopub.status.idle": "2025-05-29T10:54:19.093877Z",
     "shell.execute_reply": "2025-05-29T10:54:19.092898Z"
    },
    "papermill": {
     "duration": 12.316237,
     "end_time": "2025-05-29T10:54:19.095727",
     "exception": false,
     "start_time": "2025-05-29T10:54:06.779490",
     "status": "completed"
    },
    "tags": []
   },
   "outputs": [],
   "source": [
    "\n",
    "\n",
    "origin_comp_df.to_csv(\"ecg-comp-2021-signals-features.csv\",index=False)\n",
    "\n"
   ]
  },
  {
   "cell_type": "code",
   "execution_count": 12,
   "id": "fb5f76cd",
   "metadata": {
    "execution": {
     "iopub.execute_input": "2025-05-29T10:54:19.937350Z",
     "iopub.status.busy": "2025-05-29T10:54:19.936403Z",
     "iopub.status.idle": "2025-05-29T10:54:20.109568Z",
     "shell.execute_reply": "2025-05-29T10:54:20.108180Z"
    },
    "papermill": {
     "duration": 0.636973,
     "end_time": "2025-05-29T10:54:20.111612",
     "exception": false,
     "start_time": "2025-05-29T10:54:19.474639",
     "status": "completed"
    },
    "tags": []
   },
   "outputs": [],
   "source": [
    "! rm -f \"/kaggle/working/comp_2021_v1_signal_features.csv\" \"/kaggle/working/comp_2021_v2_signal_features.csv\" \"/kaggle/working/comp_2021_v3_signal_features.csv\" \"/kaggle/working/comp_2021_v4_signal_features.csv\""
   ]
  },
  {
   "cell_type": "code",
   "execution_count": 13,
   "id": "61caaa01",
   "metadata": {
    "execution": {
     "iopub.execute_input": "2025-05-29T10:54:20.878208Z",
     "iopub.status.busy": "2025-05-29T10:54:20.877825Z",
     "iopub.status.idle": "2025-05-29T10:55:27.875108Z",
     "shell.execute_reply": "2025-05-29T10:55:27.873999Z"
    },
    "papermill": {
     "duration": 67.383989,
     "end_time": "2025-05-29T10:55:27.877150",
     "exception": false,
     "start_time": "2025-05-29T10:54:20.493161",
     "status": "completed"
    },
    "tags": []
   },
   "outputs": [],
   "source": [
    "beats1_df = pd.read_csv(\"/kaggle/input/comp-2021-features-extraction-0-to-29417/ecg-comp-2021-features.csv\")\n",
    "beats2_df = pd.read_csv(\"/kaggle/input/comp-2021-features-extraction-v2-29417-to-58834/ecg-comp-2021-features.csv\")\n",
    "beats3_df = pd.read_csv(\"/kaggle/input/comp-2021-features-extraction-v3-58834-to-73543/ecg-comp-2021-features.csv\")\n",
    "beats4_df = pd.read_csv(\"/kaggle/input/comp-2021-features-extraction-v4-73543-to-end/ecg-comp-2021-features.csv\")\n",
    "\n",
    "arr1 = [beats1_df,beats2_df,beats3_df,beats4_df]\n",
    "origin_beats_df = pd.concat(arr1, ignore_index=True)\n",
    "origin_beats_df.to_csv(\"ecg-comp-2021-beats-features.csv\", index=False)"
   ]
  }
 ],
 "metadata": {
  "kaggle": {
   "accelerator": "none",
   "dataSources": [
    {
     "datasetId": 7418085,
     "sourceId": 11811064,
     "sourceType": "datasetVersion"
    },
    {
     "sourceId": 242222055,
     "sourceType": "kernelVersion"
    },
    {
     "sourceId": 242222196,
     "sourceType": "kernelVersion"
    },
    {
     "sourceId": 242222831,
     "sourceType": "kernelVersion"
    },
    {
     "sourceId": 242222950,
     "sourceType": "kernelVersion"
    }
   ],
   "dockerImageVersionId": 31040,
   "isGpuEnabled": false,
   "isInternetEnabled": true,
   "language": "python",
   "sourceType": "notebook"
  },
  "kernelspec": {
   "display_name": "Python 3",
   "language": "python",
   "name": "python3"
  },
  "language_info": {
   "codemirror_mode": {
    "name": "ipython",
    "version": 3
   },
   "file_extension": ".py",
   "mimetype": "text/x-python",
   "name": "python",
   "nbconvert_exporter": "python",
   "pygments_lexer": "ipython3",
   "version": "3.11.11"
  },
  "papermill": {
   "default_parameters": {},
   "duration": 2523.862011,
   "end_time": "2025-05-29T10:55:29.495351",
   "environment_variables": {},
   "exception": null,
   "input_path": "__notebook__.ipynb",
   "output_path": "__notebook__.ipynb",
   "parameters": {},
   "start_time": "2025-05-29T10:13:25.633340",
   "version": "2.6.0"
  }
 },
 "nbformat": 4,
 "nbformat_minor": 5
}
